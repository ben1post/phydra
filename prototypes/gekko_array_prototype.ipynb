{
 "cells": [
  {
   "cell_type": "code",
   "execution_count": 42,
   "metadata": {},
   "outputs": [],
   "source": [
    "import numpy as np\n",
    "from gekko import GEKKO\n",
    "from scipy.integrate import odeint\n",
    "import matplotlib.pyplot as plt\n",
    "\n",
    "m = GEKKO(remote=False)    # create GEKKO model\n",
    "\n",
    "halfsat_const = m.Param(0.1, name='halfsat')\n",
    "N0 = m.Param(1., name='n0')\n",
    "inflow_rate = m.Param(0.1, name='inflow rate')\n",
    "mortality_rate = m.Param(0.1, name='mortality rate')\n",
    "\n",
    "N = m.SV(1, lb=0, name='nut')\n",
    "\n",
    "P = m.Array(m.SV, 4)\n",
    "for var in P:\n",
    "    var.lower = 0\n",
    "    var.value = 0.1\n",
    "\n",
    "Parr = [m.SV(0.1, name='P'+str(i)) for i in range(4)]\n"
   ]
  },
  {
   "cell_type": "code",
   "execution_count": 43,
   "metadata": {},
   "outputs": [],
   "source": [
    "def nuptake(N, P, halfsat):\n",
    "    return N/(N+halfsat)*P\n",
    "\n",
    "@np.vectorize\n",
    "def vec_nuptake(N, P, halfsat):\n",
    "    return N/(N+halfsat)*P"
   ]
  },
  {
   "cell_type": "code",
   "execution_count": 48,
   "metadata": {},
   "outputs": [
    {
     "data": {
      "text/plain": [
       "array([((((nut)/((nut+halfsat))))*(p0)), ((((nut)/((nut+halfsat))))*(p1)),\n",
       "       ((((nut)/((nut+halfsat))))*(p2)), ((((nut)/((nut+halfsat))))*(p3))],\n",
       "      dtype=object)"
      ]
     },
     "execution_count": 48,
     "metadata": {},
     "output_type": "execute_result"
    }
   ],
   "source": [
    "np.vectorize(nuptake)(N,Parr,halfsat_const)"
   ]
  },
  {
   "cell_type": "code",
   "execution_count": 59,
   "metadata": {},
   "outputs": [
    {
     "data": {
      "text/plain": [
       "array([((((nut)/((nut+halfsat))))*(v2)), ((((nut)/((nut+halfsat))))*(v3)),\n",
       "       ((((nut)/((nut+halfsat))))*(v4)), ((((nut)/((nut+halfsat))))*(v5))],\n",
       "      dtype=object)"
      ]
     },
     "execution_count": 59,
     "metadata": {},
     "output_type": "execute_result"
    }
   ],
   "source": [
    "testfunc = np.frompyfunc(nuptake, 3, 1)\n",
    "\n",
    "testfunc(N,P,halfsat_const)"
   ]
  },
  {
   "cell_type": "code",
   "execution_count": 47,
   "metadata": {},
   "outputs": [
    {
     "data": {
      "text/plain": [
       "[0, 0, 0, 0]"
      ]
     },
     "execution_count": 47,
     "metadata": {},
     "output_type": "execute_result"
    }
   ],
   "source": [
    "[m.Intermediate(var) for var in vec_nuptake(N,Parr,halfsat_const)]"
   ]
  },
  {
   "cell_type": "code",
   "execution_count": null,
   "metadata": {},
   "outputs": [],
   "source": [
    "t = np.arange(0,10,0.2)\n",
    "m.time = t\n",
    "\n",
    "# Growth under nutrient limitation is described via Monod / Michaelis-Menten kinetics\n",
    "nutlim = m.Intermediate(N/(N+halfsat_const)*P)\n",
    "N_influx = m.Intermediate(N0 * inflow_rate)\n",
    "mortality = m.Intermediate(P * mortality_rate)\n",
    "\n",
    "m.Equation(N.dt()==N_influx - nutlim)\n",
    "m.Equations([[P[i].dt()==nutlim - mortality] for i in range(len(P))])\n",
    "\n",
    "m.options.NODES = 3\n",
    "m.options.IMODE = 7\n",
    "\n",
    "m.solve(disp=True)\n",
    "\n",
    "plt.plot(m.time, N, 'r--', label='N Gekko')\n",
    "plt.plot(m.time, P, 'b--', label='P Gekko')\n",
    "plt.legend()\n",
    "plt.show()"
   ]
  },
  {
   "cell_type": "code",
   "execution_count": null,
   "metadata": {},
   "outputs": [],
   "source": []
  }
 ],
 "metadata": {
  "kernelspec": {
   "display_name": "Python 3",
   "language": "python",
   "name": "python3"
  },
  "language_info": {
   "codemirror_mode": {
    "name": "ipython",
    "version": 3
   },
   "file_extension": ".py",
   "mimetype": "text/x-python",
   "name": "python",
   "nbconvert_exporter": "python",
   "pygments_lexer": "ipython3",
   "version": "3.8.5"
  }
 },
 "nbformat": 4,
 "nbformat_minor": 4
}
