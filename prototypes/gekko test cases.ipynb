{
 "cells": [
  {
   "cell_type": "code",
   "execution_count": null,
   "metadata": {},
   "outputs": [],
   "source": [
    "# Gekko Model construction workflow:\n",
    "import numpy as np\n",
    "# 1. import gekko and create model:\n",
    "from gekko import GEKKO\n",
    "\n",
    "m = GEKKO(remote=False)\n",
    "\n",
    "# 2. define full model dimensionality\n",
    "ni = 100  # number of rows\n",
    "nj = 100  # number of columns\n",
    "\n",
    "\n",
    "xchange = m.Array(m.Var,(ni,nj),value=0.)\n",
    "\n",
    "# initialise components:\n",
    "x = m.Array(m.Var,(ni,nj),value=0.)\n",
    "\n",
    "# init\n",
    "for i in range(ni):\n",
    "    for j in range(nj):\n",
    "        \n",
    "        x[30,30].value = 2.0\n",
    "        x[40,40].value = 2.0\n",
    "        x[50,50].value = 2.0\n",
    "        x[60,60].value = 2.0\n",
    "        \n",
    "\n",
    "#define component_fluxes within grid_cells\n",
    "for i in range(ni):\n",
    "    for j in range(nj):\n",
    "        m.Equation(x[i][j].dt()== xchange[i,j])  # x[i][j]*0.1 +\n",
    "        \n",
    "        \n",
    "#define component_fluxes within grid_cells\n",
    "#for i in range(ni):\n",
    "#    for j in range(nj):\n",
    "        # edges = \n",
    "        \n",
    "        # else = \n",
    "for i in [0,ni-1]:\n",
    "    for j in range(nj-1):\n",
    "        #print(i,j)\n",
    "        m.Equation(xchange[i,j].dt() == 0)\n",
    "        \n",
    "for j in [ni-1,0]:\n",
    "    for i in range(nj-1):\n",
    "        #print(i,j)\n",
    "        m.Equation(xchange[i,j].dt() == 0)\n",
    "\n",
    "for i in range(1,ni-1):\n",
    "    for j in range(1,nj-1):\n",
    "        #print(i,j)\n",
    "        m.Equation(xchange[i,j].dt() == 0.1 * ((x[i+1][j] - 2* x[i,j] + x[i-1,j]) + (x[i][j+1] - 2* x[i,j] + x[i,j-1])) )\n",
    "        \n",
    "# provide time to model\n",
    "t = m.Var(0); m.Equation(t.dt()==1)\n",
    "\n",
    "time = np.arange(0,20)\n",
    "m.time = time\n",
    "\n",
    "m.options.imode = 7\n",
    "m.options.solver = 1\n",
    "m.options.nodes = 3\n",
    "\n",
    "m.solve() # disp=False)\n",
    "print('succesfully solved')"
   ]
  },
  {
   "cell_type": "code",
   "execution_count": null,
   "metadata": {},
   "outputs": [],
   "source": [
    "import matplotlib.pyplot as plt\n",
    "xx = np.array([[x[i][j] for i in range(ni)] for j in range(nj)], dtype='float64')\n",
    "\n",
    "\n",
    "for i in range(20):\n",
    "    \n",
    "    plt.imshow(xx[:,:,i])\n",
    "    plt.show()"
   ]
  },
  {
   "cell_type": "code",
   "execution_count": null,
   "metadata": {},
   "outputs": [],
   "source": []
  },
  {
   "cell_type": "code",
   "execution_count": 3,
   "metadata": {},
   "outputs": [],
   "source": [
    "from gekko import GEKKO"
   ]
  },
  {
   "cell_type": "code",
   "execution_count": 4,
   "metadata": {},
   "outputs": [],
   "source": [
    "a = GEKKO()"
   ]
  },
  {
   "cell_type": "code",
   "execution_count": 5,
   "metadata": {},
   "outputs": [],
   "source": [
    "import numpy"
   ]
  },
  {
   "cell_type": "code",
   "execution_count": null,
   "metadata": {},
   "outputs": [],
   "source": []
  },
  {
   "cell_type": "code",
   "execution_count": 3,
   "metadata": {},
   "outputs": [
    {
     "ename": "ModuleNotFoundError",
     "evalue": "No module named 'matplotlib'",
     "output_type": "error",
     "traceback": [
      "\u001b[0;31m---------------------------------------------------------------------------\u001b[0m",
      "\u001b[0;31mModuleNotFoundError\u001b[0m                       Traceback (most recent call last)",
      "\u001b[0;32m<ipython-input-3-4c2c871145b9>\u001b[0m in \u001b[0;36m<module>\u001b[0;34m\u001b[0m\n\u001b[0;32m----> 1\u001b[0;31m \u001b[0;32mimport\u001b[0m \u001b[0mmatplotlib\u001b[0m\u001b[0;34m.\u001b[0m\u001b[0mpyplot\u001b[0m \u001b[0;32mas\u001b[0m \u001b[0mplt\u001b[0m\u001b[0;34m\u001b[0m\u001b[0;34m\u001b[0m\u001b[0m\n\u001b[0m\u001b[1;32m      2\u001b[0m \u001b[0;31m#xx = np.array(x[0], dtype='float64')\u001b[0m\u001b[0;34m\u001b[0m\u001b[0;34m\u001b[0m\u001b[0;34m\u001b[0m\u001b[0m\n\u001b[1;32m      3\u001b[0m \u001b[0mx\u001b[0m\u001b[0;34m\u001b[0m\u001b[0;34m\u001b[0m\u001b[0m\n\u001b[1;32m      4\u001b[0m \u001b[0;31m#plt.plot(xx)\u001b[0m\u001b[0;34m\u001b[0m\u001b[0;34m\u001b[0m\u001b[0;34m\u001b[0m\u001b[0m\n\u001b[1;32m      5\u001b[0m \u001b[0mplt\u001b[0m\u001b[0;34m.\u001b[0m\u001b[0mshow\u001b[0m\u001b[0;34m(\u001b[0m\u001b[0;34m)\u001b[0m\u001b[0;34m\u001b[0m\u001b[0;34m\u001b[0m\u001b[0m\n",
      "\u001b[0;31mModuleNotFoundError\u001b[0m: No module named 'matplotlib'"
     ]
    }
   ],
   "source": [
    "import matplotlib.pyplot as plt\n",
    "#xx = np.array(x[0], dtype='float64')\n",
    "x\n",
    "#plt.plot(xx)\n",
    "plt.show()"
   ]
  },
  {
   "cell_type": "markdown",
   "metadata": {},
   "source": [
    "TODOlist, for implementing Gekko/XSIMLAB crossover\n",
    "\n",
    "# Follow the design of Gekko! create specific xsimlab wrappers\n",
    "\n",
    "- xs.any_object core keeping track of all necessary params\n",
    "- \n",
    "\n",
    "\n",
    "\n",
    "# I need an xs.any_object core object, that is updated with each component/flux/etc added, that handles gekko \"backend\" and flexibility, as well as parameters and their assignment.\n",
    "\n",
    "# Environment stores grid and passes dims to variables\n",
    "\n",
    "# Fluxes are m.Intermediate\n",
    "# Fluxes contain necessary parameters\n",
    "# Fluxes can be flexibly assigned to Components\n",
    "\n",
    "\n",
    "# Components/SVs store equation/matrix of m.Equations\n",
    "\n",
    "# Gridfluxes are also computed as intermediates\n",
    "\n",
    "#\n",
    "\n",
    "\n",
    "# provide choice for solver, step-wise or gekko\n"
   ]
  },
  {
   "cell_type": "code",
   "execution_count": 2,
   "metadata": {},
   "outputs": [],
   "source": [
    "m = GEKKO(remote=False) "
   ]
  },
  {
   "cell_type": "code",
   "execution_count": null,
   "metadata": {},
   "outputs": [],
   "source": []
  },
  {
   "cell_type": "code",
   "execution_count": null,
   "metadata": {},
   "outputs": [],
   "source": [
    "import numpy as np\n",
    "from gekko import GEKKO\n",
    "import matplotlib.pyplot as plt"
   ]
  },
  {
   "cell_type": "code",
   "execution_count": null,
   "metadata": {},
   "outputs": [],
   "source": [
    "xm = np.array([0,1,2,3,4,5])\n",
    "ym = np.array([0.1,0.2,0.3,0.5,1.0,0.9])\n",
    "\n",
    "m = GEKKO(remote=True)             # create GEKKO model\n",
    "m.options.IMODE = 2     # solution mode\n",
    "x = m.Param(value=np.linspace(-1,6)) # prediction points\n",
    "y = m.Var()             # prediction results\n",
    "m.cspline(x, y, xm, ym) # cubic spline\n",
    "m.solve()#disp=False)     # solve\n",
    "\n",
    "# create plot\n",
    "plt.plot(xm,ym,'bo')\n",
    "plt.plot(x.value,y.value,'r--',label='cubic spline')\n",
    "plt.legend(loc='best')"
   ]
  },
  {
   "cell_type": "code",
   "execution_count": 107,
   "metadata": {},
   "outputs": [
    {
     "data": {
      "text/plain": [
       "[<matplotlib.lines.Line2D at 0x122951f40>]"
      ]
     },
     "execution_count": 107,
     "metadata": {},
     "output_type": "execute_result"
    },
    {
     "data": {
      "image/png": "[encoded data removed]",
      "text/plain": [
       "<Figure size 432x288 with 1 Axes>"
      ]
     },
     "metadata": {
      "needs_background": "light"
     },
     "output_type": "display_data"
    }
   ],
   "source": [
    "data_time = np.arange(365)\n",
    "N0 = np.cos(data_time / 365*2*np.pi) + 1\n",
    "\n",
    "ForcingInt = intrp.CubicSpline(np.arange(len(data_time)*3), np.concatenate([N0,N0,N0], axis=None))\n",
    "\n",
    "plt.plot(N0)\n",
    "\n",
    "plt.plot(ForcingInt(np.arange(500)))"
   ]
  },
  {
   "cell_type": "code",
   "execution_count": 3,
   "metadata": {},
   "outputs": [
    {
     "ename": "TypeError",
     "evalue": "exceptions must derive from BaseException",
     "output_type": "error",
     "traceback": [
      "\u001b[0;31m---------------------------------------------------------------------------\u001b[0m",
      "\u001b[0;31mTypeError\u001b[0m                                 Traceback (most recent call last)",
      "\u001b[0;32m<ipython-input-3-162da32d6681>\u001b[0m in \u001b[0;36m<module>\u001b[0;34m\u001b[0m\n\u001b[0;32m----> 1\u001b[0;31m \u001b[0;32mraise\u001b[0m\u001b[0;34m(\u001b[0m\u001b[0;34m'Hi'\u001b[0m\u001b[0;34m)\u001b[0m\u001b[0;34m\u001b[0m\u001b[0;34m\u001b[0m\u001b[0m\n\u001b[0m",
      "\u001b[0;31mTypeError\u001b[0m: exceptions must derive from BaseException"
     ]
    }
   ],
   "source": [
    "raise('Hi')"
   ]
  },
  {
   "cell_type": "code",
   "execution_count": 4,
   "metadata": {},
   "outputs": [
    {
     "data": {
      "text/plain": [
       "<scipy.interpolate._cubic.CubicSpline at 0x11f06f0e0>"
      ]
     },
     "execution_count": 4,
     "metadata": {},
     "output_type": "execute_result"
    }
   ],
   "source": [
    "ForcingInt"
   ]
  },
  {
   "cell_type": "code",
   "execution_count": 8,
   "metadata": {},
   "outputs": [
    {
     "name": "stdout",
     "output_type": "stream",
     "text": [
      "[1 1]\n",
      "[1 1]\n",
      "object\n",
      "(2,)\n"
     ]
    },
    {
     "ename": "NameError",
     "evalue": "name 'ForcingInt' is not defined",
     "output_type": "error",
     "traceback": [
      "\u001b[0;31m---------------------------------------------------------------------------\u001b[0m",
      "\u001b[0;31mNameError\u001b[0m                                 Traceback (most recent call last)",
      "\u001b[0;32m<ipython-input-8-c19194bdefd5>\u001b[0m in \u001b[0;36m<module>\u001b[0;34m\u001b[0m\n\u001b[1;32m     57\u001b[0m \u001b[0;34m\u001b[0m\u001b[0m\n\u001b[1;32m     58\u001b[0m \u001b[0;34m\u001b[0m\u001b[0m\n\u001b[0;32m---> 59\u001b[0;31m \u001b[0mN0_int\u001b[0m \u001b[0;34m=\u001b[0m \u001b[0mForcingInt\u001b[0m\u001b[0;34m(\u001b[0m\u001b[0mnp\u001b[0m\u001b[0;34m.\u001b[0m\u001b[0mmod\u001b[0m\u001b[0;34m(\u001b[0m\u001b[0mtime\u001b[0m\u001b[0;34m,\u001b[0m \u001b[0;36m365.\u001b[0m\u001b[0;34m)\u001b[0m\u001b[0;34m)\u001b[0m\u001b[0;34m\u001b[0m\u001b[0;34m\u001b[0m\u001b[0m\n\u001b[0m\u001b[1;32m     60\u001b[0m \u001b[0;34m\u001b[0m\u001b[0m\n\u001b[1;32m     61\u001b[0m \u001b[0mNs_EQ\u001b[0m \u001b[0;34m=\u001b[0m \u001b[0mphydra_Param_add\u001b[0m\u001b[0;34m(\u001b[0m\u001b[0mNs_EQ\u001b[0m\u001b[0;34m,\u001b[0m \u001b[0mN0_int\u001b[0m \u001b[0;34m-\u001b[0m \u001b[0mN\u001b[0m\u001b[0;34m)\u001b[0m\u001b[0;34m\u001b[0m\u001b[0;34m\u001b[0m\u001b[0m\n",
      "\u001b[0;31mNameError\u001b[0m: name 'ForcingInt' is not defined"
     ]
    }
   ],
   "source": [
    "import numpy as np\n",
    "from gekko import GEKKO\n",
    "#import matplotlib.pyplot as plt\n",
    "import scipy.interpolate as intrp\n",
    "\n",
    "def phydra_EQ_add(Component, EQ2add):\n",
    "    a = np.nditer(Component, flags=['zerosize_ok','refs_ok', 'multi_index'])\n",
    "    b = np.nditer(EQ2add, flags=['zerosize_ok','refs_ok', 'multi_index'])\n",
    "    while not b.finished:\n",
    "        while not a.finished:\n",
    "            print(a.value, b.value)\n",
    "            m.Equation(Component[a.multi_index].dt() == EQ2add[b.multi_index])\n",
    "            a.iternext()\n",
    "        b.iternext()\n",
    "\n",
    "def blowup_Dims(IN, FullDims, type_func):\n",
    "    OUT = np.array(FullDims, dtype='object')\n",
    "    INiterator = np.nditer(IN, flags=['zerosize_ok','refs_ok', 'multi_index'])\n",
    "    for inVal in INiterator:\n",
    "        OUT[...] = type_func(inVal)\n",
    "        \n",
    "    print(OUT)\n",
    "    return OUT\n",
    "\n",
    "\n",
    "\n",
    "m = GEKKO()   \n",
    "\n",
    "t = m.SV(0)\n",
    "\n",
    "#N = m.SV(1)\n",
    "\n",
    "time = np.arange(0, 700)\n",
    "#N0 = m.Var() #m.Param(np.linspace(2, 1, len(time)))\n",
    "D1_dims = 5\n",
    "Ns = blowup_Dims(1, (2,2), m.SV)\n",
    "\n",
    "print(Ns)\n",
    "#Ns = m.Array(m.SV,(D1_dims, D1_dims))\n",
    "print(Ns.dtype)\n",
    "\n",
    "print(Ns.shape)\n",
    "    \n",
    "Ns_EQ = m.Array(m.Param,(D1_dims, D1_dims))\n",
    "\n",
    "def phydra_Param_add(Param, Part):\n",
    "    a = np.nditer(Param, op_flags=['readwrite'], flags=['zerosize_ok','refs_ok', 'multi_index'])\n",
    "    b = np.nditer(Part, op_flags=['readwrite'], flags=['zerosize_ok','refs_ok', 'multi_index'])\n",
    "    while not b.finished:\n",
    "        while not a.finished:\n",
    "            print(a.value, type(a.value), b.value, type(b.value))\n",
    "            Param[a.multi_index] = Part[b.multi_index]\n",
    "            a.iternext()\n",
    "        b.iternext()\n",
    "        \n",
    "    return Param\n",
    "        \n",
    "\n",
    "N0_int = ForcingInt(np.mod(time, 365.))\n",
    "\n",
    "Ns_EQ = phydra_Param_add(Ns_EQ, N0_int - N)\n",
    "\n",
    "#Ns_EQ = [m.Intermediate(N0_int - N)]\n",
    "\n",
    "phydra_EQ_add(Ns, Ns_EQ)\n",
    "\n",
    "m.Equation(t.dt() == 1)\n",
    "    \n",
    "\n",
    "\n",
    "m.time = time\n",
    "\n",
    "m.options.IMODE = 7\n",
    "\n",
    "m.solve(disp=False)"
   ]
  },
  {
   "cell_type": "code",
   "execution_count": 81,
   "metadata": {},
   "outputs": [
    {
     "data": {
      "text/plain": [
       "[<matplotlib.lines.Line2D at 0x12247d070>]"
      ]
     },
     "execution_count": 81,
     "metadata": {},
     "output_type": "execute_result"
    },
    {
     "data": {
      "image/png": "[encoded data removed]",
      "text/plain": [
       "<Figure size 432x288 with 1 Axes>"
      ]
     },
     "metadata": {
      "needs_background": "light"
     },
     "output_type": "display_data"
    }
   ],
   "source": [
    "plt.plot(time, Ns[0,0])"
   ]
  },
  {
   "cell_type": "code",
   "execution_count": 3,
   "metadata": {},
   "outputs": [
    {
     "name": "stdout",
     "output_type": "stream",
     "text": [
      "hello world\n"
     ]
    }
   ],
   "source": [
    "print('hello world')"
   ]
  },
  {
   "cell_type": "code",
   "execution_count": 15,
   "metadata": {},
   "outputs": [
    {
     "data": {
      "text/plain": [
       "<matplotlib.legend.Legend at 0x122dcfb20>"
      ]
     },
     "execution_count": 15,
     "metadata": {},
     "output_type": "execute_result"
    },
    {
     "data": {
      "image/png": "[encoded data removed]",
      "text/plain": [
       "<Figure size 432x288 with 1 Axes>"
      ]
     },
     "metadata": {
      "needs_background": "light"
     },
     "output_type": "display_data"
    }
   ],
   "source": [
    "import numpy as np\n",
    "from scipy.integrate import odeint\n",
    "\n",
    "halfsat = 0.1\n",
    "N0 = 1.\n",
    "inflow = 0.1\n",
    "mortality_rate = 0.1\n",
    "\n",
    "def model(y,t):\n",
    "    N,P = y\n",
    "    nutlim = N/(N+halfsat)*P\n",
    "    influx = N0 * inflow\n",
    "    mortality = P * mortality_rate\n",
    "    \n",
    "    dNdt = influx - nutlim\n",
    "    dPdt = nutlim - mortality\n",
    "    return [dNdt, dPdt]\n",
    "\n",
    "model_time = np.arange(0,10)\n",
    "out = odeint(model,[1,0.1],model_time)\n",
    "\n",
    "plt.plot(model_time,out[:,0], label='N')\n",
    "plt.plot(model_time,out[:,1], label='P')\n",
    "plt.legend()"
   ]
  },
  {
   "cell_type": "code",
   "execution_count": 22,
   "metadata": {},
   "outputs": [
    {
     "name": "stdout",
     "output_type": "stream",
     "text": [
      "[ 0.          0.20408163  0.40816327  0.6122449   0.81632653  1.02040816\n",
      "  1.2244898   1.42857143  1.63265306  1.83673469  2.04081633  2.24489796\n",
      "  2.44897959  2.65306122  2.85714286  3.06122449  3.26530612  3.46938776\n",
      "  3.67346939  3.87755102  4.08163265  4.28571429  4.48979592  4.69387755\n",
      "  4.89795918  5.10204082  5.30612245  5.51020408  5.71428571  5.91836735\n",
      "  6.12244898  6.32653061  6.53061224  6.73469388  6.93877551  7.14285714\n",
      "  7.34693878  7.55102041  7.75510204  7.95918367  8.16326531  8.36734694\n",
      "  8.57142857  8.7755102   8.97959184  9.18367347  9.3877551   9.59183673\n",
      "  9.79591837 10.        ]\n"
     ]
    }
   ],
   "source": [
    "print(t)"
   ]
  },
  {
   "cell_type": "code",
   "execution_count": 80,
   "metadata": {},
   "outputs": [],
   "source": [
    "import numpy as np\n",
    "from gekko import GEKKO\n",
    "import matplotlib.pyplot as plt\n",
    "\n",
    "m = GEKKO()    # create GEKKO model\n",
    "\n",
    "m.halfsat_const = m.Param(0.1, name='halfsat_const')\n",
    "m.N0 = m.Param(1., name='N0')\n",
    "m.inflow_rate = m.Param(0.1, name='inflow_rate')\n",
    "m.mortality_rate = m.Param(0.1, name='mortality_rate')\n",
    "\n",
    "m.N = m.SV(1, name='Nutrient')\n",
    "m.P = m.SV(0.1, name='Phytoplankton')\n",
    "\n",
    "start_range = 5\n",
    "start_tinysteps=np.arange(0,start_range, .1)\n",
    "t = np.arange(start_range,10)\n",
    "\n",
    "new_t = np.concatenate([start_tinysteps, t])\n",
    "m.time = new_t\n",
    "\n",
    "m.nutlim = m.Intermediate(m.N/(m.N+m.halfsat_const)*m.P, name='NutrientLimitation')\n",
    "m.N_influx = m.Intermediate(m.N0 * m.inflow_rate)\n",
    "m.mortality = m.Intermediate(m.P * m.mortality_rate)\n",
    "\n",
    "\n",
    "m.Equation(m.N.dt()==m.N0 * m.inflow_rate - m.N/(m.N+m.halfsat_const)*m.P)\n",
    "m.Equation(m.P.dt()==m.N/(m.N+m.halfsat_const)*m.P - m.P * m.mortality_rate)\n",
    "\n",
    "m.options.REDUCE = 3\n",
    "m.options.NODES = 3\n",
    "m.options.IMODE = 7"
   ]
  },
  {
   "cell_type": "code",
   "execution_count": 81,
   "metadata": {},
   "outputs": [
    {
     "name": "stdout",
     "output_type": "stream",
     "text": [
      "CPU times: user 356 ms, sys: 10.2 ms, total: 366 ms\n",
      "Wall time: 1.75 s\n"
     ]
    }
   ],
   "source": [
    "%%time\n",
    "m.solve(disp=False)"
   ]
  },
  {
   "cell_type": "code",
   "execution_count": 82,
   "metadata": {},
   "outputs": [
    {
     "data": {
      "text/plain": [
       "<matplotlib.legend.Legend at 0x11be90130>"
      ]
     },
     "execution_count": 82,
     "metadata": {},
     "output_type": "execute_result"
    },
    {
     "data": {
      "image/png": "[encoded data removed]",
      "text/plain": [
       "<Figure size 432x288 with 1 Axes>"
      ]
     },
     "metadata": {
      "needs_background": "light"
     },
     "output_type": "display_data"
    }
   ],
   "source": [
    "plt.plot(new_t, m.N, label='N')\n",
    "plt.plot(new_t, m.P, label='P')\n",
    "plt.legend()"
   ]
  },
  {
   "cell_type": "code",
   "execution_count": 19,
   "metadata": {},
   "outputs": [
    {
     "name": "stdout",
     "output_type": "stream",
     "text": [
      "nutrient [1.0, 0.99180176945]\n",
      "nutrient [0.991801769, 0.94772441387]\n",
      "nutrient [0.947724414, 0.84871990901]\n",
      "nutrient [0.848719909, 0.66860974514]\n",
      "nutrient [0.668609745, 0.38264786347]\n",
      "nutrient [0.382647863, 0.062642921888]\n",
      "nutrient [0.0626429219, 0.0089440668804]\n",
      "nutrient [0.00894406688, 0.0087874255541]\n",
      "nutrient [0.00878742555, 0.0088876388588]\n",
      "nutrient [0.00888763886, 0.0089853690306]\n"
     ]
    },
    {
     "data": {
      "text/plain": [
       "<matplotlib.legend.Legend at 0x1189ec7f0>"
      ]
     },
     "execution_count": 19,
     "metadata": {},
     "output_type": "execute_result"
    },
    {
     "data": {
      "image/png": "[encoded data removed]",
      "text/plain": [
       "<Figure size 432x288 with 1 Axes>"
      ]
     },
     "metadata": {
      "needs_background": "light"
     },
     "output_type": "display_data"
    }
   ],
   "source": [
    "import numpy as np\n",
    "from gekko import GEKKO\n",
    "import matplotlib.pyplot as plt\n",
    "\n",
    "m = GEKKO(remote=False)    # create GEKKO model\n",
    "\n",
    "m.halfsat_const = m.Param(0.1, name='halfsat_const')\n",
    "m.N0 = m.Param(1., name='N0')\n",
    "m.inflow_rate = m.Param(0.1, name='inflow_rate')\n",
    "m.mortality_rate = m.Param(0.1, name='mortality_rate')\n",
    "\n",
    "m.N = m.SV(1, name='Nutrient')\n",
    "m.P = m.SV(0.1, name='Phytoplankton')\n",
    "\n",
    "t = np.linspace(0,5,10)\n",
    "m.time = [t[0],t[1]]\n",
    "\n",
    "m.nutlim = m.Intermediate(m.N/(m.N+m.halfsat_const)*m.P, name='NutrientLimitation')\n",
    "m.N_influx = m.Intermediate(m.N0 * m.inflow_rate)\n",
    "m.mortality = m.Intermediate(m.P * m.mortality_rate)\n",
    "\n",
    "\n",
    "m.Equation(m.N.dt()==m.N0 * m.inflow_rate - m.N/(m.N+m.halfsat_const)*m.P)\n",
    "m.Equation(m.P.dt()==m.N/(m.N+m.halfsat_const)*m.P - m.P * m.mortality_rate)\n",
    "\n",
    "m.options.IMODE = 4\n",
    "\n",
    "N = []\n",
    "P = []\n",
    "for i in range(len(t)):\n",
    "    #print(i, end=\"\", flush=True)\n",
    "    m.solve(disp=False)\n",
    "    # record values for plotting\n",
    "    print(m.N, m.N.value)\n",
    "    N.append(m.N.value[1])\n",
    "    P.append(m.P.value[1])\n",
    "\n",
    "plt.plot(t, N, label='N')\n",
    "plt.plot(t, P, label='P')\n",
    "plt.legend()"
   ]
  },
  {
   "cell_type": "code",
   "execution_count": null,
   "metadata": {},
   "outputs": [],
   "source": []
  },
  {
   "cell_type": "code",
   "execution_count": 2,
   "metadata": {},
   "outputs": [
    {
     "ename": "NameError",
     "evalue": "name 'Hello' is not defined",
     "output_type": "error",
     "traceback": [
      "\u001b[0;31m---------------------------------------------------------------------------\u001b[0m",
      "\u001b[0;31mNameError\u001b[0m                                 Traceback (most recent call last)",
      "\u001b[0;32m<ipython-input-2-85bf5114fa6b>\u001b[0m in \u001b[0;36m<module>\u001b[0;34m\u001b[0m\n\u001b[0;32m----> 1\u001b[0;31m \u001b[0mprint\u001b[0m\u001b[0;34m(\u001b[0m\u001b[0mHello\u001b[0m\u001b[0;34m)\u001b[0m\u001b[0;34m\u001b[0m\u001b[0;34m\u001b[0m\u001b[0m\n\u001b[0m",
      "\u001b[0;31mNameError\u001b[0m: name 'Hello' is not defined"
     ]
    }
   ],
   "source": [
    "print(Hello)"
   ]
  },
  {
   "cell_type": "code",
   "execution_count": 3,
   "metadata": {},
   "outputs": [
    {
     "ename": "NameError",
     "evalue": "name 'nutlim' is not defined",
     "output_type": "error",
     "traceback": [
      "\u001b[0;31m---------------------------------------------------------------------------\u001b[0m",
      "\u001b[0;31mNameError\u001b[0m                                 Traceback (most recent call last)",
      "\u001b[0;32m<ipython-input-3-1daf1c3bcce5>\u001b[0m in \u001b[0;36m<module>\u001b[0;34m\u001b[0m\n\u001b[0;32m----> 1\u001b[0;31m \u001b[0mnutlim\u001b[0m\u001b[0;34m.\u001b[0m\u001b[0mVALUE\u001b[0m\u001b[0;34m\u001b[0m\u001b[0;34m\u001b[0m\u001b[0m\n\u001b[0m",
      "\u001b[0;31mNameError\u001b[0m: name 'nutlim' is not defined"
     ]
    }
   ],
   "source": [
    "nutlim.VALUE"
   ]
  },
  {
   "cell_type": "code",
   "execution_count": 31,
   "metadata": {},
   "outputs": [
    {
     "name": "stdout",
     "output_type": "stream",
     "text": [
      "Found N0\n",
      "Found mortality\n",
      "Found N\n",
      "Found P\n",
      "Found nutlim\n",
      "Found influx\n",
      "Found halfsat_const\n",
      "Found inflow_rate\n",
      "Found mortality_rate\n",
      "Found N_influx\n"
     ]
    }
   ],
   "source": [
    "m.get_names()"
   ]
  },
  {
   "cell_type": "code",
   "execution_count": 24,
   "metadata": {},
   "outputs": [
    {
     "name": "stdout",
     "output_type": "stream",
     "text": [
      "Opening display in default webbrowser at http://localhost:8050/index.html. \n",
      "Close display tab or type CTRL+C to exit.\n",
      "Starting Flask Thread on port 8050\n",
      " * Serving Flask app \"gekko.gk_gui\" (lazy loading)\n",
      " * Environment: production\n",
      "\u001b[31m   WARNING: This is a development server. Do not use it in a production deployment.\u001b[0m\n",
      "\u001b[2m   Use a production WSGI server instead.\u001b[0m\n",
      " * Debug mode: off\n"
     ]
    }
   ],
   "source": [
    "m.GUI()"
   ]
  },
  {
   "cell_type": "code",
   "execution_count": 2,
   "metadata": {},
   "outputs": [
    {
     "ename": "NameError",
     "evalue": "name 'm' is not defined",
     "output_type": "error",
     "traceback": [
      "\u001b[0;31m---------------------------------------------------------------------------\u001b[0m",
      "\u001b[0;31mNameError\u001b[0m                                 Traceback (most recent call last)",
      "\u001b[0;32m<ipython-input-2-be3e2ca04a84>\u001b[0m in \u001b[0;36m<module>\u001b[0;34m\u001b[0m\n\u001b[0;32m----> 1\u001b[0;31m \u001b[0mm\u001b[0m\u001b[0;34m.\u001b[0m\u001b[0mgk_logic_tree\u001b[0m\u001b[0;34m(\u001b[0m\u001b[0;34m)\u001b[0m\u001b[0;34m\u001b[0m\u001b[0;34m\u001b[0m\u001b[0m\n\u001b[0m",
      "\u001b[0;31mNameError\u001b[0m: name 'm' is not defined"
     ]
    }
   ],
   "source": [
    "m.gk_logic_tree()"
   ]
  },
  {
   "cell_type": "code",
   "execution_count": 10,
   "metadata": {},
   "outputs": [
    {
     "name": "stdout",
     "output_type": "stream",
     "text": [
      "1\n",
      "2\n",
      "3\n",
      "4\n",
      "5\n",
      "6\n",
      "7\n",
      "8\n",
      "9\n",
      "10\n",
      "11\n",
      "12\n",
      "13\n",
      "14\n",
      "15\n",
      "16\n",
      "17\n",
      "18\n",
      "19\n",
      "20\n",
      "21\n",
      "22\n",
      "23\n",
      "24\n",
      "25\n",
      "26\n",
      "27\n",
      "28\n",
      "29\n",
      "30\n",
      "31\n",
      "32\n",
      "33\n",
      "34\n",
      "35\n",
      "36\n",
      "37\n",
      "38\n",
      "39\n",
      "40\n",
      "41\n",
      "42\n",
      "43\n",
      "44\n",
      "45\n",
      "46\n",
      "47\n",
      "48\n",
      "49\n",
      "50\n",
      "51\n",
      "52\n",
      "53\n",
      "54\n",
      "55\n",
      "56\n",
      "57\n",
      "58\n",
      "59\n",
      "60\n",
      "61\n",
      "62\n",
      "63\n",
      "64\n",
      "65\n",
      "66\n",
      "67\n",
      "68\n",
      "69\n",
      "70\n",
      "71\n",
      "72\n",
      "73\n",
      "74\n",
      "75\n",
      "76\n",
      "77\n",
      "78\n",
      "79\n",
      "80\n",
      "81\n",
      "82\n",
      "83\n",
      "84\n",
      "85\n",
      "86\n",
      "87\n",
      "88\n",
      "89\n",
      "90\n",
      "91\n",
      "92\n",
      "93\n",
      "94\n",
      "95\n",
      "96\n",
      "97\n",
      "98\n",
      "99\n",
      "100\n",
      "101\n",
      "102\n",
      "103\n",
      "104\n",
      "105\n",
      "106\n",
      "107\n",
      "108\n",
      "109\n",
      "110\n",
      "111\n",
      "112\n",
      "113\n",
      "114\n",
      "115\n",
      "116\n",
      "117\n",
      "118\n",
      "119\n",
      "120\n",
      "121\n",
      "122\n",
      "123\n",
      "124\n",
      "125\n",
      "126\n",
      "127\n",
      "128\n",
      "129\n",
      "130\n",
      "131\n",
      "132\n",
      "133\n",
      "134\n",
      "135\n",
      "136\n",
      "137\n",
      "138\n",
      "139\n",
      "140\n",
      "141\n",
      "142\n",
      "143\n",
      "144\n",
      "145\n",
      "146\n",
      "147\n",
      "148\n",
      "149\n",
      "150\n",
      "151\n",
      "152\n",
      "153\n",
      "154\n",
      "155\n",
      "156\n",
      "157\n",
      "158\n",
      "159\n",
      "160\n",
      "161\n",
      "162\n",
      "163\n",
      "164\n",
      "165\n",
      "166\n",
      "167\n",
      "168\n",
      "169\n",
      "170\n",
      "171\n",
      "172\n",
      "173\n",
      "174\n",
      "175\n",
      "176\n",
      "177\n",
      "178\n",
      "179\n",
      "180\n",
      "181\n",
      "182\n",
      "183\n",
      "184\n",
      "185\n",
      "186\n",
      "187\n",
      "188\n",
      "189\n",
      "190\n",
      "191\n",
      "192\n",
      "193\n",
      "194\n",
      "195\n",
      "196\n",
      "197\n",
      "198\n",
      "199\n"
     ]
    },
    {
     "data": {
      "image/png": "[encoded data removed]",
      "text/plain": [
       "<Figure size 576x504 with 2 Axes>"
      ]
     },
     "metadata": {
      "needs_background": "light"
     },
     "output_type": "display_data"
    }
   ],
   "source": [
    "from gekko import GEKKO\n",
    "import numpy as np\n",
    "import matplotlib.pyplot as plt\n",
    "\n",
    "# Number of timesteps\n",
    "nt = 200\n",
    "tm = np.linspace(0, 1, nt)\n",
    "\n",
    "# Initialize GEKKO\n",
    "p1 = GEKKO(remote=False)\n",
    "p2 = GEKKO(remote=False)\n",
    "p3 = GEKKO(remote=False)\n",
    "\n",
    "# define model\n",
    "for p in [p1,p2,p3]:\n",
    "    if p==p3:\n",
    "        p.time = [tm[0],tm[1]]\n",
    "    else:\n",
    "        p.time = tm\n",
    "\n",
    "    # Model parameters\n",
    "    p.g = p.Const(value=9.81, name='g')\n",
    "    p.l = p.Const(value=2., name='length')\n",
    "    p.m = p.Const(value=1.0, name='mass')\n",
    "    p.f = p.Const(value=0.5, name='friction coefficient')\n",
    "\n",
    "    # State Variables\n",
    "    p.theta = p.Var(value=0, name='angle')\n",
    "    p.dtheta_dt = p.Var(value=2.5, name='angular velocity')\n",
    "\n",
    "    # Equations\n",
    "    p.Equation(p.theta.dt() == p.dtheta_dt)\n",
    "    p.Equation(p.dtheta_dt.dt() == \\\n",
    "               -p.g/p.l*p.sin(p.theta) - p.f/p.m*p.dtheta_dt)\n",
    "    p.options.NODES=5\n",
    "\n",
    "# Solve simultaneously\n",
    "p1.options.IMODE=4\n",
    "p1.solve(disp=False)\n",
    "\n",
    "p2.options.IMODE=7\n",
    "p2.solve(disp=False)\n",
    "\n",
    "p3.options.IMODE=4\n",
    "th = np.ones_like(tm)\n",
    "dth = np.ones_like(tm)\n",
    "th[0] = 0\n",
    "dth[0] = 2.5\n",
    "import time\n",
    "for i in range(1,nt):\n",
    "    print(i)\n",
    "    p3.solve(disp=False)\n",
    "\n",
    "    # record values for plotting\n",
    "    th[i] = p3.theta.value[1]\n",
    "    dth[i] = p3.dtheta_dt.value[1]\n",
    "\n",
    "# Plot results\n",
    "fig, axes = plt.subplots(2, 1, sharex=True, figsize=(8,7))\n",
    "\n",
    "axes[0].plot(tm, p1.theta.value, 'o-',color='red')\n",
    "axes[0].plot(tm, p2.theta.value, ':',color='green')\n",
    "axes[0].plot(tm, th, '--',color='black')\n",
    "axes[0].set_title(\"theta\")\n",
    "axes[0].set_ylabel('radians')\n",
    "axes[0].grid()\n",
    "\n",
    "axes[1].plot(tm, p1.dtheta_dt.value, 'o-',color='red')\n",
    "axes[1].plot(tm, p2.dtheta_dt.value, ':',color='green')\n",
    "axes[1].plot(tm, dth, '--',color='black')\n",
    "axes[1].set_title(\"dtheta_dt\")\n",
    "axes[1].set_ylabel('radians/sec')\n",
    "axes[1].grid()\n",
    "axes[1].set_xlabel('Time (seconds)')\n",
    "\n",
    "plt.show()"
   ]
  },
  {
   "cell_type": "code",
   "execution_count": null,
   "metadata": {},
   "outputs": [],
   "source": [
    "import numpy as np\n",
    "from gekko import GEKKO\n",
    "import matplotlib.pyplot as plt\n",
    "\n",
    "m = GEKKO()    # create GEKKO model\n",
    "\n",
    "halfsat = m.Param(0.1)\n",
    "N0 = m.Param(1.)\n",
    "inflow = m.Param(0.1)\n",
    "mortality = m.Param(0.1)\n",
    "\n",
    "N = m.SV(1)\n",
    "P = m.SV(0.1)\n",
    "\n",
    "t = np.arange(0,10)\n",
    "#m.time = t\n",
    "\n",
    "nutlim = m.Intermediate(N/(N+halfsat)*P)\n",
    "inflow = m.Intermediate(N0 * inflow)\n",
    "mortality = m.Intermediate(P * mortality)\n",
    "\n",
    "m.Equation(N.dt()==inflow - nutlim)\n",
    "m.Equation(P.dt()==nutlim - mortality)\n",
    "\n",
    "m.options.IMODE = 4\n",
    "\n",
    "for i in t:\n",
    "    m.solve(disp=False)\n",
    "\n",
    "plt.plot(m.time, N)\n",
    "plt.plot(m.time, P)"
   ]
  },
  {
   "cell_type": "code",
   "execution_count": 22,
   "metadata": {},
   "outputs": [],
   "source": [
    "t = np.arange(0,10)\n",
    "m.time = t\n",
    "m.solve(disp=False)"
   ]
  },
  {
   "cell_type": "code",
   "execution_count": 23,
   "metadata": {},
   "outputs": [
    {
     "ename": "ValueError",
     "evalue": "x and y must have same first dimension, but have shapes (10,) and (1000,)",
     "output_type": "error",
     "traceback": [
      "\u001b[0;31m---------------------------------------------------------------------------\u001b[0m",
      "\u001b[0;31mValueError\u001b[0m                                Traceback (most recent call last)",
      "\u001b[0;32m<ipython-input-23-57a6b7ce4967>\u001b[0m in \u001b[0;36m<module>\u001b[0;34m\u001b[0m\n\u001b[0;32m----> 1\u001b[0;31m \u001b[0mplt\u001b[0m\u001b[0;34m.\u001b[0m\u001b[0mplot\u001b[0m\u001b[0;34m(\u001b[0m\u001b[0mm\u001b[0m\u001b[0;34m.\u001b[0m\u001b[0mtime\u001b[0m\u001b[0;34m,\u001b[0m \u001b[0mN\u001b[0m\u001b[0;34m)\u001b[0m\u001b[0;34m\u001b[0m\u001b[0;34m\u001b[0m\u001b[0m\n\u001b[0m\u001b[1;32m      2\u001b[0m \u001b[0mplt\u001b[0m\u001b[0;34m.\u001b[0m\u001b[0mplot\u001b[0m\u001b[0;34m(\u001b[0m\u001b[0mm\u001b[0m\u001b[0;34m.\u001b[0m\u001b[0mtime\u001b[0m\u001b[0;34m,\u001b[0m \u001b[0mP\u001b[0m\u001b[0;34m)\u001b[0m\u001b[0;34m\u001b[0m\u001b[0;34m\u001b[0m\u001b[0m\n",
      "\u001b[0;32m~/opt/miniconda3/envs/xsimlab/lib/python3.8/site-packages/matplotlib/pyplot.py\u001b[0m in \u001b[0;36mplot\u001b[0;34m(scalex, scaley, data, *args, **kwargs)\u001b[0m\n\u001b[1;32m   2759\u001b[0m \u001b[0;34m@\u001b[0m\u001b[0mdocstring\u001b[0m\u001b[0;34m.\u001b[0m\u001b[0mcopy\u001b[0m\u001b[0;34m(\u001b[0m\u001b[0mAxes\u001b[0m\u001b[0;34m.\u001b[0m\u001b[0mplot\u001b[0m\u001b[0;34m)\u001b[0m\u001b[0;34m\u001b[0m\u001b[0;34m\u001b[0m\u001b[0m\n\u001b[1;32m   2760\u001b[0m \u001b[0;32mdef\u001b[0m \u001b[0mplot\u001b[0m\u001b[0;34m(\u001b[0m\u001b[0;34m*\u001b[0m\u001b[0margs\u001b[0m\u001b[0;34m,\u001b[0m \u001b[0mscalex\u001b[0m\u001b[0;34m=\u001b[0m\u001b[0;32mTrue\u001b[0m\u001b[0;34m,\u001b[0m \u001b[0mscaley\u001b[0m\u001b[0;34m=\u001b[0m\u001b[0;32mTrue\u001b[0m\u001b[0;34m,\u001b[0m \u001b[0mdata\u001b[0m\u001b[0;34m=\u001b[0m\u001b[0;32mNone\u001b[0m\u001b[0;34m,\u001b[0m \u001b[0;34m**\u001b[0m\u001b[0mkwargs\u001b[0m\u001b[0;34m)\u001b[0m\u001b[0;34m:\u001b[0m\u001b[0;34m\u001b[0m\u001b[0;34m\u001b[0m\u001b[0m\n\u001b[0;32m-> 2761\u001b[0;31m     return gca().plot(\n\u001b[0m\u001b[1;32m   2762\u001b[0m         *args, scalex=scalex, scaley=scaley, **({\"data\": data} if data\n\u001b[1;32m   2763\u001b[0m         is not None else {}), **kwargs)\n",
      "\u001b[0;32m~/opt/miniconda3/envs/xsimlab/lib/python3.8/site-packages/matplotlib/axes/_axes.py\u001b[0m in \u001b[0;36mplot\u001b[0;34m(self, scalex, scaley, data, *args, **kwargs)\u001b[0m\n\u001b[1;32m   1644\u001b[0m         \"\"\"\n\u001b[1;32m   1645\u001b[0m         \u001b[0mkwargs\u001b[0m \u001b[0;34m=\u001b[0m \u001b[0mcbook\u001b[0m\u001b[0;34m.\u001b[0m\u001b[0mnormalize_kwargs\u001b[0m\u001b[0;34m(\u001b[0m\u001b[0mkwargs\u001b[0m\u001b[0;34m,\u001b[0m \u001b[0mmlines\u001b[0m\u001b[0;34m.\u001b[0m\u001b[0mLine2D\u001b[0m\u001b[0;34m)\u001b[0m\u001b[0;34m\u001b[0m\u001b[0;34m\u001b[0m\u001b[0m\n\u001b[0;32m-> 1646\u001b[0;31m         \u001b[0mlines\u001b[0m \u001b[0;34m=\u001b[0m \u001b[0;34m[\u001b[0m\u001b[0;34m*\u001b[0m\u001b[0mself\u001b[0m\u001b[0;34m.\u001b[0m\u001b[0m_get_lines\u001b[0m\u001b[0;34m(\u001b[0m\u001b[0;34m*\u001b[0m\u001b[0margs\u001b[0m\u001b[0;34m,\u001b[0m \u001b[0mdata\u001b[0m\u001b[0;34m=\u001b[0m\u001b[0mdata\u001b[0m\u001b[0;34m,\u001b[0m \u001b[0;34m**\u001b[0m\u001b[0mkwargs\u001b[0m\u001b[0;34m)\u001b[0m\u001b[0;34m]\u001b[0m\u001b[0;34m\u001b[0m\u001b[0;34m\u001b[0m\u001b[0m\n\u001b[0m\u001b[1;32m   1647\u001b[0m         \u001b[0;32mfor\u001b[0m \u001b[0mline\u001b[0m \u001b[0;32min\u001b[0m \u001b[0mlines\u001b[0m\u001b[0;34m:\u001b[0m\u001b[0;34m\u001b[0m\u001b[0;34m\u001b[0m\u001b[0m\n\u001b[1;32m   1648\u001b[0m             \u001b[0mself\u001b[0m\u001b[0;34m.\u001b[0m\u001b[0madd_line\u001b[0m\u001b[0;34m(\u001b[0m\u001b[0mline\u001b[0m\u001b[0;34m)\u001b[0m\u001b[0;34m\u001b[0m\u001b[0;34m\u001b[0m\u001b[0m\n",
      "\u001b[0;32m~/opt/miniconda3/envs/xsimlab/lib/python3.8/site-packages/matplotlib/axes/_base.py\u001b[0m in \u001b[0;36m__call__\u001b[0;34m(self, *args, **kwargs)\u001b[0m\n\u001b[1;32m    214\u001b[0m                 \u001b[0mthis\u001b[0m \u001b[0;34m+=\u001b[0m \u001b[0margs\u001b[0m\u001b[0;34m[\u001b[0m\u001b[0;36m0\u001b[0m\u001b[0;34m]\u001b[0m\u001b[0;34m,\u001b[0m\u001b[0;34m\u001b[0m\u001b[0;34m\u001b[0m\u001b[0m\n\u001b[1;32m    215\u001b[0m                 \u001b[0margs\u001b[0m \u001b[0;34m=\u001b[0m \u001b[0margs\u001b[0m\u001b[0;34m[\u001b[0m\u001b[0;36m1\u001b[0m\u001b[0;34m:\u001b[0m\u001b[0;34m]\u001b[0m\u001b[0;34m\u001b[0m\u001b[0;34m\u001b[0m\u001b[0m\n\u001b[0;32m--> 216\u001b[0;31m             \u001b[0;32myield\u001b[0m \u001b[0;32mfrom\u001b[0m \u001b[0mself\u001b[0m\u001b[0;34m.\u001b[0m\u001b[0m_plot_args\u001b[0m\u001b[0;34m(\u001b[0m\u001b[0mthis\u001b[0m\u001b[0;34m,\u001b[0m \u001b[0mkwargs\u001b[0m\u001b[0;34m)\u001b[0m\u001b[0;34m\u001b[0m\u001b[0;34m\u001b[0m\u001b[0m\n\u001b[0m\u001b[1;32m    217\u001b[0m \u001b[0;34m\u001b[0m\u001b[0m\n\u001b[1;32m    218\u001b[0m     \u001b[0;32mdef\u001b[0m \u001b[0mget_next_color\u001b[0m\u001b[0;34m(\u001b[0m\u001b[0mself\u001b[0m\u001b[0;34m)\u001b[0m\u001b[0;34m:\u001b[0m\u001b[0;34m\u001b[0m\u001b[0;34m\u001b[0m\u001b[0m\n",
      "\u001b[0;32m~/opt/miniconda3/envs/xsimlab/lib/python3.8/site-packages/matplotlib/axes/_base.py\u001b[0m in \u001b[0;36m_plot_args\u001b[0;34m(self, tup, kwargs)\u001b[0m\n\u001b[1;32m    340\u001b[0m \u001b[0;34m\u001b[0m\u001b[0m\n\u001b[1;32m    341\u001b[0m         \u001b[0;32mif\u001b[0m \u001b[0mx\u001b[0m\u001b[0;34m.\u001b[0m\u001b[0mshape\u001b[0m\u001b[0;34m[\u001b[0m\u001b[0;36m0\u001b[0m\u001b[0;34m]\u001b[0m \u001b[0;34m!=\u001b[0m \u001b[0my\u001b[0m\u001b[0;34m.\u001b[0m\u001b[0mshape\u001b[0m\u001b[0;34m[\u001b[0m\u001b[0;36m0\u001b[0m\u001b[0;34m]\u001b[0m\u001b[0;34m:\u001b[0m\u001b[0;34m\u001b[0m\u001b[0;34m\u001b[0m\u001b[0m\n\u001b[0;32m--> 342\u001b[0;31m             raise ValueError(f\"x and y must have same first dimension, but \"\n\u001b[0m\u001b[1;32m    343\u001b[0m                              f\"have shapes {x.shape} and {y.shape}\")\n\u001b[1;32m    344\u001b[0m         \u001b[0;32mif\u001b[0m \u001b[0mx\u001b[0m\u001b[0;34m.\u001b[0m\u001b[0mndim\u001b[0m \u001b[0;34m>\u001b[0m \u001b[0;36m2\u001b[0m \u001b[0;32mor\u001b[0m \u001b[0my\u001b[0m\u001b[0;34m.\u001b[0m\u001b[0mndim\u001b[0m \u001b[0;34m>\u001b[0m \u001b[0;36m2\u001b[0m\u001b[0;34m:\u001b[0m\u001b[0;34m\u001b[0m\u001b[0;34m\u001b[0m\u001b[0m\n",
      "\u001b[0;31mValueError\u001b[0m: x and y must have same first dimension, but have shapes (10,) and (1000,)"
     ]
    },
    {
     "data": {
      "image/png": "[encoded data removed]",
      "text/plain": [
       "<Figure size 432x288 with 1 Axes>"
      ]
     },
     "metadata": {
      "needs_background": "light"
     },
     "output_type": "display_data"
    }
   ],
   "source": [
    "plt.plot(m.time, N)\n",
    "plt.plot(m.time, P)"
   ]
  },
  {
   "cell_type": "code",
   "execution_count": null,
   "metadata": {},
   "outputs": [],
   "source": []
  },
  {
   "cell_type": "code",
   "execution_count": 2,
   "metadata": {},
   "outputs": [
    {
     "name": "stdout",
     "output_type": "stream",
     "text": [
      "apm 75.80.96.79_gk_model1 <br><pre> ----------------------------------------------------------------\n",
      " APMonitor, Version 0.9.2\n",
      " APMonitor Optimization Suite\n",
      " ----------------------------------------------------------------\n",
      " \n",
      " \n",
      " --------- APM Model Size ------------\n",
      " Each time step contains\n",
      "   Objects      :            0\n",
      "   Constants    :            0\n",
      "   Variables    :           10\n",
      "   Intermediates:           15\n",
      "   Connections  :            0\n",
      "   Equations    :           25\n",
      "   Residuals    :           10\n",
      " \n",
      " --- Begin Pre-solve  -----------------------\n",
      "  Original nvar:         4320\n",
      "  Original neqn:         4320\n",
      "  Pre-solve turn off DOF\n",
      "  Pre-solve Variables:         4320\n",
      "  Pre-solve Equations:         4320\n",
      "  --- Solve block size:           72\n",
      " ----------------------------------------------\n",
      " Dynamic Simulation with APOPT Solver\n",
      " ----------------------------------------------\n",
      " \n",
      " Iter    Objective  Convergence\n",
      "    0  1.76437E-19  4.79667E-01\n",
      "    1  2.77970E-21  3.74673E-02\n",
      "    2  2.80949E-24  5.24444E-02\n",
      "    3  3.01519E-33  8.83730E-05\n",
      "    4  3.01519E-33  8.83730E-05\n",
      " Successful solution\n",
      " \n",
      " ---------------------------------------------------\n",
      " Presolve total time  :   8.350000000791624E-002 sec\n",
      " ---------------------------------------------------\n",
      " \n",
      "  --- Solve block size:          144\n",
      " ----------------------------------------------\n",
      " Dynamic Simulation with APOPT Solver\n",
      " ----------------------------------------------\n",
      " \n",
      " Iter    Objective  Convergence\n",
      "    0  2.17501E-22  1.52205E-02\n",
      "    1  3.90069E-31  1.92136E-06\n",
      "    2  3.90069E-31  1.92136E-06\n",
      " Successful solution\n",
      " \n",
      " ---------------------------------------------------\n",
      " Presolve total time  :   0.126300000003539      sec\n",
      " ---------------------------------------------------\n",
      " \n",
      "  --- Solve block size:          288\n",
      " ----------------------------------------------\n",
      " Dynamic Simulation with APOPT Solver\n",
      " ----------------------------------------------\n",
      " \n",
      " Iter    Objective  Convergence\n",
      "    0  1.44351E-21  1.61681E-02\n",
      "    1  1.62742E-29  7.93775E-06\n",
      "    2  1.62742E-29  7.93775E-06\n",
      " Successful solution\n",
      " \n",
      " ---------------------------------------------------\n",
      " Presolve total time  :   0.152500000025611      sec\n",
      " ---------------------------------------------------\n",
      " \n",
      "  --- Solve block size:          576\n",
      " ----------------------------------------------\n",
      " Dynamic Simulation with APOPT Solver\n",
      " ----------------------------------------------\n",
      " \n",
      " Iter    Objective  Convergence\n",
      "    0  1.00906E-20  1.82445E-02\n",
      "    1  7.99560E-28  1.67634E-05\n",
      "    2  7.99560E-28  1.67634E-05\n",
      " Successful solution\n",
      " \n",
      " ---------------------------------------------------\n",
      " Presolve total time  :   0.189100000017788      sec\n",
      " ---------------------------------------------------\n",
      " \n",
      "  --- Solve block size:         1152\n",
      " ----------------------------------------------\n",
      " Dynamic Simulation with APOPT Solver\n",
      " ----------------------------------------------\n",
      " \n",
      " Iter    Objective  Convergence\n",
      "    0  7.02120E-20  1.78804E-02\n",
      "    1  3.83789E-26  6.98243E-05\n",
      "    2  3.83789E-26  6.98243E-05\n",
      " Successful solution\n",
      " \n",
      " ---------------------------------------------------\n",
      " Presolve total time  :   0.276900000026217      sec\n",
      " ---------------------------------------------------\n",
      " \n",
      "  --- Solve block size:         2088\n",
      " ----------------------------------------------\n",
      " Dynamic Simulation with APOPT Solver\n",
      " ----------------------------------------------\n",
      " \n",
      " Iter    Objective  Convergence\n",
      "    0  3.34878E-19  1.88290E-02\n",
      "    1  1.16134E-25  5.16128E-05\n",
      "    2  1.16134E-25  5.16128E-05\n",
      " Successful solution\n",
      " \n",
      " ---------------------------------------------------\n",
      " Presolve total time  :   0.362100000027567      sec\n",
      " ---------------------------------------------------\n",
      " \n",
      " Successful Pre-solve Solution\n",
      " --- End Pre-solve -----------------------------------\n",
      " \n"
     ]
    },
    {
     "data": {
      "image/png": "[encoded data removed]",
      "text/plain": [
       "<Figure size 432x288 with 3 Axes>"
      ]
     },
     "metadata": {
      "needs_background": "light"
     },
     "output_type": "display_data"
    },
    {
     "data": {
      "image/png": "[encoded data removed]",
      "text/plain": [
       "<Figure size 432x288 with 1 Axes>"
      ]
     },
     "metadata": {
      "needs_background": "light"
     },
     "output_type": "display_data"
    }
   ],
   "source": [
    "import numpy as np\n",
    "from gekko import GEKKO\n",
    "import matplotlib.pyplot as plt\n",
    "\n",
    "m = GEKKO()    # create GEKKO model\n",
    "\n",
    "#constants 3L continuous fed-batch\n",
    "KdQ = 0.001        #degree of degradation of glutamine (1/h)\n",
    "mG = 1.1e-10   #glucose maintenance coefficient (mmol/cell/hour)\n",
    "YAQ = 0.90         #yield of ammonia from glutamine\n",
    "YLG = 2            #yield of lactate from glucose\n",
    "YXG = 2.2e8    #yield of cells from glucose (cells/mmol)\n",
    "YXQ = 1.5e9    #yield of cells from glutamine (cells/mmol)\n",
    "KL = 150           #lactate saturation constant (mM)\n",
    "KA = 40            #ammonia saturation constant (mM)\n",
    "Kdmax = 0.01       #maximum death rate (1/h)\n",
    "mumax = 0.044      #maximum growth rate (1/h)\n",
    "KG = 1             #glucose saturation constant (mM)\n",
    "KQ = 0.22          #glutamine saturation constant (mM)\n",
    "mQ = 0             #glutamine maintenance coefficient (mmol/cell/hour)\n",
    "kmu = 0.01         #intrinsic death rate (1/h)\n",
    "Klysis = 2e-2  #rate of cell lysis (1/h)\n",
    "Ci_star = 100      #inhibitor saturation concentration (mM)\n",
    "qi = 2.5e-10   #specific inhibitor production rate (1/h)\n",
    "\n",
    "#Flow, volume and concentration\n",
    "Fo = 0.001         #feed-rate (L/h)\n",
    "Fi = 0.001         #feed-rate (L/h)\n",
    "V = 3              #volume (L)\n",
    "SG = 653           #glucose concentration in the feed (mM)\n",
    "SQ = 58.8          #glutamine concentration in the feed (mM)\n",
    "\n",
    "# create GEKKO parameter\n",
    "t = np.linspace(0,50,121)\n",
    "m.time = t\n",
    "\n",
    "XTMM = m.Var(value=1,name='XT')            #total cell density (MMcells/L)\n",
    "XVMM = m.Var(value=1,lb=0, name='XV')      #viable cell density (MMcells/L)\n",
    "XDMM = m.Var(value=1.0,name='XD')          #dead cell density (MMcells/L)\n",
    "G = m.Var(value = 20, name='G')            #glucose concentration (mM)\n",
    "Q = m.Var(value = 4.5, name='Q')           #glutamine concentration (mM)\n",
    "L = m.Var(value=1,name='L')                #lactate concentration (mM)\n",
    "A = m.Var(value=1.6,name='A')              #ammonia concentration (mM)\n",
    "Ci = m.Var(value=0.1,name='Ci')            #inhibitor concentration (mM)\n",
    "mu = m.Var(value=0.1,name='mu')            #growth rate (1/h)\n",
    "Kd = m.Var(value=0.5,name='Kd')            #death rate(1/h)\n",
    "\n",
    "# scale back to cells/L from million cells/L\n",
    "XT = m.Intermediate(XTMM*1e7)\n",
    "XV = m.Intermediate(XVMM*1e7)\n",
    "XD = m.Intermediate(XDMM*1e7)\n",
    "\n",
    "e1 = m.Intermediate((mu*XV - Klysis*XD - XT*Fo/V)/1e7)\n",
    "e2 = m.Intermediate(((mu - Kd)*XV - XV*Fo/V)/1e7)\n",
    "e3 = m.Intermediate((Kd*XV - Klysis*XD - XV*Fo/V)/1e7)\n",
    "e4 = m.Intermediate((Fi/V)*SG - (Fo/V)*G + (-mu/YXG - mG)*XV)\n",
    "e5 = m.Intermediate((Fi/V)*SQ - (Fo/V)*Q + (-mu/YXQ - mQ)*XV - KdQ*Q)\n",
    "e6 = m.Intermediate(-YLG*(-mu/YXG -mG)*XV-(Fo/V)*L)\n",
    "e7 = m.Intermediate(-YAQ*(-mu/YXQ - mQ)*XV +KdQ*Q-(Fo/V)*A)\n",
    "e8 = m.Intermediate(qi*XV - (Fo/V)*Ci)\n",
    "e9a = m.Intermediate((Ci_star*(KG+G)*(KQ+Q)*(L/KL + 1)*(A/KA + 1)))\n",
    "e9b = m.Intermediate((mumax*G*Q*(Ci_star-Ci)))\n",
    "e10a = m.Intermediate((mu+kmu))\n",
    "e10b = m.Intermediate(Kdmax*kmu)\n",
    "\n",
    "# create GEEKO equations\n",
    "m.Equation(XTMM.dt() == e1)\n",
    "m.Equation(XVMM.dt() == e2)\n",
    "m.Equation(XDMM.dt() == e3)\n",
    "m.Equation(G.dt() == e4)\n",
    "m.Equation(Q.dt() == e5)\n",
    "m.Equation(L.dt() == e6)\n",
    "m.Equation(A.dt() == e7)\n",
    "m.Equation(Ci.dt() == e8)\n",
    "m.Equation(e9a * mu == e9b)\n",
    "m.Equation(e10a*Kd == e10b)\n",
    "\n",
    "# solve ODE\n",
    "m.options.IMODE = 4\n",
    "m.options.SOLVER = 1\n",
    "m.options.NODES = 3\n",
    "m.options.COLDSTART = 2\n",
    "#m.open_folder()\n",
    "m.solve(display=False)\n",
    "\n",
    "plt.figure()\n",
    "plt.subplot(3,1,1)\n",
    "plt.plot(m.time, XV.value,label='XV')\n",
    "plt.plot(m.time, XT.value,label='XT')\n",
    "plt.plot(m.time, XD.value,label='XD')\n",
    "plt.legend()\n",
    "plt.subplot(3,1,2)\n",
    "plt.plot(m.time, G.value,label='G')\n",
    "plt.plot(m.time, Q.value,label='Q')\n",
    "plt.plot(m.time, L.value,label='L')\n",
    "plt.plot(m.time, A.value,label='A')\n",
    "plt.legend()\n",
    "plt.subplot(3,1,3)\n",
    "plt.plot(m.time, mu.value,label='mu')\n",
    "plt.plot(m.time, Kd.value,label='Kd')\n",
    "plt.legend()\n",
    "plt.xlabel('Time (hr)')\n",
    "\n",
    "plt.figure()\n",
    "plt.plot(m.time, e1.value,'r-.',label='eqn1')\n",
    "plt.plot(m.time, e2.value,'g:',label='eqn2')\n",
    "plt.plot(m.time, e3.value,'b:',label='eqn3')\n",
    "plt.plot(m.time, e4.value,'b--',label='eqn4')\n",
    "plt.plot(m.time, e5.value,'y:',label='eqn5')\n",
    "plt.plot(m.time, e6.value,'m--',label='eqn6')\n",
    "plt.plot(m.time, e7.value,'b-.',label='eqn7')\n",
    "plt.plot(m.time, e8.value,'g--',label='eqn8')\n",
    "plt.plot(m.time, e9a.value,'r:',label='eqn9a')\n",
    "plt.plot(m.time, e9b.value,'r--',label='eqn9b')\n",
    "plt.plot(m.time, e10a.value,'k:',label='eqn10a')\n",
    "plt.plot(m.time, e10b.value,'k--',label='eqn10b')\n",
    "plt.legend()\n",
    "\n",
    "plt.show()"
   ]
  },
  {
   "cell_type": "code",
   "execution_count": null,
   "metadata": {},
   "outputs": [],
   "source": []
  }
 ],
 "metadata": {
  "kernelspec": {
   "display_name": "Python 3",
   "language": "python",
   "name": "python3"
  },
  "language_info": {
   "codemirror_mode": {
    "name": "ipython",
    "version": 3
   },
   "file_extension": ".py",
   "mimetype": "text/x-python",
   "name": "python",
   "nbconvert_exporter": "python",
   "pygments_lexer": "ipython3",
   "version": "3.8.3"
  }
 },
 "nbformat": 4,
 "nbformat_minor": 4
}
