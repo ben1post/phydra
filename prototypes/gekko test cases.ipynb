{
 "cells": [
  {
   "cell_type": "code",
   "execution_count": null,
   "metadata": {},
   "outputs": [],
   "source": [
    "# Gekko Model construction workflow:\n",
    "import numpy as np\n",
    "# 1. import gekko and create model:\n",
    "from gekko import GEKKO\n",
    "\n",
    "m = GEKKO(remote=False)\n",
    "\n",
    "# 2. define full model dimensionality\n",
    "ni = 100  # number of rows\n",
    "nj = 100  # number of columns\n",
    "\n",
    "\n",
    "xchange = m.Array(m.Var,(ni,nj),value=0.)\n",
    "\n",
    "# initialise components:\n",
    "x = m.Array(m.Var,(ni,nj),value=0.)\n",
    "\n",
    "# init\n",
    "for i in range(ni):\n",
    "    for j in range(nj):\n",
    "        \n",
    "        x[30,30].value = 2.0\n",
    "        x[40,40].value = 2.0\n",
    "        x[50,50].value = 2.0\n",
    "        x[60,60].value = 2.0\n",
    "        \n",
    "\n",
    "#define component_fluxes within grid_cells\n",
    "for i in range(ni):\n",
    "    for j in range(nj):\n",
    "        m.Equation(x[i][j].dt()== xchange[i,j])  # x[i][j]*0.1 +\n",
    "        \n",
    "        \n",
    "#define component_fluxes within grid_cells\n",
    "#for i in range(ni):\n",
    "#    for j in range(nj):\n",
    "        # edges = \n",
    "        \n",
    "        # else = \n",
    "for i in [0,ni-1]:\n",
    "    for j in range(nj-1):\n",
    "        #print(i,j)\n",
    "        m.Equation(xchange[i,j].dt() == 0)\n",
    "        \n",
    "for j in [ni-1,0]:\n",
    "    for i in range(nj-1):\n",
    "        #print(i,j)\n",
    "        m.Equation(xchange[i,j].dt() == 0)\n",
    "\n",
    "for i in range(1,ni-1):\n",
    "    for j in range(1,nj-1):\n",
    "        #print(i,j)\n",
    "        m.Equation(xchange[i,j].dt() == 0.1 * ((x[i+1][j] - 2* x[i,j] + x[i-1,j]) + (x[i][j+1] - 2* x[i,j] + x[i,j-1])) )\n",
    "        \n",
    "# provide time to model\n",
    "t = m.Var(0); m.Equation(t.dt()==1)\n",
    "\n",
    "time = np.arange(0,20)\n",
    "m.time = time\n",
    "\n",
    "m.options.imode = 7\n",
    "m.options.solver = 1\n",
    "m.options.nodes = 3\n",
    "\n",
    "m.solve() # disp=False)\n",
    "print('succesfully solved')"
   ]
  },
  {
   "cell_type": "code",
   "execution_count": null,
   "metadata": {},
   "outputs": [],
   "source": [
    "import matplotlib.pyplot as plt\n",
    "xx = np.array([[x[i][j] for i in range(ni)] for j in range(nj)], dtype='float64')\n",
    "\n",
    "\n",
    "for i in range(20):\n",
    "    \n",
    "    plt.imshow(xx[:,:,i])\n",
    "    plt.show()"
   ]
  },
  {
   "cell_type": "code",
   "execution_count": null,
   "metadata": {},
   "outputs": [],
   "source": []
  },
  {
   "cell_type": "code",
   "execution_count": 3,
   "metadata": {},
   "outputs": [],
   "source": [
    "from gekko import GEKKO"
   ]
  },
  {
   "cell_type": "code",
   "execution_count": 4,
   "metadata": {},
   "outputs": [],
   "source": [
    "a = GEKKO()"
   ]
  },
  {
   "cell_type": "code",
   "execution_count": 5,
   "metadata": {},
   "outputs": [],
   "source": [
    "import numpy"
   ]
  },
  {
   "cell_type": "code",
   "execution_count": null,
   "metadata": {},
   "outputs": [],
   "source": []
  },
  {
   "cell_type": "code",
   "execution_count": 3,
   "metadata": {},
   "outputs": [
    {
     "ename": "ModuleNotFoundError",
     "evalue": "No module named 'matplotlib'",
     "output_type": "error",
     "traceback": [
      "\u001b[0;31m---------------------------------------------------------------------------\u001b[0m",
      "\u001b[0;31mModuleNotFoundError\u001b[0m                       Traceback (most recent call last)",
      "\u001b[0;32m<ipython-input-3-4c2c871145b9>\u001b[0m in \u001b[0;36m<module>\u001b[0;34m\u001b[0m\n\u001b[0;32m----> 1\u001b[0;31m \u001b[0;32mimport\u001b[0m \u001b[0mmatplotlib\u001b[0m\u001b[0;34m.\u001b[0m\u001b[0mpyplot\u001b[0m \u001b[0;32mas\u001b[0m \u001b[0mplt\u001b[0m\u001b[0;34m\u001b[0m\u001b[0;34m\u001b[0m\u001b[0m\n\u001b[0m\u001b[1;32m      2\u001b[0m \u001b[0;31m#xx = np.array(x[0], dtype='float64')\u001b[0m\u001b[0;34m\u001b[0m\u001b[0;34m\u001b[0m\u001b[0;34m\u001b[0m\u001b[0m\n\u001b[1;32m      3\u001b[0m \u001b[0mx\u001b[0m\u001b[0;34m\u001b[0m\u001b[0;34m\u001b[0m\u001b[0m\n\u001b[1;32m      4\u001b[0m \u001b[0;31m#plt.plot(xx)\u001b[0m\u001b[0;34m\u001b[0m\u001b[0;34m\u001b[0m\u001b[0;34m\u001b[0m\u001b[0m\n\u001b[1;32m      5\u001b[0m \u001b[0mplt\u001b[0m\u001b[0;34m.\u001b[0m\u001b[0mshow\u001b[0m\u001b[0;34m(\u001b[0m\u001b[0;34m)\u001b[0m\u001b[0;34m\u001b[0m\u001b[0;34m\u001b[0m\u001b[0m\n",
      "\u001b[0;31mModuleNotFoundError\u001b[0m: No module named 'matplotlib'"
     ]
    }
   ],
   "source": [
    "import matplotlib.pyplot as plt\n",
    "#xx = np.array(x[0], dtype='float64')\n",
    "x\n",
    "#plt.plot(xx)\n",
    "plt.show()"
   ]
  },
  {
   "cell_type": "markdown",
   "metadata": {},
   "source": [
    "TODOlist, for implementing Gekko/XSIMLAB crossover\n",
    "\n",
    "# Follow the design of Gekko! create specific xsimlab wrappers\n",
    "\n",
    "- xs.any_object core keeping track of all necessary params\n",
    "- \n",
    "\n",
    "\n",
    "\n",
    "# I need an xs.any_object core object, that is updated with each component/flux/etc added, that handles gekko \"backend\" and flexibility, as well as parameters and their assignment.\n",
    "\n",
    "# Environment stores grid and passes dims to variables\n",
    "\n",
    "# Fluxes are m.Intermediate\n",
    "# Fluxes contain necessary parameters\n",
    "# Fluxes can be flexibly assigned to Components\n",
    "\n",
    "\n",
    "# Components/SVs store equation/matrix of m.Equations\n",
    "\n",
    "# Gridfluxes are also computed as intermediates\n",
    "\n",
    "#\n",
    "\n",
    "\n",
    "# provide choice for solver, step-wise or gekko\n"
   ]
  },
  {
   "cell_type": "code",
   "execution_count": 2,
   "metadata": {},
   "outputs": [],
   "source": [
    "m = GEKKO(remote=False) "
   ]
  },
  {
   "cell_type": "code",
   "execution_count": null,
   "metadata": {},
   "outputs": [],
   "source": []
  },
  {
   "cell_type": "code",
   "execution_count": null,
   "metadata": {},
   "outputs": [],
   "source": [
    "import numpy as np\n",
    "from gekko import GEKKO\n",
    "import matplotlib.pyplot as plt"
   ]
  },
  {
   "cell_type": "code",
   "execution_count": null,
   "metadata": {},
   "outputs": [],
   "source": [
    "xm = np.array([0,1,2,3,4,5])\n",
    "ym = np.array([0.1,0.2,0.3,0.5,1.0,0.9])\n",
    "\n",
    "m = GEKKO(remote=True)             # create GEKKO model\n",
    "m.options.IMODE = 2     # solution mode\n",
    "x = m.Param(value=np.linspace(-1,6)) # prediction points\n",
    "y = m.Var()             # prediction results\n",
    "m.cspline(x, y, xm, ym) # cubic spline\n",
    "m.solve()#disp=False)     # solve\n",
    "\n",
    "# create plot\n",
    "plt.plot(xm,ym,'bo')\n",
    "plt.plot(x.value,y.value,'r--',label='cubic spline')\n",
    "plt.legend(loc='best')"
   ]
  },
  {
   "cell_type": "code",
   "execution_count": 107,
   "metadata": {},
   "outputs": [
    {
     "data": {
      "text/plain": [
       "[<matplotlib.lines.Line2D at 0x122951f40>]"
      ]
     },
     "execution_count": 107,
     "metadata": {},
     "output_type": "execute_result"
    },
    {
     "data": {
      "image/png": "[encoded data removed]",
      "text/plain": [
       "<Figure size 432x288 with 1 Axes>"
      ]
     },
     "metadata": {
      "needs_background": "light"
     },
     "output_type": "display_data"
    }
   ],
   "source": [
    "data_time = np.arange(365)\n",
    "N0 = np.cos(data_time / 365*2*np.pi) + 1\n",
    "\n",
    "ForcingInt = intrp.CubicSpline(np.arange(len(data_time)*3), np.concatenate([N0,N0,N0], axis=None))\n",
    "\n",
    "plt.plot(N0)\n",
    "\n",
    "plt.plot(ForcingInt(np.arange(500)))"
   ]
  },
  {
   "cell_type": "code",
   "execution_count": 3,
   "metadata": {},
   "outputs": [
    {
     "ename": "TypeError",
     "evalue": "exceptions must derive from BaseException",
     "output_type": "error",
     "traceback": [
      "\u001b[0;31m---------------------------------------------------------------------------\u001b[0m",
      "\u001b[0;31mTypeError\u001b[0m                                 Traceback (most recent call last)",
      "\u001b[0;32m<ipython-input-3-162da32d6681>\u001b[0m in \u001b[0;36m<module>\u001b[0;34m\u001b[0m\n\u001b[0;32m----> 1\u001b[0;31m \u001b[0;32mraise\u001b[0m\u001b[0;34m(\u001b[0m\u001b[0;34m'Hi'\u001b[0m\u001b[0;34m)\u001b[0m\u001b[0;34m\u001b[0m\u001b[0;34m\u001b[0m\u001b[0m\n\u001b[0m",
      "\u001b[0;31mTypeError\u001b[0m: exceptions must derive from BaseException"
     ]
    }
   ],
   "source": [
    "raise('Hi')"
   ]
  },
  {
   "cell_type": "code",
   "execution_count": 4,
   "metadata": {},
   "outputs": [
    {
     "data": {
      "text/plain": [
       "<scipy.interpolate._cubic.CubicSpline at 0x11f06f0e0>"
      ]
     },
     "execution_count": 4,
     "metadata": {},
     "output_type": "execute_result"
    }
   ],
   "source": [
    "ForcingInt"
   ]
  },
  {
   "cell_type": "code",
   "execution_count": 1,
   "metadata": {},
   "outputs": [
    {
     "ename": "ModuleNotFoundError",
     "evalue": "No module named 'matplotlib'",
     "output_type": "error",
     "traceback": [
      "\u001b[0;31m---------------------------------------------------------------------------\u001b[0m",
      "\u001b[0;31mModuleNotFoundError\u001b[0m                       Traceback (most recent call last)",
      "\u001b[0;32m<ipython-input-1-9cc782cdcaed>\u001b[0m in \u001b[0;36m<module>\u001b[0;34m\u001b[0m\n\u001b[1;32m      1\u001b[0m \u001b[0;32mimport\u001b[0m \u001b[0mnumpy\u001b[0m \u001b[0;32mas\u001b[0m \u001b[0mnp\u001b[0m\u001b[0;34m\u001b[0m\u001b[0;34m\u001b[0m\u001b[0m\n\u001b[1;32m      2\u001b[0m \u001b[0;32mfrom\u001b[0m \u001b[0mgekko\u001b[0m \u001b[0;32mimport\u001b[0m \u001b[0mGEKKO\u001b[0m\u001b[0;34m\u001b[0m\u001b[0;34m\u001b[0m\u001b[0m\n\u001b[0;32m----> 3\u001b[0;31m \u001b[0;32mimport\u001b[0m \u001b[0mmatplotlib\u001b[0m\u001b[0;34m.\u001b[0m\u001b[0mpyplot\u001b[0m \u001b[0;32mas\u001b[0m \u001b[0mplt\u001b[0m\u001b[0;34m\u001b[0m\u001b[0;34m\u001b[0m\u001b[0m\n\u001b[0m\u001b[1;32m      4\u001b[0m \u001b[0;32mimport\u001b[0m \u001b[0mscipy\u001b[0m\u001b[0;34m.\u001b[0m\u001b[0minterpolate\u001b[0m \u001b[0;32mas\u001b[0m \u001b[0mintrp\u001b[0m\u001b[0;34m\u001b[0m\u001b[0;34m\u001b[0m\u001b[0m\n\u001b[1;32m      5\u001b[0m \u001b[0;34m\u001b[0m\u001b[0m\n",
      "\u001b[0;31mModuleNotFoundError\u001b[0m: No module named 'matplotlib'"
     ]
    }
   ],
   "source": [
    "import numpy as np\n",
    "from gekko import GEKKO\n",
    "#import matplotlib.pyplot as plt\n",
    "import scipy.interpolate as intrp\n",
    "\n",
    "def phydra_EQ_add(Component, EQ2add):\n",
    "    a = np.nditer(Component, flags=['zerosize_ok','refs_ok', 'multi_index'])\n",
    "    b = np.nditer(EQ2add, flags=['zerosize_ok','refs_ok', 'multi_index'])\n",
    "    while not b.finished:\n",
    "        while not a.finished:\n",
    "            print(a.value, b.value)\n",
    "            m.Equation(Component[a.multi_index].dt() == EQ2add[b.multi_index])\n",
    "            a.iternext()\n",
    "        b.iternext()\n",
    "\n",
    "def blowup_Dims(IN, FullDims, type_func):\n",
    "    OUT = np.array(FullDims, dtype='object')\n",
    "    INiterator = np.nditer(IN, flags=['zerosize_ok','refs_ok', 'multi_index'])\n",
    "    for inVal in INiterator:\n",
    "        OUT[...] = type_func(inVal)\n",
    "        \n",
    "    print(OUT)\n",
    "    return OUT\n",
    "\n",
    "\n",
    "\n",
    "m = GEKKO()   \n",
    "\n",
    "t = m.SV(0)\n",
    "\n",
    "#N = m.SV(1)\n",
    "\n",
    "time = np.arange(0, 700)\n",
    "#N0 = m.Var() #m.Param(np.linspace(2, 1, len(time)))\n",
    "D1_dims = 5\n",
    "Ns = blowup_Dims(1, (2,2), m.SV)\n",
    "\n",
    "print(Ns)\n",
    "#Ns = m.Array(m.SV,(D1_dims, D1_dims))\n",
    "print(Ns.dtype)\n",
    "\n",
    "print(Ns.shape)\n",
    "    \n",
    "Ns_EQ = m.Array(m.Param,(D1_dims, D1_dims))\n",
    "\n",
    "def phydra_Param_add(Param, Part):\n",
    "    a = np.nditer(Param, op_flags=['readwrite'], flags=['zerosize_ok','refs_ok', 'multi_index'])\n",
    "    b = np.nditer(Part, op_flags=['readwrite'], flags=['zerosize_ok','refs_ok', 'multi_index'])\n",
    "    while not b.finished:\n",
    "        while not a.finished:\n",
    "            print(a.value, type(a.value), b.value, type(b.value))\n",
    "            Param[a.multi_index] = Part[b.multi_index]\n",
    "            a.iternext()\n",
    "        b.iternext()\n",
    "        \n",
    "    return Param\n",
    "        \n",
    "\n",
    "N0_int = ForcingInt(np.mod(time, 365.))\n",
    "\n",
    "Ns_EQ = phydra_Param_add(Ns_EQ, N0_int - N)\n",
    "\n",
    "#Ns_EQ = [m.Intermediate(N0_int - N)]\n",
    "\n",
    "phydra_EQ_add(Ns, Ns_EQ)\n",
    "\n",
    "m.Equation(t.dt() == 1)\n",
    "    \n",
    "\n",
    "\n",
    "m.time = time\n",
    "\n",
    "m.options.IMODE = 7\n",
    "\n",
    "m.solve(disp=False)"
   ]
  },
  {
   "cell_type": "code",
   "execution_count": 81,
   "metadata": {},
   "outputs": [
    {
     "data": {
      "text/plain": [
       "[<matplotlib.lines.Line2D at 0x12247d070>]"
      ]
     },
     "execution_count": 81,
     "metadata": {},
     "output_type": "execute_result"
    },
    {
     "data": {
      "image/png": "[encoded data removed]",
      "text/plain": [
       "<Figure size 432x288 with 1 Axes>"
      ]
     },
     "metadata": {
      "needs_background": "light"
     },
     "output_type": "display_data"
    }
   ],
   "source": [
    "plt.plot(time, Ns[0,0])"
   ]
  },
  {
   "cell_type": "code",
   "execution_count": 1,
   "metadata": {},
   "outputs": [
    {
     "ename": "ModuleNotFoundError",
     "evalue": "No module named 'matplotlib'",
     "output_type": "error",
     "traceback": [
      "\u001b[0;31m---------------------------------------------------------------------------\u001b[0m",
      "\u001b[0;31mModuleNotFoundError\u001b[0m                       Traceback (most recent call last)",
      "\u001b[0;32m<ipython-input-1-5a7781212ab3>\u001b[0m in \u001b[0;36m<module>\u001b[0;34m\u001b[0m\n\u001b[1;32m      1\u001b[0m \u001b[0;32mimport\u001b[0m \u001b[0mnumpy\u001b[0m \u001b[0;32mas\u001b[0m \u001b[0mnp\u001b[0m\u001b[0;34m\u001b[0m\u001b[0;34m\u001b[0m\u001b[0m\n\u001b[1;32m      2\u001b[0m \u001b[0;32mfrom\u001b[0m \u001b[0mgekko\u001b[0m \u001b[0;32mimport\u001b[0m \u001b[0mGEKKO\u001b[0m\u001b[0;34m\u001b[0m\u001b[0;34m\u001b[0m\u001b[0m\n\u001b[0;32m----> 3\u001b[0;31m \u001b[0;32mimport\u001b[0m \u001b[0mmatplotlib\u001b[0m\u001b[0;34m.\u001b[0m\u001b[0mpyplot\u001b[0m \u001b[0;32mas\u001b[0m \u001b[0mplt\u001b[0m\u001b[0;34m\u001b[0m\u001b[0;34m\u001b[0m\u001b[0m\n\u001b[0m\u001b[1;32m      4\u001b[0m \u001b[0;34m\u001b[0m\u001b[0m\n\u001b[1;32m      5\u001b[0m \u001b[0mm\u001b[0m \u001b[0;34m=\u001b[0m \u001b[0mGEKKO\u001b[0m\u001b[0;34m(\u001b[0m\u001b[0;34m)\u001b[0m    \u001b[0;31m# create GEKKO model\u001b[0m\u001b[0;34m\u001b[0m\u001b[0;34m\u001b[0m\u001b[0m\n",
      "\u001b[0;31mModuleNotFoundError\u001b[0m: No module named 'matplotlib'"
     ]
    }
   ],
   "source": [
    "import numpy as np\n",
    "from gekko import GEKKO\n",
    "import matplotlib.pyplot as plt\n",
    "\n",
    "m = GEKKO()    # create GEKKO model\n",
    "\n",
    "halfsat = 0.1\n",
    "N0 = 1.\n",
    "inflow = 0.1\n",
    "mortality = 0.1\n",
    "\n",
    "N = m.SV(1)\n",
    "P = m.SV(0.1)\n",
    "\n",
    "# create GEKKO parameter\n",
    "t = np.arange(0,10,0.1)\n",
    "m.time = t\n",
    "\n",
    "nutlim = m.Intermediate(N/(N+halfsat)*P)\n",
    "inflow = m.Intermediate(N0 * inflow)\n",
    "mortality = m.Intermediate(P * mortality)\n",
    "\n",
    "m.Equation(N.dt()==inflow - nutlim)\n",
    "m.Equation(P.dt()==nutlim - mortality)\n",
    "\n",
    "m.options.IMODE = 7\n",
    "\n",
    "m.solve(disp=False)\n",
    "\n",
    "print('solved')"
   ]
  },
  {
   "cell_type": "code",
   "execution_count": 123,
   "metadata": {},
   "outputs": [
    {
     "data": {
      "text/plain": [
       "[0.1, 0.1, 0.1, 0.1, 0.1, 0.1, 0.1, 0.1, 0.1, 0.1, 0.1, 0.1, 0.1, 0.1, 0.1, 0.1, 0.1, 0.1, 0.1, 0.1, 0.1, 0.1, 0.1, 0.1, 0.1, 0.1, 0.1, 0.1, 0.1, 0.1, 0.1, 0.1, 0.1, 0.1, 0.1, 0.1, 0.1, 0.1, 0.1, 0.1, 0.1, 0.1, 0.1, 0.1, 0.1, 0.1, 0.1, 0.1, 0.1, 0.1, 0.1, 0.1, 0.1, 0.1, 0.1, 0.1, 0.1, 0.1, 0.1, 0.1, 0.1, 0.1, 0.1, 0.1, 0.1, 0.1, 0.1, 0.1, 0.1, 0.1, 0.1, 0.1, 0.1, 0.1, 0.1, 0.1, 0.1, 0.1, 0.1, 0.1, 0.1, 0.1, 0.1, 0.1, 0.1, 0.1, 0.1, 0.1, 0.1, 0.1, 0.1, 0.1, 0.1, 0.1, 0.1, 0.1, 0.1, 0.1, 0.1, 0.1]"
      ]
     },
     "execution_count": 123,
     "metadata": {},
     "output_type": "execute_result"
    }
   ],
   "source": [
    "inflow"
   ]
  },
  {
   "cell_type": "code",
   "execution_count": 122,
   "metadata": {},
   "outputs": [
    {
     "data": {
      "text/plain": [
       "[<matplotlib.lines.Line2D at 0x123be05b0>]"
      ]
     },
     "execution_count": 122,
     "metadata": {},
     "output_type": "execute_result"
    },
    {
     "data": {
      "image/png": "[encoded data removed]",
      "text/plain": [
       "<Figure size 432x288 with 1 Axes>"
      ]
     },
     "metadata": {
      "needs_background": "light"
     },
     "output_type": "display_data"
    }
   ],
   "source": [
    "plt.plot(m.time, N)\n",
    "plt.plot(m.time, P)"
   ]
  },
  {
   "cell_type": "code",
   "execution_count": null,
   "metadata": {},
   "outputs": [],
   "source": []
  },
  {
   "cell_type": "code",
   "execution_count": 2,
   "metadata": {},
   "outputs": [
    {
     "name": "stdout",
     "output_type": "stream",
     "text": [
      "apm 75.80.96.79_gk_model1 <br><pre> ----------------------------------------------------------------\n",
      " APMonitor, Version 0.9.2\n",
      " APMonitor Optimization Suite\n",
      " ----------------------------------------------------------------\n",
      " \n",
      " \n",
      " --------- APM Model Size ------------\n",
      " Each time step contains\n",
      "   Objects      :            0\n",
      "   Constants    :            0\n",
      "   Variables    :           10\n",
      "   Intermediates:           15\n",
      "   Connections  :            0\n",
      "   Equations    :           25\n",
      "   Residuals    :           10\n",
      " \n",
      " --- Begin Pre-solve  -----------------------\n",
      "  Original nvar:         4320\n",
      "  Original neqn:         4320\n",
      "  Pre-solve turn off DOF\n",
      "  Pre-solve Variables:         4320\n",
      "  Pre-solve Equations:         4320\n",
      "  --- Solve block size:           72\n",
      " ----------------------------------------------\n",
      " Dynamic Simulation with APOPT Solver\n",
      " ----------------------------------------------\n",
      " \n",
      " Iter    Objective  Convergence\n",
      "    0  1.76437E-19  4.79667E-01\n",
      "    1  2.77970E-21  3.74673E-02\n",
      "    2  2.80949E-24  5.24444E-02\n",
      "    3  3.01519E-33  8.83730E-05\n",
      "    4  3.01519E-33  8.83730E-05\n",
      " Successful solution\n",
      " \n",
      " ---------------------------------------------------\n",
      " Presolve total time  :   8.350000000791624E-002 sec\n",
      " ---------------------------------------------------\n",
      " \n",
      "  --- Solve block size:          144\n",
      " ----------------------------------------------\n",
      " Dynamic Simulation with APOPT Solver\n",
      " ----------------------------------------------\n",
      " \n",
      " Iter    Objective  Convergence\n",
      "    0  2.17501E-22  1.52205E-02\n",
      "    1  3.90069E-31  1.92136E-06\n",
      "    2  3.90069E-31  1.92136E-06\n",
      " Successful solution\n",
      " \n",
      " ---------------------------------------------------\n",
      " Presolve total time  :   0.126300000003539      sec\n",
      " ---------------------------------------------------\n",
      " \n",
      "  --- Solve block size:          288\n",
      " ----------------------------------------------\n",
      " Dynamic Simulation with APOPT Solver\n",
      " ----------------------------------------------\n",
      " \n",
      " Iter    Objective  Convergence\n",
      "    0  1.44351E-21  1.61681E-02\n",
      "    1  1.62742E-29  7.93775E-06\n",
      "    2  1.62742E-29  7.93775E-06\n",
      " Successful solution\n",
      " \n",
      " ---------------------------------------------------\n",
      " Presolve total time  :   0.152500000025611      sec\n",
      " ---------------------------------------------------\n",
      " \n",
      "  --- Solve block size:          576\n",
      " ----------------------------------------------\n",
      " Dynamic Simulation with APOPT Solver\n",
      " ----------------------------------------------\n",
      " \n",
      " Iter    Objective  Convergence\n",
      "    0  1.00906E-20  1.82445E-02\n",
      "    1  7.99560E-28  1.67634E-05\n",
      "    2  7.99560E-28  1.67634E-05\n",
      " Successful solution\n",
      " \n",
      " ---------------------------------------------------\n",
      " Presolve total time  :   0.189100000017788      sec\n",
      " ---------------------------------------------------\n",
      " \n",
      "  --- Solve block size:         1152\n",
      " ----------------------------------------------\n",
      " Dynamic Simulation with APOPT Solver\n",
      " ----------------------------------------------\n",
      " \n",
      " Iter    Objective  Convergence\n",
      "    0  7.02120E-20  1.78804E-02\n",
      "    1  3.83789E-26  6.98243E-05\n",
      "    2  3.83789E-26  6.98243E-05\n",
      " Successful solution\n",
      " \n",
      " ---------------------------------------------------\n",
      " Presolve total time  :   0.276900000026217      sec\n",
      " ---------------------------------------------------\n",
      " \n",
      "  --- Solve block size:         2088\n",
      " ----------------------------------------------\n",
      " Dynamic Simulation with APOPT Solver\n",
      " ----------------------------------------------\n",
      " \n",
      " Iter    Objective  Convergence\n",
      "    0  3.34878E-19  1.88290E-02\n",
      "    1  1.16134E-25  5.16128E-05\n",
      "    2  1.16134E-25  5.16128E-05\n",
      " Successful solution\n",
      " \n",
      " ---------------------------------------------------\n",
      " Presolve total time  :   0.362100000027567      sec\n",
      " ---------------------------------------------------\n",
      " \n",
      " Successful Pre-solve Solution\n",
      " --- End Pre-solve -----------------------------------\n",
      " \n"
     ]
    },
    {
     "data": {
      "image/png": "[encoded data removed]",
      "text/plain": [
       "<Figure size 432x288 with 3 Axes>"
      ]
     },
     "metadata": {
      "needs_background": "light"
     },
     "output_type": "display_data"
    },
    {
     "data": {
      "image/png": "[encoded data removed]",
      "text/plain": [
       "<Figure size 432x288 with 1 Axes>"
      ]
     },
     "metadata": {
      "needs_background": "light"
     },
     "output_type": "display_data"
    }
   ],
   "source": [
    "import numpy as np\n",
    "from gekko import GEKKO\n",
    "import matplotlib.pyplot as plt\n",
    "\n",
    "m = GEKKO()    # create GEKKO model\n",
    "\n",
    "#constants 3L continuous fed-batch\n",
    "KdQ = 0.001        #degree of degradation of glutamine (1/h)\n",
    "mG = 1.1e-10   #glucose maintenance coefficient (mmol/cell/hour)\n",
    "YAQ = 0.90         #yield of ammonia from glutamine\n",
    "YLG = 2            #yield of lactate from glucose\n",
    "YXG = 2.2e8    #yield of cells from glucose (cells/mmol)\n",
    "YXQ = 1.5e9    #yield of cells from glutamine (cells/mmol)\n",
    "KL = 150           #lactate saturation constant (mM)\n",
    "KA = 40            #ammonia saturation constant (mM)\n",
    "Kdmax = 0.01       #maximum death rate (1/h)\n",
    "mumax = 0.044      #maximum growth rate (1/h)\n",
    "KG = 1             #glucose saturation constant (mM)\n",
    "KQ = 0.22          #glutamine saturation constant (mM)\n",
    "mQ = 0             #glutamine maintenance coefficient (mmol/cell/hour)\n",
    "kmu = 0.01         #intrinsic death rate (1/h)\n",
    "Klysis = 2e-2  #rate of cell lysis (1/h)\n",
    "Ci_star = 100      #inhibitor saturation concentration (mM)\n",
    "qi = 2.5e-10   #specific inhibitor production rate (1/h)\n",
    "\n",
    "#Flow, volume and concentration\n",
    "Fo = 0.001         #feed-rate (L/h)\n",
    "Fi = 0.001         #feed-rate (L/h)\n",
    "V = 3              #volume (L)\n",
    "SG = 653           #glucose concentration in the feed (mM)\n",
    "SQ = 58.8          #glutamine concentration in the feed (mM)\n",
    "\n",
    "# create GEKKO parameter\n",
    "t = np.linspace(0,50,121)\n",
    "m.time = t\n",
    "\n",
    "XTMM = m.Var(value=1,name='XT')            #total cell density (MMcells/L)\n",
    "XVMM = m.Var(value=1,lb=0, name='XV')      #viable cell density (MMcells/L)\n",
    "XDMM = m.Var(value=1.0,name='XD')          #dead cell density (MMcells/L)\n",
    "G = m.Var(value = 20, name='G')            #glucose concentration (mM)\n",
    "Q = m.Var(value = 4.5, name='Q')           #glutamine concentration (mM)\n",
    "L = m.Var(value=1,name='L')                #lactate concentration (mM)\n",
    "A = m.Var(value=1.6,name='A')              #ammonia concentration (mM)\n",
    "Ci = m.Var(value=0.1,name='Ci')            #inhibitor concentration (mM)\n",
    "mu = m.Var(value=0.1,name='mu')            #growth rate (1/h)\n",
    "Kd = m.Var(value=0.5,name='Kd')            #death rate(1/h)\n",
    "\n",
    "# scale back to cells/L from million cells/L\n",
    "XT = m.Intermediate(XTMM*1e7)\n",
    "XV = m.Intermediate(XVMM*1e7)\n",
    "XD = m.Intermediate(XDMM*1e7)\n",
    "\n",
    "e1 = m.Intermediate((mu*XV - Klysis*XD - XT*Fo/V)/1e7)\n",
    "e2 = m.Intermediate(((mu - Kd)*XV - XV*Fo/V)/1e7)\n",
    "e3 = m.Intermediate((Kd*XV - Klysis*XD - XV*Fo/V)/1e7)\n",
    "e4 = m.Intermediate((Fi/V)*SG - (Fo/V)*G + (-mu/YXG - mG)*XV)\n",
    "e5 = m.Intermediate((Fi/V)*SQ - (Fo/V)*Q + (-mu/YXQ - mQ)*XV - KdQ*Q)\n",
    "e6 = m.Intermediate(-YLG*(-mu/YXG -mG)*XV-(Fo/V)*L)\n",
    "e7 = m.Intermediate(-YAQ*(-mu/YXQ - mQ)*XV +KdQ*Q-(Fo/V)*A)\n",
    "e8 = m.Intermediate(qi*XV - (Fo/V)*Ci)\n",
    "e9a = m.Intermediate((Ci_star*(KG+G)*(KQ+Q)*(L/KL + 1)*(A/KA + 1)))\n",
    "e9b = m.Intermediate((mumax*G*Q*(Ci_star-Ci)))\n",
    "e10a = m.Intermediate((mu+kmu))\n",
    "e10b = m.Intermediate(Kdmax*kmu)\n",
    "\n",
    "# create GEEKO equations\n",
    "m.Equation(XTMM.dt() == e1)\n",
    "m.Equation(XVMM.dt() == e2)\n",
    "m.Equation(XDMM.dt() == e3)\n",
    "m.Equation(G.dt() == e4)\n",
    "m.Equation(Q.dt() == e5)\n",
    "m.Equation(L.dt() == e6)\n",
    "m.Equation(A.dt() == e7)\n",
    "m.Equation(Ci.dt() == e8)\n",
    "m.Equation(e9a * mu == e9b)\n",
    "m.Equation(e10a*Kd == e10b)\n",
    "\n",
    "# solve ODE\n",
    "m.options.IMODE = 4\n",
    "m.options.SOLVER = 1\n",
    "m.options.NODES = 3\n",
    "m.options.COLDSTART = 2\n",
    "#m.open_folder()\n",
    "m.solve(display=False)\n",
    "\n",
    "plt.figure()\n",
    "plt.subplot(3,1,1)\n",
    "plt.plot(m.time, XV.value,label='XV')\n",
    "plt.plot(m.time, XT.value,label='XT')\n",
    "plt.plot(m.time, XD.value,label='XD')\n",
    "plt.legend()\n",
    "plt.subplot(3,1,2)\n",
    "plt.plot(m.time, G.value,label='G')\n",
    "plt.plot(m.time, Q.value,label='Q')\n",
    "plt.plot(m.time, L.value,label='L')\n",
    "plt.plot(m.time, A.value,label='A')\n",
    "plt.legend()\n",
    "plt.subplot(3,1,3)\n",
    "plt.plot(m.time, mu.value,label='mu')\n",
    "plt.plot(m.time, Kd.value,label='Kd')\n",
    "plt.legend()\n",
    "plt.xlabel('Time (hr)')\n",
    "\n",
    "plt.figure()\n",
    "plt.plot(m.time, e1.value,'r-.',label='eqn1')\n",
    "plt.plot(m.time, e2.value,'g:',label='eqn2')\n",
    "plt.plot(m.time, e3.value,'b:',label='eqn3')\n",
    "plt.plot(m.time, e4.value,'b--',label='eqn4')\n",
    "plt.plot(m.time, e5.value,'y:',label='eqn5')\n",
    "plt.plot(m.time, e6.value,'m--',label='eqn6')\n",
    "plt.plot(m.time, e7.value,'b-.',label='eqn7')\n",
    "plt.plot(m.time, e8.value,'g--',label='eqn8')\n",
    "plt.plot(m.time, e9a.value,'r:',label='eqn9a')\n",
    "plt.plot(m.time, e9b.value,'r--',label='eqn9b')\n",
    "plt.plot(m.time, e10a.value,'k:',label='eqn10a')\n",
    "plt.plot(m.time, e10b.value,'k--',label='eqn10b')\n",
    "plt.legend()\n",
    "\n",
    "plt.show()"
   ]
  },
  {
   "cell_type": "code",
   "execution_count": null,
   "metadata": {},
   "outputs": [],
   "source": []
  }
 ],
 "metadata": {
  "kernelspec": {
   "display_name": "Python 3",
   "language": "python",
   "name": "python3"
  },
  "language_info": {
   "codemirror_mode": {
    "name": "ipython",
    "version": 3
   },
   "file_extension": ".py",
   "mimetype": "text/x-python",
   "name": "python",
   "nbconvert_exporter": "python",
   "pygments_lexer": "ipython3",
   "version": "3.8.3"
  }
 },
 "nbformat": 4,
 "nbformat_minor": 4
}
