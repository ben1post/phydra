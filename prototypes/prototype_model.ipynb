{
 "cells": [
  {
   "cell_type": "markdown",
   "metadata": {},
   "source": [
    "# FINAL NPZD PROTOTYPE"
   ]
  },
  {
   "cell_type": "markdown",
   "metadata": {},
   "source": [
    "# NOTE:\n",
    "\n",
    "actually assemble all variables involved with a flux, and register from there!\n",
    "add that extra level of complexity! so the problem if one has a dim and another doesn't\n",
    "\n",
    "here list of vars supplied and flux routing could happen!!!\n",
    "\n",
    "do this!\n",
    "\n",
    "also,\n",
    "think again how to use groups in the cleanest way possible!\n",
    "\n",
    "\n"
   ]
  },
  {
   "cell_type": "code",
   "execution_count": 1,
   "metadata": {},
   "outputs": [],
   "source": [
    "import os,sys,inspect\n",
    "sys.path.insert(1, os.path.join(sys.path[0], '..'))\n",
    "\n",
    "import phydra"
   ]
  },
  {
   "cell_type": "code",
   "execution_count": 2,
   "metadata": {},
   "outputs": [],
   "source": [
    "from phydra.components.variables import SV, SVArray"
   ]
  },
  {
   "cell_type": "code",
   "execution_count": 3,
   "metadata": {},
   "outputs": [
    {
     "ename": "ImportError",
     "evalue": "cannot import name 'LinearForcingInput' from 'phydra.components.fluxes' (/Users/bpo/Documents/GitHub/phydra/prototypes/../phydra/components/fluxes/__init__.py)",
     "output_type": "error",
     "traceback": [
      "\u001b[0;31m---------------------------------------------------------------------------\u001b[0m",
      "\u001b[0;31mImportError\u001b[0m                               Traceback (most recent call last)",
      "\u001b[0;32m<ipython-input-3-be1323e77de7>\u001b[0m in \u001b[0;36m<module>\u001b[0;34m\u001b[0m\n\u001b[0;32m----> 1\u001b[0;31m from phydra.components.fluxes import (LinearForcingInput,\n\u001b[0m\u001b[1;32m      2\u001b[0m                                       \u001b[0mLinearMortality\u001b[0m\u001b[0;34m,\u001b[0m\u001b[0;34m\u001b[0m\u001b[0;34m\u001b[0m\u001b[0m\n\u001b[1;32m      3\u001b[0m                                       \u001b[0mMonodGrowth\u001b[0m\u001b[0;34m,\u001b[0m\u001b[0;34m\u001b[0m\u001b[0;34m\u001b[0m\u001b[0m\n\u001b[1;32m      4\u001b[0m                                       \u001b[0mMultiLimGrowth\u001b[0m\u001b[0;34m,\u001b[0m \u001b[0mMonod_ML\u001b[0m\u001b[0;34m,\u001b[0m\u001b[0;34m\u001b[0m\u001b[0;34m\u001b[0m\u001b[0m\n\u001b[1;32m      5\u001b[0m                                       \u001b[0mListInputFlux\u001b[0m\u001b[0;34m\u001b[0m\u001b[0;34m\u001b[0m\u001b[0m\n",
      "\u001b[0;31mImportError\u001b[0m: cannot import name 'LinearForcingInput' from 'phydra.components.fluxes' (/Users/bpo/Documents/GitHub/phydra/prototypes/../phydra/components/fluxes/__init__.py)"
     ]
    }
   ],
   "source": [
    "from phydra.components.fluxes import (LinearForcingInput,\n",
    "                                      LinearMortality,\n",
    "                                      MonodGrowth,\n",
    "                                      MultiLimGrowth, Monod_ML,\n",
    "                                      ListInputFlux\n",
    "                                     )\n",
    "from phydra.components.forcings import ConstantForcing, GlobalSlabClimatologyForcing"
   ]
  },
  {
   "cell_type": "code",
   "execution_count": 4,
   "metadata": {},
   "outputs": [],
   "source": [
    "import numpy as np\n",
    "\n",
    "np.warnings.filterwarnings('error', category=np.VisibleDeprecationWarning)"
   ]
  },
  {
   "cell_type": "code",
   "execution_count": 5,
   "metadata": {},
   "outputs": [],
   "source": [
    "NPZD = phydra.create({'Nutrient':SV,\n",
    "                      'Nutrient2':SV,\n",
    "                      'Phytoplankton':SV,\n",
    "\n",
    "                      'Input':LinearForcingInput,                       \n",
    "                      'Growth':MultiLimGrowth,\n",
    "                      'Monod':Monod_ML,\n",
    "                      'Mortality': LinearMortality,\n",
    "                      \n",
    "                      # HERE NEED TO ADD THIS:\n",
    "                      #'N0':GlobalSlabClimatologyForcing,\n",
    "                      'N0':ConstantForcing,\n",
    "                      \n",
    "                      'ListInputFlux':ListInputFlux,\n",
    "                     })"
   ]
  },
  {
   "cell_type": "code",
   "execution_count": 6,
   "metadata": {},
   "outputs": [
    {
     "data": {
      "text/plain": [
       "<xsimlab.Model (12 processes, 23 inputs)>\n",
       "Core\n",
       "    solver_type       [in]\n",
       "Time\n",
       "    time              [in] ('input_time',) sequence of time points ...\n",
       "Nutrient\n",
       "    var_label         [in] label / basic state variable\n",
       "    var_init          [in] initial value / basic state variable\n",
       "Nutrient2\n",
       "    var_init          [in] initial value / basic state variable\n",
       "    var_label         [in] label / basic state variable\n",
       "Phytoplankton\n",
       "    var_label         [in] label / basic state variable\n",
       "    var_init          [in] initial value / basic state variable\n",
       "N0\n",
       "    forcing_label     [in] label / \n",
       "    value             [in] constant value of forcing\n",
       "Input\n",
       "    forcing           [in] label reference / forcing affecting flux\n",
       "    var               [in] label reference / variable affected by flux\n",
       "    rate              [in] linear rate of change\n",
       "Mortality\n",
       "    var               [in] label reference / variable affected by flux\n",
       "    rate              [in] linear rate of change\n",
       "Monod\n",
       "    resource          [in] label reference / \n",
       "    halfsat           [in] monod half-saturation constant\n",
       "ListInputFlux\n",
       "    consumer          [in] label reference / \n",
       "    resources         [in] ('resources',) label reference / \n",
       "    halfsats          [in] ('resources',) \n",
       "Growth\n",
       "    mu_max            [in] maximum growth rate\n",
       "    resource          [in] label reference / \n",
       "    consumer          [in] label reference / \n",
       "Solver"
      ]
     },
     "execution_count": 6,
     "metadata": {},
     "output_type": "execute_result"
    }
   ],
   "source": [
    "NPZD"
   ]
  },
  {
   "cell_type": "code",
   "execution_count": 7,
   "metadata": {},
   "outputs": [],
   "source": [
    "odeint_setup = phydra.setup('odeint', NPZD,\n",
    "            time=np.arange(0,10,0.1),\n",
    "            input_vars={\n",
    "                'Nutrient':{'var_label':'N', 'var_init':3.},\n",
    "                'Nutrient2':{'var_label':'N2', 'var_init':3.},\n",
    "                'Phytoplankton':{'var_label':'P', 'var_init':0.1},\n",
    "                \n",
    "                'Input':{'var':'N', 'rate':0.1, 'forcing':'N0'},\n",
    "                #'Input2':{'var':'N2', 'rate':0.05, 'forcing':'N0'},\n",
    "                \n",
    "                'Growth':{'consumer':'P', 'resource':'N', 'mu_max':1.},\n",
    "                'Monod':{'resource':'N', 'halfsat':1.5},\n",
    "                \n",
    "                'Mortality':{'var':'P', 'rate':0.1},\n",
    "                \n",
    "                'N0':{'forcing_label':'N0', 'value':2.},\n",
    "                #'N0':{'forcing_label':'N0', 'dataset':'n0x',\n",
    "                #      'lat':47, 'lon':-20, 'rbb':2,\n",
    "                #      'smooth':5, 'k':2},\n",
    "                \n",
    "                'ListInputFlux':{'resources':['N', 'N2'], 'consumer':'P', 'halfsats':[2.,2.]},\n",
    "            },\n",
    "            output_vars=\"ALL\"\n",
    "            )"
   ]
  },
  {
   "cell_type": "code",
   "execution_count": null,
   "metadata": {},
   "outputs": [],
   "source": [
    "with NPZD:\n",
    "     odeint_out = odeint_setup.xsimlab.run()"
   ]
  },
  {
   "cell_type": "code",
   "execution_count": null,
   "metadata": {},
   "outputs": [],
   "source": [
    "odeint_out"
   ]
  },
  {
   "cell_type": "code",
   "execution_count": null,
   "metadata": {},
   "outputs": [],
   "source": [
    "import matplotlib.pyplot as plt"
   ]
  },
  {
   "cell_type": "code",
   "execution_count": null,
   "metadata": {},
   "outputs": [],
   "source": [
    "time = odeint_out.Time__time\n",
    "\n",
    "plt.plot(time, odeint_out.Nutrient__var_value, label='N')\n",
    "#plt.plot(time, odeint_out.Nutrient2__var_value, label='N2')\n",
    "plt.plot(time, odeint_out.Phytoplankton__var_value.T, label='P')\n",
    "#plt.ylim(bottom=0)\n",
    "plt.legend()"
   ]
  },
  {
   "cell_type": "code",
   "execution_count": null,
   "metadata": {},
   "outputs": [],
   "source": [
    "plt.plot(time, odeint_out.Input__input_value, label='N Input')"
   ]
  },
  {
   "cell_type": "code",
   "execution_count": null,
   "metadata": {},
   "outputs": [],
   "source": [
    "plt.plot(time, odeint_out.Input__input_value, label='N Input')\n",
    "plt.plot(time, odeint_out.Growth__growth_value.T, label='P ListINPUT Growth')\n",
    "plt.plot(time, -odeint_out.Mortality__death_value, label='P Mortality')\n",
    "plt.legend()"
   ]
  },
  {
   "cell_type": "code",
   "execution_count": null,
   "metadata": {},
   "outputs": [],
   "source": [
    "stepwise_setup = phydra.update_setup(model=NPZD, old_setup=odeint_setup, new_solver=\"stepwise\")"
   ]
  },
  {
   "cell_type": "code",
   "execution_count": null,
   "metadata": {},
   "outputs": [],
   "source": [
    "with NPZD:\n",
    "    stepwise_out = stepwise_setup.xsimlab.run()"
   ]
  },
  {
   "cell_type": "code",
   "execution_count": null,
   "metadata": {},
   "outputs": [],
   "source": [
    "stepwise_out"
   ]
  },
  {
   "cell_type": "code",
   "execution_count": null,
   "metadata": {},
   "outputs": [],
   "source": [
    "import matplotlib.pyplot as plt"
   ]
  },
  {
   "cell_type": "code",
   "execution_count": null,
   "metadata": {},
   "outputs": [],
   "source": [
    "time = stepwise_out.Time__time\n",
    "\n",
    "plt.plot(time, stepwise_out.Nutrient__var_value, label='N')\n",
    "#plt.plot(time, stepwise_out.Nutrient2__var_value, label='N2')\n",
    "plt.plot(time, stepwise_out.Phytoplankton__var_value.T, label='P')\n",
    "plt.ylim(bottom=0)\n",
    "plt.legend()"
   ]
  },
  {
   "cell_type": "code",
   "execution_count": null,
   "metadata": {},
   "outputs": [],
   "source": [
    "plt.plot(time, stepwise_out.Input__input_value, label='N Input')\n",
    "plt.ylim(bottom=0)\n",
    "plt.legend()"
   ]
  },
  {
   "cell_type": "code",
   "execution_count": 8,
   "metadata": {},
   "outputs": [],
   "source": [
    "gekko_setup = phydra.update_setup(model=NPZD, \n",
    "                                  old_setup=odeint_setup, \n",
    "                                  new_solver=\"gekko\", \n",
    "                                  # gekko solver works better (much faster) with smaller time steps:\n",
    "                                  # new_time=np.arange(0,201,.1)\n",
    "                                 )"
   ]
  },
  {
   "cell_type": "code",
   "execution_count": 9,
   "metadata": {},
   "outputs": [
    {
     "name": "stdout",
     "output_type": "stream",
     "text": [
      "initializing model backend\n",
      "Initializing Model Time\n",
      "Initializing component Nutrient\n",
      "Initializing component Nutrient2\n",
      "Initializing component Phytoplankton\n",
      "Initializing component N0\n",
      "forcing function is in directory: /Users/bpo/Documents/GitHub/phydra/prototypes\n",
      "forcing_val: 2.0\n",
      "Initializing component Input\n",
      "Initializing component Mortality\n",
      "Initializing component Monod\n",
      "Initializing component ListInputFlux\n",
      "{'consumer': 0.1, 'resources': array([3.0, 3.0], dtype=object), 'halfsats': array([2.0, 2.0], dtype=object)}\n",
      "(),(),(m),(m)->(m)\n",
      "[3.0 3.0] p [2.0 2.0]\n",
      "((0+(n+listinputflux_halfsats0))+(n2+listinputflux_halfsats1))\n",
      "out: [((((n)/(((0+(n+listinputflux_halfsats0))+(n2+listinputflux_halfsats1)))))*(p))\n",
      " ((((n2)/(((0+(n+listinputflux_halfsats0))+(n2+listinputflux_halfsats1)))))*(p))] (2,)\n",
      "Initializing component Growth\n",
      "assembling model\n",
      "SOLVER : <phydra.backend.solvers.GEKKOSolver object at 0x1583fb0a0>\n",
      "Model dicts are assembled:\n",
      "Model contains: \n",
      "Variables:['time', 'N', 'N2', 'P'] \n",
      "Parameters:['N0_value', 'Input_rate', 'Mortality_rate', 'Monod_halfsat', 'ListInputFlux_halfsats', 'Growth_mu_max'] \n",
      "Forcings:['N0'] \n",
      "Fluxes:['Time_time_flux', 'Input_input', 'Mortality_death', 'Monod_monod_lim', 'ListInputFlux_growth', 'Growth_growth'] \n",
      "Full Model Dimensions:[('time', None), ('N', None), ('N2', None), ('P', None), ('Time_time_flux', None), ('Input_input', None), ('Mortality_death', None), ('Monod_monod_lim', None), ('ListInputFlux_growth', 2), ('Growth_growth', None)] \n",
      "\n",
      "Now assembling gekko model:\n",
      "Model equations:\n",
      "['$time=(0+time_time_flux)', '$n=(((0+input_input)+(-growth_growth))+(-listinputflux_growth0))', '$n2=(0+(-listinputflux_growth1))', '$p=(((0+(-mortality_death))+((0+listinputflux_growth0)+listinputflux_growth1))+growth_growth)']\n",
      "finalizing: cleanup\n",
      "Model was solved in 0.88877 seconds\n"
     ]
    }
   ],
   "source": [
    "with NPZD:\n",
    "    gekko_out = gekko_setup.xsimlab.run()"
   ]
  },
  {
   "cell_type": "code",
   "execution_count": 10,
   "metadata": {},
   "outputs": [
    {
     "ename": "NameError",
     "evalue": "name 'plt' is not defined",
     "output_type": "error",
     "traceback": [
      "\u001b[0;31m---------------------------------------------------------------------------\u001b[0m",
      "\u001b[0;31mNameError\u001b[0m                                 Traceback (most recent call last)",
      "\u001b[0;32m<ipython-input-10-bdf524ca5489>\u001b[0m in \u001b[0;36m<module>\u001b[0;34m\u001b[0m\n\u001b[1;32m      1\u001b[0m \u001b[0mtime\u001b[0m \u001b[0;34m=\u001b[0m \u001b[0mgekko_out\u001b[0m\u001b[0;34m.\u001b[0m\u001b[0mTime__time\u001b[0m\u001b[0;34m\u001b[0m\u001b[0;34m\u001b[0m\u001b[0m\n\u001b[0;32m----> 2\u001b[0;31m \u001b[0mplt\u001b[0m\u001b[0;34m.\u001b[0m\u001b[0mplot\u001b[0m\u001b[0;34m(\u001b[0m\u001b[0mtime\u001b[0m\u001b[0;34m,\u001b[0m \u001b[0mgekko_out\u001b[0m\u001b[0;34m.\u001b[0m\u001b[0mNutrient__var_value\u001b[0m\u001b[0;34m,\u001b[0m \u001b[0mlabel\u001b[0m\u001b[0;34m=\u001b[0m\u001b[0;34m'N'\u001b[0m\u001b[0;34m)\u001b[0m\u001b[0;34m\u001b[0m\u001b[0;34m\u001b[0m\u001b[0m\n\u001b[0m\u001b[1;32m      3\u001b[0m \u001b[0;31m#plt.plot(time, gekko_out.Nutrient2__var_value, label='N2')\u001b[0m\u001b[0;34m\u001b[0m\u001b[0;34m\u001b[0m\u001b[0;34m\u001b[0m\u001b[0m\n\u001b[1;32m      4\u001b[0m \u001b[0mplt\u001b[0m\u001b[0;34m.\u001b[0m\u001b[0mplot\u001b[0m\u001b[0;34m(\u001b[0m\u001b[0mtime\u001b[0m\u001b[0;34m,\u001b[0m \u001b[0mgekko_out\u001b[0m\u001b[0;34m.\u001b[0m\u001b[0mPhytoplankton__var_value\u001b[0m\u001b[0;34m.\u001b[0m\u001b[0mT\u001b[0m\u001b[0;34m,\u001b[0m \u001b[0mlabel\u001b[0m\u001b[0;34m=\u001b[0m\u001b[0;34m'P'\u001b[0m\u001b[0;34m)\u001b[0m\u001b[0;34m\u001b[0m\u001b[0;34m\u001b[0m\u001b[0m\n\u001b[1;32m      5\u001b[0m \u001b[0mplt\u001b[0m\u001b[0;34m.\u001b[0m\u001b[0mylim\u001b[0m\u001b[0;34m(\u001b[0m\u001b[0mbottom\u001b[0m\u001b[0;34m=\u001b[0m\u001b[0;36m0\u001b[0m\u001b[0;34m)\u001b[0m\u001b[0;34m\u001b[0m\u001b[0;34m\u001b[0m\u001b[0m\n",
      "\u001b[0;31mNameError\u001b[0m: name 'plt' is not defined"
     ]
    }
   ],
   "source": [
    "time = gekko_out.Time__time\n",
    "plt.plot(time, gekko_out.Nutrient__var_value, label='N')\n",
    "#plt.plot(time, gekko_out.Nutrient2__var_value, label='N2')\n",
    "plt.plot(time, gekko_out.Phytoplankton__var_value.T, label='P')\n",
    "plt.ylim(bottom=0)\n",
    "plt.legend()"
   ]
  },
  {
   "cell_type": "code",
   "execution_count": 11,
   "metadata": {},
   "outputs": [
    {
     "ename": "NameError",
     "evalue": "name 'plt' is not defined",
     "output_type": "error",
     "traceback": [
      "\u001b[0;31m---------------------------------------------------------------------------\u001b[0m",
      "\u001b[0;31mNameError\u001b[0m                                 Traceback (most recent call last)",
      "\u001b[0;32m<ipython-input-11-bf7f26b4bf31>\u001b[0m in \u001b[0;36m<module>\u001b[0;34m\u001b[0m\n\u001b[0;32m----> 1\u001b[0;31m \u001b[0mplt\u001b[0m\u001b[0;34m.\u001b[0m\u001b[0mplot\u001b[0m\u001b[0;34m(\u001b[0m\u001b[0mtime\u001b[0m\u001b[0;34m,\u001b[0m \u001b[0mgekko_out\u001b[0m\u001b[0;34m.\u001b[0m\u001b[0mInput__input_value\u001b[0m\u001b[0;34m,\u001b[0m \u001b[0mlabel\u001b[0m\u001b[0;34m=\u001b[0m\u001b[0;34m'N_input'\u001b[0m\u001b[0;34m)\u001b[0m\u001b[0;34m\u001b[0m\u001b[0;34m\u001b[0m\u001b[0m\n\u001b[0m\u001b[1;32m      2\u001b[0m \u001b[0mplt\u001b[0m\u001b[0;34m.\u001b[0m\u001b[0mylim\u001b[0m\u001b[0;34m(\u001b[0m\u001b[0mbottom\u001b[0m\u001b[0;34m=\u001b[0m\u001b[0;36m0\u001b[0m\u001b[0;34m)\u001b[0m\u001b[0;34m\u001b[0m\u001b[0;34m\u001b[0m\u001b[0m\n\u001b[1;32m      3\u001b[0m \u001b[0mplt\u001b[0m\u001b[0;34m.\u001b[0m\u001b[0mlegend\u001b[0m\u001b[0;34m(\u001b[0m\u001b[0;34m)\u001b[0m\u001b[0;34m\u001b[0m\u001b[0;34m\u001b[0m\u001b[0m\n",
      "\u001b[0;31mNameError\u001b[0m: name 'plt' is not defined"
     ]
    }
   ],
   "source": [
    "plt.plot(time, gekko_out.Input__input_value, label='N_input')\n",
    "plt.ylim(bottom=0)\n",
    "plt.legend()"
   ]
  },
  {
   "cell_type": "code",
   "execution_count": null,
   "metadata": {},
   "outputs": [],
   "source": []
  },
  {
   "cell_type": "code",
   "execution_count": null,
   "metadata": {},
   "outputs": [],
   "source": []
  },
  {
   "cell_type": "code",
   "execution_count": null,
   "metadata": {},
   "outputs": [],
   "source": []
  },
  {
   "cell_type": "code",
   "execution_count": null,
   "metadata": {},
   "outputs": [],
   "source": []
  }
 ],
 "metadata": {
  "kernelspec": {
   "display_name": "Python 3",
   "language": "python",
   "name": "python3"
  },
  "language_info": {
   "codemirror_mode": {
    "name": "ipython",
    "version": 3
   },
   "file_extension": ".py",
   "mimetype": "text/x-python",
   "name": "python",
   "nbconvert_exporter": "python",
   "pygments_lexer": "ipython3",
   "version": "3.8.5"
  }
 },
 "nbformat": 4,
 "nbformat_minor": 4
}
