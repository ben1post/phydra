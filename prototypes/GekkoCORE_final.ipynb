{
 "cells": [
  {
   "cell_type": "markdown",
   "metadata": {},
   "source": [
    "# This is a showcase of the Xsimlab/GEKKO core processes utilized in Phydra v1\n"
   ]
  },
  {
   "cell_type": "markdown",
   "metadata": {},
   "source": [
    "It is again, a simple chemostat model of one nutrient and multiple phytoplankton. Nutrient flows in at a constant rate from a forcing N0."
   ]
  },
  {
   "cell_type": "code",
   "execution_count": 1,
   "metadata": {},
   "outputs": [],
   "source": [
    "from gekko import GEKKO\n",
    "import xsimlab as xs\n",
    "import numpy as np\n",
    "\n",
    "# to create dynamic storage of fluxes, state variables and forcings\n",
    "from collections import defaultdict\n",
    "\n",
    "# to measure process time\n",
    "import time as tm"
   ]
  },
  {
   "cell_type": "markdown",
   "metadata": {},
   "source": [
    "# GEKKO backend"
   ]
  },
  {
   "cell_type": "code",
   "execution_count": 2,
   "metadata": {},
   "outputs": [],
   "source": [
    "@xs.process\n",
    "class GekkoCore:\n",
    "    \"\"\"this object contains the backend GEKKO solver and is modified or read by all other processes\"\"\"\n",
    "    \n",
    "    m = xs.any_object(description='GEKKO model instance is stored here')\n",
    "    \n",
    "    def initialize(self):\n",
    "        print('initializing model core')\n",
    "        self.m = GEKKO(remote=False, name='phydra')\n",
    "        \n",
    "        # add defaultdict of list that dynamically stores fluxes by component label\n",
    "        self.m.phydra_fluxes = defaultdict(list)\n",
    "        # same for state variables\n",
    "        self.m.phydra_SVs = defaultdict()\n",
    "        # same for forcings\n",
    "        self.m.phydra_forcings = defaultdict()\n",
    "        \n",
    "    def finalize(self):\n",
    "        print('finalizing gekko core: cleanup')\n",
    "        #self.m.open_folder()\n",
    "        self.m.cleanup()\n",
    "\n",
    "        \n",
    "@xs.process\n",
    "class GekkoContext:\n",
    "    \"\"\" Inherited by all other model processes to access GekkoCore\"\"\"\n",
    "    m = xs.foreign(GekkoCore, 'm')\n",
    "\n",
    "@xs.process\n",
    "class Solver(GekkoContext):\n",
    "    solver_type = xs.variable(intent='out')\n",
    "    \n",
    "@xs.process\n",
    "class GekkoSequentialSolve(Solver):\n",
    "    \"\"\" time is supplied from the Time process \"\"\"\n",
    "    \n",
    "    def initialize(self):\n",
    "        self.solver_type = 'seq'\n",
    "        \n",
    "    def finalize_step(self):\n",
    "        #print(self.m.__dict__)\n",
    "        \n",
    "        print([i.name for i in self.m._variables])\n",
    "        print('Running solver now')\n",
    "        \n",
    "        # add solver options\n",
    "        self.m.options.REDUCE = 3  # handles reduction of larger models, have not benchmarked it yet\n",
    "        self.m.options.NODES = 3  # improves solution accuracy\n",
    "        self.m.options.IMODE = 7  # sequential dynamic solver\n",
    "\n",
    "        solve_start = tm.time()\n",
    "        self.m.solve(disp=False)  # use option disp=True to print gekko output\n",
    "        solve_end = tm.time()\n",
    "\n",
    "        print(f\"Model was solved in {round(solve_end-solve_start,2)} seconds\")\n",
    "        #print(self.m.__dict__)\n",
    "        \n",
    "        \n",
    "@xs.process\n",
    "class Time(GekkoContext):\n",
    "    \n",
    "    days = xs.variable(dims='time', description='time in days')\n",
    "    # for indexing xarray IO objects\n",
    "    time = xs.index(dims='time', description='time in days')\n",
    "\n",
    "    def initialize(self):\n",
    "        print('Initializing Model Time')\n",
    "        self.time = self.days\n",
    "\n",
    "        # ASSIGN MODEL SOLVING TIME HERE:\n",
    "        self.m.time = self.time\n",
    "        \n",
    "        # add state variable keeping track of time within model (for time-dependent functions):\n",
    "        self.m.phydra_SVs['time'] = self.m.Var(0, lb=0, name='time')\n",
    "        self.m.Equation(self.m.phydra_SVs['time'].dt() == 1)"
   ]
  },
  {
   "cell_type": "markdown",
   "metadata": {},
   "source": [
    "# State Variables\n",
    "\n",
    "Custom state variables can be written as processes inheritng from the state variable base class (if they contain a single state variable).\n",
    "\n",
    "Additionally the FunctionalGroup process allows a user to initialize a group of state variables of variable number that share common fluxes, just with different parameters (this can be achieved by special parameter init processes). There is also a functional group base class that can be subclassed for custom written functionl group-like processes, of there however there can only be one subclass initialized per model instance."
   ]
  },
  {
   "cell_type": "code",
   "execution_count": 3,
   "metadata": {},
   "outputs": [],
   "source": [
    "@xs.process\n",
    "class StateVariable(GekkoContext):\n",
    "    \"\"\" this process creates a single state variable with user specified label in our model \"\"\"\n",
    "    label = xs.variable(intent='out')\n",
    "    \n",
    "    value = xs.variable(intent='out', dims='time', description='stores the value of component state variable')\n",
    "    SV = xs.any_object(description='stores the gekko variable')\n",
    "    \n",
    "    initVal = xs.variable(intent='in', description='initial value of component')\n",
    "    \n",
    "    def initialize(self):\n",
    "        self.label = self.__xsimlab_name__\n",
    "        print(f\"state variable {self.label} is initialized\")\n",
    "        \n",
    "        # store GEKKO SV object in Gekko context self.m\n",
    "        self.m.phydra_SVs[self.label] = self.m.SV(self.initVal, name=self.label, lb=0)\n",
    "        self.value = self.m.phydra_SVs[self.label].value\n",
    "    \n",
    "    def run_step(self):\n",
    "        print('assembling Equations')\n",
    "        print(self.m.phydra_fluxes)\n",
    "        self.m.Equation(\n",
    "            self.m.phydra_SVs[self.label].dt() == sum([flux for flux in self.m.phydra_fluxes[self.label]])\n",
    "        )"
   ]
  },
  {
   "cell_type": "code",
   "execution_count": 4,
   "metadata": {},
   "outputs": [],
   "source": [
    "class FunctionalGroup(GekkoContext):\n",
    "    \"\"\" creates array of state variables \"\"\"\n",
    "    \n",
    "    label = xs.variable(intent='out', description='the label supplied at model initialisation')\n",
    "    value = xs.variable(intent='out', dims=('not_initalized', 'time'), description='stores output in dimensions supplied to process_setup')\n",
    "    \n",
    "    num = xs.variable(intent='in', description='number of state variables within group')\n",
    "    initVal = xs.variable(intent='inout', description='initial value of component')\n",
    "    \n",
    "    SV = xs.any_object(description='stores the gekko variable')\n",
    "    \n",
    "    # Simulation stages\n",
    "    def initialize(self):\n",
    "        self.label = self.__xsimlab_name__\n",
    "        print(f\"functional group {self.label} is initialized with size {self.num}\")\n",
    "        \n",
    "        self.create_index()\n",
    "        \n",
    "        self.m.phydra_SVs[self.label] = np.array([self.m.SV(name=f\"{self.label}_{i}\", value=self.initVal, lb=0) for i in range(self.num)])\n",
    "        self.value = [sv.value for sv in self.m.phydra_SVs[self.label]]\n",
    "        \n",
    "    def run_step(self):\n",
    "        print(f\"assembling Equations for {self.label}\")\n",
    "        print(self.m.phydra_fluxes)\n",
    "        gk_array = self.m.phydra_SVs[self.label]\n",
    "        fluxes = self.m.phydra_fluxes[self.label]\n",
    "        for i in range(self.num):\n",
    "            self.m.Equation(gk_array[i].dt() == sum([flux[i] for flux in fluxes]))\n",
    "    \n",
    "    # Helper functions\n",
    "    def create_index(self):\n",
    "        # this creates numbered index with label:\n",
    "        if self.num == 1:\n",
    "            index_list = [f\"{self.label}\"]\n",
    "        else:\n",
    "            index_list = [f\"{self.label}-{i}\" for i in range(self.num)]\n",
    "        setattr(self, self.label, index_list)\n",
    "    \n",
    "    @classmethod\n",
    "    def setup(cls, dim_label):\n",
    "        \"\"\" create copy of process class with user specified name and dimension label \"\"\"\n",
    "        new_cls = type(cls.__name__ + dim_label, cls.__bases__, dict(cls.__dict__))\n",
    "        # add new index with variable name of label (to avoid Zarr storage conflicts)\n",
    "        new_dim = xs.index(dims=dim_label, groups='comp_index')\n",
    "        setattr(new_cls, dim_label, new_dim)\n",
    "        # modify dimensions \n",
    "        new_cls.value.metadata['dims'] = ((dim_label, 'time'),)\n",
    "        # return intialized xsimlab process\n",
    "        return xs.process(new_cls)"
   ]
  },
  {
   "cell_type": "markdown",
   "metadata": {},
   "source": [
    "# Fluxes\n",
    "\n",
    "Fluxes are processes that define functions actiong on state variable (and functional groups) that make up the model. These can be forcing, loss or exchange fluxes defined in different types of processes. These be defined as python functions of defined state variables and can draw on a seperate FunctionLibrary module where common type of equation used in marine ecosystem models are defined. "
   ]
  },
  {
   "cell_type": "code",
   "execution_count": 5,
   "metadata": {},
   "outputs": [],
   "source": [
    "# a function to randomly generate simple string as label for \n",
    "# xsimlab dimension that should be flexible (scalar or list)\n",
    "# dependent on the SV label passed to the flux\n",
    "\n",
    "    # TODO: this should be handled better, either by wrapping the call \n",
    "    # to xs.create_setup() to automatically share commond dimension labels\n",
    "    # or otherwise changing the interface or process refactoring structure\n",
    "    \n",
    "import string\n",
    "import random\n",
    "\n",
    "def id_generator(size=6, chars=string.ascii_uppercase + string.digits):\n",
    "    return ''.join(random.choice(chars) for _ in range(size))"
   ]
  },
  {
   "cell_type": "code",
   "execution_count": 6,
   "metadata": {},
   "outputs": [],
   "source": [
    "class FunctionLibrary:\n",
    "    \"\"\" This is the basic structure of the library of functions\n",
    "    thanks to numpy vectorization these can be used with functional group interactions as well\n",
    "    \"\"\"\n",
    "    def monod(Resource, Consumer, halfsat = 0.5):\n",
    "        print('XX')\n",
    "        print(type(Resource), type(Consumer), type(halfsat))\n",
    "        return Resource / (halfsat + Resource) * Consumer\n",
    "    \n",
    "\n",
    "# Some basic fluxes\n",
    "@xs.process\n",
    "class GrowthFlux(GekkoContext):\n",
    "    label = xs.variable(intent='out')\n",
    "    value = xs.variable(intent='out', dims='time')\n",
    "    \n",
    "    resource_label = xs.variable(intent='in')\n",
    "    consumer_label = xs.variable(intent='in')\n",
    "    halfsat = xs.variable(intent='in', description='half saturation constant')\n",
    "    \n",
    "    #flex dim input:\n",
    "    #components = xs.variable(intent='in', dims=id_generator())\n",
    "    \n",
    "    def initialize(self):\n",
    "        self.label = self.__xsimlab_name__\n",
    "        print(f\"flux {self.label} of {self.consumer_label} consuming {self.resource_label} is initialized\")\n",
    "        \n",
    "        self.resource = self.m.phydra_SVs[self.resource_label]\n",
    "        self.consumer = self.m.phydra_SVs[self.consumer_label]\n",
    "        \n",
    "        self.halfsat_par = self.m.Param(self.halfsat, name='halfsat')\n",
    "        \n",
    "        flux = FunctionLibrary.monod(self.resource, self.consumer, self.halfsat_par)\n",
    "        print(flux)\n",
    "        self.value = self.m.Intermediate(flux, name='monod').value\n",
    "        \n",
    "        self.m.phydra_fluxes[self.resource_label].append(-flux)\n",
    "        self.m.phydra_fluxes[self.consumer_label].append(flux)\n",
    "        \n",
    "\n",
    "@xs.process\n",
    "class GrowthMultiFlux(GekkoContext):\n",
    "    \"\"\" Functional Group growing on single ressource \"\"\"\n",
    "    label = xs.variable(intent='out')\n",
    "    value = xs.variable(intent='out', dims=(id_generator(), 'time'))\n",
    "    \n",
    "    resource_label = xs.variable(intent='in')\n",
    "    consumer_label = xs.variable(intent='in')\n",
    "    halfsat = xs.variable(intent='inout', description='half saturation constant')\n",
    "\n",
    "    def initialize(self):\n",
    "        self.label = self.__xsimlab_name__\n",
    "        print(f\"flux {self.label} of {self.consumer_label} consuming {self.resource_label} is initialized\")\n",
    "        \n",
    "        self.resource = np.array([self.m.phydra_SVs[self.resource_label]])\n",
    "        self.consumer = self.m.phydra_SVs[self.consumer_label]\n",
    "        \n",
    "        fluxes = FunctionLibrary.monod(self.resource, self.consumer, self.halfsat)\n",
    "        print('FLUX', fluxes, fluxes.size)\n",
    "        \n",
    "        self.value = [self.m.Intermediate(flux).value for flux in fluxes]     \n",
    "        print('VALUE fg', self.value)\n",
    "        \n",
    "        self.m.phydra_fluxes[self.resource_label].append(-sum(fluxes))\n",
    "        self.m.phydra_fluxes[self.consumer_label].append(fluxes)\n",
    "\n",
    "\n",
    "@xs.process\n",
    "class Forcing(GekkoContext):\n",
    "    label = xs.variable(intent='out')\n",
    "    value = xs.variable(intent='out', dims='time')\n",
    "    \n",
    "    initVal = xs.variable(intent='in')\n",
    "    \n",
    "    def initialize(self):\n",
    "        self.label = self.__xsimlab_name__\n",
    "        print(f\"forcing {self.label} is initialized\")\n",
    "        \n",
    "        self.m.phydra_forcings[self.label] = self.m.Param(self.initVal, name=self.label)\n",
    "        self.value = self.m.phydra_forcings[self.label].value\n",
    "    \n",
    "    \n",
    "@xs.process\n",
    "class InFlux(GekkoContext):\n",
    "    label = xs.variable(intent='out')\n",
    "    value = xs.variable(intent='out', dims='time')\n",
    "    \n",
    "    forcing_label = xs.variable(intent='in')\n",
    "    SV_label = xs.variable(intent='in')\n",
    "    \n",
    "    flowrate = xs.variable(intent='in', description='half saturation constant')\n",
    "    \n",
    "    def initialize(self):\n",
    "        self.label = self.__xsimlab_name__\n",
    "        print(f\"flux {self.label} of {self.forcing_label} flowing to {self.SV_label} is initialized\")\n",
    "        \n",
    "        self.forcing = self.m.phydra_forcings[self.forcing_label]\n",
    "        self.flowrate_par = self.m.Param(self.flowrate, name='flowrate')\n",
    "        \n",
    "        flux = self.flowrate * self.forcing\n",
    "        self.value = self.m.Intermediate(flux, name='influx').value\n",
    "        \n",
    "        self.m.phydra_fluxes[self.SV_label].append(flux)"
   ]
  },
  {
   "cell_type": "markdown",
   "metadata": {},
   "source": [
    "# Flexible dimensionality process parameter initialisation\n",
    "\n",
    "This is still more of a prototype. With the flexible initialisation of functionl groups, the parameterisation get's more complex. There could be solutions outside of xsimlab, or internal through custom processes.\n",
    "\n",
    "e.g.:\n",
    "function call of phydra.allometry() class to pass parameter in appropriate dims, storing Size, as well as allometry functions outside of xsimlab structure\n",
    "\n",
    "or\n",
    "passing parameters to created fluxes from separately initialized ParameterSetup process, and passing parameters as xs.foreign(intent='out)"
   ]
  },
  {
   "cell_type": "code",
   "execution_count": 7,
   "metadata": {},
   "outputs": [],
   "source": [
    "@xs.process\n",
    "class GrowthParameterSetup(GekkoContext):\n",
    "    label = xs.variable(intent='out')\n",
    "    parameter = xs.foreign(GrowthMultiFlux, 'halfsat', intent='out')\n",
    "    \n",
    "    num = xs.variable(intent='in')\n",
    "    \n",
    "    minvalue = xs.variable(intent='in', description='minimum value of halfsat parameter')\n",
    "    maxvalue = xs.variable(intent='in', description='minimum value of halfsat parameter')\n",
    "    spacing = xs.variable(intent='in')\n",
    "    \n",
    "    def initialize(self):\n",
    "        self.label = self.__xsimlab_name__\n",
    "        \n",
    "        if self.spacing == 'linear':\n",
    "            parameter_range = np.linspace(self.minvalue, self.maxvalue, self.num)        \n",
    "        elif self.spacing == 'log':\n",
    "            parameter_range = np.logspace(np.log10(self.minvalue), np.log10(self.maxvalue), self.num)\n",
    "            \n",
    "        self.parameter = np.array([self.m.Param(name=f\"{self.label}_{i}\", value=parameter_range[i]) for i in range(self.num)])"
   ]
  },
  {
   "cell_type": "markdown",
   "metadata": {},
   "source": [
    "# Model creation"
   ]
  },
  {
   "cell_type": "code",
   "execution_count": 8,
   "metadata": {},
   "outputs": [
    {
     "data": {
      "text/plain": [
       "<xsimlab.Model (9 processes, 14 inputs)>\n",
       "core\n",
       "solver\n",
       "time\n",
       "    days               [in] ('time',) time in days\n",
       "N\n",
       "    initVal            [in] initial value of component\n",
       "P\n",
       "    num                [in] number of state variables within group\n",
       "    initVal         [inout] initial value of component\n",
       "halfsat_param\n",
       "    num                [in]\n",
       "    maxvalue           [in] minimum value of halfsat parameter\n",
       "    spacing            [in]\n",
       "    minvalue           [in] minimum value of halfsat parameter\n",
       "growth\n",
       "    consumer_label     [in]\n",
       "    resource_label     [in]\n",
       "N0\n",
       "    initVal            [in]\n",
       "N_influx\n",
       "    forcing_label      [in]\n",
       "    flowrate           [in] half saturation constant\n",
       "    SV_label           [in]"
      ]
     },
     "execution_count": 8,
     "metadata": {},
     "output_type": "execute_result"
    }
   ],
   "source": [
    "MODEL = xs.Model({\n",
    "                  'core':GekkoCore, \n",
    "                  'solver':GekkoSequentialSolve, \n",
    "              \n",
    "                  'time':Time, \n",
    "              \n",
    "                  'N':StateVariable, \n",
    "                  'P':FunctionalGroup.setup('P'), # same label needs to be supplied for now (todo)\n",
    "                  \n",
    "                  'growth':GrowthMultiFlux,\n",
    "                  \n",
    "                  'N0':Forcing,\n",
    "                  \n",
    "                  'N_influx':InFlux,\n",
    "                  \n",
    "                  'halfsat_param':GrowthParameterSetup\n",
    "                 })\n",
    "\n",
    "MODEL"
   ]
  },
  {
   "cell_type": "code",
   "execution_count": 9,
   "metadata": {},
   "outputs": [],
   "source": [
    "in_ds = xs.create_setup(model=MODEL,\n",
    "                        clocks={'clock': [0,1]},\n",
    "                        input_vars={\n",
    "                            'time__days': ('time', np.arange(0, 10, .1)),\n",
    "                            \n",
    "                            'N':{'initVal':1},\n",
    "\n",
    "                            'P':{'num':5,\n",
    "                                'initVal':.01},\n",
    "                            \n",
    "                            'growth':{'resource_label':'N',\n",
    "                                      'consumer_label':'P'},\n",
    "                            'halfsat_param':{'num':5,\n",
    "                                             'minvalue':0.9,\n",
    "                                             'maxvalue':1,\n",
    "                                             'spacing':'log'},\n",
    "                            \n",
    "                            'N_influx':{'flowrate':0.5,\n",
    "                                        'forcing_label':'N0',\n",
    "                                        'SV_label':'N'},\n",
    "                            \n",
    "                            'N0':{'initVal':1}\n",
    "                        \n",
    "                        },\n",
    "                        output_vars={\n",
    "                            'N__value':None,\n",
    "                            'P__value':None,\n",
    "                            'growth__value':None\n",
    "                        \n",
    "                        })"
   ]
  },
  {
   "cell_type": "code",
   "execution_count": 10,
   "metadata": {},
   "outputs": [
    {
     "name": "stdout",
     "output_type": "stream",
     "text": [
      "initializing model core\n",
      "Initializing Model Time\n",
      "state variable N is initialized\n",
      "functional group P is initialized with size 5\n",
      "flux growth of P consuming N is initialized\n",
      "XX\n",
      "<class 'numpy.ndarray'> <class 'numpy.ndarray'> <class 'numpy.ndarray'>\n",
      "FLUX [((((n)/((halfsat_param_0+n))))*(p_0))\n",
      " ((((n)/((halfsat_param_1+n))))*(p_1))\n",
      " ((((n)/((halfsat_param_2+n))))*(p_2))\n",
      " ((((n)/((halfsat_param_3+n))))*(p_3))\n",
      " ((((n)/((halfsat_param_4+n))))*(p_4))] 5\n",
      "VALUE fg [0, 0, 0, 0, 0]\n",
      "forcing N0 is initialized\n",
      "flux N_influx of N0 flowing to N is initialized\n",
      "assembling Equations\n",
      "defaultdict(<class 'list'>, {'N': [(-(((((0+((((n)/((halfsat_param_0+n))))*(p_0)))+((((n)/((halfsat_param_1+n))))*(p_1)))+((((n)/((halfsat_param_2+n))))*(p_2)))+((((n)/((halfsat_param_3+n))))*(p_3)))+((((n)/((halfsat_param_4+n))))*(p_4)))), ((0.5)*(n0))], 'P': [array([((((n)/((halfsat_param_0+n))))*(p_0)),\n",
      "       ((((n)/((halfsat_param_1+n))))*(p_1)),\n",
      "       ((((n)/((halfsat_param_2+n))))*(p_2)),\n",
      "       ((((n)/((halfsat_param_3+n))))*(p_3)),\n",
      "       ((((n)/((halfsat_param_4+n))))*(p_4))], dtype=object)]})\n",
      "assembling Equations for P\n",
      "defaultdict(<class 'list'>, {'N': [(-(((((0+((((n)/((halfsat_param_0+n))))*(p_0)))+((((n)/((halfsat_param_1+n))))*(p_1)))+((((n)/((halfsat_param_2+n))))*(p_2)))+((((n)/((halfsat_param_3+n))))*(p_3)))+((((n)/((halfsat_param_4+n))))*(p_4)))), ((0.5)*(n0))], 'P': [array([((((n)/((halfsat_param_0+n))))*(p_0)),\n",
      "       ((((n)/((halfsat_param_1+n))))*(p_1)),\n",
      "       ((((n)/((halfsat_param_2+n))))*(p_2)),\n",
      "       ((((n)/((halfsat_param_3+n))))*(p_3)),\n",
      "       ((((n)/((halfsat_param_4+n))))*(p_4))], dtype=object)]})\n",
      "['time', 'n', 'p_0', 'p_1', 'p_2', 'p_3', 'p_4']\n",
      "Running solver now\n",
      "Model was solved in 0.94 seconds\n",
      "finalizing gekko core: cleanup\n"
     ]
    }
   ],
   "source": [
    "with MODEL:\n",
    "    out_ds = in_ds.xsimlab.run()"
   ]
  },
  {
   "cell_type": "code",
   "execution_count": 11,
   "metadata": {},
   "outputs": [
    {
     "name": "stdout",
     "output_type": "stream",
     "text": [
      "<xarray.Dataset>\n",
      "Dimensions:                  (6Z8EH3: 5, P: 5, clock: 2, time: 100)\n",
      "Coordinates:\n",
      "  * P                        (P) <U3 'P-0' 'P-1' 'P-2' 'P-3' 'P-4'\n",
      "  * clock                    (clock) int64 0 1\n",
      "  * time                     (time) float64 0.0 0.1 0.2 0.3 ... 9.6 9.7 9.8 9.9\n",
      "Dimensions without coordinates: 6Z8EH3\n",
      "Data variables:\n",
      "    N0__initVal              int64 1\n",
      "    N__initVal               int64 1\n",
      "    N__value                 (time) float64 1.0 1.047 1.094 ... 0.08994 0.08906\n",
      "    N_influx__SV_label       <U1 'N'\n",
      "    N_influx__flowrate       float64 0.5\n",
      "    N_influx__forcing_label  <U2 'N0'\n",
      "    P__initVal               float64 0.01\n",
      "    P__num                   int64 5\n",
      "    P__value                 (P, time) float64 0.01 0.01055 ... 1.06 1.069\n",
      "    growth__consumer_label   <U1 'P'\n",
      "    growth__resource_label   <U1 'N'\n",
      "    growth__value            (6Z8EH3, time) float64 0.005263 ... 0.08741\n",
      "    halfsat_param__maxvalue  int64 1\n",
      "    halfsat_param__minvalue  float64 0.9\n",
      "    halfsat_param__num       int64 5\n",
      "    halfsat_param__spacing   <U3 'log'\n",
      "    time__days               (time) float64 0.0 0.1 0.2 0.3 ... 9.6 9.7 9.8 9.9\n"
     ]
    }
   ],
   "source": [
    "print(out_ds)"
   ]
  },
  {
   "cell_type": "code",
   "execution_count": 12,
   "metadata": {},
   "outputs": [
    {
     "data": {
      "text/plain": [
       "[<matplotlib.lines.Line2D at 0x114fda520>,\n",
       " <matplotlib.lines.Line2D at 0x114fda580>,\n",
       " <matplotlib.lines.Line2D at 0x114fda700>,\n",
       " <matplotlib.lines.Line2D at 0x114fda7c0>,\n",
       " <matplotlib.lines.Line2D at 0x114fda880>]"
      ]
     },
     "execution_count": 12,
     "metadata": {},
     "output_type": "execute_result"
    },
    {
     "data": {
      "image/png": "[encoded data removed]",
      "text/plain": [
       "<Figure size 432x288 with 1 Axes>"
      ]
     },
     "metadata": {
      "needs_background": "light"
     },
     "output_type": "display_data"
    }
   ],
   "source": [
    "out_ds.P__value.plot.line(x='time')"
   ]
  },
  {
   "cell_type": "code",
   "execution_count": 13,
   "metadata": {},
   "outputs": [
    {
     "data": {
      "text/plain": [
       "[<matplotlib.lines.Line2D at 0x11510d6d0>]"
      ]
     },
     "execution_count": 13,
     "metadata": {},
     "output_type": "execute_result"
    },
    {
     "data": {
      "image/png": "[encoded data removed]",
      "text/plain": [
       "<Figure size 432x288 with 1 Axes>"
      ]
     },
     "metadata": {
      "needs_background": "light"
     },
     "output_type": "display_data"
    }
   ],
   "source": [
    "out_ds.N__value.plot.line(x='time')"
   ]
  },
  {
   "cell_type": "code",
   "execution_count": null,
   "metadata": {},
   "outputs": [],
   "source": []
  }
 ],
 "metadata": {
  "kernelspec": {
   "display_name": "Python 3",
   "language": "python",
   "name": "python3"
  },
  "language_info": {
   "codemirror_mode": {
    "name": "ipython",
    "version": 3
   },
   "file_extension": ".py",
   "mimetype": "text/x-python",
   "name": "python",
   "nbconvert_exporter": "python",
   "pygments_lexer": "ipython3",
   "version": "3.8.5"
  }
 },
 "nbformat": 4,
 "nbformat_minor": 4
}
