{
 "cells": [
  {
   "cell_type": "markdown",
   "metadata": {},
   "source": [
    "# NPZD new prototype\n",
    "\n",
    "- start building model and fluxes\n",
    "\n",
    "For the first model example I will need:\n",
    "- Forcing input\n",
    "- Forcing_fluxes:\n",
    "    - mixing\n",
    "    - sinking\n",
    "- 4 components (single) N, P, Z, D\n",
    "- Fluxes:\n",
    "TODO: GO OVER THE equations! Base model structure in math!\n",
    "    - Grazing - linked to all NPZD\n",
    "    - PhytoplanktonGrowth\n",
    "        - Light - Dependence\n",
    "        - Nutrients - Dependence\n",
    "        - Temp - Dependence\n",
    "    - mortality\n",
    "    - remineralisation\n",
    "    - higher order pred, etc\n",
    " "
   ]
  },
  {
   "cell_type": "raw",
   "metadata": {},
   "source": [
    "N = Mixing(N0-N)+LeakyGrazing(P,D)+Remin(D)-Growth(P)\n",
    "P = Growth(P)-Mortality(P)-QuadMort(P)-Grazing(P)-Mixing(P)\n",
    "Z = Grazing(P,D)-Mortality(Z)-QuadMort(Z)-Mixing(Z)\n",
    "D = Mortality(P)+QuadMort(P)+Mortality(Z)+SloppyGrazing(P,D)-Grazing(D)-Remin(D)-Mixing(D)-Sinking(D)\n",
    "\n",
    "Mixing\n",
    "Growth(Light,Temp,Nut)\n",
    "Mortality, QuadMort\n",
    "Grazing + LeakyGrazing + SloppyGrazing\n",
    "Remin\n",
    "Sinking"
   ]
  },
  {
   "cell_type": "code",
   "execution_count": 1,
   "metadata": {},
   "outputs": [],
   "source": [
    "import numpy as np\n",
    "from scipy.integrate import odeint\n",
    "import matplotlib.pyplot as plt\n",
    "\n",
    "# to measure process time\n",
    "import time as tm"
   ]
  },
  {
   "cell_type": "code",
   "execution_count": 2,
   "metadata": {},
   "outputs": [],
   "source": [
    "from xsimlab.monitoring import ProgressBar"
   ]
  },
  {
   "cell_type": "code",
   "execution_count": 3,
   "metadata": {},
   "outputs": [],
   "source": [
    "import os,sys,inspect\n",
    "sys.path.insert(1, os.path.join(sys.path[0], '..'))\n",
    "\n",
    "import phydra"
   ]
  },
  {
   "cell_type": "code",
   "execution_count": 4,
   "metadata": {},
   "outputs": [],
   "source": [
    "from phydra.processes.statevars import SV, Time\n",
    "\n",
    "from phydra.processes.forcings import ConstantForcing\n",
    "\n",
    "from phydra.processes.fluxes import (LinearOutputFlux, ForcingLinearInputFlux, \n",
    "                                     MonodUptake, HollingTypeIIIGrazing,\n",
    "                                    \n",
    "                                    MultiLossTest, PartialOutputLossTest)"
   ]
  },
  {
   "cell_type": "code",
   "execution_count": 5,
   "metadata": {},
   "outputs": [],
   "source": [
    "MultiTest = phydra.create({\n",
    "    # SV\n",
    "    'N':SV,\n",
    "    'P':SV,\n",
    "    'Q':SV,\n",
    "    \n",
    "    # Fluxes\n",
    "    'N_loss':LinearOutputFlux,\n",
    "    'MultiLoss':MultiLossTest,\n",
    "    \n",
    "    # Forcing\n",
    "    #'N_input':ForcingLinearInputFlux,\n",
    "    #'N0':ConstantForcing\n",
    "})"
   ]
  },
  {
   "cell_type": "code",
   "execution_count": 6,
   "metadata": {},
   "outputs": [
    {
     "data": {
      "text/plain": [
       "<xsimlab.Model (8 processes, 10 inputs)>\n",
       "Core\n",
       "    solver_type     [in]\n",
       "Time\n",
       "    time            [in] ('input_time',) A sequence of Time points ...\n",
       "N\n",
       "    init            [in]\n",
       "P\n",
       "    init            [in]\n",
       "Q\n",
       "    init            [in]\n",
       "N_loss\n",
       "    sv              [in] state variable affected by flux\n",
       "    rate            [in] flowing rate\n",
       "MultiLoss\n",
       "    rate            [in] () or ('MultiLoss',) \n",
       "    sources         [in] ('MultiLoss',) \n",
       "    sink            [in]\n",
       "Solver"
      ]
     },
     "execution_count": 6,
     "metadata": {},
     "output_type": "execute_result"
    }
   ],
   "source": [
    "MultiTest"
   ]
  },
  {
   "cell_type": "code",
   "execution_count": 7,
   "metadata": {},
   "outputs": [],
   "source": [
    "odeint_setup = phydra.setup('odeint', MultiTest,\n",
    "            time=np.arange(0,20,0.1),\n",
    "            input_vars={\n",
    "                'N__init':0.5,\n",
    "                'P__init':0.5,\n",
    "                'Q__init':0.7,\n",
    "                \n",
    "                'N_loss':{'sv':'N',\n",
    "                          'rate':.01},\n",
    "                'MultiLoss':{'sources':['N','P'],\n",
    "                             'sink':'Q',\n",
    "                            'rate':[.2,.1]}\n",
    "                \n",
    "            },\n",
    "            output_vars={'N__value','P__value','Q__value'}\n",
    "            )"
   ]
  },
  {
   "cell_type": "code",
   "execution_count": 8,
   "metadata": {},
   "outputs": [
    {
     "name": "stderr",
     "output_type": "stream",
     "text": [
      "██████████ 100% | Simulation finished in 00:00 "
     ]
    },
    {
     "name": "stdout",
     "output_type": "stream",
     "text": [
      "initializing model core\n",
      "Initializing Model Time\n",
      "initializing state variable N\n",
      "initializing state variable P\n",
      "initializing state variable Q\n",
      "initializing flux N_loss\n",
      "initializing flux MultiLoss\n",
      " \n",
      "flux_dict: \n",
      "defaultdict(<class 'list'>, {<FluxVarType.STATEVARIABLE: 'statevariable'>: [{'var_name': 'sources', 'metadata': {'var_type': <FluxVarType.STATEVARIABLE: 'statevariable'>, 'intent': <FluxVarIntent.IN: 'in'>, 'flow': <FluxVarFlow.OUTPUT: 'output'>, 'dims': 'MultiLoss', 'partial_out': None, 'sub_label': None, 'attrs': {}, 'description': ''}, 'dims': 'MultiLoss'}, {'var_name': 'sink', 'metadata': {'var_type': <FluxVarType.STATEVARIABLE: 'statevariable'>, 'intent': <FluxVarIntent.IN: 'in'>, 'flow': <FluxVarFlow.INPUT: 'input'>, 'dims': [()], 'partial_out': 'sink_out', 'sub_label': None, 'attrs': {}, 'description': ''}, 'dims': [()]}], <FluxVarType.PARAMETER: 'parameter'>: [{'var_name': 'rate', 'metadata': {'var_type': <FluxVarType.PARAMETER: 'parameter'>, 'intent': <FluxVarIntent.IN: 'in'>, 'dims': [(), 'MultiLoss'], 'sub_label': None, 'flow': None, 'attrs': {}, 'description': ''}, 'dims': [(), 'MultiLoss']}]})\n",
      " \n",
      "Routing Setup:  defaultdict(None, {'OUTPUT': {'labels': ['N', 'P'], 'partial_out': None}, 'INPUT': {'labels': ['Q'], 'partial_out': <function MultiLossTest.sink_out at 0x1590f63a0>}})\n",
      "assembling model\n",
      "SOLVER : odeint\n",
      "start solve now\n",
      "Model was solved in 0.00193 seconds\n",
      "here unpacking values time\n",
      "here unpacking values N\n",
      "here unpacking values P\n",
      "here unpacking values Q\n",
      "finalizing: cleanup\n"
     ]
    },
    {
     "name": "stderr",
     "output_type": "stream",
     "text": [
      "\n"
     ]
    }
   ],
   "source": [
    "with ProgressBar(frontend=\"console\"):\n",
    "        out_ds = odeint_setup.xsimlab.run(model=MultiTest)"
   ]
  },
  {
   "cell_type": "code",
   "execution_count": 9,
   "metadata": {},
   "outputs": [
    {
     "data": {
      "text/plain": [
       "<matplotlib.legend.Legend at 0x159243160>"
      ]
     },
     "execution_count": 9,
     "metadata": {},
     "output_type": "execute_result"
    },
    {
     "data": {
      "image/png": "[encoded data removed]",
      "text/plain": [
       "<Figure size 432x288 with 1 Axes>"
      ]
     },
     "metadata": {
      "needs_background": "light"
     },
     "output_type": "display_data"
    }
   ],
   "source": [
    "plt.plot(out_ds.N__value, label='N')\n",
    "plt.plot(out_ds.P__value, label='P')\n",
    "plt.plot(out_ds.Q__value, label='Q')\n",
    "plt.ylim(bottom=0)\n",
    "plt.legend()"
   ]
  },
  {
   "cell_type": "code",
   "execution_count": 10,
   "metadata": {},
   "outputs": [],
   "source": [
    "gekko_setup = phydra.update_setup(model=MultiTest, old_setup=odeint_setup, new_solver=\"gekko\")"
   ]
  },
  {
   "cell_type": "code",
   "execution_count": 11,
   "metadata": {},
   "outputs": [],
   "source": [
    "stepwise_setup = phydra.update_setup(model=MultiTest, old_setup=odeint_setup, new_solver=\"stepwise\")"
   ]
  },
  {
   "cell_type": "markdown",
   "metadata": {},
   "source": [
    " you can view the setup xarray (before solving) simply like this:"
   ]
  },
  {
   "cell_type": "code",
   "execution_count": 12,
   "metadata": {},
   "outputs": [],
   "source": [
    "# stepwise_setup"
   ]
  },
  {
   "cell_type": "markdown",
   "metadata": {},
   "source": [
    "and solve the model like this:"
   ]
  },
  {
   "cell_type": "code",
   "execution_count": 13,
   "metadata": {},
   "outputs": [
    {
     "name": "stderr",
     "output_type": "stream",
     "text": [
      "██████████ 100% | Simulation finished in 00:00 "
     ]
    },
    {
     "name": "stdout",
     "output_type": "stream",
     "text": [
      "initializing model core\n",
      "Initializing Model Time\n",
      "initializing state variable N\n",
      "initializing state variable P\n",
      "initializing state variable Q\n",
      "initializing flux N_loss\n",
      "initializing flux MultiLoss\n",
      " \n",
      "flux_dict: \n",
      "defaultdict(<class 'list'>, {<FluxVarType.STATEVARIABLE: 'statevariable'>: [{'var_name': 'sources', 'metadata': {'var_type': <FluxVarType.STATEVARIABLE: 'statevariable'>, 'intent': <FluxVarIntent.IN: 'in'>, 'flow': <FluxVarFlow.OUTPUT: 'output'>, 'dims': 'MultiLoss', 'partial_out': None, 'sub_label': None, 'attrs': {}, 'description': ''}, 'dims': 'MultiLoss'}, {'var_name': 'sink', 'metadata': {'var_type': <FluxVarType.STATEVARIABLE: 'statevariable'>, 'intent': <FluxVarIntent.IN: 'in'>, 'flow': <FluxVarFlow.INPUT: 'input'>, 'dims': [()], 'partial_out': 'sink_out', 'sub_label': None, 'attrs': {}, 'description': ''}, 'dims': [()]}], <FluxVarType.PARAMETER: 'parameter'>: [{'var_name': 'rate', 'metadata': {'var_type': <FluxVarType.PARAMETER: 'parameter'>, 'intent': <FluxVarIntent.IN: 'in'>, 'dims': [(), 'MultiLoss'], 'sub_label': None, 'flow': None, 'attrs': {}, 'description': ''}, 'dims': [(), 'MultiLoss']}]})\n",
      " \n",
      "Routing Setup:  defaultdict(None, {'OUTPUT': {'labels': ['N', 'P'], 'partial_out': None}, 'INPUT': {'labels': ['Q'], 'partial_out': <function MultiLossTest.sink_out at 0x1590f63a0>}})\n",
      "assembling model\n",
      "SOLVER : odeint\n",
      "start solve now\n",
      "Model was solved in 0.00188 seconds\n",
      "here unpacking values time\n",
      "here unpacking values N\n",
      "here unpacking values P\n",
      "here unpacking values Q\n",
      "finalizing: cleanup\n"
     ]
    },
    {
     "name": "stderr",
     "output_type": "stream",
     "text": [
      "\n"
     ]
    }
   ],
   "source": [
    "with ProgressBar(frontend=\"console\"):\n",
    "        out_ds = odeint_setup.xsimlab.run(model=MultiTest)"
   ]
  },
  {
   "cell_type": "code",
   "execution_count": 14,
   "metadata": {},
   "outputs": [],
   "source": [
    "# out_ds"
   ]
  },
  {
   "cell_type": "code",
   "execution_count": 15,
   "metadata": {},
   "outputs": [
    {
     "data": {
      "text/plain": [
       "<matplotlib.legend.Legend at 0x159345d90>"
      ]
     },
     "execution_count": 15,
     "metadata": {},
     "output_type": "execute_result"
    },
    {
     "data": {
      "image/png": "[encoded data removed]",
      "text/plain": [
       "<Figure size 432x288 with 1 Axes>"
      ]
     },
     "metadata": {
      "needs_background": "light"
     },
     "output_type": "display_data"
    }
   ],
   "source": [
    "plt.plot(out_ds.N__value, label='N')\n",
    "plt.plot(out_ds.P__value, label='P')\n",
    "plt.plot(out_ds.Q__value, label='Q')\n",
    "plt.ylim(bottom=0)\n",
    "plt.legend()"
   ]
  },
  {
   "cell_type": "code",
   "execution_count": 16,
   "metadata": {},
   "outputs": [
    {
     "name": "stderr",
     "output_type": "stream",
     "text": [
      "             0% | initialize "
     ]
    },
    {
     "name": "stdout",
     "output_type": "stream",
     "text": [
      "initializing model core\n",
      "Initializing Model Time\n",
      "creating new SV StateVariable(name='time', initial_value=0.0, value=None, lb=0)\n",
      "initializing state variable N\n",
      "creating new SV StateVariable(name='N', initial_value=0.5, value=None, lb=0)\n",
      "initializing state variable P\n",
      "creating new SV StateVariable(name='P', initial_value=0.5, value=None, lb=0)\n",
      "initializing state variable Q\n",
      "creating new SV StateVariable(name='Q', initial_value=0.7, value=None, lb=0)\n",
      "initializing flux N_loss\n",
      "initializing flux MultiLoss\n",
      " \n",
      "flux_dict: \n",
      "defaultdict(<class 'list'>, {<FluxVarType.STATEVARIABLE: 'statevariable'>: [{'var_name': 'sources', 'metadata': {'var_type': <FluxVarType.STATEVARIABLE: 'statevariable'>, 'intent': <FluxVarIntent.IN: 'in'>, 'flow': <FluxVarFlow.OUTPUT: 'output'>, 'dims': 'MultiLoss', 'partial_out': None, 'sub_label': None, 'attrs': {}, 'description': ''}, 'dims': 'MultiLoss'}, {'var_name': 'sink', 'metadata': {'var_type': <FluxVarType.STATEVARIABLE: 'statevariable'>, 'intent': <FluxVarIntent.IN: 'in'>, 'flow': <FluxVarFlow.INPUT: 'input'>, 'dims': [()], 'partial_out': 'sink_out', 'sub_label': None, 'attrs': {}, 'description': ''}, 'dims': [()]}], <FluxVarType.PARAMETER: 'parameter'>: [{'var_name': 'rate', 'metadata': {'var_type': <FluxVarType.PARAMETER: 'parameter'>, 'intent': <FluxVarIntent.IN: 'in'>, 'dims': [(), 'MultiLoss'], 'sub_label': None, 'flow': None, 'attrs': {}, 'description': ''}, 'dims': [(), 'MultiLoss']}]})\n",
      " \n",
      "Routing Setup:  defaultdict(None, {'OUTPUT': {'labels': ['N', 'P'], 'partial_out': None}, 'INPUT': {'labels': ['Q'], 'partial_out': <function MultiLossTest.sink_out at 0x1590f63a0>}})\n",
      "assembling model\n",
      "SOLVER : gekko\n",
      "time 1\n",
      "n ((0+(-((n)*(0.2))))+(-((n)*(0.01))))\n",
      "p (0+(-((p)*(0.1))))\n",
      "q (0+((0+((n)*(0.2)))+((p)*(0.1))))\n",
      "['$time=1', '$n=((0+(-((n)*(0.2))))+(-((n)*(0.01))))', '$p=(0+(-((p)*(0.1))))', '$q=(0+((0+((n)*(0.2)))+((p)*(0.1))))']\n"
     ]
    },
    {
     "name": "stderr",
     "output_type": "stream",
     "text": [
      "██████████ 100% | Simulation finished in 00:00 "
     ]
    },
    {
     "name": "stdout",
     "output_type": "stream",
     "text": [
      "Model was solved in 0.21 seconds\n",
      "finalizing: cleanup\n"
     ]
    },
    {
     "name": "stderr",
     "output_type": "stream",
     "text": [
      "\n"
     ]
    }
   ],
   "source": [
    "with ProgressBar(frontend=\"console\"):\n",
    "        out_ds1 = gekko_setup.xsimlab.run(model=MultiTest)"
   ]
  },
  {
   "cell_type": "code",
   "execution_count": 17,
   "metadata": {},
   "outputs": [
    {
     "data": {
      "text/plain": [
       "<matplotlib.legend.Legend at 0x15949b610>"
      ]
     },
     "execution_count": 17,
     "metadata": {},
     "output_type": "execute_result"
    },
    {
     "data": {
      "image/png": "[encoded data removed]",
      "text/plain": [
       "<Figure size 432x288 with 1 Axes>"
      ]
     },
     "metadata": {
      "needs_background": "light"
     },
     "output_type": "display_data"
    }
   ],
   "source": [
    "plt.plot(out_ds1.N__value, label='N')\n",
    "plt.plot(out_ds1.P__value, label='P')\n",
    "plt.plot(out_ds.Q__value, label='Q')\n",
    "plt.ylim(bottom=0)\n",
    "plt.legend()"
   ]
  },
  {
   "cell_type": "code",
   "execution_count": 18,
   "metadata": {},
   "outputs": [
    {
     "name": "stderr",
     "output_type": "stream",
     "text": [
      "███████▎    73% | run step 145/199 "
     ]
    },
    {
     "name": "stdout",
     "output_type": "stream",
     "text": [
      "initializing model core\n",
      "Initializing Model Time\n",
      "initializing state variable N\n",
      "initializing state variable P\n",
      "initializing state variable Q\n",
      "initializing flux N_loss\n",
      "initializing flux MultiLoss\n",
      " \n",
      "flux_dict: \n",
      "defaultdict(<class 'list'>, {<FluxVarType.STATEVARIABLE: 'statevariable'>: [{'var_name': 'sources', 'metadata': {'var_type': <FluxVarType.STATEVARIABLE: 'statevariable'>, 'intent': <FluxVarIntent.IN: 'in'>, 'flow': <FluxVarFlow.OUTPUT: 'output'>, 'dims': 'MultiLoss', 'partial_out': None, 'sub_label': None, 'attrs': {}, 'description': ''}, 'dims': 'MultiLoss'}, {'var_name': 'sink', 'metadata': {'var_type': <FluxVarType.STATEVARIABLE: 'statevariable'>, 'intent': <FluxVarIntent.IN: 'in'>, 'flow': <FluxVarFlow.INPUT: 'input'>, 'dims': [()], 'partial_out': 'sink_out', 'sub_label': None, 'attrs': {}, 'description': ''}, 'dims': [()]}], <FluxVarType.PARAMETER: 'parameter'>: [{'var_name': 'rate', 'metadata': {'var_type': <FluxVarType.PARAMETER: 'parameter'>, 'intent': <FluxVarIntent.IN: 'in'>, 'dims': [(), 'MultiLoss'], 'sub_label': None, 'flow': None, 'attrs': {}, 'description': ''}, 'dims': [(), 'MultiLoss']}]})\n",
      " \n",
      "Routing Setup:  defaultdict(None, {'OUTPUT': {'labels': ['N', 'P'], 'partial_out': None}, 'INPUT': {'labels': ['Q'], 'partial_out': <function MultiLossTest.sink_out at 0x1590f63a0>}})\n",
      "assembling model\n",
      "SOLVER : stepwise\n"
     ]
    },
    {
     "name": "stderr",
     "output_type": "stream",
     "text": [
      "██████████ 100% | Simulation finished in 00:00 \n"
     ]
    },
    {
     "name": "stdout",
     "output_type": "stream",
     "text": [
      "finalizing: cleanup\n"
     ]
    }
   ],
   "source": [
    "with ProgressBar(frontend=\"console\"):\n",
    "    out_ds2 = stepwise_setup.xsimlab.run(model=MultiTest)"
   ]
  },
  {
   "cell_type": "code",
   "execution_count": 19,
   "metadata": {},
   "outputs": [
    {
     "data": {
      "text/plain": [
       "<matplotlib.legend.Legend at 0x15959fbe0>"
      ]
     },
     "execution_count": 19,
     "metadata": {},
     "output_type": "execute_result"
    },
    {
     "data": {
      "image/png": "[encoded data removed]",
      "text/plain": [
       "<Figure size 432x288 with 1 Axes>"
      ]
     },
     "metadata": {
      "needs_background": "light"
     },
     "output_type": "display_data"
    }
   ],
   "source": [
    "plt.plot(out_ds2.N__value, label='N')\n",
    "plt.plot(out_ds2.P__value, label='P')\n",
    "plt.plot(out_ds.Q__value, label='Q')\n",
    "plt.ylim(bottom=0)\n",
    "plt.legend()"
   ]
  },
  {
   "cell_type": "code",
   "execution_count": null,
   "metadata": {},
   "outputs": [],
   "source": []
  },
  {
   "cell_type": "code",
   "execution_count": null,
   "metadata": {},
   "outputs": [],
   "source": []
  },
  {
   "cell_type": "code",
   "execution_count": null,
   "metadata": {},
   "outputs": [],
   "source": []
  },
  {
   "cell_type": "code",
   "execution_count": null,
   "metadata": {},
   "outputs": [],
   "source": []
  },
  {
   "cell_type": "code",
   "execution_count": 20,
   "metadata": {},
   "outputs": [
    {
     "ename": "SyntaxError",
     "evalue": "invalid syntax (<ipython-input-20-094865ff8d33>, line 3)",
     "output_type": "error",
     "traceback": [
      "\u001b[0;36m  File \u001b[0;32m\"<ipython-input-20-094865ff8d33>\"\u001b[0;36m, line \u001b[0;32m3\u001b[0m\n\u001b[0;31m    - allow input of list of svs\u001b[0m\n\u001b[0m            ^\u001b[0m\n\u001b[0;31mSyntaxError\u001b[0m\u001b[0;31m:\u001b[0m invalid syntax\n"
     ]
    }
   ],
   "source": [
    "# TODO\n",
    "\n",
    "- allow input of list of svs\n",
    "- "
   ]
  },
  {
   "cell_type": "code",
   "execution_count": 27,
   "metadata": {},
   "outputs": [
    {
     "data": {
      "text/plain": [
       "4"
      ]
     },
     "execution_count": 27,
     "metadata": {},
     "output_type": "execute_result"
    }
   ],
   "source": [
    "def functest1(a,b,c):\n",
    "    return a + np.sum(b) - np.sum(c)\n",
    "\n",
    "\n",
    "@np.vectorize\n",
    "def functest(a,b,c):\n",
    "    return b / functest1(a,b,c)\n",
    "\n",
    "functest1(1,[2,4,2],[1,3,1])"
   ]
  },
  {
   "cell_type": "code",
   "execution_count": 26,
   "metadata": {},
   "outputs": [
    {
     "data": {
      "text/plain": [
       "1"
      ]
     },
     "execution_count": 26,
     "metadata": {},
     "output_type": "execute_result"
    }
   ],
   "source": [
    "np.sum(1)"
   ]
  },
  {
   "cell_type": "code",
   "execution_count": 5,
   "metadata": {},
   "outputs": [],
   "source": [
    "NPZD = phydra.create({\n",
    "    # SV\n",
    "    'N':SV,\n",
    "    'P':SV,\n",
    "    'Z':SV,\n",
    "    'D':SV,\n",
    "    \n",
    "    # Fluxes\n",
    "    'N_loss':LinearOutputFlux,\n",
    "    'P_loss':LinearOutputFlux,\n",
    "    \n",
    "    # Exchanges\n",
    "    'Monod':MonodUptake,\n",
    "    'Grazing':HollingTypeIIIGrazing,\n",
    "    \n",
    "    # Forcing\n",
    "    'N_input':ForcingLinearInputFlux,\n",
    "    'N0':ConstantForcing\n",
    "})"
   ]
  },
  {
   "cell_type": "code",
   "execution_count": 6,
   "metadata": {},
   "outputs": [
    {
     "data": {
      "text/plain": [
       "<xsimlab.Model (13 processes, 22 inputs)>\n",
       "Core\n",
       "    solver_type     [in]\n",
       "Time\n",
       "    time            [in] ('input_time',) A sequence of Time points ...\n",
       "N\n",
       "    init            [in]\n",
       "P\n",
       "    init            [in]\n",
       "Z\n",
       "    init            [in]\n",
       "D\n",
       "    init            [in]\n",
       "N0\n",
       "    value           [in]\n",
       "N_loss\n",
       "    rate            [in] flowing rate\n",
       "    sv              [in] state variable affected by flux\n",
       "P_loss\n",
       "    sv              [in] state variable affected by flux\n",
       "    rate            [in] flowing rate\n",
       "Monod\n",
       "    resource        [in]\n",
       "    halfsat         [in] half saturation constant\n",
       "    consumer        [in]\n",
       "Grazing\n",
       "    kZ              [in] feeding preferences\n",
       "    consumer        [in]\n",
       "    feed_pref       [in] feeding preferences\n",
       "    resource        [in]\n",
       "    Imax            [in] maximum ingestion rate\n",
       "N_input\n",
       "    rate            [in] flowing rate\n",
       "    sv              [in] state variable affected by forcing flux\n",
       "    fx              [in] forcing affecting rate\n",
       "Solver"
      ]
     },
     "execution_count": 6,
     "metadata": {},
     "output_type": "execute_result"
    }
   ],
   "source": [
    "NPZD"
   ]
  },
  {
   "cell_type": "code",
   "execution_count": 7,
   "metadata": {},
   "outputs": [],
   "source": [
    "#Model.visualize(show_inputs=True)"
   ]
  },
  {
   "cell_type": "code",
   "execution_count": 8,
   "metadata": {},
   "outputs": [],
   "source": [
    "odeint_setup = phydra.setup('odeint', NPZD,\n",
    "            time=np.arange(0,20,0.1),\n",
    "            input_vars={\n",
    "                'N__init':0.5,\n",
    "                'P__init':0.5,\n",
    "                'Z__init':0.5,\n",
    "                'D__init':0.5,\n",
    "                \n",
    "                'N_loss':{'sv':'N',\n",
    "                          'rate':.01},\n",
    "                \n",
    "                'P_loss':{'sv':'P',\n",
    "                          'rate':.5},\n",
    "                \n",
    "                'N_input':{'sv':'N',\n",
    "                          'fx':'N0',\n",
    "                          'rate':.1},\n",
    "                \n",
    "                'Monod':{'resource':'N',\n",
    "                        'consumer':'P',\n",
    "                        'halfsat':.5},\n",
    "                \n",
    "                'Grazing':{'resource':'P',\n",
    "                        'consumer':'Z',\n",
    "                        'feed_pref':1.,\n",
    "                        'Imax':1.5,\n",
    "                        'kZ':.7},\n",
    "                \n",
    "                'N0__value':2.,\n",
    "            },\n",
    "            output_vars={'N__value','P__value','Z__value','D__value'}\n",
    "            )"
   ]
  },
  {
   "cell_type": "code",
   "execution_count": 9,
   "metadata": {},
   "outputs": [],
   "source": [
    "gekko_setup = phydra.update_setup(model=NPZD, old_setup=odeint_setup, new_solver=\"gekko\")"
   ]
  },
  {
   "cell_type": "code",
   "execution_count": 10,
   "metadata": {},
   "outputs": [],
   "source": [
    "stepwise_setup = phydra.update_setup(model=NPZD, old_setup=odeint_setup, new_solver=\"stepwise\")"
   ]
  },
  {
   "cell_type": "markdown",
   "metadata": {},
   "source": [
    " you can view the setup xarray (before solving) simply like this:"
   ]
  },
  {
   "cell_type": "code",
   "execution_count": 11,
   "metadata": {},
   "outputs": [],
   "source": [
    "# stepwise_setup"
   ]
  },
  {
   "cell_type": "markdown",
   "metadata": {},
   "source": [
    "and solve the model like this:"
   ]
  },
  {
   "cell_type": "code",
   "execution_count": 12,
   "metadata": {},
   "outputs": [
    {
     "name": "stderr",
     "output_type": "stream",
     "text": [
      "██████████ 100% | Simulation finished in 00:00 "
     ]
    },
    {
     "name": "stdout",
     "output_type": "stream",
     "text": [
      "initializing model core\n",
      "Initializing Model Time\n",
      "initializing state variable N\n",
      "initializing state variable P\n",
      "initializing state variable Z\n",
      "initializing state variable D\n",
      "initializing forcing N0\n",
      "initializing flux N_loss\n",
      "initializing flux P_loss\n",
      "initializing flux Monod\n",
      "initializing flux Grazing\n",
      "initializing flux N_input\n",
      "assembling model\n",
      "SOLVER : odeint\n",
      "start solve now\n",
      "Model was solved in 0.00497 seconds\n",
      "here unpacking values time\n",
      "here unpacking values N\n",
      "here unpacking values P\n",
      "here unpacking values Z\n",
      "here unpacking values D\n",
      "finalizing: cleanup\n"
     ]
    },
    {
     "name": "stderr",
     "output_type": "stream",
     "text": [
      "\n"
     ]
    }
   ],
   "source": [
    "with ProgressBar(frontend=\"console\"):\n",
    "        out_ds = odeint_setup.xsimlab.run(model=NPZD)"
   ]
  },
  {
   "cell_type": "code",
   "execution_count": 13,
   "metadata": {},
   "outputs": [],
   "source": [
    "# out_ds"
   ]
  },
  {
   "cell_type": "code",
   "execution_count": 14,
   "metadata": {},
   "outputs": [
    {
     "data": {
      "text/plain": [
       "<matplotlib.legend.Legend at 0x1590162b0>"
      ]
     },
     "execution_count": 14,
     "metadata": {},
     "output_type": "execute_result"
    },
    {
     "data": {
      "image/png": "[encoded data removed]",
      "text/plain": [
       "<Figure size 432x288 with 1 Axes>"
      ]
     },
     "metadata": {
      "needs_background": "light"
     },
     "output_type": "display_data"
    }
   ],
   "source": [
    "plt.plot(out_ds.N__value, label='N')\n",
    "plt.plot(out_ds.P__value, label='P')\n",
    "plt.plot(out_ds.Z__value, label='Z')\n",
    "plt.plot(out_ds.D__value, label='D')\n",
    "plt.ylim(bottom=0)\n",
    "plt.legend()"
   ]
  },
  {
   "cell_type": "code",
   "execution_count": 15,
   "metadata": {},
   "outputs": [
    {
     "name": "stderr",
     "output_type": "stream",
     "text": [
      "             0% | initialize "
     ]
    },
    {
     "name": "stdout",
     "output_type": "stream",
     "text": [
      "initializing model core\n",
      "Initializing Model Time\n",
      "creating new SV StateVariable(name='time', initial_value=0.0, value=None, lb=0)\n",
      "initializing state variable N\n",
      "creating new SV StateVariable(name='N', initial_value=0.5, value=None, lb=0)\n",
      "initializing state variable P\n",
      "creating new SV StateVariable(name='P', initial_value=0.5, value=None, lb=0)\n",
      "initializing state variable Z\n",
      "creating new SV StateVariable(name='Z', initial_value=0.5, value=None, lb=0)\n",
      "initializing state variable D\n",
      "creating new SV StateVariable(name='D', initial_value=0.5, value=None, lb=0)\n",
      "initializing forcing N0\n",
      "initializing flux N_loss\n",
      "initializing flux P_loss\n",
      "initializing flux Monod\n",
      "initializing flux Grazing\n",
      "initializing flux N_input\n",
      "assembling model\n",
      "SOLVER : gekko\n",
      "{'_remote': False, '_server': 'http://byu.apmonitor.com', 'options': <gekko.gk_global_options.GKGlobalOptions object at 0x158f60ac0>, '_id': 0, '_gui_open': False, '_constants': [], '_parameters': [], '_variables': [0.0, 0.5, 0.5, 0.5, 0.5], '_intermediates': [], '_inter_equations': [], '_equations': [<gekko.gekko.EquationObj object at 0x158f6bd30>, <gekko.gekko.EquationObj object at 0x1589cc3d0>, <gekko.gekko.EquationObj object at 0x158f6d550>, <gekko.gekko.EquationObj object at 0x158f6d1c0>, <gekko.gekko.EquationObj object at 0x158f73f10>], '_objectives': [], '_connections': [], '_objects': [], '_compounds': [], '_raw': [], 'time': array([ 0. ,  0.1,  0.2,  0.3,  0.4,  0.5,  0.6,  0.7,  0.8,  0.9,  1. ,\n",
      "        1.1,  1.2,  1.3,  1.4,  1.5,  1.6,  1.7,  1.8,  1.9,  2. ,  2.1,\n",
      "        2.2,  2.3,  2.4,  2.5,  2.6,  2.7,  2.8,  2.9,  3. ,  3.1,  3.2,\n",
      "        3.3,  3.4,  3.5,  3.6,  3.7,  3.8,  3.9,  4. ,  4.1,  4.2,  4.3,\n",
      "        4.4,  4.5,  4.6,  4.7,  4.8,  4.9,  5. ,  5.1,  5.2,  5.3,  5.4,\n",
      "        5.5,  5.6,  5.7,  5.8,  5.9,  6. ,  6.1,  6.2,  6.3,  6.4,  6.5,\n",
      "        6.6,  6.7,  6.8,  6.9,  7. ,  7.1,  7.2,  7.3,  7.4,  7.5,  7.6,\n",
      "        7.7,  7.8,  7.9,  8. ,  8.1,  8.2,  8.3,  8.4,  8.5,  8.6,  8.7,\n",
      "        8.8,  8.9,  9. ,  9.1,  9.2,  9.3,  9.4,  9.5,  9.6,  9.7,  9.8,\n",
      "        9.9, 10. , 10.1, 10.2, 10.3, 10.4, 10.5, 10.6, 10.7, 10.8, 10.9,\n",
      "       11. , 11.1, 11.2, 11.3, 11.4, 11.5, 11.6, 11.7, 11.8, 11.9, 12. ,\n",
      "       12.1, 12.2, 12.3, 12.4, 12.5, 12.6, 12.7, 12.8, 12.9, 13. , 13.1,\n",
      "       13.2, 13.3, 13.4, 13.5, 13.6, 13.7, 13.8, 13.9, 14. , 14.1, 14.2,\n",
      "       14.3, 14.4, 14.5, 14.6, 14.7, 14.8, 14.9, 15. , 15.1, 15.2, 15.3,\n",
      "       15.4, 15.5, 15.6, 15.7, 15.8, 15.9, 16. , 16.1, 16.2, 16.3, 16.4,\n",
      "       16.5, 16.6, 16.7, 16.8, 16.9, 17. , 17.1, 17.2, 17.3, 17.4, 17.5,\n",
      "       17.6, 17.7, 17.8, 17.9, 18. , 18.1, 18.2, 18.3, 18.4, 18.5, 18.6,\n",
      "       18.7, 18.8, 18.9, 19. , 19.1, 19.2, 19.3, 19.4, 19.5, 19.6, 19.7,\n",
      "       19.8, 19.9]), '_model_initialized': False, '_csv_status': None, '_model': '', '_model_name': 'gk_model0', '_path': '/var/folders/s8/8ypwvww534g_q5s51__36bmc0000gp/T/tmp1h3aacqngk_model0', 'path': '/var/folders/s8/8ypwvww534g_q5s51__36bmc0000gp/T/tmp1h3aacqngk_model0', '_extra_files': [], 'solver_options': []}\n",
      "['$time=1', '$n=(((0+(-((n)*(0.01))))+(-((((n)/((n+0.5))))*(p))))+0.2)', '$p=(((0+(-((p)*(0.5))))+((((n)/((n+0.5))))*(p)))+(-((((((((1.5)*(((p)^(2)))))*(1.0)))/((0.48999999999999994+(0+((((p)^(2)))*(1.0)))))))*(z))))', '$z=(0+((((((((1.5)*(((p)^(2)))))*(1.0)))/((0.48999999999999994+(0+((((p)^(2)))*(1.0)))))))*(z)))', '$d=0']\n"
     ]
    },
    {
     "name": "stderr",
     "output_type": "stream",
     "text": [
      "██████████ 100% | Simulation finished in 00:00 "
     ]
    },
    {
     "name": "stdout",
     "output_type": "stream",
     "text": [
      "Model was solved in 0.34 seconds\n",
      "finalizing: cleanup\n"
     ]
    },
    {
     "name": "stderr",
     "output_type": "stream",
     "text": [
      "\n"
     ]
    }
   ],
   "source": [
    "with ProgressBar(frontend=\"console\"):\n",
    "        out_ds1 = gekko_setup.xsimlab.run(model=NPZD)"
   ]
  },
  {
   "cell_type": "code",
   "execution_count": 16,
   "metadata": {},
   "outputs": [
    {
     "data": {
      "text/plain": [
       "<matplotlib.legend.Legend at 0x1591308b0>"
      ]
     },
     "execution_count": 16,
     "metadata": {},
     "output_type": "execute_result"
    },
    {
     "data": {
      "image/png": "[encoded data removed]",
      "text/plain": [
       "<Figure size 432x288 with 1 Axes>"
      ]
     },
     "metadata": {
      "needs_background": "light"
     },
     "output_type": "display_data"
    }
   ],
   "source": [
    "plt.plot(out_ds1.N__value, label='N')\n",
    "plt.plot(out_ds1.P__value, label='P')\n",
    "plt.plot(out_ds1.Z__value, label='Z')\n",
    "plt.plot(out_ds1.D__value, label='D')\n",
    "plt.ylim(bottom=0)\n",
    "plt.legend()"
   ]
  },
  {
   "cell_type": "code",
   "execution_count": 17,
   "metadata": {},
   "outputs": [
    {
     "name": "stderr",
     "output_type": "stream",
     "text": [
      "██████▎     63% | run step 126/199 "
     ]
    },
    {
     "name": "stdout",
     "output_type": "stream",
     "text": [
      "initializing model core\n",
      "Initializing Model Time\n",
      "initializing state variable N\n",
      "initializing state variable P\n",
      "initializing state variable Z\n",
      "initializing state variable D\n",
      "initializing forcing N0\n",
      "initializing flux N_loss\n",
      "initializing flux P_loss\n",
      "initializing flux Monod\n",
      "initializing flux Grazing\n",
      "initializing flux N_input\n",
      "assembling model\n",
      "SOLVER : stepwise\n"
     ]
    },
    {
     "name": "stderr",
     "output_type": "stream",
     "text": [
      "██████████ 100% | Simulation finished in 00:00 \n"
     ]
    },
    {
     "name": "stdout",
     "output_type": "stream",
     "text": [
      "finalizing: cleanup\n"
     ]
    }
   ],
   "source": [
    "with ProgressBar(frontend=\"console\"):\n",
    "    out_ds2 = stepwise_setup.xsimlab.run(model=NPZD)"
   ]
  },
  {
   "cell_type": "code",
   "execution_count": 18,
   "metadata": {},
   "outputs": [
    {
     "data": {
      "text/plain": [
       "<matplotlib.legend.Legend at 0x1592aa370>"
      ]
     },
     "execution_count": 18,
     "metadata": {},
     "output_type": "execute_result"
    },
    {
     "data": {
      "image/png": "[encoded data removed]",
      "text/plain": [
       "<Figure size 432x288 with 1 Axes>"
      ]
     },
     "metadata": {
      "needs_background": "light"
     },
     "output_type": "display_data"
    }
   ],
   "source": [
    "plt.plot(out_ds2.N__value, label='N')\n",
    "plt.plot(out_ds2.P__value, label='P')\n",
    "plt.plot(out_ds2.Z__value, label='Z')\n",
    "plt.plot(out_ds2.D__value, label='D')\n",
    "plt.ylim(bottom=0)\n",
    "plt.legend()"
   ]
  },
  {
   "cell_type": "code",
   "execution_count": null,
   "metadata": {},
   "outputs": [],
   "source": []
  },
  {
   "cell_type": "code",
   "execution_count": null,
   "metadata": {},
   "outputs": [],
   "source": []
  },
  {
   "cell_type": "code",
   "execution_count": null,
   "metadata": {},
   "outputs": [],
   "source": []
  },
  {
   "cell_type": "code",
   "execution_count": null,
   "metadata": {},
   "outputs": [],
   "source": []
  }
 ],
 "metadata": {
  "kernelspec": {
   "display_name": "Python 3",
   "language": "python",
   "name": "python3"
  },
  "language_info": {
   "codemirror_mode": {
    "name": "ipython",
    "version": 3
   },
   "file_extension": ".py",
   "mimetype": "text/x-python",
   "name": "python",
   "nbconvert_exporter": "python",
   "pygments_lexer": "ipython3",
   "version": "3.8.5"
  }
 },
 "nbformat": 4,
 "nbformat_minor": 4
}
