{
 "cells": [
  {
   "cell_type": "markdown",
   "metadata": {},
   "source": [
    "# NPZD new prototype\n",
    "\n",
    "- start building model and fluxes\n",
    "\n",
    "For the first model example I will need:\n",
    "- Forcing input\n",
    "- Forcing_fluxes:\n",
    "    - mixing\n",
    "    - sinking\n",
    "- 4 components (single) N, P, Z, D\n",
    "- Fluxes:\n",
    "TODO: GO OVER THE equations! Base model structure in math!\n",
    "    - Grazing - linked to all NPZD\n",
    "    - PhytoplanktonGrowth\n",
    "        - Light - Dependence\n",
    "        - Nutrients - Dependence\n",
    "        - Temp - Dependence\n",
    "    - mortality\n",
    "    - remineralisation\n",
    "    - higher order pred, etc\n",
    " "
   ]
  },
  {
   "cell_type": "raw",
   "metadata": {},
   "source": [
    "N = Mixing(N0-N)+LeakyGrazing(P,D)+Remin(D)-Growth(P)\n",
    "P = Growth(P)-Mortality(P)-QuadMort(P)-Grazing(P)-Mixing(P)\n",
    "Z = Grazing(P,D)-Mortality(Z)-QuadMort(Z)-Mixing(Z)\n",
    "D = Mortality(P)+QuadMort(P)+Mortality(Z)+SloppyGrazing(P,D)-Grazing(D)-Remin(D)-Mixing(D)-Sinking(D)\n",
    "\n",
    "Mixing\n",
    "Growth(Light,Temp,Nut)\n",
    "Mortality, QuadMort\n",
    "Grazing + LeakyGrazing + SloppyGrazing\n",
    "Remin\n",
    "Sinking"
   ]
  },
  {
   "cell_type": "code",
   "execution_count": 1,
   "metadata": {},
   "outputs": [],
   "source": [
    "import numpy as np\n",
    "from scipy.integrate import odeint\n",
    "import matplotlib.pyplot as plt\n",
    "\n",
    "# to measure process time\n",
    "import time as tm"
   ]
  },
  {
   "cell_type": "code",
   "execution_count": 2,
   "metadata": {},
   "outputs": [],
   "source": [
    "from xsimlab.monitoring import ProgressBar"
   ]
  },
  {
   "cell_type": "code",
   "execution_count": 3,
   "metadata": {},
   "outputs": [],
   "source": [
    "import os,sys,inspect\n",
    "sys.path.insert(1, os.path.join(sys.path[0], '..'))\n",
    "\n",
    "import phydra"
   ]
  },
  {
   "cell_type": "code",
   "execution_count": 4,
   "metadata": {},
   "outputs": [],
   "source": [
    "from phydra.processes.statevars import SV, Time\n",
    "\n",
    "from phydra.processes.forcings import ConstantForcing\n",
    "\n",
    "from phydra.processes.fluxes import (LinearOutputFlux, ForcingLinearInputFlux, \n",
    "                                     MonodUptake, HollingTypeIIIGrazing)"
   ]
  },
  {
   "cell_type": "code",
   "execution_count": 5,
   "metadata": {},
   "outputs": [],
   "source": [
    "NPZD = phydra.create({\n",
    "    # SV\n",
    "    'N':SV,\n",
    "    'P':SV,\n",
    "    'Z':SV,\n",
    "    'D':SV,\n",
    "    \n",
    "    # Fluxes\n",
    "    'N_loss':LinearOutputFlux,\n",
    "    'P_loss':LinearOutputFlux,\n",
    "    \n",
    "    # Exchanges\n",
    "    'Monod':MonodUptake,\n",
    "    'Grazing':HollingTypeIIIGrazing,\n",
    "    \n",
    "    # Forcing\n",
    "    'N_input':ForcingLinearInputFlux,\n",
    "    'N0':ConstantForcing\n",
    "})"
   ]
  },
  {
   "cell_type": "code",
   "execution_count": 6,
   "metadata": {},
   "outputs": [
    {
     "data": {
      "text/plain": [
       "<xsimlab.Model (13 processes, 22 inputs)>\n",
       "Core\n",
       "    solver_type     [in]\n",
       "Time\n",
       "    time            [in] ('input_time',) A sequence of Time points ...\n",
       "N\n",
       "    init            [in]\n",
       "P\n",
       "    init            [in]\n",
       "Z\n",
       "    init            [in]\n",
       "D\n",
       "    init            [in]\n",
       "N0\n",
       "    value           [in]\n",
       "N_loss\n",
       "    rate            [in] flowing rate\n",
       "    sv              [in] state variable affected by flux\n",
       "P_loss\n",
       "    rate            [in] flowing rate\n",
       "    sv              [in] state variable affected by flux\n",
       "Monod\n",
       "    resource        [in]\n",
       "    consumer        [in]\n",
       "    halfsat         [in] half saturation constant\n",
       "Grazing\n",
       "    feed_pref       [in] feeding preferences\n",
       "    kZ              [in] feeding preferences\n",
       "    resource        [in]\n",
       "    consumer        [in]\n",
       "    Imax            [in] maximum ingestion rate\n",
       "N_input\n",
       "    sv              [in] state variable affected by forcing flux\n",
       "    fx              [in] forcing affecting rate\n",
       "    rate            [in] flowing rate\n",
       "Solver"
      ]
     },
     "execution_count": 6,
     "metadata": {},
     "output_type": "execute_result"
    }
   ],
   "source": [
    "NPZD"
   ]
  },
  {
   "cell_type": "code",
   "execution_count": 7,
   "metadata": {},
   "outputs": [],
   "source": [
    "#Model.visualize(show_inputs=True)"
   ]
  },
  {
   "cell_type": "code",
   "execution_count": 19,
   "metadata": {},
   "outputs": [],
   "source": [
    "odeint_setup = phydra.setup('odeint', NPZD,\n",
    "            time=np.arange(0,20,0.1),\n",
    "            input_vars={\n",
    "                'N__init':0.5,\n",
    "                'P__init':0.5,\n",
    "                'Z__init':0.5,\n",
    "                'D__init':0.5,\n",
    "                \n",
    "                'N_loss':{'sv':'N',\n",
    "                          'rate':.01},\n",
    "                \n",
    "                'P_loss':{'sv':'P',\n",
    "                          'rate':.5},\n",
    "                \n",
    "                'N_input':{'sv':'N',\n",
    "                          'fx':'N0',\n",
    "                          'rate':.1},\n",
    "                \n",
    "                'Monod':{'resource':'N',\n",
    "                        'consumer':'P',\n",
    "                        'halfsat':.5},\n",
    "                \n",
    "                'Grazing':{'resource':'P',\n",
    "                        'consumer':'Z',\n",
    "                        'feed_pref':1.,\n",
    "                        'Imax':1.5,\n",
    "                        'kZ':.7},\n",
    "                \n",
    "                'N0__value':2.,\n",
    "            },\n",
    "            output_vars={'N__value','P__value','Z__value','D__value'}\n",
    "            )"
   ]
  },
  {
   "cell_type": "code",
   "execution_count": 20,
   "metadata": {},
   "outputs": [],
   "source": [
    "gekko_setup = phydra.update_setup(model=NPZD, old_setup=odeint_setup, new_solver=\"gekko\")"
   ]
  },
  {
   "cell_type": "code",
   "execution_count": 21,
   "metadata": {},
   "outputs": [],
   "source": [
    "stepwise_setup = phydra.update_setup(model=NPZD, old_setup=odeint_setup, new_solver=\"stepwise\")"
   ]
  },
  {
   "cell_type": "markdown",
   "metadata": {},
   "source": [
    " you can view the setup xarray (before solving) simply like this:"
   ]
  },
  {
   "cell_type": "code",
   "execution_count": 22,
   "metadata": {},
   "outputs": [],
   "source": [
    "# stepwise_setup"
   ]
  },
  {
   "cell_type": "markdown",
   "metadata": {},
   "source": [
    "and solve the model like this:"
   ]
  },
  {
   "cell_type": "code",
   "execution_count": 23,
   "metadata": {},
   "outputs": [
    {
     "name": "stderr",
     "output_type": "stream",
     "text": [
      "██████████ 100% | Simulation finished in 00:00 "
     ]
    },
    {
     "name": "stdout",
     "output_type": "stream",
     "text": [
      "initializing model core\n",
      "Initializing Model Time\n",
      "initializing state variable N\n",
      "initializing state variable P\n",
      "initializing state variable Z\n",
      "initializing state variable D\n",
      "initializing forcing N0\n",
      "initializing flux N_loss\n",
      "initializing flux P_loss\n",
      "initializing flux Monod\n",
      "initializing flux Grazing\n",
      "initializing flux N_input\n",
      "assembling model\n",
      "SOLVER : odeint\n",
      "start solve now\n",
      "Model was solved in 0.00649 seconds\n",
      "here unpacking values time\n",
      "here unpacking values N\n",
      "here unpacking values P\n",
      "here unpacking values Z\n",
      "here unpacking values D\n",
      "finalizing: cleanup\n"
     ]
    },
    {
     "name": "stderr",
     "output_type": "stream",
     "text": [
      "\n"
     ]
    }
   ],
   "source": [
    "with ProgressBar(frontend=\"console\"):\n",
    "        out_ds = odeint_setup.xsimlab.run(model=NPZD)"
   ]
  },
  {
   "cell_type": "code",
   "execution_count": 24,
   "metadata": {},
   "outputs": [],
   "source": [
    "# out_ds"
   ]
  },
  {
   "cell_type": "code",
   "execution_count": 25,
   "metadata": {},
   "outputs": [
    {
     "data": {
      "text/plain": [
       "<matplotlib.legend.Legend at 0x15f2d5eb0>"
      ]
     },
     "execution_count": 25,
     "metadata": {},
     "output_type": "execute_result"
    },
    {
     "data": {
      "image/png": "[encoded data removed]",
      "text/plain": [
       "<Figure size 432x288 with 1 Axes>"
      ]
     },
     "metadata": {
      "needs_background": "light"
     },
     "output_type": "display_data"
    }
   ],
   "source": [
    "plt.plot(out_ds.N__value, label='N')\n",
    "plt.plot(out_ds.P__value, label='P')\n",
    "plt.plot(out_ds.Z__value, label='Z')\n",
    "plt.plot(out_ds.D__value, label='D')\n",
    "plt.ylim(bottom=0)\n",
    "plt.legend()"
   ]
  },
  {
   "cell_type": "code",
   "execution_count": 26,
   "metadata": {},
   "outputs": [
    {
     "name": "stderr",
     "output_type": "stream",
     "text": [
      "             0% | initialize "
     ]
    },
    {
     "name": "stdout",
     "output_type": "stream",
     "text": [
      "initializing model core\n",
      "Initializing Model Time\n",
      "creating new SV StateVariable(name='time', initial_value=0.0, value=None, lb=0)\n",
      "initializing state variable N\n",
      "creating new SV StateVariable(name='N', initial_value=0.5, value=None, lb=0)\n",
      "initializing state variable P\n",
      "creating new SV StateVariable(name='P', initial_value=0.5, value=None, lb=0)\n",
      "initializing state variable Z\n",
      "creating new SV StateVariable(name='Z', initial_value=0.5, value=None, lb=0)\n",
      "initializing state variable D\n",
      "creating new SV StateVariable(name='D', initial_value=0.5, value=None, lb=0)\n",
      "initializing forcing N0\n",
      "initializing flux N_loss\n",
      "initializing flux P_loss\n",
      "initializing flux Monod\n",
      "initializing flux Grazing\n",
      "initializing flux N_input\n",
      "assembling model\n",
      "SOLVER : gekko\n"
     ]
    },
    {
     "name": "stderr",
     "output_type": "stream",
     "text": [
      "██████████ 100% | Simulation finished in 00:01 "
     ]
    },
    {
     "name": "stdout",
     "output_type": "stream",
     "text": [
      "Model was solved in 1.87 seconds\n",
      "finalizing: cleanup\n"
     ]
    },
    {
     "name": "stderr",
     "output_type": "stream",
     "text": [
      "\n"
     ]
    }
   ],
   "source": [
    "with ProgressBar(frontend=\"console\"):\n",
    "        out_ds1 = gekko_setup.xsimlab.run(model=NPZD)"
   ]
  },
  {
   "cell_type": "code",
   "execution_count": 27,
   "metadata": {},
   "outputs": [
    {
     "data": {
      "text/plain": [
       "<matplotlib.legend.Legend at 0x15f3e74f0>"
      ]
     },
     "execution_count": 27,
     "metadata": {},
     "output_type": "execute_result"
    },
    {
     "data": {
      "image/png": "[encoded data removed]",
      "text/plain": [
       "<Figure size 432x288 with 1 Axes>"
      ]
     },
     "metadata": {
      "needs_background": "light"
     },
     "output_type": "display_data"
    }
   ],
   "source": [
    "plt.plot(out_ds1.N__value, label='N')\n",
    "plt.plot(out_ds1.P__value, label='P')\n",
    "plt.plot(out_ds1.Z__value, label='Z')\n",
    "plt.plot(out_ds1.D__value, label='D')\n",
    "plt.ylim(bottom=0)\n",
    "plt.legend()"
   ]
  },
  {
   "cell_type": "code",
   "execution_count": 28,
   "metadata": {},
   "outputs": [
    {
     "name": "stderr",
     "output_type": "stream",
     "text": [
      "██████▌     66% | run step 131/199 "
     ]
    },
    {
     "name": "stdout",
     "output_type": "stream",
     "text": [
      "initializing model core\n",
      "Initializing Model Time\n",
      "initializing state variable N\n",
      "initializing state variable P\n",
      "initializing state variable Z\n",
      "initializing state variable D\n",
      "initializing forcing N0\n",
      "initializing flux N_loss\n",
      "initializing flux P_loss\n",
      "initializing flux Monod\n",
      "initializing flux Grazing\n",
      "initializing flux N_input\n",
      "assembling model\n",
      "SOLVER : stepwise\n"
     ]
    },
    {
     "name": "stderr",
     "output_type": "stream",
     "text": [
      "██████████ 100% | Simulation finished in 00:00 "
     ]
    },
    {
     "name": "stdout",
     "output_type": "stream",
     "text": [
      "finalizing: cleanup\n"
     ]
    },
    {
     "name": "stderr",
     "output_type": "stream",
     "text": [
      "\n"
     ]
    }
   ],
   "source": [
    "with ProgressBar(frontend=\"console\"):\n",
    "    out_ds2 = stepwise_setup.xsimlab.run(model=NPZD)"
   ]
  },
  {
   "cell_type": "code",
   "execution_count": 29,
   "metadata": {},
   "outputs": [
    {
     "data": {
      "text/plain": [
       "<matplotlib.legend.Legend at 0x15f4dbd60>"
      ]
     },
     "execution_count": 29,
     "metadata": {},
     "output_type": "execute_result"
    },
    {
     "data": {
      "image/png": "[encoded data removed]",
      "text/plain": [
       "<Figure size 432x288 with 1 Axes>"
      ]
     },
     "metadata": {
      "needs_background": "light"
     },
     "output_type": "display_data"
    }
   ],
   "source": [
    "plt.plot(out_ds2.N__value, label='N')\n",
    "plt.plot(out_ds2.P__value, label='P')\n",
    "plt.plot(out_ds2.Z__value, label='Z')\n",
    "plt.plot(out_ds2.D__value, label='D')\n",
    "plt.ylim(bottom=0)\n",
    "plt.legend()"
   ]
  },
  {
   "cell_type": "code",
   "execution_count": null,
   "metadata": {},
   "outputs": [],
   "source": []
  },
  {
   "cell_type": "code",
   "execution_count": null,
   "metadata": {},
   "outputs": [],
   "source": []
  },
  {
   "cell_type": "code",
   "execution_count": null,
   "metadata": {},
   "outputs": [],
   "source": []
  },
  {
   "cell_type": "code",
   "execution_count": null,
   "metadata": {},
   "outputs": [],
   "source": []
  }
 ],
 "metadata": {
  "kernelspec": {
   "display_name": "Python 3",
   "language": "python",
   "name": "python3"
  },
  "language_info": {
   "codemirror_mode": {
    "name": "ipython",
    "version": 3
   },
   "file_extension": ".py",
   "mimetype": "text/x-python",
   "name": "python",
   "nbconvert_exporter": "python",
   "pygments_lexer": "ipython3",
   "version": "3.8.5"
  }
 },
 "nbformat": 4,
 "nbformat_minor": 4
}
