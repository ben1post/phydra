{
 "cells": [
  {
   "cell_type": "code",
   "execution_count": 1,
   "metadata": {},
   "outputs": [],
   "source": [
    "import numpy as np\n",
    "from scipy.integrate import odeint\n",
    "import matplotlib.pyplot as plt\n",
    "import xsimlab as xs\n",
    "\n",
    "# to measure process time\n",
    "import time as tm"
   ]
  },
  {
   "cell_type": "code",
   "execution_count": 2,
   "metadata": {},
   "outputs": [],
   "source": [
    "import attr"
   ]
  },
  {
   "cell_type": "code",
   "execution_count": 3,
   "metadata": {},
   "outputs": [],
   "source": [
    "import os,sys,inspect\n",
    "sys.path.insert(1, os.path.join(sys.path[0], '..'))\n",
    "\n",
    "import phydra\n",
    "\n",
    "from phydra.processes.main import ThirdInit\n",
    "\n",
    "from phydra.processes.statevars import SV, Time\n",
    "\n",
    "from phydra.processes.forcings import ConstantForcing\n",
    "\n",
    "from phydra.processes.fluxes import LossLinearFlux, ForcingInputLinearFlux\n",
    "\n",
    "from phydra.core.parts import Parameter"
   ]
  },
  {
   "cell_type": "code",
   "execution_count": 6,
   "metadata": {},
   "outputs": [
    {
     "ename": "SyntaxError",
     "evalue": "invalid syntax (<ipython-input-6-778419129297>, line 11)",
     "output_type": "error",
     "traceback": [
      "\u001b[0;36m  File \u001b[0;32m\"<ipython-input-6-778419129297>\"\u001b[0;36m, line \u001b[0;32m11\u001b[0m\n\u001b[0;31m    hm... so now I have this simple wrapper, but it don't make any sense..\u001b[0m\n\u001b[0m      ^\u001b[0m\n\u001b[0;31mSyntaxError\u001b[0m\u001b[0;31m:\u001b[0m invalid syntax\n"
     ]
    }
   ],
   "source": [
    "# what should the final wrapped class interface look like? \n",
    "# in what way \n",
    "\n",
    "# SO THE FIRST (and maybe only) way to implemented is for Fluxes!\n",
    "# the basic types of fluxes have their decorators\n",
    "# and each flux uses one of these decorators and\n",
    "# the actual function is a simple flux function\n",
    "\n",
    "# so how can I turn a simple (latexifiable) function, into an xs.process via decoration?\n",
    "\n",
    "hm... so now I have this simple wrapper, but it don't make any sense..\n",
    "\n",
    "# also no latexification as of right now, unless modifying base code\n",
    "\n",
    "what can I do to make this more senseful?\n",
    "\n",
    "# no. no. \n",
    "good idea: instead of mix matching base class & flux func\n",
    "    \n",
    "instead create abc for flux, that includes inputs outputs and parameters\n",
    "\n",
    "and from this the proper flux PROCESS is created!\n",
    "\n",
    "# latexify_py can be incorporated into this class! compatibility with base math\n",
    "\n",
    "xs.variable returns attr.attrib(\"content here\")\n",
    "\n",
    "# "
   ]
  },
  {
   "cell_type": "code",
   "execution_count": 4,
   "metadata": {},
   "outputs": [],
   "source": [
    "from phydra.processes.main import ThirdInit"
   ]
  },
  {
   "cell_type": "code",
   "execution_count": null,
   "metadata": {},
   "outputs": [],
   "source": []
  },
  {
   "cell_type": "code",
   "execution_count": 5,
   "metadata": {},
   "outputs": [],
   "source": [
    "from collections import OrderedDict"
   ]
  },
  {
   "cell_type": "code",
   "execution_count": 6,
   "metadata": {},
   "outputs": [],
   "source": [
    "from enum import Enum\n",
    "\n",
    "class FluxVarType(Enum):\n",
    "    STATEVARIABLE = \"statevariable\"\n",
    "    PARAMETER = \"parameter\"\n",
    "    FORCING = \"forcing\"\n",
    "\n",
    "class FluxVarIntent(Enum):\n",
    "    INPUT = \"input\"\n",
    "    OUTPUT = \"output\""
   ]
  },
  {
   "cell_type": "code",
   "execution_count": 29,
   "metadata": {},
   "outputs": [],
   "source": [
    "def _make_property_flux(flux):\n",
    "    return xs.variable(intent='in')\n",
    "\n",
    "\n",
    "class _FluxProcessBuilder:\n",
    "    \"\"\" \n",
    "    Process builder creates xs.process, from Flux base class\n",
    "    \"\"\"\n",
    "    \n",
    "    _make_prop_funcs = {\n",
    "        FluxVarType.STATEVARIABLE: _make_property_flux,\n",
    "        FluxVarType.PARAMETER: _make_property_flux,\n",
    "        FluxVarType.FORCING: _make_property_flux,\n",
    "    }\n",
    "    \n",
    "    def __init__(self, cls):\n",
    "        print(\"INIT:\", type(cls), cls)\n",
    "        self._base_cls = ThirdInit  # handles init structure (fluxes initialized last)\n",
    "        self._flux_cls = cls\n",
    "        self._flux_func = cls.flux\n",
    "        self._flux_cls_dict = {}\n",
    "        \n",
    "        # maybe here, add a dict that builds the flux function later on\n",
    "        # maybe that stores input output, and parameters, forcings\n",
    "        # flux cls dict stores xs.variables and setup!\n",
    "    \n",
    "    \n",
    "    def add_properties(self):\n",
    "        for var_name, var in attr.fields_dict(self._flux_cls).items():\n",
    "            var_type = var.metadata.get(\"var_type\")\n",
    "            \n",
    "            print(\"add_properties\", var_type)\n",
    "            \n",
    "            if var_type is not None:\n",
    "                make_prop_func = self._make_prop_funcs[var_type]\n",
    "                print(make_prop_func(var))\n",
    "                self._flux_cls_dict[var_name] = make_prop_func(var)\n",
    "                \n",
    "    \n",
    "    def _make_xsimlab_process(self):\n",
    "        print(\"MAKING xsimlab process\")\n",
    "        p_cls = attr.make_class(\n",
    "            self._flux_cls.__name__,\n",
    "            self._reset_attributes(),\n",
    "            bases=(self._base_cls,),\n",
    "            init=False,\n",
    "            repr=False,\n",
    "        )\n",
    "        print(\"P_CLSS\", p_cls)\n",
    "        return p_cls\n",
    "    \n",
    "    \n",
    "    def _setup_flux_func(self):\n",
    "        \n",
    "        print(self._flux_func)\n",
    "        \n",
    "        return self._flux_func\n",
    "    \n",
    "    \n",
    "    def _setup_init_func(cls):\n",
    "        \n",
    "        def initialize(self):\n",
    "            super(getattr(self, '__class__'), self).initialize()  # handles initialization stages\n",
    "            \n",
    "            print(f\"initializing flux {self.label}\")\n",
    "            print(\"INIT parent wrapped class: \", cls)\n",
    "            print(\"INIT self: \", self)\n",
    "            \n",
    "            print(getattr(self, '__class__'))\n",
    "            \n",
    "            print(getattr(self, '__xsimlab_name__'))\n",
    "            \n",
    "            # setup parameter\n",
    "            self.m.Parameters[self.label + '_rate'] = Parameter(name=self.label + '_rate', value=self.rate)\n",
    "            # create flux\n",
    "            self.m.Fluxes[self.sv_label].append(self.flux)\n",
    "            \n",
    "        return initialize\n",
    "    \n",
    "    \n",
    "    def create_process(self):\n",
    "        \n",
    "        p_cls = self._make_xsimlab_process()\n",
    "        \n",
    "        for name, value in self._flux_cls_dict.items():\n",
    "            print(\"from flux cls dict\", name, value)\n",
    "            setattr(p_cls, name, value)\n",
    "        \n",
    "        setattr(p_cls, \"initialize\", self._setup_init_func())\n",
    "        setattr(p_cls, \"flux\", self._setup_flux_func())\n",
    "        \n",
    "        return xs.process(p_cls)\n"
   ]
  },
  {
   "cell_type": "code",
   "execution_count": 99,
   "metadata": {},
   "outputs": [],
   "source": [
    "class HELLO:\n",
    "    \n",
    "    x = attr.ib()"
   ]
  },
  {
   "cell_type": "code",
   "execution_count": 100,
   "metadata": {},
   "outputs": [
    {
     "ename": "TypeError",
     "evalue": "HELLO() takes no arguments",
     "output_type": "error",
     "traceback": [
      "\u001b[0;31m---------------------------------------------------------------------------\u001b[0m",
      "\u001b[0;31mTypeError\u001b[0m                                 Traceback (most recent call last)",
      "\u001b[0;32m<ipython-input-100-325847db9cbf>\u001b[0m in \u001b[0;36m<module>\u001b[0;34m\u001b[0m\n\u001b[0;32m----> 1\u001b[0;31m \u001b[0mHELLO\u001b[0m\u001b[0;34m(\u001b[0m\u001b[0;36m1\u001b[0m\u001b[0;34m)\u001b[0m\u001b[0;34m\u001b[0m\u001b[0;34m\u001b[0m\u001b[0m\n\u001b[0m",
      "\u001b[0;31mTypeError\u001b[0m: HELLO() takes no arguments"
     ]
    }
   ],
   "source": [
    "HELLO(1)"
   ]
  },
  {
   "cell_type": "code",
   "execution_count": 101,
   "metadata": {},
   "outputs": [
    {
     "data": {
      "text/plain": [
       "['__class__',\n",
       " '__delattr__',\n",
       " '__dict__',\n",
       " '__dir__',\n",
       " '__doc__',\n",
       " '__eq__',\n",
       " '__format__',\n",
       " '__ge__',\n",
       " '__getattribute__',\n",
       " '__gt__',\n",
       " '__hash__',\n",
       " '__init__',\n",
       " '__init_subclass__',\n",
       " '__le__',\n",
       " '__lt__',\n",
       " '__module__',\n",
       " '__ne__',\n",
       " '__new__',\n",
       " '__reduce__',\n",
       " '__reduce_ex__',\n",
       " '__repr__',\n",
       " '__setattr__',\n",
       " '__sizeof__',\n",
       " '__str__',\n",
       " '__subclasshook__',\n",
       " '__weakref__',\n",
       " 'x']"
      ]
     },
     "execution_count": 101,
     "metadata": {},
     "output_type": "execute_result"
    }
   ],
   "source": [
    "dir(HELLO)"
   ]
  },
  {
   "cell_type": "code",
   "execution_count": 102,
   "metadata": {},
   "outputs": [],
   "source": [
    "HELLOattr = attr.s(HELLO, repr=False)"
   ]
  },
  {
   "cell_type": "code",
   "execution_count": 103,
   "metadata": {},
   "outputs": [
    {
     "data": {
      "text/plain": [
       "['__attrs_attrs__',\n",
       " '__class__',\n",
       " '__delattr__',\n",
       " '__dict__',\n",
       " '__dir__',\n",
       " '__doc__',\n",
       " '__eq__',\n",
       " '__format__',\n",
       " '__ge__',\n",
       " '__getattribute__',\n",
       " '__gt__',\n",
       " '__hash__',\n",
       " '__init__',\n",
       " '__init_subclass__',\n",
       " '__le__',\n",
       " '__lt__',\n",
       " '__module__',\n",
       " '__ne__',\n",
       " '__new__',\n",
       " '__reduce__',\n",
       " '__reduce_ex__',\n",
       " '__repr__',\n",
       " '__setattr__',\n",
       " '__sizeof__',\n",
       " '__str__',\n",
       " '__subclasshook__',\n",
       " '__weakref__']"
      ]
     },
     "execution_count": 103,
     "metadata": {},
     "output_type": "execute_result"
    }
   ],
   "source": [
    "dir(HELLOattr)"
   ]
  },
  {
   "cell_type": "code",
   "execution_count": 104,
   "metadata": {},
   "outputs": [
    {
     "data": {
      "text/plain": [
       "<__main__.HELLO at 0x1639197f0>"
      ]
     },
     "execution_count": 104,
     "metadata": {},
     "output_type": "execute_result"
    }
   ],
   "source": [
    "HELLOattr(1)"
   ]
  },
  {
   "cell_type": "code",
   "execution_count": 107,
   "metadata": {},
   "outputs": [
    {
     "data": {
      "text/plain": [
       "__main__.HELLO"
      ]
     },
     "execution_count": 107,
     "metadata": {},
     "output_type": "execute_result"
    }
   ],
   "source": [
    "xs.process(HELLO)"
   ]
  },
  {
   "cell_type": "code",
   "execution_count": 109,
   "metadata": {},
   "outputs": [
    {
     "name": "stdout",
     "output_type": "stream",
     "text": [
      "<HELLO  (xsimlab process)>\n",
      "Variables:\n",
      "    *empty*\n",
      "Simulation stages:\n",
      "    *no stage implemented*\n"
     ]
    }
   ],
   "source": [
    "xs.process_info(xs.process(HELLOattr))"
   ]
  },
  {
   "cell_type": "code",
   "execution_count": null,
   "metadata": {},
   "outputs": [],
   "source": []
  },
  {
   "cell_type": "code",
   "execution_count": 30,
   "metadata": {},
   "outputs": [],
   "source": [
    "def processfromflux(maybe_cls=None):\n",
    "    \n",
    "    def wrap(cls):\n",
    "        print(\"wrapper cls\", cls)\n",
    "        \n",
    "        attr_cls = attr.attrs(cls, repr=False)\n",
    "        \n",
    "        print(\"wrapper attr cls\", attr_cls)\n",
    "        \n",
    "        builder = _FluxProcessBuilder(attr_cls)\n",
    "\n",
    "        builder.add_properties()\n",
    "\n",
    "        #if autodoc:\n",
    "        #    builder.render_docstrings()\n",
    "\n",
    "        return builder.create_process()\n",
    "    \n",
    "    \n",
    "    if maybe_cls is None:\n",
    "        return wrap\n",
    "    else:\n",
    "        return wrap(maybe_cls)"
   ]
  },
  {
   "cell_type": "code",
   "execution_count": 31,
   "metadata": {},
   "outputs": [
    {
     "name": "stdout",
     "output_type": "stream",
     "text": [
      "wrapper cls <class '__main__.XXXX'>\n",
      "wrapper attr cls <class '__main__.XXXX'>\n",
      "INIT: <class 'type'> <class '__main__.XXXX'>\n",
      "add_properties FluxVarType.STATEVARIABLE\n",
      "_CountingAttr(counter=143, _default=NOTHING, repr=True, eq=True, order=True, hash=None, init=True, metadata={'var_type': <VarType.VARIABLE: 'variable'>, 'dims': ((),), 'intent': <VarIntent.IN: 'in'>, 'groups': (), 'static': False, 'attrs': {}, 'description': '', 'encoding': {}})\n",
      "add_properties FluxVarType.PARAMETER\n",
      "_CountingAttr(counter=145, _default=NOTHING, repr=True, eq=True, order=True, hash=None, init=True, metadata={'var_type': <VarType.VARIABLE: 'variable'>, 'dims': ((),), 'intent': <VarIntent.IN: 'in'>, 'groups': (), 'static': False, 'attrs': {}, 'description': '', 'encoding': {}})\n",
      "MAKING xsimlab process\n",
      "resetting attrs\n",
      "sv_label Attribute(name='sv_label', default=NOTHING, validator=None, repr=True, eq=True, order=True, hash=None, init=True, metadata=mappingproxy({'var_type': <FluxVarType.STATEVARIABLE: 'statevariable'>}), type=None, converter=None, kw_only=False)\n",
      "rate Attribute(name='rate', default=NOTHING, validator=None, repr=True, eq=True, order=True, hash=None, init=True, metadata=mappingproxy({'var_type': <FluxVarType.PARAMETER: 'parameter'>}), type=None, converter=None, kw_only=False)\n",
      "reset attrs OrderedDict([('sv_label', _CountingAttr(counter=147, _default=NOTHING, repr=False, eq=True, order=True, hash=None, init=False, metadata=mappingproxy({'var_type': <FluxVarType.STATEVARIABLE: 'statevariable'>}))), ('rate', _CountingAttr(counter=148, _default=NOTHING, repr=False, eq=True, order=True, hash=None, init=False, metadata=mappingproxy({'var_type': <FluxVarType.PARAMETER: 'parameter'>})))])\n",
      "P_CLSS <class '__main__.XXXX'>\n",
      "from flux cls dict sv_label _CountingAttr(counter=144, _default=NOTHING, repr=True, eq=True, order=True, hash=None, init=True, metadata={'var_type': <VarType.VARIABLE: 'variable'>, 'dims': ((),), 'intent': <VarIntent.IN: 'in'>, 'groups': (), 'static': False, 'attrs': {}, 'description': '', 'encoding': {}})\n",
      "from flux cls dict rate _CountingAttr(counter=146, _default=NOTHING, repr=True, eq=True, order=True, hash=None, init=True, metadata={'var_type': <VarType.VARIABLE: 'variable'>, 'dims': ((),), 'intent': <VarIntent.IN: 'in'>, 'groups': (), 'static': False, 'attrs': {}, 'description': '', 'encoding': {}})\n",
      "<function XXXX.flux at 0x16371cf70>\n"
     ]
    }
   ],
   "source": [
    "@processfromflux\n",
    "class XXXX:\n",
    "    sv_label = attr.ib(metadata={\"var_type\": FluxVarType.STATEVARIABLE})\n",
    "    \n",
    "    rate = attr.ib(metadata={\"var_type\": FluxVarType.PARAMETER})\n",
    "    \n",
    "    def flux(self):\n",
    "        print(\"FLUXXING\")\n",
    "        print(self.sv, self.rate)\n",
    "        \n",
    "        \n",
    "        pass\n",
    "    \n",
    "    #def flux(self, **kwargs):\n",
    "    #    state = kwargs.get('state')\n",
    "    #    parameters = kwargs.get('parameters')\n",
    "    #\n",
    "    #    sv = state[self.sv_label]\n",
    "    #    rate = parameters[self.label + '_rate']\n",
    "    #    delta = -rate * sv\n",
    "    #    return delta"
   ]
  },
  {
   "cell_type": "code",
   "execution_count": 32,
   "metadata": {},
   "outputs": [
    {
     "name": "stdout",
     "output_type": "stream",
     "text": [
      "<XXXX  (xsimlab process)>\n",
      "Variables:\n",
      "    m              [in] <--- ModelCore.m\n",
      "    label         [out]\n",
      "    firstinit      [in] <--- group 'FirstInit'\n",
      "    secondinit     [in] <--- group 'SecondInit'\n",
      "    group         [out]\n",
      "    sv_label       [in]\n",
      "    rate           [in]\n",
      "Simulation stages:\n",
      "    initialize\n"
     ]
    }
   ],
   "source": [
    "xs.process_info(XXXX)"
   ]
  },
  {
   "cell_type": "code",
   "execution_count": 33,
   "metadata": {},
   "outputs": [],
   "source": [
    "Model = phydra.create({\n",
    "    # SV\n",
    "    'y':SV,\n",
    "    'x':SV, \n",
    "    \n",
    "    # Fluxes\n",
    "    'y_loss':XXXX,\n",
    "    'x_loss':XXXX,\n",
    "    \n",
    "    # Forcing\n",
    "    'y_input':ForcingInputLinearFlux,\n",
    "    'N0':ConstantForcing\n",
    "})"
   ]
  },
  {
   "cell_type": "code",
   "execution_count": 34,
   "metadata": {},
   "outputs": [
    {
     "data": {
      "text/plain": [
       "<xsimlab.Model (9 processes, 12 inputs)>\n",
       "Core\n",
       "    solver_type     [in]\n",
       "Time\n",
       "    time            [in] ('input_time',) A sequence of Time points ...\n",
       "y\n",
       "    init            [in]\n",
       "x\n",
       "    init            [in]\n",
       "N0\n",
       "    value           [in]\n",
       "y_loss\n",
       "    rate            [in]\n",
       "    sv_label        [in]\n",
       "x_loss\n",
       "    rate            [in]\n",
       "    sv_label        [in]\n",
       "y_input\n",
       "    rate            [in]\n",
       "    fx_label        [in]\n",
       "    sv_label        [in]\n",
       "Solver"
      ]
     },
     "execution_count": 34,
     "metadata": {},
     "output_type": "execute_result"
    }
   ],
   "source": [
    "Model"
   ]
  },
  {
   "cell_type": "code",
   "execution_count": 35,
   "metadata": {},
   "outputs": [],
   "source": [
    "#Model.visualize(show_inputs=True)"
   ]
  },
  {
   "cell_type": "code",
   "execution_count": 36,
   "metadata": {},
   "outputs": [],
   "source": [
    "odeint_setup = phydra.setup('odeint', Model,\n",
    "            time=np.arange(0,20,0.1),\n",
    "            input_vars={\n",
    "                'y__init':0.5,\n",
    "                'x__init':0.5,\n",
    "                \n",
    "                'y_loss__sv_label':'y',\n",
    "                'y_loss__rate':0.01,\n",
    "                \n",
    "                'x_loss__sv_label':'x',\n",
    "                'x_loss__rate':0.5,\n",
    "                \n",
    "                'y_input':{'sv_label':'y',\n",
    "                          'fx_label':'N0',\n",
    "                          'rate':.1},\n",
    "                'N0__value':2.\n",
    "            },\n",
    "            output_vars={\n",
    "                'y__value':None,\n",
    "                'x__value':None,\n",
    "            })"
   ]
  },
  {
   "cell_type": "code",
   "execution_count": 37,
   "metadata": {},
   "outputs": [
    {
     "name": "stdout",
     "output_type": "stream",
     "text": [
      "initializing model core\n",
      "Initializing Model Time\n",
      "initializing state variable y\n",
      "initializing state variable x\n",
      "initializing forcing N0\n"
     ]
    },
    {
     "ename": "RecursionError",
     "evalue": "maximum recursion depth exceeded while calling a Python object",
     "output_type": "error",
     "traceback": [
      "\u001b[0;31m---------------------------------------------------------------------------\u001b[0m",
      "\u001b[0;31mRecursionError\u001b[0m                            Traceback (most recent call last)",
      "\u001b[0;32m<ipython-input-37-8390bb64c8cd>\u001b[0m in \u001b[0;36m<module>\u001b[0;34m\u001b[0m\n\u001b[0;32m----> 1\u001b[0;31m \u001b[0mout_ds\u001b[0m \u001b[0;34m=\u001b[0m \u001b[0modeint_setup\u001b[0m\u001b[0;34m.\u001b[0m\u001b[0mxsimlab\u001b[0m\u001b[0;34m.\u001b[0m\u001b[0mrun\u001b[0m\u001b[0;34m(\u001b[0m\u001b[0mmodel\u001b[0m\u001b[0;34m=\u001b[0m\u001b[0mModel\u001b[0m\u001b[0;34m)\u001b[0m\u001b[0;34m\u001b[0m\u001b[0;34m\u001b[0m\u001b[0m\n\u001b[0m",
      "\u001b[0;32m~/opt/anaconda3/envs/xsimlab/lib/python3.8/site-packages/xsimlab/xr_accessor.py\u001b[0m in \u001b[0;36mrun\u001b[0;34m(self, model, batch_dim, check_dims, validate, store, encoding, hooks, parallel, scheduler, safe_mode)\u001b[0m\n\u001b[1;32m    814\u001b[0m         )\n\u001b[1;32m    815\u001b[0m \u001b[0;34m\u001b[0m\u001b[0m\n\u001b[0;32m--> 816\u001b[0;31m         \u001b[0mdriver\u001b[0m\u001b[0;34m.\u001b[0m\u001b[0mrun_model\u001b[0m\u001b[0;34m(\u001b[0m\u001b[0;34m)\u001b[0m\u001b[0;34m\u001b[0m\u001b[0;34m\u001b[0m\u001b[0m\n\u001b[0m\u001b[1;32m    817\u001b[0m \u001b[0;34m\u001b[0m\u001b[0m\n\u001b[1;32m    818\u001b[0m         \u001b[0;32mreturn\u001b[0m \u001b[0mdriver\u001b[0m\u001b[0;34m.\u001b[0m\u001b[0mget_results\u001b[0m\u001b[0;34m(\u001b[0m\u001b[0;34m)\u001b[0m\u001b[0;34m\u001b[0m\u001b[0;34m\u001b[0m\u001b[0m\n",
      "\u001b[0;32m~/opt/anaconda3/envs/xsimlab/lib/python3.8/site-packages/xsimlab/drivers.py\u001b[0m in \u001b[0;36mrun_model\u001b[0;34m(self)\u001b[0m\n\u001b[1;32m    453\u001b[0m \u001b[0;34m\u001b[0m\u001b[0m\n\u001b[1;32m    454\u001b[0m         \u001b[0;32mif\u001b[0m \u001b[0mself\u001b[0m\u001b[0;34m.\u001b[0m\u001b[0mbatch_dim\u001b[0m \u001b[0;32mis\u001b[0m \u001b[0;32mNone\u001b[0m\u001b[0;34m:\u001b[0m\u001b[0;34m\u001b[0m\u001b[0;34m\u001b[0m\u001b[0m\n\u001b[0;32m--> 455\u001b[0;31m             _run(\n\u001b[0m\u001b[1;32m    456\u001b[0m                 \u001b[0mds_in\u001b[0m\u001b[0;34m,\u001b[0m\u001b[0;34m\u001b[0m\u001b[0;34m\u001b[0m\u001b[0m\n\u001b[1;32m    457\u001b[0m                 \u001b[0mself\u001b[0m\u001b[0;34m.\u001b[0m\u001b[0mmodel\u001b[0m\u001b[0;34m,\u001b[0m\u001b[0;34m\u001b[0m\u001b[0;34m\u001b[0m\u001b[0m\n",
      "\u001b[0;32m~/opt/anaconda3/envs/xsimlab/lib/python3.8/site-packages/xsimlab/drivers.py\u001b[0m in \u001b[0;36m_run\u001b[0;34m(dataset, model, store, hooks, validate, batch, batch_size, parallel, scheduler)\u001b[0m\n\u001b[1;32m    331\u001b[0m     \u001b[0min_vars\u001b[0m \u001b[0;34m=\u001b[0m \u001b[0m_get_input_vars\u001b[0m\u001b[0;34m(\u001b[0m\u001b[0mds_init\u001b[0m\u001b[0;34m,\u001b[0m \u001b[0mmodel\u001b[0m\u001b[0;34m)\u001b[0m\u001b[0;34m\u001b[0m\u001b[0;34m\u001b[0m\u001b[0m\n\u001b[1;32m    332\u001b[0m     \u001b[0mmodel\u001b[0m\u001b[0;34m.\u001b[0m\u001b[0mupdate_state\u001b[0m\u001b[0;34m(\u001b[0m\u001b[0min_vars\u001b[0m\u001b[0;34m,\u001b[0m \u001b[0mvalidate\u001b[0m\u001b[0;34m=\u001b[0m\u001b[0mvalidate_inputs\u001b[0m\u001b[0;34m,\u001b[0m \u001b[0mignore_static\u001b[0m\u001b[0;34m=\u001b[0m\u001b[0;32mTrue\u001b[0m\u001b[0;34m)\u001b[0m\u001b[0;34m\u001b[0m\u001b[0;34m\u001b[0m\u001b[0m\n\u001b[0;32m--> 333\u001b[0;31m     \u001b[0mmodel\u001b[0m\u001b[0;34m.\u001b[0m\u001b[0mexecute\u001b[0m\u001b[0;34m(\u001b[0m\u001b[0;34m\"initialize\"\u001b[0m\u001b[0;34m,\u001b[0m \u001b[0mrt_context\u001b[0m\u001b[0;34m,\u001b[0m \u001b[0;34m**\u001b[0m\u001b[0mexecute_kwargs\u001b[0m\u001b[0;34m)\u001b[0m\u001b[0;34m\u001b[0m\u001b[0;34m\u001b[0m\u001b[0m\n\u001b[0m\u001b[1;32m    334\u001b[0m \u001b[0;34m\u001b[0m\u001b[0m\n\u001b[1;32m    335\u001b[0m     \u001b[0;32mfor\u001b[0m \u001b[0mstep\u001b[0m\u001b[0;34m,\u001b[0m \u001b[0;34m(\u001b[0m\u001b[0m_\u001b[0m\u001b[0;34m,\u001b[0m \u001b[0mds_step\u001b[0m\u001b[0;34m)\u001b[0m \u001b[0;32min\u001b[0m \u001b[0menumerate\u001b[0m\u001b[0;34m(\u001b[0m\u001b[0mds_gby_steps\u001b[0m\u001b[0;34m)\u001b[0m\u001b[0;34m:\u001b[0m\u001b[0;34m\u001b[0m\u001b[0;34m\u001b[0m\u001b[0m\n",
      "\u001b[0;32m~/opt/anaconda3/envs/xsimlab/lib/python3.8/site-packages/xsimlab/model.py\u001b[0m in \u001b[0;36mexecute\u001b[0;34m(self, stage, runtime_context, hooks, validate, parallel, scheduler)\u001b[0m\n\u001b[1;32m    865\u001b[0m         \u001b[0;32melse\u001b[0m\u001b[0;34m:\u001b[0m\u001b[0;34m\u001b[0m\u001b[0;34m\u001b[0m\u001b[0m\n\u001b[1;32m    866\u001b[0m             \u001b[0;32mfor\u001b[0m \u001b[0mp_name\u001b[0m\u001b[0;34m,\u001b[0m \u001b[0mp_obj\u001b[0m \u001b[0;32min\u001b[0m \u001b[0mself\u001b[0m\u001b[0;34m.\u001b[0m\u001b[0m_processes\u001b[0m\u001b[0;34m.\u001b[0m\u001b[0mitems\u001b[0m\u001b[0;34m(\u001b[0m\u001b[0;34m)\u001b[0m\u001b[0;34m:\u001b[0m\u001b[0;34m\u001b[0m\u001b[0;34m\u001b[0m\u001b[0m\n\u001b[0;32m--> 867\u001b[0;31m                 \u001b[0mself\u001b[0m\u001b[0;34m.\u001b[0m\u001b[0m_execute_process\u001b[0m\u001b[0;34m(\u001b[0m\u001b[0mp_obj\u001b[0m\u001b[0;34m,\u001b[0m \u001b[0;34m*\u001b[0m\u001b[0mexecute_args\u001b[0m\u001b[0;34m)\u001b[0m\u001b[0;34m\u001b[0m\u001b[0;34m\u001b[0m\u001b[0m\n\u001b[0m\u001b[1;32m    868\u001b[0m \u001b[0;34m\u001b[0m\u001b[0m\n\u001b[1;32m    869\u001b[0m         \u001b[0mself\u001b[0m\u001b[0;34m.\u001b[0m\u001b[0m_call_hooks\u001b[0m\u001b[0;34m(\u001b[0m\u001b[0mhooks\u001b[0m\u001b[0;34m,\u001b[0m \u001b[0mruntime_context\u001b[0m\u001b[0;34m,\u001b[0m \u001b[0mstage\u001b[0m\u001b[0;34m,\u001b[0m \u001b[0;34m\"model\"\u001b[0m\u001b[0;34m,\u001b[0m \u001b[0;34m\"post\"\u001b[0m\u001b[0;34m)\u001b[0m\u001b[0;34m\u001b[0m\u001b[0;34m\u001b[0m\u001b[0m\n",
      "\u001b[0;32m~/opt/anaconda3/envs/xsimlab/lib/python3.8/site-packages/xsimlab/model.py\u001b[0m in \u001b[0;36m_execute_process\u001b[0;34m(self, p_obj, stage, runtime_context, hooks, validate, state)\u001b[0m\n\u001b[1;32m    731\u001b[0m \u001b[0;34m\u001b[0m\u001b[0m\n\u001b[1;32m    732\u001b[0m         \u001b[0mself\u001b[0m\u001b[0;34m.\u001b[0m\u001b[0m_call_hooks\u001b[0m\u001b[0;34m(\u001b[0m\u001b[0mhooks\u001b[0m\u001b[0;34m,\u001b[0m \u001b[0mruntime_context\u001b[0m\u001b[0;34m,\u001b[0m \u001b[0mstage\u001b[0m\u001b[0;34m,\u001b[0m \u001b[0;34m\"process\"\u001b[0m\u001b[0;34m,\u001b[0m \u001b[0;34m\"pre\"\u001b[0m\u001b[0;34m)\u001b[0m\u001b[0;34m\u001b[0m\u001b[0;34m\u001b[0m\u001b[0m\n\u001b[0;32m--> 733\u001b[0;31m         \u001b[0mout_state\u001b[0m \u001b[0;34m=\u001b[0m \u001b[0mexecutor\u001b[0m\u001b[0;34m.\u001b[0m\u001b[0mexecute\u001b[0m\u001b[0;34m(\u001b[0m\u001b[0mp_obj\u001b[0m\u001b[0;34m,\u001b[0m \u001b[0mstage\u001b[0m\u001b[0;34m,\u001b[0m \u001b[0mruntime_context\u001b[0m\u001b[0;34m,\u001b[0m \u001b[0mstate\u001b[0m\u001b[0;34m=\u001b[0m\u001b[0mstate\u001b[0m\u001b[0;34m)\u001b[0m\u001b[0;34m\u001b[0m\u001b[0;34m\u001b[0m\u001b[0m\n\u001b[0m\u001b[1;32m    734\u001b[0m         \u001b[0mself\u001b[0m\u001b[0;34m.\u001b[0m\u001b[0m_call_hooks\u001b[0m\u001b[0;34m(\u001b[0m\u001b[0mhooks\u001b[0m\u001b[0;34m,\u001b[0m \u001b[0mruntime_context\u001b[0m\u001b[0;34m,\u001b[0m \u001b[0mstage\u001b[0m\u001b[0;34m,\u001b[0m \u001b[0;34m\"process\"\u001b[0m\u001b[0;34m,\u001b[0m \u001b[0;34m\"post\"\u001b[0m\u001b[0;34m)\u001b[0m\u001b[0;34m\u001b[0m\u001b[0;34m\u001b[0m\u001b[0m\n\u001b[1;32m    735\u001b[0m \u001b[0;34m\u001b[0m\u001b[0m\n",
      "\u001b[0;32m~/opt/anaconda3/envs/xsimlab/lib/python3.8/site-packages/xsimlab/process.py\u001b[0m in \u001b[0;36mexecute\u001b[0;34m(self, obj, stage, runtime_context, state)\u001b[0m\n\u001b[1;32m    407\u001b[0m             \u001b[0;32mreturn\u001b[0m \u001b[0;34m{\u001b[0m\u001b[0;34m}\u001b[0m\u001b[0;34m\u001b[0m\u001b[0;34m\u001b[0m\u001b[0m\n\u001b[1;32m    408\u001b[0m         \u001b[0;32melse\u001b[0m\u001b[0;34m:\u001b[0m\u001b[0;34m\u001b[0m\u001b[0;34m\u001b[0m\u001b[0m\n\u001b[0;32m--> 409\u001b[0;31m             \u001b[0mexecutor\u001b[0m\u001b[0;34m.\u001b[0m\u001b[0mexecute\u001b[0m\u001b[0;34m(\u001b[0m\u001b[0mobj\u001b[0m\u001b[0;34m,\u001b[0m \u001b[0mruntime_context\u001b[0m\u001b[0;34m,\u001b[0m \u001b[0mstate\u001b[0m\u001b[0;34m=\u001b[0m\u001b[0mstate\u001b[0m\u001b[0;34m)\u001b[0m\u001b[0;34m\u001b[0m\u001b[0;34m\u001b[0m\u001b[0m\n\u001b[0m\u001b[1;32m    410\u001b[0m \u001b[0;34m\u001b[0m\u001b[0m\n\u001b[1;32m    411\u001b[0m             \u001b[0mskeys\u001b[0m \u001b[0;34m=\u001b[0m \u001b[0;34m[\u001b[0m\u001b[0mobj\u001b[0m\u001b[0;34m.\u001b[0m\u001b[0m__xsimlab_state_keys__\u001b[0m\u001b[0;34m[\u001b[0m\u001b[0mk\u001b[0m\u001b[0;34m]\u001b[0m \u001b[0;32mfor\u001b[0m \u001b[0mk\u001b[0m \u001b[0;32min\u001b[0m \u001b[0mself\u001b[0m\u001b[0;34m.\u001b[0m\u001b[0mout_vars\u001b[0m\u001b[0;34m]\u001b[0m\u001b[0;34m\u001b[0m\u001b[0;34m\u001b[0m\u001b[0m\n",
      "\u001b[0;32m~/opt/anaconda3/envs/xsimlab/lib/python3.8/site-packages/xsimlab/process.py\u001b[0m in \u001b[0;36mexecute\u001b[0;34m(self, obj, runtime_context, state)\u001b[0m\n\u001b[1;32m    283\u001b[0m         \u001b[0margs\u001b[0m \u001b[0;34m=\u001b[0m \u001b[0;34m[\u001b[0m\u001b[0mruntime_context\u001b[0m\u001b[0;34m[\u001b[0m\u001b[0mk\u001b[0m\u001b[0;34m]\u001b[0m \u001b[0;32mfor\u001b[0m \u001b[0mk\u001b[0m \u001b[0;32min\u001b[0m \u001b[0mself\u001b[0m\u001b[0;34m.\u001b[0m\u001b[0margs\u001b[0m\u001b[0;34m]\u001b[0m\u001b[0;34m\u001b[0m\u001b[0;34m\u001b[0m\u001b[0m\n\u001b[1;32m    284\u001b[0m \u001b[0;34m\u001b[0m\u001b[0m\n\u001b[0;32m--> 285\u001b[0;31m         \u001b[0mself\u001b[0m\u001b[0;34m.\u001b[0m\u001b[0mmeth\u001b[0m\u001b[0;34m(\u001b[0m\u001b[0mobj\u001b[0m\u001b[0;34m,\u001b[0m \u001b[0;34m*\u001b[0m\u001b[0margs\u001b[0m\u001b[0;34m)\u001b[0m\u001b[0;34m\u001b[0m\u001b[0;34m\u001b[0m\u001b[0m\n\u001b[0m\u001b[1;32m    286\u001b[0m \u001b[0;34m\u001b[0m\u001b[0m\n\u001b[1;32m    287\u001b[0m \u001b[0;34m\u001b[0m\u001b[0m\n",
      "\u001b[0;32m<ipython-input-29-c1746bde21f9>\u001b[0m in \u001b[0;36minitialize\u001b[0;34m(self)\u001b[0m\n\u001b[1;32m     82\u001b[0m \u001b[0;34m\u001b[0m\u001b[0m\n\u001b[1;32m     83\u001b[0m         \u001b[0;32mdef\u001b[0m \u001b[0minitialize\u001b[0m\u001b[0;34m(\u001b[0m\u001b[0mself\u001b[0m\u001b[0;34m)\u001b[0m\u001b[0;34m:\u001b[0m\u001b[0;34m\u001b[0m\u001b[0;34m\u001b[0m\u001b[0m\n\u001b[0;32m---> 84\u001b[0;31m             \u001b[0msuper\u001b[0m\u001b[0;34m(\u001b[0m\u001b[0mgetattr\u001b[0m\u001b[0;34m(\u001b[0m\u001b[0mself\u001b[0m\u001b[0;34m,\u001b[0m \u001b[0;34m'__class__'\u001b[0m\u001b[0;34m)\u001b[0m\u001b[0;34m,\u001b[0m \u001b[0mself\u001b[0m\u001b[0;34m)\u001b[0m\u001b[0;34m.\u001b[0m\u001b[0minitialize\u001b[0m\u001b[0;34m(\u001b[0m\u001b[0;34m)\u001b[0m  \u001b[0;31m# handles initialization stages\u001b[0m\u001b[0;34m\u001b[0m\u001b[0;34m\u001b[0m\u001b[0m\n\u001b[0m\u001b[1;32m     85\u001b[0m \u001b[0;34m\u001b[0m\u001b[0m\n\u001b[1;32m     86\u001b[0m             \u001b[0mprint\u001b[0m\u001b[0;34m(\u001b[0m\u001b[0;34mf\"initializing flux {self.label}\"\u001b[0m\u001b[0;34m)\u001b[0m\u001b[0;34m\u001b[0m\u001b[0;34m\u001b[0m\u001b[0m\n",
      "... last 1 frames repeated, from the frame below ...\n",
      "\u001b[0;32m<ipython-input-29-c1746bde21f9>\u001b[0m in \u001b[0;36minitialize\u001b[0;34m(self)\u001b[0m\n\u001b[1;32m     82\u001b[0m \u001b[0;34m\u001b[0m\u001b[0m\n\u001b[1;32m     83\u001b[0m         \u001b[0;32mdef\u001b[0m \u001b[0minitialize\u001b[0m\u001b[0;34m(\u001b[0m\u001b[0mself\u001b[0m\u001b[0;34m)\u001b[0m\u001b[0;34m:\u001b[0m\u001b[0;34m\u001b[0m\u001b[0;34m\u001b[0m\u001b[0m\n\u001b[0;32m---> 84\u001b[0;31m             \u001b[0msuper\u001b[0m\u001b[0;34m(\u001b[0m\u001b[0mgetattr\u001b[0m\u001b[0;34m(\u001b[0m\u001b[0mself\u001b[0m\u001b[0;34m,\u001b[0m \u001b[0;34m'__class__'\u001b[0m\u001b[0;34m)\u001b[0m\u001b[0;34m,\u001b[0m \u001b[0mself\u001b[0m\u001b[0;34m)\u001b[0m\u001b[0;34m.\u001b[0m\u001b[0minitialize\u001b[0m\u001b[0;34m(\u001b[0m\u001b[0;34m)\u001b[0m  \u001b[0;31m# handles initialization stages\u001b[0m\u001b[0;34m\u001b[0m\u001b[0;34m\u001b[0m\u001b[0m\n\u001b[0m\u001b[1;32m     85\u001b[0m \u001b[0;34m\u001b[0m\u001b[0m\n\u001b[1;32m     86\u001b[0m             \u001b[0mprint\u001b[0m\u001b[0;34m(\u001b[0m\u001b[0;34mf\"initializing flux {self.label}\"\u001b[0m\u001b[0;34m)\u001b[0m\u001b[0;34m\u001b[0m\u001b[0;34m\u001b[0m\u001b[0m\n",
      "\u001b[0;31mRecursionError\u001b[0m: maximum recursion depth exceeded while calling a Python object"
     ]
    }
   ],
   "source": [
    "out_ds = odeint_setup.xsimlab.run(model=Model)"
   ]
  },
  {
   "cell_type": "code",
   "execution_count": 28,
   "metadata": {},
   "outputs": [
    {
     "ename": "NameError",
     "evalue": "name 'out_ds' is not defined",
     "output_type": "error",
     "traceback": [
      "\u001b[0;31m---------------------------------------------------------------------------\u001b[0m",
      "\u001b[0;31mNameError\u001b[0m                                 Traceback (most recent call last)",
      "\u001b[0;32m<ipython-input-28-4db61d748c95>\u001b[0m in \u001b[0;36m<module>\u001b[0;34m\u001b[0m\n\u001b[0;32m----> 1\u001b[0;31m \u001b[0mout_ds\u001b[0m\u001b[0;34m.\u001b[0m\u001b[0my__value\u001b[0m\u001b[0;34m.\u001b[0m\u001b[0mplot\u001b[0m\u001b[0;34m(\u001b[0m\u001b[0;34m)\u001b[0m\u001b[0;34m\u001b[0m\u001b[0;34m\u001b[0m\u001b[0m\n\u001b[0m\u001b[1;32m      2\u001b[0m \u001b[0mout_ds\u001b[0m\u001b[0;34m.\u001b[0m\u001b[0mx__value\u001b[0m\u001b[0;34m.\u001b[0m\u001b[0mplot\u001b[0m\u001b[0;34m(\u001b[0m\u001b[0;34m)\u001b[0m\u001b[0;34m\u001b[0m\u001b[0;34m\u001b[0m\u001b[0m\n",
      "\u001b[0;31mNameError\u001b[0m: name 'out_ds' is not defined"
     ]
    }
   ],
   "source": [
    "out_ds.y__value.plot()\n",
    "out_ds.x__value.plot()"
   ]
  },
  {
   "cell_type": "code",
   "execution_count": null,
   "metadata": {},
   "outputs": [],
   "source": []
  },
  {
   "cell_type": "code",
   "execution_count": null,
   "metadata": {},
   "outputs": [],
   "source": []
  },
  {
   "cell_type": "code",
   "execution_count": null,
   "metadata": {},
   "outputs": [],
   "source": []
  },
  {
   "cell_type": "code",
   "execution_count": null,
   "metadata": {},
   "outputs": [],
   "source": []
  },
  {
   "cell_type": "code",
   "execution_count": null,
   "metadata": {},
   "outputs": [],
   "source": []
  },
  {
   "cell_type": "code",
   "execution_count": null,
   "metadata": {},
   "outputs": [],
   "source": []
  },
  {
   "cell_type": "code",
   "execution_count": null,
   "metadata": {},
   "outputs": [],
   "source": []
  },
  {
   "cell_type": "code",
   "execution_count": null,
   "metadata": {},
   "outputs": [],
   "source": []
  },
  {
   "cell_type": "code",
   "execution_count": null,
   "metadata": {},
   "outputs": [],
   "source": []
  },
  {
   "cell_type": "code",
   "execution_count": 110,
   "metadata": {},
   "outputs": [
    {
     "data": {
      "text/plain": [
       "__main__.LinearFlux"
      ]
     },
     "execution_count": 110,
     "metadata": {},
     "output_type": "execute_result"
    }
   ],
   "source": [
    "@processfromflux\n",
    "class fluxxx:\n",
    "    pass\n",
    "\n",
    "fluxxx"
   ]
  },
  {
   "cell_type": "code",
   "execution_count": null,
   "metadata": {},
   "outputs": [],
   "source": []
  },
  {
   "cell_type": "code",
   "execution_count": null,
   "metadata": {},
   "outputs": [],
   "source": []
  },
  {
   "cell_type": "code",
   "execution_count": 44,
   "metadata": {},
   "outputs": [
    {
     "ename": "NameError",
     "evalue": "name 'ThirdInit' is not defined",
     "output_type": "error",
     "traceback": [
      "\u001b[0;31m---------------------------------------------------------------------------\u001b[0m",
      "\u001b[0;31mNameError\u001b[0m                                 Traceback (most recent call last)",
      "\u001b[0;32m<ipython-input-44-bc1ab36bb6be>\u001b[0m in \u001b[0;36m<module>\u001b[0;34m\u001b[0m\n\u001b[1;32m      1\u001b[0m \u001b[0;34m@\u001b[0m\u001b[0mxs\u001b[0m\u001b[0;34m.\u001b[0m\u001b[0mprocess\u001b[0m\u001b[0;34m\u001b[0m\u001b[0;34m\u001b[0m\u001b[0m\n\u001b[0;32m----> 2\u001b[0;31m \u001b[0;32mclass\u001b[0m \u001b[0mLinearFlux\u001b[0m\u001b[0;34m(\u001b[0m\u001b[0mThirdInit\u001b[0m\u001b[0;34m)\u001b[0m\u001b[0;34m:\u001b[0m\u001b[0;34m\u001b[0m\u001b[0;34m\u001b[0m\u001b[0m\n\u001b[0m\u001b[1;32m      3\u001b[0m     \u001b[0;34m\"\"\"represents a flux in the model\"\"\"\u001b[0m\u001b[0;34m\u001b[0m\u001b[0;34m\u001b[0m\u001b[0m\n\u001b[1;32m      4\u001b[0m \u001b[0;34m\u001b[0m\u001b[0m\n\u001b[1;32m      5\u001b[0m     \u001b[0msv_label\u001b[0m \u001b[0;34m=\u001b[0m \u001b[0mxs\u001b[0m\u001b[0;34m.\u001b[0m\u001b[0mvariable\u001b[0m\u001b[0;34m(\u001b[0m\u001b[0mintent\u001b[0m\u001b[0;34m=\u001b[0m\u001b[0;34m'in'\u001b[0m\u001b[0;34m)\u001b[0m\u001b[0;34m\u001b[0m\u001b[0;34m\u001b[0m\u001b[0m\n",
      "\u001b[0;31mNameError\u001b[0m: name 'ThirdInit' is not defined"
     ]
    }
   ],
   "source": [
    "@xs.process\n",
    "class LinearFlux(ThirdInit):\n",
    "    \"\"\"represents a flux in the model\"\"\"\n",
    "\n",
    "    sv_label = xs.variable(intent='in')\n",
    "    rate = xs.variable(intent='in')\n",
    "\n",
    "    def initialize(self):\n",
    "        super(LinearFlux, self).initialize()  # handles initialization stages\n",
    "        print(f\"initializing flux {self.label}\")\n",
    "\n",
    "        # setup parameter\n",
    "        self.m.Parameters[self.label + '_rate'] = Parameter(name=self.label + '_rate', value=self.rate)\n",
    "        # create flux\n",
    "        self.m.Fluxes[self.sv_label].append(self.flux)"
   ]
  },
  {
   "cell_type": "code",
   "execution_count": 34,
   "metadata": {},
   "outputs": [],
   "source": [
    "#@phydra.flux\n",
    "def flux():\n",
    "    pass"
   ]
  },
  {
   "cell_type": "code",
   "execution_count": 36,
   "metadata": {},
   "outputs": [],
   "source": [
    "flux()"
   ]
  },
  {
   "cell_type": "code",
   "execution_count": null,
   "metadata": {},
   "outputs": [],
   "source": []
  },
  {
   "cell_type": "code",
   "execution_count": 89,
   "metadata": {},
   "outputs": [],
   "source": [
    "import os,sys,inspect\n",
    "sys.path.insert(1, os.path.join(sys.path[0], '..'))"
   ]
  },
  {
   "cell_type": "code",
   "execution_count": 97,
   "metadata": {},
   "outputs": [],
   "source": [
    "import phydra.utility.latexify as latexify"
   ]
  },
  {
   "cell_type": "code",
   "execution_count": 98,
   "metadata": {},
   "outputs": [],
   "source": [
    "def hello(a,b,c):\n",
    "    return a + c/b + c"
   ]
  },
  {
   "cell_type": "code",
   "execution_count": 176,
   "metadata": {},
   "outputs": [],
   "source": [
    "def flux(*, sv1, rate1):\n",
    "    return sv1 * rate1 + 2"
   ]
  },
  {
   "cell_type": "code",
   "execution_count": 177,
   "metadata": {},
   "outputs": [
    {
     "data": {
      "text/plain": [
       "'\\\\mathrm{flux}()\\\\triangleq sv1rate1 + 2'"
      ]
     },
     "execution_count": 177,
     "metadata": {},
     "output_type": "execute_result"
    }
   ],
   "source": [
    "latexify.get_latex(flux)"
   ]
  },
  {
   "cell_type": "code",
   "execution_count": 39,
   "metadata": {},
   "outputs": [
    {
     "ename": "NameError",
     "evalue": "name 'args' is not defined",
     "output_type": "error",
     "traceback": [
      "\u001b[0;31m---------------------------------------------------------------------------\u001b[0m",
      "\u001b[0;31mNameError\u001b[0m                                 Traceback (most recent call last)",
      "\u001b[0;32m<ipython-input-39-b9aa0b2a344e>\u001b[0m in \u001b[0;36m<module>\u001b[0;34m\u001b[0m\n\u001b[0;32m----> 1\u001b[0;31m \u001b[0;34m@\u001b[0m\u001b[0mprocess\u001b[0m\u001b[0;34m(\u001b[0m\u001b[0;34m*\u001b[0m\u001b[0margs\u001b[0m\u001b[0;34m)\u001b[0m\u001b[0;34m\u001b[0m\u001b[0;34m\u001b[0m\u001b[0m\n\u001b[0m\u001b[1;32m      2\u001b[0m \u001b[0;32mclass\u001b[0m \u001b[0mHELLO\u001b[0m\u001b[0;34m:\u001b[0m\u001b[0;34m\u001b[0m\u001b[0;34m\u001b[0m\u001b[0m\n\u001b[1;32m      3\u001b[0m \u001b[0;34m\u001b[0m\u001b[0m\n\u001b[1;32m      4\u001b[0m     \u001b[0mHey\u001b[0m \u001b[0;34m=\u001b[0m \u001b[0mxs\u001b[0m\u001b[0;34m.\u001b[0m\u001b[0mvariable\u001b[0m\u001b[0;34m(\u001b[0m\u001b[0;34m)\u001b[0m\u001b[0;34m\u001b[0m\u001b[0;34m\u001b[0m\u001b[0m\n",
      "\u001b[0;31mNameError\u001b[0m: name 'args' is not defined"
     ]
    }
   ],
   "source": [
    "@process(*args)\n",
    "class HELLO:\n",
    "    \n",
    "    Hey = xs.variable()"
   ]
  },
  {
   "cell_type": "code",
   "execution_count": 35,
   "metadata": {},
   "outputs": [
    {
     "name": "stdout",
     "output_type": "stream",
     "text": [
      "<HELLO  (xsimlab process)>\n",
      "Variables:\n",
      "    Hey         [in]\n",
      "Simulation stages:\n",
      "    *no stage implemented*\n"
     ]
    }
   ],
   "source": [
    "xs.process_info(HELLO)"
   ]
  },
  {
   "cell_type": "code",
   "execution_count": null,
   "metadata": {},
   "outputs": [],
   "source": []
  },
  {
   "cell_type": "code",
   "execution_count": null,
   "metadata": {},
   "outputs": [],
   "source": []
  },
  {
   "cell_type": "code",
   "execution_count": null,
   "metadata": {},
   "outputs": [],
   "source": []
  },
  {
   "cell_type": "code",
   "execution_count": null,
   "metadata": {},
   "outputs": [],
   "source": []
  },
  {
   "cell_type": "code",
   "execution_count": null,
   "metadata": {},
   "outputs": [],
   "source": [
    "def make_flux(flux_cls, flux_name):\n",
    "    \"\"\"\n",
    "    This functions creates a properly labeled xs.process from class Component.\n",
    "    :args:\n",
    "        cls_name (cls): Class of forcing flux to be initialized\n",
    "        dim_name (str): Name of sub-dimension of returned process, UPPERCASE!\n",
    "    :returns:\n",
    "        xs.process of class Component\n",
    "    \"\"\"\n",
    "    new_dim = xs.index(dims=(flux_name), groups='flux_index')\n",
    "    base_dict = dict(flux_cls.__dict__)\n",
    "    base_dict[flux_name] = new_dim\n",
    "\n",
    "    new_cls_name = flux_cls.__name__ + '_' + flux_name\n",
    "    new_cls = type(new_cls_name, flux_cls.__bases__, base_dict)\n",
    "\n",
    "    \n",
    "    def initialize(self):\n",
    "        super(LinearFlux, self).initialize()  # handles initialization stages\n",
    "        print(f\"initializing flux {self.label}\")\n",
    "\n",
    "        # setup parameter\n",
    "        self.m.Parameters[self.label + '_rate'] = Parameter(name=self.label + '_rate', value=self.rate)\n",
    "        # create flux\n",
    "        self.m.Fluxes[self.sv_label].append(self.flux)\n",
    "        \n",
    "        \n",
    "    def initialize_dim(self):\n",
    "        r_label = getattr(self, 'R_label')\n",
    "        c_label = getattr(self, 'C_label')\n",
    "\n",
    "        cls_label = getattr(self, '__xsimlab_name__')\n",
    "        setattr(self, 'cls_label', cls_label)\n",
    "        print(f\"flux {cls_label} is initialized for {r_label} --> {c_label}\")\n",
    "\n",
    "        setattr(self, 'flux_label', str(cls_label))\n",
    "        fx_c_list = []\n",
    "        for r_lab, c_lab in zip(r_label, c_label):\n",
    "            if self.gk_SVshapes[r_lab].size == 1 and self.gk_SVshapes[c_lab].size == 1:\n",
    "                fx_c_list.append(f\"{cls_label}-{r_lab}-2-{c_lab}\")\n",
    "            elif self.gk_SVshapes[r_lab].size == 1:\n",
    "                for c in range(self.gk_SVshapes[c_lab].size):\n",
    "                    fx_c_list.append(f\"{cls_label}-{r_lab}-2-{c_lab}{c}\")\n",
    "            else:\n",
    "                for r in range(self.gk_SVshapes[r_lab].size):\n",
    "                    for c in range(self.gk_SVshapes[c_lab].size):\n",
    "                        fx_c_list.append(f\"{cls_label}-{r_lab}{r}-2-{c_lab}{c}\")\n",
    "\n",
    "        setattr(self, flux_name, fx_c_list)\n",
    "\n",
    "        cls_here = getattr(self, '__class__')\n",
    "        super(cls_here, self).initialize_parametersetup()\n",
    "\n",
    "        \n",
    "    setattr(new_cls, 'initialize', initialize_dim)\n",
    "\n",
    "    \n",
    "    if flux_name.lower() == flux_name:\n",
    "        raise ValueError(f\"dimension label ({flux_name}) supplied to forcing flux {flux_cls} needs to be Upper Case\")\n",
    "\n",
    "        \n",
    "    new_cls.output.metadata['dims'] = ((flux_name, 'time'),)\n",
    "    return xs.process(new_cls)"
   ]
  },
  {
   "cell_type": "code",
   "execution_count": null,
   "metadata": {},
   "outputs": [],
   "source": []
  },
  {
   "cell_type": "code",
   "execution_count": null,
   "metadata": {},
   "outputs": [],
   "source": [
    "def make_flux(flux_cls, flux_name):\n",
    "    \"\"\"\n",
    "    This functions creates a properly labeled xs.process from class Component.\n",
    "    :args:\n",
    "        cls_name (cls): Class of forcing flux to be initialized\n",
    "        dim_name (str): Name of sub-dimension of returned process, UPPERCASE!\n",
    "    :returns:\n",
    "        xs.process of class Component\n",
    "    \"\"\"\n",
    "    new_dim = xs.index(dims=(flux_name), groups='flux_index')\n",
    "    base_dict = dict(flux_cls.__dict__)\n",
    "    base_dict[flux_name] = new_dim\n",
    "\n",
    "    new_cls_name = flux_cls.__name__ + '_' + flux_name\n",
    "    new_cls = type(new_cls_name, flux_cls.__bases__, base_dict)\n",
    "\n",
    "    def initialize_dim(self):\n",
    "        r_label = getattr(self, 'R_label')\n",
    "        c_label = getattr(self, 'C_label')\n",
    "\n",
    "        cls_label = getattr(self, '__xsimlab_name__')\n",
    "        setattr(self, 'cls_label', cls_label)\n",
    "        print(f\"flux {cls_label} is initialized for {r_label} --> {c_label}\")\n",
    "\n",
    "        setattr(self, 'flux_label', str(cls_label))\n",
    "        fx_c_list = []\n",
    "        for r_lab, c_lab in zip(r_label, c_label):\n",
    "            if self.gk_SVshapes[r_lab].size == 1 and self.gk_SVshapes[c_lab].size == 1:\n",
    "                fx_c_list.append(f\"{cls_label}-{r_lab}-2-{c_lab}\")\n",
    "            elif self.gk_SVshapes[r_lab].size == 1:\n",
    "                for c in range(self.gk_SVshapes[c_lab].size):\n",
    "                    fx_c_list.append(f\"{cls_label}-{r_lab}-2-{c_lab}{c}\")\n",
    "            else:\n",
    "                for r in range(self.gk_SVshapes[r_lab].size):\n",
    "                    for c in range(self.gk_SVshapes[c_lab].size):\n",
    "                        fx_c_list.append(f\"{cls_label}-{r_lab}{r}-2-{c_lab}{c}\")\n",
    "\n",
    "        setattr(self, flux_name, fx_c_list)\n",
    "\n",
    "        cls_here = getattr(self, '__class__')\n",
    "        super(cls_here, self).initialize_parametersetup()\n",
    "\n",
    "    setattr(new_cls, 'initialize', initialize_dim)\n",
    "\n",
    "    if flux_name.lower() == flux_name:\n",
    "        raise ValueError(f\"dimension label ({flux_name}) supplied to forcing flux {flux_cls} needs to be Upper Case\")\n",
    "\n",
    "    new_cls.output.metadata['dims'] = ((flux_name, 'time'),)\n",
    "    return xs.process(new_cls)"
   ]
  },
  {
   "cell_type": "code",
   "execution_count": null,
   "metadata": {},
   "outputs": [],
   "source": []
  },
  {
   "cell_type": "code",
   "execution_count": null,
   "metadata": {},
   "outputs": [],
   "source": []
  },
  {
   "cell_type": "code",
   "execution_count": null,
   "metadata": {},
   "outputs": [],
   "source": []
  },
  {
   "cell_type": "code",
   "execution_count": null,
   "metadata": {},
   "outputs": [],
   "source": []
  },
  {
   "cell_type": "code",
   "execution_count": 49,
   "metadata": {},
   "outputs": [],
   "source": [
    "import os,sys,inspect\n",
    "sys.path.insert(1, os.path.join(sys.path[0], '..'))\n",
    "\n",
    "import phydra\n",
    "\n",
    "from phydra.processes.main import ThirdInit\n",
    "\n",
    "from phydra.core.parts import Parameter"
   ]
  },
  {
   "cell_type": "code",
   "execution_count": 2,
   "metadata": {},
   "outputs": [],
   "source": [
    "import xsimlab as xs\n",
    "\n",
    "import numpy as np"
   ]
  },
  {
   "cell_type": "code",
   "execution_count": 3,
   "metadata": {},
   "outputs": [],
   "source": [
    "import attr\n",
    "\n",
    "from attr._make import _CountingAttr"
   ]
  },
  {
   "cell_type": "code",
   "execution_count": 4,
   "metadata": {},
   "outputs": [],
   "source": [
    "from enum import Enum\n",
    "\n",
    "class FluxVarType(Enum):\n",
    "    STATEVARIABLE = \"statevariable\"\n",
    "    PARAMETER = \"parameter\"\n",
    "    FORCING = \"forcing\"\n",
    "\n",
    "class FluxVarFlow(Enum):\n",
    "    INPUT = \"input\"\n",
    "    OUTPUT = \"output\"\n",
    "    \n",
    "class FluxVarIntent(Enum):\n",
    "    IN = \"in\"\n",
    "    OUT = \"out\""
   ]
  },
  {
   "cell_type": "code",
   "execution_count": 53,
   "metadata": {},
   "outputs": [],
   "source": [
    "def flux_sv(\n",
    "    flow='input',\n",
    "    intent='in',\n",
    "    default=attr.NOTHING,\n",
    "    validator=None,\n",
    "    converter=None,\n",
    "    description='',\n",
    "    attrs=None,\n",
    "):\n",
    "    metadata = {\n",
    "        \"var_type\": FluxVarType.STATEVARIABLE,\n",
    "        \"intent\": FluxVarIntent(intent),\n",
    "        \"flow\": FluxVarFlow(flow),\n",
    "        \"attrs\": attrs or {},\n",
    "        \"description\": description,\n",
    "    }\n",
    "\n",
    "    if FluxVarIntent(intent) == FluxVarIntent.OUT:\n",
    "        _init = False\n",
    "        _repr = False\n",
    "    else:\n",
    "        _init = True\n",
    "        _repr = True\n",
    "\n",
    "    return attr.attrib(\n",
    "        metadata=metadata,\n",
    "        default=default,\n",
    "        validator=validator,\n",
    "        converter=converter,\n",
    "        init=_init,\n",
    "        repr=_repr,\n",
    "        kw_only=True,\n",
    "    )\n",
    "\n",
    "\n",
    "def flux_param(\n",
    "    intent='in',\n",
    "    default=attr.NOTHING,\n",
    "    validator=None,\n",
    "    converter=None,\n",
    "    description='',\n",
    "    attrs=None,\n",
    "):\n",
    "    metadata = {\n",
    "        \"var_type\": FluxVarType.PARAMETER,\n",
    "        \"intent\": FluxVarIntent(intent),\n",
    "        \"flow\": None,\n",
    "        \"attrs\": attrs or {},\n",
    "        \"description\": description,\n",
    "    }\n",
    "\n",
    "    return attr.attrib(\n",
    "        metadata=metadata,\n",
    "        default=default,\n",
    "        validator=validator,\n",
    "        converter=converter,\n",
    "        init=True,\n",
    "        repr=True,\n",
    "        kw_only=True,\n",
    "    )"
   ]
  },
  {
   "cell_type": "code",
   "execution_count": 414,
   "metadata": {},
   "outputs": [],
   "source": [
    "from collections import defaultdict\n",
    "\n",
    "def _convert_2_xsimlabvar(var):\n",
    "    var_description = var.metadata.get('description')\n",
    "    return xs.variable(intent='in', description=var_description)\n",
    "\n",
    "\n",
    "\n",
    "def _make_flux_sv_label(self, state):\n",
    "    sv = state[self.sv1]\n",
    "    \n",
    "    var_flow = var.metadata.get('flow')\n",
    "    return var.name\n",
    "\n",
    "def _make_flux_parameter(var):\n",
    "    var_description = var.metadata.get('description')\n",
    "    return xs.variable(intent='in', description=var_description)\n",
    "\n",
    "_make_prop_funcs = {\n",
    "        FluxVarType.STATEVARIABLE: _make_flux_sv_label,\n",
    "        FluxVarType.PARAMETER: _make_flux_parameter,\n",
    "        FluxVarType.FORCING: _make_property_flux,\n",
    "    }\n",
    "\n",
    "\n",
    "def flux_decorator(cls):\n",
    "    \"\"\" flux decorator \n",
    "    that converts simplified flux class into fully functional\n",
    "    xarray simlab process\n",
    "    \"\"\"        \n",
    "    new_cls_dict = defaultdict()\n",
    "    flux_dict = defaultdict(list)\n",
    "    \n",
    "    # convert state variables, forcing and parameters to xs.variables in new process\n",
    "    for var_name, var in cls.__dict__.items():\n",
    "        if isinstance(var, _CountingAttr):\n",
    "            var_type = var.metadata.get('var_type')\n",
    "            if var_type is not None:\n",
    "                new_cls_dict[var_name] = _convert_2_xsimlabvar(var)\n",
    "                flux_dict[var_type].append({'name':var_name, 'metadata':var.metadata})\n",
    "    \n",
    "    new_cls = type(cls.__name__, (ThirdInit,), new_cls_dict)\n",
    "    \n",
    "    # now, get dict of all statevars, (for flux function setup)\n",
    "\n",
    "    print(\"Flux dict\", flux_dict)\n",
    "    \n",
    "    # convert flux function into functional xarray-simlab flux\n",
    "    def flux(self, **kwargs):\n",
    "        \"\"\"linear loss flux of state variable\"\"\"\n",
    "        state = kwargs.get('state')\n",
    "        parameters = kwargs.get('parameters')\n",
    "        \n",
    "        #print(state, '\\n',parameters)\n",
    "        # get dict of svs, pars and forcings\n",
    "        # and pass these to the cls.flux function (make sure in correct order!)\n",
    "        \n",
    "        sv = state[self.sv1]\n",
    "        rate = parameters[self.label + '_rate1']\n",
    "        \n",
    "        return cls.flux(sv1=sv, rate1=rate)\n",
    "    \n",
    "    def negative_flux(self, **kwargs):\n",
    "        out = flux(self, **kwargs)\n",
    "        return - out\n",
    "    \n",
    "    setattr(new_cls, 'flux', flux)\n",
    "    setattr(new_cls, 'negative_flux', negative_flux)\n",
    "    \n",
    "    def initialize_flux(self):\n",
    "        self.label = self.__xsimlab_name__ \n",
    "        self.group = 3  # handles initialisation stages\n",
    "        print(f\"initializing flux {self.label}\")\n",
    "        print(flux_dict.items())\n",
    "        for key, varlist in flux_dict.items():\n",
    "            for var in varlist:\n",
    "                var_value = getattr(self, var['name'])\n",
    "                \n",
    "                if key is FluxVarType.PARAMETER:\n",
    "                    self.m.Parameters[self.label + '_' + var['name']] = \\\n",
    "                            Parameter(name=self.label +  '_' + var['name'], value=var_value)\n",
    "                elif key is FluxVarType.STATEVARIABLE:\n",
    "                    if var['metadata']['flow'] is FluxVarFlow.OUTPUT:\n",
    "                        self.m.Fluxes[var_value].append(self.negative_flux)\n",
    "                    elif var['metadata']['flow'] is FluxVarFlow.INPUT:\n",
    "                        self.m.Fluxes[var_value].append(self.flux)\n",
    "\n",
    "    setattr(new_cls, 'initialize', initialize_flux)\n",
    "    \n",
    "    return xs.process(new_cls)"
   ]
  },
  {
   "cell_type": "markdown",
   "metadata": {},
   "source": [
    "1. allow using sink + source terms (i.e. use flow attribute of sv_label)\n",
    "     - think if this can be done fractionated?\n",
    "     \n",
    "2. use a simple flux function, that is referenced within the xs.process flux function\n",
    "     - this should be latexifiable! try and make it so.."
   ]
  },
  {
   "cell_type": "code",
   "execution_count": 415,
   "metadata": {},
   "outputs": [
    {
     "name": "stdout",
     "output_type": "stream",
     "text": [
      "Flux dict defaultdict(<class 'list'>, {<FluxVarType.STATEVARIABLE: 'statevariable'>: [{'name': 'sv1', 'metadata': {'var_type': <FluxVarType.STATEVARIABLE: 'statevariable'>, 'intent': <FluxVarIntent.IN: 'in'>, 'flow': <FluxVarFlow.OUTPUT: 'output'>, 'attrs': {}, 'description': ''}}], <FluxVarType.PARAMETER: 'parameter'>: [{'name': 'rate1', 'metadata': {'var_type': <FluxVarType.PARAMETER: 'parameter'>, 'intent': <FluxVarIntent.IN: 'in'>, 'flow': None, 'attrs': {}, 'description': ''}}]})\n"
     ]
    }
   ],
   "source": [
    "@flux_decorator\n",
    "class FluxOne:\n",
    "    sv1 = flux_sv(flow='output')\n",
    "    rate1 = flux_param()\n",
    "    \n",
    "    def flux(sv1, rate1):\n",
    "        return sv1 * rate1\n",
    "        "
   ]
  },
  {
   "cell_type": "code",
   "execution_count": 416,
   "metadata": {},
   "outputs": [
    {
     "name": "stdout",
     "output_type": "stream",
     "text": [
      "<FluxOne  (xsimlab process)>\n",
      "Variables:\n",
      "    m              [in] <--- ModelCore.m\n",
      "    label         [out]\n",
      "    firstinit      [in] <--- group 'FirstInit'\n",
      "    secondinit     [in] <--- group 'SecondInit'\n",
      "    group         [out]\n",
      "    sv1            [in]\n",
      "    rate1          [in]\n",
      "Simulation stages:\n",
      "    initialize\n"
     ]
    }
   ],
   "source": [
    "xs.process_info(FluxOne)"
   ]
  },
  {
   "cell_type": "code",
   "execution_count": 417,
   "metadata": {},
   "outputs": [],
   "source": [
    "from phydra.processes.statevars import SV"
   ]
  },
  {
   "cell_type": "code",
   "execution_count": 418,
   "metadata": {},
   "outputs": [
    {
     "data": {
      "text/plain": [
       "<xsimlab.Model (5 processes, 5 inputs)>\n",
       "Core\n",
       "    solver_type     [in]\n",
       "Time\n",
       "    time            [in] ('input_time',) A sequence of Time points ...\n",
       "y\n",
       "    init            [in]\n",
       "D\n",
       "    rate1           [in]\n",
       "    sv1             [in]\n",
       "Solver"
      ]
     },
     "execution_count": 418,
     "metadata": {},
     "output_type": "execute_result"
    }
   ],
   "source": [
    "Model = phydra.create({'y':SV, 'D':FluxOne})\n",
    "\n",
    "Model"
   ]
  },
  {
   "cell_type": "code",
   "execution_count": 419,
   "metadata": {},
   "outputs": [],
   "source": [
    "odeint_setup = phydra.setup('odeint', Model,\n",
    "            time=np.arange(0,20,0.1),\n",
    "            input_vars={\n",
    "                'D__sv1':'y',\n",
    "                'D__rate1':1,\n",
    "                \n",
    "                'y__init':1\n",
    "            },\n",
    "            output_vars={\n",
    "                'y__value':None\n",
    "            })"
   ]
  },
  {
   "cell_type": "code",
   "execution_count": 420,
   "metadata": {},
   "outputs": [
    {
     "name": "stdout",
     "output_type": "stream",
     "text": [
      "initializing model core\n",
      "Initializing Model Time\n",
      "initializing state variable y\n",
      "initializing flux D\n",
      "dict_items([(<FluxVarType.STATEVARIABLE: 'statevariable'>, [{'name': 'sv1', 'metadata': {'var_type': <FluxVarType.STATEVARIABLE: 'statevariable'>, 'intent': <FluxVarIntent.IN: 'in'>, 'flow': <FluxVarFlow.OUTPUT: 'output'>, 'attrs': {}, 'description': ''}}]), (<FluxVarType.PARAMETER: 'parameter'>, [{'name': 'rate1', 'metadata': {'var_type': <FluxVarType.PARAMETER: 'parameter'>, 'intent': <FluxVarIntent.IN: 'in'>, 'flow': None, 'attrs': {}, 'description': ''}}])])\n",
      "assembling model\n",
      "SOLVER : odeint\n",
      "start solve now\n"
     ]
    },
    {
     "ename": "TypeError",
     "evalue": "flux() takes 1 positional argument but 2 were given",
     "output_type": "error",
     "traceback": [
      "\u001b[0;31m---------------------------------------------------------------------------\u001b[0m",
      "\u001b[0;31mTypeError\u001b[0m                                 Traceback (most recent call last)",
      "\u001b[0;32m<ipython-input-420-8390bb64c8cd>\u001b[0m in \u001b[0;36m<module>\u001b[0;34m\u001b[0m\n\u001b[0;32m----> 1\u001b[0;31m \u001b[0mout_ds\u001b[0m \u001b[0;34m=\u001b[0m \u001b[0modeint_setup\u001b[0m\u001b[0;34m.\u001b[0m\u001b[0mxsimlab\u001b[0m\u001b[0;34m.\u001b[0m\u001b[0mrun\u001b[0m\u001b[0;34m(\u001b[0m\u001b[0mmodel\u001b[0m\u001b[0;34m=\u001b[0m\u001b[0mModel\u001b[0m\u001b[0;34m)\u001b[0m\u001b[0;34m\u001b[0m\u001b[0;34m\u001b[0m\u001b[0m\n\u001b[0m",
      "\u001b[0;32m~/opt/anaconda3/envs/xsimlab/lib/python3.8/site-packages/xsimlab/xr_accessor.py\u001b[0m in \u001b[0;36mrun\u001b[0;34m(self, model, batch_dim, check_dims, validate, store, encoding, hooks, parallel, scheduler, safe_mode)\u001b[0m\n\u001b[1;32m    814\u001b[0m         )\n\u001b[1;32m    815\u001b[0m \u001b[0;34m\u001b[0m\u001b[0m\n\u001b[0;32m--> 816\u001b[0;31m         \u001b[0mdriver\u001b[0m\u001b[0;34m.\u001b[0m\u001b[0mrun_model\u001b[0m\u001b[0;34m(\u001b[0m\u001b[0;34m)\u001b[0m\u001b[0;34m\u001b[0m\u001b[0;34m\u001b[0m\u001b[0m\n\u001b[0m\u001b[1;32m    817\u001b[0m \u001b[0;34m\u001b[0m\u001b[0m\n\u001b[1;32m    818\u001b[0m         \u001b[0;32mreturn\u001b[0m \u001b[0mdriver\u001b[0m\u001b[0;34m.\u001b[0m\u001b[0mget_results\u001b[0m\u001b[0;34m(\u001b[0m\u001b[0;34m)\u001b[0m\u001b[0;34m\u001b[0m\u001b[0;34m\u001b[0m\u001b[0m\n",
      "\u001b[0;32m~/opt/anaconda3/envs/xsimlab/lib/python3.8/site-packages/xsimlab/drivers.py\u001b[0m in \u001b[0;36mrun_model\u001b[0;34m(self)\u001b[0m\n\u001b[1;32m    453\u001b[0m \u001b[0;34m\u001b[0m\u001b[0m\n\u001b[1;32m    454\u001b[0m         \u001b[0;32mif\u001b[0m \u001b[0mself\u001b[0m\u001b[0;34m.\u001b[0m\u001b[0mbatch_dim\u001b[0m \u001b[0;32mis\u001b[0m \u001b[0;32mNone\u001b[0m\u001b[0;34m:\u001b[0m\u001b[0;34m\u001b[0m\u001b[0;34m\u001b[0m\u001b[0m\n\u001b[0;32m--> 455\u001b[0;31m             _run(\n\u001b[0m\u001b[1;32m    456\u001b[0m                 \u001b[0mds_in\u001b[0m\u001b[0;34m,\u001b[0m\u001b[0;34m\u001b[0m\u001b[0;34m\u001b[0m\u001b[0m\n\u001b[1;32m    457\u001b[0m                 \u001b[0mself\u001b[0m\u001b[0;34m.\u001b[0m\u001b[0mmodel\u001b[0m\u001b[0;34m,\u001b[0m\u001b[0;34m\u001b[0m\u001b[0;34m\u001b[0m\u001b[0m\n",
      "\u001b[0;32m~/opt/anaconda3/envs/xsimlab/lib/python3.8/site-packages/xsimlab/drivers.py\u001b[0m in \u001b[0;36m_run\u001b[0;34m(dataset, model, store, hooks, validate, batch, batch_size, parallel, scheduler)\u001b[0m\n\u001b[1;32m    344\u001b[0m         \u001b[0min_vars\u001b[0m \u001b[0;34m=\u001b[0m \u001b[0m_get_input_vars\u001b[0m\u001b[0;34m(\u001b[0m\u001b[0mds_step\u001b[0m\u001b[0;34m,\u001b[0m \u001b[0mmodel\u001b[0m\u001b[0;34m)\u001b[0m\u001b[0;34m\u001b[0m\u001b[0;34m\u001b[0m\u001b[0m\n\u001b[1;32m    345\u001b[0m         \u001b[0mmodel\u001b[0m\u001b[0;34m.\u001b[0m\u001b[0mupdate_state\u001b[0m\u001b[0;34m(\u001b[0m\u001b[0min_vars\u001b[0m\u001b[0;34m,\u001b[0m \u001b[0mvalidate\u001b[0m\u001b[0;34m=\u001b[0m\u001b[0mvalidate_inputs\u001b[0m\u001b[0;34m,\u001b[0m \u001b[0mignore_static\u001b[0m\u001b[0;34m=\u001b[0m\u001b[0;32mFalse\u001b[0m\u001b[0;34m)\u001b[0m\u001b[0;34m\u001b[0m\u001b[0;34m\u001b[0m\u001b[0m\n\u001b[0;32m--> 346\u001b[0;31m         \u001b[0mmodel\u001b[0m\u001b[0;34m.\u001b[0m\u001b[0mexecute\u001b[0m\u001b[0;34m(\u001b[0m\u001b[0;34m\"run_step\"\u001b[0m\u001b[0;34m,\u001b[0m \u001b[0mrt_context\u001b[0m\u001b[0;34m,\u001b[0m \u001b[0;34m**\u001b[0m\u001b[0mexecute_kwargs\u001b[0m\u001b[0;34m)\u001b[0m\u001b[0;34m\u001b[0m\u001b[0;34m\u001b[0m\u001b[0m\n\u001b[0m\u001b[1;32m    347\u001b[0m \u001b[0;34m\u001b[0m\u001b[0m\n\u001b[1;32m    348\u001b[0m         \u001b[0mstore\u001b[0m\u001b[0;34m.\u001b[0m\u001b[0mwrite_output_vars\u001b[0m\u001b[0;34m(\u001b[0m\u001b[0mbatch\u001b[0m\u001b[0;34m,\u001b[0m \u001b[0mstep\u001b[0m\u001b[0;34m,\u001b[0m \u001b[0mmodel\u001b[0m\u001b[0;34m=\u001b[0m\u001b[0mmodel\u001b[0m\u001b[0;34m)\u001b[0m\u001b[0;34m\u001b[0m\u001b[0;34m\u001b[0m\u001b[0m\n",
      "\u001b[0;32m~/opt/anaconda3/envs/xsimlab/lib/python3.8/site-packages/xsimlab/model.py\u001b[0m in \u001b[0;36mexecute\u001b[0;34m(self, stage, runtime_context, hooks, validate, parallel, scheduler)\u001b[0m\n\u001b[1;32m    865\u001b[0m         \u001b[0;32melse\u001b[0m\u001b[0;34m:\u001b[0m\u001b[0;34m\u001b[0m\u001b[0;34m\u001b[0m\u001b[0m\n\u001b[1;32m    866\u001b[0m             \u001b[0;32mfor\u001b[0m \u001b[0mp_name\u001b[0m\u001b[0;34m,\u001b[0m \u001b[0mp_obj\u001b[0m \u001b[0;32min\u001b[0m \u001b[0mself\u001b[0m\u001b[0;34m.\u001b[0m\u001b[0m_processes\u001b[0m\u001b[0;34m.\u001b[0m\u001b[0mitems\u001b[0m\u001b[0;34m(\u001b[0m\u001b[0;34m)\u001b[0m\u001b[0;34m:\u001b[0m\u001b[0;34m\u001b[0m\u001b[0;34m\u001b[0m\u001b[0m\n\u001b[0;32m--> 867\u001b[0;31m                 \u001b[0mself\u001b[0m\u001b[0;34m.\u001b[0m\u001b[0m_execute_process\u001b[0m\u001b[0;34m(\u001b[0m\u001b[0mp_obj\u001b[0m\u001b[0;34m,\u001b[0m \u001b[0;34m*\u001b[0m\u001b[0mexecute_args\u001b[0m\u001b[0;34m)\u001b[0m\u001b[0;34m\u001b[0m\u001b[0;34m\u001b[0m\u001b[0m\n\u001b[0m\u001b[1;32m    868\u001b[0m \u001b[0;34m\u001b[0m\u001b[0m\n\u001b[1;32m    869\u001b[0m         \u001b[0mself\u001b[0m\u001b[0;34m.\u001b[0m\u001b[0m_call_hooks\u001b[0m\u001b[0;34m(\u001b[0m\u001b[0mhooks\u001b[0m\u001b[0;34m,\u001b[0m \u001b[0mruntime_context\u001b[0m\u001b[0;34m,\u001b[0m \u001b[0mstage\u001b[0m\u001b[0;34m,\u001b[0m \u001b[0;34m\"model\"\u001b[0m\u001b[0;34m,\u001b[0m \u001b[0;34m\"post\"\u001b[0m\u001b[0;34m)\u001b[0m\u001b[0;34m\u001b[0m\u001b[0;34m\u001b[0m\u001b[0m\n",
      "\u001b[0;32m~/opt/anaconda3/envs/xsimlab/lib/python3.8/site-packages/xsimlab/model.py\u001b[0m in \u001b[0;36m_execute_process\u001b[0;34m(self, p_obj, stage, runtime_context, hooks, validate, state)\u001b[0m\n\u001b[1;32m    731\u001b[0m \u001b[0;34m\u001b[0m\u001b[0m\n\u001b[1;32m    732\u001b[0m         \u001b[0mself\u001b[0m\u001b[0;34m.\u001b[0m\u001b[0m_call_hooks\u001b[0m\u001b[0;34m(\u001b[0m\u001b[0mhooks\u001b[0m\u001b[0;34m,\u001b[0m \u001b[0mruntime_context\u001b[0m\u001b[0;34m,\u001b[0m \u001b[0mstage\u001b[0m\u001b[0;34m,\u001b[0m \u001b[0;34m\"process\"\u001b[0m\u001b[0;34m,\u001b[0m \u001b[0;34m\"pre\"\u001b[0m\u001b[0;34m)\u001b[0m\u001b[0;34m\u001b[0m\u001b[0;34m\u001b[0m\u001b[0m\n\u001b[0;32m--> 733\u001b[0;31m         \u001b[0mout_state\u001b[0m \u001b[0;34m=\u001b[0m \u001b[0mexecutor\u001b[0m\u001b[0;34m.\u001b[0m\u001b[0mexecute\u001b[0m\u001b[0;34m(\u001b[0m\u001b[0mp_obj\u001b[0m\u001b[0;34m,\u001b[0m \u001b[0mstage\u001b[0m\u001b[0;34m,\u001b[0m \u001b[0mruntime_context\u001b[0m\u001b[0;34m,\u001b[0m \u001b[0mstate\u001b[0m\u001b[0;34m=\u001b[0m\u001b[0mstate\u001b[0m\u001b[0;34m)\u001b[0m\u001b[0;34m\u001b[0m\u001b[0;34m\u001b[0m\u001b[0m\n\u001b[0m\u001b[1;32m    734\u001b[0m         \u001b[0mself\u001b[0m\u001b[0;34m.\u001b[0m\u001b[0m_call_hooks\u001b[0m\u001b[0;34m(\u001b[0m\u001b[0mhooks\u001b[0m\u001b[0;34m,\u001b[0m \u001b[0mruntime_context\u001b[0m\u001b[0;34m,\u001b[0m \u001b[0mstage\u001b[0m\u001b[0;34m,\u001b[0m \u001b[0;34m\"process\"\u001b[0m\u001b[0;34m,\u001b[0m \u001b[0;34m\"post\"\u001b[0m\u001b[0;34m)\u001b[0m\u001b[0;34m\u001b[0m\u001b[0;34m\u001b[0m\u001b[0m\n\u001b[1;32m    735\u001b[0m \u001b[0;34m\u001b[0m\u001b[0m\n",
      "\u001b[0;32m~/opt/anaconda3/envs/xsimlab/lib/python3.8/site-packages/xsimlab/process.py\u001b[0m in \u001b[0;36mexecute\u001b[0;34m(self, obj, stage, runtime_context, state)\u001b[0m\n\u001b[1;32m    407\u001b[0m             \u001b[0;32mreturn\u001b[0m \u001b[0;34m{\u001b[0m\u001b[0;34m}\u001b[0m\u001b[0;34m\u001b[0m\u001b[0;34m\u001b[0m\u001b[0m\n\u001b[1;32m    408\u001b[0m         \u001b[0;32melse\u001b[0m\u001b[0;34m:\u001b[0m\u001b[0;34m\u001b[0m\u001b[0;34m\u001b[0m\u001b[0m\n\u001b[0;32m--> 409\u001b[0;31m             \u001b[0mexecutor\u001b[0m\u001b[0;34m.\u001b[0m\u001b[0mexecute\u001b[0m\u001b[0;34m(\u001b[0m\u001b[0mobj\u001b[0m\u001b[0;34m,\u001b[0m \u001b[0mruntime_context\u001b[0m\u001b[0;34m,\u001b[0m \u001b[0mstate\u001b[0m\u001b[0;34m=\u001b[0m\u001b[0mstate\u001b[0m\u001b[0;34m)\u001b[0m\u001b[0;34m\u001b[0m\u001b[0;34m\u001b[0m\u001b[0m\n\u001b[0m\u001b[1;32m    410\u001b[0m \u001b[0;34m\u001b[0m\u001b[0m\n\u001b[1;32m    411\u001b[0m             \u001b[0mskeys\u001b[0m \u001b[0;34m=\u001b[0m \u001b[0;34m[\u001b[0m\u001b[0mobj\u001b[0m\u001b[0;34m.\u001b[0m\u001b[0m__xsimlab_state_keys__\u001b[0m\u001b[0;34m[\u001b[0m\u001b[0mk\u001b[0m\u001b[0;34m]\u001b[0m \u001b[0;32mfor\u001b[0m \u001b[0mk\u001b[0m \u001b[0;32min\u001b[0m \u001b[0mself\u001b[0m\u001b[0;34m.\u001b[0m\u001b[0mout_vars\u001b[0m\u001b[0;34m]\u001b[0m\u001b[0;34m\u001b[0m\u001b[0;34m\u001b[0m\u001b[0m\n",
      "\u001b[0;32m~/opt/anaconda3/envs/xsimlab/lib/python3.8/site-packages/xsimlab/process.py\u001b[0m in \u001b[0;36mexecute\u001b[0;34m(self, obj, runtime_context, state)\u001b[0m\n\u001b[1;32m    283\u001b[0m         \u001b[0margs\u001b[0m \u001b[0;34m=\u001b[0m \u001b[0;34m[\u001b[0m\u001b[0mruntime_context\u001b[0m\u001b[0;34m[\u001b[0m\u001b[0mk\u001b[0m\u001b[0;34m]\u001b[0m \u001b[0;32mfor\u001b[0m \u001b[0mk\u001b[0m \u001b[0;32min\u001b[0m \u001b[0mself\u001b[0m\u001b[0;34m.\u001b[0m\u001b[0margs\u001b[0m\u001b[0;34m]\u001b[0m\u001b[0;34m\u001b[0m\u001b[0;34m\u001b[0m\u001b[0m\n\u001b[1;32m    284\u001b[0m \u001b[0;34m\u001b[0m\u001b[0m\n\u001b[0;32m--> 285\u001b[0;31m         \u001b[0mself\u001b[0m\u001b[0;34m.\u001b[0m\u001b[0mmeth\u001b[0m\u001b[0;34m(\u001b[0m\u001b[0mobj\u001b[0m\u001b[0;34m,\u001b[0m \u001b[0;34m*\u001b[0m\u001b[0margs\u001b[0m\u001b[0;34m)\u001b[0m\u001b[0;34m\u001b[0m\u001b[0;34m\u001b[0m\u001b[0m\n\u001b[0m\u001b[1;32m    286\u001b[0m \u001b[0;34m\u001b[0m\u001b[0m\n\u001b[1;32m    287\u001b[0m \u001b[0;34m\u001b[0m\u001b[0m\n",
      "\u001b[0;32m~/Documents/GitHub/phydra/prototypes/../phydra/processes/main.py\u001b[0m in \u001b[0;36mrun_step\u001b[0;34m(self, dt)\u001b[0m\n\u001b[1;32m     79\u001b[0m     \u001b[0;32mdef\u001b[0m \u001b[0mrun_step\u001b[0m\u001b[0;34m(\u001b[0m\u001b[0mself\u001b[0m\u001b[0;34m,\u001b[0m \u001b[0mdt\u001b[0m\u001b[0;34m)\u001b[0m\u001b[0;34m:\u001b[0m\u001b[0;34m\u001b[0m\u001b[0;34m\u001b[0m\u001b[0m\n\u001b[1;32m     80\u001b[0m         \u001b[0;31m# print(\"pre-solve:\", self.m.Time, self.m)\u001b[0m\u001b[0;34m\u001b[0m\u001b[0;34m\u001b[0m\u001b[0;34m\u001b[0m\u001b[0m\n\u001b[0;32m---> 81\u001b[0;31m         \u001b[0mself\u001b[0m\u001b[0;34m.\u001b[0m\u001b[0mm\u001b[0m\u001b[0;34m.\u001b[0m\u001b[0msolve\u001b[0m\u001b[0;34m(\u001b[0m\u001b[0mdt\u001b[0m\u001b[0;34m)\u001b[0m\u001b[0;34m\u001b[0m\u001b[0;34m\u001b[0m\u001b[0m\n\u001b[0m\u001b[1;32m     82\u001b[0m \u001b[0;34m\u001b[0m\u001b[0m\n",
      "\u001b[0;32m~/Documents/GitHub/phydra/prototypes/../phydra/core/backend.py\u001b[0m in \u001b[0;36msolve\u001b[0;34m(self, time_step)\u001b[0m\n\u001b[1;32m     81\u001b[0m \u001b[0;34m\u001b[0m\u001b[0m\n\u001b[1;32m     82\u001b[0m         \u001b[0;32melif\u001b[0m \u001b[0mself\u001b[0m\u001b[0;34m.\u001b[0m\u001b[0mSolver\u001b[0m \u001b[0;34m==\u001b[0m \u001b[0;34m\"odeint\"\u001b[0m\u001b[0;34m:\u001b[0m\u001b[0;34m\u001b[0m\u001b[0;34m\u001b[0m\u001b[0m\n\u001b[0;32m---> 83\u001b[0;31m             \u001b[0mself\u001b[0m\u001b[0;34m.\u001b[0m\u001b[0modeint_solve\u001b[0m\u001b[0;34m(\u001b[0m\u001b[0;34m)\u001b[0m\u001b[0;34m\u001b[0m\u001b[0;34m\u001b[0m\u001b[0m\n\u001b[0m\u001b[1;32m     84\u001b[0m \u001b[0;34m\u001b[0m\u001b[0m\n\u001b[1;32m     85\u001b[0m         \u001b[0;32melif\u001b[0m \u001b[0mself\u001b[0m\u001b[0;34m.\u001b[0m\u001b[0mSolver\u001b[0m \u001b[0;34m==\u001b[0m \u001b[0;34m\"stepwise\"\u001b[0m\u001b[0;34m:\u001b[0m\u001b[0;34m\u001b[0m\u001b[0;34m\u001b[0m\u001b[0m\n",
      "\u001b[0;32m~/Documents/GitHub/phydra/prototypes/../phydra/core/backend.py\u001b[0m in \u001b[0;36modeint_solve\u001b[0;34m(self)\u001b[0m\n\u001b[1;32m    109\u001b[0m         \u001b[0mprint\u001b[0m\u001b[0;34m(\u001b[0m\u001b[0;34m\"start solve now\"\u001b[0m\u001b[0;34m)\u001b[0m\u001b[0;34m\u001b[0m\u001b[0;34m\u001b[0m\u001b[0m\n\u001b[1;32m    110\u001b[0m         \u001b[0msolve_start\u001b[0m \u001b[0;34m=\u001b[0m \u001b[0mtm\u001b[0m\u001b[0;34m.\u001b[0m\u001b[0mtime\u001b[0m\u001b[0;34m(\u001b[0m\u001b[0;34m)\u001b[0m\u001b[0;34m\u001b[0m\u001b[0;34m\u001b[0m\u001b[0m\n\u001b[0;32m--> 111\u001b[0;31m         \u001b[0mstate_out\u001b[0m \u001b[0;34m=\u001b[0m \u001b[0modeint\u001b[0m\u001b[0;34m(\u001b[0m\u001b[0mself\u001b[0m\u001b[0;34m.\u001b[0m\u001b[0mmodel\u001b[0m\u001b[0;34m,\u001b[0m \u001b[0my_init\u001b[0m\u001b[0;34m,\u001b[0m \u001b[0mself\u001b[0m\u001b[0;34m.\u001b[0m\u001b[0mTime\u001b[0m\u001b[0;34m)\u001b[0m\u001b[0;34m\u001b[0m\u001b[0;34m\u001b[0m\u001b[0m\n\u001b[0m\u001b[1;32m    112\u001b[0m         \u001b[0msolve_end\u001b[0m \u001b[0;34m=\u001b[0m \u001b[0mtm\u001b[0m\u001b[0;34m.\u001b[0m\u001b[0mtime\u001b[0m\u001b[0;34m(\u001b[0m\u001b[0;34m)\u001b[0m\u001b[0;34m\u001b[0m\u001b[0;34m\u001b[0m\u001b[0m\n\u001b[1;32m    113\u001b[0m         \u001b[0mprint\u001b[0m\u001b[0;34m(\u001b[0m\u001b[0;34mf\"Model was solved in {round(solve_end - solve_start, 5)} seconds\"\u001b[0m\u001b[0;34m)\u001b[0m\u001b[0;34m\u001b[0m\u001b[0;34m\u001b[0m\u001b[0m\n",
      "\u001b[0;32m~/opt/anaconda3/envs/xsimlab/lib/python3.8/site-packages/scipy/integrate/odepack.py\u001b[0m in \u001b[0;36modeint\u001b[0;34m(func, y0, t, args, Dfun, col_deriv, full_output, ml, mu, rtol, atol, tcrit, h0, hmax, hmin, ixpr, mxstep, mxhnil, mxordn, mxords, printmessg, tfirst)\u001b[0m\n\u001b[1;32m    239\u001b[0m     \u001b[0mt\u001b[0m \u001b[0;34m=\u001b[0m \u001b[0mcopy\u001b[0m\u001b[0;34m(\u001b[0m\u001b[0mt\u001b[0m\u001b[0;34m)\u001b[0m\u001b[0;34m\u001b[0m\u001b[0;34m\u001b[0m\u001b[0m\n\u001b[1;32m    240\u001b[0m     \u001b[0my0\u001b[0m \u001b[0;34m=\u001b[0m \u001b[0mcopy\u001b[0m\u001b[0;34m(\u001b[0m\u001b[0my0\u001b[0m\u001b[0;34m)\u001b[0m\u001b[0;34m\u001b[0m\u001b[0;34m\u001b[0m\u001b[0m\n\u001b[0;32m--> 241\u001b[0;31m     output = _odepack.odeint(func, y0, t, args, Dfun, col_deriv, ml, mu,\n\u001b[0m\u001b[1;32m    242\u001b[0m                              \u001b[0mfull_output\u001b[0m\u001b[0;34m,\u001b[0m \u001b[0mrtol\u001b[0m\u001b[0;34m,\u001b[0m \u001b[0matol\u001b[0m\u001b[0;34m,\u001b[0m \u001b[0mtcrit\u001b[0m\u001b[0;34m,\u001b[0m \u001b[0mh0\u001b[0m\u001b[0;34m,\u001b[0m \u001b[0mhmax\u001b[0m\u001b[0;34m,\u001b[0m \u001b[0mhmin\u001b[0m\u001b[0;34m,\u001b[0m\u001b[0;34m\u001b[0m\u001b[0;34m\u001b[0m\u001b[0m\n\u001b[1;32m    243\u001b[0m                              \u001b[0mixpr\u001b[0m\u001b[0;34m,\u001b[0m \u001b[0mmxstep\u001b[0m\u001b[0;34m,\u001b[0m \u001b[0mmxhnil\u001b[0m\u001b[0;34m,\u001b[0m \u001b[0mmxordn\u001b[0m\u001b[0;34m,\u001b[0m \u001b[0mmxords\u001b[0m\u001b[0;34m,\u001b[0m\u001b[0;34m\u001b[0m\u001b[0;34m\u001b[0m\u001b[0m\n",
      "\u001b[0;32m~/Documents/GitHub/phydra/prototypes/../phydra/core/backend.py\u001b[0m in \u001b[0;36mmodel\u001b[0;34m(self, current_state, time)\u001b[0m\n\u001b[1;32m     63\u001b[0m     \u001b[0;32mdef\u001b[0m \u001b[0mmodel\u001b[0m\u001b[0;34m(\u001b[0m\u001b[0mself\u001b[0m\u001b[0;34m,\u001b[0m \u001b[0mcurrent_state\u001b[0m\u001b[0;34m,\u001b[0m \u001b[0mtime\u001b[0m\u001b[0;34m)\u001b[0m\u001b[0;34m:\u001b[0m\u001b[0;34m\u001b[0m\u001b[0;34m\u001b[0m\u001b[0m\n\u001b[1;32m     64\u001b[0m         \u001b[0mstate\u001b[0m \u001b[0;34m=\u001b[0m \u001b[0;34m{\u001b[0m\u001b[0mlabel\u001b[0m\u001b[0;34m:\u001b[0m \u001b[0mval\u001b[0m \u001b[0;32mfor\u001b[0m \u001b[0mlabel\u001b[0m\u001b[0;34m,\u001b[0m \u001b[0mval\u001b[0m \u001b[0;32min\u001b[0m \u001b[0mzip\u001b[0m\u001b[0;34m(\u001b[0m\u001b[0mself\u001b[0m\u001b[0;34m.\u001b[0m\u001b[0msv_labels\u001b[0m\u001b[0;34m,\u001b[0m \u001b[0mcurrent_state\u001b[0m\u001b[0;34m)\u001b[0m\u001b[0;34m}\u001b[0m\u001b[0;34m\u001b[0m\u001b[0;34m\u001b[0m\u001b[0m\n\u001b[0;32m---> 65\u001b[0;31m         \u001b[0;32mreturn\u001b[0m \u001b[0;34m[\u001b[0m\u001b[0msum\u001b[0m\u001b[0;34m(\u001b[0m\u001b[0mflux\u001b[0m\u001b[0;34m(\u001b[0m\u001b[0mstate\u001b[0m\u001b[0;34m=\u001b[0m\u001b[0mstate\u001b[0m\u001b[0;34m,\u001b[0m \u001b[0mparameters\u001b[0m\u001b[0;34m=\u001b[0m\u001b[0mself\u001b[0m\u001b[0;34m.\u001b[0m\u001b[0mparameters\u001b[0m\u001b[0;34m,\u001b[0m \u001b[0mforcings\u001b[0m\u001b[0;34m=\u001b[0m\u001b[0mself\u001b[0m\u001b[0;34m.\u001b[0m\u001b[0mforcings\u001b[0m\u001b[0;34m)\u001b[0m \u001b[0;32mfor\u001b[0m \u001b[0mflux\u001b[0m \u001b[0;32min\u001b[0m \u001b[0mself\u001b[0m\u001b[0;34m.\u001b[0m\u001b[0mFluxes\u001b[0m\u001b[0;34m[\u001b[0m\u001b[0mlabel\u001b[0m\u001b[0;34m]\u001b[0m\u001b[0;34m)\u001b[0m \u001b[0;32mfor\u001b[0m \u001b[0mlabel\u001b[0m \u001b[0;32min\u001b[0m \u001b[0mself\u001b[0m\u001b[0;34m.\u001b[0m\u001b[0msv_labels\u001b[0m\u001b[0;34m]\u001b[0m\u001b[0;34m\u001b[0m\u001b[0;34m\u001b[0m\u001b[0m\n\u001b[0m\u001b[1;32m     66\u001b[0m \u001b[0;34m\u001b[0m\u001b[0m\n\u001b[1;32m     67\u001b[0m     \u001b[0;32mdef\u001b[0m \u001b[0massemble\u001b[0m\u001b[0;34m(\u001b[0m\u001b[0mself\u001b[0m\u001b[0;34m)\u001b[0m\u001b[0;34m:\u001b[0m\u001b[0;34m\u001b[0m\u001b[0;34m\u001b[0m\u001b[0m\n",
      "\u001b[0;32m~/Documents/GitHub/phydra/prototypes/../phydra/core/backend.py\u001b[0m in \u001b[0;36m<listcomp>\u001b[0;34m(.0)\u001b[0m\n\u001b[1;32m     63\u001b[0m     \u001b[0;32mdef\u001b[0m \u001b[0mmodel\u001b[0m\u001b[0;34m(\u001b[0m\u001b[0mself\u001b[0m\u001b[0;34m,\u001b[0m \u001b[0mcurrent_state\u001b[0m\u001b[0;34m,\u001b[0m \u001b[0mtime\u001b[0m\u001b[0;34m)\u001b[0m\u001b[0;34m:\u001b[0m\u001b[0;34m\u001b[0m\u001b[0;34m\u001b[0m\u001b[0m\n\u001b[1;32m     64\u001b[0m         \u001b[0mstate\u001b[0m \u001b[0;34m=\u001b[0m \u001b[0;34m{\u001b[0m\u001b[0mlabel\u001b[0m\u001b[0;34m:\u001b[0m \u001b[0mval\u001b[0m \u001b[0;32mfor\u001b[0m \u001b[0mlabel\u001b[0m\u001b[0;34m,\u001b[0m \u001b[0mval\u001b[0m \u001b[0;32min\u001b[0m \u001b[0mzip\u001b[0m\u001b[0;34m(\u001b[0m\u001b[0mself\u001b[0m\u001b[0;34m.\u001b[0m\u001b[0msv_labels\u001b[0m\u001b[0;34m,\u001b[0m \u001b[0mcurrent_state\u001b[0m\u001b[0;34m)\u001b[0m\u001b[0;34m}\u001b[0m\u001b[0;34m\u001b[0m\u001b[0;34m\u001b[0m\u001b[0m\n\u001b[0;32m---> 65\u001b[0;31m         \u001b[0;32mreturn\u001b[0m \u001b[0;34m[\u001b[0m\u001b[0msum\u001b[0m\u001b[0;34m(\u001b[0m\u001b[0mflux\u001b[0m\u001b[0;34m(\u001b[0m\u001b[0mstate\u001b[0m\u001b[0;34m=\u001b[0m\u001b[0mstate\u001b[0m\u001b[0;34m,\u001b[0m \u001b[0mparameters\u001b[0m\u001b[0;34m=\u001b[0m\u001b[0mself\u001b[0m\u001b[0;34m.\u001b[0m\u001b[0mparameters\u001b[0m\u001b[0;34m,\u001b[0m \u001b[0mforcings\u001b[0m\u001b[0;34m=\u001b[0m\u001b[0mself\u001b[0m\u001b[0;34m.\u001b[0m\u001b[0mforcings\u001b[0m\u001b[0;34m)\u001b[0m \u001b[0;32mfor\u001b[0m \u001b[0mflux\u001b[0m \u001b[0;32min\u001b[0m \u001b[0mself\u001b[0m\u001b[0;34m.\u001b[0m\u001b[0mFluxes\u001b[0m\u001b[0;34m[\u001b[0m\u001b[0mlabel\u001b[0m\u001b[0;34m]\u001b[0m\u001b[0;34m)\u001b[0m \u001b[0;32mfor\u001b[0m \u001b[0mlabel\u001b[0m \u001b[0;32min\u001b[0m \u001b[0mself\u001b[0m\u001b[0;34m.\u001b[0m\u001b[0msv_labels\u001b[0m\u001b[0;34m]\u001b[0m\u001b[0;34m\u001b[0m\u001b[0;34m\u001b[0m\u001b[0m\n\u001b[0m\u001b[1;32m     66\u001b[0m \u001b[0;34m\u001b[0m\u001b[0m\n\u001b[1;32m     67\u001b[0m     \u001b[0;32mdef\u001b[0m \u001b[0massemble\u001b[0m\u001b[0;34m(\u001b[0m\u001b[0mself\u001b[0m\u001b[0;34m)\u001b[0m\u001b[0;34m:\u001b[0m\u001b[0;34m\u001b[0m\u001b[0;34m\u001b[0m\u001b[0m\n",
      "\u001b[0;32m~/Documents/GitHub/phydra/prototypes/../phydra/core/backend.py\u001b[0m in \u001b[0;36m<genexpr>\u001b[0;34m(.0)\u001b[0m\n\u001b[1;32m     63\u001b[0m     \u001b[0;32mdef\u001b[0m \u001b[0mmodel\u001b[0m\u001b[0;34m(\u001b[0m\u001b[0mself\u001b[0m\u001b[0;34m,\u001b[0m \u001b[0mcurrent_state\u001b[0m\u001b[0;34m,\u001b[0m \u001b[0mtime\u001b[0m\u001b[0;34m)\u001b[0m\u001b[0;34m:\u001b[0m\u001b[0;34m\u001b[0m\u001b[0;34m\u001b[0m\u001b[0m\n\u001b[1;32m     64\u001b[0m         \u001b[0mstate\u001b[0m \u001b[0;34m=\u001b[0m \u001b[0;34m{\u001b[0m\u001b[0mlabel\u001b[0m\u001b[0;34m:\u001b[0m \u001b[0mval\u001b[0m \u001b[0;32mfor\u001b[0m \u001b[0mlabel\u001b[0m\u001b[0;34m,\u001b[0m \u001b[0mval\u001b[0m \u001b[0;32min\u001b[0m \u001b[0mzip\u001b[0m\u001b[0;34m(\u001b[0m\u001b[0mself\u001b[0m\u001b[0;34m.\u001b[0m\u001b[0msv_labels\u001b[0m\u001b[0;34m,\u001b[0m \u001b[0mcurrent_state\u001b[0m\u001b[0;34m)\u001b[0m\u001b[0;34m}\u001b[0m\u001b[0;34m\u001b[0m\u001b[0;34m\u001b[0m\u001b[0m\n\u001b[0;32m---> 65\u001b[0;31m         \u001b[0;32mreturn\u001b[0m \u001b[0;34m[\u001b[0m\u001b[0msum\u001b[0m\u001b[0;34m(\u001b[0m\u001b[0mflux\u001b[0m\u001b[0;34m(\u001b[0m\u001b[0mstate\u001b[0m\u001b[0;34m=\u001b[0m\u001b[0mstate\u001b[0m\u001b[0;34m,\u001b[0m \u001b[0mparameters\u001b[0m\u001b[0;34m=\u001b[0m\u001b[0mself\u001b[0m\u001b[0;34m.\u001b[0m\u001b[0mparameters\u001b[0m\u001b[0;34m,\u001b[0m \u001b[0mforcings\u001b[0m\u001b[0;34m=\u001b[0m\u001b[0mself\u001b[0m\u001b[0;34m.\u001b[0m\u001b[0mforcings\u001b[0m\u001b[0;34m)\u001b[0m \u001b[0;32mfor\u001b[0m \u001b[0mflux\u001b[0m \u001b[0;32min\u001b[0m \u001b[0mself\u001b[0m\u001b[0;34m.\u001b[0m\u001b[0mFluxes\u001b[0m\u001b[0;34m[\u001b[0m\u001b[0mlabel\u001b[0m\u001b[0;34m]\u001b[0m\u001b[0;34m)\u001b[0m \u001b[0;32mfor\u001b[0m \u001b[0mlabel\u001b[0m \u001b[0;32min\u001b[0m \u001b[0mself\u001b[0m\u001b[0;34m.\u001b[0m\u001b[0msv_labels\u001b[0m\u001b[0;34m]\u001b[0m\u001b[0;34m\u001b[0m\u001b[0;34m\u001b[0m\u001b[0m\n\u001b[0m\u001b[1;32m     66\u001b[0m \u001b[0;34m\u001b[0m\u001b[0m\n\u001b[1;32m     67\u001b[0m     \u001b[0;32mdef\u001b[0m \u001b[0massemble\u001b[0m\u001b[0;34m(\u001b[0m\u001b[0mself\u001b[0m\u001b[0;34m)\u001b[0m\u001b[0;34m:\u001b[0m\u001b[0;34m\u001b[0m\u001b[0;34m\u001b[0m\u001b[0m\n",
      "\u001b[0;32m<ipython-input-414-7f93e8cee708>\u001b[0m in \u001b[0;36mnegative_flux\u001b[0;34m(self, **kwargs)\u001b[0m\n\u001b[1;32m     62\u001b[0m \u001b[0;34m\u001b[0m\u001b[0m\n\u001b[1;32m     63\u001b[0m     \u001b[0;32mdef\u001b[0m \u001b[0mnegative_flux\u001b[0m\u001b[0;34m(\u001b[0m\u001b[0mself\u001b[0m\u001b[0;34m,\u001b[0m \u001b[0;34m**\u001b[0m\u001b[0mkwargs\u001b[0m\u001b[0;34m)\u001b[0m\u001b[0;34m:\u001b[0m\u001b[0;34m\u001b[0m\u001b[0;34m\u001b[0m\u001b[0m\n\u001b[0;32m---> 64\u001b[0;31m         \u001b[0mout\u001b[0m \u001b[0;34m=\u001b[0m \u001b[0mflux\u001b[0m\u001b[0;34m(\u001b[0m\u001b[0mself\u001b[0m\u001b[0;34m,\u001b[0m \u001b[0mkwargs\u001b[0m\u001b[0;34m)\u001b[0m\u001b[0;34m\u001b[0m\u001b[0;34m\u001b[0m\u001b[0m\n\u001b[0m\u001b[1;32m     65\u001b[0m         \u001b[0;32mreturn\u001b[0m \u001b[0;34m-\u001b[0m \u001b[0mout\u001b[0m\u001b[0;34m\u001b[0m\u001b[0;34m\u001b[0m\u001b[0m\n\u001b[1;32m     66\u001b[0m \u001b[0;34m\u001b[0m\u001b[0m\n",
      "\u001b[0;31mTypeError\u001b[0m: flux() takes 1 positional argument but 2 were given"
     ]
    }
   ],
   "source": [
    "out_ds = odeint_setup.xsimlab.run(model=Model)"
   ]
  },
  {
   "cell_type": "code",
   "execution_count": 398,
   "metadata": {},
   "outputs": [
    {
     "data": {
      "text/html": [
       "<div><svg style=\"position: absolute; width: 0; height: 0; overflow: hidden\">\n",
       "<defs>\n",
       "<symbol id=\"icon-database\" viewBox=\"0 0 32 32\">\n",
       "<path d=\"M16 0c-8.837 0-16 2.239-16 5v4c0 2.761 7.163 5 16 5s16-2.239 16-5v-4c0-2.761-7.163-5-16-5z\"></path>\n",
       "<path d=\"M16 17c-8.837 0-16-2.239-16-5v6c0 2.761 7.163 5 16 5s16-2.239 16-5v-6c0 2.761-7.163 5-16 5z\"></path>\n",
       "<path d=\"M16 26c-8.837 0-16-2.239-16-5v6c0 2.761 7.163 5 16 5s16-2.239 16-5v-6c0 2.761-7.163 5-16 5z\"></path>\n",
       "</symbol>\n",
       "<symbol id=\"icon-file-text2\" viewBox=\"0 0 32 32\">\n",
       "<path d=\"M28.681 7.159c-0.694-0.947-1.662-2.053-2.724-3.116s-2.169-2.030-3.116-2.724c-1.612-1.182-2.393-1.319-2.841-1.319h-15.5c-1.378 0-2.5 1.121-2.5 2.5v27c0 1.378 1.122 2.5 2.5 2.5h23c1.378 0 2.5-1.122 2.5-2.5v-19.5c0-0.448-0.137-1.23-1.319-2.841zM24.543 5.457c0.959 0.959 1.712 1.825 2.268 2.543h-4.811v-4.811c0.718 0.556 1.584 1.309 2.543 2.268zM28 29.5c0 0.271-0.229 0.5-0.5 0.5h-23c-0.271 0-0.5-0.229-0.5-0.5v-27c0-0.271 0.229-0.5 0.5-0.5 0 0 15.499-0 15.5 0v7c0 0.552 0.448 1 1 1h7v19.5z\"></path>\n",
       "<path d=\"M23 26h-14c-0.552 0-1-0.448-1-1s0.448-1 1-1h14c0.552 0 1 0.448 1 1s-0.448 1-1 1z\"></path>\n",
       "<path d=\"M23 22h-14c-0.552 0-1-0.448-1-1s0.448-1 1-1h14c0.552 0 1 0.448 1 1s-0.448 1-1 1z\"></path>\n",
       "<path d=\"M23 18h-14c-0.552 0-1-0.448-1-1s0.448-1 1-1h14c0.552 0 1 0.448 1 1s-0.448 1-1 1z\"></path>\n",
       "</symbol>\n",
       "</defs>\n",
       "</svg>\n",
       "<style>/* CSS stylesheet for displaying xarray objects in jupyterlab.\n",
       " *\n",
       " */\n",
       "\n",
       ":root {\n",
       "  --xr-font-color0: var(--jp-content-font-color0, rgba(0, 0, 0, 1));\n",
       "  --xr-font-color2: var(--jp-content-font-color2, rgba(0, 0, 0, 0.54));\n",
       "  --xr-font-color3: var(--jp-content-font-color3, rgba(0, 0, 0, 0.38));\n",
       "  --xr-border-color: var(--jp-border-color2, #e0e0e0);\n",
       "  --xr-disabled-color: var(--jp-layout-color3, #bdbdbd);\n",
       "  --xr-background-color: var(--jp-layout-color0, white);\n",
       "  --xr-background-color-row-even: var(--jp-layout-color1, white);\n",
       "  --xr-background-color-row-odd: var(--jp-layout-color2, #eeeeee);\n",
       "}\n",
       "\n",
       "html[theme=dark],\n",
       "body.vscode-dark {\n",
       "  --xr-font-color0: rgba(255, 255, 255, 1);\n",
       "  --xr-font-color2: rgba(255, 255, 255, 0.54);\n",
       "  --xr-font-color3: rgba(255, 255, 255, 0.38);\n",
       "  --xr-border-color: #1F1F1F;\n",
       "  --xr-disabled-color: #515151;\n",
       "  --xr-background-color: #111111;\n",
       "  --xr-background-color-row-even: #111111;\n",
       "  --xr-background-color-row-odd: #313131;\n",
       "}\n",
       "\n",
       ".xr-wrap {\n",
       "  display: block;\n",
       "  min-width: 300px;\n",
       "  max-width: 700px;\n",
       "}\n",
       "\n",
       ".xr-text-repr-fallback {\n",
       "  /* fallback to plain text repr when CSS is not injected (untrusted notebook) */\n",
       "  display: none;\n",
       "}\n",
       "\n",
       ".xr-header {\n",
       "  padding-top: 6px;\n",
       "  padding-bottom: 6px;\n",
       "  margin-bottom: 4px;\n",
       "  border-bottom: solid 1px var(--xr-border-color);\n",
       "}\n",
       "\n",
       ".xr-header > div,\n",
       ".xr-header > ul {\n",
       "  display: inline;\n",
       "  margin-top: 0;\n",
       "  margin-bottom: 0;\n",
       "}\n",
       "\n",
       ".xr-obj-type,\n",
       ".xr-array-name {\n",
       "  margin-left: 2px;\n",
       "  margin-right: 10px;\n",
       "}\n",
       "\n",
       ".xr-obj-type {\n",
       "  color: var(--xr-font-color2);\n",
       "}\n",
       "\n",
       ".xr-sections {\n",
       "  padding-left: 0 !important;\n",
       "  display: grid;\n",
       "  grid-template-columns: 150px auto auto 1fr 20px 20px;\n",
       "}\n",
       "\n",
       ".xr-section-item {\n",
       "  display: contents;\n",
       "}\n",
       "\n",
       ".xr-section-item input {\n",
       "  display: none;\n",
       "}\n",
       "\n",
       ".xr-section-item input + label {\n",
       "  color: var(--xr-disabled-color);\n",
       "}\n",
       "\n",
       ".xr-section-item input:enabled + label {\n",
       "  cursor: pointer;\n",
       "  color: var(--xr-font-color2);\n",
       "}\n",
       "\n",
       ".xr-section-item input:enabled + label:hover {\n",
       "  color: var(--xr-font-color0);\n",
       "}\n",
       "\n",
       ".xr-section-summary {\n",
       "  grid-column: 1;\n",
       "  color: var(--xr-font-color2);\n",
       "  font-weight: 500;\n",
       "}\n",
       "\n",
       ".xr-section-summary > span {\n",
       "  display: inline-block;\n",
       "  padding-left: 0.5em;\n",
       "}\n",
       "\n",
       ".xr-section-summary-in:disabled + label {\n",
       "  color: var(--xr-font-color2);\n",
       "}\n",
       "\n",
       ".xr-section-summary-in + label:before {\n",
       "  display: inline-block;\n",
       "  content: '►';\n",
       "  font-size: 11px;\n",
       "  width: 15px;\n",
       "  text-align: center;\n",
       "}\n",
       "\n",
       ".xr-section-summary-in:disabled + label:before {\n",
       "  color: var(--xr-disabled-color);\n",
       "}\n",
       "\n",
       ".xr-section-summary-in:checked + label:before {\n",
       "  content: '▼';\n",
       "}\n",
       "\n",
       ".xr-section-summary-in:checked + label > span {\n",
       "  display: none;\n",
       "}\n",
       "\n",
       ".xr-section-summary,\n",
       ".xr-section-inline-details {\n",
       "  padding-top: 4px;\n",
       "  padding-bottom: 4px;\n",
       "}\n",
       "\n",
       ".xr-section-inline-details {\n",
       "  grid-column: 2 / -1;\n",
       "}\n",
       "\n",
       ".xr-section-details {\n",
       "  display: none;\n",
       "  grid-column: 1 / -1;\n",
       "  margin-bottom: 5px;\n",
       "}\n",
       "\n",
       ".xr-section-summary-in:checked ~ .xr-section-details {\n",
       "  display: contents;\n",
       "}\n",
       "\n",
       ".xr-array-wrap {\n",
       "  grid-column: 1 / -1;\n",
       "  display: grid;\n",
       "  grid-template-columns: 20px auto;\n",
       "}\n",
       "\n",
       ".xr-array-wrap > label {\n",
       "  grid-column: 1;\n",
       "  vertical-align: top;\n",
       "}\n",
       "\n",
       ".xr-preview {\n",
       "  color: var(--xr-font-color3);\n",
       "}\n",
       "\n",
       ".xr-array-preview,\n",
       ".xr-array-data {\n",
       "  padding: 0 5px !important;\n",
       "  grid-column: 2;\n",
       "}\n",
       "\n",
       ".xr-array-data,\n",
       ".xr-array-in:checked ~ .xr-array-preview {\n",
       "  display: none;\n",
       "}\n",
       "\n",
       ".xr-array-in:checked ~ .xr-array-data,\n",
       ".xr-array-preview {\n",
       "  display: inline-block;\n",
       "}\n",
       "\n",
       ".xr-dim-list {\n",
       "  display: inline-block !important;\n",
       "  list-style: none;\n",
       "  padding: 0 !important;\n",
       "  margin: 0;\n",
       "}\n",
       "\n",
       ".xr-dim-list li {\n",
       "  display: inline-block;\n",
       "  padding: 0;\n",
       "  margin: 0;\n",
       "}\n",
       "\n",
       ".xr-dim-list:before {\n",
       "  content: '(';\n",
       "}\n",
       "\n",
       ".xr-dim-list:after {\n",
       "  content: ')';\n",
       "}\n",
       "\n",
       ".xr-dim-list li:not(:last-child):after {\n",
       "  content: ',';\n",
       "  padding-right: 5px;\n",
       "}\n",
       "\n",
       ".xr-has-index {\n",
       "  font-weight: bold;\n",
       "}\n",
       "\n",
       ".xr-var-list,\n",
       ".xr-var-item {\n",
       "  display: contents;\n",
       "}\n",
       "\n",
       ".xr-var-item > div,\n",
       ".xr-var-item label,\n",
       ".xr-var-item > .xr-var-name span {\n",
       "  background-color: var(--xr-background-color-row-even);\n",
       "  margin-bottom: 0;\n",
       "}\n",
       "\n",
       ".xr-var-item > .xr-var-name:hover span {\n",
       "  padding-right: 5px;\n",
       "}\n",
       "\n",
       ".xr-var-list > li:nth-child(odd) > div,\n",
       ".xr-var-list > li:nth-child(odd) > label,\n",
       ".xr-var-list > li:nth-child(odd) > .xr-var-name span {\n",
       "  background-color: var(--xr-background-color-row-odd);\n",
       "}\n",
       "\n",
       ".xr-var-name {\n",
       "  grid-column: 1;\n",
       "}\n",
       "\n",
       ".xr-var-dims {\n",
       "  grid-column: 2;\n",
       "}\n",
       "\n",
       ".xr-var-dtype {\n",
       "  grid-column: 3;\n",
       "  text-align: right;\n",
       "  color: var(--xr-font-color2);\n",
       "}\n",
       "\n",
       ".xr-var-preview {\n",
       "  grid-column: 4;\n",
       "}\n",
       "\n",
       ".xr-var-name,\n",
       ".xr-var-dims,\n",
       ".xr-var-dtype,\n",
       ".xr-preview,\n",
       ".xr-attrs dt {\n",
       "  white-space: nowrap;\n",
       "  overflow: hidden;\n",
       "  text-overflow: ellipsis;\n",
       "  padding-right: 10px;\n",
       "}\n",
       "\n",
       ".xr-var-name:hover,\n",
       ".xr-var-dims:hover,\n",
       ".xr-var-dtype:hover,\n",
       ".xr-attrs dt:hover {\n",
       "  overflow: visible;\n",
       "  width: auto;\n",
       "  z-index: 1;\n",
       "}\n",
       "\n",
       ".xr-var-attrs,\n",
       ".xr-var-data {\n",
       "  display: none;\n",
       "  background-color: var(--xr-background-color) !important;\n",
       "  padding-bottom: 5px !important;\n",
       "}\n",
       "\n",
       ".xr-var-attrs-in:checked ~ .xr-var-attrs,\n",
       ".xr-var-data-in:checked ~ .xr-var-data {\n",
       "  display: block;\n",
       "}\n",
       "\n",
       ".xr-var-data > table {\n",
       "  float: right;\n",
       "}\n",
       "\n",
       ".xr-var-name span,\n",
       ".xr-var-data,\n",
       ".xr-attrs {\n",
       "  padding-left: 25px !important;\n",
       "}\n",
       "\n",
       ".xr-attrs,\n",
       ".xr-var-attrs,\n",
       ".xr-var-data {\n",
       "  grid-column: 1 / -1;\n",
       "}\n",
       "\n",
       "dl.xr-attrs {\n",
       "  padding: 0;\n",
       "  margin: 0;\n",
       "  display: grid;\n",
       "  grid-template-columns: 125px auto;\n",
       "}\n",
       "\n",
       ".xr-attrs dt, dd {\n",
       "  padding: 0;\n",
       "  margin: 0;\n",
       "  float: left;\n",
       "  padding-right: 10px;\n",
       "  width: auto;\n",
       "}\n",
       "\n",
       ".xr-attrs dt {\n",
       "  font-weight: normal;\n",
       "  grid-column: 1;\n",
       "}\n",
       "\n",
       ".xr-attrs dt:hover span {\n",
       "  display: inline-block;\n",
       "  background: var(--xr-background-color);\n",
       "  padding-right: 10px;\n",
       "}\n",
       "\n",
       ".xr-attrs dd {\n",
       "  grid-column: 2;\n",
       "  white-space: pre-wrap;\n",
       "  word-break: break-all;\n",
       "}\n",
       "\n",
       ".xr-icon-database,\n",
       ".xr-icon-file-text2 {\n",
       "  display: inline-block;\n",
       "  vertical-align: middle;\n",
       "  width: 1em;\n",
       "  height: 1.5em !important;\n",
       "  stroke-width: 0;\n",
       "  stroke: currentColor;\n",
       "  fill: currentColor;\n",
       "}\n",
       "</style><pre class='xr-text-repr-fallback'>&lt;xarray.Dataset&gt;\n",
       "Dimensions:            (clock: 2, input_time: 200, time: 200)\n",
       "Coordinates:\n",
       "  * clock              (clock) int64 0 1\n",
       "Dimensions without coordinates: input_time, time\n",
       "Data variables:\n",
       "    Core__solver_type  &lt;U6 &#x27;odeint&#x27;\n",
       "    D__rate1           int64 1\n",
       "    D__sv1             &lt;U1 &#x27;y&#x27;\n",
       "    Time__time         (input_time) float64 0.0 0.1 0.2 0.3 ... 19.7 19.8 19.9\n",
       "    y__init            int64 1\n",
       "    y__value           (time) float64 1.0 1.105 1.221 ... 3.972e+08 4.39e+08</pre><div class='xr-wrap' hidden><div class='xr-header'><div class='xr-obj-type'>xarray.Dataset</div></div><ul class='xr-sections'><li class='xr-section-item'><input id='section-089a1904-7fdf-4742-94a4-f0707562eb86' class='xr-section-summary-in' type='checkbox' disabled ><label for='section-089a1904-7fdf-4742-94a4-f0707562eb86' class='xr-section-summary'  title='Expand/collapse section'>Dimensions:</label><div class='xr-section-inline-details'><ul class='xr-dim-list'><li><span class='xr-has-index'>clock</span>: 2</li><li><span>input_time</span>: 200</li><li><span>time</span>: 200</li></ul></div><div class='xr-section-details'></div></li><li class='xr-section-item'><input id='section-5e59e777-5660-4d79-8f00-6c8f79652c01' class='xr-section-summary-in' type='checkbox'  checked><label for='section-5e59e777-5660-4d79-8f00-6c8f79652c01' class='xr-section-summary' >Coordinates: <span>(1)</span></label><div class='xr-section-inline-details'></div><div class='xr-section-details'><ul class='xr-var-list'><li class='xr-var-item'><div class='xr-var-name'><span class='xr-has-index'>clock</span></div><div class='xr-var-dims'>(clock)</div><div class='xr-var-dtype'>int64</div><div class='xr-var-preview xr-preview'>0 1</div><input id='attrs-eba50974-3cb6-4530-94f2-45091c81230d' class='xr-var-attrs-in' type='checkbox' ><label for='attrs-eba50974-3cb6-4530-94f2-45091c81230d' title='Show/Hide attributes'><svg class='icon xr-icon-file-text2'><use xlink:href='#icon-file-text2'></use></svg></label><input id='data-3f18c96f-d92f-4ced-94d4-ee20cf3964fa' class='xr-var-data-in' type='checkbox'><label for='data-3f18c96f-d92f-4ced-94d4-ee20cf3964fa' title='Show/Hide data repr'><svg class='icon xr-icon-database'><use xlink:href='#icon-database'></use></svg></label><div class='xr-var-attrs'><dl class='xr-attrs'><dt><span>__xsimlab_master_clock__ :</span></dt><dd>1</dd><dt><span>__xsimlab_output_clock__ :</span></dt><dd>1</dd></dl></div><div class='xr-var-data'><pre>array([0, 1])</pre></div></li></ul></div></li><li class='xr-section-item'><input id='section-760395b5-d76c-455b-8531-9479f336a38f' class='xr-section-summary-in' type='checkbox'  checked><label for='section-760395b5-d76c-455b-8531-9479f336a38f' class='xr-section-summary' >Data variables: <span>(6)</span></label><div class='xr-section-inline-details'></div><div class='xr-section-details'><ul class='xr-var-list'><li class='xr-var-item'><div class='xr-var-name'><span>Core__solver_type</span></div><div class='xr-var-dims'>()</div><div class='xr-var-dtype'>&lt;U6</div><div class='xr-var-preview xr-preview'>&#x27;odeint&#x27;</div><input id='attrs-4faf60f1-80d5-4f50-989f-97d14f897cea' class='xr-var-attrs-in' type='checkbox' disabled><label for='attrs-4faf60f1-80d5-4f50-989f-97d14f897cea' title='Show/Hide attributes'><svg class='icon xr-icon-file-text2'><use xlink:href='#icon-file-text2'></use></svg></label><input id='data-13e67251-9062-4db3-92ea-76809789b0e9' class='xr-var-data-in' type='checkbox'><label for='data-13e67251-9062-4db3-92ea-76809789b0e9' title='Show/Hide data repr'><svg class='icon xr-icon-database'><use xlink:href='#icon-database'></use></svg></label><div class='xr-var-attrs'><dl class='xr-attrs'></dl></div><div class='xr-var-data'><pre>array(&#x27;odeint&#x27;, dtype=&#x27;&lt;U6&#x27;)</pre></div></li><li class='xr-var-item'><div class='xr-var-name'><span>D__rate1</span></div><div class='xr-var-dims'>()</div><div class='xr-var-dtype'>int64</div><div class='xr-var-preview xr-preview'>1</div><input id='attrs-38263a7f-5bc1-4820-96d4-8be21bb996fe' class='xr-var-attrs-in' type='checkbox' disabled><label for='attrs-38263a7f-5bc1-4820-96d4-8be21bb996fe' title='Show/Hide attributes'><svg class='icon xr-icon-file-text2'><use xlink:href='#icon-file-text2'></use></svg></label><input id='data-4967e00e-ed7c-43f3-89be-ddcd7400907a' class='xr-var-data-in' type='checkbox'><label for='data-4967e00e-ed7c-43f3-89be-ddcd7400907a' title='Show/Hide data repr'><svg class='icon xr-icon-database'><use xlink:href='#icon-database'></use></svg></label><div class='xr-var-attrs'><dl class='xr-attrs'></dl></div><div class='xr-var-data'><pre>array(1)</pre></div></li><li class='xr-var-item'><div class='xr-var-name'><span>D__sv1</span></div><div class='xr-var-dims'>()</div><div class='xr-var-dtype'>&lt;U1</div><div class='xr-var-preview xr-preview'>&#x27;y&#x27;</div><input id='attrs-24e75ee9-85c2-4a87-80a5-beb6609ce1c5' class='xr-var-attrs-in' type='checkbox' disabled><label for='attrs-24e75ee9-85c2-4a87-80a5-beb6609ce1c5' title='Show/Hide attributes'><svg class='icon xr-icon-file-text2'><use xlink:href='#icon-file-text2'></use></svg></label><input id='data-34217f59-df5e-4400-bbbe-f55e48a981a3' class='xr-var-data-in' type='checkbox'><label for='data-34217f59-df5e-4400-bbbe-f55e48a981a3' title='Show/Hide data repr'><svg class='icon xr-icon-database'><use xlink:href='#icon-database'></use></svg></label><div class='xr-var-attrs'><dl class='xr-attrs'></dl></div><div class='xr-var-data'><pre>array(&#x27;y&#x27;, dtype=&#x27;&lt;U1&#x27;)</pre></div></li><li class='xr-var-item'><div class='xr-var-name'><span>Time__time</span></div><div class='xr-var-dims'>(input_time)</div><div class='xr-var-dtype'>float64</div><div class='xr-var-preview xr-preview'>0.0 0.1 0.2 0.3 ... 19.7 19.8 19.9</div><input id='attrs-954a29e1-9e2d-45ab-ad71-20b9ff1504e4' class='xr-var-attrs-in' type='checkbox' ><label for='attrs-954a29e1-9e2d-45ab-ad71-20b9ff1504e4' title='Show/Hide attributes'><svg class='icon xr-icon-file-text2'><use xlink:href='#icon-file-text2'></use></svg></label><input id='data-1db2ceb4-622e-4ad4-b116-982a44295137' class='xr-var-data-in' type='checkbox'><label for='data-1db2ceb4-622e-4ad4-b116-982a44295137' title='Show/Hide data repr'><svg class='icon xr-icon-database'><use xlink:href='#icon-database'></use></svg></label><div class='xr-var-attrs'><dl class='xr-attrs'><dt><span>description :</span></dt><dd>A sequence of Time points for which to solve for y.</dd><dt><span>_FillValue :</span></dt><dd>nan</dd></dl></div><div class='xr-var-data'><pre>array([ 0. ,  0.1,  0.2,  0.3,  0.4,  0.5,  0.6,  0.7,  0.8,  0.9,  1. ,\n",
       "        1.1,  1.2,  1.3,  1.4,  1.5,  1.6,  1.7,  1.8,  1.9,  2. ,  2.1,\n",
       "        2.2,  2.3,  2.4,  2.5,  2.6,  2.7,  2.8,  2.9,  3. ,  3.1,  3.2,\n",
       "        3.3,  3.4,  3.5,  3.6,  3.7,  3.8,  3.9,  4. ,  4.1,  4.2,  4.3,\n",
       "        4.4,  4.5,  4.6,  4.7,  4.8,  4.9,  5. ,  5.1,  5.2,  5.3,  5.4,\n",
       "        5.5,  5.6,  5.7,  5.8,  5.9,  6. ,  6.1,  6.2,  6.3,  6.4,  6.5,\n",
       "        6.6,  6.7,  6.8,  6.9,  7. ,  7.1,  7.2,  7.3,  7.4,  7.5,  7.6,\n",
       "        7.7,  7.8,  7.9,  8. ,  8.1,  8.2,  8.3,  8.4,  8.5,  8.6,  8.7,\n",
       "        8.8,  8.9,  9. ,  9.1,  9.2,  9.3,  9.4,  9.5,  9.6,  9.7,  9.8,\n",
       "        9.9, 10. , 10.1, 10.2, 10.3, 10.4, 10.5, 10.6, 10.7, 10.8, 10.9,\n",
       "       11. , 11.1, 11.2, 11.3, 11.4, 11.5, 11.6, 11.7, 11.8, 11.9, 12. ,\n",
       "       12.1, 12.2, 12.3, 12.4, 12.5, 12.6, 12.7, 12.8, 12.9, 13. , 13.1,\n",
       "       13.2, 13.3, 13.4, 13.5, 13.6, 13.7, 13.8, 13.9, 14. , 14.1, 14.2,\n",
       "       14.3, 14.4, 14.5, 14.6, 14.7, 14.8, 14.9, 15. , 15.1, 15.2, 15.3,\n",
       "       15.4, 15.5, 15.6, 15.7, 15.8, 15.9, 16. , 16.1, 16.2, 16.3, 16.4,\n",
       "       16.5, 16.6, 16.7, 16.8, 16.9, 17. , 17.1, 17.2, 17.3, 17.4, 17.5,\n",
       "       17.6, 17.7, 17.8, 17.9, 18. , 18.1, 18.2, 18.3, 18.4, 18.5, 18.6,\n",
       "       18.7, 18.8, 18.9, 19. , 19.1, 19.2, 19.3, 19.4, 19.5, 19.6, 19.7,\n",
       "       19.8, 19.9])</pre></div></li><li class='xr-var-item'><div class='xr-var-name'><span>y__init</span></div><div class='xr-var-dims'>()</div><div class='xr-var-dtype'>int64</div><div class='xr-var-preview xr-preview'>1</div><input id='attrs-90e51e87-66d2-45cb-8a3e-6d4fea7e1b9f' class='xr-var-attrs-in' type='checkbox' disabled><label for='attrs-90e51e87-66d2-45cb-8a3e-6d4fea7e1b9f' title='Show/Hide attributes'><svg class='icon xr-icon-file-text2'><use xlink:href='#icon-file-text2'></use></svg></label><input id='data-85058f16-af4b-44f3-a085-1cec1d73f2cc' class='xr-var-data-in' type='checkbox'><label for='data-85058f16-af4b-44f3-a085-1cec1d73f2cc' title='Show/Hide data repr'><svg class='icon xr-icon-database'><use xlink:href='#icon-database'></use></svg></label><div class='xr-var-attrs'><dl class='xr-attrs'></dl></div><div class='xr-var-data'><pre>array(1)</pre></div></li><li class='xr-var-item'><div class='xr-var-name'><span>y__value</span></div><div class='xr-var-dims'>(time)</div><div class='xr-var-dtype'>float64</div><div class='xr-var-preview xr-preview'>1.0 1.105 ... 3.972e+08 4.39e+08</div><input id='attrs-1eb01c50-b173-4ebb-9816-8ba7d4cd9657' class='xr-var-attrs-in' type='checkbox' ><label for='attrs-1eb01c50-b173-4ebb-9816-8ba7d4cd9657' title='Show/Hide attributes'><svg class='icon xr-icon-file-text2'><use xlink:href='#icon-file-text2'></use></svg></label><input id='data-0d1e5297-caec-4027-8bad-880f7101454c' class='xr-var-data-in' type='checkbox'><label for='data-0d1e5297-caec-4027-8bad-880f7101454c' title='Show/Hide data repr'><svg class='icon xr-icon-database'><use xlink:href='#icon-database'></use></svg></label><div class='xr-var-attrs'><dl class='xr-attrs'><dt><span>_FillValue :</span></dt><dd>nan</dd></dl></div><div class='xr-var-data'><pre>array([1.00000000e+00, 1.10517091e+00, 1.22140275e+00, 1.34985882e+00,\n",
       "       1.49182469e+00, 1.64872127e+00, 1.82211880e+00, 2.01375273e+00,\n",
       "       2.22554103e+00, 2.45960316e+00, 2.71828190e+00, 3.00416611e+00,\n",
       "       3.32011702e+00, 3.66929678e+00, 4.05520010e+00, 4.48168922e+00,\n",
       "       4.95303261e+00, 5.47394761e+00, 6.04964770e+00, 6.68589469e+00,\n",
       "       7.38905637e+00, 8.16617022e+00, 9.02501385e+00, 9.97418285e+00,\n",
       "       1.10231768e+01, 1.21824945e+01, 1.34637386e+01, 1.48797324e+01,\n",
       "       1.64446475e+01, 1.81741462e+01, 2.00855379e+01, 2.21979524e+01,\n",
       "       2.45325315e+01, 2.71126404e+01, 2.99641018e+01, 3.31154539e+01,\n",
       "       3.65982367e+01, 4.04473069e+01, 4.47011874e+01, 4.94024524e+01,\n",
       "       5.45981537e+01, 6.03402918e+01, 6.66863358e+01, 7.36997991e+01,\n",
       "       8.14508748e+01, 9.00171383e+01, 9.94843235e+01, 1.09947181e+02,\n",
       "       1.21510428e+02, 1.34289791e+02, 1.48413172e+02, 1.64021922e+02,\n",
       "       1.81272258e+02, 2.00336828e+02, 2.21406437e+02, 2.44691956e+02,\n",
       "       2.70426434e+02, 2.98867431e+02, 3.30299594e+02, 3.65037506e+02,\n",
       "       4.03428836e+02, 4.45857818e+02, 4.92749095e+02, 5.44571971e+02,\n",
       "       6.01845106e+02, 6.65141710e+02, 7.35095275e+02, 8.12405921e+02,\n",
       "       8.97847400e+02, 9.92274837e+02, 1.09663329e+03, 1.21196723e+03,\n",
       "       1.33943094e+03, 1.48030012e+03, 1.63598465e+03, 1.80804266e+03,\n",
       "       1.99819617e+03, 2.20834829e+03, 2.44060232e+03, 2.69728271e+03,\n",
       "...\n",
       "       1.62754827e+05, 1.79871902e+05, 1.98789195e+05, 2.19696038e+05,\n",
       "       2.42801672e+05, 2.68337347e+05, 2.96558633e+05, 3.27747978e+05,\n",
       "       3.62217534e+05, 4.00312285e+05, 4.42413497e+05, 4.88942531e+05,\n",
       "       5.40365067e+05, 5.97195758e+05, 6.60003386e+05, 7.29416549e+05,\n",
       "       8.06129959e+05, 8.90911389e+05, 9.84609359e+05, 1.08816163e+06,\n",
       "       1.20260459e+06, 1.32908362e+06, 1.46886457e+06, 1.62334641e+06,\n",
       "       1.79407524e+06, 1.98275979e+06, 2.19128846e+06, 2.42174828e+06,\n",
       "       2.67644578e+06, 2.95793004e+06, 3.26901827e+06, 3.61282393e+06,\n",
       "       3.99278795e+06, 4.41271313e+06, 4.87680222e+06, 5.38970001e+06,\n",
       "       5.95653971e+06, 6.58299447e+06, 7.27533406e+06, 8.04048764e+06,\n",
       "       8.88611313e+06, 9.82067382e+06, 1.08535231e+07, 1.19949981e+07,\n",
       "       1.32565231e+07, 1.46507239e+07, 1.61915540e+07, 1.78944346e+07,\n",
       "       1.97764088e+07, 2.18563118e+07, 2.41549603e+07, 2.66953597e+07,\n",
       "       2.95029352e+07, 3.26057861e+07, 3.60349666e+07, 3.98247972e+07,\n",
       "       4.40132078e+07, 4.86421173e+07, 5.37578535e+07, 5.94116165e+07,\n",
       "       6.56599908e+07, 7.25655125e+07, 8.01972942e+07, 8.86317174e+07,\n",
       "       9.79531967e+07, 1.08255024e+08, 1.19640305e+08, 1.32222986e+08,\n",
       "       1.46128999e+08, 1.61497520e+08, 1.78482363e+08, 1.97253518e+08,\n",
       "       2.17998852e+08, 2.40925991e+08, 2.66264400e+08, 2.94267672e+08,\n",
       "       3.25216073e+08, 3.59419347e+08, 3.97219810e+08, 4.38995783e+08])</pre></div></li></ul></div></li><li class='xr-section-item'><input id='section-f8dae0e6-9e35-4523-b046-582fc4ec907e' class='xr-section-summary-in' type='checkbox' disabled ><label for='section-f8dae0e6-9e35-4523-b046-582fc4ec907e' class='xr-section-summary'  title='Expand/collapse section'>Attributes: <span>(0)</span></label><div class='xr-section-inline-details'></div><div class='xr-section-details'><dl class='xr-attrs'></dl></div></li></ul></div></div>"
      ],
      "text/plain": [
       "<xarray.Dataset>\n",
       "Dimensions:            (clock: 2, input_time: 200, time: 200)\n",
       "Coordinates:\n",
       "  * clock              (clock) int64 0 1\n",
       "Dimensions without coordinates: input_time, time\n",
       "Data variables:\n",
       "    Core__solver_type  <U6 'odeint'\n",
       "    D__rate1           int64 1\n",
       "    D__sv1             <U1 'y'\n",
       "    Time__time         (input_time) float64 0.0 0.1 0.2 0.3 ... 19.7 19.8 19.9\n",
       "    y__init            int64 1\n",
       "    y__value           (time) float64 1.0 1.105 1.221 ... 3.972e+08 4.39e+08"
      ]
     },
     "execution_count": 398,
     "metadata": {},
     "output_type": "execute_result"
    }
   ],
   "source": [
    "out_ds"
   ]
  },
  {
   "cell_type": "code",
   "execution_count": 399,
   "metadata": {},
   "outputs": [
    {
     "data": {
      "text/plain": [
       "[<matplotlib.lines.Line2D at 0x165c559d0>]"
      ]
     },
     "execution_count": 399,
     "metadata": {},
     "output_type": "execute_result"
    },
    {
     "data": {
      "image/png": "[encoded data removed]",
      "text/plain": [
       "<Figure size 432x288 with 1 Axes>"
      ]
     },
     "metadata": {
      "needs_background": "light"
     },
     "output_type": "display_data"
    }
   ],
   "source": [
    "out_ds.y__value.plot()"
   ]
  },
  {
   "cell_type": "markdown",
   "metadata": {},
   "source": [
    "# TODO\n",
    "\n",
    "1. get a very simple example running, creating a xs.process from another decorated class, by wrapping attr.ib\n",
    "# YES!\n",
    "\n",
    "2. allow addition of\n",
    "    # the SVs the flux affects (input vs output)\n",
    "    - the SVs and forcing that the flux is dependent on (intent='modifier')\n",
    "    - parameters, that automatically are handled"
   ]
  },
  {
   "cell_type": "code",
   "execution_count": 81,
   "metadata": {},
   "outputs": [
    {
     "data": {
      "text/plain": [
       "<property at 0x166d642c0>"
      ]
     },
     "execution_count": 81,
     "metadata": {},
     "output_type": "execute_result"
    }
   ],
   "source": [
    "def hello():\n",
    "    return property(1)\n",
    "\n",
    "hello()"
   ]
  },
  {
   "cell_type": "code",
   "execution_count": null,
   "metadata": {},
   "outputs": [],
   "source": []
  }
 ],
 "metadata": {
  "kernelspec": {
   "display_name": "Python 3",
   "language": "python",
   "name": "python3"
  },
  "language_info": {
   "codemirror_mode": {
    "name": "ipython",
    "version": 3
   },
   "file_extension": ".py",
   "mimetype": "text/x-python",
   "name": "python",
   "nbconvert_exporter": "python",
   "pygments_lexer": "ipython3",
   "version": "3.8.5"
  }
 },
 "nbformat": 4,
 "nbformat_minor": 4
}
