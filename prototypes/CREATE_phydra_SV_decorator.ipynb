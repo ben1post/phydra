{
 "cells": [
  {
   "cell_type": "code",
   "execution_count": 1,
   "metadata": {},
   "outputs": [],
   "source": [
    "import numpy as np\n",
    "from scipy.integrate import odeint\n",
    "import matplotlib.pyplot as plt\n",
    "import xsimlab as xs\n",
    "\n",
    "# to measure process time\n",
    "import time as tm"
   ]
  },
  {
   "cell_type": "code",
   "execution_count": 2,
   "metadata": {},
   "outputs": [],
   "source": [
    "import attr"
   ]
  },
  {
   "cell_type": "code",
   "execution_count": 3,
   "metadata": {},
   "outputs": [],
   "source": [
    "import os,sys,inspect\n",
    "sys.path.insert(1, os.path.join(sys.path[0], '..'))\n",
    "\n",
    "import phydra\n",
    "\n",
    "from phydra.processes.main import ThirdInit\n",
    "\n",
    "from phydra.processes.statevars import SV, Time\n",
    "\n",
    "from phydra.processes.forcings import ConstantForcing\n",
    "\n",
    "from phydra.processes.fluxes import LossLinearFlux, ForcingInputLinearFlux\n",
    "\n",
    "from phydra.core.parts import Parameter"
   ]
  },
  {
   "cell_type": "code",
   "execution_count": 6,
   "metadata": {},
   "outputs": [
    {
     "ename": "SyntaxError",
     "evalue": "invalid syntax (<ipython-input-6-778419129297>, line 11)",
     "output_type": "error",
     "traceback": [
      "\u001b[0;36m  File \u001b[0;32m\"<ipython-input-6-778419129297>\"\u001b[0;36m, line \u001b[0;32m11\u001b[0m\n\u001b[0;31m    hm... so now I have this simple wrapper, but it don't make any sense..\u001b[0m\n\u001b[0m      ^\u001b[0m\n\u001b[0;31mSyntaxError\u001b[0m\u001b[0;31m:\u001b[0m invalid syntax\n"
     ]
    }
   ],
   "source": [
    "# what should the final wrapped class interface look like? \n",
    "# in what way \n",
    "\n",
    "# SO THE FIRST (and maybe only) way to implemented is for Fluxes!\n",
    "# the basic types of fluxes have their decorators\n",
    "# and each flux uses one of these decorators and\n",
    "# the actual function is a simple flux function\n",
    "\n",
    "# so how can I turn a simple (latexifiable) function, into an xs.process via decoration?\n",
    "\n",
    "hm... so now I have this simple wrapper, but it don't make any sense..\n",
    "\n",
    "# also no latexification as of right now, unless modifying base code\n",
    "\n",
    "what can I do to make this more senseful?\n",
    "\n",
    "# no. no. \n",
    "good idea: instead of mix matching base class & flux func\n",
    "    \n",
    "instead create abc for flux, that includes inputs outputs and parameters\n",
    "\n",
    "and from this the proper flux PROCESS is created!\n",
    "\n",
    "# latexify_py can be incorporated into this class! compatibility with base math\n",
    "\n",
    "xs.variable returns attr.attrib(\"content here\")\n",
    "\n",
    "# "
   ]
  },
  {
   "cell_type": "code",
   "execution_count": 4,
   "metadata": {},
   "outputs": [],
   "source": [
    "from phydra.processes.main import ThirdInit"
   ]
  },
  {
   "cell_type": "code",
   "execution_count": null,
   "metadata": {},
   "outputs": [],
   "source": []
  },
  {
   "cell_type": "code",
   "execution_count": 5,
   "metadata": {},
   "outputs": [],
   "source": [
    "from collections import OrderedDict"
   ]
  },
  {
   "cell_type": "code",
   "execution_count": 6,
   "metadata": {},
   "outputs": [],
   "source": [
    "from enum import Enum\n",
    "\n",
    "class FluxVarType(Enum):\n",
    "    STATEVARIABLE = \"statevariable\"\n",
    "    PARAMETER = \"parameter\"\n",
    "    FORCING = \"forcing\"\n",
    "\n",
    "class FluxVarIntent(Enum):\n",
    "    INPUT = \"input\"\n",
    "    OUTPUT = \"output\""
   ]
  },
  {
   "cell_type": "code",
   "execution_count": 29,
   "metadata": {},
   "outputs": [],
   "source": [
    "def _make_property_flux(flux):\n",
    "    return xs.variable(intent='in')\n",
    "\n",
    "\n",
    "class _FluxProcessBuilder:\n",
    "    \"\"\" \n",
    "    Process builder creates xs.process, from Flux base class\n",
    "    \"\"\"\n",
    "    \n",
    "    _make_prop_funcs = {\n",
    "        FluxVarType.STATEVARIABLE: _make_property_flux,\n",
    "        FluxVarType.PARAMETER: _make_property_flux,\n",
    "        FluxVarType.FORCING: _make_property_flux,\n",
    "    }\n",
    "    \n",
    "    def __init__(self, cls):\n",
    "        print(\"INIT:\", type(cls), cls)\n",
    "        self._base_cls = ThirdInit  # handles init structure (fluxes initialized last)\n",
    "        self._flux_cls = cls\n",
    "        self._flux_func = cls.flux\n",
    "        self._flux_cls_dict = {}\n",
    "        \n",
    "        # maybe here, add a dict that builds the flux function later on\n",
    "        # maybe that stores input output, and parameters, forcings\n",
    "        # flux cls dict stores xs.variables and setup!\n",
    "    \n",
    "    \n",
    "    def _reset_attributes(self):\n",
    "        new_attributes = OrderedDict()\n",
    "        print(\"resetting attrs\")\n",
    "        \n",
    "        for k, attrib in attr.fields_dict(self._flux_cls).items():\n",
    "            print(k, attrib)\n",
    "            new_attributes[k] = attr.attrib(\n",
    "                metadata=attrib.metadata,\n",
    "                validator=attrib.validator,\n",
    "                converter=attrib.converter,\n",
    "                default=attrib.default,\n",
    "                init=False,\n",
    "                repr=False,\n",
    "            )\n",
    "        \n",
    "        print(\"reset attrs\", new_attributes)\n",
    "        return new_attributes\n",
    "    \n",
    "    \n",
    "    def add_properties(self):\n",
    "        for var_name, var in attr.fields_dict(self._flux_cls).items():\n",
    "            var_type = var.metadata.get(\"var_type\")\n",
    "            \n",
    "            print(\"add_properties\", var_type)\n",
    "            \n",
    "            if var_type is not None:\n",
    "                make_prop_func = self._make_prop_funcs[var_type]\n",
    "                print(make_prop_func(var))\n",
    "                self._flux_cls_dict[var_name] = make_prop_func(var)\n",
    "                \n",
    "    \n",
    "    def _make_xsimlab_process(self):\n",
    "        print(\"MAKING xsimlab process\")\n",
    "        p_cls = attr.make_class(\n",
    "            self._flux_cls.__name__,\n",
    "            self._reset_attributes(),\n",
    "            bases=(self._base_cls,),\n",
    "            init=False,\n",
    "            repr=False,\n",
    "        )\n",
    "        print(\"P_CLSS\", p_cls)\n",
    "        return p_cls\n",
    "    \n",
    "    def _setup_flux_func(self):\n",
    "        \n",
    "        print(self._flux_func)\n",
    "        \n",
    "        return self._flux_func\n",
    "    \n",
    "    \n",
    "    def _setup_init_func(cls):\n",
    "        \n",
    "        def initialize(self):\n",
    "            super(getattr(self, '__class__'), self).initialize()  # handles initialization stages\n",
    "            \n",
    "            print(f\"initializing flux {self.label}\")\n",
    "            print(\"INIT parent wrapped class: \", cls)\n",
    "            print(\"INIT self: \", self)\n",
    "            \n",
    "            print(getattr(self, '__class__'))\n",
    "            \n",
    "            print(getattr(self, '__xsimlab_name__'))\n",
    "            \n",
    "            # setup parameter\n",
    "            self.m.Parameters[self.label + '_rate'] = Parameter(name=self.label + '_rate', value=self.rate)\n",
    "            # create flux\n",
    "            self.m.Fluxes[self.sv_label].append(self.flux)\n",
    "            \n",
    "        return initialize\n",
    "    \n",
    "    \n",
    "    def create_process(self):\n",
    "        \n",
    "        p_cls = self._make_xsimlab_process()\n",
    "        \n",
    "        for name, value in self._flux_cls_dict.items():\n",
    "            print(\"from flux cls dict\", name, value)\n",
    "            setattr(p_cls, name, value)\n",
    "        \n",
    "        setattr(p_cls, \"initialize\", self._setup_init_func())\n",
    "        setattr(p_cls, \"flux\", self._setup_flux_func())\n",
    "        \n",
    "        return xs.process(p_cls)\n"
   ]
  },
  {
   "cell_type": "code",
   "execution_count": 30,
   "metadata": {},
   "outputs": [],
   "source": [
    "def processfromflux(maybe_cls=None):\n",
    "    \n",
    "    def wrap(cls):\n",
    "        print(\"wrapper cls\", cls)\n",
    "        \n",
    "        attr_cls = attr.attrs(cls, repr=False)\n",
    "        \n",
    "        print(\"wrapper attr cls\", attr_cls)\n",
    "        \n",
    "        builder = _FluxProcessBuilder(attr_cls)\n",
    "\n",
    "        builder.add_properties()\n",
    "\n",
    "        #if autodoc:\n",
    "        #    builder.render_docstrings()\n",
    "\n",
    "        return builder.create_process()\n",
    "    \n",
    "    \n",
    "    if maybe_cls is None:\n",
    "        return wrap\n",
    "    else:\n",
    "        return wrap(maybe_cls)"
   ]
  },
  {
   "cell_type": "code",
   "execution_count": 31,
   "metadata": {},
   "outputs": [
    {
     "name": "stdout",
     "output_type": "stream",
     "text": [
      "wrapper cls <class '__main__.XXXX'>\n",
      "wrapper attr cls <class '__main__.XXXX'>\n",
      "INIT: <class 'type'> <class '__main__.XXXX'>\n",
      "add_properties FluxVarType.STATEVARIABLE\n",
      "_CountingAttr(counter=143, _default=NOTHING, repr=True, eq=True, order=True, hash=None, init=True, metadata={'var_type': <VarType.VARIABLE: 'variable'>, 'dims': ((),), 'intent': <VarIntent.IN: 'in'>, 'groups': (), 'static': False, 'attrs': {}, 'description': '', 'encoding': {}})\n",
      "add_properties FluxVarType.PARAMETER\n",
      "_CountingAttr(counter=145, _default=NOTHING, repr=True, eq=True, order=True, hash=None, init=True, metadata={'var_type': <VarType.VARIABLE: 'variable'>, 'dims': ((),), 'intent': <VarIntent.IN: 'in'>, 'groups': (), 'static': False, 'attrs': {}, 'description': '', 'encoding': {}})\n",
      "MAKING xsimlab process\n",
      "resetting attrs\n",
      "sv_label Attribute(name='sv_label', default=NOTHING, validator=None, repr=True, eq=True, order=True, hash=None, init=True, metadata=mappingproxy({'var_type': <FluxVarType.STATEVARIABLE: 'statevariable'>}), type=None, converter=None, kw_only=False)\n",
      "rate Attribute(name='rate', default=NOTHING, validator=None, repr=True, eq=True, order=True, hash=None, init=True, metadata=mappingproxy({'var_type': <FluxVarType.PARAMETER: 'parameter'>}), type=None, converter=None, kw_only=False)\n",
      "reset attrs OrderedDict([('sv_label', _CountingAttr(counter=147, _default=NOTHING, repr=False, eq=True, order=True, hash=None, init=False, metadata=mappingproxy({'var_type': <FluxVarType.STATEVARIABLE: 'statevariable'>}))), ('rate', _CountingAttr(counter=148, _default=NOTHING, repr=False, eq=True, order=True, hash=None, init=False, metadata=mappingproxy({'var_type': <FluxVarType.PARAMETER: 'parameter'>})))])\n",
      "P_CLSS <class '__main__.XXXX'>\n",
      "from flux cls dict sv_label _CountingAttr(counter=144, _default=NOTHING, repr=True, eq=True, order=True, hash=None, init=True, metadata={'var_type': <VarType.VARIABLE: 'variable'>, 'dims': ((),), 'intent': <VarIntent.IN: 'in'>, 'groups': (), 'static': False, 'attrs': {}, 'description': '', 'encoding': {}})\n",
      "from flux cls dict rate _CountingAttr(counter=146, _default=NOTHING, repr=True, eq=True, order=True, hash=None, init=True, metadata={'var_type': <VarType.VARIABLE: 'variable'>, 'dims': ((),), 'intent': <VarIntent.IN: 'in'>, 'groups': (), 'static': False, 'attrs': {}, 'description': '', 'encoding': {}})\n",
      "<function XXXX.flux at 0x16371cf70>\n"
     ]
    }
   ],
   "source": [
    "@processfromflux\n",
    "class XXXX:\n",
    "    sv_label = attr.ib(metadata={\"var_type\": FluxVarType.STATEVARIABLE})\n",
    "    \n",
    "    rate = attr.ib(metadata={\"var_type\": FluxVarType.PARAMETER})\n",
    "    \n",
    "    def flux(self):\n",
    "        print(\"FLUXXING\")\n",
    "        print(self.sv, self.rate)\n",
    "        \n",
    "        \n",
    "        pass\n",
    "    \n",
    "    #def flux(self, **kwargs):\n",
    "    #    state = kwargs.get('state')\n",
    "    #    parameters = kwargs.get('parameters')\n",
    "    #\n",
    "    #    sv = state[self.sv_label]\n",
    "    #    rate = parameters[self.label + '_rate']\n",
    "    #    delta = -rate * sv\n",
    "    #    return delta"
   ]
  },
  {
   "cell_type": "code",
   "execution_count": 32,
   "metadata": {},
   "outputs": [
    {
     "name": "stdout",
     "output_type": "stream",
     "text": [
      "<XXXX  (xsimlab process)>\n",
      "Variables:\n",
      "    m              [in] <--- ModelCore.m\n",
      "    label         [out]\n",
      "    firstinit      [in] <--- group 'FirstInit'\n",
      "    secondinit     [in] <--- group 'SecondInit'\n",
      "    group         [out]\n",
      "    sv_label       [in]\n",
      "    rate           [in]\n",
      "Simulation stages:\n",
      "    initialize\n"
     ]
    }
   ],
   "source": [
    "xs.process_info(XXXX)"
   ]
  },
  {
   "cell_type": "code",
   "execution_count": 33,
   "metadata": {},
   "outputs": [],
   "source": [
    "Model = phydra.create({\n",
    "    # SV\n",
    "    'y':SV,\n",
    "    'x':SV, \n",
    "    \n",
    "    # Fluxes\n",
    "    'y_loss':XXXX,\n",
    "    'x_loss':XXXX,\n",
    "    \n",
    "    # Forcing\n",
    "    'y_input':ForcingInputLinearFlux,\n",
    "    'N0':ConstantForcing\n",
    "})"
   ]
  },
  {
   "cell_type": "code",
   "execution_count": 34,
   "metadata": {},
   "outputs": [
    {
     "data": {
      "text/plain": [
       "<xsimlab.Model (9 processes, 12 inputs)>\n",
       "Core\n",
       "    solver_type     [in]\n",
       "Time\n",
       "    time            [in] ('input_time',) A sequence of Time points ...\n",
       "y\n",
       "    init            [in]\n",
       "x\n",
       "    init            [in]\n",
       "N0\n",
       "    value           [in]\n",
       "y_loss\n",
       "    rate            [in]\n",
       "    sv_label        [in]\n",
       "x_loss\n",
       "    rate            [in]\n",
       "    sv_label        [in]\n",
       "y_input\n",
       "    rate            [in]\n",
       "    fx_label        [in]\n",
       "    sv_label        [in]\n",
       "Solver"
      ]
     },
     "execution_count": 34,
     "metadata": {},
     "output_type": "execute_result"
    }
   ],
   "source": [
    "Model"
   ]
  },
  {
   "cell_type": "code",
   "execution_count": 35,
   "metadata": {},
   "outputs": [],
   "source": [
    "#Model.visualize(show_inputs=True)"
   ]
  },
  {
   "cell_type": "code",
   "execution_count": 36,
   "metadata": {},
   "outputs": [],
   "source": [
    "odeint_setup = phydra.setup('odeint', Model,\n",
    "            time=np.arange(0,20,0.1),\n",
    "            input_vars={\n",
    "                'y__init':0.5,\n",
    "                'x__init':0.5,\n",
    "                \n",
    "                'y_loss__sv_label':'y',\n",
    "                'y_loss__rate':0.01,\n",
    "                \n",
    "                'x_loss__sv_label':'x',\n",
    "                'x_loss__rate':0.5,\n",
    "                \n",
    "                'y_input':{'sv_label':'y',\n",
    "                          'fx_label':'N0',\n",
    "                          'rate':.1},\n",
    "                'N0__value':2.\n",
    "            },\n",
    "            output_vars={\n",
    "                'y__value':None,\n",
    "                'x__value':None,\n",
    "            })"
   ]
  },
  {
   "cell_type": "code",
   "execution_count": 37,
   "metadata": {},
   "outputs": [
    {
     "name": "stdout",
     "output_type": "stream",
     "text": [
      "initializing model core\n",
      "Initializing Model Time\n",
      "initializing state variable y\n",
      "initializing state variable x\n",
      "initializing forcing N0\n"
     ]
    },
    {
     "ename": "RecursionError",
     "evalue": "maximum recursion depth exceeded while calling a Python object",
     "output_type": "error",
     "traceback": [
      "\u001b[0;31m---------------------------------------------------------------------------\u001b[0m",
      "\u001b[0;31mRecursionError\u001b[0m                            Traceback (most recent call last)",
      "\u001b[0;32m<ipython-input-37-8390bb64c8cd>\u001b[0m in \u001b[0;36m<module>\u001b[0;34m\u001b[0m\n\u001b[0;32m----> 1\u001b[0;31m \u001b[0mout_ds\u001b[0m \u001b[0;34m=\u001b[0m \u001b[0modeint_setup\u001b[0m\u001b[0;34m.\u001b[0m\u001b[0mxsimlab\u001b[0m\u001b[0;34m.\u001b[0m\u001b[0mrun\u001b[0m\u001b[0;34m(\u001b[0m\u001b[0mmodel\u001b[0m\u001b[0;34m=\u001b[0m\u001b[0mModel\u001b[0m\u001b[0;34m)\u001b[0m\u001b[0;34m\u001b[0m\u001b[0;34m\u001b[0m\u001b[0m\n\u001b[0m",
      "\u001b[0;32m~/opt/anaconda3/envs/xsimlab/lib/python3.8/site-packages/xsimlab/xr_accessor.py\u001b[0m in \u001b[0;36mrun\u001b[0;34m(self, model, batch_dim, check_dims, validate, store, encoding, hooks, parallel, scheduler, safe_mode)\u001b[0m\n\u001b[1;32m    814\u001b[0m         )\n\u001b[1;32m    815\u001b[0m \u001b[0;34m\u001b[0m\u001b[0m\n\u001b[0;32m--> 816\u001b[0;31m         \u001b[0mdriver\u001b[0m\u001b[0;34m.\u001b[0m\u001b[0mrun_model\u001b[0m\u001b[0;34m(\u001b[0m\u001b[0;34m)\u001b[0m\u001b[0;34m\u001b[0m\u001b[0;34m\u001b[0m\u001b[0m\n\u001b[0m\u001b[1;32m    817\u001b[0m \u001b[0;34m\u001b[0m\u001b[0m\n\u001b[1;32m    818\u001b[0m         \u001b[0;32mreturn\u001b[0m \u001b[0mdriver\u001b[0m\u001b[0;34m.\u001b[0m\u001b[0mget_results\u001b[0m\u001b[0;34m(\u001b[0m\u001b[0;34m)\u001b[0m\u001b[0;34m\u001b[0m\u001b[0;34m\u001b[0m\u001b[0m\n",
      "\u001b[0;32m~/opt/anaconda3/envs/xsimlab/lib/python3.8/site-packages/xsimlab/drivers.py\u001b[0m in \u001b[0;36mrun_model\u001b[0;34m(self)\u001b[0m\n\u001b[1;32m    453\u001b[0m \u001b[0;34m\u001b[0m\u001b[0m\n\u001b[1;32m    454\u001b[0m         \u001b[0;32mif\u001b[0m \u001b[0mself\u001b[0m\u001b[0;34m.\u001b[0m\u001b[0mbatch_dim\u001b[0m \u001b[0;32mis\u001b[0m \u001b[0;32mNone\u001b[0m\u001b[0;34m:\u001b[0m\u001b[0;34m\u001b[0m\u001b[0;34m\u001b[0m\u001b[0m\n\u001b[0;32m--> 455\u001b[0;31m             _run(\n\u001b[0m\u001b[1;32m    456\u001b[0m                 \u001b[0mds_in\u001b[0m\u001b[0;34m,\u001b[0m\u001b[0;34m\u001b[0m\u001b[0;34m\u001b[0m\u001b[0m\n\u001b[1;32m    457\u001b[0m                 \u001b[0mself\u001b[0m\u001b[0;34m.\u001b[0m\u001b[0mmodel\u001b[0m\u001b[0;34m,\u001b[0m\u001b[0;34m\u001b[0m\u001b[0;34m\u001b[0m\u001b[0m\n",
      "\u001b[0;32m~/opt/anaconda3/envs/xsimlab/lib/python3.8/site-packages/xsimlab/drivers.py\u001b[0m in \u001b[0;36m_run\u001b[0;34m(dataset, model, store, hooks, validate, batch, batch_size, parallel, scheduler)\u001b[0m\n\u001b[1;32m    331\u001b[0m     \u001b[0min_vars\u001b[0m \u001b[0;34m=\u001b[0m \u001b[0m_get_input_vars\u001b[0m\u001b[0;34m(\u001b[0m\u001b[0mds_init\u001b[0m\u001b[0;34m,\u001b[0m \u001b[0mmodel\u001b[0m\u001b[0;34m)\u001b[0m\u001b[0;34m\u001b[0m\u001b[0;34m\u001b[0m\u001b[0m\n\u001b[1;32m    332\u001b[0m     \u001b[0mmodel\u001b[0m\u001b[0;34m.\u001b[0m\u001b[0mupdate_state\u001b[0m\u001b[0;34m(\u001b[0m\u001b[0min_vars\u001b[0m\u001b[0;34m,\u001b[0m \u001b[0mvalidate\u001b[0m\u001b[0;34m=\u001b[0m\u001b[0mvalidate_inputs\u001b[0m\u001b[0;34m,\u001b[0m \u001b[0mignore_static\u001b[0m\u001b[0;34m=\u001b[0m\u001b[0;32mTrue\u001b[0m\u001b[0;34m)\u001b[0m\u001b[0;34m\u001b[0m\u001b[0;34m\u001b[0m\u001b[0m\n\u001b[0;32m--> 333\u001b[0;31m     \u001b[0mmodel\u001b[0m\u001b[0;34m.\u001b[0m\u001b[0mexecute\u001b[0m\u001b[0;34m(\u001b[0m\u001b[0;34m\"initialize\"\u001b[0m\u001b[0;34m,\u001b[0m \u001b[0mrt_context\u001b[0m\u001b[0;34m,\u001b[0m \u001b[0;34m**\u001b[0m\u001b[0mexecute_kwargs\u001b[0m\u001b[0;34m)\u001b[0m\u001b[0;34m\u001b[0m\u001b[0;34m\u001b[0m\u001b[0m\n\u001b[0m\u001b[1;32m    334\u001b[0m \u001b[0;34m\u001b[0m\u001b[0m\n\u001b[1;32m    335\u001b[0m     \u001b[0;32mfor\u001b[0m \u001b[0mstep\u001b[0m\u001b[0;34m,\u001b[0m \u001b[0;34m(\u001b[0m\u001b[0m_\u001b[0m\u001b[0;34m,\u001b[0m \u001b[0mds_step\u001b[0m\u001b[0;34m)\u001b[0m \u001b[0;32min\u001b[0m \u001b[0menumerate\u001b[0m\u001b[0;34m(\u001b[0m\u001b[0mds_gby_steps\u001b[0m\u001b[0;34m)\u001b[0m\u001b[0;34m:\u001b[0m\u001b[0;34m\u001b[0m\u001b[0;34m\u001b[0m\u001b[0m\n",
      "\u001b[0;32m~/opt/anaconda3/envs/xsimlab/lib/python3.8/site-packages/xsimlab/model.py\u001b[0m in \u001b[0;36mexecute\u001b[0;34m(self, stage, runtime_context, hooks, validate, parallel, scheduler)\u001b[0m\n\u001b[1;32m    865\u001b[0m         \u001b[0;32melse\u001b[0m\u001b[0;34m:\u001b[0m\u001b[0;34m\u001b[0m\u001b[0;34m\u001b[0m\u001b[0m\n\u001b[1;32m    866\u001b[0m             \u001b[0;32mfor\u001b[0m \u001b[0mp_name\u001b[0m\u001b[0;34m,\u001b[0m \u001b[0mp_obj\u001b[0m \u001b[0;32min\u001b[0m \u001b[0mself\u001b[0m\u001b[0;34m.\u001b[0m\u001b[0m_processes\u001b[0m\u001b[0;34m.\u001b[0m\u001b[0mitems\u001b[0m\u001b[0;34m(\u001b[0m\u001b[0;34m)\u001b[0m\u001b[0;34m:\u001b[0m\u001b[0;34m\u001b[0m\u001b[0;34m\u001b[0m\u001b[0m\n\u001b[0;32m--> 867\u001b[0;31m                 \u001b[0mself\u001b[0m\u001b[0;34m.\u001b[0m\u001b[0m_execute_process\u001b[0m\u001b[0;34m(\u001b[0m\u001b[0mp_obj\u001b[0m\u001b[0;34m,\u001b[0m \u001b[0;34m*\u001b[0m\u001b[0mexecute_args\u001b[0m\u001b[0;34m)\u001b[0m\u001b[0;34m\u001b[0m\u001b[0;34m\u001b[0m\u001b[0m\n\u001b[0m\u001b[1;32m    868\u001b[0m \u001b[0;34m\u001b[0m\u001b[0m\n\u001b[1;32m    869\u001b[0m         \u001b[0mself\u001b[0m\u001b[0;34m.\u001b[0m\u001b[0m_call_hooks\u001b[0m\u001b[0;34m(\u001b[0m\u001b[0mhooks\u001b[0m\u001b[0;34m,\u001b[0m \u001b[0mruntime_context\u001b[0m\u001b[0;34m,\u001b[0m \u001b[0mstage\u001b[0m\u001b[0;34m,\u001b[0m \u001b[0;34m\"model\"\u001b[0m\u001b[0;34m,\u001b[0m \u001b[0;34m\"post\"\u001b[0m\u001b[0;34m)\u001b[0m\u001b[0;34m\u001b[0m\u001b[0;34m\u001b[0m\u001b[0m\n",
      "\u001b[0;32m~/opt/anaconda3/envs/xsimlab/lib/python3.8/site-packages/xsimlab/model.py\u001b[0m in \u001b[0;36m_execute_process\u001b[0;34m(self, p_obj, stage, runtime_context, hooks, validate, state)\u001b[0m\n\u001b[1;32m    731\u001b[0m \u001b[0;34m\u001b[0m\u001b[0m\n\u001b[1;32m    732\u001b[0m         \u001b[0mself\u001b[0m\u001b[0;34m.\u001b[0m\u001b[0m_call_hooks\u001b[0m\u001b[0;34m(\u001b[0m\u001b[0mhooks\u001b[0m\u001b[0;34m,\u001b[0m \u001b[0mruntime_context\u001b[0m\u001b[0;34m,\u001b[0m \u001b[0mstage\u001b[0m\u001b[0;34m,\u001b[0m \u001b[0;34m\"process\"\u001b[0m\u001b[0;34m,\u001b[0m \u001b[0;34m\"pre\"\u001b[0m\u001b[0;34m)\u001b[0m\u001b[0;34m\u001b[0m\u001b[0;34m\u001b[0m\u001b[0m\n\u001b[0;32m--> 733\u001b[0;31m         \u001b[0mout_state\u001b[0m \u001b[0;34m=\u001b[0m \u001b[0mexecutor\u001b[0m\u001b[0;34m.\u001b[0m\u001b[0mexecute\u001b[0m\u001b[0;34m(\u001b[0m\u001b[0mp_obj\u001b[0m\u001b[0;34m,\u001b[0m \u001b[0mstage\u001b[0m\u001b[0;34m,\u001b[0m \u001b[0mruntime_context\u001b[0m\u001b[0;34m,\u001b[0m \u001b[0mstate\u001b[0m\u001b[0;34m=\u001b[0m\u001b[0mstate\u001b[0m\u001b[0;34m)\u001b[0m\u001b[0;34m\u001b[0m\u001b[0;34m\u001b[0m\u001b[0m\n\u001b[0m\u001b[1;32m    734\u001b[0m         \u001b[0mself\u001b[0m\u001b[0;34m.\u001b[0m\u001b[0m_call_hooks\u001b[0m\u001b[0;34m(\u001b[0m\u001b[0mhooks\u001b[0m\u001b[0;34m,\u001b[0m \u001b[0mruntime_context\u001b[0m\u001b[0;34m,\u001b[0m \u001b[0mstage\u001b[0m\u001b[0;34m,\u001b[0m \u001b[0;34m\"process\"\u001b[0m\u001b[0;34m,\u001b[0m \u001b[0;34m\"post\"\u001b[0m\u001b[0;34m)\u001b[0m\u001b[0;34m\u001b[0m\u001b[0;34m\u001b[0m\u001b[0m\n\u001b[1;32m    735\u001b[0m \u001b[0;34m\u001b[0m\u001b[0m\n",
      "\u001b[0;32m~/opt/anaconda3/envs/xsimlab/lib/python3.8/site-packages/xsimlab/process.py\u001b[0m in \u001b[0;36mexecute\u001b[0;34m(self, obj, stage, runtime_context, state)\u001b[0m\n\u001b[1;32m    407\u001b[0m             \u001b[0;32mreturn\u001b[0m \u001b[0;34m{\u001b[0m\u001b[0;34m}\u001b[0m\u001b[0;34m\u001b[0m\u001b[0;34m\u001b[0m\u001b[0m\n\u001b[1;32m    408\u001b[0m         \u001b[0;32melse\u001b[0m\u001b[0;34m:\u001b[0m\u001b[0;34m\u001b[0m\u001b[0;34m\u001b[0m\u001b[0m\n\u001b[0;32m--> 409\u001b[0;31m             \u001b[0mexecutor\u001b[0m\u001b[0;34m.\u001b[0m\u001b[0mexecute\u001b[0m\u001b[0;34m(\u001b[0m\u001b[0mobj\u001b[0m\u001b[0;34m,\u001b[0m \u001b[0mruntime_context\u001b[0m\u001b[0;34m,\u001b[0m \u001b[0mstate\u001b[0m\u001b[0;34m=\u001b[0m\u001b[0mstate\u001b[0m\u001b[0;34m)\u001b[0m\u001b[0;34m\u001b[0m\u001b[0;34m\u001b[0m\u001b[0m\n\u001b[0m\u001b[1;32m    410\u001b[0m \u001b[0;34m\u001b[0m\u001b[0m\n\u001b[1;32m    411\u001b[0m             \u001b[0mskeys\u001b[0m \u001b[0;34m=\u001b[0m \u001b[0;34m[\u001b[0m\u001b[0mobj\u001b[0m\u001b[0;34m.\u001b[0m\u001b[0m__xsimlab_state_keys__\u001b[0m\u001b[0;34m[\u001b[0m\u001b[0mk\u001b[0m\u001b[0;34m]\u001b[0m \u001b[0;32mfor\u001b[0m \u001b[0mk\u001b[0m \u001b[0;32min\u001b[0m \u001b[0mself\u001b[0m\u001b[0;34m.\u001b[0m\u001b[0mout_vars\u001b[0m\u001b[0;34m]\u001b[0m\u001b[0;34m\u001b[0m\u001b[0;34m\u001b[0m\u001b[0m\n",
      "\u001b[0;32m~/opt/anaconda3/envs/xsimlab/lib/python3.8/site-packages/xsimlab/process.py\u001b[0m in \u001b[0;36mexecute\u001b[0;34m(self, obj, runtime_context, state)\u001b[0m\n\u001b[1;32m    283\u001b[0m         \u001b[0margs\u001b[0m \u001b[0;34m=\u001b[0m \u001b[0;34m[\u001b[0m\u001b[0mruntime_context\u001b[0m\u001b[0;34m[\u001b[0m\u001b[0mk\u001b[0m\u001b[0;34m]\u001b[0m \u001b[0;32mfor\u001b[0m \u001b[0mk\u001b[0m \u001b[0;32min\u001b[0m \u001b[0mself\u001b[0m\u001b[0;34m.\u001b[0m\u001b[0margs\u001b[0m\u001b[0;34m]\u001b[0m\u001b[0;34m\u001b[0m\u001b[0;34m\u001b[0m\u001b[0m\n\u001b[1;32m    284\u001b[0m \u001b[0;34m\u001b[0m\u001b[0m\n\u001b[0;32m--> 285\u001b[0;31m         \u001b[0mself\u001b[0m\u001b[0;34m.\u001b[0m\u001b[0mmeth\u001b[0m\u001b[0;34m(\u001b[0m\u001b[0mobj\u001b[0m\u001b[0;34m,\u001b[0m \u001b[0;34m*\u001b[0m\u001b[0margs\u001b[0m\u001b[0;34m)\u001b[0m\u001b[0;34m\u001b[0m\u001b[0;34m\u001b[0m\u001b[0m\n\u001b[0m\u001b[1;32m    286\u001b[0m \u001b[0;34m\u001b[0m\u001b[0m\n\u001b[1;32m    287\u001b[0m \u001b[0;34m\u001b[0m\u001b[0m\n",
      "\u001b[0;32m<ipython-input-29-c1746bde21f9>\u001b[0m in \u001b[0;36minitialize\u001b[0;34m(self)\u001b[0m\n\u001b[1;32m     82\u001b[0m \u001b[0;34m\u001b[0m\u001b[0m\n\u001b[1;32m     83\u001b[0m         \u001b[0;32mdef\u001b[0m \u001b[0minitialize\u001b[0m\u001b[0;34m(\u001b[0m\u001b[0mself\u001b[0m\u001b[0;34m)\u001b[0m\u001b[0;34m:\u001b[0m\u001b[0;34m\u001b[0m\u001b[0;34m\u001b[0m\u001b[0m\n\u001b[0;32m---> 84\u001b[0;31m             \u001b[0msuper\u001b[0m\u001b[0;34m(\u001b[0m\u001b[0mgetattr\u001b[0m\u001b[0;34m(\u001b[0m\u001b[0mself\u001b[0m\u001b[0;34m,\u001b[0m \u001b[0;34m'__class__'\u001b[0m\u001b[0;34m)\u001b[0m\u001b[0;34m,\u001b[0m \u001b[0mself\u001b[0m\u001b[0;34m)\u001b[0m\u001b[0;34m.\u001b[0m\u001b[0minitialize\u001b[0m\u001b[0;34m(\u001b[0m\u001b[0;34m)\u001b[0m  \u001b[0;31m# handles initialization stages\u001b[0m\u001b[0;34m\u001b[0m\u001b[0;34m\u001b[0m\u001b[0m\n\u001b[0m\u001b[1;32m     85\u001b[0m \u001b[0;34m\u001b[0m\u001b[0m\n\u001b[1;32m     86\u001b[0m             \u001b[0mprint\u001b[0m\u001b[0;34m(\u001b[0m\u001b[0;34mf\"initializing flux {self.label}\"\u001b[0m\u001b[0;34m)\u001b[0m\u001b[0;34m\u001b[0m\u001b[0;34m\u001b[0m\u001b[0m\n",
      "... last 1 frames repeated, from the frame below ...\n",
      "\u001b[0;32m<ipython-input-29-c1746bde21f9>\u001b[0m in \u001b[0;36minitialize\u001b[0;34m(self)\u001b[0m\n\u001b[1;32m     82\u001b[0m \u001b[0;34m\u001b[0m\u001b[0m\n\u001b[1;32m     83\u001b[0m         \u001b[0;32mdef\u001b[0m \u001b[0minitialize\u001b[0m\u001b[0;34m(\u001b[0m\u001b[0mself\u001b[0m\u001b[0;34m)\u001b[0m\u001b[0;34m:\u001b[0m\u001b[0;34m\u001b[0m\u001b[0;34m\u001b[0m\u001b[0m\n\u001b[0;32m---> 84\u001b[0;31m             \u001b[0msuper\u001b[0m\u001b[0;34m(\u001b[0m\u001b[0mgetattr\u001b[0m\u001b[0;34m(\u001b[0m\u001b[0mself\u001b[0m\u001b[0;34m,\u001b[0m \u001b[0;34m'__class__'\u001b[0m\u001b[0;34m)\u001b[0m\u001b[0;34m,\u001b[0m \u001b[0mself\u001b[0m\u001b[0;34m)\u001b[0m\u001b[0;34m.\u001b[0m\u001b[0minitialize\u001b[0m\u001b[0;34m(\u001b[0m\u001b[0;34m)\u001b[0m  \u001b[0;31m# handles initialization stages\u001b[0m\u001b[0;34m\u001b[0m\u001b[0;34m\u001b[0m\u001b[0m\n\u001b[0m\u001b[1;32m     85\u001b[0m \u001b[0;34m\u001b[0m\u001b[0m\n\u001b[1;32m     86\u001b[0m             \u001b[0mprint\u001b[0m\u001b[0;34m(\u001b[0m\u001b[0;34mf\"initializing flux {self.label}\"\u001b[0m\u001b[0;34m)\u001b[0m\u001b[0;34m\u001b[0m\u001b[0;34m\u001b[0m\u001b[0m\n",
      "\u001b[0;31mRecursionError\u001b[0m: maximum recursion depth exceeded while calling a Python object"
     ]
    }
   ],
   "source": [
    "out_ds = odeint_setup.xsimlab.run(model=Model)"
   ]
  },
  {
   "cell_type": "code",
   "execution_count": 28,
   "metadata": {},
   "outputs": [
    {
     "ename": "NameError",
     "evalue": "name 'out_ds' is not defined",
     "output_type": "error",
     "traceback": [
      "\u001b[0;31m---------------------------------------------------------------------------\u001b[0m",
      "\u001b[0;31mNameError\u001b[0m                                 Traceback (most recent call last)",
      "\u001b[0;32m<ipython-input-28-4db61d748c95>\u001b[0m in \u001b[0;36m<module>\u001b[0;34m\u001b[0m\n\u001b[0;32m----> 1\u001b[0;31m \u001b[0mout_ds\u001b[0m\u001b[0;34m.\u001b[0m\u001b[0my__value\u001b[0m\u001b[0;34m.\u001b[0m\u001b[0mplot\u001b[0m\u001b[0;34m(\u001b[0m\u001b[0;34m)\u001b[0m\u001b[0;34m\u001b[0m\u001b[0;34m\u001b[0m\u001b[0m\n\u001b[0m\u001b[1;32m      2\u001b[0m \u001b[0mout_ds\u001b[0m\u001b[0;34m.\u001b[0m\u001b[0mx__value\u001b[0m\u001b[0;34m.\u001b[0m\u001b[0mplot\u001b[0m\u001b[0;34m(\u001b[0m\u001b[0;34m)\u001b[0m\u001b[0;34m\u001b[0m\u001b[0;34m\u001b[0m\u001b[0m\n",
      "\u001b[0;31mNameError\u001b[0m: name 'out_ds' is not defined"
     ]
    }
   ],
   "source": [
    "out_ds.y__value.plot()\n",
    "out_ds.x__value.plot()"
   ]
  },
  {
   "cell_type": "code",
   "execution_count": null,
   "metadata": {},
   "outputs": [],
   "source": []
  },
  {
   "cell_type": "code",
   "execution_count": null,
   "metadata": {},
   "outputs": [],
   "source": []
  },
  {
   "cell_type": "code",
   "execution_count": null,
   "metadata": {},
   "outputs": [],
   "source": []
  },
  {
   "cell_type": "code",
   "execution_count": null,
   "metadata": {},
   "outputs": [],
   "source": []
  },
  {
   "cell_type": "code",
   "execution_count": null,
   "metadata": {},
   "outputs": [],
   "source": []
  },
  {
   "cell_type": "code",
   "execution_count": null,
   "metadata": {},
   "outputs": [],
   "source": []
  },
  {
   "cell_type": "code",
   "execution_count": null,
   "metadata": {},
   "outputs": [],
   "source": []
  },
  {
   "cell_type": "code",
   "execution_count": null,
   "metadata": {},
   "outputs": [],
   "source": []
  },
  {
   "cell_type": "code",
   "execution_count": null,
   "metadata": {},
   "outputs": [],
   "source": []
  },
  {
   "cell_type": "code",
   "execution_count": 110,
   "metadata": {},
   "outputs": [
    {
     "data": {
      "text/plain": [
       "__main__.LinearFlux"
      ]
     },
     "execution_count": 110,
     "metadata": {},
     "output_type": "execute_result"
    }
   ],
   "source": [
    "@processfromflux\n",
    "class fluxxx:\n",
    "    pass\n",
    "\n",
    "fluxxx"
   ]
  },
  {
   "cell_type": "code",
   "execution_count": null,
   "metadata": {},
   "outputs": [],
   "source": []
  },
  {
   "cell_type": "code",
   "execution_count": null,
   "metadata": {},
   "outputs": [],
   "source": []
  },
  {
   "cell_type": "code",
   "execution_count": 44,
   "metadata": {},
   "outputs": [
    {
     "ename": "NameError",
     "evalue": "name 'ThirdInit' is not defined",
     "output_type": "error",
     "traceback": [
      "\u001b[0;31m---------------------------------------------------------------------------\u001b[0m",
      "\u001b[0;31mNameError\u001b[0m                                 Traceback (most recent call last)",
      "\u001b[0;32m<ipython-input-44-bc1ab36bb6be>\u001b[0m in \u001b[0;36m<module>\u001b[0;34m\u001b[0m\n\u001b[1;32m      1\u001b[0m \u001b[0;34m@\u001b[0m\u001b[0mxs\u001b[0m\u001b[0;34m.\u001b[0m\u001b[0mprocess\u001b[0m\u001b[0;34m\u001b[0m\u001b[0;34m\u001b[0m\u001b[0m\n\u001b[0;32m----> 2\u001b[0;31m \u001b[0;32mclass\u001b[0m \u001b[0mLinearFlux\u001b[0m\u001b[0;34m(\u001b[0m\u001b[0mThirdInit\u001b[0m\u001b[0;34m)\u001b[0m\u001b[0;34m:\u001b[0m\u001b[0;34m\u001b[0m\u001b[0;34m\u001b[0m\u001b[0m\n\u001b[0m\u001b[1;32m      3\u001b[0m     \u001b[0;34m\"\"\"represents a flux in the model\"\"\"\u001b[0m\u001b[0;34m\u001b[0m\u001b[0;34m\u001b[0m\u001b[0m\n\u001b[1;32m      4\u001b[0m \u001b[0;34m\u001b[0m\u001b[0m\n\u001b[1;32m      5\u001b[0m     \u001b[0msv_label\u001b[0m \u001b[0;34m=\u001b[0m \u001b[0mxs\u001b[0m\u001b[0;34m.\u001b[0m\u001b[0mvariable\u001b[0m\u001b[0;34m(\u001b[0m\u001b[0mintent\u001b[0m\u001b[0;34m=\u001b[0m\u001b[0;34m'in'\u001b[0m\u001b[0;34m)\u001b[0m\u001b[0;34m\u001b[0m\u001b[0;34m\u001b[0m\u001b[0m\n",
      "\u001b[0;31mNameError\u001b[0m: name 'ThirdInit' is not defined"
     ]
    }
   ],
   "source": [
    "@xs.process\n",
    "class LinearFlux(ThirdInit):\n",
    "    \"\"\"represents a flux in the model\"\"\"\n",
    "\n",
    "    sv_label = xs.variable(intent='in')\n",
    "    rate = xs.variable(intent='in')\n",
    "\n",
    "    def initialize(self):\n",
    "        super(LinearFlux, self).initialize()  # handles initialization stages\n",
    "        print(f\"initializing flux {self.label}\")\n",
    "\n",
    "        # setup parameter\n",
    "        self.m.Parameters[self.label + '_rate'] = Parameter(name=self.label + '_rate', value=self.rate)\n",
    "        # create flux\n",
    "        self.m.Fluxes[self.sv_label].append(self.flux)"
   ]
  },
  {
   "cell_type": "code",
   "execution_count": 34,
   "metadata": {},
   "outputs": [],
   "source": [
    "#@phydra.flux\n",
    "def flux():\n",
    "    pass"
   ]
  },
  {
   "cell_type": "code",
   "execution_count": 36,
   "metadata": {},
   "outputs": [],
   "source": [
    "flux()"
   ]
  },
  {
   "cell_type": "code",
   "execution_count": null,
   "metadata": {},
   "outputs": [],
   "source": []
  },
  {
   "cell_type": "code",
   "execution_count": 89,
   "metadata": {},
   "outputs": [],
   "source": [
    "import os,sys,inspect\n",
    "sys.path.insert(1, os.path.join(sys.path[0], '..'))"
   ]
  },
  {
   "cell_type": "code",
   "execution_count": 3,
   "metadata": {},
   "outputs": [],
   "source": [
    "import phydra.utility.latexify as latexify"
   ]
  },
  {
   "cell_type": "code",
   "execution_count": 29,
   "metadata": {},
   "outputs": [],
   "source": [
    "def hello(a,b,c):\n",
    "    return a + c/b + c"
   ]
  },
  {
   "cell_type": "code",
   "execution_count": 33,
   "metadata": {},
   "outputs": [
    {
     "data": {
      "text/latex": [
       "$$ \\displaystyle \\mathrm{hello}(a, b, c)\\triangleq a + \\frac{c}{b} + c $$"
      ],
      "text/plain": [
       "<phydra.utility.latexify.core.with_latex.<locals>._LatexifiedFunction at 0x15fa594f0>"
      ]
     },
     "execution_count": 33,
     "metadata": {},
     "output_type": "execute_result"
    }
   ],
   "source": [
    "latexify.with_latex(hello)"
   ]
  },
  {
   "cell_type": "code",
   "execution_count": 39,
   "metadata": {},
   "outputs": [
    {
     "ename": "NameError",
     "evalue": "name 'args' is not defined",
     "output_type": "error",
     "traceback": [
      "\u001b[0;31m---------------------------------------------------------------------------\u001b[0m",
      "\u001b[0;31mNameError\u001b[0m                                 Traceback (most recent call last)",
      "\u001b[0;32m<ipython-input-39-b9aa0b2a344e>\u001b[0m in \u001b[0;36m<module>\u001b[0;34m\u001b[0m\n\u001b[0;32m----> 1\u001b[0;31m \u001b[0;34m@\u001b[0m\u001b[0mprocess\u001b[0m\u001b[0;34m(\u001b[0m\u001b[0;34m*\u001b[0m\u001b[0margs\u001b[0m\u001b[0;34m)\u001b[0m\u001b[0;34m\u001b[0m\u001b[0;34m\u001b[0m\u001b[0m\n\u001b[0m\u001b[1;32m      2\u001b[0m \u001b[0;32mclass\u001b[0m \u001b[0mHELLO\u001b[0m\u001b[0;34m:\u001b[0m\u001b[0;34m\u001b[0m\u001b[0;34m\u001b[0m\u001b[0m\n\u001b[1;32m      3\u001b[0m \u001b[0;34m\u001b[0m\u001b[0m\n\u001b[1;32m      4\u001b[0m     \u001b[0mHey\u001b[0m \u001b[0;34m=\u001b[0m \u001b[0mxs\u001b[0m\u001b[0;34m.\u001b[0m\u001b[0mvariable\u001b[0m\u001b[0;34m(\u001b[0m\u001b[0;34m)\u001b[0m\u001b[0;34m\u001b[0m\u001b[0;34m\u001b[0m\u001b[0m\n",
      "\u001b[0;31mNameError\u001b[0m: name 'args' is not defined"
     ]
    }
   ],
   "source": [
    "@process(*args)\n",
    "class HELLO:\n",
    "    \n",
    "    Hey = xs.variable()"
   ]
  },
  {
   "cell_type": "code",
   "execution_count": 35,
   "metadata": {},
   "outputs": [
    {
     "name": "stdout",
     "output_type": "stream",
     "text": [
      "<HELLO  (xsimlab process)>\n",
      "Variables:\n",
      "    Hey         [in]\n",
      "Simulation stages:\n",
      "    *no stage implemented*\n"
     ]
    }
   ],
   "source": [
    "xs.process_info(HELLO)"
   ]
  },
  {
   "cell_type": "code",
   "execution_count": null,
   "metadata": {},
   "outputs": [],
   "source": []
  },
  {
   "cell_type": "code",
   "execution_count": null,
   "metadata": {},
   "outputs": [],
   "source": []
  },
  {
   "cell_type": "code",
   "execution_count": null,
   "metadata": {},
   "outputs": [],
   "source": []
  },
  {
   "cell_type": "code",
   "execution_count": null,
   "metadata": {},
   "outputs": [],
   "source": []
  },
  {
   "cell_type": "code",
   "execution_count": null,
   "metadata": {},
   "outputs": [],
   "source": [
    "def make_flux(flux_cls, flux_name):\n",
    "    \"\"\"\n",
    "    This functions creates a properly labeled xs.process from class Component.\n",
    "    :args:\n",
    "        cls_name (cls): Class of forcing flux to be initialized\n",
    "        dim_name (str): Name of sub-dimension of returned process, UPPERCASE!\n",
    "    :returns:\n",
    "        xs.process of class Component\n",
    "    \"\"\"\n",
    "    new_dim = xs.index(dims=(flux_name), groups='flux_index')\n",
    "    base_dict = dict(flux_cls.__dict__)\n",
    "    base_dict[flux_name] = new_dim\n",
    "\n",
    "    new_cls_name = flux_cls.__name__ + '_' + flux_name\n",
    "    new_cls = type(new_cls_name, flux_cls.__bases__, base_dict)\n",
    "\n",
    "    \n",
    "    def initialize(self):\n",
    "        super(LinearFlux, self).initialize()  # handles initialization stages\n",
    "        print(f\"initializing flux {self.label}\")\n",
    "\n",
    "        # setup parameter\n",
    "        self.m.Parameters[self.label + '_rate'] = Parameter(name=self.label + '_rate', value=self.rate)\n",
    "        # create flux\n",
    "        self.m.Fluxes[self.sv_label].append(self.flux)\n",
    "        \n",
    "        \n",
    "    def initialize_dim(self):\n",
    "        r_label = getattr(self, 'R_label')\n",
    "        c_label = getattr(self, 'C_label')\n",
    "\n",
    "        cls_label = getattr(self, '__xsimlab_name__')\n",
    "        setattr(self, 'cls_label', cls_label)\n",
    "        print(f\"flux {cls_label} is initialized for {r_label} --> {c_label}\")\n",
    "\n",
    "        setattr(self, 'flux_label', str(cls_label))\n",
    "        fx_c_list = []\n",
    "        for r_lab, c_lab in zip(r_label, c_label):\n",
    "            if self.gk_SVshapes[r_lab].size == 1 and self.gk_SVshapes[c_lab].size == 1:\n",
    "                fx_c_list.append(f\"{cls_label}-{r_lab}-2-{c_lab}\")\n",
    "            elif self.gk_SVshapes[r_lab].size == 1:\n",
    "                for c in range(self.gk_SVshapes[c_lab].size):\n",
    "                    fx_c_list.append(f\"{cls_label}-{r_lab}-2-{c_lab}{c}\")\n",
    "            else:\n",
    "                for r in range(self.gk_SVshapes[r_lab].size):\n",
    "                    for c in range(self.gk_SVshapes[c_lab].size):\n",
    "                        fx_c_list.append(f\"{cls_label}-{r_lab}{r}-2-{c_lab}{c}\")\n",
    "\n",
    "        setattr(self, flux_name, fx_c_list)\n",
    "\n",
    "        cls_here = getattr(self, '__class__')\n",
    "        super(cls_here, self).initialize_parametersetup()\n",
    "\n",
    "        \n",
    "    setattr(new_cls, 'initialize', initialize_dim)\n",
    "\n",
    "    \n",
    "    if flux_name.lower() == flux_name:\n",
    "        raise ValueError(f\"dimension label ({flux_name}) supplied to forcing flux {flux_cls} needs to be Upper Case\")\n",
    "\n",
    "        \n",
    "    new_cls.output.metadata['dims'] = ((flux_name, 'time'),)\n",
    "    return xs.process(new_cls)"
   ]
  },
  {
   "cell_type": "code",
   "execution_count": null,
   "metadata": {},
   "outputs": [],
   "source": []
  },
  {
   "cell_type": "code",
   "execution_count": null,
   "metadata": {},
   "outputs": [],
   "source": [
    "def make_flux(flux_cls, flux_name):\n",
    "    \"\"\"\n",
    "    This functions creates a properly labeled xs.process from class Component.\n",
    "    :args:\n",
    "        cls_name (cls): Class of forcing flux to be initialized\n",
    "        dim_name (str): Name of sub-dimension of returned process, UPPERCASE!\n",
    "    :returns:\n",
    "        xs.process of class Component\n",
    "    \"\"\"\n",
    "    new_dim = xs.index(dims=(flux_name), groups='flux_index')\n",
    "    base_dict = dict(flux_cls.__dict__)\n",
    "    base_dict[flux_name] = new_dim\n",
    "\n",
    "    new_cls_name = flux_cls.__name__ + '_' + flux_name\n",
    "    new_cls = type(new_cls_name, flux_cls.__bases__, base_dict)\n",
    "\n",
    "    def initialize_dim(self):\n",
    "        r_label = getattr(self, 'R_label')\n",
    "        c_label = getattr(self, 'C_label')\n",
    "\n",
    "        cls_label = getattr(self, '__xsimlab_name__')\n",
    "        setattr(self, 'cls_label', cls_label)\n",
    "        print(f\"flux {cls_label} is initialized for {r_label} --> {c_label}\")\n",
    "\n",
    "        setattr(self, 'flux_label', str(cls_label))\n",
    "        fx_c_list = []\n",
    "        for r_lab, c_lab in zip(r_label, c_label):\n",
    "            if self.gk_SVshapes[r_lab].size == 1 and self.gk_SVshapes[c_lab].size == 1:\n",
    "                fx_c_list.append(f\"{cls_label}-{r_lab}-2-{c_lab}\")\n",
    "            elif self.gk_SVshapes[r_lab].size == 1:\n",
    "                for c in range(self.gk_SVshapes[c_lab].size):\n",
    "                    fx_c_list.append(f\"{cls_label}-{r_lab}-2-{c_lab}{c}\")\n",
    "            else:\n",
    "                for r in range(self.gk_SVshapes[r_lab].size):\n",
    "                    for c in range(self.gk_SVshapes[c_lab].size):\n",
    "                        fx_c_list.append(f\"{cls_label}-{r_lab}{r}-2-{c_lab}{c}\")\n",
    "\n",
    "        setattr(self, flux_name, fx_c_list)\n",
    "\n",
    "        cls_here = getattr(self, '__class__')\n",
    "        super(cls_here, self).initialize_parametersetup()\n",
    "\n",
    "    setattr(new_cls, 'initialize', initialize_dim)\n",
    "\n",
    "    if flux_name.lower() == flux_name:\n",
    "        raise ValueError(f\"dimension label ({flux_name}) supplied to forcing flux {flux_cls} needs to be Upper Case\")\n",
    "\n",
    "    new_cls.output.metadata['dims'] = ((flux_name, 'time'),)\n",
    "    return xs.process(new_cls)"
   ]
  }
 ],
 "metadata": {
  "kernelspec": {
   "display_name": "Python 3",
   "language": "python",
   "name": "python3"
  },
  "language_info": {
   "codemirror_mode": {
    "name": "ipython",
    "version": 3
   },
   "file_extension": ".py",
   "mimetype": "text/x-python",
   "name": "python",
   "nbconvert_exporter": "python",
   "pygments_lexer": "ipython3",
   "version": "3.8.5"
  }
 },
 "nbformat": 4,
 "nbformat_minor": 4
}
