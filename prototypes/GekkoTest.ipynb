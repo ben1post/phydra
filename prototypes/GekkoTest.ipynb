{
 "cells": [
  {
   "cell_type": "code",
   "execution_count": 4,
   "metadata": {},
   "outputs": [],
   "source": [
    "from gekko import GEKKO"
   ]
  },
  {
   "cell_type": "code",
   "execution_count": 5,
   "metadata": {},
   "outputs": [],
   "source": [
    "m = GEKKO(remote=False)"
   ]
  },
  {
   "cell_type": "code",
   "execution_count": 10,
   "metadata": {},
   "outputs": [],
   "source": [
    "N = m.SV(name='nutrient')"
   ]
  },
  {
   "cell_type": "code",
   "execution_count": 11,
   "metadata": {},
   "outputs": [
    {
     "data": {
      "text/plain": [
       "'a'"
      ]
     },
     "execution_count": 11,
     "metadata": {},
     "output_type": "execute_result"
    }
   ],
   "source": [
    "a.name"
   ]
  },
  {
   "cell_type": "code",
   "execution_count": null,
   "metadata": {},
   "outputs": [],
   "source": []
  },
  {
   "cell_type": "code",
   "execution_count": null,
   "metadata": {},
   "outputs": [],
   "source": []
  },
  {
   "cell_type": "raw",
   "metadata": {},
   "source": [
    "assembling equations for state variable N\n",
    "defaultdict(<class 'list'>, {'N': [(-((((1.0)*(((n)/((0.5+n))))))*(p))), (((n0-n))*((((hpos2+0.1))/(mld))))], 'P': [((((1.0)*(((n)/((0.5+n))))))*(p)), (-((p)*(0.15)))]})\n",
    "assembling equations for state variable P\n",
    "defaultdict(<class 'list'>, {'N': [(-((((1.0)*(((n)/((0.5+n))))))*(p))), (((n0-n))*((((hpos2+0.1))/(mld))))], 'P': [((((1.0)*(((n)/((0.5+n))))))*(p)), (-((p)*(0.15)))]})"
   ]
  },
  {
   "cell_type": "code",
   "execution_count": 6,
   "metadata": {},
   "outputs": [
    {
     "data": {
      "text/plain": [
       "array([   0,   10,   20,   30,   40,   50,   60,   70,   80,   90,  100,\n",
       "        110,  120,  130,  140,  150,  160,  170,  180,  190,  200,  210,\n",
       "        220,  230,  240,  250,  260,  270,  280,  290,  300,  310,  320,\n",
       "        330,  340,  350,  360,  370,  380,  390,  400,  410,  420,  430,\n",
       "        440,  450,  460,  470,  480,  490,  500,  510,  520,  530,  540,\n",
       "        550,  560,  570,  580,  590,  600,  610,  620,  630,  640,  650,\n",
       "        660,  670,  680,  690,  700,  710,  720,  730,  740,  750,  760,\n",
       "        770,  780,  790,  800,  810,  820,  830,  840,  850,  860,  870,\n",
       "        880,  890,  900,  910,  920,  930,  940,  950,  960,  970,  980,\n",
       "        990, 1000, 1010, 1020, 1030, 1040, 1050, 1060, 1070, 1080, 1090,\n",
       "       1100, 1110, 1120, 1130, 1140, 1150, 1160, 1170, 1180, 1190, 1200,\n",
       "       1210, 1220, 1230, 1240, 1250, 1260, 1270, 1280, 1290, 1300, 1310,\n",
       "       1320, 1330, 1340, 1350, 1360, 1370, 1380, 1390, 1400, 1410, 1420,\n",
       "       1430, 1440, 1450, 1460, 1470, 1480, 1490, 1500, 1510, 1520, 1530,\n",
       "       1540, 1550, 1560, 1570, 1580, 1590, 1600, 1610, 1620, 1630, 1640,\n",
       "       1650, 1660, 1670, 1680, 1690, 1700, 1710, 1720, 1730, 1740, 1750,\n",
       "       1760, 1770, 1780, 1790, 1800, 1810, 1820])"
      ]
     },
     "execution_count": 6,
     "metadata": {},
     "output_type": "execute_result"
    }
   ],
   "source": [
    "np.arange(0,365*5,10)"
   ]
  },
  {
   "cell_type": "code",
   "execution_count": 29,
   "metadata": {},
   "outputs": [],
   "source": [
    "\n",
    "# to measure process time\n",
    "import time as tm"
   ]
  },
  {
   "cell_type": "code",
   "execution_count": 32,
   "metadata": {},
   "outputs": [
    {
     "name": "stdout",
     "output_type": "stream",
     "text": [
      "Model was solved in 0.86 seconds\n"
     ]
    },
    {
     "data": {
      "text/plain": [
       "<matplotlib.legend.Legend at 0x11f9e76d0>"
      ]
     },
     "execution_count": 32,
     "metadata": {},
     "output_type": "execute_result"
    },
    {
     "data": {
      "image/png": "[encoded data removed]",
      "text/plain": [
       "<Figure size 432x288 with 1 Axes>"
      ]
     },
     "metadata": {
      "needs_background": "light"
     },
     "output_type": "display_data"
    }
   ],
   "source": [
    "import numpy as np\n",
    "from gekko import GEKKO\n",
    "from scipy.integrate import odeint\n",
    "import matplotlib.pyplot as plt\n",
    "\n",
    "m = GEKKO(remote=False)    # create GEKKO model\n",
    "\n",
    "halfsat_const = m.Param(0.1)\n",
    "N0 = m.Param(1.)\n",
    "inflow_rate = m.Param(0.1)\n",
    "mortality_rate = m.Param(0.1)\n",
    "\n",
    "N = m.SV(1, lb=0)\n",
    "P = m.SV(0.1, lb=0, ub=2)\n",
    "\n",
    "t = np.arange(0,10,.1)\n",
    "m.time = t\n",
    "\n",
    "# Growth under nutrient limitation is described via Monod / Michaelis-Menten kinetics\n",
    "nutlim = m.Intermediate(N/(N+halfsat_const)*P)\n",
    "N_influx = m.Intermediate(N0 * inflow_rate)\n",
    "mortality = m.Intermediate(P * mortality_rate)\n",
    "\n",
    "m.Equation(N.dt()==N_influx - nutlim)\n",
    "m.Equation(P.dt()==nutlim - mortality)\n",
    "\n",
    "m.options.NODES = 3\n",
    "m.options.IMODE = 7\n",
    "\n",
    "\n",
    "solve_start = tm.time()\n",
    "m.solve(disp=False)\n",
    "solve_end = tm.time()\n",
    "\n",
    "m.cleanup()\n",
    "print(f\"Model was solved in {round(solve_end - solve_start, 2)} seconds\")\n",
    "    \n",
    "plt.plot(m.time, N, label='N')\n",
    "plt.plot(m.time, P, label='P')\n",
    "plt.legend()"
   ]
  },
  {
   "cell_type": "code",
   "execution_count": 13,
   "metadata": {},
   "outputs": [
    {
     "ename": "TypeError",
     "evalue": "function() argument 'code' must be code, not str",
     "output_type": "error",
     "traceback": [
      "\u001b[0;31m---------------------------------------------------------------------------\u001b[0m",
      "\u001b[0;31mTypeError\u001b[0m                                 Traceback (most recent call last)",
      "\u001b[0;32m<ipython-input-13-b8e6e0583b30>\u001b[0m in \u001b[0;36m<module>\u001b[0;34m\u001b[0m\n\u001b[1;32m      1\u001b[0m \u001b[0;32mfrom\u001b[0m \u001b[0mgekko\u001b[0m \u001b[0;32mimport\u001b[0m \u001b[0mGEKKO\u001b[0m\u001b[0;34m\u001b[0m\u001b[0;34m\u001b[0m\u001b[0m\n\u001b[1;32m      2\u001b[0m \u001b[0;34m\u001b[0m\u001b[0m\n\u001b[0;32m----> 3\u001b[0;31m \u001b[0;32mclass\u001b[0m \u001b[0mEQ\u001b[0m\u001b[0;34m(\u001b[0m\u001b[0mGEKKO\u001b[0m\u001b[0;34m.\u001b[0m\u001b[0mEquation\u001b[0m\u001b[0;34m)\u001b[0m\u001b[0;34m:\u001b[0m\u001b[0;34m\u001b[0m\u001b[0;34m\u001b[0m\u001b[0m\n\u001b[0m\u001b[1;32m      4\u001b[0m     \u001b[0;32mpass\u001b[0m\u001b[0;34m\u001b[0m\u001b[0;34m\u001b[0m\u001b[0m\n",
      "\u001b[0;31mTypeError\u001b[0m: function() argument 'code' must be code, not str"
     ]
    }
   ],
   "source": [
    "from gekko import GEKKO\n",
    "\n",
    "class EQ(GEKKO.Equation):\n",
    "    pass"
   ]
  },
  {
   "cell_type": "code",
   "execution_count": null,
   "metadata": {},
   "outputs": [],
   "source": []
  }
 ],
 "metadata": {
  "kernelspec": {
   "display_name": "Python 3",
   "language": "python",
   "name": "python3"
  },
  "language_info": {
   "codemirror_mode": {
    "name": "ipython",
    "version": 3
   },
   "file_extension": ".py",
   "mimetype": "text/x-python",
   "name": "python",
   "nbconvert_exporter": "python",
   "pygments_lexer": "ipython3",
   "version": "3.8.3"
  }
 },
 "nbformat": 4,
 "nbformat_minor": 4
}
