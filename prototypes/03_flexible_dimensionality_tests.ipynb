{
 "cells": [
  {
   "cell_type": "markdown",
   "metadata": {},
   "source": [
    "# notebook for further prototyping:\n",
    "\n",
    "First code example:why I need to include intent='inout' for state, and have to add init process:"
   ]
  },
  {
   "cell_type": "code",
   "execution_count": 1,
   "metadata": {},
   "outputs": [],
   "source": [
    "import numpy as np\n",
    "import xsimlab as xs"
   ]
  },
  {
   "cell_type": "code",
   "execution_count": 2,
   "metadata": {},
   "outputs": [],
   "source": [
    "# first build 1.\n",
    "@xs.process\n",
    "class OneState:\n",
    "    \n",
    "    state = xs.variable(intent='inout')\n",
    "    \n",
    "    fluxes = xs.group('flux')\n",
    "    \n",
    "    @xs.runtime(args=\"step_delta\")\n",
    "    def run_step(self, dt):\n",
    "        self.delta = sum((v for v in self.fluxes)) * dt  # multiply by time step\n",
    "\n",
    "    def finalize_step(self):\n",
    "        self.state += self.delta\n",
    "\n",
    "@xs.process\n",
    "class OtherState(OneState):\n",
    "    state = xs.variable(intent='out')\n",
    "    \n",
    "    def initialize(self):\n",
    "        self.state = 0.1\n",
    "    \n",
    "    \n",
    "@xs.process\n",
    "class OneFlux:\n",
    "    \n",
    "    flux1 = xs.variable(intent='out', groups='flux')\n",
    "    \n",
    "    state1 = xs.foreign(OneState,'state')\n",
    "    \n",
    "    def run_step(self):\n",
    "        self.flux1 = 0.1 * self.state1"
   ]
  },
  {
   "cell_type": "code",
   "execution_count": 3,
   "metadata": {},
   "outputs": [],
   "source": [
    "# This is necessary when setting state intent 'inout', and reusing it in the Flux calculation as xs.foreign\n",
    "\n",
    "@xs.process\n",
    "class Init:\n",
    "    \n",
    "    state = xs.foreign(OneState,'state', intent='out')\n",
    "    \n",
    "    def initialize(self):\n",
    "        self.state = 0.1"
   ]
  },
  {
   "cell_type": "markdown",
   "metadata": {},
   "source": [
    "## this works:"
   ]
  },
  {
   "cell_type": "code",
   "execution_count": 4,
   "metadata": {},
   "outputs": [],
   "source": [
    "MinimalStateFluxModel = xs.Model({'State':OneState, 'Flux':OneFlux, 'Setup':Init})"
   ]
  },
  {
   "cell_type": "markdown",
   "metadata": {},
   "source": [
    "### this gives a cycle dependency error:"
   ]
  },
  {
   "cell_type": "code",
   "execution_count": 5,
   "metadata": {},
   "outputs": [
    {
     "ename": "RuntimeError",
     "evalue": "Cycle detected in process graph: State->Flux->State",
     "output_type": "error",
     "traceback": [
      "\u001b[0;31m---------------------------------------------------------------------------\u001b[0m",
      "\u001b[0;31mRuntimeError\u001b[0m                              Traceback (most recent call last)",
      "\u001b[0;32m<ipython-input-5-08e489b08ed3>\u001b[0m in \u001b[0;36m<module>\u001b[0;34m\u001b[0m\n\u001b[0;32m----> 1\u001b[0;31m \u001b[0mout_MinimalStateFluxModel\u001b[0m \u001b[0;34m=\u001b[0m \u001b[0mxs\u001b[0m\u001b[0;34m.\u001b[0m\u001b[0mModel\u001b[0m\u001b[0;34m(\u001b[0m\u001b[0;34m{\u001b[0m\u001b[0;34m'State'\u001b[0m\u001b[0;34m:\u001b[0m\u001b[0mOtherState\u001b[0m\u001b[0;34m,\u001b[0m \u001b[0;34m'Flux'\u001b[0m\u001b[0;34m:\u001b[0m\u001b[0mOneFlux\u001b[0m\u001b[0;34m}\u001b[0m\u001b[0;34m)\u001b[0m\u001b[0;34m\u001b[0m\u001b[0;34m\u001b[0m\u001b[0m\n\u001b[0m",
      "\u001b[0;32m~/opt/anaconda3/envs/xsimlab3/lib/python3.8/site-packages/xsimlab/model.py\u001b[0m in \u001b[0;36m__init__\u001b[0;34m(self, processes)\u001b[0m\n\u001b[1;32m    496\u001b[0m \u001b[0;34m\u001b[0m\u001b[0m\n\u001b[1;32m    497\u001b[0m         \u001b[0mself\u001b[0m\u001b[0;34m.\u001b[0m\u001b[0m_dep_processes\u001b[0m \u001b[0;34m=\u001b[0m \u001b[0mbuilder\u001b[0m\u001b[0;34m.\u001b[0m\u001b[0mget_process_dependencies\u001b[0m\u001b[0;34m(\u001b[0m\u001b[0;34m)\u001b[0m\u001b[0;34m\u001b[0m\u001b[0;34m\u001b[0m\u001b[0m\n\u001b[0;32m--> 498\u001b[0;31m         \u001b[0mself\u001b[0m\u001b[0;34m.\u001b[0m\u001b[0m_processes\u001b[0m \u001b[0;34m=\u001b[0m \u001b[0mbuilder\u001b[0m\u001b[0;34m.\u001b[0m\u001b[0mget_sorted_processes\u001b[0m\u001b[0;34m(\u001b[0m\u001b[0;34m)\u001b[0m\u001b[0;34m\u001b[0m\u001b[0;34m\u001b[0m\u001b[0m\n\u001b[0m\u001b[1;32m    499\u001b[0m \u001b[0;34m\u001b[0m\u001b[0m\n\u001b[1;32m    500\u001b[0m         \u001b[0msuper\u001b[0m\u001b[0;34m(\u001b[0m\u001b[0mModel\u001b[0m\u001b[0;34m,\u001b[0m \u001b[0mself\u001b[0m\u001b[0;34m)\u001b[0m\u001b[0;34m.\u001b[0m\u001b[0m__init__\u001b[0m\u001b[0;34m(\u001b[0m\u001b[0mself\u001b[0m\u001b[0;34m.\u001b[0m\u001b[0m_processes\u001b[0m\u001b[0;34m)\u001b[0m\u001b[0;34m\u001b[0m\u001b[0;34m\u001b[0m\u001b[0m\n",
      "\u001b[0;32m~/opt/anaconda3/envs/xsimlab3/lib/python3.8/site-packages/xsimlab/model.py\u001b[0m in \u001b[0;36mget_sorted_processes\u001b[0;34m(self)\u001b[0m\n\u001b[1;32m    436\u001b[0m     \u001b[0;32mdef\u001b[0m \u001b[0mget_sorted_processes\u001b[0m\u001b[0;34m(\u001b[0m\u001b[0mself\u001b[0m\u001b[0;34m)\u001b[0m\u001b[0;34m:\u001b[0m\u001b[0;34m\u001b[0m\u001b[0;34m\u001b[0m\u001b[0m\n\u001b[1;32m    437\u001b[0m         self._sorted_processes = OrderedDict(\n\u001b[0;32m--> 438\u001b[0;31m             \u001b[0;34m[\u001b[0m\u001b[0;34m(\u001b[0m\u001b[0mp_name\u001b[0m\u001b[0;34m,\u001b[0m \u001b[0mself\u001b[0m\u001b[0;34m.\u001b[0m\u001b[0m_processes_obj\u001b[0m\u001b[0;34m[\u001b[0m\u001b[0mp_name\u001b[0m\u001b[0;34m]\u001b[0m\u001b[0;34m)\u001b[0m \u001b[0;32mfor\u001b[0m \u001b[0mp_name\u001b[0m \u001b[0;32min\u001b[0m \u001b[0mself\u001b[0m\u001b[0;34m.\u001b[0m\u001b[0m_sort_processes\u001b[0m\u001b[0;34m(\u001b[0m\u001b[0;34m)\u001b[0m\u001b[0;34m]\u001b[0m\u001b[0;34m\u001b[0m\u001b[0;34m\u001b[0m\u001b[0m\n\u001b[0m\u001b[1;32m    439\u001b[0m         )\n\u001b[1;32m    440\u001b[0m         \u001b[0;32mreturn\u001b[0m \u001b[0mself\u001b[0m\u001b[0;34m.\u001b[0m\u001b[0m_sorted_processes\u001b[0m\u001b[0;34m\u001b[0m\u001b[0;34m\u001b[0m\u001b[0m\n",
      "\u001b[0;32m~/opt/anaconda3/envs/xsimlab3/lib/python3.8/site-packages/xsimlab/model.py\u001b[0m in \u001b[0;36m_sort_processes\u001b[0;34m(self)\u001b[0m\n\u001b[1;32m    418\u001b[0m                             \u001b[0mcycle\u001b[0m\u001b[0;34m.\u001b[0m\u001b[0mreverse\u001b[0m\u001b[0;34m(\u001b[0m\u001b[0;34m)\u001b[0m\u001b[0;34m\u001b[0m\u001b[0;34m\u001b[0m\u001b[0m\n\u001b[1;32m    419\u001b[0m                             \u001b[0mcycle\u001b[0m \u001b[0;34m=\u001b[0m \u001b[0;34m\"->\"\u001b[0m\u001b[0;34m.\u001b[0m\u001b[0mjoin\u001b[0m\u001b[0;34m(\u001b[0m\u001b[0mcycle\u001b[0m\u001b[0;34m)\u001b[0m\u001b[0;34m\u001b[0m\u001b[0;34m\u001b[0m\u001b[0m\n\u001b[0;32m--> 420\u001b[0;31m                             raise RuntimeError(\n\u001b[0m\u001b[1;32m    421\u001b[0m                                 \u001b[0;34mf\"Cycle detected in process graph: {cycle}\"\u001b[0m\u001b[0;34m\u001b[0m\u001b[0;34m\u001b[0m\u001b[0m\n\u001b[1;32m    422\u001b[0m                             )\n",
      "\u001b[0;31mRuntimeError\u001b[0m: Cycle detected in process graph: State->Flux->State"
     ]
    }
   ],
   "source": [
    "out_MinimalStateFluxModel = xs.Model({'State':OtherState, 'Flux':OneFlux})"
   ]
  },
  {
   "cell_type": "markdown",
   "metadata": {},
   "source": [
    "### Model runs fine & as expected with intent=`inout`"
   ]
  },
  {
   "cell_type": "code",
   "execution_count": 6,
   "metadata": {},
   "outputs": [],
   "source": [
    "in_ds = xs.create_setup(\n",
    "    model=MinimalStateFluxModel,\n",
    "    clocks={   \n",
    "        'time': np.linspace(0,2,30),\n",
    "    },\n",
    "    master_clock='time',\n",
    "    #input_vars={'State__state':0.2},\n",
    "    output_vars={'State__state':'time'}\n",
    "                 )"
   ]
  },
  {
   "cell_type": "code",
   "execution_count": 7,
   "metadata": {},
   "outputs": [],
   "source": [
    "with MinimalStateFluxModel:\n",
    "    out_ds = in_ds.xsimlab.run()"
   ]
  },
  {
   "cell_type": "code",
   "execution_count": 8,
   "metadata": {},
   "outputs": [
    {
     "name": "stdout",
     "output_type": "stream",
     "text": [
      "<xarray.Dataset>\n",
      "Dimensions:       (time: 30)\n",
      "Coordinates:\n",
      "  * time          (time) float64 0.0 0.06897 0.1379 0.2069 ... 1.862 1.931 2.0\n",
      "Data variables:\n",
      "    State__state  (time) float64 0.1 0.1007 0.1014 ... 0.1204 0.1212 0.1221\n"
     ]
    }
   ],
   "source": [
    "print(out_ds)"
   ]
  },
  {
   "cell_type": "code",
   "execution_count": null,
   "metadata": {},
   "outputs": [],
   "source": []
  },
  {
   "cell_type": "code",
   "execution_count": null,
   "metadata": {},
   "outputs": [],
   "source": []
  },
  {
   "cell_type": "code",
   "execution_count": null,
   "metadata": {},
   "outputs": [],
   "source": []
  },
  {
   "cell_type": "code",
   "execution_count": null,
   "metadata": {},
   "outputs": [],
   "source": []
  },
  {
   "cell_type": "code",
   "execution_count": null,
   "metadata": {},
   "outputs": [],
   "source": []
  },
  {
   "cell_type": "code",
   "execution_count": null,
   "metadata": {},
   "outputs": [],
   "source": []
  },
  {
   "cell_type": "markdown",
   "metadata": {},
   "source": [
    "# further prototyping:"
   ]
  },
  {
   "cell_type": "markdown",
   "metadata": {},
   "source": [
    "Questions:\n",
    "1. how to best handle the process class constructor, for my purposes \n",
    "(i.e. to be able to flexibily initialize base components in different dimensions)"
   ]
  },
  {
   "cell_type": "markdown",
   "metadata": {},
   "source": [
    "# below here, test process class factory:\n",
    "\n",
    "i.e. Question 1"
   ]
  },
  {
   "cell_type": "markdown",
   "metadata": {},
   "source": [
    "IDEA: I can use test-case dimensions!\n",
    "\n",
    "PhysEnv collects label and state of each component, via xs.group!()\n",
    "\n",
    "and distributes fluxes from there! it collects forcing fluxes, and passes them down (thanks to xs.group() labels.\n",
    "\n",
    "as base component, something like this:\n",
    "@xs.process\n",
    "class Component:\n",
    "    \"\"\"Base class for a component of a ecosystem.\"\"\"\n",
    "\n",
    "    label = xs.variable(groups='c_labels', description='component label')\n",
    "    \n",
    "    c0 = xs.variable(\n",
    "        # only slab model (scalar)\n",
    "        dims=(), \n",
    "        # support slab + 2D models ?\n",
    "        #dims=[(), ('lat', 'lon')],\n",
    "        groups='c_c0',\n",
    "        description='inital concentration'\n",
    "    )"
   ]
  },
  {
   "cell_type": "raw",
   "metadata": {},
   "source": [
    "@xs.process\n",
    "class AllComponents:\n",
    "    \"\"\"Group some component propreties as 1-d arrays.\"\"\"\n",
    "    \n",
    "    c_labels = xs.group('c_labels')\n",
    "    c_c0 = xs.group('c_c0')\n",
    "    \n",
    "    labels = xs.variable(\n",
    "        dims='component',\n",
    "        intent='out',\n",
    "        description='component labels'\n",
    "    )\n",
    "    c0 = xs.variable(\n",
    "        dims='component',\n",
    "        intent='out',\n",
    "        description='initial concentration'\n",
    "    )\n",
    "    \n",
    "    # use component labels as xarray coordinate/index\n",
    "    component = xs.index(\n",
    "        dims='component',\n",
    "        description='component label'\n",
    "    )\n",
    "    \n",
    "    def initialize(self):\n",
    "        self.labels = np.array(list(self.c_labels))\n",
    "        self.component = self.labels\n",
    "        self.c0 = np.array(list(self.c_c0), dtype=np.double)"
   ]
  },
  {
   "cell_type": "markdown",
   "metadata": {},
   "source": [
    "# also the class factory"
   ]
  },
  {
   "cell_type": "raw",
   "metadata": {},
   "source": [
    "import attr\n",
    "\n",
    "\n",
    "@xs.process\n",
    "class BasePhyto:\n",
    "    # ...\n",
    "\n",
    "\n",
    "def make_phyto_cls(new_cls_name, arg1, arg2):\n",
    "    attrib_dict = attr.fields_dict(BasePhyto).items()\n",
    "\n",
    "    attrib_dict.update(...)   # some logic to re-define some variables\n",
    "\n",
    "    new_cls = attr.make_class(\n",
    "        new_cls_name, \n",
    "        attrib_dict,\n",
    "        bases=(BasePhyto,),\n",
    "        init=False,\n",
    "        repr=False\n",
    "    )\n",
    "\n",
    "    return xs.process(new_cls)\n",
    "\n",
    "\n",
    "my_model = xs.Model({\n",
    "    'p1': make_phyto_cls('Phyto1', arg1, arg2),\n",
    "    'p2': make_phyto_cls('Phyto2', arg1, arg2)\n",
    "})"
   ]
  },
  {
   "cell_type": "markdown",
   "metadata": {},
   "source": [
    "## now how to combine this in a meaningful way:\n",
    "\n",
    "- PhysEnv collects array of components and handles forcing fluxes and parameters\n",
    "(perhaps these parameters can be handled flexibly via labels & dicts)\n",
    "\n",
    "- Class Factory sets up Basic Components, so that this flexibility is possible"
   ]
  },
  {
   "cell_type": "code",
   "execution_count": 174,
   "metadata": {},
   "outputs": [
    {
     "data": {
      "text/plain": [
       "__main__.Test2"
      ]
     },
     "execution_count": 174,
     "metadata": {},
     "output_type": "execute_result"
    }
   ],
   "source": [
    "import attr\n",
    "import xsimlab as xs\n",
    "\n",
    "@xs.process\n",
    "class Test:\n",
    "    TestVar = xs.variable(default=1)\n",
    "   \n",
    "attrib_key_list = list(attr.fields_dict(Test).keys())\n",
    "\n",
    "new_cls = attr.make_class(\n",
    "         'Test2',\n",
    "        attrib_key_list,\n",
    "        bases=(BasePhyto,),\n",
    "        init=False,\n",
    "        repr=False\n",
    "    )\n",
    "\n",
    "new_cls"
   ]
  },
  {
   "cell_type": "code",
   "execution_count": 165,
   "metadata": {},
   "outputs": [],
   "source": [
    "# first step:\n",
    "# get a simple class factory to work\n",
    "\n",
    "import attr\n",
    "\n",
    "@xs.process\n",
    "class BasePhyto:\n",
    "\n",
    "    TestVar = xs.variable(default=1)\n",
    "    \n",
    "    @property\n",
    "    def calc(self):\n",
    "        self.TestVar = self.TestVar / 3\n",
    "    \n",
    "    def initialize(self):\n",
    "        print(self.TestVar)\n",
    "        self.calc\n",
    "        print(self.TestVar)\n",
    "        \n",
    "        "
   ]
  },
  {
   "cell_type": "code",
   "execution_count": 166,
   "metadata": {},
   "outputs": [],
   "source": [
    "attrib_list = list(attr.fields_dict(BasePhyto).keys()) #.items()"
   ]
  },
  {
   "cell_type": "code",
   "execution_count": 167,
   "metadata": {},
   "outputs": [
    {
     "data": {
      "text/plain": [
       "['TestVar']"
      ]
     },
     "execution_count": 167,
     "metadata": {},
     "output_type": "execute_result"
    }
   ],
   "source": [
    "list(attrib_dict)"
   ]
  },
  {
   "cell_type": "code",
   "execution_count": 168,
   "metadata": {},
   "outputs": [
    {
     "data": {
      "text/plain": [
       "['TestVar']"
      ]
     },
     "execution_count": 168,
     "metadata": {},
     "output_type": "execute_result"
    }
   ],
   "source": [
    "attrib_dict"
   ]
  },
  {
   "cell_type": "code",
   "execution_count": 169,
   "metadata": {},
   "outputs": [],
   "source": [
    "new_cls = attr.make_class(\n",
    "         'B',\n",
    "        attrib_dict,\n",
    "        bases=(BasePhyto,),\n",
    "        #attrib_dict#,\n",
    "        init=False,\n",
    "        repr=False\n",
    "    )"
   ]
  },
  {
   "cell_type": "code",
   "execution_count": 170,
   "metadata": {},
   "outputs": [
    {
     "name": "stdout",
     "output_type": "stream",
     "text": [
      "5\n",
      "1.6666666666666667\n"
     ]
    }
   ],
   "source": [
    "new_cls(TestVar=5).initialize()"
   ]
  },
  {
   "cell_type": "code",
   "execution_count": 133,
   "metadata": {},
   "outputs": [],
   "source": [
    "#attrib_dict = attr.fields_dict(OneState)"
   ]
  },
  {
   "cell_type": "code",
   "execution_count": 134,
   "metadata": {},
   "outputs": [
    {
     "data": {
      "text/plain": [
       "['TestVar']"
      ]
     },
     "execution_count": 134,
     "metadata": {},
     "output_type": "execute_result"
    }
   ],
   "source": [
    "list(attrib_dict)"
   ]
  },
  {
   "cell_type": "code",
   "execution_count": 135,
   "metadata": {},
   "outputs": [],
   "source": [
    "@attr.s\n",
    "class A(object):\n",
    "     x = attr.ib()\n",
    "     y = attr.ib()"
   ]
  },
  {
   "cell_type": "code",
   "execution_count": 136,
   "metadata": {},
   "outputs": [],
   "source": [
    "attrib_dict = attr.fields_dict(A)#.items()"
   ]
  },
  {
   "cell_type": "code",
   "execution_count": 137,
   "metadata": {},
   "outputs": [
    {
     "data": {
      "text/plain": [
       "attr._make.Attribute"
      ]
     },
     "execution_count": 137,
     "metadata": {},
     "output_type": "execute_result"
    }
   ],
   "source": [
    "type(attrib_dict['x'])"
   ]
  },
  {
   "cell_type": "code",
   "execution_count": 138,
   "metadata": {},
   "outputs": [],
   "source": [
    "new_cls = attr.make_class(\n",
    "         'B',\n",
    "        ['x','y'],\n",
    "        bases=(A,),\n",
    "        #attrib_dict#,\n",
    "        init=False,\n",
    "        repr=False\n",
    "    )"
   ]
  },
  {
   "cell_type": "code",
   "execution_count": 124,
   "metadata": {},
   "outputs": [
    {
     "data": {
      "text/plain": [
       "B(x=1, y=2)"
      ]
     },
     "execution_count": 124,
     "metadata": {},
     "output_type": "execute_result"
    }
   ],
   "source": [
    "new_cls(x=1,y=2)"
   ]
  },
  {
   "cell_type": "code",
   "execution_count": 15,
   "metadata": {},
   "outputs": [],
   "source": [
    "def make_phyto_cls(new_cls_name): #, arg1, arg2):\n",
    "    attrib_dict = attr.fields_dict(BasePhyto).items()\n",
    "\n",
    "    #attrib_dict.update(...)   # some logic to re-define some variables\n",
    "\n",
    "    new_cls = attr.make_class(\n",
    "        new_cls_name, \n",
    "        attrib_dict,\n",
    "        bases=(BasePhyto,),\n",
    "        init=False,\n",
    "        repr=False\n",
    "    )\n",
    "\n",
    "    return xs.process(new_cls)"
   ]
  },
  {
   "cell_type": "code",
   "execution_count": 16,
   "metadata": {},
   "outputs": [],
   "source": [
    "arg1 = [1]\n",
    "arg2 = [2]"
   ]
  },
  {
   "cell_type": "code",
   "execution_count": 17,
   "metadata": {},
   "outputs": [
    {
     "ename": "TypeError",
     "evalue": "attrs argument must be a dict or a list.",
     "output_type": "error",
     "traceback": [
      "\u001b[0;31m---------------------------------------------------------------------------\u001b[0m",
      "\u001b[0;31mTypeError\u001b[0m                                 Traceback (most recent call last)",
      "\u001b[0;32m<ipython-input-17-3a40952c1436>\u001b[0m in \u001b[0;36m<module>\u001b[0;34m\u001b[0m\n\u001b[1;32m      1\u001b[0m my_model = xs.Model({\n\u001b[0;32m----> 2\u001b[0;31m     \u001b[0;34m'p1'\u001b[0m\u001b[0;34m:\u001b[0m \u001b[0mmake_phyto_cls\u001b[0m\u001b[0;34m(\u001b[0m\u001b[0;34m'Phyto1'\u001b[0m\u001b[0;34m)\u001b[0m\u001b[0;34m,\u001b[0m \u001b[0;31m#, arg1, arg2),\u001b[0m\u001b[0;34m\u001b[0m\u001b[0;34m\u001b[0m\u001b[0m\n\u001b[0m\u001b[1;32m      3\u001b[0m     \u001b[0;34m'p2'\u001b[0m\u001b[0;34m:\u001b[0m \u001b[0mmake_phyto_cls\u001b[0m\u001b[0;34m(\u001b[0m\u001b[0;34m'Phyto2'\u001b[0m\u001b[0;34m)\u001b[0m \u001b[0;31m#, arg1, arg2)\u001b[0m\u001b[0;34m\u001b[0m\u001b[0;34m\u001b[0m\u001b[0m\n\u001b[1;32m      4\u001b[0m })\n",
      "\u001b[0;32m<ipython-input-15-34142bc8c4ee>\u001b[0m in \u001b[0;36mmake_phyto_cls\u001b[0;34m(new_cls_name)\u001b[0m\n\u001b[1;32m      4\u001b[0m     \u001b[0;31m#attrib_dict.update(...)   # some logic to re-define some variables\u001b[0m\u001b[0;34m\u001b[0m\u001b[0;34m\u001b[0m\u001b[0;34m\u001b[0m\u001b[0m\n\u001b[1;32m      5\u001b[0m \u001b[0;34m\u001b[0m\u001b[0m\n\u001b[0;32m----> 6\u001b[0;31m     new_cls = attr.make_class(\n\u001b[0m\u001b[1;32m      7\u001b[0m         \u001b[0mnew_cls_name\u001b[0m\u001b[0;34m,\u001b[0m\u001b[0;34m\u001b[0m\u001b[0;34m\u001b[0m\u001b[0m\n\u001b[1;32m      8\u001b[0m         \u001b[0mattrib_dict\u001b[0m\u001b[0;34m,\u001b[0m\u001b[0;34m\u001b[0m\u001b[0;34m\u001b[0m\u001b[0m\n",
      "\u001b[0;32m~/opt/anaconda3/envs/xsimlab3/lib/python3.8/site-packages/attr/_make.py\u001b[0m in \u001b[0;36mmake_class\u001b[0;34m(name, attrs, bases, **attributes_arguments)\u001b[0m\n\u001b[1;32m   2100\u001b[0m         \u001b[0mcls_dict\u001b[0m \u001b[0;34m=\u001b[0m \u001b[0mdict\u001b[0m\u001b[0;34m(\u001b[0m\u001b[0;34m(\u001b[0m\u001b[0ma\u001b[0m\u001b[0;34m,\u001b[0m \u001b[0mattrib\u001b[0m\u001b[0;34m(\u001b[0m\u001b[0;34m)\u001b[0m\u001b[0;34m)\u001b[0m \u001b[0;32mfor\u001b[0m \u001b[0ma\u001b[0m \u001b[0;32min\u001b[0m \u001b[0mattrs\u001b[0m\u001b[0;34m)\u001b[0m\u001b[0;34m\u001b[0m\u001b[0;34m\u001b[0m\u001b[0m\n\u001b[1;32m   2101\u001b[0m     \u001b[0;32melse\u001b[0m\u001b[0;34m:\u001b[0m\u001b[0;34m\u001b[0m\u001b[0;34m\u001b[0m\u001b[0m\n\u001b[0;32m-> 2102\u001b[0;31m         \u001b[0;32mraise\u001b[0m \u001b[0mTypeError\u001b[0m\u001b[0;34m(\u001b[0m\u001b[0;34m\"attrs argument must be a dict or a list.\"\u001b[0m\u001b[0;34m)\u001b[0m\u001b[0;34m\u001b[0m\u001b[0;34m\u001b[0m\u001b[0m\n\u001b[0m\u001b[1;32m   2103\u001b[0m \u001b[0;34m\u001b[0m\u001b[0m\n\u001b[1;32m   2104\u001b[0m     \u001b[0mpost_init\u001b[0m \u001b[0;34m=\u001b[0m \u001b[0mcls_dict\u001b[0m\u001b[0;34m.\u001b[0m\u001b[0mpop\u001b[0m\u001b[0;34m(\u001b[0m\u001b[0;34m\"__attrs_post_init__\"\u001b[0m\u001b[0;34m,\u001b[0m \u001b[0;32mNone\u001b[0m\u001b[0;34m)\u001b[0m\u001b[0;34m\u001b[0m\u001b[0;34m\u001b[0m\u001b[0m\n",
      "\u001b[0;31mTypeError\u001b[0m: attrs argument must be a dict or a list."
     ]
    }
   ],
   "source": [
    "my_model = xs.Model({\n",
    "    'p1': make_phyto_cls('Phyto1'), #, arg1, arg2),\n",
    "    'p2': make_phyto_cls('Phyto2') #, arg1, arg2)\n",
    "})"
   ]
  },
  {
   "cell_type": "code",
   "execution_count": null,
   "metadata": {},
   "outputs": [],
   "source": []
  },
  {
   "cell_type": "code",
   "execution_count": 78,
   "metadata": {},
   "outputs": [],
   "source": [
    "C = attr.make_class(\"C\", {\"x\": attr.ib(default=42),\n",
    "                        \"y\": attr.ib(default=attr.Factory(list))},\n",
    "                    repr=False)"
   ]
  },
  {
   "cell_type": "code",
   "execution_count": 80,
   "metadata": {},
   "outputs": [
    {
     "data": {
      "text/plain": [
       "{'x': Attribute(name='x', default=42, validator=None, repr=True, eq=True, order=True, hash=None, init=True, metadata=mappingproxy({}), type=None, converter=None, kw_only=False),\n",
       " 'y': Attribute(name='y', default=Factory(factory=<class 'list'>, takes_self=False), validator=None, repr=True, eq=True, order=True, hash=None, init=True, metadata=mappingproxy({}), type=None, converter=None, kw_only=False)}"
      ]
     },
     "execution_count": 80,
     "metadata": {},
     "output_type": "execute_result"
    }
   ],
   "source": [
    "attr.fields_dict(C)"
   ]
  },
  {
   "cell_type": "code",
   "execution_count": null,
   "metadata": {},
   "outputs": [],
   "source": []
  }
 ],
 "metadata": {
  "kernelspec": {
   "display_name": "Python 3",
   "language": "python",
   "name": "python3"
  },
  "language_info": {
   "codemirror_mode": {
    "name": "ipython",
    "version": 3
   },
   "file_extension": ".py",
   "mimetype": "text/x-python",
   "name": "python",
   "nbconvert_exporter": "python",
   "pygments_lexer": "ipython3",
   "version": "3.8.3"
  }
 },
 "nbformat": 4,
 "nbformat_minor": 4
}
