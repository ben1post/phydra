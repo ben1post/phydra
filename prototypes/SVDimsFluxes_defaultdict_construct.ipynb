{
 "cells": [
  {
   "cell_type": "code",
   "execution_count": null,
   "metadata": {},
   "outputs": [],
   "source": [
    "SVDimFluxes"
   ]
  },
  {
   "cell_type": "markdown",
   "metadata": {},
   "source": [
    "# okay, so what kind of behaviour do i need?\n",
    "\n",
    "1. initialize as object class e.g. fluxdimstorage = SVDimFluxes()\n",
    "2. then it can be set up in the correct dims in the component class\n",
    "3. and then it can be easily appended to each element list, by a __setitem__ function"
   ]
  },
  {
   "cell_type": "code",
   "execution_count": 5,
   "metadata": {},
   "outputs": [],
   "source": [
    "from collections import defaultdict"
   ]
  },
  {
   "cell_type": "code",
   "execution_count": 6,
   "metadata": {},
   "outputs": [],
   "source": [
    "import numpy as np"
   ]
  },
  {
   "cell_type": "code",
   "execution_count": 14,
   "metadata": {},
   "outputs": [],
   "source": [
    "class SVDimFluxes:\n",
    "    \n",
    "    def __init__(self):\n",
    "        self.context = defaultdict(object)\n",
    "        self.name = 'SV Dimensional Fluxes'\n",
    "        self.shape = 'Not Initialized'\n",
    "        \n",
    "    def __getitem__(self, key):\n",
    "        return self.context[key]\n",
    "\n",
    "    def __repr__(self):\n",
    "        return f\"{self.name} stores: {self.context.items()}\"\n",
    "    \n",
    "    def setup_dims(self, key, fulldims):\n",
    "        self.shape = np.zeros(fulldims)\n",
    "        self.context[key] = np.full(fulldims, object)\n",
    "        \n",
    "        it = np.nditer(self.context[key], flags=['multi_index','refs_ok'])\n",
    "        while not it.finished:\n",
    "            self.context[key][it.multi_index] = list()\n",
    "            it.iternext()\n",
    "    \n",
    "    def apply_across_dims(self, key, newvalue):\n",
    "        if np.array(newvalue).size == 1:\n",
    "            it = np.nditer(self.shape, flags=['multi_index','refs_ok'])\n",
    "            while not it.finished:\n",
    "                self.context[key][it.multi_index].append(newvalue)\n",
    "                it.iternext()\n",
    "        else:\n",
    "            try:\n",
    "                x = newvalue.size\n",
    "            except AttributeError:\n",
    "                raise TypeError(f\"When supplying dimensional fluxes, make sure to have them in np.array format, not {type(newvalue)}\")\n",
    "\n",
    "            if np.array(newvalue).size == self.shape.size:\n",
    "                it = np.nditer(self.shape, flags=['multi_index','refs_ok'])\n",
    "                while not it.finished:\n",
    "                    self.context[key][it.multi_index].append(newvalue[it.multi_index])\n",
    "                    it.iternext()\n",
    "            else:\n",
    "                raise BaseException(f\"dimensions of value do not match SV dims \\n \\\n",
    "                      needs to be scalar or a numpy array of shape {self.shape.shape}\")"
   ]
  },
  {
   "cell_type": "code",
   "execution_count": 15,
   "metadata": {},
   "outputs": [],
   "source": [
    "testdims = SVDimFluxes()"
   ]
  },
  {
   "cell_type": "code",
   "execution_count": 31,
   "metadata": {},
   "outputs": [
    {
     "ename": "TypeError",
     "evalue": "'SVDimFluxes' object does not support item assignment",
     "output_type": "error",
     "traceback": [
      "\u001b[0;31m---------------------------------------------------------------------------\u001b[0m",
      "\u001b[0;31mTypeError\u001b[0m                                 Traceback (most recent call last)",
      "\u001b[0;32m<ipython-input-31-92bbc2374b1f>\u001b[0m in \u001b[0;36m<module>\u001b[0;34m\u001b[0m\n\u001b[0;32m----> 1\u001b[0;31m \u001b[0mtestdims\u001b[0m\u001b[0;34m[\u001b[0m\u001b[0;34m's'\u001b[0m\u001b[0;34m]\u001b[0m \u001b[0;34m=\u001b[0m \u001b[0;36m1\u001b[0m\u001b[0;34m\u001b[0m\u001b[0;34m\u001b[0m\u001b[0m\n\u001b[0m",
      "\u001b[0;31mTypeError\u001b[0m: 'SVDimFluxes' object does not support item assignment"
     ]
    }
   ],
   "source": [
    "testdims['s'] = 1"
   ]
  },
  {
   "cell_type": "code",
   "execution_count": 16,
   "metadata": {},
   "outputs": [],
   "source": [
    "shape = (2,2)\n",
    "fulldimmz = np.zeros(shape)\n",
    "testdims.setup_dims('P', shape)\n",
    "\n",
    "testdims.setup_dims('Q', shape)"
   ]
  },
  {
   "cell_type": "code",
   "execution_count": 17,
   "metadata": {},
   "outputs": [
    {
     "data": {
      "text/plain": [
       "SV Dimensional Fluxes stores: dict_items([('P', array([[list([]), list([])],\n",
       "       [list([]), list([])]], dtype=object)), ('Q', array([[list([]), list([])],\n",
       "       [list([]), list([])]], dtype=object))])"
      ]
     },
     "execution_count": 17,
     "metadata": {},
     "output_type": "execute_result"
    }
   ],
   "source": [
    "testdims"
   ]
  },
  {
   "cell_type": "code",
   "execution_count": 29,
   "metadata": {},
   "outputs": [],
   "source": [
    "testdims.apply_across_dims('P',np.full(shape,'sd')) \n",
    "testdims.apply_across_dims('P',2) "
   ]
  },
  {
   "cell_type": "code",
   "execution_count": 30,
   "metadata": {},
   "outputs": [
    {
     "data": {
      "text/plain": [
       "SV Dimensional Fluxes stores: dict_items([('P', array([[list(['sd', 2, 'sd', 2, 'sd', 2, 'sd', 2, 'sd', 2, 'sd', 2]),\n",
       "        list(['sd', 2, 'sd', 2, 'sd', 2, 'sd', 2, 'sd', 2, 'sd', 2])],\n",
       "       [list(['sd', 2, 'sd', 2, 'sd', 2, 'sd', 2, 'sd', 2, 'sd', 2]),\n",
       "        list(['sd', 2, 'sd', 2, 'sd', 2, 'sd', 2, 'sd', 2, 'sd', 2])]],\n",
       "      dtype=object)), ('Q', array([[list([]), list([])],\n",
       "       [list([]), list([])]], dtype=object))])"
      ]
     },
     "execution_count": 30,
     "metadata": {},
     "output_type": "execute_result"
    }
   ],
   "source": [
    "testdims"
   ]
  },
  {
   "cell_type": "code",
   "execution_count": 20,
   "metadata": {},
   "outputs": [
    {
     "ename": "TypeError",
     "evalue": "When supplying dimensional fluxes, make sure to have them in np.array format, not <class 'list'>",
     "output_type": "error",
     "traceback": [
      "\u001b[0;31m---------------------------------------------------------------------------\u001b[0m",
      "\u001b[0;31mAttributeError\u001b[0m                            Traceback (most recent call last)",
      "\u001b[0;32m<ipython-input-14-2f0ad5237b2d>\u001b[0m in \u001b[0;36mapply_across_dims\u001b[0;34m(self, key, newvalue)\u001b[0m\n\u001b[1;32m     30\u001b[0m             \u001b[0;32mtry\u001b[0m\u001b[0;34m:\u001b[0m\u001b[0;34m\u001b[0m\u001b[0;34m\u001b[0m\u001b[0m\n\u001b[0;32m---> 31\u001b[0;31m                 \u001b[0mx\u001b[0m \u001b[0;34m=\u001b[0m \u001b[0mnewvalue\u001b[0m\u001b[0;34m.\u001b[0m\u001b[0msize\u001b[0m\u001b[0;34m\u001b[0m\u001b[0;34m\u001b[0m\u001b[0m\n\u001b[0m\u001b[1;32m     32\u001b[0m             \u001b[0;32mexcept\u001b[0m \u001b[0mAttributeError\u001b[0m\u001b[0;34m:\u001b[0m\u001b[0;34m\u001b[0m\u001b[0;34m\u001b[0m\u001b[0m\n",
      "\u001b[0;31mAttributeError\u001b[0m: 'list' object has no attribute 'size'",
      "\nDuring handling of the above exception, another exception occurred:\n",
      "\u001b[0;31mTypeError\u001b[0m                                 Traceback (most recent call last)",
      "\u001b[0;32m<ipython-input-20-8131628e3273>\u001b[0m in \u001b[0;36m<module>\u001b[0;34m\u001b[0m\n\u001b[0;32m----> 1\u001b[0;31m \u001b[0mtestdims\u001b[0m\u001b[0;34m.\u001b[0m\u001b[0mapply_across_dims\u001b[0m\u001b[0;34m(\u001b[0m\u001b[0;34m'P'\u001b[0m\u001b[0;34m,\u001b[0m\u001b[0;34m[\u001b[0m\u001b[0;36m2\u001b[0m\u001b[0;34m,\u001b[0m\u001b[0;36m3\u001b[0m\u001b[0;34m,\u001b[0m\u001b[0;36m4\u001b[0m\u001b[0;34m,\u001b[0m\u001b[0;36m5\u001b[0m\u001b[0;34m]\u001b[0m\u001b[0;34m)\u001b[0m\u001b[0;34m\u001b[0m\u001b[0;34m\u001b[0m\u001b[0m\n\u001b[0m",
      "\u001b[0;32m<ipython-input-14-2f0ad5237b2d>\u001b[0m in \u001b[0;36mapply_across_dims\u001b[0;34m(self, key, newvalue)\u001b[0m\n\u001b[1;32m     31\u001b[0m                 \u001b[0mx\u001b[0m \u001b[0;34m=\u001b[0m \u001b[0mnewvalue\u001b[0m\u001b[0;34m.\u001b[0m\u001b[0msize\u001b[0m\u001b[0;34m\u001b[0m\u001b[0;34m\u001b[0m\u001b[0m\n\u001b[1;32m     32\u001b[0m             \u001b[0;32mexcept\u001b[0m \u001b[0mAttributeError\u001b[0m\u001b[0;34m:\u001b[0m\u001b[0;34m\u001b[0m\u001b[0;34m\u001b[0m\u001b[0m\n\u001b[0;32m---> 33\u001b[0;31m                 \u001b[0;32mraise\u001b[0m \u001b[0mTypeError\u001b[0m\u001b[0;34m(\u001b[0m\u001b[0;34mf\"When supplying dimensional fluxes, make sure to have them in np.array format, not {type(newvalue)}\"\u001b[0m\u001b[0;34m)\u001b[0m\u001b[0;34m\u001b[0m\u001b[0;34m\u001b[0m\u001b[0m\n\u001b[0m\u001b[1;32m     34\u001b[0m \u001b[0;34m\u001b[0m\u001b[0m\n\u001b[1;32m     35\u001b[0m             \u001b[0;32mif\u001b[0m \u001b[0mnp\u001b[0m\u001b[0;34m.\u001b[0m\u001b[0marray\u001b[0m\u001b[0;34m(\u001b[0m\u001b[0mnewvalue\u001b[0m\u001b[0;34m)\u001b[0m\u001b[0;34m.\u001b[0m\u001b[0msize\u001b[0m \u001b[0;34m==\u001b[0m \u001b[0mself\u001b[0m\u001b[0;34m.\u001b[0m\u001b[0mshape\u001b[0m\u001b[0;34m.\u001b[0m\u001b[0msize\u001b[0m\u001b[0;34m:\u001b[0m\u001b[0;34m\u001b[0m\u001b[0;34m\u001b[0m\u001b[0m\n",
      "\u001b[0;31mTypeError\u001b[0m: When supplying dimensional fluxes, make sure to have them in np.array format, not <class 'list'>"
     ]
    }
   ],
   "source": [
    "testdims.apply_across_dims('P',[2,3,4,5]) "
   ]
  },
  {
   "cell_type": "code",
   "execution_count": 57,
   "metadata": {},
   "outputs": [],
   "source": [
    "testdims['A'] = 'S'"
   ]
  },
  {
   "cell_type": "code",
   "execution_count": 58,
   "metadata": {},
   "outputs": [
    {
     "data": {
      "text/plain": [
       "SV Dimensional Fluxes stores: dict_items([('A', 'S')])"
      ]
     },
     "execution_count": 58,
     "metadata": {},
     "output_type": "execute_result"
    }
   ],
   "source": [
    "testdims"
   ]
  },
  {
   "cell_type": "code",
   "execution_count": 75,
   "metadata": {},
   "outputs": [],
   "source": [
    "shape = (2,2)\n",
    "\n",
    "full = np.full(shape,object)"
   ]
  },
  {
   "cell_type": "code",
   "execution_count": 76,
   "metadata": {},
   "outputs": [
    {
     "name": "stdout",
     "output_type": "stream",
     "text": [
      "full\n"
     ]
    }
   ],
   "source": [
    "it = np.nditer(shape, flags=['multi_index','refs_ok'])\n",
    "while not it.finished:\n",
    "    print('full')\n",
    "    it.iternext()"
   ]
  },
  {
   "cell_type": "code",
   "execution_count": 41,
   "metadata": {},
   "outputs": [
    {
     "name": "stdout",
     "output_type": "stream",
     "text": [
      "\n",
      "\n",
      "\n",
      "\n",
      "\n",
      "\n",
      "\n",
      "\n",
      "[[list(['s']) list(['s'])]\n",
      " [list(['s']) list(['s'])]]\n"
     ]
    }
   ],
   "source": [
    "it = np.nditer(tile, flags=['multi_index','refs_ok'])\n",
    "while not it.finished:\n",
    "\n",
    "    full[it.multi_index].append('s')\n",
    "    #print(full)\n",
    "    print(f\"\\n\")\n",
    "    it.iternext()\n",
    "print(full)"
   ]
  },
  {
   "cell_type": "code",
   "execution_count": 14,
   "metadata": {},
   "outputs": [],
   "source": [
    "arr = np.array([[],[],[],[]], dtype='object')"
   ]
  },
  {
   "cell_type": "code",
   "execution_count": null,
   "metadata": {},
   "outputs": [],
   "source": []
  }
 ],
 "metadata": {
  "kernelspec": {
   "display_name": "Python 3",
   "language": "python",
   "name": "python3"
  },
  "language_info": {
   "codemirror_mode": {
    "name": "ipython",
    "version": 3
   },
   "file_extension": ".py",
   "mimetype": "text/x-python",
   "name": "python",
   "nbconvert_exporter": "python",
   "pygments_lexer": "ipython3",
   "version": "3.8.3"
  }
 },
 "nbformat": 4,
 "nbformat_minor": 4
}
