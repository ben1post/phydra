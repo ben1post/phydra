{
 "cells": [
  {
   "cell_type": "markdown",
   "metadata": {},
   "source": [
    "# Gekko Xsimlab Core 2.0\n",
    "\n",
    "Goals:\n",
    "- instead of custom defaultdics, use native Gekko structure (since it is also just a python wrapper)\n",
    "- get Latex output of Model\n",
    "- try to get Environments to work, as attributes of self.m\n",
    "    \n",
    "Step1:\n",
    "- wrap GEKKO class\n",
    "- check all attribs\n",
    "- create minimal model example\n",
    "- run"
   ]
  },
  {
   "cell_type": "code",
   "execution_count": null,
   "metadata": {},
   "outputs": [],
   "source": []
  },
  {
   "cell_type": "markdown",
   "metadata": {},
   "source": [
    "# OK so what do I actually need to do?\n",
    "FIRST OF ALL: build mini model test ground!\n",
    "submodules of new setup: 1. state variables, 2. forcings, 3. intermediate\n",
    "\n",
    "1. no need to unpack gk_SV + gk_Intermediates at finalize step\n",
    "2. wrap all of the contextdicts (if necessary, why not lists?) into the model GEKKO class! (create subclass perhaps)\n",
    "\n",
    "3. is there another way I can fix the \"make_FX_flux\" way of doing things? it is a bit clunky..\n",
    "4. what about dimensionality??\n",
    "\n",
    "So the idea of providing the mathematical equations in a submodule as python functions is very good! I should definitely do that!\n",
    "\n",
    "2. provide generalistic interface, that can solve with GEKKO, but can also compute normally"
   ]
  },
  {
   "cell_type": "code",
   "execution_count": null,
   "metadata": {},
   "outputs": [],
   "source": []
  },
  {
   "cell_type": "code",
   "execution_count": 1,
   "metadata": {},
   "outputs": [],
   "source": [
    "from gekko import GEKKO\n",
    "from collections import defaultdict\n",
    "import numpy as np\n",
    "\n",
    "from time import process_time\n",
    "import xsimlab as xs"
   ]
  },
  {
   "cell_type": "code",
   "execution_count": 2,
   "metadata": {},
   "outputs": [],
   "source": []
  },
  {
   "cell_type": "code",
   "execution_count": null,
   "metadata": {},
   "outputs": [],
   "source": []
  },
  {
   "cell_type": "code",
   "execution_count": 13,
   "metadata": {},
   "outputs": [],
   "source": [
    "from enum import Enum\n",
    "import itertools\n",
    "import warnings\n",
    "\n",
    "import attr\n",
    "from attr._make import _CountingAttr\n",
    "\n",
    "from xsimlab.utils import normalize_encoding\n",
    "from xsimlab.variable import VarType, VarIntent, _as_dim_tuple, _as_group_tuple\n",
    "\n",
    "\n",
    "def phydra_SV(\n",
    "    dims=(),\n",
    "    intent=\"in\",\n",
    "    group=None,\n",
    "    groups=None,\n",
    "    default=attr.NOTHING,\n",
    "    validator=None,\n",
    "    converter=None,\n",
    "    static=False,\n",
    "    description=\"\",\n",
    "    attrs=None,\n",
    "    encoding=None,\n",
    "):\n",
    "    \"\"\"Create a variable.\n",
    "    Variables store useful metadata such as dimension labels, a short\n",
    "    description, a default value, validators or custom,\n",
    "    user-provided metadata.\n",
    "    Variables are the primitives of the modeling framework, they\n",
    "    define the interface of each process in a model.\n",
    "    Variables should be declared exclusively as class attributes in\n",
    "    process classes (i.e., classes decorated with :func:`process`).\n",
    "    Parameters\n",
    "    ----------\n",
    "    dims : str or tuple or list, optional\n",
    "        Dimension label(s) of the variable. An empty tuple\n",
    "        corresponds to a scalar variable (default), a string or a 1-length\n",
    "        tuple corresponds to a 1-d variable and a n-length tuple corresponds to\n",
    "        a n-d variable. A list of str or tuple items may also be provided if\n",
    "        the variable accepts different numbers of dimensions.\n",
    "    intent : {'in', 'out', 'inout'}, optional\n",
    "        Defines whether the variable is an input (i.e., the process needs the\n",
    "        variable's value for its computation), an output (i.e., the process\n",
    "        computes a value for the variable) or both an input/output (i.e., the\n",
    "        process may update the value of the variable).\n",
    "        (default: input).\n",
    "    group : str, optional\n",
    "        Variable group (depreciated, use ``groups`` instead).\n",
    "    groups : str or list, optional\n",
    "        Variable group(s).\n",
    "    default : any, optional\n",
    "        Single default value for the variable, ignored when ``intent='out'``\n",
    "        (default: NOTHING). A default value may also be set using a decorator.\n",
    "    validator : callable or list of callable, optional\n",
    "        Function that could be called before or during a simulation (or when\n",
    "        creating a new process instance) to check the value given\n",
    "        for the variable.\n",
    "        The function must accept three arguments:\n",
    "        - the process instance (useful for accessing the value of other\n",
    "          variables in that process)\n",
    "        - the variable object (useful for accessing the variable metadata)\n",
    "        - the value to be validated.\n",
    "        The function should throw an exception in case where an invalid value\n",
    "        is given.\n",
    "        If a ``list`` is passed, its items are all are treated as validators.\n",
    "        The validator can also be set using decorator notation.\n",
    "    converter : callable, optional\n",
    "        Callable that is called when setting a value for this variable, and that\n",
    "        converts the value to the desired format. The callable must accept\n",
    "        one argument and return one value. The value is converted before being\n",
    "        passed to the validator, if any.\n",
    "    static : bool, optional\n",
    "        If True, the value of the (input) variable must be set once\n",
    "        before the simulation starts and cannot be further updated\n",
    "        externally (default: False). Note that it doesn't prevent updating\n",
    "        the value internally, i.e., from within the process class in which\n",
    "        the variable is declared if ``intent`` is set to 'out' or 'inout',\n",
    "        or from another process class (foreign variable).\n",
    "    description : str, optional\n",
    "        Short description of the variable.\n",
    "    attrs : dict, optional\n",
    "        Dictionnary of additional metadata (e.g., standard_name,\n",
    "        units, math_symbol...).\n",
    "    encoding : dict, optional\n",
    "        Dictionary specifying how to encode this variable's data into a\n",
    "        serialized format (i.e., as a zarr dataset). Currently used keys\n",
    "        include 'dtype', 'compressor', 'fill_value', 'order', 'filters'\n",
    "        and 'object_codec'. See :func:`zarr.creation.create` for details\n",
    "        about these options. Other keys are ignored.\n",
    "    See Also\n",
    "    --------\n",
    "    :func:`attr.ib`\n",
    "    :mod:`attr.validators`\n",
    "    \"\"\"\n",
    "    metadata = {\n",
    "        \"var_type\": VarType.VARIABLE,\n",
    "        \"dims\": _as_dim_tuple(dims),\n",
    "        \"intent\": VarIntent(intent),\n",
    "        \"groups\": _as_group_tuple(groups, group),\n",
    "        \"static\": static,\n",
    "        \"attrs\": attrs or {},\n",
    "        \"description\": description,\n",
    "        \"encoding\": normalize_encoding(encoding),\n",
    "    }\n",
    "\n",
    "    if VarIntent(intent) == VarIntent.OUT:\n",
    "        _init = False\n",
    "        _repr = False\n",
    "    else:\n",
    "        _init = True\n",
    "        _repr = True\n",
    "\n",
    "    return attr.attrib(\n",
    "        metadata=metadata,\n",
    "        default=default,\n",
    "        validator=validator,\n",
    "        converter=converter,\n",
    "        init=_init,\n",
    "        repr=_repr,\n",
    "        kw_only=True,\n",
    "    )"
   ]
  },
  {
   "cell_type": "code",
   "execution_count": 16,
   "metadata": {},
   "outputs": [],
   "source": [
    "\n",
    "test_1 = xs.variable()"
   ]
  },
  {
   "cell_type": "code",
   "execution_count": 17,
   "metadata": {},
   "outputs": [],
   "source": [
    "test_2 = phydra_SV()"
   ]
  },
  {
   "cell_type": "code",
   "execution_count": null,
   "metadata": {},
   "outputs": [],
   "source": []
  },
  {
   "cell_type": "code",
   "execution_count": 12,
   "metadata": {},
   "outputs": [],
   "source": [
    "# Library of mathematical functions\n",
    "\n",
    "def monod(Ressource, params={'halfsat':0.5}):\n",
    "    return Ressource / (params['halfsat'] + Ressource)\n"
   ]
  },
  {
   "cell_type": "code",
   "execution_count": 13,
   "metadata": {},
   "outputs": [],
   "source": [
    "x = GEKKO()"
   ]
  },
  {
   "cell_type": "code",
   "execution_count": 18,
   "metadata": {},
   "outputs": [],
   "source": [
    "SV = x.SV(name='state variable 1')\n",
    "\n",
    "halfsat = x.Param(name='halfsat param')"
   ]
  },
  {
   "cell_type": "code",
   "execution_count": 15,
   "metadata": {},
   "outputs": [
    {
     "data": {
      "text/plain": [
       "0.6666666666666666"
      ]
     },
     "execution_count": 15,
     "metadata": {},
     "output_type": "execute_result"
    }
   ],
   "source": [
    "monod(1)"
   ]
  },
  {
   "cell_type": "code",
   "execution_count": 23,
   "metadata": {},
   "outputs": [
    {
     "data": {
      "text/plain": [
       "0"
      ]
     },
     "execution_count": 23,
     "metadata": {},
     "output_type": "execute_result"
    }
   ],
   "source": [
    "x.Intermediate(monod(SV, params={'halfsat':halfsat}), name='p_nutlim')"
   ]
  },
  {
   "cell_type": "code",
   "execution_count": 37,
   "metadata": {},
   "outputs": [],
   "source": [
    "SVarray = x.Array(x.SV,(2,2))\n",
    "SVarray2 = x.Array(x.SV,(2,2))"
   ]
  },
  {
   "cell_type": "code",
   "execution_count": 38,
   "metadata": {},
   "outputs": [
    {
     "data": {
      "text/plain": [
       "0"
      ]
     },
     "execution_count": 38,
     "metadata": {},
     "output_type": "execute_result"
    }
   ],
   "source": [
    "SVarray[0,0].value #= 'hello'"
   ]
  },
  {
   "cell_type": "code",
   "execution_count": 44,
   "metadata": {},
   "outputs": [
    {
     "data": {
      "text/plain": [
       "gekko.gk_variable.GK_SV"
      ]
     },
     "execution_count": 44,
     "metadata": {},
     "output_type": "execute_result"
    }
   ],
   "source": [
    "type(SVarray[0,0])"
   ]
  },
  {
   "cell_type": "code",
   "execution_count": 31,
   "metadata": {},
   "outputs": [
    {
     "data": {
      "text/plain": [
       "array([[((((v12)/((0.5+v12))))*(v12)), ((((v13)/((0.5+v13))))*(v13))],\n",
       "       [((((v14)/((0.5+v14))))*(v14)), ((((v15)/((0.5+v15))))*(v15))]],\n",
       "      dtype=object)"
      ]
     },
     "execution_count": 31,
     "metadata": {},
     "output_type": "execute_result"
    }
   ],
   "source": [
    "monod(SVarray) * SVarray"
   ]
  },
  {
   "cell_type": "code",
   "execution_count": 32,
   "metadata": {},
   "outputs": [
    {
     "data": {
      "text/plain": [
       "array([[((v12)*(v16)), ((v13)*(v17))],\n",
       "       [((v14)*(v18)), ((v15)*(v19))]], dtype=object)"
      ]
     },
     "execution_count": 32,
     "metadata": {},
     "output_type": "execute_result"
    }
   ],
   "source": [
    "SVarray * SVarray2"
   ]
  },
  {
   "cell_type": "code",
   "execution_count": 83,
   "metadata": {},
   "outputs": [],
   "source": [
    "# Gekko Backend"
   ]
  },
  {
   "cell_type": "code",
   "execution_count": 12,
   "metadata": {},
   "outputs": [],
   "source": [
    "@xs.process\n",
    "class GekkoCore:\n",
    "    m = xs.any_object()\n",
    "    \n",
    "    def initialize(self):\n",
    "        print('initializing model core')\n",
    "        self.m = GEKKO(remote=False, name='phydra')\n",
    "        \n",
    "    def finalize(self):\n",
    "        print('finalizing gekko core: cleanup')\n",
    "        #self.m.open_folder()\n",
    "        self.m.cleanup()\n",
    "        \n",
    "        \n",
    "@xs.process\n",
    "class GekkoSolve:\n",
    "    m = xs.foreign(GekkoCore, 'm')\n",
    "    \n",
    "    def run_step(self):\n",
    "        print(self.m.__dict__)\n",
    "        print('Running solver now')\n",
    "        self.m.options.REDUCE = 3\n",
    "        self.m.options.NODES = 3\n",
    "        self.m.options.IMODE = 7\n",
    "        \n",
    "        solve_start = process_time()\n",
    "        self.m.solve(disp=False)  # disp=True) # to print gekko output\n",
    "        solve_end = process_time()\n",
    "\n",
    "        print(f\"ModelSolve done in {round(solve_end-solve_start,2)} seconds\")\n",
    "        \n",
    "        print(self.m.__dict__)"
   ]
  },
  {
   "cell_type": "code",
   "execution_count": 13,
   "metadata": {},
   "outputs": [],
   "source": [
    "@xs.process\n",
    "class Time:\n",
    "    m = xs.foreign(GekkoCore, 'm')\n",
    "    \n",
    "    days = xs.variable(dims='time', description='time in days')\n",
    "    # for indexing xarray IO objects\n",
    "    time = xs.index(dims='time', description='time in days')\n",
    "\n",
    "    def initialize(self):\n",
    "        print('Initializing Model Time')\n",
    "        self.time = self.days\n",
    "\n",
    "        # ASSIGN MODEL SOLVING TIME HERE:\n",
    "        self.m.time = self.time\n",
    "        \n",
    "        # add variable keeping track of time within model:\n",
    "        self.m.timevar = self.m.Var(0, lb=0)\n",
    "        self.m.Equation(self.m.timevar.dt() == 1)\n",
    "\n",
    "\n",
    "@xs.process\n",
    "class Environment:\n",
    "    m = xs.foreign(GekkoCore, 'm')\n",
    "    \n",
    "    def initialize(self):\n",
    "        self.m.env = defaultdict(list)\n",
    "        \n",
    "    def run_step(self):\n",
    "        self.m.env.default_factory = None\n",
    "        print(self.m.env)"
   ]
  },
  {
   "cell_type": "code",
   "execution_count": 14,
   "metadata": {},
   "outputs": [],
   "source": [
    "def monod(Ressource, params={'halfsat':0.5}):\n",
    "    return Ressource / (params['halfsat'] + Ressource)"
   ]
  },
  {
   "cell_type": "code",
   "execution_count": 117,
   "metadata": {},
   "outputs": [],
   "source": [
    "class GEKKO_phydra(GEKKO):\n",
    "    \"\"\" This class inherits GEKKO, and adds additional functionality \"\"\"\n",
    "    def __init__(self):\n",
    "        super(GEKKO_phydra,self).__init__()\n",
    "        self.name = \"PhydraCore\"\n",
    "    \n",
    "    def initialize_array(self, gk_class, label, shape, initval = None):\n",
    "        \"\"\"This function returns a labeled multi-dimensional m.array of supplied base gk_class\"\"\"\n",
    "        gk_array = self.Array(gk_class, shape)\n",
    "        \n",
    "        it = np.nditer(gk_array, flags=['refs_ok','multi_index'], op_flags=['readwrite'])\n",
    "        i=0\n",
    "        while not it.finished:\n",
    "            gk_array[it.multi_index].__dict__['NAME'] = f\"{label}_{str(i)}\"\n",
    "            \n",
    "            if initval != None:\n",
    "                gk_array[it.multi_index].VALUE = initval\n",
    "            \n",
    "            i += 1\n",
    "            it.iternext()\n",
    "        \n",
    "        return gk_array\n",
    "\n",
    "    pass"
   ]
  },
  {
   "cell_type": "code",
   "execution_count": 118,
   "metadata": {},
   "outputs": [],
   "source": [
    "m = GEKKO_phydra()"
   ]
  },
  {
   "cell_type": "code",
   "execution_count": 119,
   "metadata": {},
   "outputs": [
    {
     "data": {
      "text/plain": [
       "array([0], dtype=object)"
      ]
     },
     "execution_count": 119,
     "metadata": {},
     "output_type": "execute_result"
    }
   ],
   "source": [
    "m.initialize_array(m.SV, 'hello', (1))"
   ]
  },
  {
   "cell_type": "code",
   "execution_count": 124,
   "metadata": {},
   "outputs": [
    {
     "data": {
      "text/plain": [
       "0"
      ]
     },
     "execution_count": 124,
     "metadata": {},
     "output_type": "execute_result"
    }
   ],
   "source": [
    "m.__dict__['_variables'][0].value"
   ]
  },
  {
   "cell_type": "code",
   "execution_count": 161,
   "metadata": {},
   "outputs": [],
   "source": [
    "def monod(Input, Output, params={'halfsat':0.5}):\n",
    "    return Input / (params['halfsat'] + Input) * Output"
   ]
  },
  {
   "cell_type": "code",
   "execution_count": 153,
   "metadata": {},
   "outputs": [
    {
     "data": {
      "text/plain": [
       "1"
      ]
     },
     "execution_count": 153,
     "metadata": {},
     "output_type": "execute_result"
    }
   ],
   "source": [
    "m.Param(1,name='halfsat')"
   ]
  },
  {
   "cell_type": "code",
   "execution_count": 156,
   "metadata": {},
   "outputs": [
    {
     "data": {
      "text/plain": [
       "['halfsat']"
      ]
     },
     "execution_count": 156,
     "metadata": {},
     "output_type": "execute_result"
    }
   ],
   "source": [
    "m._parameters"
   ]
  },
  {
   "cell_type": "code",
   "execution_count": 165,
   "metadata": {},
   "outputs": [
    {
     "data": {
      "text/plain": [
       "array([[((((v22)/((0.5+v22))))*(v26)), ((((v23)/((0.5+v23))))*(v27))],\n",
       "       [((((v24)/((0.5+v24))))*(v28)), ((((v25)/((0.5+v25))))*(v29))]],\n",
       "      dtype=object)"
      ]
     },
     "execution_count": 165,
     "metadata": {},
     "output_type": "execute_result"
    }
   ],
   "source": [
    "# can i create an environment? try this first!\n",
    "\n",
    "monod(m.Array(m.SV,(2,2)), m.Array(m.SV,(2,2)))"
   ]
  },
  {
   "cell_type": "code",
   "execution_count": 148,
   "metadata": {},
   "outputs": [],
   "source": [
    "# so! this abstract flow needs access to the actual model object!\n",
    "\n",
    "# so that I can initialize it within the gekko m object (GEKKO_phydra)\n",
    "# but hm.. so what I want is a flexible store of model functions, together with their inputs/outputs & pars\n",
    "\n",
    "# so that I can initialize it: \n",
    "    #- either taking standard xs.variables as input\n",
    "    #- or the Gekko params and inputs (which could blow up in dims)\n",
    "# i think just gekko is fine for now!\n",
    "\n",
    "class Flux:\n",
    "    def __init__(self, function, inputs, outputs):\n",
    "        self.function = function\n",
    "        self.inputs = inputs\n",
    "        self.outputs = outputs\n",
    "        \n",
    "    def initialize_GK(self):\n",
    "        print(self.function)\n",
    "        print(self.inputs)\n",
    "        print(self.outputs)\n",
    "        \n",
    "    def run_func(self):\n",
    "        return self.function(self.inputs, self.outputs)"
   ]
  },
  {
   "cell_type": "code",
   "execution_count": 149,
   "metadata": {},
   "outputs": [
    {
     "name": "stdout",
     "output_type": "stream",
     "text": [
      "<function monod at 0x1153c0a60>\n",
      "N\n",
      "P\n"
     ]
    }
   ],
   "source": [
    "Flux(monod, 'N', 'P').initialize_GK()"
   ]
  },
  {
   "cell_type": "code",
   "execution_count": 150,
   "metadata": {},
   "outputs": [
    {
     "ename": "TypeError",
     "evalue": "unsupported operand type(s) for +: 'float' and 'str'",
     "output_type": "error",
     "traceback": [
      "\u001b[0;31m---------------------------------------------------------------------------\u001b[0m",
      "\u001b[0;31mTypeError\u001b[0m                                 Traceback (most recent call last)",
      "\u001b[0;32m<ipython-input-150-707c0e582890>\u001b[0m in \u001b[0;36m<module>\u001b[0;34m\u001b[0m\n\u001b[0;32m----> 1\u001b[0;31m \u001b[0mFlux\u001b[0m\u001b[0;34m(\u001b[0m\u001b[0mmonod\u001b[0m\u001b[0;34m,\u001b[0m \u001b[0;34m'N'\u001b[0m\u001b[0;34m,\u001b[0m \u001b[0;34m'P'\u001b[0m\u001b[0;34m)\u001b[0m\u001b[0;34m.\u001b[0m\u001b[0mrun_func\u001b[0m\u001b[0;34m(\u001b[0m\u001b[0;34m)\u001b[0m\u001b[0;34m\u001b[0m\u001b[0;34m\u001b[0m\u001b[0m\n\u001b[0m",
      "\u001b[0;32m<ipython-input-148-c530502df7d9>\u001b[0m in \u001b[0;36mrun_func\u001b[0;34m(self)\u001b[0m\n\u001b[1;32m     11\u001b[0m \u001b[0;34m\u001b[0m\u001b[0m\n\u001b[1;32m     12\u001b[0m     \u001b[0;32mdef\u001b[0m \u001b[0mrun_func\u001b[0m\u001b[0;34m(\u001b[0m\u001b[0mself\u001b[0m\u001b[0;34m)\u001b[0m\u001b[0;34m:\u001b[0m\u001b[0;34m\u001b[0m\u001b[0;34m\u001b[0m\u001b[0m\n\u001b[0;32m---> 13\u001b[0;31m         \u001b[0;32mreturn\u001b[0m \u001b[0mself\u001b[0m\u001b[0;34m.\u001b[0m\u001b[0mfunction\u001b[0m\u001b[0;34m(\u001b[0m\u001b[0mself\u001b[0m\u001b[0;34m.\u001b[0m\u001b[0minputs\u001b[0m\u001b[0;34m,\u001b[0m \u001b[0mself\u001b[0m\u001b[0;34m.\u001b[0m\u001b[0moutputs\u001b[0m\u001b[0;34m)\u001b[0m\u001b[0;34m\u001b[0m\u001b[0;34m\u001b[0m\u001b[0m\n\u001b[0m",
      "\u001b[0;32m<ipython-input-147-0c72c214e93e>\u001b[0m in \u001b[0;36mmonod\u001b[0;34m(Input, Ouput, params)\u001b[0m\n\u001b[1;32m      1\u001b[0m \u001b[0;32mdef\u001b[0m \u001b[0mmonod\u001b[0m\u001b[0;34m(\u001b[0m\u001b[0mInput\u001b[0m\u001b[0;34m,\u001b[0m \u001b[0mOuput\u001b[0m\u001b[0;34m,\u001b[0m \u001b[0mparams\u001b[0m\u001b[0;34m=\u001b[0m\u001b[0;34m{\u001b[0m\u001b[0;34m'halfsat'\u001b[0m\u001b[0;34m:\u001b[0m\u001b[0;36m0.5\u001b[0m\u001b[0;34m}\u001b[0m\u001b[0;34m)\u001b[0m\u001b[0;34m:\u001b[0m\u001b[0;34m\u001b[0m\u001b[0;34m\u001b[0m\u001b[0m\n\u001b[0;32m----> 2\u001b[0;31m     \u001b[0;32mreturn\u001b[0m \u001b[0mInput\u001b[0m \u001b[0;34m/\u001b[0m \u001b[0;34m(\u001b[0m\u001b[0mparams\u001b[0m\u001b[0;34m[\u001b[0m\u001b[0;34m'halfsat'\u001b[0m\u001b[0;34m]\u001b[0m \u001b[0;34m+\u001b[0m \u001b[0mInput\u001b[0m\u001b[0;34m)\u001b[0m \u001b[0;34m*\u001b[0m \u001b[0mOutput\u001b[0m\u001b[0;34m\u001b[0m\u001b[0;34m\u001b[0m\u001b[0m\n\u001b[0m",
      "\u001b[0;31mTypeError\u001b[0m: unsupported operand type(s) for +: 'float' and 'str'"
     ]
    }
   ],
   "source": [
    "Flux(monod, 'N', 'P').run_func()"
   ]
  },
  {
   "cell_type": "code",
   "execution_count": 125,
   "metadata": {},
   "outputs": [],
   "source": [
    "class Environment:\n",
    "    \"\"\"AIM:\n",
    "    - create an abstract model setup, that can be set up in a desired number of dimensions\n",
    "    - this should contain: \n",
    "        Statevariables with labels (1D)\n",
    "        Forcing\n",
    "        Fluxes\n",
    "    \"\"\"\n",
    "    def __init__(self,m):\n",
    "        # record the GEKKO instances where the objects are added\n",
    "        self.m = m\n",
    "        self.components = defaultdict(list)\n",
    "        self.forcings = defaultdict(list)\n",
    "        self.fluxes = defaultdict(list)\n",
    "        \n",
    "    def add_obj(self, name='',n=None):\n",
    "        x = name.lower() + str(len(self.m._objects) + 1)\n",
    "        if n==None:\n",
    "            self.m._objects.append(x+'='+name)\n",
    "        else:\n",
    "            self.m._objects.append(x+'='+name+'('+str(n)+')')\n",
    "        return x\n",
    "    \n",
    "        return gk_array"
   ]
  },
  {
   "cell_type": "code",
   "execution_count": 126,
   "metadata": {},
   "outputs": [],
   "source": [
    "m.env = Environment(m)"
   ]
  },
  {
   "cell_type": "code",
   "execution_count": 127,
   "metadata": {},
   "outputs": [
    {
     "data": {
      "text/plain": [
       "{'m': <__main__.GEKKO_phydra at 0x115d9eb50>,\n",
       " 'components': defaultdict(list, {}),\n",
       " 'forcings': defaultdict(list, {}),\n",
       " 'fluxes': defaultdict(list, {})}"
      ]
     },
     "execution_count": 127,
     "metadata": {},
     "output_type": "execute_result"
    }
   ],
   "source": [
    "m.env.__dict__"
   ]
  },
  {
   "cell_type": "code",
   "execution_count": 101,
   "metadata": {},
   "outputs": [],
   "source": [
    "a = env.add_obj('Hello')"
   ]
  },
  {
   "cell_type": "code",
   "execution_count": 102,
   "metadata": {},
   "outputs": [
    {
     "data": {
      "text/plain": [
       "{'_remote': True,\n",
       " '_server': 'http://byu.apmonitor.com',\n",
       " 'options': <gekko.gk_global_options.GKGlobalOptions at 0x115d9aa60>,\n",
       " '_id': 3,\n",
       " '_gui_open': False,\n",
       " '_constants': [],\n",
       " '_parameters': [],\n",
       " '_variables': [],\n",
       " '_intermediates': [],\n",
       " '_inter_equations': [],\n",
       " '_equations': [],\n",
       " '_objectives': [],\n",
       " '_connections': [],\n",
       " '_objects': ['hello1=Hello'],\n",
       " '_compounds': [],\n",
       " '_raw': [],\n",
       " 'time': None,\n",
       " '_model_initialized': False,\n",
       " '_csv_status': None,\n",
       " '_model': '',\n",
       " '_model_name': 'gk_model3',\n",
       " '_path': '/var/folders/s8/8ypwvww534g_q5s51__36bmc0000gp/T/tmp_wlkeo8cgk_model3',\n",
       " 'path': '/var/folders/s8/8ypwvww534g_q5s51__36bmc0000gp/T/tmp_wlkeo8cgk_model3',\n",
       " '_extra_files': [],\n",
       " 'solver_options': []}"
      ]
     },
     "execution_count": 102,
     "metadata": {},
     "output_type": "execute_result"
    }
   ],
   "source": [
    "m.__dict__"
   ]
  },
  {
   "cell_type": "code",
   "execution_count": 90,
   "metadata": {},
   "outputs": [],
   "source": [
    "x_array = initialize_array(m.SV, 'Nutrient', (3,3,3), initval=0)"
   ]
  },
  {
   "cell_type": "code",
   "execution_count": 163,
   "metadata": {},
   "outputs": [],
   "source": [
    "def initialize_array(gk_class, label, shape, initval = None):\n",
    "    \"\"\"This function returns a labeled multi-dimensional m.array of supplied base gk_class\"\"\"\n",
    "    gk_array = m.Array(gk_class, shape)\n",
    "    \n",
    "    it = np.nditer(gk_array, flags=['refs_ok','multi_index'], op_flags=['readwrite'])\n",
    "\n",
    "    i=0\n",
    "    while not it.finished:\n",
    "        gk_array[it.multi_index].__dict__['NAME'] = f\"{label}_{str(i)}\"\n",
    "        \n",
    "        if initval != None:\n",
    "            gk_array[it.multi_index].VALUE = initval\n",
    "            \n",
    "        i += 1\n",
    "        #print(it.value)\n",
    "        it.iternext()\n",
    "        \n",
    "    return gk_array"
   ]
  },
  {
   "cell_type": "code",
   "execution_count": null,
   "metadata": {},
   "outputs": [],
   "source": []
  },
  {
   "cell_type": "code",
   "execution_count": null,
   "metadata": {},
   "outputs": [],
   "source": []
  },
  {
   "cell_type": "code",
   "execution_count": 15,
   "metadata": {},
   "outputs": [],
   "source": [
    "# wHAT IS THE JOB OF ENVIRONMENTS.. do i need them??\n",
    "# How does dimensionality fit in there??\n",
    "# i basically have 2 choices for dims, either keep all SVs as m.Array, and all computations that way\n",
    "# or have component dim within env, and then duplicate into larger dim structure.. which would be kinda cool!\n",
    "# can i do that??\n",
    "\n",
    "#can i do this with a class like below?\n",
    "\n",
    "class Flowsheet():        \n",
    "    def __init__(self,m,stream_level=1):\n",
    "        # record the GEKKO instances where the objects are added\n",
    "        self.m = m\n",
    "        self.sl = stream_level # use pressure and energy balance\n",
    "        if self.sl>=1:\n",
    "            # use t,p,h,ndot,x[i] with STREAM_LEVEL = 1\n",
    "            # models such as flash or other VLE require this\n",
    "            self.m.options.STREAM_LEVEL = 1\n",
    "        else:\n",
    "            # use ndot,x[i] with STREAM_LEVEL = 0\n",
    "            # track compositions only for blending and transport calculations\n",
    "            self.m.options.STREAM_LEVEL = 0\n",
    "        return\n",
    "        \n",
    "    def add_obj(self,name='',n=None):\n",
    "        x = name.lower() + str(len(self.m._objects) + 1)\n",
    "        if n==None:\n",
    "            self.m._objects.append(x+'='+name)\n",
    "        else:\n",
    "            self.m._objects.append(x+'='+name+'('+str(n)+')')\n",
    "        return x"
   ]
  },
  {
   "cell_type": "code",
   "execution_count": 16,
   "metadata": {},
   "outputs": [],
   "source": [
    "@xs.process\n",
    "class Component:\n",
    "    label = xs.variable(intent='out')\n",
    "    value = xs.variable(intent='out', dims='time')\n",
    "    SV = xs.variable(intent='out')\n",
    "    \n",
    "    m = xs.foreign(GekkoCore, 'm')\n",
    "    \n",
    "    def initialize(self):\n",
    "        self.label = self.__xsimlab_name__\n",
    "        print('initializing SV')\n",
    "        self.SV = self.m.SV(name='Nutrient')\n",
    "        self.value = self.SV.value\n",
    "    \n",
    "    def run_step(self):\n",
    "        print('assembling Equations')\n",
    "        #print(self.label, self.value)\n",
    "        self.m.Equation(self.SV.dt() == sum([flux for flux in self.m.env[self.label]]))\n",
    "        \n",
    "    def finalize_step(self):\n",
    "        pass\n",
    "\n",
    "@xs.process\n",
    "class Intermediate:\n",
    "    label = xs.variable(intent='in')\n",
    "    \n",
    "    m = xs.foreign(GekkoCore, 'm')\n",
    "    \n",
    "    def initialize(self):\n",
    "        print('initializing Intermediate')\n",
    "        self.m.env[self.label].append(0.1)\n",
    "        pass"
   ]
  },
  {
   "cell_type": "code",
   "execution_count": 17,
   "metadata": {},
   "outputs": [
    {
     "data": {
      "text/plain": [
       "[1, 2]"
      ]
     },
     "execution_count": 17,
     "metadata": {},
     "output_type": "execute_result"
    }
   ],
   "source": [
    "[1,2]"
   ]
  },
  {
   "cell_type": "code",
   "execution_count": null,
   "metadata": {},
   "outputs": [],
   "source": []
  },
  {
   "cell_type": "code",
   "execution_count": null,
   "metadata": {},
   "outputs": [],
   "source": [
    "# TODO:\n",
    "# 1. add value storage, both in Env and Comp\n",
    "# 2. add a simple flux\n",
    "# 3. test dim init: within Comp 1D, within Env, flexible\n",
    "\n",
    "#IDEA:\n",
    "\n",
    "remove the ENVS for noW! none of my use cases actually employ it!\n",
    "so it would be awkward to present it there like that!!!\n",
    "\n",
    "instead, just basic 0D model, but clean interface should be the goal!\n",
    "\n",
    "in effect, as long as I use m.Array instead of m.SV, I should be able to add any kind of dims later on!"
   ]
  },
  {
   "cell_type": "code",
   "execution_count": 255,
   "metadata": {},
   "outputs": [],
   "source": [
    "import string\n",
    "import random\n",
    "\n",
    "def id_generator(size=6, chars=string.ascii_uppercase + string.digits):\n",
    "    return ''.join(random.choice(chars) for _ in range(size))"
   ]
  },
  {
   "cell_type": "code",
   "execution_count": 340,
   "metadata": {},
   "outputs": [],
   "source": [
    "@xs.process\n",
    "class GekkoCore:\n",
    "    m = xs.any_object()\n",
    "    \n",
    "    def initialize(self):\n",
    "        print('initializing model core')\n",
    "        self.m = GEKKO(remote=False, name='phydra')\n",
    "        \n",
    "        # add defaultdict of list that dynamically stores fluxes by component label\n",
    "        self.m.fluxes = defaultdict(list)\n",
    "        \n",
    "    def finalize(self):\n",
    "        print('finalizing gekko core: cleanup')\n",
    "        #self.m.open_folder()\n",
    "        self.m.cleanup()\n",
    "\n",
    "        \n",
    "@xs.process\n",
    "class GekkoContext:\n",
    "    \"\"\" Inherited by all other model processes to access GekkoCore\"\"\"\n",
    "    m = xs.foreign(GekkoCore, 'm')\n",
    "\n",
    "@xs.process\n",
    "class GekkoSolve(GekkoContext):\n",
    "    \n",
    "    def finalize_step(self):\n",
    "        print(self.m.__dict__)\n",
    "        print('Running solver now')\n",
    "        self.m.options.REDUCE = 3\n",
    "        self.m.options.NODES = 3\n",
    "        self.m.options.IMODE = 7\n",
    "        \n",
    "        solve_start = process_time()\n",
    "        self.m.solve(disp=False)  # disp=True) # to print gekko output\n",
    "        solve_end = process_time()\n",
    "\n",
    "        print(f\"ModelSolve done in {round(solve_end-solve_start,2)} seconds\")\n",
    "        \n",
    "        print(self.m.__dict__)\n",
    "        \n",
    "@xs.process\n",
    "class Time(GekkoContext):\n",
    "    \n",
    "    days = xs.variable(dims='time', description='time in days')\n",
    "    # for indexing xarray IO objects\n",
    "    time = xs.index(dims='time', description='time in days')\n",
    "\n",
    "    def initialize(self):\n",
    "        print('Initializing Model Time')\n",
    "        self.time = self.days\n",
    "\n",
    "        # ASSIGN MODEL SOLVING TIME HERE:\n",
    "        self.m.time = self.time\n",
    "        \n",
    "        # add variable keeping track of time within model:\n",
    "        self.m.timevar = self.m.Var(0, lb=0)\n",
    "        self.m.Equation(self.m.timevar.dt() == 1)\n",
    "\n",
    "        \n",
    "@xs.process\n",
    "class StateVariable(GekkoContext):\n",
    "    label = xs.variable(intent='out')\n",
    "    \n",
    "    value = xs.variable(intent='out', dims='time', description='stores the value of component state variable')\n",
    "    SV = xs.any_object(description='stores the gekko variable')\n",
    "    \n",
    "    initVal = xs.variable(intent='in', description='initial value of component')\n",
    "    \n",
    "    def initialize(self):\n",
    "        self.label = self.__xsimlab_name__\n",
    "        print(f\"component {self.label} is initialized\")\n",
    "        \n",
    "        self.SV = self.m.SV(self.initVal, name=self.label)\n",
    "        self.value = self.SV.value\n",
    "    \n",
    "    def run_step(self):\n",
    "        print('assembling Equations')\n",
    "        #print(self.label, self.value)\n",
    "        print(self.m.fluxes)\n",
    "        self.m.Equation(self.SV.dt() == sum([flux for flux in self.m.fluxes[self.label]]))\n",
    "        \n",
    "    def finalize_step(self):\n",
    "        pass\n",
    "\n",
    "def monod(Input, Output, params={'halfsat':0.5}):\n",
    "    return Input / (params['halfsat'] + Input) * Output\n",
    "# now try to use this above in the flux below, and add func group dim parameter handling, that's intuitive!\n",
    "\n",
    "@xs.process\n",
    "class Fluxes(GekkoContext):\n",
    "    label = xs.variable(intent='out')\n",
    "    \n",
    "    components = xs.variable(intent='in', dims=id_generator())\n",
    "    \n",
    "    def initialize(self):\n",
    "        self.label = self.__xsimlab_name__\n",
    "        print(f\"flux {self.label} for {self.components} is initialized\")\n",
    "        \n",
    "        flux = self.m.Param(0.1)\n",
    "        for component in self.components:\n",
    "            self.m.fluxes[component].append(flux)"
   ]
  },
  {
   "cell_type": "code",
   "execution_count": 341,
   "metadata": {},
   "outputs": [],
   "source": [
    "a = xs.Model({'core':GekkoCore, 'solver':GekkoSolve, 'time':Time, 'N':StateVariable, 'P':StateVariable, 'growth':Fluxes})"
   ]
  },
  {
   "cell_type": "code",
   "execution_count": 342,
   "metadata": {},
   "outputs": [],
   "source": [
    "in_ds = xs.create_setup(model=a,\n",
    "                        clocks={'clock': [0,1]},\n",
    "                        input_vars={\n",
    "                            'time__days': ('time', np.arange(0, 1, 0.1)),\n",
    "                            \n",
    "                            'N':{'initVal':1},\n",
    "                            'P':{'initVal':1},\n",
    "                            'growth':{'components':['N','P']}\n",
    "                        \n",
    "                        },\n",
    "                        output_vars={\n",
    "                            'N__value':None,\n",
    "                            'P__value':None\n",
    "                        \n",
    "                        })"
   ]
  },
  {
   "cell_type": "code",
   "execution_count": 343,
   "metadata": {},
   "outputs": [
    {
     "name": "stdout",
     "output_type": "stream",
     "text": [
      "initializing model core\n",
      "Initializing Model Time\n",
      "component N is initialized\n",
      "component P is initialized\n",
      "flux growth for ['N' 'P'] is initialized\n",
      "assembling Equations\n",
      "defaultdict(<class 'list'>, {'N': [0.1], 'P': [0.1]})\n",
      "assembling Equations\n",
      "defaultdict(<class 'list'>, {'N': [0.1], 'P': [0.1]})\n",
      "{'_remote': False, '_server': 'http://byu.apmonitor.com', 'options': <gekko.gk_global_options.GKGlobalOptions object at 0x11673cdf0>, '_id': 39, '_gui_open': False, '_constants': [], '_parameters': [0.1], '_variables': [0, 1, 1], '_intermediates': [], '_inter_equations': [], '_equations': [<gekko.gekko.EquationObj object at 0x1156d3fd0>, <gekko.gekko.EquationObj object at 0x115b0fee0>, <gekko.gekko.EquationObj object at 0x115f0e070>], '_objectives': [], '_connections': [], '_objects': [], '_compounds': [], '_raw': [], 'time': array([0. , 0.1, 0.2, 0.3, 0.4, 0.5, 0.6, 0.7, 0.8, 0.9]), '_model_initialized': False, '_csv_status': None, '_model': '', '_model_name': 'phydra', '_path': '/var/folders/s8/8ypwvww534g_q5s51__36bmc0000gp/T/tmpjs50xc3mphydra', 'path': '/var/folders/s8/8ypwvww534g_q5s51__36bmc0000gp/T/tmpjs50xc3mphydra', '_extra_files': [], 'solver_options': [], 'fluxes': defaultdict(<class 'list'>, {'N': [0.1], 'P': [0.1]}), 'timevar': 0}\n",
      "Running solver now\n",
      "ModelSolve done in 0.01 seconds\n",
      "{'_remote': False, '_server': 'http://byu.apmonitor.com', 'options': <gekko.gk_global_options.GKGlobalOptions object at 0x11673cdf0>, '_id': 39, '_gui_open': False, '_constants': [], '_parameters': [[0.1, 0.1, 0.1, 0.1, 0.1, 0.1, 0.1, 0.1, 0.1, 0.1]], '_variables': [[0.0, 0.1, 0.2, 0.3, 0.4, 0.5, 0.6, 0.7, 0.8, 0.9], [1.0, 1.01, 1.02, 1.03, 1.04, 1.05, 1.06, 1.07, 1.08, 1.09], [1.0, 1.01, 1.02, 1.03, 1.04, 1.05, 1.06, 1.07, 1.08, 1.09]], '_intermediates': [], '_inter_equations': [], '_equations': [<gekko.gekko.EquationObj object at 0x1156d3fd0>, <gekko.gekko.EquationObj object at 0x115b0fee0>, <gekko.gekko.EquationObj object at 0x115f0e070>], '_objectives': [], '_connections': [], '_objects': [], '_compounds': [], '_raw': [], 'time': array([0. , 0.1, 0.2, 0.3, 0.4, 0.5, 0.6, 0.7, 0.8, 0.9]), '_model_initialized': True, '_csv_status': None, '_model': 'auto-generated', '_model_name': 'phydra', '_path': '/var/folders/s8/8ypwvww534g_q5s51__36bmc0000gp/T/tmpjs50xc3mphydra', 'path': '/var/folders/s8/8ypwvww534g_q5s51__36bmc0000gp/T/tmpjs50xc3mphydra', '_extra_files': [], 'solver_options': [], 'fluxes': defaultdict(<class 'list'>, {'N': [[0.1, 0.1, 0.1, 0.1, 0.1, 0.1, 0.1, 0.1, 0.1, 0.1]], 'P': [[0.1, 0.1, 0.1, 0.1, 0.1, 0.1, 0.1, 0.1, 0.1, 0.1]]}), 'timevar': [0.0, 0.1, 0.2, 0.3, 0.4, 0.5, 0.6, 0.7, 0.8, 0.9], 'csv_status': 'generated'}\n",
      "finalizing gekko core: cleanup\n"
     ]
    }
   ],
   "source": [
    "with a:\n",
    "    out_ds = in_ds.xsimlab.run()"
   ]
  },
  {
   "cell_type": "code",
   "execution_count": 344,
   "metadata": {},
   "outputs": [
    {
     "data": {
      "text/html": [
       "<div><svg style=\"position: absolute; width: 0; height: 0; overflow: hidden\">\n",
       "<defs>\n",
       "<symbol id=\"icon-database\" viewBox=\"0 0 32 32\">\n",
       "<title>Show/Hide data repr</title>\n",
       "<path d=\"M16 0c-8.837 0-16 2.239-16 5v4c0 2.761 7.163 5 16 5s16-2.239 16-5v-4c0-2.761-7.163-5-16-5z\"></path>\n",
       "<path d=\"M16 17c-8.837 0-16-2.239-16-5v6c0 2.761 7.163 5 16 5s16-2.239 16-5v-6c0 2.761-7.163 5-16 5z\"></path>\n",
       "<path d=\"M16 26c-8.837 0-16-2.239-16-5v6c0 2.761 7.163 5 16 5s16-2.239 16-5v-6c0 2.761-7.163 5-16 5z\"></path>\n",
       "</symbol>\n",
       "<symbol id=\"icon-file-text2\" viewBox=\"0 0 32 32\">\n",
       "<title>Show/Hide attributes</title>\n",
       "<path d=\"M28.681 7.159c-0.694-0.947-1.662-2.053-2.724-3.116s-2.169-2.030-3.116-2.724c-1.612-1.182-2.393-1.319-2.841-1.319h-15.5c-1.378 0-2.5 1.121-2.5 2.5v27c0 1.378 1.122 2.5 2.5 2.5h23c1.378 0 2.5-1.122 2.5-2.5v-19.5c0-0.448-0.137-1.23-1.319-2.841zM24.543 5.457c0.959 0.959 1.712 1.825 2.268 2.543h-4.811v-4.811c0.718 0.556 1.584 1.309 2.543 2.268zM28 29.5c0 0.271-0.229 0.5-0.5 0.5h-23c-0.271 0-0.5-0.229-0.5-0.5v-27c0-0.271 0.229-0.5 0.5-0.5 0 0 15.499-0 15.5 0v7c0 0.552 0.448 1 1 1h7v19.5z\"></path>\n",
       "<path d=\"M23 26h-14c-0.552 0-1-0.448-1-1s0.448-1 1-1h14c0.552 0 1 0.448 1 1s-0.448 1-1 1z\"></path>\n",
       "<path d=\"M23 22h-14c-0.552 0-1-0.448-1-1s0.448-1 1-1h14c0.552 0 1 0.448 1 1s-0.448 1-1 1z\"></path>\n",
       "<path d=\"M23 18h-14c-0.552 0-1-0.448-1-1s0.448-1 1-1h14c0.552 0 1 0.448 1 1s-0.448 1-1 1z\"></path>\n",
       "</symbol>\n",
       "</defs>\n",
       "</svg>\n",
       "<style>/* CSS stylesheet for displaying xarray objects in jupyterlab.\n",
       " *\n",
       " */\n",
       "\n",
       ":root {\n",
       "  --xr-font-color0: var(--jp-content-font-color0, rgba(0, 0, 0, 1));\n",
       "  --xr-font-color2: var(--jp-content-font-color2, rgba(0, 0, 0, 0.54));\n",
       "  --xr-font-color3: var(--jp-content-font-color3, rgba(0, 0, 0, 0.38));\n",
       "  --xr-border-color: var(--jp-border-color2, #e0e0e0);\n",
       "  --xr-disabled-color: var(--jp-layout-color3, #bdbdbd);\n",
       "  --xr-background-color: var(--jp-layout-color0, white);\n",
       "  --xr-background-color-row-even: var(--jp-layout-color1, white);\n",
       "  --xr-background-color-row-odd: var(--jp-layout-color2, #eeeeee);\n",
       "}\n",
       "\n",
       ".xr-wrap {\n",
       "  min-width: 300px;\n",
       "  max-width: 700px;\n",
       "}\n",
       "\n",
       ".xr-header {\n",
       "  padding-top: 6px;\n",
       "  padding-bottom: 6px;\n",
       "  margin-bottom: 4px;\n",
       "  border-bottom: solid 1px var(--xr-border-color);\n",
       "}\n",
       "\n",
       ".xr-header > div,\n",
       ".xr-header > ul {\n",
       "  display: inline;\n",
       "  margin-top: 0;\n",
       "  margin-bottom: 0;\n",
       "}\n",
       "\n",
       ".xr-obj-type,\n",
       ".xr-array-name {\n",
       "  margin-left: 2px;\n",
       "  margin-right: 10px;\n",
       "}\n",
       "\n",
       ".xr-obj-type {\n",
       "  color: var(--xr-font-color2);\n",
       "}\n",
       "\n",
       ".xr-sections {\n",
       "  padding-left: 0 !important;\n",
       "  display: grid;\n",
       "  grid-template-columns: 150px auto auto 1fr 20px 20px;\n",
       "}\n",
       "\n",
       ".xr-section-item {\n",
       "  display: contents;\n",
       "}\n",
       "\n",
       ".xr-section-item input {\n",
       "  display: none;\n",
       "}\n",
       "\n",
       ".xr-section-item input + label {\n",
       "  color: var(--xr-disabled-color);\n",
       "}\n",
       "\n",
       ".xr-section-item input:enabled + label {\n",
       "  cursor: pointer;\n",
       "  color: var(--xr-font-color2);\n",
       "}\n",
       "\n",
       ".xr-section-item input:enabled + label:hover {\n",
       "  color: var(--xr-font-color0);\n",
       "}\n",
       "\n",
       ".xr-section-summary {\n",
       "  grid-column: 1;\n",
       "  color: var(--xr-font-color2);\n",
       "  font-weight: 500;\n",
       "}\n",
       "\n",
       ".xr-section-summary > span {\n",
       "  display: inline-block;\n",
       "  padding-left: 0.5em;\n",
       "}\n",
       "\n",
       ".xr-section-summary-in:disabled + label {\n",
       "  color: var(--xr-font-color2);\n",
       "}\n",
       "\n",
       ".xr-section-summary-in + label:before {\n",
       "  display: inline-block;\n",
       "  content: '►';\n",
       "  font-size: 11px;\n",
       "  width: 15px;\n",
       "  text-align: center;\n",
       "}\n",
       "\n",
       ".xr-section-summary-in:disabled + label:before {\n",
       "  color: var(--xr-disabled-color);\n",
       "}\n",
       "\n",
       ".xr-section-summary-in:checked + label:before {\n",
       "  content: '▼';\n",
       "}\n",
       "\n",
       ".xr-section-summary-in:checked + label > span {\n",
       "  display: none;\n",
       "}\n",
       "\n",
       ".xr-section-summary,\n",
       ".xr-section-inline-details {\n",
       "  padding-top: 4px;\n",
       "  padding-bottom: 4px;\n",
       "}\n",
       "\n",
       ".xr-section-inline-details {\n",
       "  grid-column: 2 / -1;\n",
       "}\n",
       "\n",
       ".xr-section-details {\n",
       "  display: none;\n",
       "  grid-column: 1 / -1;\n",
       "  margin-bottom: 5px;\n",
       "}\n",
       "\n",
       ".xr-section-summary-in:checked ~ .xr-section-details {\n",
       "  display: contents;\n",
       "}\n",
       "\n",
       ".xr-array-wrap {\n",
       "  grid-column: 1 / -1;\n",
       "  display: grid;\n",
       "  grid-template-columns: 20px auto;\n",
       "}\n",
       "\n",
       ".xr-array-wrap > label {\n",
       "  grid-column: 1;\n",
       "  vertical-align: top;\n",
       "}\n",
       "\n",
       ".xr-preview {\n",
       "  color: var(--xr-font-color3);\n",
       "}\n",
       "\n",
       ".xr-array-preview,\n",
       ".xr-array-data {\n",
       "  padding: 0 5px !important;\n",
       "  grid-column: 2;\n",
       "}\n",
       "\n",
       ".xr-array-data,\n",
       ".xr-array-in:checked ~ .xr-array-preview {\n",
       "  display: none;\n",
       "}\n",
       "\n",
       ".xr-array-in:checked ~ .xr-array-data,\n",
       ".xr-array-preview {\n",
       "  display: inline-block;\n",
       "}\n",
       "\n",
       ".xr-dim-list {\n",
       "  display: inline-block !important;\n",
       "  list-style: none;\n",
       "  padding: 0 !important;\n",
       "  margin: 0;\n",
       "}\n",
       "\n",
       ".xr-dim-list li {\n",
       "  display: inline-block;\n",
       "  padding: 0;\n",
       "  margin: 0;\n",
       "}\n",
       "\n",
       ".xr-dim-list:before {\n",
       "  content: '(';\n",
       "}\n",
       "\n",
       ".xr-dim-list:after {\n",
       "  content: ')';\n",
       "}\n",
       "\n",
       ".xr-dim-list li:not(:last-child):after {\n",
       "  content: ',';\n",
       "  padding-right: 5px;\n",
       "}\n",
       "\n",
       ".xr-has-index {\n",
       "  font-weight: bold;\n",
       "}\n",
       "\n",
       ".xr-var-list,\n",
       ".xr-var-item {\n",
       "  display: contents;\n",
       "}\n",
       "\n",
       ".xr-var-item > div,\n",
       ".xr-var-item label,\n",
       ".xr-var-item > .xr-var-name span {\n",
       "  background-color: var(--xr-background-color-row-even);\n",
       "  margin-bottom: 0;\n",
       "}\n",
       "\n",
       ".xr-var-item > .xr-var-name:hover span {\n",
       "  padding-right: 5px;\n",
       "}\n",
       "\n",
       ".xr-var-list > li:nth-child(odd) > div,\n",
       ".xr-var-list > li:nth-child(odd) > label,\n",
       ".xr-var-list > li:nth-child(odd) > .xr-var-name span {\n",
       "  background-color: var(--xr-background-color-row-odd);\n",
       "}\n",
       "\n",
       ".xr-var-name {\n",
       "  grid-column: 1;\n",
       "}\n",
       "\n",
       ".xr-var-dims {\n",
       "  grid-column: 2;\n",
       "}\n",
       "\n",
       ".xr-var-dtype {\n",
       "  grid-column: 3;\n",
       "  text-align: right;\n",
       "  color: var(--xr-font-color2);\n",
       "}\n",
       "\n",
       ".xr-var-preview {\n",
       "  grid-column: 4;\n",
       "}\n",
       "\n",
       ".xr-var-name,\n",
       ".xr-var-dims,\n",
       ".xr-var-dtype,\n",
       ".xr-preview,\n",
       ".xr-attrs dt {\n",
       "  white-space: nowrap;\n",
       "  overflow: hidden;\n",
       "  text-overflow: ellipsis;\n",
       "  padding-right: 10px;\n",
       "}\n",
       "\n",
       ".xr-var-name:hover,\n",
       ".xr-var-dims:hover,\n",
       ".xr-var-dtype:hover,\n",
       ".xr-attrs dt:hover {\n",
       "  overflow: visible;\n",
       "  width: auto;\n",
       "  z-index: 1;\n",
       "}\n",
       "\n",
       ".xr-var-attrs,\n",
       ".xr-var-data {\n",
       "  display: none;\n",
       "  background-color: var(--xr-background-color) !important;\n",
       "  padding-bottom: 5px !important;\n",
       "}\n",
       "\n",
       ".xr-var-attrs-in:checked ~ .xr-var-attrs,\n",
       ".xr-var-data-in:checked ~ .xr-var-data {\n",
       "  display: block;\n",
       "}\n",
       "\n",
       ".xr-var-data > table {\n",
       "  float: right;\n",
       "}\n",
       "\n",
       ".xr-var-name span,\n",
       ".xr-var-data,\n",
       ".xr-attrs {\n",
       "  padding-left: 25px !important;\n",
       "}\n",
       "\n",
       ".xr-attrs,\n",
       ".xr-var-attrs,\n",
       ".xr-var-data {\n",
       "  grid-column: 1 / -1;\n",
       "}\n",
       "\n",
       "dl.xr-attrs {\n",
       "  padding: 0;\n",
       "  margin: 0;\n",
       "  display: grid;\n",
       "  grid-template-columns: 125px auto;\n",
       "}\n",
       "\n",
       ".xr-attrs dt, dd {\n",
       "  padding: 0;\n",
       "  margin: 0;\n",
       "  float: left;\n",
       "  padding-right: 10px;\n",
       "  width: auto;\n",
       "}\n",
       "\n",
       ".xr-attrs dt {\n",
       "  font-weight: normal;\n",
       "  grid-column: 1;\n",
       "}\n",
       "\n",
       ".xr-attrs dt:hover span {\n",
       "  display: inline-block;\n",
       "  background: var(--xr-background-color);\n",
       "  padding-right: 10px;\n",
       "}\n",
       "\n",
       ".xr-attrs dd {\n",
       "  grid-column: 2;\n",
       "  white-space: pre-wrap;\n",
       "  word-break: break-all;\n",
       "}\n",
       "\n",
       ".xr-icon-database,\n",
       ".xr-icon-file-text2 {\n",
       "  display: inline-block;\n",
       "  vertical-align: middle;\n",
       "  width: 1em;\n",
       "  height: 1.5em !important;\n",
       "  stroke-width: 0;\n",
       "  stroke: currentColor;\n",
       "  fill: currentColor;\n",
       "}\n",
       "</style><div class='xr-wrap'><div class='xr-header'><div class='xr-obj-type'>xarray.Dataset</div></div><ul class='xr-sections'><li class='xr-section-item'><input id='section-cd0777d8-499d-42f5-8b2c-8a4e2d92bd8c' class='xr-section-summary-in' type='checkbox' disabled ><label for='section-cd0777d8-499d-42f5-8b2c-8a4e2d92bd8c' class='xr-section-summary'  title='Expand/collapse section'>Dimensions:</label><div class='xr-section-inline-details'><ul class='xr-dim-list'><li><span>BHWE2T</span>: 2</li><li><span class='xr-has-index'>clock</span>: 2</li><li><span class='xr-has-index'>time</span>: 10</li></ul></div><div class='xr-section-details'></div></li><li class='xr-section-item'><input id='section-46d96142-d204-4496-a775-9fd7d181815b' class='xr-section-summary-in' type='checkbox'  checked><label for='section-46d96142-d204-4496-a775-9fd7d181815b' class='xr-section-summary' >Coordinates: <span>(2)</span></label><div class='xr-section-inline-details'></div><div class='xr-section-details'><ul class='xr-var-list'><li class='xr-var-item'><div class='xr-var-name'><span class='xr-has-index'>clock</span></div><div class='xr-var-dims'>(clock)</div><div class='xr-var-dtype'>int64</div><div class='xr-var-preview xr-preview'>0 1</div><input id='attrs-4f76208e-be26-4b58-9716-f48e8c4d8751' class='xr-var-attrs-in' type='checkbox' ><label for='attrs-4f76208e-be26-4b58-9716-f48e8c4d8751' title='Show/Hide attributes'><svg class='icon xr-icon-file-text2'><use xlink:href='#icon-file-text2'></use></svg></label><input id='data-363a461b-3331-4fb3-bf19-08fe31e0de66' class='xr-var-data-in' type='checkbox'><label for='data-363a461b-3331-4fb3-bf19-08fe31e0de66' title='Show/Hide data repr'><svg class='icon xr-icon-database'><use xlink:href='#icon-database'></use></svg></label><div class='xr-var-attrs'><dl class='xr-attrs'><dt><span>__xsimlab_master_clock__ :</span></dt><dd>1</dd><dt><span>__xsimlab_output_clock__ :</span></dt><dd>1</dd></dl></div><pre class='xr-var-data'>array([0, 1])</pre></li><li class='xr-var-item'><div class='xr-var-name'><span class='xr-has-index'>time</span></div><div class='xr-var-dims'>(time)</div><div class='xr-var-dtype'>float64</div><div class='xr-var-preview xr-preview'>0.0 0.1 0.2 0.3 ... 0.6 0.7 0.8 0.9</div><input id='attrs-b6653b0c-be9e-47e0-afd7-4de5b553f281' class='xr-var-attrs-in' type='checkbox' ><label for='attrs-b6653b0c-be9e-47e0-afd7-4de5b553f281' title='Show/Hide attributes'><svg class='icon xr-icon-file-text2'><use xlink:href='#icon-file-text2'></use></svg></label><input id='data-22da4fd9-643b-4d37-b26a-f24a1cdedc55' class='xr-var-data-in' type='checkbox'><label for='data-22da4fd9-643b-4d37-b26a-f24a1cdedc55' title='Show/Hide data repr'><svg class='icon xr-icon-database'><use xlink:href='#icon-database'></use></svg></label><div class='xr-var-attrs'><dl class='xr-attrs'><dt><span>description :</span></dt><dd>time in days</dd><dt><span>_FillValue :</span></dt><dd>nan</dd></dl></div><pre class='xr-var-data'>array([0. , 0.1, 0.2, 0.3, 0.4, 0.5, 0.6, 0.7, 0.8, 0.9])</pre></li></ul></div></li><li class='xr-section-item'><input id='section-f0ba2c78-6b4c-4074-b60c-f710e576ea09' class='xr-section-summary-in' type='checkbox'  checked><label for='section-f0ba2c78-6b4c-4074-b60c-f710e576ea09' class='xr-section-summary' >Data variables: <span>(6)</span></label><div class='xr-section-inline-details'></div><div class='xr-section-details'><ul class='xr-var-list'><li class='xr-var-item'><div class='xr-var-name'><span>N__initVal</span></div><div class='xr-var-dims'>()</div><div class='xr-var-dtype'>int64</div><div class='xr-var-preview xr-preview'>1</div><input id='attrs-d226e4c6-460c-4afc-8147-7f16f97ef158' class='xr-var-attrs-in' type='checkbox' ><label for='attrs-d226e4c6-460c-4afc-8147-7f16f97ef158' title='Show/Hide attributes'><svg class='icon xr-icon-file-text2'><use xlink:href='#icon-file-text2'></use></svg></label><input id='data-85d7f829-75a2-4a0c-a4f6-b4b299ca2b13' class='xr-var-data-in' type='checkbox'><label for='data-85d7f829-75a2-4a0c-a4f6-b4b299ca2b13' title='Show/Hide data repr'><svg class='icon xr-icon-database'><use xlink:href='#icon-database'></use></svg></label><div class='xr-var-attrs'><dl class='xr-attrs'><dt><span>description :</span></dt><dd>initial value of component</dd></dl></div><pre class='xr-var-data'>array(1)</pre></li><li class='xr-var-item'><div class='xr-var-name'><span>N__value</span></div><div class='xr-var-dims'>(time)</div><div class='xr-var-dtype'>float64</div><div class='xr-var-preview xr-preview'>1.0 1.01 1.02 ... 1.07 1.08 1.09</div><input id='attrs-8fe47a7a-2424-48a2-8287-2bca8d6f9e2a' class='xr-var-attrs-in' type='checkbox' ><label for='attrs-8fe47a7a-2424-48a2-8287-2bca8d6f9e2a' title='Show/Hide attributes'><svg class='icon xr-icon-file-text2'><use xlink:href='#icon-file-text2'></use></svg></label><input id='data-8ad119e3-5464-4c29-a672-bb6ffb5a118b' class='xr-var-data-in' type='checkbox'><label for='data-8ad119e3-5464-4c29-a672-bb6ffb5a118b' title='Show/Hide data repr'><svg class='icon xr-icon-database'><use xlink:href='#icon-database'></use></svg></label><div class='xr-var-attrs'><dl class='xr-attrs'><dt><span>description :</span></dt><dd>stores the value of component state variable</dd><dt><span>_FillValue :</span></dt><dd>nan</dd></dl></div><pre class='xr-var-data'>array([1.  , 1.01, 1.02, 1.03, 1.04, 1.05, 1.06, 1.07, 1.08, 1.09])</pre></li><li class='xr-var-item'><div class='xr-var-name'><span>P__initVal</span></div><div class='xr-var-dims'>()</div><div class='xr-var-dtype'>int64</div><div class='xr-var-preview xr-preview'>1</div><input id='attrs-eda8a321-6cb3-483d-af1c-72b065622669' class='xr-var-attrs-in' type='checkbox' ><label for='attrs-eda8a321-6cb3-483d-af1c-72b065622669' title='Show/Hide attributes'><svg class='icon xr-icon-file-text2'><use xlink:href='#icon-file-text2'></use></svg></label><input id='data-69db4d98-3624-4ec4-9ede-bd93d908edba' class='xr-var-data-in' type='checkbox'><label for='data-69db4d98-3624-4ec4-9ede-bd93d908edba' title='Show/Hide data repr'><svg class='icon xr-icon-database'><use xlink:href='#icon-database'></use></svg></label><div class='xr-var-attrs'><dl class='xr-attrs'><dt><span>description :</span></dt><dd>initial value of component</dd></dl></div><pre class='xr-var-data'>array(1)</pre></li><li class='xr-var-item'><div class='xr-var-name'><span>P__value</span></div><div class='xr-var-dims'>(time)</div><div class='xr-var-dtype'>float64</div><div class='xr-var-preview xr-preview'>1.0 1.01 1.02 ... 1.07 1.08 1.09</div><input id='attrs-12643910-ae95-4ca7-a594-8d59541ed3c7' class='xr-var-attrs-in' type='checkbox' ><label for='attrs-12643910-ae95-4ca7-a594-8d59541ed3c7' title='Show/Hide attributes'><svg class='icon xr-icon-file-text2'><use xlink:href='#icon-file-text2'></use></svg></label><input id='data-e29725a4-c765-4949-af46-fd572585b6bf' class='xr-var-data-in' type='checkbox'><label for='data-e29725a4-c765-4949-af46-fd572585b6bf' title='Show/Hide data repr'><svg class='icon xr-icon-database'><use xlink:href='#icon-database'></use></svg></label><div class='xr-var-attrs'><dl class='xr-attrs'><dt><span>description :</span></dt><dd>stores the value of component state variable</dd><dt><span>_FillValue :</span></dt><dd>nan</dd></dl></div><pre class='xr-var-data'>array([1.  , 1.01, 1.02, 1.03, 1.04, 1.05, 1.06, 1.07, 1.08, 1.09])</pre></li><li class='xr-var-item'><div class='xr-var-name'><span>growth__components</span></div><div class='xr-var-dims'>(BHWE2T)</div><div class='xr-var-dtype'>&lt;U1</div><div class='xr-var-preview xr-preview'>&#x27;N&#x27; &#x27;P&#x27;</div><input id='attrs-187d7603-6c9c-4422-bf71-d3e9bc79ecb9' class='xr-var-attrs-in' type='checkbox' disabled><label for='attrs-187d7603-6c9c-4422-bf71-d3e9bc79ecb9' title='Show/Hide attributes'><svg class='icon xr-icon-file-text2'><use xlink:href='#icon-file-text2'></use></svg></label><input id='data-957f836c-1200-45cf-a39b-130ab4408633' class='xr-var-data-in' type='checkbox'><label for='data-957f836c-1200-45cf-a39b-130ab4408633' title='Show/Hide data repr'><svg class='icon xr-icon-database'><use xlink:href='#icon-database'></use></svg></label><div class='xr-var-attrs'><dl class='xr-attrs'></dl></div><pre class='xr-var-data'>array([&#x27;N&#x27;, &#x27;P&#x27;], dtype=&#x27;&lt;U1&#x27;)</pre></li><li class='xr-var-item'><div class='xr-var-name'><span>time__days</span></div><div class='xr-var-dims'>(time)</div><div class='xr-var-dtype'>float64</div><div class='xr-var-preview xr-preview'>0.0 0.1 0.2 0.3 ... 0.6 0.7 0.8 0.9</div><input id='attrs-5fa95ae5-51c8-439b-8988-86d1e74bc248' class='xr-var-attrs-in' type='checkbox' ><label for='attrs-5fa95ae5-51c8-439b-8988-86d1e74bc248' title='Show/Hide attributes'><svg class='icon xr-icon-file-text2'><use xlink:href='#icon-file-text2'></use></svg></label><input id='data-d8f12094-1e0b-4f0f-a81a-d4d99f2ee413' class='xr-var-data-in' type='checkbox'><label for='data-d8f12094-1e0b-4f0f-a81a-d4d99f2ee413' title='Show/Hide data repr'><svg class='icon xr-icon-database'><use xlink:href='#icon-database'></use></svg></label><div class='xr-var-attrs'><dl class='xr-attrs'><dt><span>description :</span></dt><dd>time in days</dd><dt><span>_FillValue :</span></dt><dd>nan</dd></dl></div><pre class='xr-var-data'>array([0. , 0.1, 0.2, 0.3, 0.4, 0.5, 0.6, 0.7, 0.8, 0.9])</pre></li></ul></div></li><li class='xr-section-item'><input id='section-fb369d35-4e81-42f8-92ca-861e302161a6' class='xr-section-summary-in' type='checkbox' disabled ><label for='section-fb369d35-4e81-42f8-92ca-861e302161a6' class='xr-section-summary'  title='Expand/collapse section'>Attributes: <span>(0)</span></label><div class='xr-section-inline-details'></div><div class='xr-section-details'><dl class='xr-attrs'></dl></div></li></ul></div></div>"
      ],
      "text/plain": [
       "<xarray.Dataset>\n",
       "Dimensions:             (BHWE2T: 2, clock: 2, time: 10)\n",
       "Coordinates:\n",
       "  * clock               (clock) int64 0 1\n",
       "  * time                (time) float64 0.0 0.1 0.2 0.3 0.4 0.5 0.6 0.7 0.8 0.9\n",
       "Dimensions without coordinates: BHWE2T\n",
       "Data variables:\n",
       "    N__initVal          int64 1\n",
       "    N__value            (time) float64 1.0 1.01 1.02 1.03 ... 1.07 1.08 1.09\n",
       "    P__initVal          int64 1\n",
       "    P__value            (time) float64 1.0 1.01 1.02 1.03 ... 1.07 1.08 1.09\n",
       "    growth__components  (BHWE2T) <U1 'N' 'P'\n",
       "    time__days          (time) float64 0.0 0.1 0.2 0.3 0.4 0.5 0.6 0.7 0.8 0.9"
      ]
     },
     "execution_count": 344,
     "metadata": {},
     "output_type": "execute_result"
    }
   ],
   "source": [
    "out_ds"
   ]
  },
  {
   "cell_type": "code",
   "execution_count": null,
   "metadata": {},
   "outputs": [],
   "source": []
  },
  {
   "cell_type": "code",
   "execution_count": null,
   "metadata": {},
   "outputs": [],
   "source": []
  },
  {
   "cell_type": "code",
   "execution_count": null,
   "metadata": {},
   "outputs": [],
   "source": []
  },
  {
   "cell_type": "code",
   "execution_count": 18,
   "metadata": {},
   "outputs": [],
   "source": [
    "MDL = xs.Model({'core':GekkoCore, 'time':Time, \n",
    "                \n",
    "                'env':Environment, 'SV':Component, 'Flux':Intermediate,\n",
    "               \n",
    "                'solve':GekkoSolve\n",
    "               })"
   ]
  },
  {
   "cell_type": "code",
   "execution_count": 19,
   "metadata": {},
   "outputs": [],
   "source": [
    "in_ds = xs.create_setup(model=MDL,\n",
    "                        clocks={'clock': [0,1]},\n",
    "                        input_vars={\n",
    "                            'time':{'days':np.arange(1,10)},\n",
    "                            'Flux__label':'SV'\n",
    "                        },\n",
    "                        output_vars={\n",
    "                            'SV__value':None\n",
    "                        })"
   ]
  },
  {
   "cell_type": "code",
   "execution_count": 20,
   "metadata": {},
   "outputs": [
    {
     "name": "stdout",
     "output_type": "stream",
     "text": [
      "initializing model core\n",
      "Initializing Model Time\n",
      "initializing SV\n",
      "initializing Intermediate\n",
      "defaultdict(None, {'SV': [0.1]})\n",
      "assembling Equations\n",
      "{'_remote': False, '_server': 'http://byu.apmonitor.com', 'options': <gekko.gk_global_options.GKGlobalOptions object at 0x1141f61f0>, '_id': 1, '_gui_open': False, '_constants': [], '_parameters': [], '_variables': [0, 0], '_intermediates': [], '_inter_equations': [], '_equations': [<gekko.gekko.EquationObj object at 0x1142373a0>, <gekko.gekko.EquationObj object at 0x114237fa0>], '_objectives': [], '_connections': [], '_objects': [], '_compounds': [], '_raw': [], 'time': array([1, 2, 3, 4, 5, 6, 7, 8, 9]), '_model_initialized': False, '_csv_status': None, '_model': '', '_model_name': 'phydra', '_path': '/var/folders/s8/8ypwvww534g_q5s51__36bmc0000gp/T/tmpxe8v5w_2phydra', 'path': '/var/folders/s8/8ypwvww534g_q5s51__36bmc0000gp/T/tmpxe8v5w_2phydra', '_extra_files': [], 'solver_options': [], 'timevar': 0, 'env': defaultdict(None, {'SV': [0.1]})}\n",
      "Running solver now\n",
      "ModelSolve done in 0.01 seconds\n",
      "{'_remote': False, '_server': 'http://byu.apmonitor.com', 'options': <gekko.gk_global_options.GKGlobalOptions object at 0x1141f61f0>, '_id': 1, '_gui_open': False, '_constants': [], '_parameters': [], '_variables': [[0.0, 1.0, 2.0, 3.0, 4.0, 5.0, 6.0, 7.0, 8.0], [0.0, 0.1, 0.2, 0.3, 0.4, 0.5, 0.6, 0.7, 0.8]], '_intermediates': [], '_inter_equations': [], '_equations': [<gekko.gekko.EquationObj object at 0x1142373a0>, <gekko.gekko.EquationObj object at 0x114237fa0>], '_objectives': [], '_connections': [], '_objects': [], '_compounds': [], '_raw': [], 'time': array([1, 2, 3, 4, 5, 6, 7, 8, 9]), '_model_initialized': True, '_csv_status': None, '_model': 'auto-generated', '_model_name': 'phydra', '_path': '/var/folders/s8/8ypwvww534g_q5s51__36bmc0000gp/T/tmpxe8v5w_2phydra', 'path': '/var/folders/s8/8ypwvww534g_q5s51__36bmc0000gp/T/tmpxe8v5w_2phydra', '_extra_files': [], 'solver_options': [], 'timevar': [0.0, 1.0, 2.0, 3.0, 4.0, 5.0, 6.0, 7.0, 8.0], 'env': defaultdict(None, {'SV': [0.1]}), 'csv_status': 'generated'}\n",
      "finalizing gekko core: cleanup\n"
     ]
    }
   ],
   "source": [
    "with MDL:\n",
    "    out_ds = in_ds.xsimlab.run()"
   ]
  },
  {
   "cell_type": "code",
   "execution_count": 11,
   "metadata": {},
   "outputs": [
    {
     "data": {
      "text/html": [
       "<div><svg style=\"position: absolute; width: 0; height: 0; overflow: hidden\">\n",
       "<defs>\n",
       "<symbol id=\"icon-database\" viewBox=\"0 0 32 32\">\n",
       "<title>Show/Hide data repr</title>\n",
       "<path d=\"M16 0c-8.837 0-16 2.239-16 5v4c0 2.761 7.163 5 16 5s16-2.239 16-5v-4c0-2.761-7.163-5-16-5z\"></path>\n",
       "<path d=\"M16 17c-8.837 0-16-2.239-16-5v6c0 2.761 7.163 5 16 5s16-2.239 16-5v-6c0 2.761-7.163 5-16 5z\"></path>\n",
       "<path d=\"M16 26c-8.837 0-16-2.239-16-5v6c0 2.761 7.163 5 16 5s16-2.239 16-5v-6c0 2.761-7.163 5-16 5z\"></path>\n",
       "</symbol>\n",
       "<symbol id=\"icon-file-text2\" viewBox=\"0 0 32 32\">\n",
       "<title>Show/Hide attributes</title>\n",
       "<path d=\"M28.681 7.159c-0.694-0.947-1.662-2.053-2.724-3.116s-2.169-2.030-3.116-2.724c-1.612-1.182-2.393-1.319-2.841-1.319h-15.5c-1.378 0-2.5 1.121-2.5 2.5v27c0 1.378 1.122 2.5 2.5 2.5h23c1.378 0 2.5-1.122 2.5-2.5v-19.5c0-0.448-0.137-1.23-1.319-2.841zM24.543 5.457c0.959 0.959 1.712 1.825 2.268 2.543h-4.811v-4.811c0.718 0.556 1.584 1.309 2.543 2.268zM28 29.5c0 0.271-0.229 0.5-0.5 0.5h-23c-0.271 0-0.5-0.229-0.5-0.5v-27c0-0.271 0.229-0.5 0.5-0.5 0 0 15.499-0 15.5 0v7c0 0.552 0.448 1 1 1h7v19.5z\"></path>\n",
       "<path d=\"M23 26h-14c-0.552 0-1-0.448-1-1s0.448-1 1-1h14c0.552 0 1 0.448 1 1s-0.448 1-1 1z\"></path>\n",
       "<path d=\"M23 22h-14c-0.552 0-1-0.448-1-1s0.448-1 1-1h14c0.552 0 1 0.448 1 1s-0.448 1-1 1z\"></path>\n",
       "<path d=\"M23 18h-14c-0.552 0-1-0.448-1-1s0.448-1 1-1h14c0.552 0 1 0.448 1 1s-0.448 1-1 1z\"></path>\n",
       "</symbol>\n",
       "</defs>\n",
       "</svg>\n",
       "<style>/* CSS stylesheet for displaying xarray objects in jupyterlab.\n",
       " *\n",
       " */\n",
       "\n",
       ":root {\n",
       "  --xr-font-color0: var(--jp-content-font-color0, rgba(0, 0, 0, 1));\n",
       "  --xr-font-color2: var(--jp-content-font-color2, rgba(0, 0, 0, 0.54));\n",
       "  --xr-font-color3: var(--jp-content-font-color3, rgba(0, 0, 0, 0.38));\n",
       "  --xr-border-color: var(--jp-border-color2, #e0e0e0);\n",
       "  --xr-disabled-color: var(--jp-layout-color3, #bdbdbd);\n",
       "  --xr-background-color: var(--jp-layout-color0, white);\n",
       "  --xr-background-color-row-even: var(--jp-layout-color1, white);\n",
       "  --xr-background-color-row-odd: var(--jp-layout-color2, #eeeeee);\n",
       "}\n",
       "\n",
       ".xr-wrap {\n",
       "  min-width: 300px;\n",
       "  max-width: 700px;\n",
       "}\n",
       "\n",
       ".xr-header {\n",
       "  padding-top: 6px;\n",
       "  padding-bottom: 6px;\n",
       "  margin-bottom: 4px;\n",
       "  border-bottom: solid 1px var(--xr-border-color);\n",
       "}\n",
       "\n",
       ".xr-header > div,\n",
       ".xr-header > ul {\n",
       "  display: inline;\n",
       "  margin-top: 0;\n",
       "  margin-bottom: 0;\n",
       "}\n",
       "\n",
       ".xr-obj-type,\n",
       ".xr-array-name {\n",
       "  margin-left: 2px;\n",
       "  margin-right: 10px;\n",
       "}\n",
       "\n",
       ".xr-obj-type {\n",
       "  color: var(--xr-font-color2);\n",
       "}\n",
       "\n",
       ".xr-sections {\n",
       "  padding-left: 0 !important;\n",
       "  display: grid;\n",
       "  grid-template-columns: 150px auto auto 1fr 20px 20px;\n",
       "}\n",
       "\n",
       ".xr-section-item {\n",
       "  display: contents;\n",
       "}\n",
       "\n",
       ".xr-section-item input {\n",
       "  display: none;\n",
       "}\n",
       "\n",
       ".xr-section-item input + label {\n",
       "  color: var(--xr-disabled-color);\n",
       "}\n",
       "\n",
       ".xr-section-item input:enabled + label {\n",
       "  cursor: pointer;\n",
       "  color: var(--xr-font-color2);\n",
       "}\n",
       "\n",
       ".xr-section-item input:enabled + label:hover {\n",
       "  color: var(--xr-font-color0);\n",
       "}\n",
       "\n",
       ".xr-section-summary {\n",
       "  grid-column: 1;\n",
       "  color: var(--xr-font-color2);\n",
       "  font-weight: 500;\n",
       "}\n",
       "\n",
       ".xr-section-summary > span {\n",
       "  display: inline-block;\n",
       "  padding-left: 0.5em;\n",
       "}\n",
       "\n",
       ".xr-section-summary-in:disabled + label {\n",
       "  color: var(--xr-font-color2);\n",
       "}\n",
       "\n",
       ".xr-section-summary-in + label:before {\n",
       "  display: inline-block;\n",
       "  content: '►';\n",
       "  font-size: 11px;\n",
       "  width: 15px;\n",
       "  text-align: center;\n",
       "}\n",
       "\n",
       ".xr-section-summary-in:disabled + label:before {\n",
       "  color: var(--xr-disabled-color);\n",
       "}\n",
       "\n",
       ".xr-section-summary-in:checked + label:before {\n",
       "  content: '▼';\n",
       "}\n",
       "\n",
       ".xr-section-summary-in:checked + label > span {\n",
       "  display: none;\n",
       "}\n",
       "\n",
       ".xr-section-summary,\n",
       ".xr-section-inline-details {\n",
       "  padding-top: 4px;\n",
       "  padding-bottom: 4px;\n",
       "}\n",
       "\n",
       ".xr-section-inline-details {\n",
       "  grid-column: 2 / -1;\n",
       "}\n",
       "\n",
       ".xr-section-details {\n",
       "  display: none;\n",
       "  grid-column: 1 / -1;\n",
       "  margin-bottom: 5px;\n",
       "}\n",
       "\n",
       ".xr-section-summary-in:checked ~ .xr-section-details {\n",
       "  display: contents;\n",
       "}\n",
       "\n",
       ".xr-array-wrap {\n",
       "  grid-column: 1 / -1;\n",
       "  display: grid;\n",
       "  grid-template-columns: 20px auto;\n",
       "}\n",
       "\n",
       ".xr-array-wrap > label {\n",
       "  grid-column: 1;\n",
       "  vertical-align: top;\n",
       "}\n",
       "\n",
       ".xr-preview {\n",
       "  color: var(--xr-font-color3);\n",
       "}\n",
       "\n",
       ".xr-array-preview,\n",
       ".xr-array-data {\n",
       "  padding: 0 5px !important;\n",
       "  grid-column: 2;\n",
       "}\n",
       "\n",
       ".xr-array-data,\n",
       ".xr-array-in:checked ~ .xr-array-preview {\n",
       "  display: none;\n",
       "}\n",
       "\n",
       ".xr-array-in:checked ~ .xr-array-data,\n",
       ".xr-array-preview {\n",
       "  display: inline-block;\n",
       "}\n",
       "\n",
       ".xr-dim-list {\n",
       "  display: inline-block !important;\n",
       "  list-style: none;\n",
       "  padding: 0 !important;\n",
       "  margin: 0;\n",
       "}\n",
       "\n",
       ".xr-dim-list li {\n",
       "  display: inline-block;\n",
       "  padding: 0;\n",
       "  margin: 0;\n",
       "}\n",
       "\n",
       ".xr-dim-list:before {\n",
       "  content: '(';\n",
       "}\n",
       "\n",
       ".xr-dim-list:after {\n",
       "  content: ')';\n",
       "}\n",
       "\n",
       ".xr-dim-list li:not(:last-child):after {\n",
       "  content: ',';\n",
       "  padding-right: 5px;\n",
       "}\n",
       "\n",
       ".xr-has-index {\n",
       "  font-weight: bold;\n",
       "}\n",
       "\n",
       ".xr-var-list,\n",
       ".xr-var-item {\n",
       "  display: contents;\n",
       "}\n",
       "\n",
       ".xr-var-item > div,\n",
       ".xr-var-item label,\n",
       ".xr-var-item > .xr-var-name span {\n",
       "  background-color: var(--xr-background-color-row-even);\n",
       "  margin-bottom: 0;\n",
       "}\n",
       "\n",
       ".xr-var-item > .xr-var-name:hover span {\n",
       "  padding-right: 5px;\n",
       "}\n",
       "\n",
       ".xr-var-list > li:nth-child(odd) > div,\n",
       ".xr-var-list > li:nth-child(odd) > label,\n",
       ".xr-var-list > li:nth-child(odd) > .xr-var-name span {\n",
       "  background-color: var(--xr-background-color-row-odd);\n",
       "}\n",
       "\n",
       ".xr-var-name {\n",
       "  grid-column: 1;\n",
       "}\n",
       "\n",
       ".xr-var-dims {\n",
       "  grid-column: 2;\n",
       "}\n",
       "\n",
       ".xr-var-dtype {\n",
       "  grid-column: 3;\n",
       "  text-align: right;\n",
       "  color: var(--xr-font-color2);\n",
       "}\n",
       "\n",
       ".xr-var-preview {\n",
       "  grid-column: 4;\n",
       "}\n",
       "\n",
       ".xr-var-name,\n",
       ".xr-var-dims,\n",
       ".xr-var-dtype,\n",
       ".xr-preview,\n",
       ".xr-attrs dt {\n",
       "  white-space: nowrap;\n",
       "  overflow: hidden;\n",
       "  text-overflow: ellipsis;\n",
       "  padding-right: 10px;\n",
       "}\n",
       "\n",
       ".xr-var-name:hover,\n",
       ".xr-var-dims:hover,\n",
       ".xr-var-dtype:hover,\n",
       ".xr-attrs dt:hover {\n",
       "  overflow: visible;\n",
       "  width: auto;\n",
       "  z-index: 1;\n",
       "}\n",
       "\n",
       ".xr-var-attrs,\n",
       ".xr-var-data {\n",
       "  display: none;\n",
       "  background-color: var(--xr-background-color) !important;\n",
       "  padding-bottom: 5px !important;\n",
       "}\n",
       "\n",
       ".xr-var-attrs-in:checked ~ .xr-var-attrs,\n",
       ".xr-var-data-in:checked ~ .xr-var-data {\n",
       "  display: block;\n",
       "}\n",
       "\n",
       ".xr-var-data > table {\n",
       "  float: right;\n",
       "}\n",
       "\n",
       ".xr-var-name span,\n",
       ".xr-var-data,\n",
       ".xr-attrs {\n",
       "  padding-left: 25px !important;\n",
       "}\n",
       "\n",
       ".xr-attrs,\n",
       ".xr-var-attrs,\n",
       ".xr-var-data {\n",
       "  grid-column: 1 / -1;\n",
       "}\n",
       "\n",
       "dl.xr-attrs {\n",
       "  padding: 0;\n",
       "  margin: 0;\n",
       "  display: grid;\n",
       "  grid-template-columns: 125px auto;\n",
       "}\n",
       "\n",
       ".xr-attrs dt, dd {\n",
       "  padding: 0;\n",
       "  margin: 0;\n",
       "  float: left;\n",
       "  padding-right: 10px;\n",
       "  width: auto;\n",
       "}\n",
       "\n",
       ".xr-attrs dt {\n",
       "  font-weight: normal;\n",
       "  grid-column: 1;\n",
       "}\n",
       "\n",
       ".xr-attrs dt:hover span {\n",
       "  display: inline-block;\n",
       "  background: var(--xr-background-color);\n",
       "  padding-right: 10px;\n",
       "}\n",
       "\n",
       ".xr-attrs dd {\n",
       "  grid-column: 2;\n",
       "  white-space: pre-wrap;\n",
       "  word-break: break-all;\n",
       "}\n",
       "\n",
       ".xr-icon-database,\n",
       ".xr-icon-file-text2 {\n",
       "  display: inline-block;\n",
       "  vertical-align: middle;\n",
       "  width: 1em;\n",
       "  height: 1.5em !important;\n",
       "  stroke-width: 0;\n",
       "  stroke: currentColor;\n",
       "  fill: currentColor;\n",
       "}\n",
       "</style><div class='xr-wrap'><div class='xr-header'><div class='xr-obj-type'>xarray.Dataset</div></div><ul class='xr-sections'><li class='xr-section-item'><input id='section-39b009da-75ca-411d-a6e4-848bc131a50e' class='xr-section-summary-in' type='checkbox' disabled ><label for='section-39b009da-75ca-411d-a6e4-848bc131a50e' class='xr-section-summary'  title='Expand/collapse section'>Dimensions:</label><div class='xr-section-inline-details'><ul class='xr-dim-list'><li><span class='xr-has-index'>clock</span>: 2</li><li><span class='xr-has-index'>time</span>: 9</li></ul></div><div class='xr-section-details'></div></li><li class='xr-section-item'><input id='section-52487058-8432-4a1d-8f3e-04ff544516eb' class='xr-section-summary-in' type='checkbox'  checked><label for='section-52487058-8432-4a1d-8f3e-04ff544516eb' class='xr-section-summary' >Coordinates: <span>(2)</span></label><div class='xr-section-inline-details'></div><div class='xr-section-details'><ul class='xr-var-list'><li class='xr-var-item'><div class='xr-var-name'><span class='xr-has-index'>clock</span></div><div class='xr-var-dims'>(clock)</div><div class='xr-var-dtype'>int64</div><div class='xr-var-preview xr-preview'>0 1</div><input id='attrs-72e36350-3b6e-401c-8e82-faf6f83171e6' class='xr-var-attrs-in' type='checkbox' ><label for='attrs-72e36350-3b6e-401c-8e82-faf6f83171e6' title='Show/Hide attributes'><svg class='icon xr-icon-file-text2'><use xlink:href='#icon-file-text2'></use></svg></label><input id='data-446f4958-0a4e-4251-852d-d473f7205600' class='xr-var-data-in' type='checkbox'><label for='data-446f4958-0a4e-4251-852d-d473f7205600' title='Show/Hide data repr'><svg class='icon xr-icon-database'><use xlink:href='#icon-database'></use></svg></label><div class='xr-var-attrs'><dl class='xr-attrs'><dt><span>__xsimlab_master_clock__ :</span></dt><dd>1</dd><dt><span>__xsimlab_output_clock__ :</span></dt><dd>1</dd></dl></div><pre class='xr-var-data'>array([0, 1])</pre></li><li class='xr-var-item'><div class='xr-var-name'><span class='xr-has-index'>time</span></div><div class='xr-var-dims'>(time)</div><div class='xr-var-dtype'>int64</div><div class='xr-var-preview xr-preview'>1 2 3 4 5 6 7 8 9</div><input id='attrs-fb14a7a0-b571-4744-8630-dc1c01ae2506' class='xr-var-attrs-in' type='checkbox' ><label for='attrs-fb14a7a0-b571-4744-8630-dc1c01ae2506' title='Show/Hide attributes'><svg class='icon xr-icon-file-text2'><use xlink:href='#icon-file-text2'></use></svg></label><input id='data-66076b2a-89f4-4216-80a3-c8ac64b925d1' class='xr-var-data-in' type='checkbox'><label for='data-66076b2a-89f4-4216-80a3-c8ac64b925d1' title='Show/Hide data repr'><svg class='icon xr-icon-database'><use xlink:href='#icon-database'></use></svg></label><div class='xr-var-attrs'><dl class='xr-attrs'><dt><span>description :</span></dt><dd>time in days</dd><dt><span>_FillValue :</span></dt><dd>0</dd></dl></div><pre class='xr-var-data'>array([1, 2, 3, 4, 5, 6, 7, 8, 9])</pre></li></ul></div></li><li class='xr-section-item'><input id='section-5eebc8c2-c7b8-47f6-8c9a-1b4b640bd108' class='xr-section-summary-in' type='checkbox'  checked><label for='section-5eebc8c2-c7b8-47f6-8c9a-1b4b640bd108' class='xr-section-summary' >Data variables: <span>(3)</span></label><div class='xr-section-inline-details'></div><div class='xr-section-details'><ul class='xr-var-list'><li class='xr-var-item'><div class='xr-var-name'><span>Flux__label</span></div><div class='xr-var-dims'>()</div><div class='xr-var-dtype'>&lt;U2</div><div class='xr-var-preview xr-preview'>&#x27;SV&#x27;</div><input id='attrs-c5be4b9a-2efd-45da-8e2d-2f0568d2bbbb' class='xr-var-attrs-in' type='checkbox' disabled><label for='attrs-c5be4b9a-2efd-45da-8e2d-2f0568d2bbbb' title='Show/Hide attributes'><svg class='icon xr-icon-file-text2'><use xlink:href='#icon-file-text2'></use></svg></label><input id='data-8f0898a7-32f0-44bb-a030-6c5cca1f115b' class='xr-var-data-in' type='checkbox'><label for='data-8f0898a7-32f0-44bb-a030-6c5cca1f115b' title='Show/Hide data repr'><svg class='icon xr-icon-database'><use xlink:href='#icon-database'></use></svg></label><div class='xr-var-attrs'><dl class='xr-attrs'></dl></div><pre class='xr-var-data'>array(&#x27;SV&#x27;, dtype=&#x27;&lt;U2&#x27;)</pre></li><li class='xr-var-item'><div class='xr-var-name'><span>SV__value</span></div><div class='xr-var-dims'>(time)</div><div class='xr-var-dtype'>float64</div><div class='xr-var-preview xr-preview'>0.0 0.1 0.2 0.3 0.4 0.5 0.6 0.7 0.8</div><input id='attrs-6b06fb65-cc9a-4672-90d3-227b091c7313' class='xr-var-attrs-in' type='checkbox' ><label for='attrs-6b06fb65-cc9a-4672-90d3-227b091c7313' title='Show/Hide attributes'><svg class='icon xr-icon-file-text2'><use xlink:href='#icon-file-text2'></use></svg></label><input id='data-e80d0d52-56d0-4ce0-be9b-93d2e3873649' class='xr-var-data-in' type='checkbox'><label for='data-e80d0d52-56d0-4ce0-be9b-93d2e3873649' title='Show/Hide data repr'><svg class='icon xr-icon-database'><use xlink:href='#icon-database'></use></svg></label><div class='xr-var-attrs'><dl class='xr-attrs'><dt><span>_FillValue :</span></dt><dd>nan</dd></dl></div><pre class='xr-var-data'>array([0. , 0.1, 0.2, 0.3, 0.4, 0.5, 0.6, 0.7, 0.8])</pre></li><li class='xr-var-item'><div class='xr-var-name'><span>time__days</span></div><div class='xr-var-dims'>(time)</div><div class='xr-var-dtype'>int64</div><div class='xr-var-preview xr-preview'>1 2 3 4 5 6 7 8 9</div><input id='attrs-3d059c33-7deb-401c-ad28-7f96ab9c88dd' class='xr-var-attrs-in' type='checkbox' ><label for='attrs-3d059c33-7deb-401c-ad28-7f96ab9c88dd' title='Show/Hide attributes'><svg class='icon xr-icon-file-text2'><use xlink:href='#icon-file-text2'></use></svg></label><input id='data-e1c626ab-211a-47bd-8346-75be26436582' class='xr-var-data-in' type='checkbox'><label for='data-e1c626ab-211a-47bd-8346-75be26436582' title='Show/Hide data repr'><svg class='icon xr-icon-database'><use xlink:href='#icon-database'></use></svg></label><div class='xr-var-attrs'><dl class='xr-attrs'><dt><span>description :</span></dt><dd>time in days</dd></dl></div><pre class='xr-var-data'>array([1, 2, 3, 4, 5, 6, 7, 8, 9])</pre></li></ul></div></li><li class='xr-section-item'><input id='section-1a31e865-fa30-464d-97ec-d25a56dc31f3' class='xr-section-summary-in' type='checkbox' disabled ><label for='section-1a31e865-fa30-464d-97ec-d25a56dc31f3' class='xr-section-summary'  title='Expand/collapse section'>Attributes: <span>(0)</span></label><div class='xr-section-inline-details'></div><div class='xr-section-details'><dl class='xr-attrs'></dl></div></li></ul></div></div>"
      ],
      "text/plain": [
       "<xarray.Dataset>\n",
       "Dimensions:      (clock: 2, time: 9)\n",
       "Coordinates:\n",
       "  * clock        (clock) int64 0 1\n",
       "  * time         (time) int64 1 2 3 4 5 6 7 8 9\n",
       "Data variables:\n",
       "    Flux__label  <U2 'SV'\n",
       "    SV__value    (time) float64 0.0 0.1 0.2 0.3 0.4 0.5 0.6 0.7 0.8\n",
       "    time__days   (time) int64 1 2 3 4 5 6 7 8 9"
      ]
     },
     "execution_count": 11,
     "metadata": {},
     "output_type": "execute_result"
    }
   ],
   "source": [
    "out_ds"
   ]
  },
  {
   "cell_type": "code",
   "execution_count": null,
   "metadata": {},
   "outputs": [],
   "source": []
  },
  {
   "cell_type": "code",
   "execution_count": null,
   "metadata": {},
   "outputs": [],
   "source": []
  },
  {
   "cell_type": "code",
   "execution_count": null,
   "metadata": {},
   "outputs": [],
   "source": []
  },
  {
   "cell_type": "code",
   "execution_count": null,
   "metadata": {},
   "outputs": [],
   "source": []
  },
  {
   "cell_type": "code",
   "execution_count": null,
   "metadata": {},
   "outputs": [],
   "source": []
  },
  {
   "cell_type": "code",
   "execution_count": 63,
   "metadata": {},
   "outputs": [
    {
     "name": "stdout",
     "output_type": "stream",
     "text": [
      "growthrate\n"
     ]
    },
    {
     "data": {
      "text/plain": [
       "[1.0, 1.05, 1.1, 1.15, 1.2, 1.25, 1.3, 1.35, 1.4, 1.45]"
      ]
     },
     "execution_count": 63,
     "metadata": {},
     "output_type": "execute_result"
    }
   ],
   "source": [
    "print(x)\n",
    "q_dx"
   ]
  },
  {
   "cell_type": "code",
   "execution_count": 58,
   "metadata": {},
   "outputs": [],
   "source": [
    "q.Connection(q_x,x)\n",
    "\n",
    "m.Connection(x,q_x)"
   ]
  },
  {
   "cell_type": "code",
   "execution_count": 53,
   "metadata": {},
   "outputs": [],
   "source": [
    "q = GEKKO(remote=False)"
   ]
  },
  {
   "cell_type": "code",
   "execution_count": 62,
   "metadata": {},
   "outputs": [],
   "source": [
    "m = GEKKO(remote=False)"
   ]
  },
  {
   "cell_type": "code",
   "execution_count": 55,
   "metadata": {},
   "outputs": [],
   "source": [
    "q_x = q.Param(1, name='growthrate')\n",
    "\n",
    "q_dx = q.SV(1, name='X')"
   ]
  },
  {
   "cell_type": "code",
   "execution_count": 56,
   "metadata": {},
   "outputs": [],
   "source": [
    "q_dxdt = q.Equation(q_dx.dt()==q_x/2)"
   ]
  },
  {
   "cell_type": "code",
   "execution_count": 63,
   "metadata": {},
   "outputs": [],
   "source": [
    "x = m.Param(1, name='growthrate')\n",
    "\n",
    "dx = m.SV(1, name='X')"
   ]
  },
  {
   "cell_type": "code",
   "execution_count": 64,
   "metadata": {},
   "outputs": [
    {
     "data": {
      "text/plain": [
       "['growthrate']"
      ]
     },
     "execution_count": 64,
     "metadata": {},
     "output_type": "execute_result"
    }
   ],
   "source": [
    "[par.name for par in m._parameters]"
   ]
  },
  {
   "cell_type": "code",
   "execution_count": 65,
   "metadata": {},
   "outputs": [
    {
     "data": {
      "text/plain": [
       "['x']"
      ]
     },
     "execution_count": 65,
     "metadata": {},
     "output_type": "execute_result"
    }
   ],
   "source": [
    "[var.name for var in m._variables]"
   ]
  },
  {
   "cell_type": "code",
   "execution_count": 66,
   "metadata": {},
   "outputs": [
    {
     "data": {
      "text/plain": [
       "[1]"
      ]
     },
     "execution_count": 66,
     "metadata": {},
     "output_type": "execute_result"
    }
   ],
   "source": [
    "[var.value for var in m._variables]"
   ]
  },
  {
   "cell_type": "code",
   "execution_count": 67,
   "metadata": {},
   "outputs": [],
   "source": [
    "dxdt = m.Equation(dx.dt()==x/2)"
   ]
  },
  {
   "cell_type": "code",
   "execution_count": 68,
   "metadata": {},
   "outputs": [
    {
     "data": {
      "text/plain": [
       "['$x=((growthrate)/(2))']"
      ]
     },
     "execution_count": 68,
     "metadata": {},
     "output_type": "execute_result"
    }
   ],
   "source": [
    "[eq.value for eq in m._equations]"
   ]
  },
  {
   "cell_type": "code",
   "execution_count": 69,
   "metadata": {},
   "outputs": [
    {
     "data": {
      "text/plain": [
       "'$x=((growthrate)/(2))'"
      ]
     },
     "execution_count": 69,
     "metadata": {},
     "output_type": "execute_result"
    }
   ],
   "source": [
    "dxdt.value"
   ]
  },
  {
   "cell_type": "code",
   "execution_count": 59,
   "metadata": {},
   "outputs": [
    {
     "ename": "Exception",
     "evalue": "@error: Degrees of Freedom\n * Error: DOF must be zero for this mode\n STOPPING...\n",
     "output_type": "error",
     "traceback": [
      "\u001b[0;31m---------------------------------------------------------------------------\u001b[0m",
      "\u001b[0;31mException\u001b[0m                                 Traceback (most recent call last)",
      "\u001b[0;32m<ipython-input-59-ff53bd31586b>\u001b[0m in \u001b[0;36m<module>\u001b[0;34m\u001b[0m\n\u001b[1;32m      3\u001b[0m \u001b[0mm\u001b[0m\u001b[0;34m.\u001b[0m\u001b[0moptions\u001b[0m\u001b[0;34m.\u001b[0m\u001b[0mIMODE\u001b[0m\u001b[0;34m=\u001b[0m\u001b[0;36m7\u001b[0m\u001b[0;34m\u001b[0m\u001b[0;34m\u001b[0m\u001b[0m\n\u001b[1;32m      4\u001b[0m \u001b[0;34m\u001b[0m\u001b[0m\n\u001b[0;32m----> 5\u001b[0;31m \u001b[0mm\u001b[0m\u001b[0;34m.\u001b[0m\u001b[0msolve\u001b[0m\u001b[0;34m(\u001b[0m\u001b[0mdisp\u001b[0m\u001b[0;34m=\u001b[0m\u001b[0;32mFalse\u001b[0m\u001b[0;34m)\u001b[0m\u001b[0;34m\u001b[0m\u001b[0;34m\u001b[0m\u001b[0m\n\u001b[0m",
      "\u001b[0;32m~/opt/miniconda3/envs/xsimlab/lib/python3.8/site-packages/gekko/gekko.py\u001b[0m in \u001b[0;36msolve\u001b[0;34m(self, disp, debug, GUI, **kwargs)\u001b[0m\n\u001b[1;32m   2057\u001b[0m                 \u001b[0mprint\u001b[0m\u001b[0;34m(\u001b[0m\u001b[0;34m\"Error:\"\u001b[0m\u001b[0;34m,\u001b[0m \u001b[0merrs\u001b[0m\u001b[0;34m)\u001b[0m\u001b[0;34m\u001b[0m\u001b[0;34m\u001b[0m\u001b[0m\n\u001b[1;32m   2058\u001b[0m             \u001b[0;32mif\u001b[0m \u001b[0;34m(\u001b[0m\u001b[0mdebug\u001b[0m \u001b[0;34m>=\u001b[0m \u001b[0;36m1\u001b[0m\u001b[0;34m)\u001b[0m \u001b[0;32mand\u001b[0m \u001b[0mrecord_error\u001b[0m\u001b[0;34m:\u001b[0m\u001b[0;34m\u001b[0m\u001b[0;34m\u001b[0m\u001b[0m\n\u001b[0;32m-> 2059\u001b[0;31m                 \u001b[0;32mraise\u001b[0m \u001b[0mException\u001b[0m\u001b[0;34m(\u001b[0m\u001b[0mapm_error\u001b[0m\u001b[0;34m)\u001b[0m\u001b[0;34m\u001b[0m\u001b[0;34m\u001b[0m\u001b[0m\n\u001b[0m\u001b[1;32m   2060\u001b[0m \u001b[0;34m\u001b[0m\u001b[0m\n\u001b[1;32m   2061\u001b[0m         \u001b[0;32melse\u001b[0m\u001b[0;34m:\u001b[0m \u001b[0;31m#solve on APM server\u001b[0m\u001b[0;34m\u001b[0m\u001b[0;34m\u001b[0m\u001b[0m\n",
      "\u001b[0;31mException\u001b[0m: @error: Degrees of Freedom\n * Error: DOF must be zero for this mode\n STOPPING...\n"
     ]
    }
   ],
   "source": [
    "m.time=np.arange(0,1,.1)\n",
    "\n",
    "m.options.IMODE=7\n",
    "\n",
    "m.solve(disp=False)"
   ]
  },
  {
   "cell_type": "code",
   "execution_count": 60,
   "metadata": {},
   "outputs": [],
   "source": [
    "q.time=np.arange(0,1,.1)\n",
    "\n",
    "q.options.IMODE=7\n",
    "\n",
    "q.solve(disp=False)"
   ]
  },
  {
   "cell_type": "code",
   "execution_count": 70,
   "metadata": {},
   "outputs": [
    {
     "data": {
      "text/plain": [
       "[gekko.gk_operators.GK_Value]"
      ]
     },
     "execution_count": 70,
     "metadata": {},
     "output_type": "execute_result"
    }
   ],
   "source": [
    "[type(var.value) for var in m._variables]"
   ]
  },
  {
   "cell_type": "code",
   "execution_count": 101,
   "metadata": {},
   "outputs": [
    {
     "data": {
      "text/plain": [
       "1"
      ]
     },
     "execution_count": 101,
     "metadata": {},
     "output_type": "execute_result"
    }
   ],
   "source": [
    "dx.value"
   ]
  },
  {
   "cell_type": "code",
   "execution_count": 12,
   "metadata": {},
   "outputs": [
    {
     "data": {
      "text/plain": [
       "{'_remote': False,\n",
       " '_server': 'http://byu.apmonitor.com',\n",
       " 'options': <gekko.gk_global_options.GKGlobalOptions at 0x1048a36a0>,\n",
       " '_id': 0,\n",
       " '_gui_open': False,\n",
       " '_constants': [],\n",
       " '_parameters': [[1.0, 1.0, 1.0, 1.0, 1.0, 1.0, 1.0, 1.0, 1.0, 1.0]],\n",
       " '_variables': [[1.0, 1.05, 1.1, 1.15, 1.2, 1.25, 1.3, 1.35, 1.4, 1.45]],\n",
       " '_intermediates': [],\n",
       " '_inter_equations': [],\n",
       " '_equations': [<gekko.gekko.EquationObj at 0x1105f9700>],\n",
       " '_objectives': [],\n",
       " '_connections': [],\n",
       " '_objects': [],\n",
       " '_compounds': [],\n",
       " '_raw': [],\n",
       " 'time': array([0. , 0.1, 0.2, 0.3, 0.4, 0.5, 0.6, 0.7, 0.8, 0.9]),\n",
       " '_model_initialized': True,\n",
       " '_csv_status': None,\n",
       " '_model': 'auto-generated',\n",
       " '_model_name': 'gk_model0',\n",
       " '_path': '/var/folders/s8/8ypwvww534g_q5s51__36bmc0000gp/T/tmp6zq07x1rgk_model0',\n",
       " 'path': '/var/folders/s8/8ypwvww534g_q5s51__36bmc0000gp/T/tmp6zq07x1rgk_model0',\n",
       " '_extra_files': [],\n",
       " 'solver_options': [],\n",
       " 'csv_status': 'generated'}"
      ]
     },
     "execution_count": 12,
     "metadata": {},
     "output_type": "execute_result"
    }
   ],
   "source": [
    "m.__dict__\n",
    "# dir(m)"
   ]
  },
  {
   "cell_type": "code",
   "execution_count": null,
   "metadata": {},
   "outputs": [],
   "source": []
  },
  {
   "cell_type": "code",
   "execution_count": 1,
   "metadata": {},
   "outputs": [],
   "source": [
    "import numpy as np\n",
    "from gekko import GEKKO\n",
    "import matplotlib.pyplot as plt\n",
    "\n",
    "m = GEKKO(remote=False)    # create GEKKO model\n",
    "\n",
    "halfsat_const = m.Param(0.5)#, name='k_N')\n",
    "N0 = m.Param(1.)#, name='$N^\\emptyset$')\n",
    "inflow_rate = m.Param(0.1)#, name='f^\\\\emptyset')\n",
    "mortality_rate = m.Param(0.1)#, name='m^P')\n",
    "\n",
    "N = m.SV(1)#, name='N_1')\n",
    "P = m.SV(0.1)#, name='P_1')"
   ]
  },
  {
   "cell_type": "code",
   "execution_count": 2,
   "metadata": {},
   "outputs": [],
   "source": [
    "start_range = 5\n",
    "start_tinysteps=np.arange(0,start_range, .1)\n",
    "t = np.arange(start_range,10)\n",
    "\n",
    "new_t = np.concatenate([start_tinysteps, t])\n",
    "time = np.arange(0,1,.1) # new_t\n",
    "\n",
    "nutlim = m.Intermediate(N/(N+halfsat_const)*P)#, name='\\lambda^N')\n",
    "N_influx = m.Intermediate(N0 * inflow_rate)#, name='influx^N')\n",
    "mortality = m.Intermediate(P * mortality_rate)#, name='mort^P')\n",
    "\n",
    "m.time = time\n",
    "\n",
    "dNdt = m.Equation(N.dt()==N0 *inflow_rate - N/(N+halfsat_const)*P)\n",
    "dPdt = m.Equation(P.dt()==N/(N+halfsat_const)*P - P * mortality_rate)\n",
    "\n",
    "m.options.REDUCE = 3\n",
    "m.options.NODES = 3\n",
    "m.options.IMODE = 7\n",
    "#m.options.DIAGLEVEL = 4"
   ]
  },
  {
   "cell_type": "code",
   "execution_count": 3,
   "metadata": {},
   "outputs": [
    {
     "ename": "AttributeError",
     "evalue": "'EquationObj' object has no attribute 'name'",
     "output_type": "error",
     "traceback": [
      "\u001b[0;31m---------------------------------------------------------------------------\u001b[0m",
      "\u001b[0;31mAttributeError\u001b[0m                            Traceback (most recent call last)",
      "\u001b[0;32m<ipython-input-3-32be9f06fc98>\u001b[0m in \u001b[0;36m<module>\u001b[0;34m\u001b[0m\n\u001b[0;32m----> 1\u001b[0;31m \u001b[0mdNdt\u001b[0m\u001b[0;34m.\u001b[0m\u001b[0mname\u001b[0m\u001b[0;34m\u001b[0m\u001b[0;34m\u001b[0m\u001b[0m\n\u001b[0m",
      "\u001b[0;31mAttributeError\u001b[0m: 'EquationObj' object has no attribute 'name'"
     ]
    }
   ],
   "source": [
    "dNdt.name"
   ]
  },
  {
   "cell_type": "code",
   "execution_count": 4,
   "metadata": {},
   "outputs": [
    {
     "data": {
      "text/plain": [
       "{'_remote': False,\n",
       " '_server': 'http://byu.apmonitor.com',\n",
       " 'options': <gekko.gk_global_options.GKGlobalOptions at 0x10336e280>,\n",
       " '_id': 0,\n",
       " '_gui_open': False,\n",
       " '_constants': [],\n",
       " '_parameters': [0.5, 1.0, 0.1, 0.1],\n",
       " '_variables': [1, 0.1],\n",
       " '_intermediates': [0, 0, 0],\n",
       " '_inter_equations': ['((((v1)/((v1+p1))))*(v2))',\n",
       "  '((p2)*(p3))',\n",
       "  '((v2)*(p4))'],\n",
       " '_equations': [<gekko.gekko.EquationObj at 0x11226b880>,\n",
       "  <gekko.gekko.EquationObj at 0x11226b8e0>],\n",
       " '_objectives': [],\n",
       " '_connections': [],\n",
       " '_objects': [],\n",
       " '_compounds': [],\n",
       " '_raw': [],\n",
       " 'time': array([0. , 0.1, 0.2, 0.3, 0.4, 0.5, 0.6, 0.7, 0.8, 0.9]),\n",
       " '_model_initialized': False,\n",
       " '_csv_status': None,\n",
       " '_model': '',\n",
       " '_model_name': 'gk_model0',\n",
       " '_path': '/var/folders/s8/8ypwvww534g_q5s51__36bmc0000gp/T/tmp93ipijvngk_model0',\n",
       " 'path': '/var/folders/s8/8ypwvww534g_q5s51__36bmc0000gp/T/tmp93ipijvngk_model0',\n",
       " '_extra_files': [],\n",
       " 'solver_options': []}"
      ]
     },
     "execution_count": 4,
     "metadata": {},
     "output_type": "execute_result"
    }
   ],
   "source": [
    "m.__dict__"
   ]
  },
  {
   "cell_type": "code",
   "execution_count": 6,
   "metadata": {},
   "outputs": [],
   "source": [
    "#m.gk_logic_tree()\n",
    "#m.get_names()\n",
    "m.open_folder()\n",
    "\n",
    "m.cleanup()"
   ]
  },
  {
   "cell_type": "code",
   "execution_count": 10,
   "metadata": {},
   "outputs": [
    {
     "name": "stdout",
     "output_type": "stream",
     "text": [
      " ----------------------------------------------------------------\n",
      " APMonitor, Version 0.9.2\n",
      " APMonitor Optimization Suite\n",
      " ----------------------------------------------------------------\n",
      " \n",
      " Called files(          55 )\n",
      " File copy failed: overrides.dbs does not exist\n",
      " files: overrides.dbs does not exist\n",
      " ARGUMENT            1 : gk_model1\n",
      " ARGUMENT            2 : \n",
      " \n",
      " Run id   : 2020y07m01d00h14m56.892s\n",
      " \n",
      " COMMAND LINE ARGUMENTS\n",
      " coldstart:            0\n",
      " imode    :            7\n",
      " dbs_read :  T\n",
      " dbs_write:  T\n",
      " specs    :  T\n",
      " \n",
      " sqs selected\n",
      " Called files(          35 )\n",
      " READ info FILE FOR VARIABLE DEFINITION: gk_model1.info\n",
      " Parsing model file gk_model1.apm\n",
      " Read model file (sec):   2.0000000076834112E-003\n",
      " Initialize constants (sec):   0.0000000000000000     \n",
      " Determine model size (sec):   9.9999998928979039E-004\n",
      " Allocate memory (sec):   0.0000000000000000     \n",
      " Parse and store model (sec):   0.0000000000000000     \n",
      " \n",
      " --------- APM Model Size ------------\n",
      " Each time step contains\n",
      "   Objects      :            0\n",
      "   Constants    :            0\n",
      "   Variables    :            6\n",
      "   Intermediates:            3\n",
      "   Connections  :            0\n",
      "   Equations    :            5\n",
      "   Residuals    :            2\n",
      " \n",
      " Error checking (sec):   1.0000000183936208E-003\n",
      " @error: Model Expression\n",
      " *** Error in syntax of function string: Invalid element: v1\n",
      "\n",
      "Position: 5                   \n",
      " ((((v1)/((v1+p1))))*(v2))\n",
      "     ?\n",
      "\n",
      "\n"
     ]
    },
    {
     "ename": "Exception",
     "evalue": "@error: Model Expression\n *** Error in syntax of function string: Invalid element: v1\n\nPosition: 5                   \n ((((v1)/((v1+p1))))*(v2))\n     ?\n\n",
     "output_type": "error",
     "traceback": [
      "\u001b[0;31m---------------------------------------------------------------------------\u001b[0m",
      "\u001b[0;31mException\u001b[0m                                 Traceback (most recent call last)",
      "\u001b[0;32m<ipython-input-10-5a6ec0364643>\u001b[0m in \u001b[0;36m<module>\u001b[0;34m\u001b[0m\n\u001b[0;32m----> 1\u001b[0;31m \u001b[0mm\u001b[0m\u001b[0;34m.\u001b[0m\u001b[0msolve\u001b[0m\u001b[0;34m(\u001b[0m\u001b[0;34m)\u001b[0m\u001b[0;34m\u001b[0m\u001b[0;34m\u001b[0m\u001b[0m\n\u001b[0m",
      "\u001b[0;32m~/opt/miniconda3/envs/xsimlab/lib/python3.8/site-packages/gekko/gekko.py\u001b[0m in \u001b[0;36msolve\u001b[0;34m(self, disp, debug, GUI, **kwargs)\u001b[0m\n\u001b[1;32m   2057\u001b[0m                 \u001b[0mprint\u001b[0m\u001b[0;34m(\u001b[0m\u001b[0;34m\"Error:\"\u001b[0m\u001b[0;34m,\u001b[0m \u001b[0merrs\u001b[0m\u001b[0;34m)\u001b[0m\u001b[0;34m\u001b[0m\u001b[0;34m\u001b[0m\u001b[0m\n\u001b[1;32m   2058\u001b[0m             \u001b[0;32mif\u001b[0m \u001b[0;34m(\u001b[0m\u001b[0mdebug\u001b[0m \u001b[0;34m>=\u001b[0m \u001b[0;36m1\u001b[0m\u001b[0;34m)\u001b[0m \u001b[0;32mand\u001b[0m \u001b[0mrecord_error\u001b[0m\u001b[0;34m:\u001b[0m\u001b[0;34m\u001b[0m\u001b[0;34m\u001b[0m\u001b[0m\n\u001b[0;32m-> 2059\u001b[0;31m                 \u001b[0;32mraise\u001b[0m \u001b[0mException\u001b[0m\u001b[0;34m(\u001b[0m\u001b[0mapm_error\u001b[0m\u001b[0;34m)\u001b[0m\u001b[0;34m\u001b[0m\u001b[0;34m\u001b[0m\u001b[0m\n\u001b[0m\u001b[1;32m   2060\u001b[0m \u001b[0;34m\u001b[0m\u001b[0m\n\u001b[1;32m   2061\u001b[0m         \u001b[0;32melse\u001b[0m\u001b[0;34m:\u001b[0m \u001b[0;31m#solve on APM server\u001b[0m\u001b[0;34m\u001b[0m\u001b[0;34m\u001b[0m\u001b[0m\n",
      "\u001b[0;31mException\u001b[0m: @error: Model Expression\n *** Error in syntax of function string: Invalid element: v1\n\nPosition: 5                   \n ((((v1)/((v1+p1))))*(v2))\n     ?\n\n"
     ]
    }
   ],
   "source": [
    "m.solve()"
   ]
  },
  {
   "cell_type": "code",
   "execution_count": 4,
   "metadata": {},
   "outputs": [
    {
     "name": "stdout",
     "output_type": "stream",
     "text": [
      "n_1\n"
     ]
    },
    {
     "data": {
      "text/plain": [
       "gekko.gk_operators.GK_Value"
      ]
     },
     "execution_count": 4,
     "metadata": {},
     "output_type": "execute_result"
    }
   ],
   "source": [
    "print(N.name)\n",
    "type(N.value)"
   ]
  },
  {
   "cell_type": "code",
   "execution_count": 5,
   "metadata": {},
   "outputs": [],
   "source": [
    "m.open_folder()"
   ]
  },
  {
   "cell_type": "code",
   "execution_count": 5,
   "metadata": {},
   "outputs": [
    {
     "data": {
      "text/plain": [
       "'phytoplankton'"
      ]
     },
     "execution_count": 5,
     "metadata": {},
     "output_type": "execute_result"
    }
   ],
   "source": [
    "P.name"
   ]
  },
  {
   "cell_type": "code",
   "execution_count": 6,
   "metadata": {},
   "outputs": [
    {
     "name": "stdout",
     "output_type": "stream",
     "text": [
      "Found __\n",
      "Found halfsat_const\n",
      "Found N0\n",
      "Found inflow_rate\n",
      "Found mortality_rate\n",
      "Found N\n",
      "Found P\n",
      "Found nutlim\n",
      "Found N_influx\n",
      "Found mortality\n",
      "Found _4\n"
     ]
    }
   ],
   "source": [
    "m.get_names()"
   ]
  },
  {
   "cell_type": "code",
   "execution_count": null,
   "metadata": {},
   "outputs": [],
   "source": []
  },
  {
   "cell_type": "code",
   "execution_count": 2,
   "metadata": {},
   "outputs": [],
   "source": [
    "m = GEKKO(remote=False)"
   ]
  },
  {
   "cell_type": "code",
   "execution_count": 3,
   "metadata": {},
   "outputs": [],
   "source": [
    "x = m.Param(1, name='growthrate')\n",
    "\n",
    "dx = m.SV(1, name='X')"
   ]
  },
  {
   "cell_type": "code",
   "execution_count": 4,
   "metadata": {},
   "outputs": [
    {
     "data": {
      "text/plain": [
       "['growthrate']"
      ]
     },
     "execution_count": 4,
     "metadata": {},
     "output_type": "execute_result"
    }
   ],
   "source": [
    "[par.name for par in m._parameters]"
   ]
  },
  {
   "cell_type": "code",
   "execution_count": 5,
   "metadata": {},
   "outputs": [
    {
     "data": {
      "text/plain": [
       "['x']"
      ]
     },
     "execution_count": 5,
     "metadata": {},
     "output_type": "execute_result"
    }
   ],
   "source": [
    "[var.name for var in m._variables]"
   ]
  },
  {
   "cell_type": "code",
   "execution_count": 6,
   "metadata": {},
   "outputs": [
    {
     "data": {
      "text/plain": [
       "[1]"
      ]
     },
     "execution_count": 6,
     "metadata": {},
     "output_type": "execute_result"
    }
   ],
   "source": [
    "[var.value for var in m._variables]"
   ]
  },
  {
   "cell_type": "code",
   "execution_count": 7,
   "metadata": {},
   "outputs": [],
   "source": [
    "dxdt = m.Equation(dx.dt()==x/2)"
   ]
  },
  {
   "cell_type": "code",
   "execution_count": 10,
   "metadata": {},
   "outputs": [
    {
     "data": {
      "text/plain": [
       "['$x=((growthrate)/(2))']"
      ]
     },
     "execution_count": 10,
     "metadata": {},
     "output_type": "execute_result"
    }
   ],
   "source": [
    "[eq.value for eq in m._equations]"
   ]
  },
  {
   "cell_type": "code",
   "execution_count": 8,
   "metadata": {},
   "outputs": [
    {
     "data": {
      "text/plain": [
       "'$x=((growthrate)/(2))'"
      ]
     },
     "execution_count": 8,
     "metadata": {},
     "output_type": "execute_result"
    }
   ],
   "source": [
    "dxdt.value"
   ]
  },
  {
   "cell_type": "code",
   "execution_count": 11,
   "metadata": {},
   "outputs": [],
   "source": [
    "m.time=np.arange(0,1,.1)\n",
    "\n",
    "m.options.IMODE=7\n",
    "\n",
    "m.solve(disp=False)"
   ]
  },
  {
   "cell_type": "code",
   "execution_count": 12,
   "metadata": {},
   "outputs": [
    {
     "data": {
      "text/plain": [
       "[[1.0, 1.05, 1.1, 1.15, 1.2, 1.25, 1.3, 1.35, 1.4, 1.45]]"
      ]
     },
     "execution_count": 12,
     "metadata": {},
     "output_type": "execute_result"
    }
   ],
   "source": [
    "[var.value for var in m._variables]"
   ]
  },
  {
   "cell_type": "code",
   "execution_count": 13,
   "metadata": {},
   "outputs": [
    {
     "data": {
      "text/plain": [
       "[1.0, 1.05, 1.1, 1.15, 1.2, 1.25, 1.3, 1.35, 1.4, 1.45]"
      ]
     },
     "execution_count": 13,
     "metadata": {},
     "output_type": "execute_result"
    }
   ],
   "source": [
    "dx.value"
   ]
  },
  {
   "cell_type": "code",
   "execution_count": 12,
   "metadata": {},
   "outputs": [
    {
     "data": {
      "text/plain": [
       "{'_remote': False,\n",
       " '_server': 'http://byu.apmonitor.com',\n",
       " 'options': <gekko.gk_global_options.GKGlobalOptions at 0x1048a36a0>,\n",
       " '_id': 0,\n",
       " '_gui_open': False,\n",
       " '_constants': [],\n",
       " '_parameters': [[1.0, 1.0, 1.0, 1.0, 1.0, 1.0, 1.0, 1.0, 1.0, 1.0]],\n",
       " '_variables': [[1.0, 1.05, 1.1, 1.15, 1.2, 1.25, 1.3, 1.35, 1.4, 1.45]],\n",
       " '_intermediates': [],\n",
       " '_inter_equations': [],\n",
       " '_equations': [<gekko.gekko.EquationObj at 0x1105f9700>],\n",
       " '_objectives': [],\n",
       " '_connections': [],\n",
       " '_objects': [],\n",
       " '_compounds': [],\n",
       " '_raw': [],\n",
       " 'time': array([0. , 0.1, 0.2, 0.3, 0.4, 0.5, 0.6, 0.7, 0.8, 0.9]),\n",
       " '_model_initialized': True,\n",
       " '_csv_status': None,\n",
       " '_model': 'auto-generated',\n",
       " '_model_name': 'gk_model0',\n",
       " '_path': '/var/folders/s8/8ypwvww534g_q5s51__36bmc0000gp/T/tmp6zq07x1rgk_model0',\n",
       " 'path': '/var/folders/s8/8ypwvww534g_q5s51__36bmc0000gp/T/tmp6zq07x1rgk_model0',\n",
       " '_extra_files': [],\n",
       " 'solver_options': [],\n",
       " 'csv_status': 'generated'}"
      ]
     },
     "execution_count": 12,
     "metadata": {},
     "output_type": "execute_result"
    }
   ],
   "source": [
    "m.__dict__\n",
    "# dir(m)"
   ]
  },
  {
   "cell_type": "code",
   "execution_count": null,
   "metadata": {},
   "outputs": [],
   "source": []
  },
  {
   "cell_type": "code",
   "execution_count": null,
   "metadata": {},
   "outputs": [],
   "source": []
  },
  {
   "cell_type": "code",
   "execution_count": null,
   "metadata": {},
   "outputs": [],
   "source": []
  },
  {
   "cell_type": "code",
   "execution_count": 24,
   "metadata": {},
   "outputs": [
    {
     "name": "stdout",
     "output_type": "stream",
     "text": [
      "Found x\n",
      "Found dx\n"
     ]
    }
   ],
   "source": [
    "#m.get_names()"
   ]
  },
  {
   "cell_type": "code",
   "execution_count": 32,
   "metadata": {},
   "outputs": [],
   "source": []
  },
  {
   "cell_type": "code",
   "execution_count": 38,
   "metadata": {},
   "outputs": [
    {
     "data": {
      "text/plain": [
       "'hello'"
      ]
     },
     "execution_count": 38,
     "metadata": {},
     "output_type": "execute_result"
    }
   ],
   "source": [
    "m.hello.name"
   ]
  },
  {
   "cell_type": "code",
   "execution_count": 34,
   "metadata": {},
   "outputs": [],
   "source": [
    "m.gk_logic_tree()"
   ]
  },
  {
   "cell_type": "code",
   "execution_count": 35,
   "metadata": {},
   "outputs": [],
   "source": [
    "m.open_folder()"
   ]
  },
  {
   "cell_type": "code",
   "execution_count": 36,
   "metadata": {},
   "outputs": [
    {
     "name": "stdout",
     "output_type": "stream",
     "text": [
      "Directory /var/folders/s8/8ypwvww534g_q5s51__36bmc0000gp/T/tmp2vawc5vdheeey not found\n"
     ]
    }
   ],
   "source": [
    "m.cleanup()"
   ]
  },
  {
   "cell_type": "code",
   "execution_count": 37,
   "metadata": {},
   "outputs": [],
   "source": [
    "m.clear()"
   ]
  },
  {
   "cell_type": "code",
   "execution_count": 55,
   "metadata": {},
   "outputs": [
    {
     "data": {
      "text/plain": [
       "['Array',\n",
       " 'CV',\n",
       " 'Connection',\n",
       " 'Const',\n",
       " 'Equation',\n",
       " 'Equations',\n",
       " 'FV',\n",
       " 'GUI',\n",
       " 'Intermediate',\n",
       " 'MV',\n",
       " 'Maximize',\n",
       " 'Minimize',\n",
       " 'Obj',\n",
       " 'Param',\n",
       " 'Raw',\n",
       " 'SV',\n",
       " 'Var',\n",
       " '__class__',\n",
       " '__delattr__',\n",
       " '__dict__',\n",
       " '__dir__',\n",
       " '__doc__',\n",
       " '__eq__',\n",
       " '__format__',\n",
       " '__ge__',\n",
       " '__getattribute__',\n",
       " '__gt__',\n",
       " '__hash__',\n",
       " '__init__',\n",
       " '__init_subclass__',\n",
       " '__le__',\n",
       " '__lt__',\n",
       " '__module__',\n",
       " '__ne__',\n",
       " '__new__',\n",
       " '__reduce__',\n",
       " '__reduce_ex__',\n",
       " '__repr__',\n",
       " '__setattr__',\n",
       " '__sizeof__',\n",
       " '__str__',\n",
       " '__subclasshook__',\n",
       " '__weakref__',\n",
       " '_build_model',\n",
       " '_compounds',\n",
       " '_connections',\n",
       " '_constants',\n",
       " '_csv_status',\n",
       " '_equations',\n",
       " '_extra_files',\n",
       " '_generate_dbs_file',\n",
       " '_gui_open',\n",
       " '_id',\n",
       " '_ids',\n",
       " '_inter_equations',\n",
       " '_intermediates',\n",
       " '_model',\n",
       " '_model_initialized',\n",
       " '_model_name',\n",
       " '_objectives',\n",
       " '_objects',\n",
       " '_parameters',\n",
       " '_path',\n",
       " '_raw',\n",
       " '_remote',\n",
       " '_server',\n",
       " '_variables',\n",
       " '_write_csv',\n",
       " '_write_info',\n",
       " '_write_solver_options',\n",
       " 'abs',\n",
       " 'abs2',\n",
       " 'abs3',\n",
       " 'acos',\n",
       " 'acosh',\n",
       " 'arx',\n",
       " 'asin',\n",
       " 'asinh',\n",
       " 'atan',\n",
       " 'atanh',\n",
       " 'axb',\n",
       " 'bspline',\n",
       " 'cleanup',\n",
       " 'clear',\n",
       " 'clear_data',\n",
       " 'cos',\n",
       " 'cosh',\n",
       " 'cspline',\n",
       " 'delay',\n",
       " 'erf',\n",
       " 'erfc',\n",
       " 'exp',\n",
       " 'fix',\n",
       " 'free',\n",
       " 'get_names',\n",
       " 'gk_logic_tree',\n",
       " 'if2',\n",
       " 'if3',\n",
       " 'integral',\n",
       " 'like',\n",
       " 'load_JSON',\n",
       " 'load_results',\n",
       " 'log',\n",
       " 'log10',\n",
       " 'max2',\n",
       " 'max3',\n",
       " 'min2',\n",
       " 'min3',\n",
       " 'name_check',\n",
       " 'open_folder',\n",
       " 'options',\n",
       " 'path',\n",
       " 'periodic',\n",
       " 'pwl',\n",
       " 'qobj',\n",
       " 'sign2',\n",
       " 'sign3',\n",
       " 'sin',\n",
       " 'sinh',\n",
       " 'solve',\n",
       " 'solver_options',\n",
       " 'sos1',\n",
       " 'sqrt',\n",
       " 'state_space',\n",
       " 'sum',\n",
       " 'sysid',\n",
       " 'tan',\n",
       " 'tanh',\n",
       " 'time',\n",
       " 'verify_input_options',\n",
       " 'vsum',\n",
       " 'x']"
      ]
     },
     "execution_count": 55,
     "metadata": {},
     "output_type": "execute_result"
    }
   ],
   "source": [
    "dir(m)"
   ]
  },
  {
   "cell_type": "code",
   "execution_count": 28,
   "metadata": {},
   "outputs": [],
   "source": [
    "m.x['test'] = m.SV(name = 'xtest')"
   ]
  },
  {
   "cell_type": "code",
   "execution_count": 30,
   "metadata": {},
   "outputs": [
    {
     "data": {
      "text/plain": [
       "'xtest'"
      ]
     },
     "execution_count": 30,
     "metadata": {},
     "output_type": "execute_result"
    }
   ],
   "source": [
    "m.x['test'].name"
   ]
  },
  {
   "cell_type": "code",
   "execution_count": 36,
   "metadata": {},
   "outputs": [
    {
     "data": {
      "text/plain": [
       "defaultdict(dict, {'test': 0})"
      ]
     },
     "execution_count": 36,
     "metadata": {},
     "output_type": "execute_result"
    }
   ],
   "source": [
    "m.x"
   ]
  },
  {
   "cell_type": "code",
   "execution_count": 35,
   "metadata": {},
   "outputs": [
    {
     "name": "stdout",
     "output_type": "stream",
     "text": [
      "test\n"
     ]
    }
   ],
   "source": [
    "print(m.test.name)\n",
    "# dir(m.test)"
   ]
  },
  {
   "cell_type": "code",
   "execution_count": 46,
   "metadata": {},
   "outputs": [
    {
     "data": {
      "text/plain": [
       "930"
      ]
     },
     "execution_count": 46,
     "metadata": {},
     "output_type": "execute_result"
    }
   ],
   "source": [
    "import numpy as np\n",
    "np.size(np.zeros((31,30)))"
   ]
  },
  {
   "cell_type": "code",
   "execution_count": null,
   "metadata": {},
   "outputs": [],
   "source": []
  }
 ],
 "metadata": {
  "kernelspec": {
   "display_name": "Python 3",
   "language": "python",
   "name": "python3"
  },
  "language_info": {
   "codemirror_mode": {
    "name": "ipython",
    "version": 3
   },
   "file_extension": ".py",
   "mimetype": "text/x-python",
   "name": "python",
   "nbconvert_exporter": "python",
   "pygments_lexer": "ipython3",
   "version": "3.8.3"
  }
 },
 "nbformat": 4,
 "nbformat_minor": 4
}
