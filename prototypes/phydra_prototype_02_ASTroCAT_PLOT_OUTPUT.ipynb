{
 "cells": [
  {
   "cell_type": "code",
   "execution_count": 4,
   "metadata": {},
   "outputs": [],
   "source": [
    "import matplotlib\n",
    "import matplotlib.pyplot as plt\n",
    "import xarray as xr\n",
    "import numpy as np"
   ]
  },
  {
   "cell_type": "markdown",
   "metadata": {},
   "source": [
    "# Plotting ASTroCAT Model Output"
   ]
  },
  {
   "cell_type": "code",
   "execution_count": 5,
   "metadata": {},
   "outputs": [],
   "source": [
    "data = xr.open_dataset('phydra_prototype_ASTroCAT_10y_x90day_timestep.nc')"
   ]
  },
  {
   "cell_type": "code",
   "execution_count": 6,
   "metadata": {},
   "outputs": [],
   "source": [
    "data_coordfix = data.set_index(component = 'env__component', P__sizes='P__size', Z__sizes='Z__size')"
   ]
  },
  {
   "cell_type": "code",
   "execution_count": 7,
   "metadata": {},
   "outputs": [],
   "source": [
    "P_out = data_coordfix.sel(component=['P'+str(i) for i in range(40)])\n",
    "Z_out = data_coordfix.sel(component=['Z'+str(i) for i in range(40)])\n",
    "N_out = data_coordfix.sel(component='N')"
   ]
  },
  {
   "cell_type": "code",
   "execution_count": 8,
   "metadata": {},
   "outputs": [],
   "source": [
    "resolution = 9\n",
    "resmpl_step = 50"
   ]
  },
  {
   "cell_type": "code",
   "execution_count": null,
   "metadata": {},
   "outputs": [],
   "source": [
    "plt.rcParams['figure.figsize'] = [5, 7]\n",
    "\n",
    "#f1, (ax1col, ax1, ax2, ax2col, ax3) = plt.subplots(5, 3, gridspec_kw={'height_ratios': [.1,1,1,.1,1]})#, sharey='row')\n",
    "\n",
    "fig = plt.figure(constrained_layout=True)\n",
    "\n",
    "gs = fig.add_gridspec(nrows=5, ncols=3,\n",
    "                        hspace=0.1, wspace=0.1, height_ratios=[.1,1,1,.1,1])\n",
    "\n",
    "ax1col = fig.add_subplot(gs[0, 1])\n",
    "ax1 = fig.add_subplot(gs[1, 0:3])\n",
    "ax2 = fig.add_subplot(gs[2, 0:3])\n",
    "ax3col = fig.add_subplot(gs[3, 1])\n",
    "ax3 = fig.add_subplot(gs[4, 0:3])\n",
    "\n",
    "\n",
    "plt.setp(ax1, xticks=[1,180,365,365+180,720])\n",
    "from matplotlib.ticker import MaxNLocator\n",
    "for axe in [ax1]:\n",
    "        axe.grid(True, alpha=0.5)\n",
    "        axe.get_yaxis().set_major_locator(MaxNLocator(nbins=4))\n",
    "        axe.tick_params(top=False, right=True, direction=\"in\")\n",
    "\n",
    "plt.setp((ax2, ax3), xticks=[1,365,2*365,3*365,4*365,5*365,6*365,7*365,8*365,9*365,10*365])\n",
    "from matplotlib.ticker import MaxNLocator\n",
    "for axe in (ax2, ax3):  \n",
    "        axe.grid(True, alpha=0.5)\n",
    "        axe.get_yaxis().set_major_locator(MaxNLocator(nbins=4))\n",
    "        axe.tick_params(top=False, right=True, direction=\"in\")\n",
    "        \n",
    "ax1.set_title('Phytoplankton biomass [µM N]')\n",
    "ax1plt = ax1.pcolormesh(P_out.time[:365*2*resolution:resmpl_step],P_out.P__sizes,\n",
    "               P_out.env__stateout[:365*2*resolution:resmpl_step].T)\n",
    "ax1plt\n",
    "ax1.set_yscale('log')\n",
    "ax1.set_yticks([1,2,5,10,20])\n",
    "ax1.get_yaxis().set_major_formatter(matplotlib.ticker.ScalarFormatter())\n",
    "plt.colorbar(ax1plt,cax=ax1col, orientation='horizontal')\n",
    "ax1.set_ylabel('Phytoplankton ESD [µm]')\n",
    "ax1.set_xlabel('Time [days]')\n",
    "    \n",
    "ax2.pcolormesh(P_out.time[::resolution],P_out.P__sizes,P_out.env__stateout[::resolution].T)\n",
    "ax2.set_yscale('log')\n",
    "ax2.set_yticks([1,2,5,10,20])\n",
    "ax2.get_yaxis().set_major_formatter(matplotlib.ticker.ScalarFormatter())\n",
    "ax2.set_ylabel('Phytoplankton ESD [µm]')\n",
    "ax2.set_xlabel('Time [years]')\n",
    "ax2.set_xticklabels(labels=[i for i in range(0,10)])\n",
    "\n",
    "ax3.set_title('Zooplankton biomass [µM N]')\n",
    "ax3plt = ax3.pcolormesh(Z_out.time[::resolution],Z_out.Z__sizes,Z_out.env__stateout[::resolution].T)\n",
    "ax3plt\n",
    "ax3.set_yscale('log')\n",
    "ax3.set_yticks([3,5,10,20,50,100,200,400])\n",
    "ax3.get_yaxis().set_major_formatter(matplotlib.ticker.ScalarFormatter())\n",
    "plt.colorbar(ax3plt, cax=ax3col, orientation='horizontal')\n",
    "ax3.set_ylabel('Zooplankton ESD [µm]')\n",
    "ax3.set_xlabel('Time [years]')\n",
    "ax3.set_xticklabels(labels=[i for i in range(0,10)])\n",
    "\n",
    "# Defining custom 'xlim' and 'ylim' values.\n",
    "xlim = (0, 365*9+364)\n",
    "\n",
    "# Setting the values for all axes.\n",
    "plt.setp((ax2, ax3), xlim=xlim)\n",
    "\n",
    "#f1.align_ylabels()\n",
    "\n",
    "\n",
    "plt.savefig('ASTroCAT_out.pdf', bbox_inches='tight')\n",
    "plt.show()"
   ]
  },
  {
   "cell_type": "code",
   "execution_count": null,
   "metadata": {},
   "outputs": [],
   "source": []
  }
 ],
 "metadata": {
  "kernelspec": {
   "display_name": "Python 3",
   "language": "python",
   "name": "python3"
  },
  "language_info": {
   "codemirror_mode": {
    "name": "ipython",
    "version": 3
   },
   "file_extension": ".py",
   "mimetype": "text/x-python",
   "name": "python",
   "nbconvert_exporter": "python",
   "pygments_lexer": "ipython3",
   "version": "3.8.2"
  }
 },
 "nbformat": 4,
 "nbformat_minor": 4
}
