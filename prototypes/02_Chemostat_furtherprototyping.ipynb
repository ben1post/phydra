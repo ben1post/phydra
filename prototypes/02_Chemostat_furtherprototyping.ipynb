{
 "cells": [
  {
   "cell_type": "code",
   "execution_count": 1,
   "metadata": {},
   "outputs": [],
   "source": [
    "import numpy as np\n",
    "import xsimlab as xs\n",
    "#from scipy.integrate import odeint\n",
    "import matplotlib.pyplot as plt"
   ]
  },
  {
   "cell_type": "code",
   "execution_count": 2,
   "metadata": {},
   "outputs": [],
   "source": [
    "plt.rcParams['figure.figsize'] = [15, 10]"
   ]
  },
  {
   "cell_type": "markdown",
   "metadata": {},
   "source": [
    "# I'll use this notebook to put down ideas I have during the writing process\n",
    "\n",
    "# right now it is just very rough ideas (and stupid ideas), I'll work them out to another more generalistic prototype, where components can be placed in different \"Physical Environments\" and behave differently\n",
    "\n",
    "## current thought road block:\n",
    "### how can i update the state of a component,in the physical environment (which collects all components via xs.group())?\n"
   ]
  },
  {
   "cell_type": "raw",
   "metadata": {},
   "source": [
    "this would for example be a mixing process, that calls from each component their specific mixing parameters (but these could be missing though!) so that you can mix and match components, and the parameters in a specific environment defaults to some number. So, in a model constructed in a certain environment, you could pass the specific parameters for example to Detritus, that would mix faster (or slower) than Phytoplankton for example.\n",
    "\n",
    "for this the parameter initialisation interface would need to be based on user input as well, i.e. for each novel component, you would need to be able to add the forcing parameters, without needing to add it to the component itself.\n",
    "\n",
    "or perhaps more easily, it could look like:\n",
    "class Mixing(PhysicalEnv):\n",
    "    function for mixing\n",
    "    gather all components\n",
    "    gather all component parameters\n",
    "    \n",
    "    calc mixing on all components\n",
    "    \n",
    "xs.Model({'N':Nitrate,\n",
    "'P':Phytoplankton, 'Z':Zooplankton, 'Phyiscs':Mixing\n",
    "})\n",
    "\n",
    "\n",
    "xs.create_setup(\n",
    "...\n",
    "input_vars={\n",
    "'P__num':4,\n",
    "\n",
    "'Physics__P_mixing':5\n",
    "})\n",
    "\n",
    "<-- like this before would be possible to be assigned dynamically, if Mixing collects all component labels, and thereby creates new parameters. I think...\n",
    "\n",
    "ideal would be:\n",
    "\n",
    "xs.create_setup(\n",
    "...\n",
    "input_vars={\n",
    "'P__num':4,\n",
    "'P__mixing':0.1, # but here this was not specifically created beforehand in \"Phytoplankton\", it should just pass it through to the PhysicalEnv, can give error if there is no parameter matching in PhyiscalEnv\n",
    "\n",
    "'Physics__mixing':0.2  # this would be the default parameter, for all components, that have no specific value defined\n",
    "\n",
    "})"
   ]
  },
  {
   "cell_type": "markdown",
   "metadata": {},
   "source": [
    "\n",
    "will need to get coding to find out"
   ]
  },
  {
   "cell_type": "code",
   "execution_count": null,
   "metadata": {},
   "outputs": [],
   "source": [
    "okay another idea:\n",
    "    \n",
    "    this could be done by having a generic \"ForcingParameter\" within each component, or as a separate process\n",
    "    \n",
    "    because, it should return a default value, if not specified. But if it has been changed in model setup, it should return the new parameter.\n",
    "\n",
    "xs.create_setup(\n",
    "    ...\n",
    "    input_vars={\n",
    "        'P__num':4,\n",
    "        'P__ForcingParameter': {'mixing':0.3}\n",
    "    \n",
    "        'Physics__mixing':0.2  # this would be the default parameter, for all components, that have no specific value defined\n",
    "\n",
    "    }\n",
    ")"
   ]
  },
  {
   "cell_type": "raw",
   "metadata": {},
   "source": [
    "# the cool thing about this idea of the \"physical environment\" process collecting all components:\n",
    "with the right dimensionality setup, this would be the process that defines grid point interactions in multi-dimensional setups!\n",
    "\n",
    "or there could be a higher level process, that collects all Phyiscal Environments.. (?) \n"
   ]
  },
  {
   "cell_type": "markdown",
   "metadata": {},
   "source": [
    "# New ideas for solving without explicit time steps:\n",
    "\n",
    "how about simply adding another process, that assembles ALL state variables, and ALL fluxes, and takes the time range as input and computes the integrated model output similarly to how Benoît did it in the npzd_xsimlab.ipynb!\n",
    "\n",
    "then the solving method could be added to the model if desired, and the model input / create setup would decide if that is used! (everything happening in initialize time_step, no run_steps)\n",
    "\n",
    "for that there still needs to be a way to decipher the fluxes from the run_step argument of other fluxes\n",
    "or a need to define fluxes as any_object instead of steps?\n"
   ]
  },
  {
   "cell_type": "code",
   "execution_count": 1,
   "metadata": {},
   "outputs": [
    {
     "name": "stdout",
     "output_type": "stream",
     "text": [
      "Object `separated` not found.\n"
     ]
    }
   ],
   "source": [
    "so the computing step, and the actually flux (function) would be separated?"
   ]
  },
  {
   "cell_type": "code",
   "execution_count": 2,
   "metadata": {},
   "outputs": [
    {
     "ename": "SyntaxError",
     "evalue": "invalid syntax (<ipython-input-2-2b54f8048eb0>, line 1)",
     "output_type": "error",
     "traceback": [
      "\u001b[0;36m  File \u001b[0;32m\"<ipython-input-2-2b54f8048eb0>\"\u001b[0;36m, line \u001b[0;32m1\u001b[0m\n\u001b[0;31m    so the computing step, and the actually flux (function) would be separated\u001b[0m\n\u001b[0m       ^\u001b[0m\n\u001b[0;31mSyntaxError\u001b[0m\u001b[0;31m:\u001b[0m invalid syntax\n"
     ]
    }
   ],
   "source": [
    "so the computing step, and the actually flux (function) would be separated"
   ]
  },
  {
   "cell_type": "code",
   "execution_count": null,
   "metadata": {},
   "outputs": [],
   "source": []
  },
  {
   "cell_type": "code",
   "execution_count": null,
   "metadata": {},
   "outputs": [],
   "source": []
  },
  {
   "cell_type": "markdown",
   "metadata": {},
   "source": [
    "## Older Notes:\n",
    "\n",
    "- the grouping variables are well suited for the kind of flexibility I had envisioned\n",
    "\n",
    "the way it can be set up:\n",
    "\n",
    "component:\n",
    "    collects forcing fluxes\n",
    "    collects component fluxes\n",
    "    \n",
    "    calculates state based on forcing fluxes & component fluxes\n",
    "    (this could also be \"mixing fluxes\" in slab setting, etc.)\n",
    "    \n",
    "    calculation of state can be modified by subclassing forcingflux calcualtion in subclass of component.\n",
    "    \n",
    "    \n",
    "phytoplankton(component):\n",
    "    collects phytoplankton fluxes\n",
    "    collects phytoplanktongrowth modifiers\n",
    "    \n",
    "    calculates state based on phytoplanktongrowth modifiers and fluxes\n",
    "    then super(component).run_step()\n",
    "    \n",
    "\n",
    "mixing(forcingflux):\n",
    "    takes foreign MLD\n",
    "    \n",
    "    calculates mixing flux, excluding biomasses. groups='forcing_flux'\n",
    "    \n",
    "    # to affect once component differently (parameterisation), define here another d_flux, that cancels out forcing flux, and calculates specific one.\n",
    "    #  but there must be a more elegant way..., it should be stored and calculated with the component, i.e. that the forcing flux is there changed. Problem is that this is just what all components share, so not same organisational level as within components.\n",
    "    # why can't it be calculated within another higher level component, and then passed down?\n",
    "    # this would be the physical environment! it would xs.group all components, and then calculate forcings on them? WELL, it could calculate the  part of the fluxes without the parameter! and then within the component, the forcing_fluxes get multiplied by the parameters to add to the state.\n",
    "    # this somehow feels convoluted as well, then each physical environment would call for different components. Why aren't the forcing fluxes simply treated the same as component fluxes? because that means writing it out for each component. But how about, actuall having both, like generic components, that take forcing flux, and then ungener... same problem.\n",
    "    \n",
    "    # so it actually works, by having the forcing process, for example calculate all P fluxes, all Z fluxes (i.e. these share one flux), then one generic mixing term for D, that would be added to each new component, when initializing multiple Zooplankton for example, they would inherit the Z mixing term, P respectively.. this means, if people modify the model enough, they might have to add a new forcing flux to the \"physical environment\".\n",
    "    \n",
    "SlabModel(PhysicalEnvironment):\n",
    "    contains Mixing function\n",
    "    \n",
    "    calculates N, P, Z ,D fluxes, specifically each. This is for each type of component, a specific flux, new components need to be based on classes that contain these, when using this model.\n",
    "\n",
    "lightharvesting(flux):\n",
    "\n",
    "    \n",
    "    "
   ]
  },
  {
   "cell_type": "code",
   "execution_count": null,
   "metadata": {},
   "outputs": [],
   "source": [
    "So interestingly, this connundrum, puts the one issue to the very front.\n",
    "\n",
    "that is parameterisation, like each model component, inherits certain parameters from the phyiscal environment, and from processes.\n",
    "\n",
    "like they make it necessary to implement in each subclass.\n",
    "\n",
    "but this would need to be different, generic Phytoplankton, or N components\n",
    "and the parameters only need to be supplied, if a certain component calls for them. \n",
    "\n",
    "how could this be done??"
   ]
  },
  {
   "cell_type": "code",
   "execution_count": null,
   "metadata": {},
   "outputs": [],
   "source": [
    "both problems are quite related!\n",
    "\n",
    "maybe collect all components, and then the fluxes for that array are calculated within the phyiscal process! again, answer is: make em' arrays\n",
    "    \n",
    "    like, that, each component can supply it's parameter to the array, if it is not specified in component, it is either 0 or a default one!\n",
    "    \n",
    "this would actually work! nice :) \n",
    "    \n",
    "    \n",
    "Physical Environment:\n",
    "    collects all component states\n",
    "    collects all forcing related parameters as arrays in the same order, but try_catch style, if missing to 0 or default\n",
    "    \n",
    "    calculates component fluxes, and updates their states.. is that possible? would be powerful, damn\n"
   ]
  },
  {
   "cell_type": "code",
   "execution_count": null,
   "metadata": {},
   "outputs": [],
   "source": []
  },
  {
   "cell_type": "code",
   "execution_count": null,
   "metadata": {},
   "outputs": [],
   "source": []
  },
  {
   "cell_type": "code",
   "execution_count": null,
   "metadata": {},
   "outputs": [],
   "source": []
  },
  {
   "cell_type": "code",
   "execution_count": null,
   "metadata": {},
   "outputs": [],
   "source": []
  },
  {
   "cell_type": "markdown",
   "metadata": {},
   "source": [
    "# Components\n",
    "Processes defining and tracking the state variables of our model"
   ]
  },
  {
   "cell_type": "code",
   "execution_count": 3,
   "metadata": {},
   "outputs": [],
   "source": [
    "@xs.process\n",
    "class Component:\n",
    "    \"\"\"\n",
    "    Each component of the ecosystem represents a scalar or array of state variables that are defined by the same fluxes.\n",
    "    Multiple state variables can encode different behaviour through parameters, that are kept as arrays of the same dimension as the component.\n",
    "    \"\"\"\n",
    "    num = xs.variable(dims=(),intent='in', description='number of this component (i.e. number of state variables)')\n",
    "\n",
    "    @xs.runtime(args=\"step_delta\")\n",
    "    def run_step(self, dt):\n",
    "        self.delta = sum((v for v in self.fluxes)) * dt  # multiply by time step\n",
    "    \n",
    "    @xs.runtime(args=\"step_delta\")\n",
    "    def finalize_step(self, dt):\n",
    "        self.state += self.delta * self.state\n",
    "        \n",
    "    \n",
    "@xs.process\n",
    "class Nutrient(Component):\n",
    "    \"\"\"\n",
    "    The Nutrient component so far only supports one instance, however more nutrients could be added, by instantiating multiple Nutrient components. (This also makes more ecological sense.)\n",
    "    \"\"\"\n",
    "    N = xs.index(dims='N')\n",
    "    component_label = xs.variable(default='N', groups='component-label', static=True)\n",
    "    \n",
    "    fluxes = xs.group('n_flux')\n",
    "    state = xs.variable(dims='N', intent='inout', groups = 'state-variable', description='component array', attrs={'units': 'µM N'})\n",
    "\n",
    "    # PARAMETERS / INPUTS\n",
    "    num = xs.variable(default=1, static=True, description='number of nutrients (1 by default)')\n",
    "    \n",
    "    def initialize(self):\n",
    "        self.time = 0\n",
    "        self.N = np.array([f\"{self.component_label}-{i+1}\" for i in range(self.num)])\n",
    "            \n",
    "@xs.process\n",
    "class Phytoplankton(Component):\n",
    "    \"\"\"\n",
    "    The Phytoplankton component allows for multiple state variables to be instatiated along the 'P' dimension.\n",
    "    The parameter 'halfsat' is initialized in the ModelSetup process, and describes the half-saturation constant of nutrient uptake for each Phytoplankton state variable along dimension 'P'. \n",
    "    (Note: in this simplified model nutrient uptake = growth, also described as the Monod equation. Any ingested nutrient is directly converted to biomass.)\n",
    "    \n",
    "    Parameters are stored in arrays the same dimensionality as the states, so that each \"Phytoplankton\" can have a different parameterization. The initialisation of the parameter arrays is handled in the ModelSetup class.\n",
    "    \"\"\"\n",
    "    P = xs.index(dims='P')\n",
    "    component_label = xs.variable(default='P', groups='component-label', static=True)\n",
    "    \n",
    "    fluxes = xs.group('p_flux')\n",
    "    state = xs.variable(dims='P', intent='inout', groups = 'state-variable', description='component array', attrs={'units': 'µM N'})\n",
    "    \n",
    "    # PARAMETERS / INPUTS\n",
    "    halfsat = xs.variable(intent='in', dims='P', groups='parameters', attrs={'units': 'µM N'})\n",
    "    mortality = xs.variable(intent='in', dims='P', groups='parameters', attrs={'units': 'd-1'})\n",
    "    \n",
    "    def initialize(self):\n",
    "        self.time = 0\n",
    "        self.P = np.array([f\"{self.component_label}-{i+1}\" for i in range(self.num)])"
   ]
  },
  {
   "cell_type": "markdown",
   "metadata": {},
   "source": [
    "# Fluxes\n",
    "Processes affecting the state variables. Each flux process is a term in the system of differential equations that underly this model."
   ]
  },
  {
   "cell_type": "code",
   "execution_count": 4,
   "metadata": {},
   "outputs": [],
   "source": [
    "@xs.process\n",
    "class NutrientUptake:\n",
    "    \"\"\"\n",
    "    Phytoplankton growth, as a function of nutrient concentrations and the half-saturation constants.\n",
    "    \n",
    "    Two fluxes are defined, one substracting from Nutrient, the other adding to Phytoplankton\n",
    "    \"\"\"\n",
    "    growth = xs.variable(\n",
    "        dims='P',\n",
    "        intent='out',\n",
    "        groups=['p_flux'],\n",
    "        description='phytoplankton growth, under light & nutrient limitation',\n",
    "        attrs={'units': 'µM N d-1'}\n",
    "    )\n",
    "    \n",
    "    uptake = xs.variable(\n",
    "        dims='N',\n",
    "        intent='out',\n",
    "        groups=['n_flux'],\n",
    "        description='sum of all phytoplankton growth',\n",
    "        attrs={'units': 'µM N d-1'}\n",
    "    )\n",
    "    \n",
    "    N = xs.foreign(Nutrient, 'state', intent='in')\n",
    "    P = xs.foreign(Phytoplankton, 'state', intent='in')\n",
    "    P_halfsat = xs.foreign(Phytoplankton, 'halfsat', intent='in')\n",
    "    \n",
    "    def run_step(self):\n",
    "        nutrient_uptake = self.N / (self.P_halfsat + self.N) * self.P\n",
    "        self.growth = np.array(nutrient_uptake, dtype='float64')\n",
    "        self.uptake = np.array(- sum(nutrient_uptake), dtype='float64')\n",
    "\n",
    "        \n",
    "@xs.process\n",
    "class PhytoMortality:\n",
    "    \"\"\"\n",
    "    Phytoplankton mortality at a linear rate.\n",
    "    \n",
    "    The flux is negative\n",
    "    \"\"\"\n",
    "    mortality = xs.variable(\n",
    "        dims='P',\n",
    "        intent='out',\n",
    "        groups=['p_flux'],\n",
    "        description='phytoplankton growth, under light & nutrient limitation',\n",
    "        attrs={'units': 'µM N d-1'}\n",
    "    )\n",
    "    \n",
    "    P = xs.foreign(Phytoplankton, 'state', intent='in')\n",
    "    P_mortality = xs.foreign(Phytoplankton, 'mortality', intent='in')\n",
    "    \n",
    "    def run_step(self):\n",
    "        self.mortality = - sum(np.array([0.1], dtype='float64')) * self.P"
   ]
  },
  {
   "cell_type": "markdown",
   "metadata": {},
   "source": [
    "# Physical Environment"
   ]
  },
  {
   "cell_type": "markdown",
   "metadata": {},
   "source": [
    "It should:\n",
    "- serve as an input point for forcing (can be accessed by other fluxes from here)\n",
    "- collect all components in array\n",
    "- collect all specific forcing params as array (depending on supplied vars, otherwise default var)\n",
    "\n",
    "the calculation of forcing needs to be matrix numpy FAST\n",
    "and ideally, I can aggregate PhysicalEnv component array, into giant matrix! for 3D.. start with 1D\n",
    "\n",
    "Parent Class: PhysicalEnvironment\n",
    "\n",
    "subclass Slab\n"
   ]
  },
  {
   "cell_type": "code",
   "execution_count": 16,
   "metadata": {},
   "outputs": [],
   "source": [
    "@xs.process\n",
    "class PhysicalEnvironment:\n",
    "    \"\"\"\n",
    "    parent class for PE's\n",
    "    \"\"\"\n",
    "    \n",
    "    components = xs.group('state-variable')\n",
    "    forcing = xs.variable(intent='out')\n",
    "    \n",
    "    \n",
    "@xs.process\n",
    "class Slab(PhysicalEnvironment):\n",
    "    \"\"\"\n",
    "    subclass containing specific slab fluxes and calcs\n",
    "    \"\"\"\n",
    "    \n",
    "    def initialize(self):\n",
    "        print(list(self.components))\n",
    "        self.forcing = 2"
   ]
  },
  {
   "cell_type": "markdown",
   "metadata": {},
   "source": [
    "where can I start?\n",
    "can I aggregate all fluxes here, and apply in a matrix wise fashion? \n",
    "\n",
    "also needs to handle Forcings!\n",
    "Forcing should have one basic parent class, and then subclasses to the type of forcing (i.e. MLD), the subsubclass initialized with the model is the one that actually supplies the forcing used, interpolated etc.\n",
    "\n",
    "\n",
    "SO: basic structural properties include:\n",
    "- have one dimension for each component (i.e. multiple P)\n",
    "- have another dimension for each \"model instance\" within the specific PhysEnv.. this needs to be clearly labeled and callable from other processes\n",
    "\n",
    "processes need to act at some level.\n",
    "processes need to take all the parameters within dimension one into account when calcualting\n",
    "and there there could be a higher level of processes that acts on the model instance array\n",
    "\n",
    "and one higher than that, that is exchanges between PhysEnvs\n"
   ]
  },
  {
   "cell_type": "code",
   "execution_count": 17,
   "metadata": {},
   "outputs": [],
   "source": [
    "@xs.process\n",
    "class NutrientSource:\n",
    "    \"\"\"\n",
    "    Chemostat constant nutrient inflow from one direction\n",
    "    \n",
    "    \n",
    "    \"\"\"\n",
    "    supply = xs.variable(\n",
    "        dims='N',\n",
    "        intent='out',\n",
    "        groups=['n_flux'],\n",
    "        description='sum of all phytoplankton growth',\n",
    "        attrs={'units': 'µM N d-1'}\n",
    "    )\n",
    "\n",
    "    N = xs.foreign(Nutrient, 'state', intent='in')\n",
    "    nutrient_influx = xs.variable(intent='in', groups='parameters', attrs={'units': 'µM N d-1'})\n",
    "    \n",
    "    def run_step(self):\n",
    "        self.supply = np.array([self.nutrient_influx], dtype='float64')\n",
    "        \n",
    "@xs.process\n",
    "class Flow:\n",
    "    \"\"\"Outflux of N and P\"\"\"\n",
    "    N_outflux = xs.variable(\n",
    "        dims='N',\n",
    "        intent='out',\n",
    "        groups=['n_flux'],\n",
    "        description='outflux of N',\n",
    "        attrs={'units': 'µM N d-1'}\n",
    "    )\n",
    "    P_outflux = xs.variable(\n",
    "        dims='P',\n",
    "        intent='out',\n",
    "        groups=['p_flux'],\n",
    "        description='outflux of P',\n",
    "        attrs={'units': 'µM N d-1'}\n",
    "    )\n",
    "    \n",
    "    flowrate = xs.variable(intent='in', groups='parameters')\n",
    "    \n",
    "    P = xs.foreign(Phytoplankton, 'state', intent='in')\n",
    "    N = xs.foreign(Nutrient, 'state', intent='in')\n",
    "    \n",
    "    #@xs.runtime(args='step_delta')\n",
    "    def run_step(self):\n",
    "        self.N_outflux = - self.flowrate * self.N \n",
    "        self.P_outflux = - self.flowrate * self.P "
   ]
  },
  {
   "cell_type": "markdown",
   "metadata": {},
   "source": [
    "# Model setup\n",
    "processes that initialize model parameters and state variables from user input, to simplify the user interface"
   ]
  },
  {
   "cell_type": "code",
   "execution_count": 18,
   "metadata": {},
   "outputs": [],
   "source": [
    "@xs.process\n",
    "class ModelSetup:\n",
    "    \"\"\"\n",
    "    Process needs to be inherited by another class, that initializes all variables and parameters\n",
    "    \"\"\"\n",
    "    # Component setup\n",
    "    P_num_out = xs.foreign(Phytoplankton, 'num', intent='out')    \n",
    "    P_init = xs.foreign(Phytoplankton, 'state', intent='out')\n",
    "    N_init = xs.foreign(Nutrient, 'state', intent='out')\n",
    "    \n",
    "    # Phytoplankton parameters\n",
    "    P_halfsat = xs.foreign(Phytoplankton, 'halfsat', intent='out')\n",
    "    P_mortality = xs.foreign(Phytoplankton, 'mortality', intent='out')\n",
    "\n",
    "\n",
    "@xs.process\n",
    "class ChemostatSetup(ModelSetup):\n",
    "    \"\"\"\n",
    "    Sets up necessary parameters and inputs for the Chemostat Model\n",
    "    \"\"\"\n",
    "    # inputs\n",
    "    P_num = xs.variable(intent='in', static=True, description='number of Phytoplankton')\n",
    "    P_initVal = xs.variable(intent='in', description='initial Phytoplankton biomass')\n",
    "    halfsat_min = xs.variable(intent='in', static=True, description='minimum value half-saturation constant of nutrient uptake for P')\n",
    "    halfsat_max = xs.variable(intent='in', static=True, description='maximum half-saturation constant of nutrient uptake for P')\n",
    "    mortality = xs.variable(intent='in', static=True, description='mortality rate of P')\n",
    "    N_initVal = xs.variable(intent='in', static=True, description='initial Nutrient concentration')\n",
    "\n",
    "    \n",
    "    def initialize(self):\n",
    "        self.P_num_out = self.P_num\n",
    "        \n",
    "        self.P_init = np.array([self.P_initVal for i in range(self.P_num)], dtype='float64')\n",
    "        \n",
    "        # there is only one nutrient in the current setup:\n",
    "        self.N_init = np.array([self.N_initVal], dtype='float64')\n",
    "        \n",
    "        # halfsat parameter is initiated as a linearly spaced array between the given min and max values\n",
    "        self.P_halfsat = np.linspace(self.halfsat_min, self.halfsat_max, self.P_num, dtype='float64')\n",
    "        \n",
    "        # mortality is the same value for each phytoplankton in the current setup\n",
    "        self.P_mortality = np.array([self.mortality for i in range(self.P_num)], dtype='float64')"
   ]
  },
  {
   "cell_type": "code",
   "execution_count": 19,
   "metadata": {},
   "outputs": [],
   "source": [
    "chemostat = xs.Model(\n",
    "    {\n",
    "        # PhysEnv\n",
    "        'PE':Slab,\n",
    "        # model setup\n",
    "        'ChemostatModelSetup':ChemostatSetup,\n",
    "        # components\n",
    "        'N':Nutrient, \n",
    "        'P':Phytoplankton, \n",
    "        # flows\n",
    "        'N_Uptake':NutrientUptake,\n",
    "        'P_Mortality':PhytoMortality,\n",
    "        'N_source':NutrientSource,\n",
    "        'Flow':Flow\n",
    "    }\n",
    ")"
   ]
  },
  {
   "cell_type": "code",
   "execution_count": 20,
   "metadata": {},
   "outputs": [
    {
     "data": {
      "text/plain": [
       "<xsimlab.Model (8 processes, 11 inputs)>\n",
       "ChemostatModelSetup\n",
       "    mortality           [in] mortality rate of P\n",
       "    N_initVal           [in] initial Nutrient concentration\n",
       "    P_num               [in] number of Phytoplankton\n",
       "    halfsat_min         [in] minimum value half-saturation constant...\n",
       "    halfsat_max         [in] maximum half-saturation constant of nu...\n",
       "    P_initVal           [in] initial Phytoplankton biomass\n",
       "PE\n",
       "Flow\n",
       "    flowrate            [in]\n",
       "N_source\n",
       "    nutrient_influx     [in]\n",
       "N_Uptake\n",
       "N\n",
       "    num                 [in] number of nutrients (1 by default)\n",
       "    component_label     [in]\n",
       "P_Mortality\n",
       "P\n",
       "    component_label     [in]"
      ]
     },
     "execution_count": 20,
     "metadata": {},
     "output_type": "execute_result"
    }
   ],
   "source": [
    "chemostat"
   ]
  },
  {
   "cell_type": "code",
   "execution_count": 21,
   "metadata": {},
   "outputs": [
    {
     "data": {
      "image/png": "[encoded data removed]",
      "text/plain": [
       "<IPython.core.display.Image object>"
      ]
     },
     "execution_count": 21,
     "metadata": {},
     "output_type": "execute_result"
    }
   ],
   "source": [
    "chemostat.visualize()"
   ]
  },
  {
   "cell_type": "code",
   "execution_count": 22,
   "metadata": {},
   "outputs": [],
   "source": [
    "in_ds = xs.create_setup(\n",
    "     model=chemostat,\n",
    "     clocks={\n",
    "         'time': np.linspace(0., 2., 10)\n",
    "     },\n",
    "     master_clock='time',\n",
    "     input_vars={\n",
    "         'ChemostatModelSetup':{\n",
    "             # P params\n",
    "             'P_num':10,\n",
    "             'P_initVal':1,\n",
    "             'halfsat_min':.2,\n",
    "             'halfsat_max':1.2,\n",
    "             'mortality':0.,\n",
    "             # N params\n",
    "             'N_initVal':1\n",
    "         },\n",
    "         # additional processes\n",
    "         'Flow__flowrate':0.1,\n",
    "         'N_source__nutrient_influx':0.5\n",
    "     },\n",
    "     output_vars={\n",
    "        'P__state': 'time',\n",
    "        'N__state': 'time'\n",
    "     }\n",
    " )"
   ]
  },
  {
   "cell_type": "code",
   "execution_count": 23,
   "metadata": {},
   "outputs": [
    {
     "name": "stderr",
     "output_type": "stream",
     "text": [
      "██████████ 100% | Simulation finished in 00:00 "
     ]
    },
    {
     "name": "stdout",
     "output_type": "stream",
     "text": [
      "[array([1.]), array([1., 1., 1., 1., 1., 1., 1., 1., 1., 1.])]\n",
      "2\n",
      "2\n",
      "2\n",
      "2\n",
      "2\n",
      "2\n",
      "2\n",
      "2\n",
      "2\n"
     ]
    },
    {
     "name": "stderr",
     "output_type": "stream",
     "text": [
      "\n"
     ]
    }
   ],
   "source": [
    "from xsimlab.monitoring import ProgressBar\n",
    "\n",
    "with ProgressBar(frontend='console'):\n",
    "    with chemostat:\n",
    "        out_ds = in_ds.xsimlab.run()"
   ]
  },
  {
   "cell_type": "code",
   "execution_count": 13,
   "metadata": {},
   "outputs": [
    {
     "data": {
      "text/plain": [
       "[<matplotlib.lines.Line2D at 0x122d72c10>]"
      ]
     },
     "execution_count": 13,
     "metadata": {},
     "output_type": "execute_result"
    },
    {
     "data": {
      "image/png": "[encoded data removed]",
      "text/plain": [
       "<Figure size 1080x720 with 1 Axes>"
      ]
     },
     "metadata": {
      "needs_background": "light"
     },
     "output_type": "display_data"
    }
   ],
   "source": [
    "out_ds.N__state.plot()"
   ]
  },
  {
   "cell_type": "code",
   "execution_count": 14,
   "metadata": {},
   "outputs": [
    {
     "data": {
      "text/plain": [
       "[<matplotlib.lines.Line2D at 0x12368a370>,\n",
       " <matplotlib.lines.Line2D at 0x12368a490>,\n",
       " <matplotlib.lines.Line2D at 0x12368a550>,\n",
       " <matplotlib.lines.Line2D at 0x12368a610>,\n",
       " <matplotlib.lines.Line2D at 0x12368a6d0>,\n",
       " <matplotlib.lines.Line2D at 0x12368a790>,\n",
       " <matplotlib.lines.Line2D at 0x12368a850>,\n",
       " <matplotlib.lines.Line2D at 0x12368a910>,\n",
       " <matplotlib.lines.Line2D at 0x12368a9d0>,\n",
       " <matplotlib.lines.Line2D at 0x12368aa90>,\n",
       " <matplotlib.lines.Line2D at 0x122c57220>,\n",
       " <matplotlib.lines.Line2D at 0x12368abb0>,\n",
       " <matplotlib.lines.Line2D at 0x12368aca0>,\n",
       " <matplotlib.lines.Line2D at 0x12368ad60>,\n",
       " <matplotlib.lines.Line2D at 0x12368ae20>]"
      ]
     },
     "execution_count": 14,
     "metadata": {},
     "output_type": "execute_result"
    },
    {
     "data": {
      "image/png": "[encoded data removed]",
      "text/plain": [
       "<Figure size 1080x720 with 1 Axes>"
      ]
     },
     "metadata": {
      "needs_background": "light"
     },
     "output_type": "display_data"
    }
   ],
   "source": [
    "out_ds.P__state.plot.line(x='time')"
   ]
  },
  {
   "cell_type": "markdown",
   "metadata": {},
   "source": [
    "# not suprisingly, one phytoplankton type wins out in the end, outcompeting all other types..\n",
    "## predictably this is the type with the lowest half-saturation constant. \n",
    "(P-1 in this case, the halfsat parameter range is initialized in an increasing order)\n",
    "\n",
    "This is unsurprising given the simple model structure and parameterization, but model results can be made much more interesting by including grazers and other pocesses that create further competition between phytoplankton types."
   ]
  },
  {
   "cell_type": "code",
   "execution_count": null,
   "metadata": {},
   "outputs": [],
   "source": []
  },
  {
   "cell_type": "code",
   "execution_count": null,
   "metadata": {},
   "outputs": [],
   "source": [
    "@xs.process\n",
    "class Flux:\n",
    "    \"\"\" This defines a flux, that acts on one componment\"\"\"\n",
    "    supply = xs.variable(\n",
    "        dims='x',\n",
    "        intent='out',\n",
    "        groups=['x_flux'],\n",
    "        description='sum of all x fluxes',\n",
    "        attrs={'units': 'µM X d-1'}\n",
    "    )\n",
    "\n",
    "    X = xs.foreign(Component, 'state', intent='in')\n",
    "    nutrient_influx = xs.variable(intent='in', groups='parameters', attrs={'units': 'µM N d-1'})\n",
    "    \n"
   ]
  },
  {
   "cell_type": "code",
   "execution_count": null,
   "metadata": {},
   "outputs": [],
   "source": []
  },
  {
   "cell_type": "markdown",
   "metadata": {},
   "source": [
    "# Model Dummy Code"
   ]
  },
  {
   "cell_type": "markdown",
   "metadata": {},
   "source": [
    "if i have a matrix of fluxes, for each PhysEnv, how could I build that up?\n",
    "for each component, the flux can be computed via numpy array, vectorisation.\n",
    "\n",
    "but the actual computation, should it happen in PhysEnv?\n",
    "\n",
    "so that each component, only aggregates the fluxes that are applied, but the actual calcualtion and update of model state is in a numpy matrix in PhysEnv??\n",
    "\n"
   ]
  },
  {
   "cell_type": "code",
   "execution_count": 38,
   "metadata": {},
   "outputs": [
    {
     "data": {
      "text/plain": [
       "array([[1., 0., 0., 0., 0., 0., 0.],\n",
       "       [0., 1., 0., 0., 0., 0., 0.],\n",
       "       [0., 0., 1., 0., 0., 0., 0.],\n",
       "       [0., 0., 0., 1., 0., 0., 0.],\n",
       "       [0., 0., 0., 0., 1., 0., 0.],\n",
       "       [0., 0., 0., 0., 0., 1., 0.],\n",
       "       [0., 0., 0., 0., 0., 0., 1.]])"
      ]
     },
     "execution_count": 38,
     "metadata": {},
     "output_type": "execute_result"
    }
   ],
   "source": [
    "ident = np.identity(7)\n",
    "\n",
    "ident_1 = ident[3:4,]\n",
    "\n",
    "ident"
   ]
  },
  {
   "cell_type": "code",
   "execution_count": 81,
   "metadata": {},
   "outputs": [],
   "source": [
    "components = np.array(['P','Z','D'])"
   ]
  },
  {
   "cell_type": "code",
   "execution_count": 75,
   "metadata": {},
   "outputs": [
    {
     "data": {
      "text/plain": [
       "array([[[ 1.,  2.,  3.],\n",
       "        [ 4.,  5.,  6.]],\n",
       "\n",
       "       [[ 7.,  8.,  9.],\n",
       "        [10., 11., 12.]]])"
      ]
     },
     "execution_count": 75,
     "metadata": {},
     "output_type": "execute_result"
    }
   ],
   "source": [
    "np.array([[[1.,2.,3.], [4, 5, 6]], [[7, 8, 9], [10, 11, 12]]], dtype='float64')"
   ]
  },
  {
   "cell_type": "code",
   "execution_count": 76,
   "metadata": {},
   "outputs": [],
   "source": [
    "state = np.array([[1.,2.,3.],[0.5,0.5,0],[1.,0,0]], dtype='float64')"
   ]
  },
  {
   "cell_type": "code",
   "execution_count": 77,
   "metadata": {},
   "outputs": [
    {
     "data": {
      "text/plain": [
       "array([[1. , 2. , 3. ],\n",
       "       [0.5, 0.5, 0. ],\n",
       "       [1. , 0. , 0. ]])"
      ]
     },
     "execution_count": 77,
     "metadata": {},
     "output_type": "execute_result"
    }
   ],
   "source": [
    "state"
   ]
  },
  {
   "cell_type": "code",
   "execution_count": 66,
   "metadata": {},
   "outputs": [
    {
     "data": {
      "text/plain": [
       "array([list([1])], dtype=object)"
      ]
     },
     "execution_count": 66,
     "metadata": {},
     "output_type": "execute_result"
    }
   ],
   "source": [
    "state[components=='D']"
   ]
  },
  {
   "cell_type": "code",
   "execution_count": null,
   "metadata": {},
   "outputs": [],
   "source": [
    "np.unique(names)"
   ]
  },
  {
   "cell_type": "code",
   "execution_count": 80,
   "metadata": {},
   "outputs": [
    {
     "data": {
      "text/plain": [
       "array([[1., 0., 0., 0., 0., 0., 0.],\n",
       "       [0., 1., 0., 0., 0., 0., 0.]])"
      ]
     },
     "execution_count": 80,
     "metadata": {},
     "output_type": "execute_result"
    }
   ],
   "source": [
    "# boolean checks like dis\n",
    "samearr = ident.astype(np.float64)\n",
    "samearr = samearr*3\n",
    "\n",
    "ident[np.ix_([0,1])]"
   ]
  },
  {
   "cell_type": "code",
   "execution_count": null,
   "metadata": {},
   "outputs": [],
   "source": []
  },
  {
   "cell_type": "code",
   "execution_count": null,
   "metadata": {},
   "outputs": [],
   "source": [
    "## Fixed Dims\n",
    "# Component 1D, 2D\n",
    "\n",
    "#numpy notes:\n",
    "# Nested sequences, like a list of equal-length lists, will be converted into a multidimensional array:\n",
    "#np.zeros((3, 6)) <- np.shape\n",
    "#np.arange for all self.num listcreations\n",
    "\n",
    "#ones_like#ones_like#Produce an array of all 1’s with the given shape and dtype. ones_like takes another array and produces a ones array of the same shape and dtype. - useful\n",
    "\n",
    "#eye#identity#Create a square N x N identity matrix (1’s on the diagonal and 0’s elsewhere)\n",
    "\n",
    "#remeber, there is dtype='bool', which is perfect for ON/OFF switches in the model framework!\n",
    "\n",
    "# slices are views! you can assign to them too! and it get's propagated .. this would be the way to go with splitting the environment according to fluxes! damn.. \n",
    "\n",
    "\n",
    "# OKAY major breakthrough, so the numpy matrix needs to have fixed dims, also down to the component level, number of types, etc. BUT this is no biggie, because I can use masked arrays/boolean checks easily \n",
    "# + this can be set in xsimlab at init phase\n",
    "\n"
   ]
  },
  {
   "cell_type": "raw",
   "metadata": {},
   "source": [
    "# can fluxes take & operate on slices??\n",
    "\n",
    "hm, not sure if that is what xs.foreign actually is?\n",
    "I need to create the full value matrix in one place for sure, and then I can let all these fluxes access them, axis=1 etc. numpy speeeed\n",
    "\n",
    "the Full Grid1D matrix, needs to have an ancompanying label matrix, (by xs.index) that individually labels each component\n",
    "\n",
    "Grid1D[label=='Envs'] <- this should return all full Envs along an axis\n",
    "Grid1D[label=='P'] <- this returns all P in model grid! (along 1 axis in 1D example!)\n",
    "\n",
    "im sure this is also built into xsimlab in some way\n"
   ]
  },
  {
   "cell_type": "code",
   "execution_count": 14,
   "metadata": {},
   "outputs": [],
   "source": [
    "@xs.process\n",
    "class Component:\n",
    "    \"\"\"\n",
    "    Each component of the ecosystem represents a scalar or array of state variables that are defined by the same fluxes.\n",
    "    Multiple state variables can encode different behaviour through parameters, that are kept as arrays of the same dimension as the component.\n",
    "    \"\"\"\n",
    "    num = xs.variable(dims=(),intent='in', description='number of this component (i.e. number of state variables)')\n",
    "    \n",
    "    # maximum dimension of all Components is calculated in ModelSetup, and passed to each component, to initialize regular matrix   \n",
    "    fxpars = xs.variable(groups='forcingpars', intent='in')\n",
    "    \n",
    "    label = xs.variable(intent='out', groups='label')\n",
    "    state = xs.variable(intent='inout', groups='state')\n",
    "\n",
    "@xs.process\n",
    "class Nutrient(Component):\n",
    "    \"\"\"\n",
    "    The Nutrient component so far only supports one instance, however more nutrients could be added, by instantiating multiple Nutrient components. (This also makes more ecological sense.)\n",
    "    \"\"\"\n",
    "    N = xs.index(dims='N')\n",
    "    component_label = xs.variable(default='N', groups='component-label', static=True) \n",
    "\n",
    "    fluxes = xs.group('n_flux')\n",
    "    state = xs.variable(dims='N', intent='inout', groups = 'state-variable', description='component array', attrs={'units': 'µM N'})\n",
    "\n",
    "    # PARAMETERS / INPUTS\n",
    "    #num = xs.variable(default=1, static=True, description='number of nutrients (1 by default)')\n",
    "    \n",
    "    def initialize(self):\n",
    "        self.time = 0\n",
    "        self.N = np.array([f\"{self.component_label}-{i+1}\" for i in range(self.num)])\n",
    "            \n",
    "@xs.process\n",
    "class Phytoplankton(Component):\n",
    "    \"\"\"\n",
    "    The Phytoplankton component allows for multiple state variables to be instatiated along the 'P' dimension.\n",
    "    The parameter 'halfsat' is initialized in the ModelSetup process, and describes the half-saturation constant of nutrient uptake for each Phytoplankton state variable along dimension 'P'. \n",
    "    (Note: in this simplified model nutrient uptake = growth, also described as the Monod equation. Any ingested nutrient is directly converted to biomass.)\n",
    "    \n",
    "    Parameters are stored in arrays the same dimensionality as the states, so that each \"Phytoplankton\" can have a different parameterization. The initialisation of the parameter arrays is handled in the ModelSetup class.\n",
    "    \"\"\"\n",
    "    P = xs.index(dims='P')\n",
    "    component_label = xs.variable(default='P', groups='component-label', static=True)\n",
    "    \n",
    "    fluxes = xs.group('p_flux')\n",
    "    state = xs.variable(dims='P', intent='inout', groups = 'state-variable', description='component array', attrs={'units': 'µM N'}) # get this from ModelSetup\n",
    "    \n",
    "    # PARAMETERS / INPUTS (would come from ModelSetup)\n",
    "    # halfsat = xs.variable(intent='in', dims='P', groups='parameters', attrs={'units': 'µM N'})\n",
    "    # mortality = xs.variable(intent='in', dims='P', groups='parameters', attrs={'units': 'd-1'})\n",
    "    \n",
    "    def initialize(self):\n",
    "        self.time = 0\n",
    "        self.P = np.array([f\"{self.component_label}-{i+1}\" for i in range(self.num)])\n",
    "        \n",
    "        print('P_state', self.state)\n",
    "        \n",
    "@xs.process\n",
    "class Zooplankton(Component):\n",
    "    \"\"\"\n",
    "    The Zooplankton component allows for multiple state variables to be instatiated along the 'Z' dimension.\n",
    "\n",
    "    \"\"\"\n",
    "    Z = xs.index(dims='Z')\n",
    "    component_label = xs.variable(default='Z', groups='component-label', static=True)\n",
    "\n",
    "    \n",
    "    fluxes = xs.group('z_flux')\n",
    "    state = xs.variable(dims='Z', intent='inout', groups = 'state-variable', description='component array', attrs={'units': 'µM N'}) # get this from ModelSetup\n",
    "\n",
    "    def initialize(self):\n",
    "        self.time = 0\n",
    "        self.Z = np.array([f\"{self.component_label}-{i+1}\" for i in range(self.num)])"
   ]
  },
  {
   "cell_type": "code",
   "execution_count": 15,
   "metadata": {},
   "outputs": [],
   "source": [
    "@xs.process\n",
    "class LinearGrowth:\n",
    "    \"\"\"\n",
    "    Linear growth rate of NPZ components\n",
    "    \"\"\"\n",
    "    rateN = xs.variable(\n",
    "        dims='N',\n",
    "        intent='out',\n",
    "        groups=['n_flux'],\n",
    "        #description='phytoplankton growth, under light & nutrient limitation',\n",
    "        attrs={'units': 'µM N d-1'}\n",
    "    )\n",
    "    rateP = xs.variable(\n",
    "        dims='P',\n",
    "        intent='out',\n",
    "        groups=['p_flux'],\n",
    "        description='phytoplankton growth, under light & nutrient limitation',\n",
    "        attrs={'units': 'µM N d-1'}\n",
    "    )\n",
    "    rateZ = xs.variable(\n",
    "        dims='Z',\n",
    "        intent='out',\n",
    "        groups=['z_flux'],\n",
    "        #description='phytoplankton growth, under light & nutrient limitation',\n",
    "        attrs={'units': 'µM N d-1'}\n",
    "    )\n",
    "    \n",
    "    lineargrowth = xs.variable(intent='in')\n",
    "    \n",
    "    N = xs.foreign(Nutrient, 'state', intent='in')\n",
    "    P = xs.foreign(Phytoplankton, 'state', intent='in')\n",
    "    Z = xs.foreign(Zooplankton, 'state', intent='in')\n",
    "    \n",
    "    def run_step(self):\n",
    "        self.rateN = self.lineargrowth * self.N\n",
    "        self.rateP = self.lineargrowth * self.P\n",
    "        self.rateZ = self.lineargrowth * self.Z"
   ]
  },
  {
   "cell_type": "code",
   "execution_count": 16,
   "metadata": {},
   "outputs": [],
   "source": [
    "@xs.process\n",
    "class PhysEnv:\n",
    "    \"\"\"This collects all fluxes and components and does matrix-wise updating of their states then\"\"\"\n",
    "    std_forcingpars = xs.variable(intent='in')  # dims=('envs','comps','types'), \n",
    "    \n",
    "    ind_forcingpars = xs.group('forcingpars')\n",
    "    \n",
    "    components = xs.group('component')\n",
    "    maxdim = xs.variable(intent='in')\n",
    "    \n",
    "    forcingpars = xs.variable(intent='out')\n",
    "\n",
    "    def initialize(self):\n",
    "        cond = list(self.ind_forcingpars) > list(self.std_forcingpars)\n",
    "        self.forcingpars = np.where(cond, self.ind_forcingpars, self.std_forcingpars)\n",
    "        \n",
    "    def run_step(self):\n",
    "        print(self.forcingpars)\n",
    "\n",
    "\n",
    "# ideally:\n",
    "@xs.process\n",
    "class Grid1D:\n",
    "    \"\"\"This collects all PhysEnv and does matrix-wise updating of their states according to Exchange Processes\"\"\"\n",
    "    num_envs = xs.group('Environment')\n",
    "    num_comps = xs.group('Component')\n",
    "    num_types = xs.group('Type')\n",
    "    \n",
    "    #grid = xs.variable(dims=('envs','comps','types'), intent='inout')\n",
    "    \n",
    "@xs.process\n",
    "class ModelSetup:\n",
    "    N_num = xs.variable(intent='in')\n",
    "    P_num = xs.variable(intent='in')\n",
    "    Z_num = xs.variable(intent='in')\n",
    "    \n",
    "    std_fxpars = xs.variable(intent='in')\n",
    "    \n",
    "    lineargrowth = xs.foreign(LinearGrowth, 'lineargrowth', intent='out')\n",
    "    \n",
    "    maxdim = xs.foreign(PhysEnv, 'maxdim', intent='out')\n",
    "    \n",
    "    std_forcingpars = xs.foreign(PhysEnv, 'std_forcingpars', intent='out')\n",
    "    \n",
    "    Nnum = xs.foreign(Nutrient,'num', intent='out')\n",
    "    Pnum = xs.foreign(Phytoplankton,'num', intent='out')\n",
    "    Znum = xs.foreign(Zooplankton,'num', intent='out')\n",
    "    \n",
    "    Nstate= xs.foreign(Nutrient,'state', intent='out')\n",
    "    Pstate = xs.foreign(Phytoplankton,'state', intent='out')\n",
    "    Zstate = xs.foreign(Zooplankton,'state', intent='out')\n",
    "    \n",
    "    \n",
    "\n",
    "    def initialize(self):\n",
    "     \n",
    "        self.lineargrowth = 0.1\n",
    "        \n",
    "        self.Nnum = self.N_num\n",
    "        self.Pnum = self.P_num\n",
    "        self.Znum = self.Z_num   \n",
    "        self.maxdim = np.max(np.array([self.N_num,self.P_num,self.Z_num], dtype='int64'))\n",
    "        \n",
    "        self.Nstate = np.array([0.1 for i in range(self.N_num)], dtype='float64')\n",
    "        self.Pstate = np.array([0.1 for i in range(self.P_num)], dtype='float64')\n",
    "        self.Zstate = np.array([0.1 for i in range(self.Z_num)], dtype='float64')\n",
    "        \n",
    "        self.std_forcingpars = np.array([self.std_fxpars for i in range(self.maxdim)], dtype='float64')\n",
    "       \n",
    "        \n",
    "        \n",
    "        \n",
    "        "
   ]
  },
  {
   "cell_type": "code",
   "execution_count": 17,
   "metadata": {},
   "outputs": [],
   "source": [
    "testcase = xs.Model(\n",
    "    {\n",
    "        # Grid\n",
    "        '1D':Grid1D,\n",
    "        # PhysEnv\n",
    "        'PE':PhysEnv,\n",
    "        # model setup\n",
    "        'MS':ModelSetup,\n",
    "        # components\n",
    "        'Nuts':Nutrient, \n",
    "        'Phyto':Phytoplankton, \n",
    "        'Zoo':Zooplankton, \n",
    "        # flows\n",
    "        'Flx':LinearGrowth\n",
    "    }\n",
    ")"
   ]
  },
  {
   "cell_type": "code",
   "execution_count": 18,
   "metadata": {},
   "outputs": [
    {
     "data": {
      "text/plain": [
       "<xsimlab.Model (7 processes, 10 inputs)>\n",
       "1D\n",
       "MS\n",
       "    Z_num               [in]\n",
       "    N_num               [in]\n",
       "    P_num               [in]\n",
       "    std_fxpars          [in]\n",
       "PE\n",
       "Flx\n",
       "Nuts\n",
       "    fxpars              [in]\n",
       "    component_label     [in]\n",
       "Phyto\n",
       "    component_label     [in]\n",
       "    fxpars              [in]\n",
       "Zoo\n",
       "    component_label     [in]\n",
       "    fxpars              [in]"
      ]
     },
     "execution_count": 18,
     "metadata": {},
     "output_type": "execute_result"
    }
   ],
   "source": [
    "testcase"
   ]
  },
  {
   "cell_type": "code",
   "execution_count": 19,
   "metadata": {},
   "outputs": [
    {
     "data": {
      "image/png": "[encoded data removed]",
      "text/plain": [
       "<IPython.core.display.Image object>"
      ]
     },
     "execution_count": 19,
     "metadata": {},
     "output_type": "execute_result"
    }
   ],
   "source": [
    "testcase.visualize()"
   ]
  },
  {
   "cell_type": "code",
   "execution_count": 20,
   "metadata": {},
   "outputs": [],
   "source": [
    "x2_ds = xs.create_setup(\n",
    "     model=testcase,\n",
    "     clocks={\n",
    "         'time': np.linspace(0., 2., 10)\n",
    "     },\n",
    "     master_clock='time',\n",
    "     input_vars={\n",
    "         'MS':{\n",
    "             # P params\n",
    "             'P_num':10,\n",
    "             'Z_num':10,\n",
    "             'N_num':10,\n",
    "             'std_fxpars':0.2\n",
    "             \n",
    "         },\n",
    "         'Nuts__fxpars':0.1,\n",
    "         'Phyto__fxpars':0.1,\n",
    "         'Zoo__fxpars':0.3\n",
    "         \n",
    "     },\n",
    "     output_vars={\n",
    "        'Nuts__state': 'time',\n",
    "        'Phyto__state': 'time',\n",
    "        'Zoo__state': 'time'\n",
    "     }\n",
    " )"
   ]
  },
  {
   "cell_type": "code",
   "execution_count": 21,
   "metadata": {},
   "outputs": [
    {
     "name": "stderr",
     "output_type": "stream",
     "text": [
      "██████████ 100% | Simulation finished in 00:00 "
     ]
    },
    {
     "name": "stdout",
     "output_type": "stream",
     "text": [
      "P_state [0.1 0.1 0.1 0.1 0.1 0.1 0.1 0.1 0.1 0.1]\n",
      "[0.2 0.2 0.2 0.2 0.2 0.2 0.2 0.2 0.2 0.2]\n",
      "[0.2 0.2 0.2 0.2 0.2 0.2 0.2 0.2 0.2 0.2]\n",
      "[0.2 0.2 0.2 0.2 0.2 0.2 0.2 0.2 0.2 0.2]\n",
      "[0.2 0.2 0.2 0.2 0.2 0.2 0.2 0.2 0.2 0.2]\n",
      "[0.2 0.2 0.2 0.2 0.2 0.2 0.2 0.2 0.2 0.2]\n",
      "[0.2 0.2 0.2 0.2 0.2 0.2 0.2 0.2 0.2 0.2]\n",
      "[0.2 0.2 0.2 0.2 0.2 0.2 0.2 0.2 0.2 0.2]\n",
      "[0.2 0.2 0.2 0.2 0.2 0.2 0.2 0.2 0.2 0.2]\n",
      "[0.2 0.2 0.2 0.2 0.2 0.2 0.2 0.2 0.2 0.2]\n"
     ]
    },
    {
     "name": "stderr",
     "output_type": "stream",
     "text": [
      "\n"
     ]
    }
   ],
   "source": [
    "from xsimlab.monitoring import ProgressBar\n",
    "\n",
    "with ProgressBar(frontend='console'):\n",
    "    with testcase:\n",
    "        x2_ds_out = x2_ds.xsimlab.run()"
   ]
  },
  {
   "cell_type": "code",
   "execution_count": null,
   "metadata": {},
   "outputs": [],
   "source": []
  }
 ],
 "metadata": {
  "kernelspec": {
   "display_name": "Python 3",
   "language": "python",
   "name": "python3"
  },
  "language_info": {
   "codemirror_mode": {
    "name": "ipython",
    "version": 3
   },
   "file_extension": ".py",
   "mimetype": "text/x-python",
   "name": "python",
   "nbconvert_exporter": "python",
   "pygments_lexer": "ipython3",
   "version": "3.8.2"
  }
 },
 "nbformat": 4,
 "nbformat_minor": 4
}
