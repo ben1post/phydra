{
 "cells": [
  {
   "cell_type": "markdown",
   "metadata": {},
   "source": [
    "# FINAL NPxZxD PROTOTYPE"
   ]
  },
  {
   "cell_type": "code",
   "execution_count": 1,
   "metadata": {},
   "outputs": [],
   "source": [
    "from IPython.display import Image\n",
    "#Image(filename=('NPxZxDslab_schematics.png'), width=500)"
   ]
  },
  {
   "cell_type": "code",
   "execution_count": 2,
   "metadata": {},
   "outputs": [],
   "source": [
    "import numpy as np\n",
    "# to check for array handling errors:\n",
    "np.warnings.filterwarnings('error', category=np.VisibleDeprecationWarning)\n",
    "\n",
    "import matplotlib.pyplot as plt"
   ]
  },
  {
   "cell_type": "markdown",
   "metadata": {},
   "source": [
    "# Parameter helping functions (Size Arrays & Allometries)"
   ]
  },
  {
   "cell_type": "code",
   "execution_count": 3,
   "metadata": {},
   "outputs": [],
   "source": [
    "PZ_num = 10\n",
    "\n",
    "phyto_init = np.tile(.01, (PZ_num))\n",
    "\n",
    "zoo_init = np.tile(.005, (PZ_num))"
   ]
  },
  {
   "cell_type": "code",
   "execution_count": 4,
   "metadata": {},
   "outputs": [],
   "source": [
    "def calculate_sizes(size_min, size_max, num):\n",
    "    \"\"\"initializes log spaced array of sizes from ESD size range\"\"\"\n",
    "    numbers = np.array([i for i in range(num)])\n",
    "    sizes = (np.log(size_max) - np.log(size_min))* numbers / (num-1) + np.log(size_min)\n",
    "    return np.exp(sizes)"
   ]
  },
  {
   "cell_type": "code",
   "execution_count": 5,
   "metadata": {},
   "outputs": [
    {
     "data": {
      "text/plain": [
       "array([ 1.        ,  1.39495079,  1.94588772,  2.71441762,  3.78647901,\n",
       "        5.2819519 ,  7.368063  , 10.27808533, 14.33742329, 20.        ])"
      ]
     },
     "execution_count": 5,
     "metadata": {},
     "output_type": "execute_result"
    }
   ],
   "source": [
    "phyto_sizes = calculate_sizes(1,20,PZ_num)\n",
    "phyto_sizes"
   ]
  },
  {
   "cell_type": "code",
   "execution_count": 6,
   "metadata": {},
   "outputs": [
    {
     "data": {
      "text/plain": [
       "array([  2.16      ,   3.70850331,   6.36712815,  10.9317203 ,\n",
       "        18.7686671 ,  32.22391856,  55.3252355 ,  94.98787921,\n",
       "       163.08465954, 280.        ])"
      ]
     },
     "execution_count": 6,
     "metadata": {},
     "output_type": "execute_result"
    }
   ],
   "source": [
    "zoo_sizes = calculate_sizes(2.16,280,PZ_num)\n",
    "zoo_sizes"
   ]
  },
  {
   "cell_type": "code",
   "execution_count": 7,
   "metadata": {},
   "outputs": [
    {
     "data": {
      "text/plain": [
       "array([19.10697113, 15.39195835, 12.39926413,  9.9884464 ,  8.04636956,\n",
       "        6.48189524,  5.22160529,  4.20635644,  3.38850479,  2.72966993])"
      ]
     },
     "execution_count": 7,
     "metadata": {},
     "output_type": "execute_result"
    }
   ],
   "source": [
    "def calculate_zoo_I0(sizes):\n",
    "    \"\"\"initializes allometric parameters based on array of sizes (ESD)\"\"\"\n",
    "    return 26 * sizes ** -0.4 #* .5\n",
    "\n",
    "zoo_I0 = calculate_zoo_I0(zoo_sizes)\n",
    "zoo_I0"
   ]
  },
  {
   "cell_type": "code",
   "execution_count": 8,
   "metadata": {},
   "outputs": [
    {
     "data": {
      "text/plain": [
       "array([2.6       , 2.23831831, 1.92694957, 1.65889481, 1.42812871,\n",
       "       1.22946409, 1.05843538, 0.91119819, 0.78444292, 0.67532037])"
      ]
     },
     "execution_count": 8,
     "metadata": {},
     "output_type": "execute_result"
    }
   ],
   "source": [
    "def calculate_phyto_mu0(sizes):\n",
    "    \"\"\"initializes allometric parameters based on array of sizes (ESD)\n",
    "    allometric relationships are taken from meta-analyses of lab data\"\"\"\n",
    "    return 2.6 * sizes ** -0.45\n",
    "    \n",
    "phyto_mu0 = calculate_phyto_mu0(phyto_sizes)\n",
    "phyto_mu0"
   ]
  },
  {
   "cell_type": "code",
   "execution_count": 9,
   "metadata": {},
   "outputs": [
    {
     "data": {
      "text/plain": [
       "array([0.1       , 0.13949508, 0.19458877, 0.27144176, 0.3786479 ,\n",
       "       0.52819519, 0.7368063 , 1.02780853, 1.43374233, 2.        ])"
      ]
     },
     "execution_count": 9,
     "metadata": {},
     "output_type": "execute_result"
    }
   ],
   "source": [
    "def calculate_phyto_ks(sizes):\n",
    "    return sizes * .1\n",
    "\n",
    "phyto_ks = calculate_phyto_ks(phyto_sizes)\n",
    "phyto_ks"
   ]
  },
  {
   "cell_type": "code",
   "execution_count": 10,
   "metadata": {},
   "outputs": [
    {
     "data": {
      "text/plain": [
       "array([[1.00000000e+00, 7.15798658e-01, 2.62520679e-01, 4.93307727e-02,\n",
       "        4.74956764e-03, 2.34299842e-04, 5.92204460e-06, 7.66925382e-08,\n",
       "        5.08881085e-10, 1.73006040e-12],\n",
       "       [7.15798658e-01, 1.00000000e+00, 7.15798658e-01, 2.62520679e-01,\n",
       "        4.93307727e-02, 4.74956764e-03, 2.34299842e-04, 5.92204460e-06,\n",
       "        7.66925382e-08, 5.08881085e-10],\n",
       "       [2.62520679e-01, 7.15798658e-01, 1.00000000e+00, 7.15798658e-01,\n",
       "        2.62520679e-01, 4.93307727e-02, 4.74956764e-03, 2.34299842e-04,\n",
       "        5.92204460e-06, 7.66925382e-08],\n",
       "       [4.93307727e-02, 2.62520679e-01, 7.15798658e-01, 1.00000000e+00,\n",
       "        7.15798658e-01, 2.62520679e-01, 4.93307727e-02, 4.74956764e-03,\n",
       "        2.34299842e-04, 5.92204460e-06],\n",
       "       [4.74956764e-03, 4.93307727e-02, 2.62520679e-01, 7.15798658e-01,\n",
       "        1.00000000e+00, 7.15798658e-01, 2.62520679e-01, 4.93307727e-02,\n",
       "        4.74956764e-03, 2.34299842e-04],\n",
       "       [2.34299842e-04, 4.74956764e-03, 4.93307727e-02, 2.62520679e-01,\n",
       "        7.15798658e-01, 1.00000000e+00, 7.15798658e-01, 2.62520679e-01,\n",
       "        4.93307727e-02, 4.74956764e-03],\n",
       "       [5.92204460e-06, 2.34299842e-04, 4.74956764e-03, 4.93307727e-02,\n",
       "        2.62520679e-01, 7.15798658e-01, 1.00000000e+00, 7.15798658e-01,\n",
       "        2.62520679e-01, 4.93307727e-02],\n",
       "       [7.66925382e-08, 5.92204460e-06, 2.34299842e-04, 4.74956764e-03,\n",
       "        4.93307727e-02, 2.62520679e-01, 7.15798658e-01, 1.00000000e+00,\n",
       "        7.15798658e-01, 2.62520679e-01],\n",
       "       [5.08881085e-10, 7.66925382e-08, 5.92204460e-06, 2.34299842e-04,\n",
       "        4.74956764e-03, 4.93307727e-02, 2.62520679e-01, 7.15798658e-01,\n",
       "        1.00000000e+00, 7.15798658e-01],\n",
       "       [1.73006040e-12, 5.08881085e-10, 7.66925382e-08, 5.92204460e-06,\n",
       "        2.34299842e-04, 4.74956764e-03, 4.93307727e-02, 2.62520679e-01,\n",
       "        7.15798658e-01, 1.00000000e+00]])"
      ]
     },
     "execution_count": 10,
     "metadata": {},
     "output_type": "execute_result"
    }
   ],
   "source": [
    "def init_phiP(phytosize, preyoptsize):\n",
    "    \"\"\"creates array of feeding preferences [P...P10] for each [Z]\"\"\"\n",
    "    phiP = np.array([[np.exp(-((np.log10(xpreyi) - np.log10(xpreyoptj)) / 0.25) ** 2)\n",
    "                      for xpreyi in phytosize] for xpreyoptj in preyoptsize])\n",
    "    return phiP\n",
    "\n",
    "phiP = init_phiP(phyto_sizes, phyto_sizes)\n",
    "phiP"
   ]
  },
  {
   "cell_type": "markdown",
   "metadata": {},
   "source": [
    "# Model building"
   ]
  },
  {
   "cell_type": "code",
   "execution_count": 11,
   "metadata": {},
   "outputs": [],
   "source": [
    "import os,sys,inspect\n",
    "sys.path.insert(1, os.path.join(sys.path[0], '..'))\n",
    "\n",
    "import phydra"
   ]
  },
  {
   "cell_type": "code",
   "execution_count": 12,
   "metadata": {},
   "outputs": [],
   "source": [
    "from phydra.components.variables import SV, SVArray\n",
    "\n",
    "\n",
    "from phydra.components.fluxes.grazing import (HollingTypeIII_ResourcesListInput_Consumption2Group,\n",
    "                                              SizebasedGrazingKernel_Dims,\n",
    "                                              GrossGrowthEfficiency_MatrixGrazing,\n",
    "                                              GrossGrowthEfficiency)\n",
    "from phydra.components.fluxes.ocean_physics import Mixing_K, SlabUpwelling_KfromGroup, SlabMixing_KfromGroup, SlabSinking\n",
    "\n",
    "from phydra.components.forcings import ConstantForcing\n",
    "\n",
    "\n",
    "from phydra.components.variables import SV\n",
    "\n",
    "from phydra.components.fluxes.basic import LinearDecay, LinearExchange, LinearDecay_ListInput\n",
    "from phydra.components.fluxes.basic_dims import LinearDecay_Dims, QuadraticDecay_Dim_Sum\n",
    "from phydra.components.fluxes.basic_forcing import LinearForcingInput\n",
    "from phydra.components.fluxes.growth import MonodGrowth_mu_ConsumerDim\n",
    "\n",
    "from phydra.components.forcings import ConstantForcing, SinusoidalForcing"
   ]
  },
  {
   "cell_type": "code",
   "execution_count": 13,
   "metadata": {},
   "outputs": [],
   "source": [
    "ASTroCAT = phydra.create({\n",
    "    # State variables\n",
    "    'Nutrient':SV,\n",
    "    'Phytoplankton':SVArray,\n",
    "    'Zooplankton':SVArray,\n",
    "    #'Detritus':SV,\n",
    "    \n",
    "    # Flows:\n",
    "    'Inflow':LinearForcingInput,\n",
    "    #'Outflow':LinearDecay_ListInput,\n",
    "\n",
    "    # Growth\n",
    "    'Growth':MonodGrowth_mu_ConsumerDim,\n",
    "    \n",
    "    # Grazing\n",
    "    'Grazing':SizebasedGrazingKernel_Dims,\n",
    "    'GGE':GrossGrowthEfficiency_MatrixGrazing,\n",
    "\n",
    "    # Mortality\n",
    "    'PhytoMortality':LinearDecay_Dims,\n",
    "    'ZooMortality':QuadraticDecay_Dim_Sum,\n",
    "    \n",
    "    # Forcings\n",
    "    'N0':ConstantForcing,\n",
    "                     })"
   ]
  },
  {
   "cell_type": "code",
   "execution_count": 14,
   "metadata": {},
   "outputs": [],
   "source": [
    "#NPxZxD.visualize()"
   ]
  },
  {
   "cell_type": "code",
   "execution_count": 15,
   "metadata": {},
   "outputs": [
    {
     "data": {
      "text/plain": [
       "<xsimlab.Model (13 processes, 31 inputs)>\n",
       "Core\n",
       "    solver_type              [in]\n",
       "Time\n",
       "    time                     [in] ('input_time',) sequence of time ...\n",
       "Nutrient\n",
       "    var_label                [in] label / basic state variable\n",
       "    var_init                 [in] initial value / basic state variable\n",
       "Phytoplankton\n",
       "    var_label                [in] label / basic state variable\n",
       "    var_init                 [in] ('var',) initial value / basic st...\n",
       "Zooplankton\n",
       "    var_label                [in] label / basic state variable\n",
       "    var_init                 [in] ('var',) initial value / basic st...\n",
       "N0\n",
       "    forcing_label            [in] label / \n",
       "    value                    [in] constant value of forcing\n",
       "Inflow\n",
       "    var                      [in] label reference / variable affect...\n",
       "    forcing                  [in] label reference / forcing affecti...\n",
       "    rate                     [in] linear rate of change\n",
       "Growth\n",
       "    resource                 [in] label reference / \n",
       "    consumer                 [in] label reference / \n",
       "    halfsat                  [in] ('var',) half-saturation constant\n",
       "    mu_max                   [in] ('var',) maximum growth rate\n",
       "Grazing\n",
       "    resource                 [in] label reference / \n",
       "    consumer                 [in] label reference / \n",
       "    phiP                     [in] ('resource', 'consumer') feeding ...\n",
       "    Imax                     [in] ('consumer',) maximum ingestion rate\n",
       "    KsZ                      [in] half sat of grazing\n",
       "ZooMortality\n",
       "    var                      [in] label reference / variable affect...\n",
       "    rate                     [in] quadratic rate of change\n",
       "PhytoMortality\n",
       "    var                      [in] label reference / variable affect...\n",
       "    rate                     [in] ('var',) linear rate of decay/mor...\n",
       "GGE\n",
       "    grazed_resource          [in] label reference / \n",
       "    assimilated_consumer     [in] label reference / \n",
       "    egested_detritus         [in] label reference / \n",
       "    f_eg                     [in] fraction egested\n",
       "    epsilon                  [in] net production efficiency\n",
       "Solver"
      ]
     },
     "execution_count": 15,
     "metadata": {},
     "output_type": "execute_result"
    }
   ],
   "source": [
    "ASTroCAT"
   ]
  },
  {
   "cell_type": "code",
   "execution_count": 16,
   "metadata": {},
   "outputs": [],
   "source": [
    "odeint_setup = phydra.setup('odeint', ASTroCAT,\n",
    "            time=np.arange(0,365*3),  # *365\n",
    "            input_vars={\n",
    "                    # State variables\n",
    "                    'Nutrient':{'var_label':'N','var_init':1.},\n",
    "                    'Phytoplankton':{'var_label':'P','var_init':phyto_init},\n",
    "                    'Zooplankton':{'var_label':'Z','var_init':zoo_init},\n",
    "                \n",
    "                    # Flows:\n",
    "                    'Inflow':{'forcing':'N0', 'rate':1., 'var':'N'},\n",
    "                    #'Outflow':{'var_list':['N', 'P'], 'rate':0.1},\n",
    "                \n",
    "                    # Growth\n",
    "                    'Growth':{'resource':'N', 'consumer':'P', 'halfsat':phyto_ks, 'mu_max':phyto_mu0},\n",
    "\n",
    "                    # Grazing\n",
    "                    'Grazing':{'resource':'P', 'consumer':'Z',\n",
    "                               'Imax':zoo_I0, 'KsZ':3, 'phiP':phiP},\n",
    "                    'GGE':{'grazed_resource':'P', 'assimilated_consumer':'Z', 'egested_detritus':'N', \n",
    "                           'epsilon':0.33, 'f_eg':0.33},\n",
    "                \n",
    "                    # Mortality\n",
    "                    'PhytoMortality':{'var':'P', 'rate':0.1*phyto_mu0},\n",
    "                    'ZooMortality':{'var':'Z', 'rate':1.},\n",
    "\n",
    "                    # Forcings\n",
    "                    'N0':{'forcing_label':'N0', 'value':1.},\n",
    "            })"
   ]
  },
  {
   "cell_type": "code",
   "execution_count": 17,
   "metadata": {},
   "outputs": [
    {
     "name": "stdout",
     "output_type": "stream",
     "text": [
      "initializing model backend\n",
      "Initializing Model Time\n",
      "Initializing component Nutrient\n",
      "Initializing component Phytoplankton\n",
      "Initializing component Zooplankton\n",
      "Initializing component N0\n",
      "forcing function is in directory: /Users/bpo/Documents/GitHub/phydra/examples\n",
      "forcing_val: 1.0\n",
      "Initializing component Inflow\n",
      "Initializing component Growth\n",
      "Initializing component Grazing\n",
      "Grazing_grazing\n",
      "Initializing component ZooMortality\n",
      "Initializing component PhytoMortality\n",
      "Initializing component GGE\n",
      "assembling model\n",
      "SOLVER : <phydra.backend.solvers.ODEINTSolver object at 0x15ee08190>\n",
      "Model is assembled:\n",
      "Model contains: \n",
      "Variables:['time', 'N', 'P', 'Z'] \n",
      "Parameters:['N0_value', 'Inflow_rate', 'Growth_halfsat', 'Growth_mu_max', 'Grazing_phiP', 'Grazing_Imax', 'Grazing_KsZ', 'ZooMortality_rate', 'PhytoMortality_rate', 'GGE_f_eg', 'GGE_epsilon'] \n",
      "Forcings:['N0'] \n",
      "Fluxes:['Time_time_flux', 'Inflow_input', 'Growth_uptake', 'Grazing_grazing', 'ZooMortality_decay', 'PhytoMortality_decay', 'GGE_grazing', 'GGE_assimilation', 'GGE_egestion'] \n",
      "Full Model Dimensions:[('time', None), ('N', None), ('P', 10), ('Z', 10), ('Time_time_flux', None), ('Inflow_input', None), ('Growth_uptake', 10), ('Grazing_grazing', (10, 10)), ('ZooMortality_decay', 10), ('PhytoMortality_decay', 10), ('GGE_grazing', 10), ('GGE_assimilation', 10), ('GGE_egestion', None)] \n",
      "\n",
      "finalizing: cleanup\n",
      "Model was solved in 4.83709 seconds\n"
     ]
    }
   ],
   "source": [
    "with ASTroCAT:\n",
    "    odeint_out = odeint_setup.xsimlab.run()"
   ]
  },
  {
   "cell_type": "code",
   "execution_count": 27,
   "metadata": {},
   "outputs": [
    {
     "data": {
      "text/plain": [
       "<xarray.backends.zarr.ZarrStore at 0x15e09dd10>"
      ]
     },
     "execution_count": 27,
     "metadata": {},
     "output_type": "execute_result"
    }
   ],
   "source": [
    "odeint_out.to_zarr('ASTROCAT_OUTPUT.zarr')"
   ]
  },
  {
   "cell_type": "code",
   "execution_count": 36,
   "metadata": {},
   "outputs": [
    {
     "data": {
      "text/plain": [
       "5.0"
      ]
     },
     "execution_count": 36,
     "metadata": {},
     "output_type": "execute_result"
    }
   ],
   "source": [
    ".01 * 500"
   ]
  },
  {
   "cell_type": "code",
   "execution_count": 18,
   "metadata": {},
   "outputs": [
    {
     "ename": "GroupNotFoundError",
     "evalue": "group not found at path ''",
     "output_type": "error",
     "traceback": [
      "\u001b[0;31m---------------------------------------------------------------------------\u001b[0m",
      "\u001b[0;31mGroupNotFoundError\u001b[0m                        Traceback (most recent call last)",
      "\u001b[0;32m<ipython-input-18-7866ae0a4a58>\u001b[0m in \u001b[0;36m<module>\u001b[0;34m\u001b[0m\n\u001b[1;32m      1\u001b[0m \u001b[0;32mimport\u001b[0m \u001b[0mxarray\u001b[0m \u001b[0;32mas\u001b[0m \u001b[0mxr\u001b[0m\u001b[0;34m\u001b[0m\u001b[0;34m\u001b[0m\u001b[0m\n\u001b[1;32m      2\u001b[0m \u001b[0;34m\u001b[0m\u001b[0m\n\u001b[0;32m----> 3\u001b[0;31m \u001b[0mss\u001b[0m \u001b[0;34m=\u001b[0m \u001b[0mxr\u001b[0m\u001b[0;34m.\u001b[0m\u001b[0mopen_zarr\u001b[0m\u001b[0;34m(\u001b[0m\u001b[0;34m'ASTROCAT_OUTPUT.zarr'\u001b[0m\u001b[0;34m)\u001b[0m\u001b[0;34m\u001b[0m\u001b[0;34m\u001b[0m\u001b[0m\n\u001b[0m\u001b[1;32m      4\u001b[0m \u001b[0;34m\u001b[0m\u001b[0m\n\u001b[1;32m      5\u001b[0m \u001b[0mss\u001b[0m\u001b[0;34m.\u001b[0m\u001b[0mPhytoplankton__var_value\u001b[0m\u001b[0;34m.\u001b[0m\u001b[0mplot\u001b[0m\u001b[0;34m(\u001b[0m\u001b[0;34m)\u001b[0m\u001b[0;34m\u001b[0m\u001b[0;34m\u001b[0m\u001b[0m\n",
      "\u001b[0;32m~/opt/anaconda3/envs/xsimlab2/lib/python3.9/site-packages/xarray/backends/zarr.py\u001b[0m in \u001b[0;36mopen_zarr\u001b[0;34m(store, group, synchronizer, chunks, decode_cf, mask_and_scale, decode_times, concat_characters, decode_coords, drop_variables, consolidated, overwrite_encoded_chunks, chunk_store, decode_timedelta, use_cftime, **kwargs)\u001b[0m\n\u001b[1;32m    673\u001b[0m     }\n\u001b[1;32m    674\u001b[0m \u001b[0;34m\u001b[0m\u001b[0m\n\u001b[0;32m--> 675\u001b[0;31m     ds = open_dataset(\n\u001b[0m\u001b[1;32m    676\u001b[0m         \u001b[0mfilename_or_obj\u001b[0m\u001b[0;34m=\u001b[0m\u001b[0mstore\u001b[0m\u001b[0;34m,\u001b[0m\u001b[0;34m\u001b[0m\u001b[0;34m\u001b[0m\u001b[0m\n\u001b[1;32m    677\u001b[0m         \u001b[0mgroup\u001b[0m\u001b[0;34m=\u001b[0m\u001b[0mgroup\u001b[0m\u001b[0;34m,\u001b[0m\u001b[0;34m\u001b[0m\u001b[0;34m\u001b[0m\u001b[0m\n",
      "\u001b[0;32m~/opt/anaconda3/envs/xsimlab2/lib/python3.9/site-packages/xarray/backends/api.py\u001b[0m in \u001b[0;36mopen_dataset\u001b[0;34m(filename_or_obj, group, decode_cf, mask_and_scale, decode_times, autoclose, concat_characters, decode_coords, engine, chunks, lock, cache, drop_variables, backend_kwargs, use_cftime, decode_timedelta)\u001b[0m\n\u001b[1;32m    570\u001b[0m \u001b[0;34m\u001b[0m\u001b[0m\n\u001b[1;32m    571\u001b[0m         \u001b[0mopener\u001b[0m \u001b[0;34m=\u001b[0m \u001b[0m_get_backend_cls\u001b[0m\u001b[0;34m(\u001b[0m\u001b[0mengine\u001b[0m\u001b[0;34m)\u001b[0m\u001b[0;34m\u001b[0m\u001b[0;34m\u001b[0m\u001b[0m\n\u001b[0;32m--> 572\u001b[0;31m         \u001b[0mstore\u001b[0m \u001b[0;34m=\u001b[0m \u001b[0mopener\u001b[0m\u001b[0;34m(\u001b[0m\u001b[0mfilename_or_obj\u001b[0m\u001b[0;34m,\u001b[0m \u001b[0;34m**\u001b[0m\u001b[0mextra_kwargs\u001b[0m\u001b[0;34m,\u001b[0m \u001b[0;34m**\u001b[0m\u001b[0mbackend_kwargs\u001b[0m\u001b[0;34m)\u001b[0m\u001b[0;34m\u001b[0m\u001b[0;34m\u001b[0m\u001b[0m\n\u001b[0m\u001b[1;32m    573\u001b[0m \u001b[0;34m\u001b[0m\u001b[0m\n\u001b[1;32m    574\u001b[0m     \u001b[0;32mwith\u001b[0m \u001b[0mclose_on_error\u001b[0m\u001b[0;34m(\u001b[0m\u001b[0mstore\u001b[0m\u001b[0;34m)\u001b[0m\u001b[0;34m:\u001b[0m\u001b[0;34m\u001b[0m\u001b[0;34m\u001b[0m\u001b[0m\n",
      "\u001b[0;32m~/opt/anaconda3/envs/xsimlab2/lib/python3.9/site-packages/xarray/backends/zarr.py\u001b[0m in \u001b[0;36mopen_group\u001b[0;34m(cls, store, mode, synchronizer, group, consolidated, consolidate_on_close, chunk_store, append_dim, write_region)\u001b[0m\n\u001b[1;32m    294\u001b[0m             \u001b[0mzarr_group\u001b[0m \u001b[0;34m=\u001b[0m \u001b[0mzarr\u001b[0m\u001b[0;34m.\u001b[0m\u001b[0mopen_consolidated\u001b[0m\u001b[0;34m(\u001b[0m\u001b[0mstore\u001b[0m\u001b[0;34m,\u001b[0m \u001b[0;34m**\u001b[0m\u001b[0mopen_kwargs\u001b[0m\u001b[0;34m)\u001b[0m\u001b[0;34m\u001b[0m\u001b[0;34m\u001b[0m\u001b[0m\n\u001b[1;32m    295\u001b[0m         \u001b[0;32melse\u001b[0m\u001b[0;34m:\u001b[0m\u001b[0;34m\u001b[0m\u001b[0;34m\u001b[0m\u001b[0m\n\u001b[0;32m--> 296\u001b[0;31m             \u001b[0mzarr_group\u001b[0m \u001b[0;34m=\u001b[0m \u001b[0mzarr\u001b[0m\u001b[0;34m.\u001b[0m\u001b[0mopen_group\u001b[0m\u001b[0;34m(\u001b[0m\u001b[0mstore\u001b[0m\u001b[0;34m,\u001b[0m \u001b[0;34m**\u001b[0m\u001b[0mopen_kwargs\u001b[0m\u001b[0;34m)\u001b[0m\u001b[0;34m\u001b[0m\u001b[0;34m\u001b[0m\u001b[0m\n\u001b[0m\u001b[1;32m    297\u001b[0m         \u001b[0;32mreturn\u001b[0m \u001b[0mcls\u001b[0m\u001b[0;34m(\u001b[0m\u001b[0mzarr_group\u001b[0m\u001b[0;34m,\u001b[0m \u001b[0mconsolidate_on_close\u001b[0m\u001b[0;34m,\u001b[0m \u001b[0mappend_dim\u001b[0m\u001b[0;34m,\u001b[0m \u001b[0mwrite_region\u001b[0m\u001b[0;34m)\u001b[0m\u001b[0;34m\u001b[0m\u001b[0;34m\u001b[0m\u001b[0m\n\u001b[1;32m    298\u001b[0m \u001b[0;34m\u001b[0m\u001b[0m\n",
      "\u001b[0;32m~/opt/anaconda3/envs/xsimlab2/lib/python3.9/site-packages/zarr/hierarchy.py\u001b[0m in \u001b[0;36mopen_group\u001b[0;34m(store, mode, cache_attrs, synchronizer, path, chunk_store, storage_options)\u001b[0m\n\u001b[1;32m   1164\u001b[0m             \u001b[0;32mraise\u001b[0m \u001b[0mContainsArrayError\u001b[0m\u001b[0;34m(\u001b[0m\u001b[0mpath\u001b[0m\u001b[0;34m)\u001b[0m\u001b[0;34m\u001b[0m\u001b[0;34m\u001b[0m\u001b[0m\n\u001b[1;32m   1165\u001b[0m         \u001b[0;32melif\u001b[0m \u001b[0;32mnot\u001b[0m \u001b[0mcontains_group\u001b[0m\u001b[0;34m(\u001b[0m\u001b[0mstore\u001b[0m\u001b[0;34m,\u001b[0m \u001b[0mpath\u001b[0m\u001b[0;34m=\u001b[0m\u001b[0mpath\u001b[0m\u001b[0;34m)\u001b[0m\u001b[0;34m:\u001b[0m\u001b[0;34m\u001b[0m\u001b[0;34m\u001b[0m\u001b[0m\n\u001b[0;32m-> 1166\u001b[0;31m             \u001b[0;32mraise\u001b[0m \u001b[0mGroupNotFoundError\u001b[0m\u001b[0;34m(\u001b[0m\u001b[0mpath\u001b[0m\u001b[0;34m)\u001b[0m\u001b[0;34m\u001b[0m\u001b[0;34m\u001b[0m\u001b[0m\n\u001b[0m\u001b[1;32m   1167\u001b[0m \u001b[0;34m\u001b[0m\u001b[0m\n\u001b[1;32m   1168\u001b[0m     \u001b[0;32melif\u001b[0m \u001b[0mmode\u001b[0m \u001b[0;34m==\u001b[0m \u001b[0;34m'w'\u001b[0m\u001b[0;34m:\u001b[0m\u001b[0;34m\u001b[0m\u001b[0;34m\u001b[0m\u001b[0m\n",
      "\u001b[0;31mGroupNotFoundError\u001b[0m: group not found at path ''"
     ]
    }
   ],
   "source": [
    "import xarray as xr\n",
    "\n",
    "ss = xr.open_zarr('ASTROCAT_OUTPUT.zarr')\n",
    "\n",
    "ss.Phytoplankton__var_value.plot()"
   ]
  },
  {
   "cell_type": "code",
   "execution_count": null,
   "metadata": {},
   "outputs": [],
   "source": [
    "plt.rcParams['figure.figsize'] = [20, 5]"
   ]
  },
  {
   "cell_type": "code",
   "execution_count": 19,
   "metadata": {},
   "outputs": [
    {
     "data": {
      "image/png": "[encoded data removed]",
      "text/plain": [
       "<Figure size 432x288 with 2 Axes>"
      ]
     },
     "metadata": {
      "needs_background": "light"
     },
     "output_type": "display_data"
    }
   ],
   "source": [
    "plt.pcolor(odeint_out.Phytoplankton__var_value)\n",
    "plt.colorbar()\n",
    "\n",
    "#plt.savefig('ASTroCAT_PZ_200_P.pdf', bbox_inches='tight')\n",
    "plt.show()"
   ]
  },
  {
   "cell_type": "code",
   "execution_count": null,
   "metadata": {},
   "outputs": [],
   "source": [
    "plt.pcolor(odeint_out.Zooplankton__var_value)\n",
    "plt.colorbar()\n",
    "\n",
    "plt.savefig('ASTroCAT_PZ_200_Z.pdf', bbox_inches='tight')\n",
    "plt.show()"
   ]
  },
  {
   "cell_type": "code",
   "execution_count": null,
   "metadata": {},
   "outputs": [],
   "source": [
    "plt.rcParams['figure.figsize'] = [5, 7]\n",
    "\n",
    "#f1, (ax1col, ax1, ax2, ax2col, ax3) = plt.subplots(5, 3, gridspec_kw={'height_ratios': [.1,1,1,.1,1]})#, sharey='row')\n",
    "\n",
    "fig = plt.figure(constrained_layout=True)\n",
    "\n",
    "gs = fig.add_gridspec(nrows=5, ncols=3,\n",
    "                        hspace=0.1, wspace=0.1, height_ratios=[.1,1,1,.1,1])\n",
    "\n",
    "ax1col = fig.add_subplot(gs[0, 1])\n",
    "ax1 = fig.add_subplot(gs[1, 0:3])\n",
    "ax2 = fig.add_subplot(gs[2, 0:3])\n",
    "ax3col = fig.add_subplot(gs[3, 1])\n",
    "ax3 = fig.add_subplot(gs[4, 0:3])\n",
    "\n",
    "\n",
    "plt.setp(ax1, xticks=[1,180,365,365+180,720])\n",
    "from matplotlib.ticker import MaxNLocator\n",
    "for axe in [ax1]:\n",
    "        axe.grid(True, alpha=0.5)\n",
    "        axe.get_yaxis().set_major_locator(MaxNLocator(nbins=4))\n",
    "        #axe.tick_params(top=False, right=True, direction=\"in\")\n",
    "\n",
    "plt.setp((ax2, ax3), xticks=[1,365,2*365,3*365,4*365,5*365,6*365,7*365,8*365,9*365,10*365])\n",
    "from matplotlib.ticker import MaxNLocator\n",
    "for axe in (ax2, ax3):  \n",
    "        axe.grid(True, alpha=0.5)\n",
    "        axe.get_yaxis().set_major_locator(MaxNLocator(nbins=4))\n",
    "        #axe.tick_params(top=False, right=True, direction=\"in\")\n",
    "        \n",
    "ax1.set_title('Phytoplankton biomass [µM N]')\n",
    "ax1plt = ax1.pcolormesh(P_out.time[:365*2*resolution:resmpl_step],P_out.P__sizes,\n",
    "               P_out.env__stateout[:365*2*resolution:resmpl_step].T, linewidth=0,rasterized=True)\n",
    "ax1plt\n",
    "ax1.set_yscale('log')\n",
    "ax1.set_yticks([1,2,5,10,20])\n",
    "ax1.get_yaxis().set_major_formatter(matplotlib.ticker.ScalarFormatter())\n",
    "plt.colorbar(ax1plt,cax=ax1col, orientation='horizontal')\n",
    "ax1.set_ylabel('Phytoplankton ESD [µm]')\n",
    "ax1.set_xlabel('Time [days]')\n",
    "    \n",
    "ax2.pcolormesh(P_out.time[::resolution],P_out.P__sizes,P_out.env__stateout[::resolution].T, linewidth=0,rasterized=True)\n",
    "ax2.set_yscale('log')\n",
    "ax2.set_yticks([1,2,5,10,20])\n",
    "ax2.get_yaxis().set_major_formatter(matplotlib.ticker.ScalarFormatter())\n",
    "ax2.set_ylabel('Phytoplankton ESD [µm]')\n",
    "ax2.set_xlabel('Time [years]')\n",
    "ax2.set_xticklabels(labels=[i for i in range(1,11)])\n",
    "\n",
    "ax3.set_title('Zooplankton biomass [µM N]')\n",
    "ax3plt = ax3.pcolormesh(Z_out.time[::resolution],Z_out.Z__sizes,Z_out.env__stateout[::resolution].T, linewidth=0,rasterized=True)\n",
    "ax3plt\n",
    "ax3.set_yscale('log')\n",
    "ax3.set_yticks([3,5,10,20,50,100,200,400])\n",
    "ax3.get_yaxis().set_major_formatter(matplotlib.ticker.ScalarFormatter())\n",
    "plt.colorbar(ax3plt, cax=ax3col, orientation='horizontal')\n",
    "ax3.set_ylabel('Zooplankton ESD [µm]')\n",
    "ax3.set_xlabel('Time [years]')\n",
    "ax3.set_xticklabels(labels=[i for i in range(1,11)])\n",
    "\n",
    "# Defining custom 'xlim' and 'ylim' values.\n",
    "xlim = (0, 365*9+364)\n",
    "\n",
    "# Setting the values for all axes.\n",
    "plt.setp((ax2, ax3), xlim=xlim)\n",
    "\n",
    "#f1.align_ylabels()\n",
    "\n",
    "\n",
    "plt.savefig('../03_chemostat.pdf', bbox_inches='tight')\n",
    "plt.show()"
   ]
  },
  {
   "cell_type": "code",
   "execution_count": null,
   "metadata": {},
   "outputs": [],
   "source": [
    "time = odeint_out.Time__time\n",
    "\n",
    "plt.plot(time, odeint_out.MLD__forcing_value, label='MLD')\n",
    "plt.ylim(bottom=0)\n",
    "plt.legend()\n",
    "plt.show()\n",
    "\n",
    "plt.plot(time, odeint_out.MLDderiv__forcing_value, label='MLDderiv')\n",
    "plt.legend()\n",
    "plt.show()\n",
    "\n",
    "plt.plot(time, odeint_out.I0__forcing_value, label='I0')\n",
    "plt.plot(time, odeint_out.N0__forcing_value, label='N0')\n",
    "plt.plot(time, odeint_out.Tmld__forcing_value, label='Tmld')\n",
    "plt.ylim(bottom=0)\n",
    "plt.legend()"
   ]
  },
  {
   "cell_type": "code",
   "execution_count": null,
   "metadata": {},
   "outputs": [],
   "source": [
    "time = odeint_out.Time__time\n",
    "plt.plot(time, odeint_out.Nutrient__var_value, label='N')\n",
    "plt.ylim(bottom=0)\n",
    "plt.legend()"
   ]
  },
  {
   "cell_type": "code",
   "execution_count": null,
   "metadata": {},
   "outputs": [],
   "source": [
    "time = odeint_out.Time__time\n",
    "plt.plot(time, odeint_out.Nutrient__var_value, label='N')\n",
    "plt.plot(time, odeint_out.Phytoplankton__var_value.T, label='P')\n",
    "plt.plot(time, odeint_out.Zooplankton__var_value.T, label='Z')\n",
    "plt.plot(time, odeint_out.Detritus__var_value, label='D')\n",
    "plt.ylim(bottom=0)\n",
    "plt.legend()"
   ]
  },
  {
   "cell_type": "code",
   "execution_count": null,
   "metadata": {},
   "outputs": [],
   "source": [
    "#plt.plot(time, -odeint_out.PhytoLinMortality__decay_value.T, label='P linear mortality')\n",
    "#plt.plot(time, -odeint_out.PhytoQuadMortality__decay_value.T, label='P quad mortality')\n",
    "plt.plot(time, odeint_out.Growth__growth_value.T, label='Phyto growth')\n",
    "\n",
    "plt.legend()"
   ]
  },
  {
   "cell_type": "code",
   "execution_count": null,
   "metadata": {},
   "outputs": [],
   "source": [
    "plt.plot(time, odeint_out.GGE__grazing_value.T, label=\"grazing\")\n",
    "plt.legend()"
   ]
  },
  {
   "cell_type": "code",
   "execution_count": null,
   "metadata": {},
   "outputs": [],
   "source": [
    "stepwise_setup = phydra.update_setup(model=NPxZxD, old_setup=odeint_setup, new_solver=\"stepwise\",\n",
    "                                     new_time=np.arange(0,5*365,.2))"
   ]
  },
  {
   "cell_type": "code",
   "execution_count": null,
   "metadata": {},
   "outputs": [],
   "source": [
    "with NPxZxD:\n",
    "    stepwise_out = stepwise_setup.xsimlab.run()"
   ]
  },
  {
   "cell_type": "code",
   "execution_count": null,
   "metadata": {},
   "outputs": [],
   "source": [
    "time = stepwise_out.Time__time\n",
    "plt.plot(time, stepwise_out.Nutrient__var_value, label='N')\n",
    "plt.plot(time, stepwise_out.Phytoplankton__var_value.T, label='P')\n",
    "plt.plot(time, stepwise_out.Zooplankton__var_value.T, label='Z')\n",
    "plt.plot(time, stepwise_out.Detritus__var_value, label='D')\n",
    "#plt.ylim(bottom=0)\n",
    "plt.legend()"
   ]
  },
  {
   "cell_type": "code",
   "execution_count": null,
   "metadata": {},
   "outputs": [],
   "source": [
    "plt.plot(time, stepwise_out.GGE__grazing_value.T, label=\"grazing\")\n",
    "plt.legend()\n",
    "\n",
    "#stepwise_out.GGE__egestion_value"
   ]
  },
  {
   "cell_type": "code",
   "execution_count": null,
   "metadata": {},
   "outputs": [],
   "source": [
    "plt.plot(time, stepwise_out.GGE__assimilation_value[0,:], label=\"graze 1\")\n",
    "plt.plot(time, stepwise_out.GGE__assimilation_value[1,:], label=\"graze 2\")\n",
    "plt.plot(time, stepwise_out.GGE__assimilation_value[2,:], label=\"graze 3\")\n",
    "plt.legend()"
   ]
  },
  {
   "cell_type": "code",
   "execution_count": null,
   "metadata": {},
   "outputs": [],
   "source": [
    "#plt.plot(time, stepwise_out.GGE__grazed_resource)"
   ]
  },
  {
   "cell_type": "code",
   "execution_count": null,
   "metadata": {},
   "outputs": [],
   "source": [
    "# plt.plot(time, stepwise_out.Input__input_value, label='N_input')\n",
    "# plt.plot(time, -stepwise_out.PhytoLinMortality__decay_value, label='P mortality')\n",
    "# plt.plot(time, -stepwise_out.PhytoQuadMortality__decay_value, label='P quad mortality')\n",
    "# plt.plot(time, stepwise_out.Growth__growth_value, label='N uptake')\n",
    "plt.plot(time, stepwise_out.Grazing__grazing_value[0,0,:], label='Grazing')\n",
    "plt.plot(time, stepwise_out.Grazing__grazing_value[1,1,:], label='Grazing1')\n",
    "plt.plot(time, stepwise_out.Grazing__grazing_value[2,2,:], label='Grazing2')\n",
    "# plt.ylim(bottom=0)\n",
    "plt.legend()"
   ]
  },
  {
   "cell_type": "code",
   "execution_count": null,
   "metadata": {},
   "outputs": [],
   "source": [
    "gekko_setup = phydra.update_setup(model=NPxZxD, \n",
    "                                  old_setup=odeint_setup, \n",
    "                                  new_solver=\"gekko\", \n",
    "                                  # gekko solver works better (much faster) with smaller time steps:\n",
    "                                  # new_time=np.arange(0,201,.1)\n",
    "                                 )"
   ]
  },
  {
   "cell_type": "code",
   "execution_count": null,
   "metadata": {},
   "outputs": [],
   "source": [
    "with NPxZxD:\n",
    "    gekko_out = gekko_setup.xsimlab.run()"
   ]
  },
  {
   "cell_type": "code",
   "execution_count": null,
   "metadata": {},
   "outputs": [],
   "source": [
    "gekko_out"
   ]
  },
  {
   "cell_type": "code",
   "execution_count": null,
   "metadata": {},
   "outputs": [],
   "source": [
    "time = gekko_out.Time__time\n",
    "plt.plot(time, gekko_out.Nutrient__var_value, label='N')\n",
    "plt.plot(time, gekko_out.Phytoplankton__var_value.T, label='P')\n",
    "plt.plot(time, gekko_out.Zooplankton__var_value.T, label='Z')\n",
    "plt.plot(time, gekko_out.Detritus__var_value, label='D')\n",
    "plt.ylim(bottom=0)\n",
    "plt.legend()"
   ]
  },
  {
   "cell_type": "code",
   "execution_count": null,
   "metadata": {},
   "outputs": [],
   "source": [
    "# GEKKO\n",
    "time = gekko_out.Time__time\n",
    "#plt.plot(time, gekko_out.Nutrient__var_value, label='N')\n",
    "\n",
    "plt.plot(time, gekko_out.Upwelling__mixing_value, label='mixing')\n",
    "plt.plot(time, gekko_out.MLDderiv__forcing_value/100, label='MLDderiv')\n",
    "#plt.ylim(bottom=0)\n",
    "plt.legend()"
   ]
  },
  {
   "cell_type": "code",
   "execution_count": null,
   "metadata": {},
   "outputs": [],
   "source": [
    "_dims = ()"
   ]
  },
  {
   "cell_type": "code",
   "execution_count": null,
   "metadata": {},
   "outputs": [],
   "source": [
    "f\"{'(' + ','.join(_dims) + ')'}\""
   ]
  },
  {
   "cell_type": "code",
   "execution_count": null,
   "metadata": {},
   "outputs": [],
   "source": []
  },
  {
   "cell_type": "code",
   "execution_count": null,
   "metadata": {},
   "outputs": [],
   "source": []
  },
  {
   "cell_type": "code",
   "execution_count": null,
   "metadata": {},
   "outputs": [],
   "source": [
    "upwelling1 = (gekko_out.N0__forcing_value - gekko_out.Nutrient__var_value) * (np.maximum(gekko_out.MLDderiv__forcing_value, 0) +gekko_out.Upwelling__kappa) /gekko_out.MLD__forcing_value"
   ]
  },
  {
   "cell_type": "code",
   "execution_count": null,
   "metadata": {},
   "outputs": [],
   "source": [
    "plt.plot(time, upwelling1)"
   ]
  },
  {
   "cell_type": "code",
   "execution_count": null,
   "metadata": {},
   "outputs": [],
   "source": [
    "plt.plot(time, np.maximum(gekko_out.MLDderiv__forcing_value, 0) +gekko_out.Upwelling__kappa, label='mixing')"
   ]
  },
  {
   "cell_type": "code",
   "execution_count": null,
   "metadata": {},
   "outputs": [],
   "source": [
    "# ODEINT\n",
    "plt.plot(time, odeint_out.Upwelling__mixing_value, label='mixing')\n",
    "\n",
    "plt.plot(time, odeint_out.MLDderiv__forcing_value/100, label='MLDderiv')\n",
    "plt.legend()"
   ]
  },
  {
   "cell_type": "code",
   "execution_count": null,
   "metadata": {},
   "outputs": [],
   "source": [
    "time = gekko_out.Time__time\n",
    "#plt.plot(time, gekko_out.Nutrient__var_value, label='N')\n",
    "\n",
    "plt.plot(time, gekko_out.Phytoplankton__var_value.T, label='P')\n",
    "plt.plot(time, gekko_out.MLDderiv__forcing_value, label='MLDderiv')\n",
    "plt.ylim(bottom=0)\n",
    "plt.legend()"
   ]
  },
  {
   "cell_type": "code",
   "execution_count": null,
   "metadata": {},
   "outputs": [],
   "source": [
    "plt.plot(time, gekko_out.PhytoLinMortality__decay_value.T, label='P mortality')\n",
    "plt.plot(time, gekko_out.PhytoQuadMortality__decay_value.T, label='P quad mortality')\n",
    "plt.plot(time, gekko_out.Growth__growth_value.T, label='N uptake')\n",
    "#plt.plot(time, gekko_out.Grazing__grazing_value, label='Grazing')\n",
    "plt.ylim(bottom=0)\n",
    "plt.legend()"
   ]
  },
  {
   "cell_type": "code",
   "execution_count": null,
   "metadata": {},
   "outputs": [],
   "source": []
  }
 ],
 "metadata": {
  "kernelspec": {
   "display_name": "Python 3",
   "language": "python",
   "name": "python3"
  },
  "language_info": {
   "codemirror_mode": {
    "name": "ipython",
    "version": 3
   },
   "file_extension": ".py",
   "mimetype": "text/x-python",
   "name": "python",
   "nbconvert_exporter": "python",
   "pygments_lexer": "ipython3",
   "version": "3.9.1"
  }
 },
 "nbformat": 4,
 "nbformat_minor": 4
}
