{
 "cells": [
  {
   "cell_type": "code",
   "execution_count": null,
   "metadata": {},
   "outputs": [],
   "source": []
  },
  {
   "cell_type": "markdown",
   "metadata": {},
   "source": [
    "# NPxZxD chemostat model\n",
    "\n",
    "For the first model example I will need:\n",
    "- Forcing input\n",
    "- Forcing_fluxes:\n",
    "    - mixing\n",
    "    - sinking\n",
    "- 4 components (single) N, P, Z, D\n",
    "- Fluxes:\n"
   ]
  },
  {
   "cell_type": "raw",
   "metadata": {},
   "source": [
    "N = Mixing(N0-N)+LeakyGrazing(P,D)+Remin(D)-Growth(P)\n",
    "P = Growth(P)-Mortality(P)-QuadMort(P)-Grazing(P)-Mixing(P)\n",
    "Z = Grazing(P,D)-Mortality(Z)-QuadMort(Z)-Mixing(Z)\n",
    "D = Mortality(P)+QuadMort(P)+Mortality(Z)+SloppyGrazing(P,D)-Grazing(D)-Remin(D)-Mixing(D)-Sinking(D)\n",
    "\n",
    "Mixing\n",
    "Growth(Light,Temp,Nut)\n",
    "Mortality, QuadMort\n",
    "Grazing + LeakyGrazing + SloppyGrazing\n",
    "Remin\n",
    "Sinking"
   ]
  },
  {
   "cell_type": "code",
   "execution_count": 1,
   "metadata": {},
   "outputs": [],
   "source": [
    "import numpy as np\n",
    "import xsimlab as xs"
   ]
  },
  {
   "cell_type": "code",
   "execution_count": 2,
   "metadata": {},
   "outputs": [],
   "source": [
    "import os,sys,inspect\n",
    "sys.path.insert(1, os.path.join(sys.path[0], '..'))\n",
    "\n",
    "import phydra as phydra"
   ]
  },
  {
   "cell_type": "code",
   "execution_count": 3,
   "metadata": {},
   "outputs": [],
   "source": [
    "from phydra.utility.xsimlabwrappers import phydra_setup"
   ]
  },
  {
   "cell_type": "code",
   "execution_count": 4,
   "metadata": {},
   "outputs": [],
   "source": [
    "from phydra.processes.main import Grid0D, Boundary0D\n",
    "from phydra.processes.components import Component, Time, make_Component\n",
    "from phydra.processes.environments import Chemostat\n",
    "from phydra.processes.fluxes import (LimitedGrowth_Monod, HollingTypeIII, \n",
    "                                     make_flux, make_multigrazing)\n",
    "from phydra.processes.forcingfluxes import (LinearMortalityClosure, QuadraticMortalityClosure, N0_inflow, Outflow, make_FX_flux)\n",
    "from phydra.processes.forcing import (ConstantN0, ConstantFlow)\n",
    "from phydra.processes.gekkocontext import GekkoContext, GekkoSolve, InheritGekkoContext"
   ]
  },
  {
   "cell_type": "code",
   "execution_count": 5,
   "metadata": {},
   "outputs": [],
   "source": [
    "from phydra.processes.forcing import NutrientForcing, MLDForcing"
   ]
  },
  {
   "cell_type": "code",
   "execution_count": 6,
   "metadata": {},
   "outputs": [
    {
     "name": "stdout",
     "output_type": "stream",
     "text": [
      "xarray-simlab version:  0.4.1\n",
      "phydra version:  0+untagged.79.g6454bc4.dirty\n"
     ]
    }
   ],
   "source": [
    "print('xarray-simlab version: ', xs.__version__)\n",
    "print('phydra version: ', phydra.__version__)"
   ]
  },
  {
   "cell_type": "code",
   "execution_count": 9,
   "metadata": {},
   "outputs": [
    {
     "data": {
      "text/plain": [
       "<xsimlab.Model (17 processes, 28 inputs)>\n",
       "context\n",
       "time\n",
       "    days               [in] ('time',) time in days\n",
       "grid\n",
       "    shape              [in]\n",
       "    length             [in]\n",
       "ibcs\n",
       "    ibc                [in] Initial Boundary Conditions\n",
       "N\n",
       "    init               [in]\n",
       "    dim                [in]\n",
       "P\n",
       "    init               [in]\n",
       "    dim                [in]\n",
       "Z\n",
       "    dim                [in]\n",
       "    init               [in]\n",
       "P_Growth\n",
       "    halfsat_min        [in] half-saturation constant of nutrient up...\n",
       "    mu_min             [in] Maximum growth rate of component\n",
       "    R_label            [in] label of ressource component that is co...\n",
       "    halfsat_max        [in] half-saturation constant of nutrient up...\n",
       "    C_label            [in] label of component that grows\n",
       "    mu_max             [in] Maximum growth rate of component\n",
       "Grazing\n",
       "    R_label            [in] labels of components that is grazed upon\n",
       "    Imax               [in] maximum grazing rate for consumer\n",
       "    C_label            [in] label of component that grazes\n",
       "    halfsat            [in] label of component that grazes\n",
       "Flow\n",
       "    value              [in] value of the constant forcing\n",
       "Outflux\n",
       "    C_labels           [in] o label of component(s) that grows\n",
       "N0\n",
       "    value              [in] value of the constant forcing\n",
       "N0_influx\n",
       "    C_labels           [in] w label of component(s) that grows\n",
       "Z_QuadMortality\n",
       "    mortality_rate     [in] mortality rate of component\n",
       "    C_labels           [in] z label of component(s) that grows\n",
       "P_LinMortality\n",
       "    mortality_rate     [in] mortality rate of component\n",
       "    C_labels           [in] p label of component(s) that grows\n",
       "Env\n",
       "solver"
      ]
     },
     "execution_count": 9,
     "metadata": {},
     "output_type": "execute_result"
    }
   ],
   "source": [
    "model = xs.Model({\n",
    "    'time':Time, 'grid':Grid0D, 'ibcs':Boundary0D, \n",
    "    \n",
    "    'context':GekkoContext,\n",
    "                  \n",
    "    'N':make_Component('Nutrient','N'), 'P':make_Component('Phytoplankton','P'),\n",
    "    'Z':make_Component('Zooplankton','Z'), #'D':make_Component('Detritus','D'), \n",
    "    'Env':Chemostat, \n",
    "    \n",
    "    # Fluxes\n",
    "    'P_Growth':make_flux(LimitedGrowth_Monod, 'G'), \n",
    "     \n",
    "    'P_LinMortality':make_FX_flux(LinearMortalityClosure, 'P'),\n",
    "    \n",
    "    'Grazing':make_multigrazing(HollingTypeIII, 'X'), \n",
    "    \n",
    "    # Closure (i.e. output from system)\n",
    "    'Z_QuadMortality':make_FX_flux(QuadraticMortalityClosure, 'Z'),\n",
    "    \n",
    "    # ForcingFluxes\n",
    "    'N0_influx':make_FX_flux(N0_inflow, 'W'),\n",
    "    'Outflux':make_FX_flux(Outflow, 'O'),\n",
    "    \n",
    "    'N0':ConstantN0,\n",
    "    'Flow':ConstantFlow,\n",
    "    \n",
    "    'solver':GekkoSolve\n",
    "})\n",
    "\n",
    "model"
   ]
  },
  {
   "cell_type": "code",
   "execution_count": 10,
   "metadata": {},
   "outputs": [
    {
     "data": {
      "text/plain": [
       "[('time', 'time'),\n",
       " ('N', 'N'),\n",
       " ('P', 'P'),\n",
       " ('Z', 'Z'),\n",
       " ('Env', 'components'),\n",
       " ('Env', 'fluxes'),\n",
       " ('Env', 'forcingfluxes'),\n",
       " ('Env', 'forcings'),\n",
       " ('P_Growth', 'G'),\n",
       " ('P_LinMortality', 'P'),\n",
       " ('Grazing', 'X'),\n",
       " ('Z_QuadMortality', 'Z'),\n",
       " ('N0_influx', 'W'),\n",
       " ('Outflux', 'O')]"
      ]
     },
     "execution_count": 10,
     "metadata": {},
     "output_type": "execute_result"
    }
   ],
   "source": [
    "model.index_vars \n"
   ]
  },
  {
   "cell_type": "code",
   "execution_count": 25,
   "metadata": {
    "collapsed": false,
    "jupyter": {
     "outputs_hidden": false
    },
    "pycharm": {
     "is_executing": false,
     "name": "#%%\n"
    }
   },
   "outputs": [],
   "source": [
    "in_ds = phydra_setup(\n",
    "    model=model,\n",
    "    input_vars={\n",
    "        'time__days': ('time', np.arange(0, 160)), #365*\n",
    "        \n",
    "        'N':{'dim':1,'init':.1}, \n",
    "        'P':{'dim':3,'init':.5/2},\n",
    "        'Z':{'dim':3,'init':0.1},\n",
    "        \n",
    "     'P_Growth':{'mu_min':0.7,\n",
    "                   'mu_max':0.73,\n",
    "               'halfsat_min':0.67,\n",
    "               'halfsat_max':0.7,\n",
    "               'R_label':'N',\n",
    "               'C_label':'P'\n",
    "                   \n",
    "                #'kw':0.04,\n",
    "                #'kc':0.03,\n",
    "                #'OptI':30\n",
    "                   },\n",
    "        \n",
    "        'Grazing':{'Imax':.5,\n",
    "               'halfsat':1.,\n",
    "               'R_label':'P',\n",
    "               'C_label':'Z'},\n",
    "        \n",
    "                \n",
    "        'P_LinMortality':{'mortality_rate':0.1,\n",
    "               'C_labels':['P']},\n",
    "        \n",
    "        'Z_QuadMortality':{'mortality_rate':0.1,\n",
    "               'C_labels':['Z']},\n",
    "        \n",
    "        'N0_influx__C_labels':['N'],\n",
    "        'Outflux__C_labels':['N'],#,'P','Z'],\n",
    "        \n",
    "        'Flow__value':0.1,\n",
    "        'N0__value':2.5,\n",
    "\n",
    "    },\n",
    "    output_vars={\n",
    "        'Env__comp_output':None,\n",
    "        'Env__flux_output':None,\n",
    "        'Env__fxflux_output':None,\n",
    "        'Env__forcing_output':None\n",
    "    }\n",
    "                 )"
   ]
  },
  {
   "cell_type": "code",
   "execution_count": 26,
   "metadata": {
    "collapsed": false,
    "jupyter": {
     "outputs_hidden": false
    },
    "pycharm": {
     "is_executing": false,
     "name": "#%%\n"
    }
   },
   "outputs": [
    {
     "name": "stdout",
     "output_type": "stream",
     "text": [
      "Initializing Gekko Context\n",
      "Initializing Model Time\n",
      "dimensions of component N are initialized at 1\n",
      "Initializing component  N ['N']\n",
      "dimensions of component P are initialized at 3\n",
      "Initializing component  P ['P-0', 'P-1', 'P-2']\n",
      "dimensions of component Z are initialized at 3\n",
      "Initializing component  Z ['Z-0', 'Z-1', 'Z-2']\n",
      "flux P_Growth is initialized for N --> P\n",
      "setup_dims (1, 3) P mu\n",
      "[[0.7   0.715 0.73 ]]\n",
      "setup_dims (1, 3) P halfsat_Growth\n",
      "[[0.67  0.685 0.7  ]]\n",
      "Initializing flux: P_Growth-N2P\n",
      "flux Grazing is initialized for P --> Z\n",
      "setup_dims (3, 3) Grazing-P2Z GrazePreference\n",
      "setup_dims (3, 3) Grazing-P2Z FoodAvailability\n",
      "setup_dims (3, 3) Grazing-P2Z BiomassGrazed\n",
      "MATRIX [[1 1 1]\n",
      " [1 1 1]\n",
      " [1 1 1]]\n",
      "MATRIX [[1 1 1]\n",
      " [1 1 1]\n",
      " [1 1 1]]\n",
      "MATRIX [[1 1 1]\n",
      " [1 1 1]\n",
      " [1 1 1]]\n",
      "MATRIX [[1 1 1]\n",
      " [1 1 1]\n",
      " [1 1 1]]\n",
      "MATRIX [[1 1 1]\n",
      " [1 1 1]\n",
      " [1 1 1]]\n",
      "MATRIX [[1 1 1]\n",
      " [1 1 1]\n",
      " [1 1 1]]\n",
      "MATRIX [[1 1 1]\n",
      " [1 1 1]\n",
      " [1 1 1]]\n",
      "MATRIX [[1 1 1]\n",
      " [1 1 1]\n",
      " [1 1 1]]\n",
      "MATRIX [[1 1 1]\n",
      " [1 1 1]\n",
      " [1 1 1]]\n",
      "Total Grazed full [[0 0 0]\n",
      " [0 0 0]\n",
      " [0 0 0]]\n",
      "MATRIX [[0 0 0]\n",
      " [0 0 0]\n",
      " [0 0 0]]\n",
      "SUm C [0 0 0]\n",
      "MATRIX [[0 0 0]\n",
      " [0 0 0]\n",
      " [0 0 0]]\n",
      "SUm C [0 0 0]\n",
      "MATRIX [[0 0 0]\n",
      " [0 0 0]\n",
      " [0 0 0]]\n",
      "SUm C [0 0 0]\n",
      "MATRIX [[0 0 0]\n",
      " [0 0 0]\n",
      " [0 0 0]]\n",
      "SUm C [0 0 0]\n",
      "MATRIX [[0 0 0]\n",
      " [0 0 0]\n",
      " [0 0 0]]\n",
      "SUm C [0 0 0]\n",
      "MATRIX [[0 0 0]\n",
      " [0 0 0]\n",
      " [0 0 0]]\n",
      "SUm C [0 0 0]\n",
      "MATRIX [[0 0 0]\n",
      " [0 0 0]\n",
      " [0 0 0]]\n",
      "SUm C [0 0 0]\n",
      "MATRIX [[0 0 0]\n",
      " [0 0 0]\n",
      " [0 0 0]]\n",
      "SUm C [0 0 0]\n",
      "MATRIX [[0 0 0]\n",
      " [0 0 0]\n",
      " [0 0 0]]\n",
      "SUm C [0 0 0]\n",
      "Total Grazed full [[0 0 0]\n",
      " [0 0 0]\n",
      " [0 0 0]]\n",
      "EXCHANGE FLUX CREATED!!\n",
      "ForcingBase is initialized: Flow\n",
      "forcing flux Outflux is initialized at ['N']\n",
      "Initializing forcing flux Outflux for components ['N']\n",
      "ForcingBase is initialized: N0\n",
      "forcing flux N0_influx is initialized at ['N']\n",
      "Initializing forcing flux N0_influx for components ['N']\n",
      "forcing flux Z_QuadMortality is initialized at ['Z']\n",
      "Initializing forcing flux Z_QuadMortality for components ['Z']\n",
      "forcing flux P_LinMortality is initialized at ['P']\n",
      "Initializing forcing flux P_LinMortality for components ['P']\n",
      "\n",
      "\n",
      "Initializing Environment: \n",
      " components:['N', 'P-0', 'P-1', 'P-2', 'Z-0', 'Z-1', 'Z-2'] \n",
      " fluxes:['P_Growth-N-2-P0', 'P_Growth-N-2-P1', 'P_Growth-N-2-P2', 'Grazing-P0-2-Z0', 'Grazing-P0-2-Z1', 'Grazing-P0-2-Z2', 'Grazing-P1-2-Z0', 'Grazing-P1-2-Z1', 'Grazing-P1-2-Z2', 'Grazing-P2-2-Z0', 'Grazing-P2-2-Z1', 'Grazing-P2-2-Z2']                 \n",
      " fx-fluxes:['Outflux-N', 'N0_influx-N', 'Z_QuadMortality-Z-0', 'Z_QuadMortality-Z-1', 'Z_QuadMortality-Z-2', 'P_LinMortality-P-0', 'P_LinMortality-P-1', 'P_LinMortality-P-2'] \n",
      " gekko context:Model fluxes dict stores: dict_items([('shape', {'env': 1}), ('comp_dims', {'N': 1, 'P': 3, 'Z': 3})])\n",
      "\n",
      "\n",
      "Assembling equation for component  N [[list([(-i113), (-i117), (-i121), 0, 0])]]\n",
      "Assembling equation for component  P [[list([0, (-i141), (-i141), (-i141), 0])\n",
      "  list([0, (-i141), (-i141), (-i141), 0])\n",
      "  list([0, (-i141), (-i141), (-i141), 0])]]\n",
      "Assembling equation for component  Z [[list([0, 0, 0, 0]) list([0, 0, 0, 0]) list([0, 0, 0, 0])]]\n",
      "SolveInit\n"
     ]
    },
    {
     "ename": "Exception",
     "evalue": "@error: Solution Not Found\n",
     "output_type": "error",
     "traceback": [
      "\u001b[0;31m---------------------------------------------------------------------------\u001b[0m",
      "\u001b[0;31mException\u001b[0m                                 Traceback (most recent call last)",
      "\u001b[0;32m<ipython-input-26-b5148c6a5108>\u001b[0m in \u001b[0;36m<module>\u001b[0;34m\u001b[0m\n\u001b[1;32m      1\u001b[0m \u001b[0;32mwith\u001b[0m \u001b[0mmodel\u001b[0m\u001b[0;34m:\u001b[0m\u001b[0;34m\u001b[0m\u001b[0;34m\u001b[0m\u001b[0m\n\u001b[0;32m----> 2\u001b[0;31m     \u001b[0mout_ds\u001b[0m \u001b[0;34m=\u001b[0m \u001b[0min_ds\u001b[0m\u001b[0;34m.\u001b[0m\u001b[0mxsimlab\u001b[0m\u001b[0;34m.\u001b[0m\u001b[0mrun\u001b[0m\u001b[0;34m(\u001b[0m\u001b[0;34m)\u001b[0m\u001b[0;34m\u001b[0m\u001b[0;34m\u001b[0m\u001b[0m\n\u001b[0m",
      "\u001b[0;32m~/opt/miniconda3/envs/xsimlab/lib/python3.8/site-packages/xsimlab/xr_accessor.py\u001b[0m in \u001b[0;36mrun\u001b[0;34m(self, model, batch_dim, check_dims, validate, store, encoding, hooks, parallel, scheduler, safe_mode)\u001b[0m\n\u001b[1;32m    814\u001b[0m         )\n\u001b[1;32m    815\u001b[0m \u001b[0;34m\u001b[0m\u001b[0m\n\u001b[0;32m--> 816\u001b[0;31m         \u001b[0mdriver\u001b[0m\u001b[0;34m.\u001b[0m\u001b[0mrun_model\u001b[0m\u001b[0;34m(\u001b[0m\u001b[0;34m)\u001b[0m\u001b[0;34m\u001b[0m\u001b[0;34m\u001b[0m\u001b[0m\n\u001b[0m\u001b[1;32m    817\u001b[0m \u001b[0;34m\u001b[0m\u001b[0m\n\u001b[1;32m    818\u001b[0m         \u001b[0;32mreturn\u001b[0m \u001b[0mdriver\u001b[0m\u001b[0;34m.\u001b[0m\u001b[0mget_results\u001b[0m\u001b[0;34m(\u001b[0m\u001b[0;34m)\u001b[0m\u001b[0;34m\u001b[0m\u001b[0;34m\u001b[0m\u001b[0m\n",
      "\u001b[0;32m~/opt/miniconda3/envs/xsimlab/lib/python3.8/site-packages/xsimlab/drivers.py\u001b[0m in \u001b[0;36mrun_model\u001b[0;34m(self)\u001b[0m\n\u001b[1;32m    453\u001b[0m \u001b[0;34m\u001b[0m\u001b[0m\n\u001b[1;32m    454\u001b[0m         \u001b[0;32mif\u001b[0m \u001b[0mself\u001b[0m\u001b[0;34m.\u001b[0m\u001b[0mbatch_dim\u001b[0m \u001b[0;32mis\u001b[0m \u001b[0;32mNone\u001b[0m\u001b[0;34m:\u001b[0m\u001b[0;34m\u001b[0m\u001b[0;34m\u001b[0m\u001b[0m\n\u001b[0;32m--> 455\u001b[0;31m             _run(\n\u001b[0m\u001b[1;32m    456\u001b[0m                 \u001b[0mds_in\u001b[0m\u001b[0;34m,\u001b[0m\u001b[0;34m\u001b[0m\u001b[0;34m\u001b[0m\u001b[0m\n\u001b[1;32m    457\u001b[0m                 \u001b[0mself\u001b[0m\u001b[0;34m.\u001b[0m\u001b[0mmodel\u001b[0m\u001b[0;34m,\u001b[0m\u001b[0;34m\u001b[0m\u001b[0;34m\u001b[0m\u001b[0m\n",
      "\u001b[0;32m~/opt/miniconda3/envs/xsimlab/lib/python3.8/site-packages/xsimlab/drivers.py\u001b[0m in \u001b[0;36m_run\u001b[0;34m(dataset, model, store, hooks, validate, batch, batch_size, parallel, scheduler)\u001b[0m\n\u001b[1;32m    344\u001b[0m         \u001b[0min_vars\u001b[0m \u001b[0;34m=\u001b[0m \u001b[0m_get_input_vars\u001b[0m\u001b[0;34m(\u001b[0m\u001b[0mds_step\u001b[0m\u001b[0;34m,\u001b[0m \u001b[0mmodel\u001b[0m\u001b[0;34m)\u001b[0m\u001b[0;34m\u001b[0m\u001b[0;34m\u001b[0m\u001b[0m\n\u001b[1;32m    345\u001b[0m         \u001b[0mmodel\u001b[0m\u001b[0;34m.\u001b[0m\u001b[0mupdate_state\u001b[0m\u001b[0;34m(\u001b[0m\u001b[0min_vars\u001b[0m\u001b[0;34m,\u001b[0m \u001b[0mvalidate\u001b[0m\u001b[0;34m=\u001b[0m\u001b[0mvalidate_inputs\u001b[0m\u001b[0;34m,\u001b[0m \u001b[0mignore_static\u001b[0m\u001b[0;34m=\u001b[0m\u001b[0;32mFalse\u001b[0m\u001b[0;34m)\u001b[0m\u001b[0;34m\u001b[0m\u001b[0;34m\u001b[0m\u001b[0m\n\u001b[0;32m--> 346\u001b[0;31m         \u001b[0mmodel\u001b[0m\u001b[0;34m.\u001b[0m\u001b[0mexecute\u001b[0m\u001b[0;34m(\u001b[0m\u001b[0;34m\"run_step\"\u001b[0m\u001b[0;34m,\u001b[0m \u001b[0mrt_context\u001b[0m\u001b[0;34m,\u001b[0m \u001b[0;34m**\u001b[0m\u001b[0mexecute_kwargs\u001b[0m\u001b[0;34m)\u001b[0m\u001b[0;34m\u001b[0m\u001b[0;34m\u001b[0m\u001b[0m\n\u001b[0m\u001b[1;32m    347\u001b[0m \u001b[0;34m\u001b[0m\u001b[0m\n\u001b[1;32m    348\u001b[0m         \u001b[0mstore\u001b[0m\u001b[0;34m.\u001b[0m\u001b[0mwrite_output_vars\u001b[0m\u001b[0;34m(\u001b[0m\u001b[0mbatch\u001b[0m\u001b[0;34m,\u001b[0m \u001b[0mstep\u001b[0m\u001b[0;34m,\u001b[0m \u001b[0mmodel\u001b[0m\u001b[0;34m=\u001b[0m\u001b[0mmodel\u001b[0m\u001b[0;34m)\u001b[0m\u001b[0;34m\u001b[0m\u001b[0;34m\u001b[0m\u001b[0m\n",
      "\u001b[0;32m~/opt/miniconda3/envs/xsimlab/lib/python3.8/site-packages/xsimlab/model.py\u001b[0m in \u001b[0;36mexecute\u001b[0;34m(self, stage, runtime_context, hooks, validate, parallel, scheduler)\u001b[0m\n\u001b[1;32m    865\u001b[0m         \u001b[0;32melse\u001b[0m\u001b[0;34m:\u001b[0m\u001b[0;34m\u001b[0m\u001b[0;34m\u001b[0m\u001b[0m\n\u001b[1;32m    866\u001b[0m             \u001b[0;32mfor\u001b[0m \u001b[0mp_name\u001b[0m\u001b[0;34m,\u001b[0m \u001b[0mp_obj\u001b[0m \u001b[0;32min\u001b[0m \u001b[0mself\u001b[0m\u001b[0;34m.\u001b[0m\u001b[0m_processes\u001b[0m\u001b[0;34m.\u001b[0m\u001b[0mitems\u001b[0m\u001b[0;34m(\u001b[0m\u001b[0;34m)\u001b[0m\u001b[0;34m:\u001b[0m\u001b[0;34m\u001b[0m\u001b[0;34m\u001b[0m\u001b[0m\n\u001b[0;32m--> 867\u001b[0;31m                 \u001b[0mself\u001b[0m\u001b[0;34m.\u001b[0m\u001b[0m_execute_process\u001b[0m\u001b[0;34m(\u001b[0m\u001b[0mp_obj\u001b[0m\u001b[0;34m,\u001b[0m \u001b[0;34m*\u001b[0m\u001b[0mexecute_args\u001b[0m\u001b[0;34m)\u001b[0m\u001b[0;34m\u001b[0m\u001b[0;34m\u001b[0m\u001b[0m\n\u001b[0m\u001b[1;32m    868\u001b[0m \u001b[0;34m\u001b[0m\u001b[0m\n\u001b[1;32m    869\u001b[0m         \u001b[0mself\u001b[0m\u001b[0;34m.\u001b[0m\u001b[0m_call_hooks\u001b[0m\u001b[0;34m(\u001b[0m\u001b[0mhooks\u001b[0m\u001b[0;34m,\u001b[0m \u001b[0mruntime_context\u001b[0m\u001b[0;34m,\u001b[0m \u001b[0mstage\u001b[0m\u001b[0;34m,\u001b[0m \u001b[0;34m\"model\"\u001b[0m\u001b[0;34m,\u001b[0m \u001b[0;34m\"post\"\u001b[0m\u001b[0;34m)\u001b[0m\u001b[0;34m\u001b[0m\u001b[0;34m\u001b[0m\u001b[0m\n",
      "\u001b[0;32m~/opt/miniconda3/envs/xsimlab/lib/python3.8/site-packages/xsimlab/model.py\u001b[0m in \u001b[0;36m_execute_process\u001b[0;34m(self, p_obj, stage, runtime_context, hooks, validate, state)\u001b[0m\n\u001b[1;32m    731\u001b[0m \u001b[0;34m\u001b[0m\u001b[0m\n\u001b[1;32m    732\u001b[0m         \u001b[0mself\u001b[0m\u001b[0;34m.\u001b[0m\u001b[0m_call_hooks\u001b[0m\u001b[0;34m(\u001b[0m\u001b[0mhooks\u001b[0m\u001b[0;34m,\u001b[0m \u001b[0mruntime_context\u001b[0m\u001b[0;34m,\u001b[0m \u001b[0mstage\u001b[0m\u001b[0;34m,\u001b[0m \u001b[0;34m\"process\"\u001b[0m\u001b[0;34m,\u001b[0m \u001b[0;34m\"pre\"\u001b[0m\u001b[0;34m)\u001b[0m\u001b[0;34m\u001b[0m\u001b[0;34m\u001b[0m\u001b[0m\n\u001b[0;32m--> 733\u001b[0;31m         \u001b[0mout_state\u001b[0m \u001b[0;34m=\u001b[0m \u001b[0mexecutor\u001b[0m\u001b[0;34m.\u001b[0m\u001b[0mexecute\u001b[0m\u001b[0;34m(\u001b[0m\u001b[0mp_obj\u001b[0m\u001b[0;34m,\u001b[0m \u001b[0mstage\u001b[0m\u001b[0;34m,\u001b[0m \u001b[0mruntime_context\u001b[0m\u001b[0;34m,\u001b[0m \u001b[0mstate\u001b[0m\u001b[0;34m=\u001b[0m\u001b[0mstate\u001b[0m\u001b[0;34m)\u001b[0m\u001b[0;34m\u001b[0m\u001b[0;34m\u001b[0m\u001b[0m\n\u001b[0m\u001b[1;32m    734\u001b[0m         \u001b[0mself\u001b[0m\u001b[0;34m.\u001b[0m\u001b[0m_call_hooks\u001b[0m\u001b[0;34m(\u001b[0m\u001b[0mhooks\u001b[0m\u001b[0;34m,\u001b[0m \u001b[0mruntime_context\u001b[0m\u001b[0;34m,\u001b[0m \u001b[0mstage\u001b[0m\u001b[0;34m,\u001b[0m \u001b[0;34m\"process\"\u001b[0m\u001b[0;34m,\u001b[0m \u001b[0;34m\"post\"\u001b[0m\u001b[0;34m)\u001b[0m\u001b[0;34m\u001b[0m\u001b[0;34m\u001b[0m\u001b[0m\n\u001b[1;32m    735\u001b[0m \u001b[0;34m\u001b[0m\u001b[0m\n",
      "\u001b[0;32m~/opt/miniconda3/envs/xsimlab/lib/python3.8/site-packages/xsimlab/process.py\u001b[0m in \u001b[0;36mexecute\u001b[0;34m(self, obj, stage, runtime_context, state)\u001b[0m\n\u001b[1;32m    407\u001b[0m             \u001b[0;32mreturn\u001b[0m \u001b[0;34m{\u001b[0m\u001b[0;34m}\u001b[0m\u001b[0;34m\u001b[0m\u001b[0;34m\u001b[0m\u001b[0m\n\u001b[1;32m    408\u001b[0m         \u001b[0;32melse\u001b[0m\u001b[0;34m:\u001b[0m\u001b[0;34m\u001b[0m\u001b[0;34m\u001b[0m\u001b[0m\n\u001b[0;32m--> 409\u001b[0;31m             \u001b[0mexecutor\u001b[0m\u001b[0;34m.\u001b[0m\u001b[0mexecute\u001b[0m\u001b[0;34m(\u001b[0m\u001b[0mobj\u001b[0m\u001b[0;34m,\u001b[0m \u001b[0mruntime_context\u001b[0m\u001b[0;34m,\u001b[0m \u001b[0mstate\u001b[0m\u001b[0;34m=\u001b[0m\u001b[0mstate\u001b[0m\u001b[0;34m)\u001b[0m\u001b[0;34m\u001b[0m\u001b[0;34m\u001b[0m\u001b[0m\n\u001b[0m\u001b[1;32m    410\u001b[0m \u001b[0;34m\u001b[0m\u001b[0m\n\u001b[1;32m    411\u001b[0m             \u001b[0mskeys\u001b[0m \u001b[0;34m=\u001b[0m \u001b[0;34m[\u001b[0m\u001b[0mobj\u001b[0m\u001b[0;34m.\u001b[0m\u001b[0m__xsimlab_state_keys__\u001b[0m\u001b[0;34m[\u001b[0m\u001b[0mk\u001b[0m\u001b[0;34m]\u001b[0m \u001b[0;32mfor\u001b[0m \u001b[0mk\u001b[0m \u001b[0;32min\u001b[0m \u001b[0mself\u001b[0m\u001b[0;34m.\u001b[0m\u001b[0mout_vars\u001b[0m\u001b[0;34m]\u001b[0m\u001b[0;34m\u001b[0m\u001b[0;34m\u001b[0m\u001b[0m\n",
      "\u001b[0;32m~/opt/miniconda3/envs/xsimlab/lib/python3.8/site-packages/xsimlab/process.py\u001b[0m in \u001b[0;36mexecute\u001b[0;34m(self, obj, runtime_context, state)\u001b[0m\n\u001b[1;32m    283\u001b[0m         \u001b[0margs\u001b[0m \u001b[0;34m=\u001b[0m \u001b[0;34m[\u001b[0m\u001b[0mruntime_context\u001b[0m\u001b[0;34m[\u001b[0m\u001b[0mk\u001b[0m\u001b[0;34m]\u001b[0m \u001b[0;32mfor\u001b[0m \u001b[0mk\u001b[0m \u001b[0;32min\u001b[0m \u001b[0mself\u001b[0m\u001b[0;34m.\u001b[0m\u001b[0margs\u001b[0m\u001b[0;34m]\u001b[0m\u001b[0;34m\u001b[0m\u001b[0;34m\u001b[0m\u001b[0m\n\u001b[1;32m    284\u001b[0m \u001b[0;34m\u001b[0m\u001b[0m\n\u001b[0;32m--> 285\u001b[0;31m         \u001b[0mself\u001b[0m\u001b[0;34m.\u001b[0m\u001b[0mmeth\u001b[0m\u001b[0;34m(\u001b[0m\u001b[0mobj\u001b[0m\u001b[0;34m,\u001b[0m \u001b[0;34m*\u001b[0m\u001b[0margs\u001b[0m\u001b[0;34m)\u001b[0m\u001b[0;34m\u001b[0m\u001b[0;34m\u001b[0m\u001b[0m\n\u001b[0m\u001b[1;32m    286\u001b[0m \u001b[0;34m\u001b[0m\u001b[0m\n\u001b[1;32m    287\u001b[0m \u001b[0;34m\u001b[0m\u001b[0m\n",
      "\u001b[0;32m~/Documents/GitHub/phydra/examples/../phydra/processes/gekkocontext.py\u001b[0m in \u001b[0;36mrun_step\u001b[0;34m(self)\u001b[0m\n\u001b[1;32m     69\u001b[0m \u001b[0;34m\u001b[0m\u001b[0m\n\u001b[1;32m     70\u001b[0m         \u001b[0msolve_start\u001b[0m \u001b[0;34m=\u001b[0m \u001b[0mprocess_time\u001b[0m\u001b[0;34m(\u001b[0m\u001b[0;34m)\u001b[0m\u001b[0;34m\u001b[0m\u001b[0;34m\u001b[0m\u001b[0m\n\u001b[0;32m---> 71\u001b[0;31m         \u001b[0mself\u001b[0m\u001b[0;34m.\u001b[0m\u001b[0mm\u001b[0m\u001b[0;34m.\u001b[0m\u001b[0msolve\u001b[0m\u001b[0;34m(\u001b[0m\u001b[0mdisp\u001b[0m\u001b[0;34m=\u001b[0m\u001b[0;32mFalse\u001b[0m\u001b[0;34m)\u001b[0m  \u001b[0;31m# disp=True) # to print gekko output\u001b[0m\u001b[0;34m\u001b[0m\u001b[0;34m\u001b[0m\u001b[0m\n\u001b[0m\u001b[1;32m     72\u001b[0m         \u001b[0msolve_end\u001b[0m \u001b[0;34m=\u001b[0m \u001b[0mprocess_time\u001b[0m\u001b[0;34m(\u001b[0m\u001b[0;34m)\u001b[0m\u001b[0;34m\u001b[0m\u001b[0;34m\u001b[0m\u001b[0m\n\u001b[1;32m     73\u001b[0m \u001b[0;34m\u001b[0m\u001b[0m\n",
      "\u001b[0;32m~/opt/miniconda3/envs/xsimlab/lib/python3.8/site-packages/gekko/gekko.py\u001b[0m in \u001b[0;36msolve\u001b[0;34m(self, disp, debug, GUI, **kwargs)\u001b[0m\n\u001b[1;32m   2057\u001b[0m                 \u001b[0mprint\u001b[0m\u001b[0;34m(\u001b[0m\u001b[0;34m\"Error:\"\u001b[0m\u001b[0;34m,\u001b[0m \u001b[0merrs\u001b[0m\u001b[0;34m)\u001b[0m\u001b[0;34m\u001b[0m\u001b[0;34m\u001b[0m\u001b[0m\n\u001b[1;32m   2058\u001b[0m             \u001b[0;32mif\u001b[0m \u001b[0;34m(\u001b[0m\u001b[0mdebug\u001b[0m \u001b[0;34m>=\u001b[0m \u001b[0;36m1\u001b[0m\u001b[0;34m)\u001b[0m \u001b[0;32mand\u001b[0m \u001b[0mrecord_error\u001b[0m\u001b[0;34m:\u001b[0m\u001b[0;34m\u001b[0m\u001b[0;34m\u001b[0m\u001b[0m\n\u001b[0;32m-> 2059\u001b[0;31m                 \u001b[0;32mraise\u001b[0m \u001b[0mException\u001b[0m\u001b[0;34m(\u001b[0m\u001b[0mapm_error\u001b[0m\u001b[0;34m)\u001b[0m\u001b[0;34m\u001b[0m\u001b[0;34m\u001b[0m\u001b[0m\n\u001b[0m\u001b[1;32m   2060\u001b[0m \u001b[0;34m\u001b[0m\u001b[0m\n\u001b[1;32m   2061\u001b[0m         \u001b[0;32melse\u001b[0m\u001b[0;34m:\u001b[0m \u001b[0;31m#solve on APM server\u001b[0m\u001b[0;34m\u001b[0m\u001b[0;34m\u001b[0m\u001b[0m\n",
      "\u001b[0;31mException\u001b[0m: @error: Solution Not Found\n"
     ]
    }
   ],
   "source": [
    "with model:\n",
    "    out_ds = in_ds.xsimlab.run()"
   ]
  },
  {
   "cell_type": "code",
   "execution_count": null,
   "metadata": {
    "collapsed": false,
    "jupyter": {
     "outputs_hidden": false
    },
    "pycharm": {
     "is_executing": false,
     "name": "#%%\n"
    }
   },
   "outputs": [],
   "source": [
    "out_ds"
   ]
  },
  {
   "cell_type": "code",
   "execution_count": null,
   "metadata": {
    "collapsed": false,
    "jupyter": {
     "outputs_hidden": false
    },
    "pycharm": {
     "is_executing": false,
     "name": "#%%\n"
    }
   },
   "outputs": [],
   "source": [
    "out_ds.Env__comp_output.plot.line(x='time', ylim=0)#, ylim=(0,2.5))  # (0,2.5)\n",
    "#out_ds.Env__comp_output.isel(components=slice(1,-1)).sum(axis=0).plot.line(x='time')"
   ]
  },
  {
   "cell_type": "code",
   "execution_count": null,
   "metadata": {},
   "outputs": [],
   "source": []
  },
  {
   "cell_type": "code",
   "execution_count": 23,
   "metadata": {},
   "outputs": [
    {
     "data": {
      "text/plain": [
       "[<matplotlib.lines.Line2D at 0x12226d5e0>,\n",
       " <matplotlib.lines.Line2D at 0x12226d700>]"
      ]
     },
     "execution_count": 23,
     "metadata": {},
     "output_type": "execute_result"
    },
    {
     "data": {
      "image/png": "[encoded data removed]",
      "text/plain": [
       "<Figure size 432x288 with 1 Axes>"
      ]
     },
     "metadata": {
      "needs_background": "light"
     },
     "output_type": "display_data"
    }
   ],
   "source": [
    "out_ds.Env__forcing_output.plot.line(x='time')"
   ]
  },
  {
   "cell_type": "code",
   "execution_count": 24,
   "metadata": {},
   "outputs": [
    {
     "data": {
      "text/plain": [
       "[<matplotlib.lines.Line2D at 0x12239e8e0>]"
      ]
     },
     "execution_count": 24,
     "metadata": {},
     "output_type": "execute_result"
    },
    {
     "data": {
      "image/png": "[encoded data removed]",
      "text/plain": [
       "<Figure size 432x288 with 1 Axes>"
      ]
     },
     "metadata": {
      "needs_background": "light"
     },
     "output_type": "display_data"
    }
   ],
   "source": [
    "out_ds.Env__forcing_output.sel(forcings='N0').plot(x='time')  #, time=np.arange(300,400)"
   ]
  },
  {
   "cell_type": "code",
   "execution_count": 25,
   "metadata": {},
   "outputs": [
    {
     "data": {
      "text/plain": [
       "[<matplotlib.lines.Line2D at 0x122460a60>,\n",
       " <matplotlib.lines.Line2D at 0x122460b80>,\n",
       " <matplotlib.lines.Line2D at 0x122460c40>,\n",
       " <matplotlib.lines.Line2D at 0x122460d00>,\n",
       " <matplotlib.lines.Line2D at 0x122460dc0>,\n",
       " <matplotlib.lines.Line2D at 0x122460e80>]"
      ]
     },
     "execution_count": 25,
     "metadata": {},
     "output_type": "execute_result"
    },
    {
     "data": {
      "image/png": "[encoded data removed]",
      "text/plain": [
       "<Figure size 432x288 with 1 Axes>"
      ]
     },
     "metadata": {
      "needs_background": "light"
     },
     "output_type": "display_data"
    }
   ],
   "source": [
    "out_ds.Env__flux_output.plot.line(x='time')"
   ]
  },
  {
   "cell_type": "code",
   "execution_count": 26,
   "metadata": {},
   "outputs": [
    {
     "data": {
      "text/plain": [
       "[<matplotlib.lines.Line2D at 0x12254a5b0>,\n",
       " <matplotlib.lines.Line2D at 0x12254a6d0>,\n",
       " <matplotlib.lines.Line2D at 0x12254a790>,\n",
       " <matplotlib.lines.Line2D at 0x12254a850>,\n",
       " <matplotlib.lines.Line2D at 0x12254a910>,\n",
       " <matplotlib.lines.Line2D at 0x12254a9d0>,\n",
       " <matplotlib.lines.Line2D at 0x12254aa90>,\n",
       " <matplotlib.lines.Line2D at 0x12254ab50>,\n",
       " <matplotlib.lines.Line2D at 0x12254ac10>,\n",
       " <matplotlib.lines.Line2D at 0x12254acd0>]"
      ]
     },
     "execution_count": 26,
     "metadata": {},
     "output_type": "execute_result"
    },
    {
     "data": {
      "image/png": "[encoded data removed]",
      "text/plain": [
       "<Figure size 432x288 with 1 Axes>"
      ]
     },
     "metadata": {
      "needs_background": "light"
     },
     "output_type": "display_data"
    }
   ],
   "source": [
    "out_ds.Env__fxflux_output.plot.line(x='time')"
   ]
  },
  {
   "cell_type": "code",
   "execution_count": null,
   "metadata": {},
   "outputs": [],
   "source": []
  },
  {
   "cell_type": "code",
   "execution_count": null,
   "metadata": {},
   "outputs": [],
   "source": []
  }
 ],
 "metadata": {
  "kernelspec": {
   "display_name": "Python 3",
   "language": "python",
   "name": "python3"
  },
  "language_info": {
   "codemirror_mode": {
    "name": "ipython",
    "version": 3
   },
   "file_extension": ".py",
   "mimetype": "text/x-python",
   "name": "python",
   "nbconvert_exporter": "python",
   "pygments_lexer": "ipython3",
   "version": "3.8.3"
  }
 },
 "nbformat": 4,
 "nbformat_minor": 4
}
