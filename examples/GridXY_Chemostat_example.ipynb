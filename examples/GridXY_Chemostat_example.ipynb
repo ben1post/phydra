{
 "cells": [
  {
   "cell_type": "code",
   "execution_count": null,
   "metadata": {},
   "outputs": [],
   "source": [
    "import numpy as np\n",
    "import xsimlab as xs"
   ]
  },
  {
   "cell_type": "code",
   "execution_count": null,
   "metadata": {},
   "outputs": [],
   "source": [
    "import os,sys,inspect\n",
    "sys.path.insert(1, os.path.join(sys.path[0], '..'))\n",
    "\n",
    "import phydra"
   ]
  },
  {
   "cell_type": "code",
   "execution_count": null,
   "metadata": {},
   "outputs": [],
   "source": [
    "print('xarray-simlab version: ', xs.__version__)\n",
    "print('phydra version: ', phydra.__version__)"
   ]
  },
  {
   "cell_type": "code",
   "execution_count": null,
   "metadata": {},
   "outputs": [],
   "source": [
    "from phydra.models import GridXY_NP_Chemostat_model"
   ]
  },
  {
   "cell_type": "code",
   "execution_count": null,
   "metadata": {},
   "outputs": [],
   "source": [
    "GridXY_NP_Chemostat_model"
   ]
  },
  {
   "cell_type": "code",
   "execution_count": null,
   "metadata": {},
   "outputs": [],
   "source": [
    "GridXY_NP_Chemostat_model.visualize(show_inputs=True)"
   ]
  },
  {
   "cell_type": "markdown",
   "metadata": {},
   "source": [
    "# supply time, parameters and output\n",
    "\n",
    "this model allows any number of phytoplankton types (or size classes) to be initialized within each cell. For simplicity \"P_num\" is 1 here:"
   ]
  },
  {
   "cell_type": "code",
   "execution_count": null,
   "metadata": {},
   "outputs": [],
   "source": [
    "in_ds = xs.create_setup(\n",
    "    model=GridXY_NP_Chemostat_model,\n",
    "    clocks={   \n",
    "        'time': np.linspace(0,30,1000),\n",
    "    },\n",
    "    master_clock='time',\n",
    "    input_vars={\n",
    "        'Grid__x_dim':100,\n",
    "        'Grid__y_dim':100,\n",
    "        \n",
    "        'MS':{\n",
    "            'N_initval':0.01,\n",
    "            'P_num':1,\n",
    "            'P_initval':.1\n",
    "        },\n",
    "        \n",
    "        'Mix__flowrate':1.,\n",
    "        \n",
    "        'GX__exchange_rate':1.5\n",
    "        \n",
    "    },\n",
    "    output_vars={\n",
    "        # state of components as output\n",
    "        'N__state':'time',\n",
    "        'P__state':'time',\n",
    "        \n",
    "        # fluxes stored for diagnostic purposes\n",
    "        'Mix__N_input':'time'\n",
    "    }\n",
    ")"
   ]
  },
  {
   "cell_type": "markdown",
   "metadata": {},
   "source": [
    "# Model Run"
   ]
  },
  {
   "cell_type": "code",
   "execution_count": null,
   "metadata": {},
   "outputs": [],
   "source": [
    "from xsimlab.monitoring import ProgressBar\n",
    "\n",
    "with ProgressBar(frontend='console'):\n",
    "    with GridXY_NP_Chemostat_model:\n",
    "        out_ds = in_ds.xsimlab.run()"
   ]
  },
  {
   "cell_type": "code",
   "execution_count": null,
   "metadata": {},
   "outputs": [],
   "source": [
    "print(out_ds)"
   ]
  },
  {
   "cell_type": "markdown",
   "metadata": {},
   "source": [
    "# Model output\n",
    "\n",
    "below the 2d grid of our model is plotted, with the 'time' that can be controlled via the slider next to it"
   ]
  },
  {
   "cell_type": "code",
   "execution_count": null,
   "metadata": {},
   "outputs": [],
   "source": [
    "import hvplot.xarray\n",
    "import holoviews as hv\n",
    "\n",
    "import matplotlib.pyplot as plt"
   ]
  },
  {
   "cell_type": "markdown",
   "metadata": {},
   "source": [
    "## Nutrient\n",
    "\n",
    "The nutrient has a small square influx in the middle of the grid, over time the first influx of nutrients is taken up by phytoplankton that consumes it, reaching a steady state quickly."
   ]
  },
  {
   "cell_type": "code",
   "execution_count": null,
   "metadata": {},
   "outputs": [],
   "source": [
    "N_out = out_ds.N__state.hvplot.image(\n",
    "    x='x', y='y', clim=(0, 5),\n",
    "    width=550, height=550,\n",
    "    cmap=plt.cm.viridis, groupby='time'\n",
    ")\n",
    "\n",
    "N_out"
   ]
  },
  {
   "cell_type": "markdown",
   "metadata": {},
   "source": [
    "## Phytoplankton\n",
    "\n",
    "There is a small concentration of nutrient and phytoplankton initializedin each cell, that fuels a short growth across the grid. Additional nutrients flowing in at the middle are advected towards edges creating a gradient in phytoplankton biomass."
   ]
  },
  {
   "cell_type": "code",
   "execution_count": null,
   "metadata": {},
   "outputs": [],
   "source": [
    "P_out = out_ds.P__state.hvplot.image(\n",
    "    x='x', y='y', clim=(0, 5),\n",
    "    width=550, height=550,\n",
    "    cmap=plt.cm.viridis, groupby='time'\n",
    ")\n",
    "\n",
    "P_out"
   ]
  },
  {
   "cell_type": "markdown",
   "metadata": {},
   "source": [
    "## Nutrient input (as a model diagnostic)"
   ]
  },
  {
   "cell_type": "code",
   "execution_count": null,
   "metadata": {},
   "outputs": [],
   "source": [
    "N_in = out_ds.Mix__N_input.hvplot.image(\n",
    "    x='x', y='y', clim=(0, 5),\n",
    "    width=550, height=550,\n",
    "    cmap=plt.cm.viridis, groupby='time'\n",
    ")\n",
    "\n",
    "N_in"
   ]
  },
  {
   "cell_type": "code",
   "execution_count": null,
   "metadata": {},
   "outputs": [],
   "source": []
  }
 ],
 "metadata": {
  "kernelspec": {
   "display_name": "Python 3",
   "language": "python",
   "name": "python3"
  },
  "language_info": {
   "codemirror_mode": {
    "name": "ipython",
    "version": 3
   },
   "file_extension": ".py",
   "mimetype": "text/x-python",
   "name": "python",
   "nbconvert_exporter": "python",
   "pygments_lexer": "ipython3",
   "version": "3.8.3"
  }
 },
 "nbformat": 4,
 "nbformat_minor": 4
}
