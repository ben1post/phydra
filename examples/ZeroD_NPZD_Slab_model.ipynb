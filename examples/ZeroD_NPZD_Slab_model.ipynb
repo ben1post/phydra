{
 "cells": [
  {
   "cell_type": "markdown",
   "metadata": {},
   "source": [
    "# NPZD slab model\n",
    "\n",
    "For the first model example I will need:\n",
    "- Forcing input\n",
    "- Forcing_fluxes:\n",
    "    - mixing\n",
    "    - sinking\n",
    "- 4 components (single) N, P, Z, D\n",
    "- Fluxes:\n",
    "TODO: GO OVER THE equations! Base model structure in math!\n",
    "    - Grazing - linked to all NPZD\n",
    "    - PhytoplanktonGrowth\n",
    "        - Light - Dependence\n",
    "        - Nutrients - Dependence\n",
    "        - Temp - Dependence\n",
    "    - mortality\n",
    "    - remineralisation\n",
    "    - higher order pred, etc"
   ]
  },
  {
   "cell_type": "raw",
   "metadata": {},
   "source": [
    "N = Mixing(N0-N)+LeakyGrazing(P,D)+Remin(D)-Growth(P)\n",
    "P = Growth(P)-Mortality(P)-QuadMort(P)-Grazing(P)-Mixing(P)\n",
    "Z = Grazing(P,D)-Mortality(Z)-QuadMort(Z)-Mixing(Z)\n",
    "D = Mortality(P)+QuadMort(P)+Mortality(Z)+SloppyGrazing(P,D)-Grazing(D)-Remin(D)-Mixing(D)-Sinking(D)\n",
    "\n",
    "Mixing\n",
    "Growth(Light,Temp,Nut)\n",
    "Mortality, QuadMort\n",
    "Grazing + LeakyGrazing + SloppyGrazing\n",
    "Remin\n",
    "Sinking"
   ]
  },
  {
   "cell_type": "code",
   "execution_count": 1,
   "metadata": {},
   "outputs": [],
   "source": [
    "import numpy as np\n",
    "import xsimlab as xs"
   ]
  },
  {
   "cell_type": "code",
   "execution_count": 2,
   "metadata": {},
   "outputs": [],
   "source": [
    "import os,sys,inspect\n",
    "sys.path.insert(1, os.path.join(sys.path[0], '..'))\n",
    "\n",
    "import phydra\n",
    "\n",
    "\n",
    "from phydra.utility.xsimlabwrappers import phydra_setup"
   ]
  },
  {
   "cell_type": "code",
   "execution_count": 3,
   "metadata": {},
   "outputs": [],
   "source": [
    "from phydra.processes.main import Grid0D, Boundary0D\n",
    "from phydra.processes.components import Component, Time, make_Component\n",
    "from phydra.processes.environments import BaseEnvironment, Slab\n",
    "from phydra.processes.fluxes import (BaseFlux, LimitedGrowth, \n",
    "                                     LinearMortality, GrazingFlux, \n",
    "                                     GrazingMultiFlux, make_flux,\n",
    "                                    make_multiflux)\n",
    "from phydra.processes.forcingfluxes import Mixing, Sinking, Upwelling, make_FX_flux\n",
    "from phydra.processes.forcing import SinusoidalMLD, ConstantN0\n",
    "from phydra.processes.gekkocontext import GekkoContext, GekkoSolve, InheritGekkoContext"
   ]
  },
  {
   "cell_type": "code",
   "execution_count": 4,
   "metadata": {},
   "outputs": [],
   "source": [
    "from phydra.processes.forcing import NutrientForcing, MLDForcing"
   ]
  },
  {
   "cell_type": "code",
   "execution_count": 5,
   "metadata": {},
   "outputs": [
    {
     "name": "stdout",
     "output_type": "stream",
     "text": [
      "xarray-simlab version:  0.4.1\n",
      "phydra version:  0+untagged.75.g44d95e3.dirty\n"
     ]
    }
   ],
   "source": [
    "print('xarray-simlab version: ', xs.__version__)\n",
    "print('phydra version: ', phydra.__version__)"
   ]
  },
  {
   "cell_type": "code",
   "execution_count": 6,
   "metadata": {},
   "outputs": [
    {
     "name": "stdout",
     "output_type": "stream",
     "text": [
      "('XR',)\n",
      "('XC',)\n"
     ]
    },
    {
     "data": {
      "text/plain": [
       "<xsimlab.Model (18 processes, 31 inputs)>\n",
       "context\n",
       "time\n",
       "    days               [in] ('time',) time in days\n",
       "grid\n",
       "    shape              [in]\n",
       "    length             [in]\n",
       "ibcs\n",
       "    ibc                [in] Initial Boundary Conditions\n",
       "N\n",
       "    init               [in]\n",
       "    dim                [in]\n",
       "P\n",
       "    dim                [in]\n",
       "    init               [in]\n",
       "Z\n",
       "    init               [in]\n",
       "    dim                [in]\n",
       "D\n",
       "    init               [in]\n",
       "    dim                [in]\n",
       "Z_LinMortality\n",
       "    R_label            [in] label of component that experiences mor...\n",
       "    C_label            [in] label of component that mortality feeds...\n",
       "    mortality_rate     [in] mortality rate of component\n",
       "N0\n",
       "    constant_N0        [in] value of the constant Nutrient forcing\n",
       "MLD\n",
       "Upwelling\n",
       "    kappa              [in] constant mixing coefficient\n",
       "    C_labels           [in] u label of component(s) that grows\n",
       "P_LinMortality\n",
       "    R_label            [in] label of component that experiences mor...\n",
       "    C_label            [in] label of component that mortality feeds...\n",
       "    mortality_rate     [in] mortality rate of component\n",
       "P_Growth\n",
       "    halfsat            [in] half-saturation constant of nutrient up...\n",
       "    mu                 [in] Maximum growth rate of component\n",
       "    R_label            [in] label of ressource component that is co...\n",
       "    C_label            [in] label of component that grows\n",
       "Grazing\n",
       "    R_labels           [in] XR label of component that is grazed upon\n",
       "    grazing_rate       [in] maximum grazing rate\n",
       "    halfsat            [in] half-saturation constant of grazing res...\n",
       "    C_labels           [in] XC label of component that grazes\n",
       "Sinking\n",
       "    kappa              [in] constant mixing coefficient\n",
       "    C_labels           [in] s label of component(s) that grows\n",
       "Env\n",
       "solver"
      ]
     },
     "execution_count": 6,
     "metadata": {},
     "output_type": "execute_result"
    }
   ],
   "source": [
    "model = xs.Model({\n",
    "    'time':Time, 'grid':Grid0D, 'ibcs':Boundary0D, \n",
    "    \n",
    "    'context':GekkoContext,\n",
    "                  \n",
    "    'N':make_Component('Nutrient','N'), 'P':make_Component('Phytoplankton','P'),\n",
    "    'Z':make_Component('Zooplankton','Z'), 'D':make_Component('Detritus','D'),\n",
    "    'Env':Slab, \n",
    "    \n",
    "    # Fluxes\n",
    "    'P_Growth':make_flux(LimitedGrowth, 'G'), \n",
    "    'P_LinMortality':make_flux(LinearMortality, 'M'), \n",
    "    \n",
    "    'Grazing':make_multiflux(GrazingMultiFlux, 'X'), \n",
    "    'Z_LinMortality':make_flux(LinearMortality, 'M'),\n",
    "    \n",
    "    \n",
    "    # ForcingFluxes\n",
    "    'Sinking':make_FX_flux(Sinking, 'S'),\n",
    "    'Upwelling':make_FX_flux(Upwelling, 'U'),\n",
    "    \n",
    "    'MLD':SinusoidalMLD, \n",
    "    'N0':ConstantN0, \n",
    "    \n",
    "    'solver':GekkoSolve\n",
    "})\n",
    "\n",
    "model"
   ]
  },
  {
   "cell_type": "code",
   "execution_count": 7,
   "metadata": {},
   "outputs": [
    {
     "data": {
      "text/plain": [
       "[('time', 'time'),\n",
       " ('N', 'N'),\n",
       " ('P', 'P'),\n",
       " ('Z', 'Z'),\n",
       " ('D', 'D'),\n",
       " ('Env', 'components'),\n",
       " ('Env', 'fluxes'),\n",
       " ('Env', 'forcingfluxes'),\n",
       " ('P_Growth', 'G'),\n",
       " ('P_LinMortality', 'M'),\n",
       " ('Grazing', 'X'),\n",
       " ('Z_LinMortality', 'M'),\n",
       " ('Sinking', 'S'),\n",
       " ('Upwelling', 'U')]"
      ]
     },
     "execution_count": 7,
     "metadata": {},
     "output_type": "execute_result"
    }
   ],
   "source": [
    "model.index_vars \n"
   ]
  },
  {
   "cell_type": "code",
   "execution_count": 8,
   "metadata": {
    "collapsed": false,
    "jupyter": {
     "outputs_hidden": false
    },
    "pycharm": {
     "is_executing": false,
     "name": "#%%\n"
    }
   },
   "outputs": [
    {
     "ename": "TypeError",
     "evalue": "Could not get dimension labels from model for variable 'Grazing__R_labels' with value ['P', 'D']",
     "output_type": "error",
     "traceback": [
      "\u001b[0;31m---------------------------------------------------------------------------\u001b[0m",
      "\u001b[0;31mTypeError\u001b[0m                                 Traceback (most recent call last)",
      "\u001b[0;32m~/opt/miniconda3/envs/xsimlab/lib/python3.8/site-packages/xsimlab/xr_accessor.py\u001b[0m in \u001b[0;36m_set_input_vars\u001b[0;34m(self, model, input_vars)\u001b[0m\n\u001b[1;32m    304\u001b[0m             \u001b[0;32mtry\u001b[0m\u001b[0;34m:\u001b[0m\u001b[0;34m\u001b[0m\u001b[0;34m\u001b[0m\u001b[0m\n\u001b[0;32m--> 305\u001b[0;31m                 \u001b[0mxr_var\u001b[0m \u001b[0;34m=\u001b[0m \u001b[0mas_variable\u001b[0m\u001b[0;34m(\u001b[0m\u001b[0mdata\u001b[0m\u001b[0;34m)\u001b[0m\u001b[0;34m\u001b[0m\u001b[0;34m\u001b[0m\u001b[0m\n\u001b[0m\u001b[1;32m    306\u001b[0m             \u001b[0;32mexcept\u001b[0m \u001b[0mTypeError\u001b[0m\u001b[0;34m:\u001b[0m\u001b[0;34m\u001b[0m\u001b[0;34m\u001b[0m\u001b[0m\n",
      "\u001b[0;32m~/opt/miniconda3/envs/xsimlab/lib/python3.8/site-packages/xarray/core/variable.py\u001b[0m in \u001b[0;36mas_variable\u001b[0;34m(obj, name)\u001b[0m\n\u001b[1;32m    125\u001b[0m     \u001b[0;32melse\u001b[0m\u001b[0;34m:\u001b[0m\u001b[0;34m\u001b[0m\u001b[0;34m\u001b[0m\u001b[0m\n\u001b[0;32m--> 126\u001b[0;31m         raise TypeError(\n\u001b[0m\u001b[1;32m    127\u001b[0m             \u001b[0;34m\"unable to convert object into a variable without an \"\u001b[0m\u001b[0;34m\u001b[0m\u001b[0;34m\u001b[0m\u001b[0m\n",
      "\u001b[0;31mTypeError\u001b[0m: unable to convert object into a variable without an explicit list of dimensions: ['P', 'D']",
      "\nDuring handling of the above exception, another exception occurred:\n",
      "\u001b[0;31mTypeError\u001b[0m                                 Traceback (most recent call last)",
      "\u001b[0;32m<ipython-input-8-4c4695465d9e>\u001b[0m in \u001b[0;36m<module>\u001b[0;34m\u001b[0m\n\u001b[0;32m----> 1\u001b[0;31m in_ds = phydra_setup(\n\u001b[0m\u001b[1;32m      2\u001b[0m     \u001b[0mmodel\u001b[0m\u001b[0;34m=\u001b[0m\u001b[0mmodel\u001b[0m\u001b[0;34m,\u001b[0m\u001b[0;34m\u001b[0m\u001b[0;34m\u001b[0m\u001b[0m\n\u001b[1;32m      3\u001b[0m     input_vars={\n\u001b[1;32m      4\u001b[0m         \u001b[0;34m'time__days'\u001b[0m\u001b[0;34m:\u001b[0m \u001b[0;34m(\u001b[0m\u001b[0;34m'time'\u001b[0m\u001b[0;34m,\u001b[0m \u001b[0mnp\u001b[0m\u001b[0;34m.\u001b[0m\u001b[0marange\u001b[0m\u001b[0;34m(\u001b[0m\u001b[0;36m0\u001b[0m\u001b[0;34m,\u001b[0m \u001b[0;36m365\u001b[0m\u001b[0;34m*\u001b[0m\u001b[0;36m3\u001b[0m\u001b[0;34m)\u001b[0m\u001b[0;34m)\u001b[0m\u001b[0;34m,\u001b[0m \u001b[0;31m#365*\u001b[0m\u001b[0;34m\u001b[0m\u001b[0;34m\u001b[0m\u001b[0m\n\u001b[1;32m      5\u001b[0m \u001b[0;34m\u001b[0m\u001b[0m\n",
      "\u001b[0;32m~/Documents/GitHub/phydra/examples/../phydra/utility/xsimlabwrappers.py\u001b[0m in \u001b[0;36mphydra_setup\u001b[0;34m(model, input_vars, output_vars)\u001b[0m\n\u001b[1;32m      5\u001b[0m     \"\"\" This function wraps create_setup and adds a dummy clock parameter\n\u001b[1;32m      6\u001b[0m     necessary for model execution \"\"\"\n\u001b[0;32m----> 7\u001b[0;31m     return xs.create_setup(model=model,\n\u001b[0m\u001b[1;32m      8\u001b[0m                            \u001b[0;31m# necessary for xsimlab\u001b[0m\u001b[0;34m\u001b[0m\u001b[0;34m\u001b[0m\u001b[0;34m\u001b[0m\u001b[0m\n\u001b[1;32m      9\u001b[0m                            \u001b[0mclocks\u001b[0m\u001b[0;34m=\u001b[0m\u001b[0;34m{\u001b[0m\u001b[0;34m'clock'\u001b[0m\u001b[0;34m:\u001b[0m \u001b[0;34m[\u001b[0m\u001b[0;36m0\u001b[0m\u001b[0;34m,\u001b[0m \u001b[0;36m1\u001b[0m\u001b[0;34m]\u001b[0m\u001b[0;34m}\u001b[0m\u001b[0;34m,\u001b[0m\u001b[0;34m\u001b[0m\u001b[0;34m\u001b[0m\u001b[0m\n",
      "\u001b[0;32m~/opt/miniconda3/envs/xsimlab/lib/python3.8/site-packages/xsimlab/xr_accessor.py\u001b[0m in \u001b[0;36mcreate_setup\u001b[0;34m(model, clocks, master_clock, input_vars, output_vars, fill_default)\u001b[0m\n\u001b[1;32m    906\u001b[0m \u001b[0;34m\u001b[0m\u001b[0m\n\u001b[1;32m    907\u001b[0m     ds = (\n\u001b[0;32m--> 908\u001b[0;31m         \u001b[0mDataset\u001b[0m\u001b[0;34m(\u001b[0m\u001b[0;34m)\u001b[0m\u001b[0;34m\u001b[0m\u001b[0;34m\u001b[0m\u001b[0m\n\u001b[0m\u001b[1;32m    909\u001b[0m         \u001b[0;34m.\u001b[0m\u001b[0mxsimlab\u001b[0m\u001b[0;34m.\u001b[0m\u001b[0mupdate_clocks\u001b[0m\u001b[0;34m(\u001b[0m\u001b[0mmodel\u001b[0m\u001b[0;34m=\u001b[0m\u001b[0mmodel\u001b[0m\u001b[0;34m,\u001b[0m \u001b[0mclocks\u001b[0m\u001b[0;34m=\u001b[0m\u001b[0mclocks\u001b[0m\u001b[0;34m,\u001b[0m \u001b[0mmaster_clock\u001b[0m\u001b[0;34m=\u001b[0m\u001b[0mmaster_clock\u001b[0m\u001b[0;34m)\u001b[0m\u001b[0;34m\u001b[0m\u001b[0;34m\u001b[0m\u001b[0m\n\u001b[1;32m    910\u001b[0m         \u001b[0;34m.\u001b[0m\u001b[0mpipe\u001b[0m\u001b[0;34m(\u001b[0m\u001b[0mmaybe_fill_default\u001b[0m\u001b[0;34m)\u001b[0m\u001b[0;34m\u001b[0m\u001b[0;34m\u001b[0m\u001b[0m\n",
      "\u001b[0;32m~/opt/miniconda3/envs/xsimlab/lib/python3.8/site-packages/xsimlab/xr_accessor.py\u001b[0m in \u001b[0;36mupdate_vars\u001b[0;34m(self, model, input_vars, output_vars)\u001b[0m\n\u001b[1;32m    575\u001b[0m \u001b[0;34m\u001b[0m\u001b[0m\n\u001b[1;32m    576\u001b[0m         \u001b[0;32mif\u001b[0m \u001b[0minput_vars\u001b[0m \u001b[0;32mis\u001b[0m \u001b[0;32mnot\u001b[0m \u001b[0;32mNone\u001b[0m\u001b[0;34m:\u001b[0m\u001b[0;34m\u001b[0m\u001b[0;34m\u001b[0m\u001b[0m\n\u001b[0;32m--> 577\u001b[0;31m             \u001b[0mds\u001b[0m\u001b[0;34m.\u001b[0m\u001b[0mxsimlab\u001b[0m\u001b[0;34m.\u001b[0m\u001b[0m_set_input_vars\u001b[0m\u001b[0;34m(\u001b[0m\u001b[0mmodel\u001b[0m\u001b[0;34m,\u001b[0m \u001b[0m_flatten_inputs\u001b[0m\u001b[0;34m(\u001b[0m\u001b[0minput_vars\u001b[0m\u001b[0;34m)\u001b[0m\u001b[0;34m)\u001b[0m\u001b[0;34m\u001b[0m\u001b[0;34m\u001b[0m\u001b[0m\n\u001b[0m\u001b[1;32m    578\u001b[0m \u001b[0;34m\u001b[0m\u001b[0m\n\u001b[1;32m    579\u001b[0m         \u001b[0;32mif\u001b[0m \u001b[0moutput_vars\u001b[0m \u001b[0;32mis\u001b[0m \u001b[0;32mnot\u001b[0m \u001b[0;32mNone\u001b[0m\u001b[0;34m:\u001b[0m\u001b[0;34m\u001b[0m\u001b[0;34m\u001b[0m\u001b[0m\n",
      "\u001b[0;32m~/opt/miniconda3/envs/xsimlab/lib/python3.8/site-packages/xsimlab/xr_accessor.py\u001b[0m in \u001b[0;36m_set_input_vars\u001b[0;34m(self, model, input_vars)\u001b[0m\n\u001b[1;32m    312\u001b[0m \u001b[0;34m\u001b[0m\u001b[0m\n\u001b[1;32m    313\u001b[0m                 \u001b[0;32mif\u001b[0m \u001b[0mdims\u001b[0m \u001b[0;32mis\u001b[0m \u001b[0;32mNone\u001b[0m\u001b[0;34m:\u001b[0m\u001b[0;34m\u001b[0m\u001b[0;34m\u001b[0m\u001b[0m\n\u001b[0;32m--> 314\u001b[0;31m                     raise TypeError(\n\u001b[0m\u001b[1;32m    315\u001b[0m                         \u001b[0;34m\"Could not get dimension labels from model \"\u001b[0m\u001b[0;34m\u001b[0m\u001b[0;34m\u001b[0m\u001b[0m\n\u001b[1;32m    316\u001b[0m                         \u001b[0;34mf\"for variable {xr_var_name!r} with value {data}\"\u001b[0m\u001b[0;34m\u001b[0m\u001b[0;34m\u001b[0m\u001b[0m\n",
      "\u001b[0;31mTypeError\u001b[0m: Could not get dimension labels from model for variable 'Grazing__R_labels' with value ['P', 'D']"
     ]
    }
   ],
   "source": [
    "in_ds = phydra_setup(\n",
    "    model=model,\n",
    "    input_vars={\n",
    "        'time__days': ('time', np.arange(0, 365*3)), #365*\n",
    "        \n",
    "        'N':{'dim':1,'init':1}, \n",
    "        'P':{'dim':1,'init':.1},\n",
    "        'Z':{'dim':1,'init':0.1},\n",
    "        'D':{'dim':1,'init':0.1},\n",
    "        \n",
    "        'P_Growth':{'mu':1.,\n",
    "               'R_label':'N',\n",
    "               'C_label':'P', \n",
    "               'halfsat':0.5},\n",
    "        \n",
    "        'P_LinMortality':{'mortality_rate':0.1,\n",
    "               'R_label':'P',\n",
    "               'C_label':'D'},\n",
    "        \n",
    "        'Grazing':{'grazing_rate':0.1,\n",
    "               'halfsat':0.5,\n",
    "               'R_labels':['P','D'],\n",
    "               'C_labels':['Z']},\n",
    "        'Z_LinMortality':{'mortality_rate':0.1,\n",
    "               'R_label':'Z',\n",
    "               'C_label':'D'},\n",
    "        \n",
    "        'Sinking':{'kappa':0.1,\n",
    "               'C_labels':['D','P']},\n",
    "        \n",
    "        'Upwelling':{'kappa':0.1,\n",
    "               'C_labels':['N']},\n",
    "        \n",
    "        'N0__constant_N0':2.\n",
    "    },\n",
    "    output_vars={\n",
    "        'Env__comp_output':None,\n",
    "        'Env__flux_output':None,\n",
    "        'Env__fxflux_output':None\n",
    "    }\n",
    "                 )"
   ]
  },
  {
   "cell_type": "code",
   "execution_count": 9,
   "metadata": {
    "collapsed": false,
    "jupyter": {
     "outputs_hidden": false
    },
    "pycharm": {
     "is_executing": false,
     "name": "#%%\n"
    }
   },
   "outputs": [
    {
     "ename": "NameError",
     "evalue": "name 'in_ds' is not defined",
     "output_type": "error",
     "traceback": [
      "\u001b[0;31m---------------------------------------------------------------------------\u001b[0m",
      "\u001b[0;31mNameError\u001b[0m                                 Traceback (most recent call last)",
      "\u001b[0;32m<ipython-input-9-b5148c6a5108>\u001b[0m in \u001b[0;36m<module>\u001b[0;34m\u001b[0m\n\u001b[1;32m      1\u001b[0m \u001b[0;32mwith\u001b[0m \u001b[0mmodel\u001b[0m\u001b[0;34m:\u001b[0m\u001b[0;34m\u001b[0m\u001b[0;34m\u001b[0m\u001b[0m\n\u001b[0;32m----> 2\u001b[0;31m     \u001b[0mout_ds\u001b[0m \u001b[0;34m=\u001b[0m \u001b[0min_ds\u001b[0m\u001b[0;34m.\u001b[0m\u001b[0mxsimlab\u001b[0m\u001b[0;34m.\u001b[0m\u001b[0mrun\u001b[0m\u001b[0;34m(\u001b[0m\u001b[0;34m)\u001b[0m\u001b[0;34m\u001b[0m\u001b[0;34m\u001b[0m\u001b[0m\n\u001b[0m",
      "\u001b[0;31mNameError\u001b[0m: name 'in_ds' is not defined"
     ]
    }
   ],
   "source": [
    "with model:\n",
    "    out_ds = in_ds.xsimlab.run()"
   ]
  },
  {
   "cell_type": "code",
   "execution_count": null,
   "metadata": {
    "collapsed": false,
    "jupyter": {
     "outputs_hidden": false
    },
    "pycharm": {
     "is_executing": false,
     "name": "#%%\n"
    }
   },
   "outputs": [],
   "source": [
    "out_ds"
   ]
  },
  {
   "cell_type": "code",
   "execution_count": null,
   "metadata": {
    "collapsed": false,
    "jupyter": {
     "outputs_hidden": false
    },
    "pycharm": {
     "is_executing": false,
     "name": "#%%\n"
    }
   },
   "outputs": [],
   "source": [
    "out_ds.Env__comp_output.plot.line(x='time')"
   ]
  },
  {
   "cell_type": "code",
   "execution_count": null,
   "metadata": {},
   "outputs": [],
   "source": [
    "out_ds.Env__flux_output.plot.line(x='time')"
   ]
  },
  {
   "cell_type": "code",
   "execution_count": null,
   "metadata": {},
   "outputs": [],
   "source": [
    "out_ds.Env__fxflux_output.plot.line(x='time')"
   ]
  },
  {
   "cell_type": "code",
   "execution_count": null,
   "metadata": {},
   "outputs": [],
   "source": []
  }
 ],
 "metadata": {
  "kernelspec": {
   "display_name": "Python 3",
   "language": "python",
   "name": "python3"
  },
  "language_info": {
   "codemirror_mode": {
    "name": "ipython",
    "version": 3
   },
   "file_extension": ".py",
   "mimetype": "text/x-python",
   "name": "python",
   "nbconvert_exporter": "python",
   "pygments_lexer": "ipython3",
   "version": "3.8.3"
  }
 },
 "nbformat": 4,
 "nbformat_minor": 4
}
