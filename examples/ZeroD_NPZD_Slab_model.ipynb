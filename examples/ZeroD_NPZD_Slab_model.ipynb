{
 "cells": [
  {
   "cell_type": "markdown",
   "metadata": {},
   "source": [
    "# NPZD slab model\n",
    "\n",
    "For the first model example I will need:\n",
    "- Forcing input\n",
    "- Forcing_fluxes:\n",
    "    - mixing\n",
    "    - sinking\n",
    "- 4 components (single) N, P, Z, D\n",
    "- Fluxes:\n",
    "TODO: GO OVER THE equations! Base model structure in math!\n",
    "    - Grazing - linked to all NPZD\n",
    "    - PhytoplanktonGrowth\n",
    "        - Light - Dependence\n",
    "        - Nutrients - Dependence\n",
    "        - Temp - Dependence\n",
    "    - mortality\n",
    "    - remineralisation\n",
    "    - higher order pred, etc"
   ]
  },
  {
   "cell_type": "markdown",
   "metadata": {},
   "source": [
    "N = Mixing(N0-N)+LeakyGrazing(P,D)+Remin(D)-Growth(P)\n",
    "P = Growth(P)-Mortality(P)-QuadMort(P)-Grazing(P)-Mixing(P)\n",
    "Z = Grazing(P,D)-Mortality(Z)-QuadMort(Z)-Mixing(Z)\n",
    "D = Mortality(P)+QuadMort(P)+Mortality(Z)+SloppyGrazing(P,D)-Grazing(D)-Remin(D)-Mixing(D)-Sinking(D)\n",
    "\n",
    "Mixing\n",
    "Growth(Light,Temp,Nut)\n",
    "Mortality, QuadMort\n",
    "Grazing + LeakyGrazing + SloppyGrazing\n",
    "Remin\n",
    "Sinking"
   ]
  },
  {
   "cell_type": "code",
   "execution_count": 1,
   "metadata": {},
   "outputs": [],
   "source": [
    "import numpy as np\n",
    "import xsimlab as xs"
   ]
  },
  {
   "cell_type": "code",
   "execution_count": 2,
   "metadata": {},
   "outputs": [],
   "source": [
    "import os,sys,inspect\n",
    "sys.path.insert(1, os.path.join(sys.path[0], '..'))\n",
    "\n",
    "import phydra\n",
    "from phydra.processes.main import Time, Grid0D,Boundary0D\n",
    "from phydra.processes.fluxes import Flux\n",
    "from phydra.processes.components import Component\n",
    "from phydra.processes.gekkocontext import GekkoContext, GekkoSolve\n",
    "\n",
    "from phydra.utility.xsimlabwrappers import phydra_setup, createMultiComp"
   ]
  },
  {
   "cell_type": "code",
   "execution_count": 3,
   "metadata": {},
   "outputs": [],
   "source": [
    "from phydra.processes.forcing import Forcing"
   ]
  },
  {
   "cell_type": "code",
   "execution_count": 4,
   "metadata": {},
   "outputs": [
    {
     "name": "stdout",
     "output_type": "stream",
     "text": [
      "xarray-simlab version:  0.4.1\n",
      "phydra version:  0+untagged.53.g84c5913.dirty\n"
     ]
    }
   ],
   "source": [
    "print('xarray-simlab version: ', xs.__version__)\n",
    "print('phydra version: ', phydra.__version__)"
   ]
  },
  {
   "cell_type": "code",
   "execution_count": 5,
   "metadata": {},
   "outputs": [
    {
     "data": {
      "text/plain": [
       "<xsimlab.Model (9 processes, 9 inputs)>\n",
       "time\n",
       "    days           [in] ('time',) time in days\n",
       "grid\n",
       "    length         [in]\n",
       "    shape          [in]\n",
       "ibcs\n",
       "    ibc            [in] Initial Boundary Conditions\n",
       "context\n",
       "C1\n",
       "    init           [in]\n",
       "C2\n",
       "    init           [in]\n",
       "flux\n",
       "    growthrate     [in]\n",
       "    c2_label       [in]\n",
       "    c1_label       [in]\n",
       "solver\n",
       "FX"
      ]
     },
     "execution_count": 5,
     "metadata": {},
     "output_type": "execute_result"
    }
   ],
   "source": [
    "model = xs.Model({'time':Time, 'grid':Grid0D, 'ibcs':Boundary0D, 'context':GekkoContext, \n",
    "                  'C1':createMultiComp(Component,'c1',5), 'C2':createMultiComp(Component,'c2',5),\n",
    "                  'flux':Flux, 'solver':GekkoSolve, 'FX':Forcing})\n",
    "\n",
    "model"
   ]
  },
  {
   "cell_type": "code",
   "execution_count": 6,
   "metadata": {},
   "outputs": [
    {
     "data": {
      "text/plain": [
       "[('time', 'time'), ('C1', 'index'), ('C2', 'index')]"
      ]
     },
     "execution_count": 6,
     "metadata": {},
     "output_type": "execute_result"
    }
   ],
   "source": [
    "model.index_vars "
   ]
  },
  {
   "cell_type": "code",
   "execution_count": 7,
   "metadata": {
    "collapsed": false,
    "jupyter": {
     "outputs_hidden": false
    },
    "pycharm": {
     "is_executing": false,
     "name": "#%%\n"
    }
   },
   "outputs": [],
   "source": [
    "in_ds = phydra_setup(\n",
    "    model=model,\n",
    "    input_vars={\n",
    "        'time__days': ('time', np.arange(0, 15)),\n",
    "        'C1':{'init':1}, \n",
    "        'C2':{'init':2}, #the way dims are handled need to be specified in each flux!\n",
    "        \n",
    "        'flux':{'growthrate':0.1,\n",
    "                'c1_label':'c1',\n",
    "                'c2_label':'c2'}\n",
    "    },\n",
    "    output_vars={\n",
    "        'C1__output':None , \n",
    "        'C2__output':None \n",
    "    }\n",
    "                 )"
   ]
  },
  {
   "cell_type": "code",
   "execution_count": 8,
   "metadata": {
    "collapsed": false,
    "jupyter": {
     "outputs_hidden": false
    },
    "pycharm": {
     "is_executing": false,
     "name": "#%%\n"
    }
   },
   "outputs": [
    {
     "name": "stdout",
     "output_type": "stream",
     "text": [
      "Initializing Model Time\n",
      "Initializing Gekko Context\n",
      "Initializing component  c1\n",
      "Initializing component  c2\n",
      "Initializing Flux\n",
      "Assembling equation for component  c1\n",
      "Assembling equation for component  c2\n",
      "SolveInit\n",
      "Model context dict stores: dict_items([('shape', [1]), ('components', [('c1', 5), ('c2', 5)])])\n",
      "ModelSolve done\n",
      "Storing output component  c1\n",
      "Storing output component  c2\n"
     ]
    }
   ],
   "source": [
    "with model:\n",
    "    out_ds = in_ds.xsimlab.run()"
   ]
  },
  {
   "cell_type": "code",
   "execution_count": 8,
   "metadata": {
    "collapsed": false,
    "jupyter": {
     "outputs_hidden": false
    },
    "pycharm": {
     "is_executing": false,
     "name": "#%%\n"
    }
   },
   "outputs": [
    {
     "data": {
      "text/html": [
       "<div><svg style=\"position: absolute; width: 0; height: 0; overflow: hidden\">\n",
       "<defs>\n",
       "<symbol id=\"icon-database\" viewBox=\"0 0 32 32\">\n",
       "<title>Show/Hide data repr</title>\n",
       "<path d=\"M16 0c-8.837 0-16 2.239-16 5v4c0 2.761 7.163 5 16 5s16-2.239 16-5v-4c0-2.761-7.163-5-16-5z\"></path>\n",
       "<path d=\"M16 17c-8.837 0-16-2.239-16-5v6c0 2.761 7.163 5 16 5s16-2.239 16-5v-6c0 2.761-7.163 5-16 5z\"></path>\n",
       "<path d=\"M16 26c-8.837 0-16-2.239-16-5v6c0 2.761 7.163 5 16 5s16-2.239 16-5v-6c0 2.761-7.163 5-16 5z\"></path>\n",
       "</symbol>\n",
       "<symbol id=\"icon-file-text2\" viewBox=\"0 0 32 32\">\n",
       "<title>Show/Hide attributes</title>\n",
       "<path d=\"M28.681 7.159c-0.694-0.947-1.662-2.053-2.724-3.116s-2.169-2.030-3.116-2.724c-1.612-1.182-2.393-1.319-2.841-1.319h-15.5c-1.378 0-2.5 1.121-2.5 2.5v27c0 1.378 1.122 2.5 2.5 2.5h23c1.378 0 2.5-1.122 2.5-2.5v-19.5c0-0.448-0.137-1.23-1.319-2.841zM24.543 5.457c0.959 0.959 1.712 1.825 2.268 2.543h-4.811v-4.811c0.718 0.556 1.584 1.309 2.543 2.268zM28 29.5c0 0.271-0.229 0.5-0.5 0.5h-23c-0.271 0-0.5-0.229-0.5-0.5v-27c0-0.271 0.229-0.5 0.5-0.5 0 0 15.499-0 15.5 0v7c0 0.552 0.448 1 1 1h7v19.5z\"></path>\n",
       "<path d=\"M23 26h-14c-0.552 0-1-0.448-1-1s0.448-1 1-1h14c0.552 0 1 0.448 1 1s-0.448 1-1 1z\"></path>\n",
       "<path d=\"M23 22h-14c-0.552 0-1-0.448-1-1s0.448-1 1-1h14c0.552 0 1 0.448 1 1s-0.448 1-1 1z\"></path>\n",
       "<path d=\"M23 18h-14c-0.552 0-1-0.448-1-1s0.448-1 1-1h14c0.552 0 1 0.448 1 1s-0.448 1-1 1z\"></path>\n",
       "</symbol>\n",
       "</defs>\n",
       "</svg>\n",
       "<style>/* CSS stylesheet for displaying xarray objects in jupyterlab.\n",
       " *\n",
       " */\n",
       "\n",
       ":root {\n",
       "  --xr-font-color0: var(--jp-content-font-color0, rgba(0, 0, 0, 1));\n",
       "  --xr-font-color2: var(--jp-content-font-color2, rgba(0, 0, 0, 0.54));\n",
       "  --xr-font-color3: var(--jp-content-font-color3, rgba(0, 0, 0, 0.38));\n",
       "  --xr-border-color: var(--jp-border-color2, #e0e0e0);\n",
       "  --xr-disabled-color: var(--jp-layout-color3, #bdbdbd);\n",
       "  --xr-background-color: var(--jp-layout-color0, white);\n",
       "  --xr-background-color-row-even: var(--jp-layout-color1, white);\n",
       "  --xr-background-color-row-odd: var(--jp-layout-color2, #eeeeee);\n",
       "}\n",
       "\n",
       ".xr-wrap {\n",
       "  min-width: 300px;\n",
       "  max-width: 700px;\n",
       "}\n",
       "\n",
       ".xr-header {\n",
       "  padding-top: 6px;\n",
       "  padding-bottom: 6px;\n",
       "  margin-bottom: 4px;\n",
       "  border-bottom: solid 1px var(--xr-border-color);\n",
       "}\n",
       "\n",
       ".xr-header > div,\n",
       ".xr-header > ul {\n",
       "  display: inline;\n",
       "  margin-top: 0;\n",
       "  margin-bottom: 0;\n",
       "}\n",
       "\n",
       ".xr-obj-type,\n",
       ".xr-array-name {\n",
       "  margin-left: 2px;\n",
       "  margin-right: 10px;\n",
       "}\n",
       "\n",
       ".xr-obj-type {\n",
       "  color: var(--xr-font-color2);\n",
       "}\n",
       "\n",
       ".xr-sections {\n",
       "  padding-left: 0 !important;\n",
       "  display: grid;\n",
       "  grid-template-columns: 150px auto auto 1fr 20px 20px;\n",
       "}\n",
       "\n",
       ".xr-section-item {\n",
       "  display: contents;\n",
       "}\n",
       "\n",
       ".xr-section-item input {\n",
       "  display: none;\n",
       "}\n",
       "\n",
       ".xr-section-item input + label {\n",
       "  color: var(--xr-disabled-color);\n",
       "}\n",
       "\n",
       ".xr-section-item input:enabled + label {\n",
       "  cursor: pointer;\n",
       "  color: var(--xr-font-color2);\n",
       "}\n",
       "\n",
       ".xr-section-item input:enabled + label:hover {\n",
       "  color: var(--xr-font-color0);\n",
       "}\n",
       "\n",
       ".xr-section-summary {\n",
       "  grid-column: 1;\n",
       "  color: var(--xr-font-color2);\n",
       "  font-weight: 500;\n",
       "}\n",
       "\n",
       ".xr-section-summary > span {\n",
       "  display: inline-block;\n",
       "  padding-left: 0.5em;\n",
       "}\n",
       "\n",
       ".xr-section-summary-in:disabled + label {\n",
       "  color: var(--xr-font-color2);\n",
       "}\n",
       "\n",
       ".xr-section-summary-in + label:before {\n",
       "  display: inline-block;\n",
       "  content: '►';\n",
       "  font-size: 11px;\n",
       "  width: 15px;\n",
       "  text-align: center;\n",
       "}\n",
       "\n",
       ".xr-section-summary-in:disabled + label:before {\n",
       "  color: var(--xr-disabled-color);\n",
       "}\n",
       "\n",
       ".xr-section-summary-in:checked + label:before {\n",
       "  content: '▼';\n",
       "}\n",
       "\n",
       ".xr-section-summary-in:checked + label > span {\n",
       "  display: none;\n",
       "}\n",
       "\n",
       ".xr-section-summary,\n",
       ".xr-section-inline-details {\n",
       "  padding-top: 4px;\n",
       "  padding-bottom: 4px;\n",
       "}\n",
       "\n",
       ".xr-section-inline-details {\n",
       "  grid-column: 2 / -1;\n",
       "}\n",
       "\n",
       ".xr-section-details {\n",
       "  display: none;\n",
       "  grid-column: 1 / -1;\n",
       "  margin-bottom: 5px;\n",
       "}\n",
       "\n",
       ".xr-section-summary-in:checked ~ .xr-section-details {\n",
       "  display: contents;\n",
       "}\n",
       "\n",
       ".xr-array-wrap {\n",
       "  grid-column: 1 / -1;\n",
       "  display: grid;\n",
       "  grid-template-columns: 20px auto;\n",
       "}\n",
       "\n",
       ".xr-array-wrap > label {\n",
       "  grid-column: 1;\n",
       "  vertical-align: top;\n",
       "}\n",
       "\n",
       ".xr-preview {\n",
       "  color: var(--xr-font-color3);\n",
       "}\n",
       "\n",
       ".xr-array-preview,\n",
       ".xr-array-data {\n",
       "  padding: 0 5px !important;\n",
       "  grid-column: 2;\n",
       "}\n",
       "\n",
       ".xr-array-data,\n",
       ".xr-array-in:checked ~ .xr-array-preview {\n",
       "  display: none;\n",
       "}\n",
       "\n",
       ".xr-array-in:checked ~ .xr-array-data,\n",
       ".xr-array-preview {\n",
       "  display: inline-block;\n",
       "}\n",
       "\n",
       ".xr-dim-list {\n",
       "  display: inline-block !important;\n",
       "  list-style: none;\n",
       "  padding: 0 !important;\n",
       "  margin: 0;\n",
       "}\n",
       "\n",
       ".xr-dim-list li {\n",
       "  display: inline-block;\n",
       "  padding: 0;\n",
       "  margin: 0;\n",
       "}\n",
       "\n",
       ".xr-dim-list:before {\n",
       "  content: '(';\n",
       "}\n",
       "\n",
       ".xr-dim-list:after {\n",
       "  content: ')';\n",
       "}\n",
       "\n",
       ".xr-dim-list li:not(:last-child):after {\n",
       "  content: ',';\n",
       "  padding-right: 5px;\n",
       "}\n",
       "\n",
       ".xr-has-index {\n",
       "  font-weight: bold;\n",
       "}\n",
       "\n",
       ".xr-var-list,\n",
       ".xr-var-item {\n",
       "  display: contents;\n",
       "}\n",
       "\n",
       ".xr-var-item > div,\n",
       ".xr-var-item label,\n",
       ".xr-var-item > .xr-var-name span {\n",
       "  background-color: var(--xr-background-color-row-even);\n",
       "  margin-bottom: 0;\n",
       "}\n",
       "\n",
       ".xr-var-item > .xr-var-name:hover span {\n",
       "  padding-right: 5px;\n",
       "}\n",
       "\n",
       ".xr-var-list > li:nth-child(odd) > div,\n",
       ".xr-var-list > li:nth-child(odd) > label,\n",
       ".xr-var-list > li:nth-child(odd) > .xr-var-name span {\n",
       "  background-color: var(--xr-background-color-row-odd);\n",
       "}\n",
       "\n",
       ".xr-var-name {\n",
       "  grid-column: 1;\n",
       "}\n",
       "\n",
       ".xr-var-dims {\n",
       "  grid-column: 2;\n",
       "}\n",
       "\n",
       ".xr-var-dtype {\n",
       "  grid-column: 3;\n",
       "  text-align: right;\n",
       "  color: var(--xr-font-color2);\n",
       "}\n",
       "\n",
       ".xr-var-preview {\n",
       "  grid-column: 4;\n",
       "}\n",
       "\n",
       ".xr-var-name,\n",
       ".xr-var-dims,\n",
       ".xr-var-dtype,\n",
       ".xr-preview,\n",
       ".xr-attrs dt {\n",
       "  white-space: nowrap;\n",
       "  overflow: hidden;\n",
       "  text-overflow: ellipsis;\n",
       "  padding-right: 10px;\n",
       "}\n",
       "\n",
       ".xr-var-name:hover,\n",
       ".xr-var-dims:hover,\n",
       ".xr-var-dtype:hover,\n",
       ".xr-attrs dt:hover {\n",
       "  overflow: visible;\n",
       "  width: auto;\n",
       "  z-index: 1;\n",
       "}\n",
       "\n",
       ".xr-var-attrs,\n",
       ".xr-var-data {\n",
       "  display: none;\n",
       "  background-color: var(--xr-background-color) !important;\n",
       "  padding-bottom: 5px !important;\n",
       "}\n",
       "\n",
       ".xr-var-attrs-in:checked ~ .xr-var-attrs,\n",
       ".xr-var-data-in:checked ~ .xr-var-data {\n",
       "  display: block;\n",
       "}\n",
       "\n",
       ".xr-var-data > table {\n",
       "  float: right;\n",
       "}\n",
       "\n",
       ".xr-var-name span,\n",
       ".xr-var-data,\n",
       ".xr-attrs {\n",
       "  padding-left: 25px !important;\n",
       "}\n",
       "\n",
       ".xr-attrs,\n",
       ".xr-var-attrs,\n",
       ".xr-var-data {\n",
       "  grid-column: 1 / -1;\n",
       "}\n",
       "\n",
       "dl.xr-attrs {\n",
       "  padding: 0;\n",
       "  margin: 0;\n",
       "  display: grid;\n",
       "  grid-template-columns: 125px auto;\n",
       "}\n",
       "\n",
       ".xr-attrs dt, dd {\n",
       "  padding: 0;\n",
       "  margin: 0;\n",
       "  float: left;\n",
       "  padding-right: 10px;\n",
       "  width: auto;\n",
       "}\n",
       "\n",
       ".xr-attrs dt {\n",
       "  font-weight: normal;\n",
       "  grid-column: 1;\n",
       "}\n",
       "\n",
       ".xr-attrs dt:hover span {\n",
       "  display: inline-block;\n",
       "  background: var(--xr-background-color);\n",
       "  padding-right: 10px;\n",
       "}\n",
       "\n",
       ".xr-attrs dd {\n",
       "  grid-column: 2;\n",
       "  white-space: pre-wrap;\n",
       "  word-break: break-all;\n",
       "}\n",
       "\n",
       ".xr-icon-database,\n",
       ".xr-icon-file-text2 {\n",
       "  display: inline-block;\n",
       "  vertical-align: middle;\n",
       "  width: 1em;\n",
       "  height: 1.5em !important;\n",
       "  stroke-width: 0;\n",
       "  stroke: currentColor;\n",
       "  fill: currentColor;\n",
       "}\n",
       "</style><div class='xr-wrap'><div class='xr-header'><div class='xr-obj-type'>xarray.Dataset</div></div><ul class='xr-sections'><li class='xr-section-item'><input id='section-ec353c84-8b99-48ed-a18e-d5bc964afff9' class='xr-section-summary-in' type='checkbox' disabled ><label for='section-ec353c84-8b99-48ed-a18e-d5bc964afff9' class='xr-section-summary'  title='Expand/collapse section'>Dimensions:</label><div class='xr-section-inline-details'><ul class='xr-dim-list'><li><span>c1</span>: 5</li><li><span>c2</span>: 5</li><li><span class='xr-has-index'>clock</span>: 2</li><li><span class='xr-has-index'>time</span>: 15</li></ul></div><div class='xr-section-details'></div></li><li class='xr-section-item'><input id='section-ea9a1179-ebff-4ed4-8800-b3c746702b6b' class='xr-section-summary-in' type='checkbox'  checked><label for='section-ea9a1179-ebff-4ed4-8800-b3c746702b6b' class='xr-section-summary' >Coordinates: <span>(2)</span></label><div class='xr-section-inline-details'></div><div class='xr-section-details'><ul class='xr-var-list'><li class='xr-var-item'><div class='xr-var-name'><span class='xr-has-index'>clock</span></div><div class='xr-var-dims'>(clock)</div><div class='xr-var-dtype'>int64</div><div class='xr-var-preview xr-preview'>0 1</div><input id='attrs-8c7408ad-c2de-444a-8665-786c7dc8a3d5' class='xr-var-attrs-in' type='checkbox' ><label for='attrs-8c7408ad-c2de-444a-8665-786c7dc8a3d5' title='Show/Hide attributes'><svg class='icon xr-icon-file-text2'><use xlink:href='#icon-file-text2'></use></svg></label><input id='data-87c772f7-e0c4-410a-943e-08446cbff89a' class='xr-var-data-in' type='checkbox'><label for='data-87c772f7-e0c4-410a-943e-08446cbff89a' title='Show/Hide data repr'><svg class='icon xr-icon-database'><use xlink:href='#icon-database'></use></svg></label><div class='xr-var-attrs'><dl class='xr-attrs'><dt><span>__xsimlab_master_clock__ :</span></dt><dd>1</dd><dt><span>__xsimlab_output_clock__ :</span></dt><dd>1</dd></dl></div><pre class='xr-var-data'>array([0, 1])</pre></li><li class='xr-var-item'><div class='xr-var-name'><span class='xr-has-index'>time</span></div><div class='xr-var-dims'>(time)</div><div class='xr-var-dtype'>int64</div><div class='xr-var-preview xr-preview'>0 1 2 3 4 5 6 7 8 9 10 11 12 13 14</div><input id='attrs-9864d3c7-c275-4a4a-a72d-765553029f42' class='xr-var-attrs-in' type='checkbox' ><label for='attrs-9864d3c7-c275-4a4a-a72d-765553029f42' title='Show/Hide attributes'><svg class='icon xr-icon-file-text2'><use xlink:href='#icon-file-text2'></use></svg></label><input id='data-51477b06-4547-46c7-82db-04739812ab1e' class='xr-var-data-in' type='checkbox'><label for='data-51477b06-4547-46c7-82db-04739812ab1e' title='Show/Hide data repr'><svg class='icon xr-icon-database'><use xlink:href='#icon-database'></use></svg></label><div class='xr-var-attrs'><dl class='xr-attrs'><dt><span>description :</span></dt><dd>time in days</dd><dt><span>_FillValue :</span></dt><dd>0</dd></dl></div><pre class='xr-var-data'>array([ 0,  1,  2,  3,  4,  5,  6,  7,  8,  9, 10, 11, 12, 13, 14])</pre></li></ul></div></li><li class='xr-section-item'><input id='section-8209097c-2a9b-45c9-bac9-79e1319df322' class='xr-section-summary-in' type='checkbox'  checked><label for='section-8209097c-2a9b-45c9-bac9-79e1319df322' class='xr-section-summary' >Data variables: <span>(12)</span></label><div class='xr-section-inline-details'></div><div class='xr-section-details'><ul class='xr-var-list'><li class='xr-var-item'><div class='xr-var-name'><span>C1__init</span></div><div class='xr-var-dims'>()</div><div class='xr-var-dtype'>int64</div><div class='xr-var-preview xr-preview'>1</div><input id='attrs-f170cbde-0c0b-437f-b84f-616950c90603' class='xr-var-attrs-in' type='checkbox' disabled><label for='attrs-f170cbde-0c0b-437f-b84f-616950c90603' title='Show/Hide attributes'><svg class='icon xr-icon-file-text2'><use xlink:href='#icon-file-text2'></use></svg></label><input id='data-c7d701ce-266b-4047-aa27-45c92294aec5' class='xr-var-data-in' type='checkbox'><label for='data-c7d701ce-266b-4047-aa27-45c92294aec5' title='Show/Hide data repr'><svg class='icon xr-icon-database'><use xlink:href='#icon-database'></use></svg></label><div class='xr-var-attrs'><dl class='xr-attrs'></dl></div><pre class='xr-var-data'>array(1)</pre></li><li class='xr-var-item'><div class='xr-var-name'><span>C1__output</span></div><div class='xr-var-dims'>(c1, time)</div><div class='xr-var-dtype'>float64</div><div class='xr-var-preview xr-preview'>1.0 1.111 1.235 ... 3.934 4.371</div><input id='attrs-133e4058-838c-45cd-8ced-5a64d4bf2851' class='xr-var-attrs-in' type='checkbox' ><label for='attrs-133e4058-838c-45cd-8ced-5a64d4bf2851' title='Show/Hide attributes'><svg class='icon xr-icon-file-text2'><use xlink:href='#icon-file-text2'></use></svg></label><input id='data-5cdaef71-dcad-4e75-afb5-cc74a685fdd4' class='xr-var-data-in' type='checkbox'><label for='data-5cdaef71-dcad-4e75-afb5-cc74a685fdd4' title='Show/Hide data repr'><svg class='icon xr-icon-database'><use xlink:href='#icon-database'></use></svg></label><div class='xr-var-attrs'><dl class='xr-attrs'><dt><span>_FillValue :</span></dt><dd>nan</dd></dl></div><pre class='xr-var-data'>array([[1.        , 1.11111111, 1.2345679 , 1.37174211, 1.5241579 ,\n",
       "        1.69350878, 1.88167642, 2.09075158, 2.32305731, 2.58117479,\n",
       "        2.86797199, 3.18663555, 3.54070616, 3.93411796, 4.37124217],\n",
       "       [1.        , 1.11111111, 1.2345679 , 1.37174211, 1.5241579 ,\n",
       "        1.69350878, 1.88167642, 2.09075158, 2.32305731, 2.58117479,\n",
       "        2.86797199, 3.18663555, 3.54070616, 3.93411796, 4.37124217],\n",
       "       [1.        , 1.11111111, 1.2345679 , 1.37174211, 1.5241579 ,\n",
       "        1.69350878, 1.88167642, 2.09075158, 2.32305731, 2.58117479,\n",
       "        2.86797199, 3.18663555, 3.54070616, 3.93411796, 4.37124217],\n",
       "       [1.        , 1.11111111, 1.2345679 , 1.37174211, 1.5241579 ,\n",
       "        1.69350878, 1.88167642, 2.09075158, 2.32305731, 2.58117479,\n",
       "        2.86797199, 3.18663555, 3.54070616, 3.93411796, 4.37124217],\n",
       "       [1.        , 1.11111111, 1.2345679 , 1.37174211, 1.5241579 ,\n",
       "        1.69350878, 1.88167642, 2.09075158, 2.32305731, 2.58117479,\n",
       "        2.86797199, 3.18663555, 3.54070616, 3.93411796, 4.37124217]])</pre></li><li class='xr-var-item'><div class='xr-var-name'><span>C2__init</span></div><div class='xr-var-dims'>()</div><div class='xr-var-dtype'>int64</div><div class='xr-var-preview xr-preview'>2</div><input id='attrs-61a9ab38-961c-4959-b106-a672a200328e' class='xr-var-attrs-in' type='checkbox' disabled><label for='attrs-61a9ab38-961c-4959-b106-a672a200328e' title='Show/Hide attributes'><svg class='icon xr-icon-file-text2'><use xlink:href='#icon-file-text2'></use></svg></label><input id='data-2b029d47-3f7d-42e0-836c-0755553740a1' class='xr-var-data-in' type='checkbox'><label for='data-2b029d47-3f7d-42e0-836c-0755553740a1' title='Show/Hide data repr'><svg class='icon xr-icon-database'><use xlink:href='#icon-database'></use></svg></label><div class='xr-var-attrs'><dl class='xr-attrs'></dl></div><pre class='xr-var-data'>array(2)</pre></li><li class='xr-var-item'><div class='xr-var-name'><span>C2__output</span></div><div class='xr-var-dims'>(c2, time)</div><div class='xr-var-dtype'>float64</div><div class='xr-var-preview xr-preview'>2.0 2.222 2.469 ... 7.868 8.742</div><input id='attrs-cc19e256-bc1c-4a4c-80c9-caa065db0075' class='xr-var-attrs-in' type='checkbox' ><label for='attrs-cc19e256-bc1c-4a4c-80c9-caa065db0075' title='Show/Hide attributes'><svg class='icon xr-icon-file-text2'><use xlink:href='#icon-file-text2'></use></svg></label><input id='data-318a9300-0e1d-4c56-9ff4-165fbd42dc8a' class='xr-var-data-in' type='checkbox'><label for='data-318a9300-0e1d-4c56-9ff4-165fbd42dc8a' title='Show/Hide data repr'><svg class='icon xr-icon-database'><use xlink:href='#icon-database'></use></svg></label><div class='xr-var-attrs'><dl class='xr-attrs'><dt><span>_FillValue :</span></dt><dd>nan</dd></dl></div><pre class='xr-var-data'>array([[2.        , 2.22222222, 2.4691358 , 2.74348422, 3.04831581,\n",
       "        3.38701756, 3.76335285, 4.18150316, 4.64611463, 5.16234958,\n",
       "        5.73594398, 6.37327109, 7.08141232, 7.86823591, 8.74248435],\n",
       "       [2.        , 2.22222222, 2.4691358 , 2.74348422, 3.04831581,\n",
       "        3.38701756, 3.76335285, 4.18150316, 4.64611463, 5.16234958,\n",
       "        5.73594398, 6.37327109, 7.08141232, 7.86823591, 8.74248435],\n",
       "       [2.        , 2.22222222, 2.4691358 , 2.74348422, 3.04831581,\n",
       "        3.38701756, 3.76335285, 4.18150316, 4.64611463, 5.16234958,\n",
       "        5.73594398, 6.37327109, 7.08141232, 7.86823591, 8.74248435],\n",
       "       [2.        , 2.22222222, 2.4691358 , 2.74348422, 3.04831581,\n",
       "        3.38701756, 3.76335285, 4.18150316, 4.64611463, 5.16234958,\n",
       "        5.73594398, 6.37327109, 7.08141232, 7.86823591, 8.74248435],\n",
       "       [2.        , 2.22222222, 2.4691358 , 2.74348422, 3.04831581,\n",
       "        3.38701756, 3.76335285, 4.18150316, 4.64611463, 5.16234958,\n",
       "        5.73594398, 6.37327109, 7.08141232, 7.86823591, 8.74248435]])</pre></li><li class='xr-var-item'><div class='xr-var-name'><span>flux__c1_label</span></div><div class='xr-var-dims'>()</div><div class='xr-var-dtype'>&lt;U2</div><div class='xr-var-preview xr-preview'>&#x27;c1&#x27;</div><input id='attrs-04516bbe-2fb4-403a-953e-ecbc88b36378' class='xr-var-attrs-in' type='checkbox' disabled><label for='attrs-04516bbe-2fb4-403a-953e-ecbc88b36378' title='Show/Hide attributes'><svg class='icon xr-icon-file-text2'><use xlink:href='#icon-file-text2'></use></svg></label><input id='data-93fc8232-5b8b-4782-b49b-66d5598c0b72' class='xr-var-data-in' type='checkbox'><label for='data-93fc8232-5b8b-4782-b49b-66d5598c0b72' title='Show/Hide data repr'><svg class='icon xr-icon-database'><use xlink:href='#icon-database'></use></svg></label><div class='xr-var-attrs'><dl class='xr-attrs'></dl></div><pre class='xr-var-data'>array(&#x27;c1&#x27;, dtype=&#x27;&lt;U2&#x27;)</pre></li><li class='xr-var-item'><div class='xr-var-name'><span>flux__c2_label</span></div><div class='xr-var-dims'>()</div><div class='xr-var-dtype'>&lt;U2</div><div class='xr-var-preview xr-preview'>&#x27;c2&#x27;</div><input id='attrs-a73e1fc4-4136-44fa-9b52-d37c5480015e' class='xr-var-attrs-in' type='checkbox' disabled><label for='attrs-a73e1fc4-4136-44fa-9b52-d37c5480015e' title='Show/Hide attributes'><svg class='icon xr-icon-file-text2'><use xlink:href='#icon-file-text2'></use></svg></label><input id='data-b0bebef7-1672-452d-b14e-19069278fcba' class='xr-var-data-in' type='checkbox'><label for='data-b0bebef7-1672-452d-b14e-19069278fcba' title='Show/Hide data repr'><svg class='icon xr-icon-database'><use xlink:href='#icon-database'></use></svg></label><div class='xr-var-attrs'><dl class='xr-attrs'></dl></div><pre class='xr-var-data'>array(&#x27;c2&#x27;, dtype=&#x27;&lt;U2&#x27;)</pre></li><li class='xr-var-item'><div class='xr-var-name'><span>flux__growthrate</span></div><div class='xr-var-dims'>()</div><div class='xr-var-dtype'>float64</div><div class='xr-var-preview xr-preview'>0.1</div><input id='attrs-f5f597c5-ae73-4279-911c-9d7f3dc5e62a' class='xr-var-attrs-in' type='checkbox' ><label for='attrs-f5f597c5-ae73-4279-911c-9d7f3dc5e62a' title='Show/Hide attributes'><svg class='icon xr-icon-file-text2'><use xlink:href='#icon-file-text2'></use></svg></label><input id='data-d313af5e-9b1c-417d-932c-833822dca4ac' class='xr-var-data-in' type='checkbox'><label for='data-d313af5e-9b1c-417d-932c-833822dca4ac' title='Show/Hide data repr'><svg class='icon xr-icon-database'><use xlink:href='#icon-database'></use></svg></label><div class='xr-var-attrs'><dl class='xr-attrs'><dt><span>_FillValue :</span></dt><dd>nan</dd></dl></div><pre class='xr-var-data'>array(0.1)</pre></li><li class='xr-var-item'><div class='xr-var-name'><span>grid__length</span></div><div class='xr-var-dims'>()</div><div class='xr-var-dtype'>int64</div><div class='xr-var-preview xr-preview'>1</div><input id='attrs-2aa30ee1-1ef3-4c9f-b536-1d25f321e553' class='xr-var-attrs-in' type='checkbox' disabled><label for='attrs-2aa30ee1-1ef3-4c9f-b536-1d25f321e553' title='Show/Hide attributes'><svg class='icon xr-icon-file-text2'><use xlink:href='#icon-file-text2'></use></svg></label><input id='data-4562bbe2-7a97-41b3-8cbb-32f4697cfde6' class='xr-var-data-in' type='checkbox'><label for='data-4562bbe2-7a97-41b3-8cbb-32f4697cfde6' title='Show/Hide data repr'><svg class='icon xr-icon-database'><use xlink:href='#icon-database'></use></svg></label><div class='xr-var-attrs'><dl class='xr-attrs'></dl></div><pre class='xr-var-data'>array(1)</pre></li><li class='xr-var-item'><div class='xr-var-name'><span>grid__shape</span></div><div class='xr-var-dims'>()</div><div class='xr-var-dtype'>int64</div><div class='xr-var-preview xr-preview'>1</div><input id='attrs-4b43d9c5-c595-4523-a53e-25554868d182' class='xr-var-attrs-in' type='checkbox' disabled><label for='attrs-4b43d9c5-c595-4523-a53e-25554868d182' title='Show/Hide attributes'><svg class='icon xr-icon-file-text2'><use xlink:href='#icon-file-text2'></use></svg></label><input id='data-4b40d53a-2d7b-4956-ad7c-0bc8cbc0ea81' class='xr-var-data-in' type='checkbox'><label for='data-4b40d53a-2d7b-4956-ad7c-0bc8cbc0ea81' title='Show/Hide data repr'><svg class='icon xr-icon-database'><use xlink:href='#icon-database'></use></svg></label><div class='xr-var-attrs'><dl class='xr-attrs'></dl></div><pre class='xr-var-data'>array(1)</pre></li><li class='xr-var-item'><div class='xr-var-name'><span>ibcs__ibc</span></div><div class='xr-var-dims'>()</div><div class='xr-var-dtype'>float64</div><div class='xr-var-preview xr-preview'>nan</div><input id='attrs-3eecf57d-e7de-47e2-bfac-820c04af1fdf' class='xr-var-attrs-in' type='checkbox' ><label for='attrs-3eecf57d-e7de-47e2-bfac-820c04af1fdf' title='Show/Hide attributes'><svg class='icon xr-icon-file-text2'><use xlink:href='#icon-file-text2'></use></svg></label><input id='data-e842c708-fbf9-449a-bc42-63a2d03bc755' class='xr-var-data-in' type='checkbox'><label for='data-e842c708-fbf9-449a-bc42-63a2d03bc755' title='Show/Hide data repr'><svg class='icon xr-icon-database'><use xlink:href='#icon-database'></use></svg></label><div class='xr-var-attrs'><dl class='xr-attrs'><dt><span>description :</span></dt><dd>Initial Boundary Conditions</dd></dl></div><pre class='xr-var-data'>array(nan)</pre></li><li class='xr-var-item'><div class='xr-var-name'><span>index</span></div><div class='xr-var-dims'>(c1)</div><div class='xr-var-dtype'>&lt;U4</div><div class='xr-var-preview xr-preview'>&#x27;c2-0&#x27; &#x27;c2-1&#x27; &#x27;c2-2&#x27; &#x27;c2-3&#x27; &#x27;c2-4&#x27;</div><input id='attrs-31ce3968-6f1c-4d65-b79d-fd7de24c221c' class='xr-var-attrs-in' type='checkbox' ><label for='attrs-31ce3968-6f1c-4d65-b79d-fd7de24c221c' title='Show/Hide attributes'><svg class='icon xr-icon-file-text2'><use xlink:href='#icon-file-text2'></use></svg></label><input id='data-699aa6a1-20e3-4c7a-8b85-d2d4044b5917' class='xr-var-data-in' type='checkbox'><label for='data-699aa6a1-20e3-4c7a-8b85-d2d4044b5917' title='Show/Hide data repr'><svg class='icon xr-icon-database'><use xlink:href='#icon-database'></use></svg></label><div class='xr-var-attrs'><dl class='xr-attrs'><dt><span>_FillValue :</span></dt><dd></dd></dl></div><pre class='xr-var-data'>array([&#x27;c2-0&#x27;, &#x27;c2-1&#x27;, &#x27;c2-2&#x27;, &#x27;c2-3&#x27;, &#x27;c2-4&#x27;], dtype=&#x27;&lt;U4&#x27;)</pre></li><li class='xr-var-item'><div class='xr-var-name'><span>time__days</span></div><div class='xr-var-dims'>(time)</div><div class='xr-var-dtype'>int64</div><div class='xr-var-preview xr-preview'>0 1 2 3 4 5 6 7 8 9 10 11 12 13 14</div><input id='attrs-34eafc4c-5082-4130-b148-1f5632701e59' class='xr-var-attrs-in' type='checkbox' ><label for='attrs-34eafc4c-5082-4130-b148-1f5632701e59' title='Show/Hide attributes'><svg class='icon xr-icon-file-text2'><use xlink:href='#icon-file-text2'></use></svg></label><input id='data-c57a37ca-8d69-4089-b6a4-85be7619f6dc' class='xr-var-data-in' type='checkbox'><label for='data-c57a37ca-8d69-4089-b6a4-85be7619f6dc' title='Show/Hide data repr'><svg class='icon xr-icon-database'><use xlink:href='#icon-database'></use></svg></label><div class='xr-var-attrs'><dl class='xr-attrs'><dt><span>description :</span></dt><dd>time in days</dd></dl></div><pre class='xr-var-data'>array([ 0,  1,  2,  3,  4,  5,  6,  7,  8,  9, 10, 11, 12, 13, 14])</pre></li></ul></div></li><li class='xr-section-item'><input id='section-31300e0f-8492-4a71-aca5-ecdb6cd9a94c' class='xr-section-summary-in' type='checkbox' disabled ><label for='section-31300e0f-8492-4a71-aca5-ecdb6cd9a94c' class='xr-section-summary'  title='Expand/collapse section'>Attributes: <span>(0)</span></label><div class='xr-section-inline-details'></div><div class='xr-section-details'><dl class='xr-attrs'></dl></div></li></ul></div></div>"
      ],
      "text/plain": [
       "<xarray.Dataset>\n",
       "Dimensions:           (c1: 5, c2: 5, clock: 2, time: 15)\n",
       "Coordinates:\n",
       "  * clock             (clock) int64 0 1\n",
       "  * time              (time) int64 0 1 2 3 4 5 6 7 8 9 10 11 12 13 14\n",
       "Dimensions without coordinates: c1, c2\n",
       "Data variables:\n",
       "    C1__init          int64 1\n",
       "    C1__output        (c1, time) float64 1.0 1.111 1.235 ... 3.541 3.934 4.371\n",
       "    C2__init          int64 2\n",
       "    C2__output        (c2, time) float64 2.0 2.222 2.469 ... 7.081 7.868 8.742\n",
       "    flux__c1_label    <U2 'c1'\n",
       "    flux__c2_label    <U2 'c2'\n",
       "    flux__growthrate  float64 0.1\n",
       "    grid__length      int64 1\n",
       "    grid__shape       int64 1\n",
       "    ibcs__ibc         float64 nan\n",
       "    index             (c1) <U4 'c2-0' 'c2-1' 'c2-2' 'c2-3' 'c2-4'\n",
       "    time__days        (time) int64 0 1 2 3 4 5 6 7 8 9 10 11 12 13 14"
      ]
     },
     "execution_count": 8,
     "metadata": {},
     "output_type": "execute_result"
    }
   ],
   "source": [
    "out_ds"
   ]
  },
  {
   "cell_type": "code",
   "execution_count": 9,
   "metadata": {
    "collapsed": false,
    "jupyter": {
     "outputs_hidden": false
    },
    "pycharm": {
     "is_executing": false,
     "name": "#%%\n"
    }
   },
   "outputs": [
    {
     "data": {
      "text/plain": [
       "[<matplotlib.lines.Line2D at 0x1233528e0>,\n",
       " <matplotlib.lines.Line2D at 0x123352940>,\n",
       " <matplotlib.lines.Line2D at 0x123352ac0>,\n",
       " <matplotlib.lines.Line2D at 0x123352b80>,\n",
       " <matplotlib.lines.Line2D at 0x123352c40>]"
      ]
     },
     "execution_count": 9,
     "metadata": {},
     "output_type": "execute_result"
    },
    {
     "data": {
      "image/png": "[encoded data removed]",
      "text/plain": [
       "<Figure size 432x288 with 1 Axes>"
      ]
     },
     "metadata": {
      "needs_background": "light"
     },
     "output_type": "display_data"
    }
   ],
   "source": [
    "out_ds.C1__output.set_index(time='time').plot.line(x='time')"
   ]
  },
  {
   "cell_type": "code",
   "execution_count": 10,
   "metadata": {
    "collapsed": false,
    "jupyter": {
     "outputs_hidden": false
    },
    "pycharm": {
     "is_executing": false,
     "name": "#%%\n"
    }
   },
   "outputs": [
    {
     "data": {
      "text/plain": [
       "[<matplotlib.lines.Line2D at 0x123497520>,\n",
       " <matplotlib.lines.Line2D at 0x123497640>,\n",
       " <matplotlib.lines.Line2D at 0x123497700>,\n",
       " <matplotlib.lines.Line2D at 0x1234977c0>,\n",
       " <matplotlib.lines.Line2D at 0x123497880>]"
      ]
     },
     "execution_count": 10,
     "metadata": {},
     "output_type": "execute_result"
    },
    {
     "data": {
      "image/png": "[encoded data removed]",
      "text/plain": [
       "<Figure size 432x288 with 1 Axes>"
      ]
     },
     "metadata": {
      "needs_background": "light"
     },
     "output_type": "display_data"
    }
   ],
   "source": [
    "out_ds.C2__output.set_index(time='time').plot.line(x='time')"
   ]
  },
  {
   "cell_type": "code",
   "execution_count": null,
   "metadata": {},
   "outputs": [],
   "source": []
  },
  {
   "cell_type": "code",
   "execution_count": null,
   "metadata": {},
   "outputs": [],
   "source": []
  }
 ],
 "metadata": {
  "kernelspec": {
   "display_name": "Python 3",
   "language": "python",
   "name": "python3"
  },
  "language_info": {
   "codemirror_mode": {
    "name": "ipython",
    "version": 3
   },
   "file_extension": ".py",
   "mimetype": "text/x-python",
   "name": "python",
   "nbconvert_exporter": "python",
   "pygments_lexer": "ipython3",
   "version": "3.8.3"
  }
 },
 "nbformat": 4,
 "nbformat_minor": 4
}
