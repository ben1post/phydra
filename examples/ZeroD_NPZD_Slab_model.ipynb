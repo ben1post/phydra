{
 "cells": [
  {
   "cell_type": "markdown",
   "metadata": {},
   "source": [
    "# NPZD slab model\n",
    "\n",
    "For the first model example I will need:\n",
    "- Forcing input\n",
    "- Forcing_fluxes:\n",
    "    - mixing\n",
    "    - sinking\n",
    "- 4 components (single) N, P, Z, D\n",
    "- Fluxes:\n",
    "TODO: GO OVER THE equations! Base model structure in math!\n",
    "    - Grazing - linked to all NPZD\n",
    "    - PhytoplanktonGrowth\n",
    "        - Light - Dependence\n",
    "        - Nutrients - Dependence\n",
    "        - Temp - Dependence\n",
    "    - mortality\n",
    "    - remineralisation\n",
    "    - higher order pred, etc"
   ]
  },
  {
   "cell_type": "raw",
   "metadata": {},
   "source": [
    "N = Mixing(N0-N)+LeakyGrazing(P,D)+Remin(D)-Growth(P)\n",
    "P = Growth(P)-Mortality(P)-QuadMort(P)-Grazing(P)-Mixing(P)\n",
    "Z = Grazing(P,D)-Mortality(Z)-QuadMort(Z)-Mixing(Z)\n",
    "D = Mortality(P)+QuadMort(P)+Mortality(Z)+SloppyGrazing(P,D)-Grazing(D)-Remin(D)-Mixing(D)-Sinking(D)\n",
    "\n",
    "Mixing\n",
    "Growth(Light,Temp,Nut)\n",
    "Mortality, QuadMort\n",
    "Grazing + LeakyGrazing + SloppyGrazing\n",
    "Remin\n",
    "Sinking"
   ]
  },
  {
   "cell_type": "code",
   "execution_count": 1,
   "metadata": {},
   "outputs": [],
   "source": [
    "import numpy as np\n",
    "import xsimlab as xs"
   ]
  },
  {
   "cell_type": "code",
   "execution_count": 2,
   "metadata": {},
   "outputs": [],
   "source": [
    "import os,sys,inspect\n",
    "sys.path.insert(1, os.path.join(sys.path[0], '..'))\n",
    "\n",
    "import phydra as phydra"
   ]
  },
  {
   "cell_type": "code",
   "execution_count": 3,
   "metadata": {},
   "outputs": [],
   "source": [
    "from phydra.utility.xsimlabwrappers import phydra_setup"
   ]
  },
  {
   "cell_type": "code",
   "execution_count": 4,
   "metadata": {},
   "outputs": [],
   "source": [
    "from phydra.processes.main import Grid0D, Boundary0D\n",
    "from phydra.processes.components import Component, Time, make_Component\n",
    "from phydra.processes.environments import BaseEnvironment, Slab\n",
    "from phydra.processes.fluxes import (BaseFlux, LimitedGrowth, \n",
    "                                     LinearMortality, GrazingFlux, \n",
    "                                     GrazingMultiFlux, make_flux,\n",
    "                                    make_multiflux)\n",
    "from phydra.processes.forcingfluxes import (LinearMortalityClosure, Mixing, Sinking, \n",
    "                                            Upwelling, make_FX_flux)\n",
    "from phydra.processes.forcing import SinusoidalMLD, ConstantN0, WOA2018_MLD\n",
    "from phydra.processes.gekkocontext import GekkoContext, GekkoSolve, InheritGekkoContext"
   ]
  },
  {
   "cell_type": "code",
   "execution_count": 5,
   "metadata": {},
   "outputs": [
    {
     "data": {
      "text/plain": [
       "phydra.processes.forcing.WOA2018_MLD"
      ]
     },
     "execution_count": 5,
     "metadata": {},
     "output_type": "execute_result"
    }
   ],
   "source": [
    "WOA2018_MLD"
   ]
  },
  {
   "cell_type": "code",
   "execution_count": 6,
   "metadata": {},
   "outputs": [],
   "source": [
    "from phydra.processes.forcing import NutrientForcing, MLDForcing"
   ]
  },
  {
   "cell_type": "code",
   "execution_count": 5,
   "metadata": {},
   "outputs": [
    {
     "name": "stdout",
     "output_type": "stream",
     "text": [
      "xarray-simlab version:  0.4.1\n",
      "phydra version:  0+untagged.76.g6de3db3.dirty\n"
     ]
    }
   ],
   "source": [
    "print('xarray-simlab version: ', xs.__version__)\n",
    "print('phydra version: ', phydra.__version__)"
   ]
  },
  {
   "cell_type": "code",
   "execution_count": 7,
   "metadata": {},
   "outputs": [
    {
     "data": {
      "text/plain": [
       "<xsimlab.Model (18 processes, 33 inputs)>\n",
       "context\n",
       "time\n",
       "    days               [in] ('time',) time in days\n",
       "grid\n",
       "    shape              [in]\n",
       "    length             [in]\n",
       "ibcs\n",
       "    ibc                [in] Initial Boundary Conditions\n",
       "N\n",
       "    init               [in]\n",
       "    dim                [in]\n",
       "P\n",
       "    init               [in]\n",
       "    dim                [in]\n",
       "Z\n",
       "    dim                [in]\n",
       "    init               [in]\n",
       "D\n",
       "    dim                [in]\n",
       "    init               [in]\n",
       "P_LinMortality\n",
       "    mortality_rate     [in] mortality rate of component\n",
       "    C_label            [in] label of component that mortality feeds...\n",
       "    R_label            [in] label of component that experiences mor...\n",
       "N0\n",
       "    constant_N0        [in] value of the constant Nutrient forcing\n",
       "MLD\n",
       "    lon                [in]\n",
       "    rangebb            [in]\n",
       "    lat                [in]\n",
       "Sinking\n",
       "    kappa              [in] constant mixing coefficient\n",
       "    C_labels           [in] s label of component(s) that grows\n",
       "Grazing\n",
       "    grazing_rate       [in] maximum grazing rate\n",
       "    halfsat            [in] half-saturation constant of grazing res...\n",
       "    R_labels           [in] X or R label of component that is graze...\n",
       "    C_labels           [in] X or C label of component that grazes\n",
       "Upwelling\n",
       "    kappa              [in] constant mixing coefficient\n",
       "    C_labels           [in] u label of component(s) that grows\n",
       "Z_LinMortality\n",
       "    C_labels           [in] m label of component(s) that grows\n",
       "    mortality_rate     [in] mortality rate of component\n",
       "P_Growth\n",
       "    mu                 [in] Maximum growth rate of component\n",
       "    C_label            [in] label of component that grows\n",
       "    R_label            [in] label of ressource component that is co...\n",
       "    halfsat            [in] half-saturation constant of nutrient up...\n",
       "Env\n",
       "solver"
      ]
     },
     "execution_count": 7,
     "metadata": {},
     "output_type": "execute_result"
    }
   ],
   "source": [
    "model = xs.Model({\n",
    "    'time':Time, 'grid':Grid0D, 'ibcs':Boundary0D, \n",
    "    \n",
    "    'context':GekkoContext,\n",
    "                  \n",
    "    'N':make_Component('Nutrient','N'), 'P':make_Component('Phytoplankton','P'),\n",
    "    'Z':make_Component('Zooplankton','Z'), 'D':make_Component('Detritus','D'),\n",
    "    'Env':Slab, \n",
    "    \n",
    "    # Fluxes\n",
    "    'P_Growth':make_flux(LimitedGrowth, 'G'), \n",
    "    'P_LinMortality':make_flux(LinearMortality, 'M'), \n",
    "    \n",
    "    'Grazing':make_multiflux(GrazingMultiFlux, 'X'), \n",
    "    \n",
    "    # Closure (i.e. output from system)\n",
    "    'Z_LinMortality':make_FX_flux(LinearMortalityClosure, 'M'),\n",
    "    \n",
    "    # ForcingFluxes\n",
    "    'Sinking':make_FX_flux(Sinking, 'S'),\n",
    "    'Upwelling':make_FX_flux(Upwelling, 'U'),\n",
    "    \n",
    "    'MLD':WOA2018_MLD, \n",
    "    'N0':ConstantN0, \n",
    "    \n",
    "    'solver':GekkoSolve\n",
    "})\n",
    "\n",
    "model"
   ]
  },
  {
   "cell_type": "code",
   "execution_count": 8,
   "metadata": {},
   "outputs": [
    {
     "data": {
      "text/plain": [
       "[('time', 'time'),\n",
       " ('N', 'N'),\n",
       " ('P', 'P'),\n",
       " ('Z', 'Z'),\n",
       " ('D', 'D'),\n",
       " ('Env', 'components'),\n",
       " ('Env', 'fluxes'),\n",
       " ('Env', 'forcingfluxes'),\n",
       " ('P_Growth', 'G'),\n",
       " ('P_LinMortality', 'M'),\n",
       " ('Grazing', 'X'),\n",
       " ('Z_LinMortality', 'M'),\n",
       " ('Sinking', 'S'),\n",
       " ('Upwelling', 'U')]"
      ]
     },
     "execution_count": 8,
     "metadata": {},
     "output_type": "execute_result"
    }
   ],
   "source": [
    "model.index_vars \n"
   ]
  },
  {
   "cell_type": "code",
   "execution_count": 9,
   "metadata": {},
   "outputs": [],
   "source": [
    "ForcingLocation = {\n",
    "    'lat':40,\n",
    "    'lon':20,\n",
    "    'rbb':2\n",
    "}"
   ]
  },
  {
   "cell_type": "code",
   "execution_count": 10,
   "metadata": {},
   "outputs": [
    {
     "data": {
      "text/plain": [
       "{'lat': 40, 'lon': 20, 'rbb': 2}"
      ]
     },
     "execution_count": 10,
     "metadata": {},
     "output_type": "execute_result"
    }
   ],
   "source": [
    "ForcingLocation"
   ]
  },
  {
   "cell_type": "code",
   "execution_count": 8,
   "metadata": {
    "collapsed": false,
    "jupyter": {
     "outputs_hidden": false
    },
    "pycharm": {
     "is_executing": false,
     "name": "#%%\n"
    }
   },
   "outputs": [],
   "source": [
    "in_ds = phydra_setup(\n",
    "    model=model,\n",
    "    input_vars={\n",
    "        'time__days': ('time', np.arange(0, 365*3)), #365*\n",
    "        \n",
    "        'N':{'dim':1,'init':1}, \n",
    "        'P':{'dim':1,'init':.1},\n",
    "        'Z':{'dim':1,'init':0.1},\n",
    "        'D':{'dim':1,'init':0.1},\n",
    "        \n",
    "        'P_Growth':{'mu':1.,\n",
    "               'R_label':'N',\n",
    "               'C_label':'P', \n",
    "               'halfsat':2.5},\n",
    "        \n",
    "        'P_LinMortality':{'mortality_rate':0.,\n",
    "               'R_label':'P',\n",
    "               'C_label':'D'},\n",
    "        \n",
    "        'Grazing':{'grazing_rate':0.1,\n",
    "               'halfsat':1.,\n",
    "               'R_labels':['P','D'],\n",
    "               'C_labels':['Z']},\n",
    "        \n",
    "        'Z_LinMortality':{'mortality_rate':0.1,\n",
    "               'C_labels':['Z']},\n",
    "        \n",
    "        'Sinking':{'kappa':0.1,\n",
    "               'C_labels':['D','P']},\n",
    "        \n",
    "        'Upwelling':{'kappa':0.1,\n",
    "               'C_labels':['N']},\n",
    "        \n",
    "        'N0__constant_N0':2.,\n",
    "        \n",
    "        'MLD':ForcingLocation\n",
    "    },\n",
    "    output_vars={\n",
    "        'Env__comp_output':None,\n",
    "        'Env__flux_output':None,\n",
    "        'Env__fxflux_output':None\n",
    "    }\n",
    "                 )"
   ]
  },
  {
   "cell_type": "code",
   "execution_count": 9,
   "metadata": {
    "collapsed": false,
    "jupyter": {
     "outputs_hidden": false
    },
    "pycharm": {
     "is_executing": false,
     "name": "#%%\n"
    }
   },
   "outputs": [
    {
     "name": "stdout",
     "output_type": "stream",
     "text": [
      "Initializing Gekko Context\n",
      "Initializing Model Time\n",
      "dimensions of component N are initialized at 1\n",
      "Initializing component  N ['N']\n",
      "dimensions of component P are initialized at 1\n",
      "Initializing component  P ['P']\n",
      "dimensions of component Z are initialized at 1\n",
      "Initializing component  Z ['Z']\n",
      "dimensions of component D are initialized at 1\n",
      "Initializing component  D ['D']\n",
      "forcing flux Upwelling is initialized at ['N']\n",
      "Initializing forcing flux Upwelling for components ['N']\n",
      "flux Grazing is initialized for ['P' 'D'] --> ['Z']\n",
      "Initializing multiflux: Grazing-['P' 'D']2['Z']\n",
      "forcing flux Sinking is initialized at ['D' 'P']\n",
      "Initializing forcing flux Sinking for components ['D' 'P']\n",
      "forcing flux Z_LinMortality is initialized at ['Z']\n",
      "Initializing forcing flux Z_LinMortality for components ['Z']\n",
      "flux P_LinMortality is initialized for P --> D\n",
      "Initializing flux: P_LinMortality-P2D\n",
      "flux P_Growth is initialized for N --> P\n",
      "Initializing flux: P_Growth-N2P\n",
      "\n",
      "\n",
      "Initializing Environment: \n",
      " components:['N', 'P', 'Z', 'D'] \n",
      " fluxes:['Grazing-P-2-Z', 'Grazing-D-2-Z', 'P_LinMortality-P-2-D', 'P_Growth-N-2-P'] \n",
      " fx-fluxes:['Upwelling-N', 'Sinking-D', 'Sinking-P', 'Z_LinMortality-Z']\n",
      "\n",
      "\n",
      "Assembling equation for component  N [[list([0, (-i27)])]]\n",
      "Assembling equation for component  P [[list([(-i6), 0, (-i24), 0])]]\n",
      "Assembling equation for component  Z [[list([0, 0, 0])]]\n",
      "Assembling equation for component  D [[list([(-i8), 0, 0])]]\n",
      "SolveInit\n",
      "ModelSolve done in 0.18 seconds\n",
      "Storing output for component  N\n",
      "Storing output for component  P\n",
      "Storing output for component  Z\n",
      "Storing output for component  D\n",
      "storing flux to output:  Upwelling\n",
      "storing flux: Grazing-['P' 'D']2['Z']\n",
      "storing flux to output:  Sinking\n",
      "storing flux to output:  Z_LinMortality\n",
      "storing flux: P_LinMortality-P2D\n",
      "storing flux: P_Growth-N2P\n"
     ]
    }
   ],
   "source": [
    "with model:\n",
    "    out_ds = in_ds.xsimlab.run()"
   ]
  },
  {
   "cell_type": "code",
   "execution_count": 10,
   "metadata": {
    "collapsed": false,
    "jupyter": {
     "outputs_hidden": false
    },
    "pycharm": {
     "is_executing": false,
     "name": "#%%\n"
    }
   },
   "outputs": [
    {
     "data": {
      "text/html": [
       "<div><svg style=\"position: absolute; width: 0; height: 0; overflow: hidden\">\n",
       "<defs>\n",
       "<symbol id=\"icon-database\" viewBox=\"0 0 32 32\">\n",
       "<title>Show/Hide data repr</title>\n",
       "<path d=\"M16 0c-8.837 0-16 2.239-16 5v4c0 2.761 7.163 5 16 5s16-2.239 16-5v-4c0-2.761-7.163-5-16-5z\"></path>\n",
       "<path d=\"M16 17c-8.837 0-16-2.239-16-5v6c0 2.761 7.163 5 16 5s16-2.239 16-5v-6c0 2.761-7.163 5-16 5z\"></path>\n",
       "<path d=\"M16 26c-8.837 0-16-2.239-16-5v6c0 2.761 7.163 5 16 5s16-2.239 16-5v-6c0 2.761-7.163 5-16 5z\"></path>\n",
       "</symbol>\n",
       "<symbol id=\"icon-file-text2\" viewBox=\"0 0 32 32\">\n",
       "<title>Show/Hide attributes</title>\n",
       "<path d=\"M28.681 7.159c-0.694-0.947-1.662-2.053-2.724-3.116s-2.169-2.030-3.116-2.724c-1.612-1.182-2.393-1.319-2.841-1.319h-15.5c-1.378 0-2.5 1.121-2.5 2.5v27c0 1.378 1.122 2.5 2.5 2.5h23c1.378 0 2.5-1.122 2.5-2.5v-19.5c0-0.448-0.137-1.23-1.319-2.841zM24.543 5.457c0.959 0.959 1.712 1.825 2.268 2.543h-4.811v-4.811c0.718 0.556 1.584 1.309 2.543 2.268zM28 29.5c0 0.271-0.229 0.5-0.5 0.5h-23c-0.271 0-0.5-0.229-0.5-0.5v-27c0-0.271 0.229-0.5 0.5-0.5 0 0 15.499-0 15.5 0v7c0 0.552 0.448 1 1 1h7v19.5z\"></path>\n",
       "<path d=\"M23 26h-14c-0.552 0-1-0.448-1-1s0.448-1 1-1h14c0.552 0 1 0.448 1 1s-0.448 1-1 1z\"></path>\n",
       "<path d=\"M23 22h-14c-0.552 0-1-0.448-1-1s0.448-1 1-1h14c0.552 0 1 0.448 1 1s-0.448 1-1 1z\"></path>\n",
       "<path d=\"M23 18h-14c-0.552 0-1-0.448-1-1s0.448-1 1-1h14c0.552 0 1 0.448 1 1s-0.448 1-1 1z\"></path>\n",
       "</symbol>\n",
       "</defs>\n",
       "</svg>\n",
       "<style>/* CSS stylesheet for displaying xarray objects in jupyterlab.\n",
       " *\n",
       " */\n",
       "\n",
       ":root {\n",
       "  --xr-font-color0: var(--jp-content-font-color0, rgba(0, 0, 0, 1));\n",
       "  --xr-font-color2: var(--jp-content-font-color2, rgba(0, 0, 0, 0.54));\n",
       "  --xr-font-color3: var(--jp-content-font-color3, rgba(0, 0, 0, 0.38));\n",
       "  --xr-border-color: var(--jp-border-color2, #e0e0e0);\n",
       "  --xr-disabled-color: var(--jp-layout-color3, #bdbdbd);\n",
       "  --xr-background-color: var(--jp-layout-color0, white);\n",
       "  --xr-background-color-row-even: var(--jp-layout-color1, white);\n",
       "  --xr-background-color-row-odd: var(--jp-layout-color2, #eeeeee);\n",
       "}\n",
       "\n",
       ".xr-wrap {\n",
       "  min-width: 300px;\n",
       "  max-width: 700px;\n",
       "}\n",
       "\n",
       ".xr-header {\n",
       "  padding-top: 6px;\n",
       "  padding-bottom: 6px;\n",
       "  margin-bottom: 4px;\n",
       "  border-bottom: solid 1px var(--xr-border-color);\n",
       "}\n",
       "\n",
       ".xr-header > div,\n",
       ".xr-header > ul {\n",
       "  display: inline;\n",
       "  margin-top: 0;\n",
       "  margin-bottom: 0;\n",
       "}\n",
       "\n",
       ".xr-obj-type,\n",
       ".xr-array-name {\n",
       "  margin-left: 2px;\n",
       "  margin-right: 10px;\n",
       "}\n",
       "\n",
       ".xr-obj-type {\n",
       "  color: var(--xr-font-color2);\n",
       "}\n",
       "\n",
       ".xr-sections {\n",
       "  padding-left: 0 !important;\n",
       "  display: grid;\n",
       "  grid-template-columns: 150px auto auto 1fr 20px 20px;\n",
       "}\n",
       "\n",
       ".xr-section-item {\n",
       "  display: contents;\n",
       "}\n",
       "\n",
       ".xr-section-item input {\n",
       "  display: none;\n",
       "}\n",
       "\n",
       ".xr-section-item input + label {\n",
       "  color: var(--xr-disabled-color);\n",
       "}\n",
       "\n",
       ".xr-section-item input:enabled + label {\n",
       "  cursor: pointer;\n",
       "  color: var(--xr-font-color2);\n",
       "}\n",
       "\n",
       ".xr-section-item input:enabled + label:hover {\n",
       "  color: var(--xr-font-color0);\n",
       "}\n",
       "\n",
       ".xr-section-summary {\n",
       "  grid-column: 1;\n",
       "  color: var(--xr-font-color2);\n",
       "  font-weight: 500;\n",
       "}\n",
       "\n",
       ".xr-section-summary > span {\n",
       "  display: inline-block;\n",
       "  padding-left: 0.5em;\n",
       "}\n",
       "\n",
       ".xr-section-summary-in:disabled + label {\n",
       "  color: var(--xr-font-color2);\n",
       "}\n",
       "\n",
       ".xr-section-summary-in + label:before {\n",
       "  display: inline-block;\n",
       "  content: '►';\n",
       "  font-size: 11px;\n",
       "  width: 15px;\n",
       "  text-align: center;\n",
       "}\n",
       "\n",
       ".xr-section-summary-in:disabled + label:before {\n",
       "  color: var(--xr-disabled-color);\n",
       "}\n",
       "\n",
       ".xr-section-summary-in:checked + label:before {\n",
       "  content: '▼';\n",
       "}\n",
       "\n",
       ".xr-section-summary-in:checked + label > span {\n",
       "  display: none;\n",
       "}\n",
       "\n",
       ".xr-section-summary,\n",
       ".xr-section-inline-details {\n",
       "  padding-top: 4px;\n",
       "  padding-bottom: 4px;\n",
       "}\n",
       "\n",
       ".xr-section-inline-details {\n",
       "  grid-column: 2 / -1;\n",
       "}\n",
       "\n",
       ".xr-section-details {\n",
       "  display: none;\n",
       "  grid-column: 1 / -1;\n",
       "  margin-bottom: 5px;\n",
       "}\n",
       "\n",
       ".xr-section-summary-in:checked ~ .xr-section-details {\n",
       "  display: contents;\n",
       "}\n",
       "\n",
       ".xr-array-wrap {\n",
       "  grid-column: 1 / -1;\n",
       "  display: grid;\n",
       "  grid-template-columns: 20px auto;\n",
       "}\n",
       "\n",
       ".xr-array-wrap > label {\n",
       "  grid-column: 1;\n",
       "  vertical-align: top;\n",
       "}\n",
       "\n",
       ".xr-preview {\n",
       "  color: var(--xr-font-color3);\n",
       "}\n",
       "\n",
       ".xr-array-preview,\n",
       ".xr-array-data {\n",
       "  padding: 0 5px !important;\n",
       "  grid-column: 2;\n",
       "}\n",
       "\n",
       ".xr-array-data,\n",
       ".xr-array-in:checked ~ .xr-array-preview {\n",
       "  display: none;\n",
       "}\n",
       "\n",
       ".xr-array-in:checked ~ .xr-array-data,\n",
       ".xr-array-preview {\n",
       "  display: inline-block;\n",
       "}\n",
       "\n",
       ".xr-dim-list {\n",
       "  display: inline-block !important;\n",
       "  list-style: none;\n",
       "  padding: 0 !important;\n",
       "  margin: 0;\n",
       "}\n",
       "\n",
       ".xr-dim-list li {\n",
       "  display: inline-block;\n",
       "  padding: 0;\n",
       "  margin: 0;\n",
       "}\n",
       "\n",
       ".xr-dim-list:before {\n",
       "  content: '(';\n",
       "}\n",
       "\n",
       ".xr-dim-list:after {\n",
       "  content: ')';\n",
       "}\n",
       "\n",
       ".xr-dim-list li:not(:last-child):after {\n",
       "  content: ',';\n",
       "  padding-right: 5px;\n",
       "}\n",
       "\n",
       ".xr-has-index {\n",
       "  font-weight: bold;\n",
       "}\n",
       "\n",
       ".xr-var-list,\n",
       ".xr-var-item {\n",
       "  display: contents;\n",
       "}\n",
       "\n",
       ".xr-var-item > div,\n",
       ".xr-var-item label,\n",
       ".xr-var-item > .xr-var-name span {\n",
       "  background-color: var(--xr-background-color-row-even);\n",
       "  margin-bottom: 0;\n",
       "}\n",
       "\n",
       ".xr-var-item > .xr-var-name:hover span {\n",
       "  padding-right: 5px;\n",
       "}\n",
       "\n",
       ".xr-var-list > li:nth-child(odd) > div,\n",
       ".xr-var-list > li:nth-child(odd) > label,\n",
       ".xr-var-list > li:nth-child(odd) > .xr-var-name span {\n",
       "  background-color: var(--xr-background-color-row-odd);\n",
       "}\n",
       "\n",
       ".xr-var-name {\n",
       "  grid-column: 1;\n",
       "}\n",
       "\n",
       ".xr-var-dims {\n",
       "  grid-column: 2;\n",
       "}\n",
       "\n",
       ".xr-var-dtype {\n",
       "  grid-column: 3;\n",
       "  text-align: right;\n",
       "  color: var(--xr-font-color2);\n",
       "}\n",
       "\n",
       ".xr-var-preview {\n",
       "  grid-column: 4;\n",
       "}\n",
       "\n",
       ".xr-var-name,\n",
       ".xr-var-dims,\n",
       ".xr-var-dtype,\n",
       ".xr-preview,\n",
       ".xr-attrs dt {\n",
       "  white-space: nowrap;\n",
       "  overflow: hidden;\n",
       "  text-overflow: ellipsis;\n",
       "  padding-right: 10px;\n",
       "}\n",
       "\n",
       ".xr-var-name:hover,\n",
       ".xr-var-dims:hover,\n",
       ".xr-var-dtype:hover,\n",
       ".xr-attrs dt:hover {\n",
       "  overflow: visible;\n",
       "  width: auto;\n",
       "  z-index: 1;\n",
       "}\n",
       "\n",
       ".xr-var-attrs,\n",
       ".xr-var-data {\n",
       "  display: none;\n",
       "  background-color: var(--xr-background-color) !important;\n",
       "  padding-bottom: 5px !important;\n",
       "}\n",
       "\n",
       ".xr-var-attrs-in:checked ~ .xr-var-attrs,\n",
       ".xr-var-data-in:checked ~ .xr-var-data {\n",
       "  display: block;\n",
       "}\n",
       "\n",
       ".xr-var-data > table {\n",
       "  float: right;\n",
       "}\n",
       "\n",
       ".xr-var-name span,\n",
       ".xr-var-data,\n",
       ".xr-attrs {\n",
       "  padding-left: 25px !important;\n",
       "}\n",
       "\n",
       ".xr-attrs,\n",
       ".xr-var-attrs,\n",
       ".xr-var-data {\n",
       "  grid-column: 1 / -1;\n",
       "}\n",
       "\n",
       "dl.xr-attrs {\n",
       "  padding: 0;\n",
       "  margin: 0;\n",
       "  display: grid;\n",
       "  grid-template-columns: 125px auto;\n",
       "}\n",
       "\n",
       ".xr-attrs dt, dd {\n",
       "  padding: 0;\n",
       "  margin: 0;\n",
       "  float: left;\n",
       "  padding-right: 10px;\n",
       "  width: auto;\n",
       "}\n",
       "\n",
       ".xr-attrs dt {\n",
       "  font-weight: normal;\n",
       "  grid-column: 1;\n",
       "}\n",
       "\n",
       ".xr-attrs dt:hover span {\n",
       "  display: inline-block;\n",
       "  background: var(--xr-background-color);\n",
       "  padding-right: 10px;\n",
       "}\n",
       "\n",
       ".xr-attrs dd {\n",
       "  grid-column: 2;\n",
       "  white-space: pre-wrap;\n",
       "  word-break: break-all;\n",
       "}\n",
       "\n",
       ".xr-icon-database,\n",
       ".xr-icon-file-text2 {\n",
       "  display: inline-block;\n",
       "  vertical-align: middle;\n",
       "  width: 1em;\n",
       "  height: 1.5em !important;\n",
       "  stroke-width: 0;\n",
       "  stroke: currentColor;\n",
       "  fill: currentColor;\n",
       "}\n",
       "</style><div class='xr-wrap'><div class='xr-header'><div class='xr-obj-type'>xarray.Dataset</div></div><ul class='xr-sections'><li class='xr-section-item'><input id='section-82ed4e77-9094-45a1-ba5b-4c8f8395959d' class='xr-section-summary-in' type='checkbox' disabled ><label for='section-82ed4e77-9094-45a1-ba5b-4c8f8395959d' class='xr-section-summary'  title='Expand/collapse section'>Dimensions:</label><div class='xr-section-inline-details'><ul class='xr-dim-list'><li><span>C</span>: 1</li><li><span class='xr-has-index'>D</span>: 1</li><li><span class='xr-has-index'>G</span>: 1</li><li><span class='xr-has-index'>M</span>: 1</li><li><span class='xr-has-index'>N</span>: 1</li><li><span class='xr-has-index'>P</span>: 1</li><li><span>R</span>: 2</li><li><span class='xr-has-index'>S</span>: 2</li><li><span class='xr-has-index'>U</span>: 1</li><li><span class='xr-has-index'>X</span>: 2</li><li><span class='xr-has-index'>Z</span>: 1</li><li><span class='xr-has-index'>clock</span>: 2</li><li><span class='xr-has-index'>components</span>: 4</li><li><span class='xr-has-index'>fluxes</span>: 4</li><li><span class='xr-has-index'>forcingfluxes</span>: 4</li><li><span>m</span>: 1</li><li><span>s</span>: 2</li><li><span class='xr-has-index'>time</span>: 1095</li><li><span>u</span>: 1</li></ul></div><div class='xr-section-details'></div></li><li class='xr-section-item'><input id='section-74476390-f48b-40db-a9db-59807825f68c' class='xr-section-summary-in' type='checkbox'  checked><label for='section-74476390-f48b-40db-a9db-59807825f68c' class='xr-section-summary' >Coordinates: <span>(14)</span></label><div class='xr-section-inline-details'></div><div class='xr-section-details'><ul class='xr-var-list'><li class='xr-var-item'><div class='xr-var-name'><span class='xr-has-index'>D</span></div><div class='xr-var-dims'>(D)</div><div class='xr-var-dtype'>&lt;U1</div><div class='xr-var-preview xr-preview'>&#x27;D&#x27;</div><input id='attrs-900e1b39-1a6e-46c5-8111-bcc24f984221' class='xr-var-attrs-in' type='checkbox' ><label for='attrs-900e1b39-1a6e-46c5-8111-bcc24f984221' title='Show/Hide attributes'><svg class='icon xr-icon-file-text2'><use xlink:href='#icon-file-text2'></use></svg></label><input id='data-53f65410-fac1-488e-a720-aab79117e9c9' class='xr-var-data-in' type='checkbox'><label for='data-53f65410-fac1-488e-a720-aab79117e9c9' title='Show/Hide data repr'><svg class='icon xr-icon-database'><use xlink:href='#icon-database'></use></svg></label><div class='xr-var-attrs'><dl class='xr-attrs'><dt><span>_FillValue :</span></dt><dd></dd></dl></div><pre class='xr-var-data'>array([&#x27;D&#x27;], dtype=&#x27;&lt;U1&#x27;)</pre></li><li class='xr-var-item'><div class='xr-var-name'><span class='xr-has-index'>G</span></div><div class='xr-var-dims'>(G)</div><div class='xr-var-dtype'>&lt;U14</div><div class='xr-var-preview xr-preview'>&#x27;P_Growth-N-2-P&#x27;</div><input id='attrs-9e248fa9-e11b-40a4-a7bd-73b467bf2a2b' class='xr-var-attrs-in' type='checkbox' ><label for='attrs-9e248fa9-e11b-40a4-a7bd-73b467bf2a2b' title='Show/Hide attributes'><svg class='icon xr-icon-file-text2'><use xlink:href='#icon-file-text2'></use></svg></label><input id='data-0c4d6a18-46f6-46bb-b63f-5704dff79f6f' class='xr-var-data-in' type='checkbox'><label for='data-0c4d6a18-46f6-46bb-b63f-5704dff79f6f' title='Show/Hide data repr'><svg class='icon xr-icon-database'><use xlink:href='#icon-database'></use></svg></label><div class='xr-var-attrs'><dl class='xr-attrs'><dt><span>_FillValue :</span></dt><dd></dd></dl></div><pre class='xr-var-data'>array([&#x27;P_Growth-N-2-P&#x27;], dtype=&#x27;&lt;U14&#x27;)</pre></li><li class='xr-var-item'><div class='xr-var-name'><span class='xr-has-index'>M</span></div><div class='xr-var-dims'>(M)</div><div class='xr-var-dtype'>&lt;U16</div><div class='xr-var-preview xr-preview'>&#x27;P_LinMortality-P&#x27;</div><input id='attrs-89969458-b63b-4d41-a8eb-a417f7754fb8' class='xr-var-attrs-in' type='checkbox' ><label for='attrs-89969458-b63b-4d41-a8eb-a417f7754fb8' title='Show/Hide attributes'><svg class='icon xr-icon-file-text2'><use xlink:href='#icon-file-text2'></use></svg></label><input id='data-de308fb2-73c9-43cb-a50a-b8f65ec02be8' class='xr-var-data-in' type='checkbox'><label for='data-de308fb2-73c9-43cb-a50a-b8f65ec02be8' title='Show/Hide data repr'><svg class='icon xr-icon-database'><use xlink:href='#icon-database'></use></svg></label><div class='xr-var-attrs'><dl class='xr-attrs'><dt><span>_FillValue :</span></dt><dd></dd></dl></div><pre class='xr-var-data'>array([&#x27;P_LinMortality-P&#x27;], dtype=&#x27;&lt;U16&#x27;)</pre></li><li class='xr-var-item'><div class='xr-var-name'><span class='xr-has-index'>N</span></div><div class='xr-var-dims'>(N)</div><div class='xr-var-dtype'>&lt;U1</div><div class='xr-var-preview xr-preview'>&#x27;N&#x27;</div><input id='attrs-d018fca9-4837-4b20-b0e7-eab05b8a5654' class='xr-var-attrs-in' type='checkbox' ><label for='attrs-d018fca9-4837-4b20-b0e7-eab05b8a5654' title='Show/Hide attributes'><svg class='icon xr-icon-file-text2'><use xlink:href='#icon-file-text2'></use></svg></label><input id='data-1cb62425-aecf-42f7-a9e0-dcd12b1b0fb5' class='xr-var-data-in' type='checkbox'><label for='data-1cb62425-aecf-42f7-a9e0-dcd12b1b0fb5' title='Show/Hide data repr'><svg class='icon xr-icon-database'><use xlink:href='#icon-database'></use></svg></label><div class='xr-var-attrs'><dl class='xr-attrs'><dt><span>_FillValue :</span></dt><dd></dd></dl></div><pre class='xr-var-data'>array([&#x27;N&#x27;], dtype=&#x27;&lt;U1&#x27;)</pre></li><li class='xr-var-item'><div class='xr-var-name'><span class='xr-has-index'>P</span></div><div class='xr-var-dims'>(P)</div><div class='xr-var-dtype'>&lt;U1</div><div class='xr-var-preview xr-preview'>&#x27;P&#x27;</div><input id='attrs-c0d0c6f0-bdc4-43ad-850b-78a65068e628' class='xr-var-attrs-in' type='checkbox' ><label for='attrs-c0d0c6f0-bdc4-43ad-850b-78a65068e628' title='Show/Hide attributes'><svg class='icon xr-icon-file-text2'><use xlink:href='#icon-file-text2'></use></svg></label><input id='data-6efae0f6-7d56-416d-b0ac-83907c098dc3' class='xr-var-data-in' type='checkbox'><label for='data-6efae0f6-7d56-416d-b0ac-83907c098dc3' title='Show/Hide data repr'><svg class='icon xr-icon-database'><use xlink:href='#icon-database'></use></svg></label><div class='xr-var-attrs'><dl class='xr-attrs'><dt><span>_FillValue :</span></dt><dd></dd></dl></div><pre class='xr-var-data'>array([&#x27;P&#x27;], dtype=&#x27;&lt;U1&#x27;)</pre></li><li class='xr-var-item'><div class='xr-var-name'><span class='xr-has-index'>S</span></div><div class='xr-var-dims'>(S)</div><div class='xr-var-dtype'>&lt;U9</div><div class='xr-var-preview xr-preview'>&#x27;Sinking-D&#x27; &#x27;Sinking-P&#x27;</div><input id='attrs-c6ed549a-abe3-458a-8f89-6d343ac8295c' class='xr-var-attrs-in' type='checkbox' ><label for='attrs-c6ed549a-abe3-458a-8f89-6d343ac8295c' title='Show/Hide attributes'><svg class='icon xr-icon-file-text2'><use xlink:href='#icon-file-text2'></use></svg></label><input id='data-41bb5e07-741e-4fc8-8472-fcbff865ef74' class='xr-var-data-in' type='checkbox'><label for='data-41bb5e07-741e-4fc8-8472-fcbff865ef74' title='Show/Hide data repr'><svg class='icon xr-icon-database'><use xlink:href='#icon-database'></use></svg></label><div class='xr-var-attrs'><dl class='xr-attrs'><dt><span>_FillValue :</span></dt><dd></dd></dl></div><pre class='xr-var-data'>array([&#x27;Sinking-D&#x27;, &#x27;Sinking-P&#x27;], dtype=&#x27;&lt;U9&#x27;)</pre></li><li class='xr-var-item'><div class='xr-var-name'><span class='xr-has-index'>U</span></div><div class='xr-var-dims'>(U)</div><div class='xr-var-dtype'>&lt;U11</div><div class='xr-var-preview xr-preview'>&#x27;Upwelling-N&#x27;</div><input id='attrs-710deeda-59b3-44f5-8c8b-fb78abda28cf' class='xr-var-attrs-in' type='checkbox' ><label for='attrs-710deeda-59b3-44f5-8c8b-fb78abda28cf' title='Show/Hide attributes'><svg class='icon xr-icon-file-text2'><use xlink:href='#icon-file-text2'></use></svg></label><input id='data-fb68fa4c-34ca-46c1-90f9-7efba8d77679' class='xr-var-data-in' type='checkbox'><label for='data-fb68fa4c-34ca-46c1-90f9-7efba8d77679' title='Show/Hide data repr'><svg class='icon xr-icon-database'><use xlink:href='#icon-database'></use></svg></label><div class='xr-var-attrs'><dl class='xr-attrs'><dt><span>_FillValue :</span></dt><dd></dd></dl></div><pre class='xr-var-data'>array([&#x27;Upwelling-N&#x27;], dtype=&#x27;&lt;U11&#x27;)</pre></li><li class='xr-var-item'><div class='xr-var-name'><span class='xr-has-index'>X</span></div><div class='xr-var-dims'>(X)</div><div class='xr-var-dtype'>&lt;U13</div><div class='xr-var-preview xr-preview'>&#x27;Grazing-P-2-Z&#x27; &#x27;Grazing-D-2-Z&#x27;</div><input id='attrs-016e41da-1008-4a29-b47a-50a0df5c306c' class='xr-var-attrs-in' type='checkbox' ><label for='attrs-016e41da-1008-4a29-b47a-50a0df5c306c' title='Show/Hide attributes'><svg class='icon xr-icon-file-text2'><use xlink:href='#icon-file-text2'></use></svg></label><input id='data-5e68998c-5e52-4cf7-9cf2-0dd93dc3a1f3' class='xr-var-data-in' type='checkbox'><label for='data-5e68998c-5e52-4cf7-9cf2-0dd93dc3a1f3' title='Show/Hide data repr'><svg class='icon xr-icon-database'><use xlink:href='#icon-database'></use></svg></label><div class='xr-var-attrs'><dl class='xr-attrs'><dt><span>_FillValue :</span></dt><dd></dd></dl></div><pre class='xr-var-data'>array([&#x27;Grazing-P-2-Z&#x27;, &#x27;Grazing-D-2-Z&#x27;], dtype=&#x27;&lt;U13&#x27;)</pre></li><li class='xr-var-item'><div class='xr-var-name'><span class='xr-has-index'>Z</span></div><div class='xr-var-dims'>(Z)</div><div class='xr-var-dtype'>&lt;U1</div><div class='xr-var-preview xr-preview'>&#x27;Z&#x27;</div><input id='attrs-9f43ef38-bd64-44f6-aa7c-256103ea37ab' class='xr-var-attrs-in' type='checkbox' ><label for='attrs-9f43ef38-bd64-44f6-aa7c-256103ea37ab' title='Show/Hide attributes'><svg class='icon xr-icon-file-text2'><use xlink:href='#icon-file-text2'></use></svg></label><input id='data-e53c1eff-f0fb-4640-8d42-a6a014a77275' class='xr-var-data-in' type='checkbox'><label for='data-e53c1eff-f0fb-4640-8d42-a6a014a77275' title='Show/Hide data repr'><svg class='icon xr-icon-database'><use xlink:href='#icon-database'></use></svg></label><div class='xr-var-attrs'><dl class='xr-attrs'><dt><span>_FillValue :</span></dt><dd></dd></dl></div><pre class='xr-var-data'>array([&#x27;Z&#x27;], dtype=&#x27;&lt;U1&#x27;)</pre></li><li class='xr-var-item'><div class='xr-var-name'><span class='xr-has-index'>clock</span></div><div class='xr-var-dims'>(clock)</div><div class='xr-var-dtype'>int64</div><div class='xr-var-preview xr-preview'>0 1</div><input id='attrs-6cd437e8-4a73-4101-bbfd-05746cebfb00' class='xr-var-attrs-in' type='checkbox' ><label for='attrs-6cd437e8-4a73-4101-bbfd-05746cebfb00' title='Show/Hide attributes'><svg class='icon xr-icon-file-text2'><use xlink:href='#icon-file-text2'></use></svg></label><input id='data-cbca624c-f5d7-4fe6-ab4d-d91cfae3e9e9' class='xr-var-data-in' type='checkbox'><label for='data-cbca624c-f5d7-4fe6-ab4d-d91cfae3e9e9' title='Show/Hide data repr'><svg class='icon xr-icon-database'><use xlink:href='#icon-database'></use></svg></label><div class='xr-var-attrs'><dl class='xr-attrs'><dt><span>__xsimlab_master_clock__ :</span></dt><dd>1</dd><dt><span>__xsimlab_output_clock__ :</span></dt><dd>1</dd></dl></div><pre class='xr-var-data'>array([0, 1])</pre></li><li class='xr-var-item'><div class='xr-var-name'><span class='xr-has-index'>components</span></div><div class='xr-var-dims'>(components)</div><div class='xr-var-dtype'>&lt;U1</div><div class='xr-var-preview xr-preview'>&#x27;N&#x27; &#x27;P&#x27; &#x27;Z&#x27; &#x27;D&#x27;</div><input id='attrs-92d1f129-1768-4fc4-b505-d01f21298028' class='xr-var-attrs-in' type='checkbox' ><label for='attrs-92d1f129-1768-4fc4-b505-d01f21298028' title='Show/Hide attributes'><svg class='icon xr-icon-file-text2'><use xlink:href='#icon-file-text2'></use></svg></label><input id='data-e548a365-0452-439c-aafb-af8182ed71d0' class='xr-var-data-in' type='checkbox'><label for='data-e548a365-0452-439c-aafb-af8182ed71d0' title='Show/Hide data repr'><svg class='icon xr-icon-database'><use xlink:href='#icon-database'></use></svg></label><div class='xr-var-attrs'><dl class='xr-attrs'><dt><span>_FillValue :</span></dt><dd></dd></dl></div><pre class='xr-var-data'>array([&#x27;N&#x27;, &#x27;P&#x27;, &#x27;Z&#x27;, &#x27;D&#x27;], dtype=&#x27;&lt;U1&#x27;)</pre></li><li class='xr-var-item'><div class='xr-var-name'><span class='xr-has-index'>fluxes</span></div><div class='xr-var-dims'>(fluxes)</div><div class='xr-var-dtype'>&lt;U20</div><div class='xr-var-preview xr-preview'>&#x27;Grazing-P-2-Z&#x27; ... &#x27;P_Growth-N-2-P&#x27;</div><input id='attrs-1fdcf812-c290-4d0c-aa6b-29249ef627c2' class='xr-var-attrs-in' type='checkbox' ><label for='attrs-1fdcf812-c290-4d0c-aa6b-29249ef627c2' title='Show/Hide attributes'><svg class='icon xr-icon-file-text2'><use xlink:href='#icon-file-text2'></use></svg></label><input id='data-1a994a89-5ac2-4e96-8fa8-cc40fef87c44' class='xr-var-data-in' type='checkbox'><label for='data-1a994a89-5ac2-4e96-8fa8-cc40fef87c44' title='Show/Hide data repr'><svg class='icon xr-icon-database'><use xlink:href='#icon-database'></use></svg></label><div class='xr-var-attrs'><dl class='xr-attrs'><dt><span>_FillValue :</span></dt><dd></dd></dl></div><pre class='xr-var-data'>array([&#x27;Grazing-P-2-Z&#x27;, &#x27;Grazing-D-2-Z&#x27;, &#x27;P_LinMortality-P-2-D&#x27;,\n",
       "       &#x27;P_Growth-N-2-P&#x27;], dtype=&#x27;&lt;U20&#x27;)</pre></li><li class='xr-var-item'><div class='xr-var-name'><span class='xr-has-index'>forcingfluxes</span></div><div class='xr-var-dims'>(forcingfluxes)</div><div class='xr-var-dtype'>&lt;U16</div><div class='xr-var-preview xr-preview'>&#x27;Upwelling-N&#x27; ... &#x27;Z_LinMortality-Z&#x27;</div><input id='attrs-252cea61-b4e5-4708-956f-7dda2df458ed' class='xr-var-attrs-in' type='checkbox' ><label for='attrs-252cea61-b4e5-4708-956f-7dda2df458ed' title='Show/Hide attributes'><svg class='icon xr-icon-file-text2'><use xlink:href='#icon-file-text2'></use></svg></label><input id='data-52a541b3-7986-4311-9701-599c4d5f4d0f' class='xr-var-data-in' type='checkbox'><label for='data-52a541b3-7986-4311-9701-599c4d5f4d0f' title='Show/Hide data repr'><svg class='icon xr-icon-database'><use xlink:href='#icon-database'></use></svg></label><div class='xr-var-attrs'><dl class='xr-attrs'><dt><span>_FillValue :</span></dt><dd></dd></dl></div><pre class='xr-var-data'>array([&#x27;Upwelling-N&#x27;, &#x27;Sinking-D&#x27;, &#x27;Sinking-P&#x27;, &#x27;Z_LinMortality-Z&#x27;],\n",
       "      dtype=&#x27;&lt;U16&#x27;)</pre></li><li class='xr-var-item'><div class='xr-var-name'><span class='xr-has-index'>time</span></div><div class='xr-var-dims'>(time)</div><div class='xr-var-dtype'>int64</div><div class='xr-var-preview xr-preview'>0 1 2 3 4 ... 1091 1092 1093 1094</div><input id='attrs-4d5228f1-2b22-4e08-be3d-b128b42c1a90' class='xr-var-attrs-in' type='checkbox' ><label for='attrs-4d5228f1-2b22-4e08-be3d-b128b42c1a90' title='Show/Hide attributes'><svg class='icon xr-icon-file-text2'><use xlink:href='#icon-file-text2'></use></svg></label><input id='data-1f6293a7-4ddd-4f84-914d-3d6f1ec07133' class='xr-var-data-in' type='checkbox'><label for='data-1f6293a7-4ddd-4f84-914d-3d6f1ec07133' title='Show/Hide data repr'><svg class='icon xr-icon-database'><use xlink:href='#icon-database'></use></svg></label><div class='xr-var-attrs'><dl class='xr-attrs'><dt><span>description :</span></dt><dd>time in days</dd><dt><span>_FillValue :</span></dt><dd>0</dd></dl></div><pre class='xr-var-data'>array([   0,    1,    2, ..., 1092, 1093, 1094])</pre></li></ul></div></li><li class='xr-section-item'><input id='section-4f877af8-44b5-4d11-b24f-5dd2b350bd13' class='xr-section-summary-in' type='checkbox'  ><label for='section-4f877af8-44b5-4d11-b24f-5dd2b350bd13' class='xr-section-summary' >Data variables: <span>(33)</span></label><div class='xr-section-inline-details'></div><div class='xr-section-details'><ul class='xr-var-list'><li class='xr-var-item'><div class='xr-var-name'><span>D__dim</span></div><div class='xr-var-dims'>()</div><div class='xr-var-dtype'>int64</div><div class='xr-var-preview xr-preview'>1</div><input id='attrs-ac24583d-78d5-45a3-8e53-71d50a1a5e3f' class='xr-var-attrs-in' type='checkbox' disabled><label for='attrs-ac24583d-78d5-45a3-8e53-71d50a1a5e3f' title='Show/Hide attributes'><svg class='icon xr-icon-file-text2'><use xlink:href='#icon-file-text2'></use></svg></label><input id='data-ba04bc89-9fb8-4abd-88a6-5f9369d4f32b' class='xr-var-data-in' type='checkbox'><label for='data-ba04bc89-9fb8-4abd-88a6-5f9369d4f32b' title='Show/Hide data repr'><svg class='icon xr-icon-database'><use xlink:href='#icon-database'></use></svg></label><div class='xr-var-attrs'><dl class='xr-attrs'></dl></div><pre class='xr-var-data'>array(1)</pre></li><li class='xr-var-item'><div class='xr-var-name'><span>D__init</span></div><div class='xr-var-dims'>()</div><div class='xr-var-dtype'>float64</div><div class='xr-var-preview xr-preview'>0.1</div><input id='attrs-cd48639f-1259-4e25-940e-f188a4747f81' class='xr-var-attrs-in' type='checkbox' ><label for='attrs-cd48639f-1259-4e25-940e-f188a4747f81' title='Show/Hide attributes'><svg class='icon xr-icon-file-text2'><use xlink:href='#icon-file-text2'></use></svg></label><input id='data-6c7c22ff-ca0b-48b4-ad58-1009904b4aa0' class='xr-var-data-in' type='checkbox'><label for='data-6c7c22ff-ca0b-48b4-ad58-1009904b4aa0' title='Show/Hide data repr'><svg class='icon xr-icon-database'><use xlink:href='#icon-database'></use></svg></label><div class='xr-var-attrs'><dl class='xr-attrs'><dt><span>_FillValue :</span></dt><dd>nan</dd></dl></div><pre class='xr-var-data'>array(0.1)</pre></li><li class='xr-var-item'><div class='xr-var-name'><span>Env__comp_output</span></div><div class='xr-var-dims'>(components, time)</div><div class='xr-var-dtype'>float64</div><div class='xr-var-preview xr-preview'>1.0 0.9703 ... 8.428e-24 8.298e-24</div><input id='attrs-4ecd4810-f12d-46d8-89b3-8114153a1deb' class='xr-var-attrs-in' type='checkbox' ><label for='attrs-4ecd4810-f12d-46d8-89b3-8114153a1deb' title='Show/Hide attributes'><svg class='icon xr-icon-file-text2'><use xlink:href='#icon-file-text2'></use></svg></label><input id='data-ae685580-48be-473e-b7dc-775b929b5bfa' class='xr-var-data-in' type='checkbox'><label for='data-ae685580-48be-473e-b7dc-775b929b5bfa' title='Show/Hide data repr'><svg class='icon xr-icon-database'><use xlink:href='#icon-database'></use></svg></label><div class='xr-var-attrs'><dl class='xr-attrs'><dt><span>_FillValue :</span></dt><dd>nan</dd></dl></div><pre class='xr-var-data'>array([[1.00000000e+00, 9.70269136e-01, 9.29023191e-01, ...,\n",
       "        4.20870996e-02, 4.20225563e-02, 4.19640318e-02],\n",
       "       [1.00000000e-01, 1.36829000e-01, 1.84974384e-01, ...,\n",
       "        9.83937061e-01, 9.84759362e-01, 9.85576498e-01],\n",
       "       [1.00000000e-01, 9.13709280e-02, 8.36732524e-02, ...,\n",
       "        7.55229665e-02, 7.52952377e-02, 7.50802453e-02],\n",
       "       [1.00000000e-01, 9.89673584e-02, 9.79246130e-02, ...,\n",
       "        8.56051931e-24, 8.42795782e-24, 8.29760499e-24]])</pre></li><li class='xr-var-item'><div class='xr-var-name'><span>Env__flux_output</span></div><div class='xr-var-dims'>(fluxes, time)</div><div class='xr-var-dtype'>float64</div><div class='xr-var-preview xr-preview'>0.0002 0.0002948 ... 0.01627</div><input id='attrs-07dba204-eb6d-42e5-b1eb-e30fb1ea83f4' class='xr-var-attrs-in' type='checkbox' ><label for='attrs-07dba204-eb6d-42e5-b1eb-e30fb1ea83f4' title='Show/Hide attributes'><svg class='icon xr-icon-file-text2'><use xlink:href='#icon-file-text2'></use></svg></label><input id='data-84c09c46-5566-45d7-80c2-f99f0940781a' class='xr-var-data-in' type='checkbox'><label for='data-84c09c46-5566-45d7-80c2-f99f0940781a' title='Show/Hide data repr'><svg class='icon xr-icon-database'><use xlink:href='#icon-database'></use></svg></label><div class='xr-var-attrs'><dl class='xr-attrs'><dt><span>_FillValue :</span></dt><dd>nan</dd></dl></div><pre class='xr-var-data'>array([[2.00000000e-04, 2.94797151e-04, 4.37854330e-04, ...,\n",
       "        7.31162112e-03, 7.30176322e-03, 7.29300246e-03],\n",
       "       [2.00000000e-04, 2.13224502e-04, 2.31798127e-04, ...,\n",
       "        6.36130869e-26, 6.24913607e-26, 6.14000575e-26],\n",
       "       [0.00000000e+00, 0.00000000e+00, 0.00000000e+00, ...,\n",
       "        0.00000000e+00, 0.00000000e+00, 0.00000000e+00],\n",
       "       [2.85714286e-02, 3.82566742e-02, 5.01149986e-02, ...,\n",
       "        1.62901803e-02, 1.62792048e-02, 1.62703968e-02]])</pre></li><li class='xr-var-item'><div class='xr-var-name'><span>Env__fxflux_output</span></div><div class='xr-var-dims'>(forcingfluxes, time)</div><div class='xr-var-dtype'>float64</div><div class='xr-var-preview xr-preview'>0.008279 0.008526 ... -0.007508</div><input id='attrs-a341b6e0-d346-4c5e-b64d-9b46fb3893d2' class='xr-var-attrs-in' type='checkbox' ><label for='attrs-a341b6e0-d346-4c5e-b64d-9b46fb3893d2' title='Show/Hide attributes'><svg class='icon xr-icon-file-text2'><use xlink:href='#icon-file-text2'></use></svg></label><input id='data-81d8a576-ee50-4071-9421-86443ef760c8' class='xr-var-data-in' type='checkbox'><label for='data-81d8a576-ee50-4071-9421-86443ef760c8' title='Show/Hide data repr'><svg class='icon xr-icon-database'><use xlink:href='#icon-database'></use></svg></label><div class='xr-var-attrs'><dl class='xr-attrs'><dt><span>_FillValue :</span></dt><dd>nan</dd></dl></div><pre class='xr-var-data'>array([[ 8.27911223e-03,  8.52583156e-03,  8.86912622e-03, ...,\n",
       "         1.62196096e-02,  1.62146826e-02,  1.62118913e-02],\n",
       "       [-8.27911223e-04, -8.19417052e-04, -8.10947300e-04, ...,\n",
       "        -7.09164750e-26, -6.97948089e-26, -6.87014297e-26],\n",
       "       [-8.27911223e-04, -1.13289894e-03, -1.53183631e-03, ...,\n",
       "        -8.15106484e-03, -8.15512997e-03, -8.16024800e-03],\n",
       "       [-1.00000000e-02, -9.13709280e-03, -8.36732524e-03, ...,\n",
       "        -7.55229665e-03, -7.52952377e-03, -7.50802453e-03]])</pre></li><li class='xr-var-item'><div class='xr-var-name'><span>Grazing__C_labels</span></div><div class='xr-var-dims'>(C)</div><div class='xr-var-dtype'>&lt;U1</div><div class='xr-var-preview xr-preview'>&#x27;Z&#x27;</div><input id='attrs-f7879f73-626f-41cd-affd-7375156a632a' class='xr-var-attrs-in' type='checkbox' ><label for='attrs-f7879f73-626f-41cd-affd-7375156a632a' title='Show/Hide attributes'><svg class='icon xr-icon-file-text2'><use xlink:href='#icon-file-text2'></use></svg></label><input id='data-483b2f6a-35f6-4ca8-9095-c68f91ac1e87' class='xr-var-data-in' type='checkbox'><label for='data-483b2f6a-35f6-4ca8-9095-c68f91ac1e87' title='Show/Hide data repr'><svg class='icon xr-icon-database'><use xlink:href='#icon-database'></use></svg></label><div class='xr-var-attrs'><dl class='xr-attrs'><dt><span>description :</span></dt><dd>label of component that grazes</dd></dl></div><pre class='xr-var-data'>array([&#x27;Z&#x27;], dtype=&#x27;&lt;U1&#x27;)</pre></li><li class='xr-var-item'><div class='xr-var-name'><span>Grazing__R_labels</span></div><div class='xr-var-dims'>(R)</div><div class='xr-var-dtype'>&lt;U1</div><div class='xr-var-preview xr-preview'>&#x27;P&#x27; &#x27;D&#x27;</div><input id='attrs-9a2ad2e6-c8a8-4724-9f0f-44f0edbdd06b' class='xr-var-attrs-in' type='checkbox' ><label for='attrs-9a2ad2e6-c8a8-4724-9f0f-44f0edbdd06b' title='Show/Hide attributes'><svg class='icon xr-icon-file-text2'><use xlink:href='#icon-file-text2'></use></svg></label><input id='data-b0e86d2d-e285-43b9-8978-5ea1f2fed4c6' class='xr-var-data-in' type='checkbox'><label for='data-b0e86d2d-e285-43b9-8978-5ea1f2fed4c6' title='Show/Hide data repr'><svg class='icon xr-icon-database'><use xlink:href='#icon-database'></use></svg></label><div class='xr-var-attrs'><dl class='xr-attrs'><dt><span>description :</span></dt><dd>label of component that is grazed upon</dd></dl></div><pre class='xr-var-data'>array([&#x27;P&#x27;, &#x27;D&#x27;], dtype=&#x27;&lt;U1&#x27;)</pre></li><li class='xr-var-item'><div class='xr-var-name'><span>Grazing__grazing_rate</span></div><div class='xr-var-dims'>()</div><div class='xr-var-dtype'>float64</div><div class='xr-var-preview xr-preview'>0.1</div><input id='attrs-a2156454-3605-45d7-ac9f-cfee4b6fc7fa' class='xr-var-attrs-in' type='checkbox' ><label for='attrs-a2156454-3605-45d7-ac9f-cfee4b6fc7fa' title='Show/Hide attributes'><svg class='icon xr-icon-file-text2'><use xlink:href='#icon-file-text2'></use></svg></label><input id='data-0d77ec6b-6c67-47c2-bae6-ac3faee0e4e3' class='xr-var-data-in' type='checkbox'><label for='data-0d77ec6b-6c67-47c2-bae6-ac3faee0e4e3' title='Show/Hide data repr'><svg class='icon xr-icon-database'><use xlink:href='#icon-database'></use></svg></label><div class='xr-var-attrs'><dl class='xr-attrs'><dt><span>description :</span></dt><dd>maximum grazing rate</dd><dt><span>_FillValue :</span></dt><dd>nan</dd></dl></div><pre class='xr-var-data'>array(0.1)</pre></li><li class='xr-var-item'><div class='xr-var-name'><span>Grazing__halfsat</span></div><div class='xr-var-dims'>()</div><div class='xr-var-dtype'>float64</div><div class='xr-var-preview xr-preview'>1.0</div><input id='attrs-0bd3ca4c-5fb6-4766-8a34-8716df9b4cb1' class='xr-var-attrs-in' type='checkbox' ><label for='attrs-0bd3ca4c-5fb6-4766-8a34-8716df9b4cb1' title='Show/Hide attributes'><svg class='icon xr-icon-file-text2'><use xlink:href='#icon-file-text2'></use></svg></label><input id='data-8e4122ef-5e45-4482-90d0-aa5ee368f459' class='xr-var-data-in' type='checkbox'><label for='data-8e4122ef-5e45-4482-90d0-aa5ee368f459' title='Show/Hide data repr'><svg class='icon xr-icon-database'><use xlink:href='#icon-database'></use></svg></label><div class='xr-var-attrs'><dl class='xr-attrs'><dt><span>description :</span></dt><dd>half-saturation constant of grazing response</dd><dt><span>_FillValue :</span></dt><dd>nan</dd></dl></div><pre class='xr-var-data'>array(1.)</pre></li><li class='xr-var-item'><div class='xr-var-name'><span>N0__constant_N0</span></div><div class='xr-var-dims'>()</div><div class='xr-var-dtype'>float64</div><div class='xr-var-preview xr-preview'>2.0</div><input id='attrs-56176ac1-9740-4f3a-a816-171cd8603c12' class='xr-var-attrs-in' type='checkbox' ><label for='attrs-56176ac1-9740-4f3a-a816-171cd8603c12' title='Show/Hide attributes'><svg class='icon xr-icon-file-text2'><use xlink:href='#icon-file-text2'></use></svg></label><input id='data-f4fc7f5b-7adf-42a3-85db-78acb807525f' class='xr-var-data-in' type='checkbox'><label for='data-f4fc7f5b-7adf-42a3-85db-78acb807525f' title='Show/Hide data repr'><svg class='icon xr-icon-database'><use xlink:href='#icon-database'></use></svg></label><div class='xr-var-attrs'><dl class='xr-attrs'><dt><span>description :</span></dt><dd>value of the constant Nutrient forcing</dd><dt><span>_FillValue :</span></dt><dd>nan</dd></dl></div><pre class='xr-var-data'>array(2.)</pre></li><li class='xr-var-item'><div class='xr-var-name'><span>N__dim</span></div><div class='xr-var-dims'>()</div><div class='xr-var-dtype'>int64</div><div class='xr-var-preview xr-preview'>1</div><input id='attrs-6ebaebc2-89bc-4f06-9f10-040148b2bbd4' class='xr-var-attrs-in' type='checkbox' disabled><label for='attrs-6ebaebc2-89bc-4f06-9f10-040148b2bbd4' title='Show/Hide attributes'><svg class='icon xr-icon-file-text2'><use xlink:href='#icon-file-text2'></use></svg></label><input id='data-f8b93610-2b0e-4290-896b-a7a15750f4bf' class='xr-var-data-in' type='checkbox'><label for='data-f8b93610-2b0e-4290-896b-a7a15750f4bf' title='Show/Hide data repr'><svg class='icon xr-icon-database'><use xlink:href='#icon-database'></use></svg></label><div class='xr-var-attrs'><dl class='xr-attrs'></dl></div><pre class='xr-var-data'>array(1)</pre></li><li class='xr-var-item'><div class='xr-var-name'><span>N__init</span></div><div class='xr-var-dims'>()</div><div class='xr-var-dtype'>int64</div><div class='xr-var-preview xr-preview'>1</div><input id='attrs-9952e5aa-5955-4170-9406-c5da9bc91944' class='xr-var-attrs-in' type='checkbox' disabled><label for='attrs-9952e5aa-5955-4170-9406-c5da9bc91944' title='Show/Hide attributes'><svg class='icon xr-icon-file-text2'><use xlink:href='#icon-file-text2'></use></svg></label><input id='data-858be2f1-af45-455c-949c-c7d162709768' class='xr-var-data-in' type='checkbox'><label for='data-858be2f1-af45-455c-949c-c7d162709768' title='Show/Hide data repr'><svg class='icon xr-icon-database'><use xlink:href='#icon-database'></use></svg></label><div class='xr-var-attrs'><dl class='xr-attrs'></dl></div><pre class='xr-var-data'>array(1)</pre></li><li class='xr-var-item'><div class='xr-var-name'><span>P_Growth__C_label</span></div><div class='xr-var-dims'>()</div><div class='xr-var-dtype'>&lt;U1</div><div class='xr-var-preview xr-preview'>&#x27;P&#x27;</div><input id='attrs-823282d9-558a-445d-95a9-0f4192efcd50' class='xr-var-attrs-in' type='checkbox' ><label for='attrs-823282d9-558a-445d-95a9-0f4192efcd50' title='Show/Hide attributes'><svg class='icon xr-icon-file-text2'><use xlink:href='#icon-file-text2'></use></svg></label><input id='data-9c6b870b-41c1-4448-85f1-386002863e73' class='xr-var-data-in' type='checkbox'><label for='data-9c6b870b-41c1-4448-85f1-386002863e73' title='Show/Hide data repr'><svg class='icon xr-icon-database'><use xlink:href='#icon-database'></use></svg></label><div class='xr-var-attrs'><dl class='xr-attrs'><dt><span>description :</span></dt><dd>label of component that grows</dd></dl></div><pre class='xr-var-data'>array(&#x27;P&#x27;, dtype=&#x27;&lt;U1&#x27;)</pre></li><li class='xr-var-item'><div class='xr-var-name'><span>P_Growth__R_label</span></div><div class='xr-var-dims'>()</div><div class='xr-var-dtype'>&lt;U1</div><div class='xr-var-preview xr-preview'>&#x27;N&#x27;</div><input id='attrs-dbe92ca5-e986-4e95-a5bd-b5e509e2ad91' class='xr-var-attrs-in' type='checkbox' ><label for='attrs-dbe92ca5-e986-4e95-a5bd-b5e509e2ad91' title='Show/Hide attributes'><svg class='icon xr-icon-file-text2'><use xlink:href='#icon-file-text2'></use></svg></label><input id='data-b78c5ded-37fb-4217-b33b-94cd6083a6e8' class='xr-var-data-in' type='checkbox'><label for='data-b78c5ded-37fb-4217-b33b-94cd6083a6e8' title='Show/Hide data repr'><svg class='icon xr-icon-database'><use xlink:href='#icon-database'></use></svg></label><div class='xr-var-attrs'><dl class='xr-attrs'><dt><span>description :</span></dt><dd>label of ressource component that is consumed</dd></dl></div><pre class='xr-var-data'>array(&#x27;N&#x27;, dtype=&#x27;&lt;U1&#x27;)</pre></li><li class='xr-var-item'><div class='xr-var-name'><span>P_Growth__halfsat</span></div><div class='xr-var-dims'>()</div><div class='xr-var-dtype'>float64</div><div class='xr-var-preview xr-preview'>2.5</div><input id='attrs-15adb01d-b4b2-4596-bfbf-c2cf0912bfc7' class='xr-var-attrs-in' type='checkbox' ><label for='attrs-15adb01d-b4b2-4596-bfbf-c2cf0912bfc7' title='Show/Hide attributes'><svg class='icon xr-icon-file-text2'><use xlink:href='#icon-file-text2'></use></svg></label><input id='data-e9ce3d67-a751-4ee8-8c16-cd0cc662a1bf' class='xr-var-data-in' type='checkbox'><label for='data-e9ce3d67-a751-4ee8-8c16-cd0cc662a1bf' title='Show/Hide data repr'><svg class='icon xr-icon-database'><use xlink:href='#icon-database'></use></svg></label><div class='xr-var-attrs'><dl class='xr-attrs'><dt><span>description :</span></dt><dd>half-saturation constant of nutrient uptake for component</dd><dt><span>_FillValue :</span></dt><dd>nan</dd></dl></div><pre class='xr-var-data'>array(2.5)</pre></li><li class='xr-var-item'><div class='xr-var-name'><span>P_Growth__mu</span></div><div class='xr-var-dims'>()</div><div class='xr-var-dtype'>float64</div><div class='xr-var-preview xr-preview'>1.0</div><input id='attrs-14227591-5a9c-4494-b047-a94cfee7e4ca' class='xr-var-attrs-in' type='checkbox' ><label for='attrs-14227591-5a9c-4494-b047-a94cfee7e4ca' title='Show/Hide attributes'><svg class='icon xr-icon-file-text2'><use xlink:href='#icon-file-text2'></use></svg></label><input id='data-f3c63ca7-7b18-45bc-8509-4764a2b5bc04' class='xr-var-data-in' type='checkbox'><label for='data-f3c63ca7-7b18-45bc-8509-4764a2b5bc04' title='Show/Hide data repr'><svg class='icon xr-icon-database'><use xlink:href='#icon-database'></use></svg></label><div class='xr-var-attrs'><dl class='xr-attrs'><dt><span>description :</span></dt><dd>Maximum growth rate of component</dd><dt><span>_FillValue :</span></dt><dd>nan</dd></dl></div><pre class='xr-var-data'>array(1.)</pre></li><li class='xr-var-item'><div class='xr-var-name'><span>P_LinMortality__C_label</span></div><div class='xr-var-dims'>()</div><div class='xr-var-dtype'>&lt;U1</div><div class='xr-var-preview xr-preview'>&#x27;D&#x27;</div><input id='attrs-fb7e0921-bdf3-4037-9718-f9751d7b4082' class='xr-var-attrs-in' type='checkbox' ><label for='attrs-fb7e0921-bdf3-4037-9718-f9751d7b4082' title='Show/Hide attributes'><svg class='icon xr-icon-file-text2'><use xlink:href='#icon-file-text2'></use></svg></label><input id='data-ea1f0bb4-8bfd-410c-b559-e5d94265efd0' class='xr-var-data-in' type='checkbox'><label for='data-ea1f0bb4-8bfd-410c-b559-e5d94265efd0' title='Show/Hide data repr'><svg class='icon xr-icon-database'><use xlink:href='#icon-database'></use></svg></label><div class='xr-var-attrs'><dl class='xr-attrs'><dt><span>description :</span></dt><dd>label of component that mortality feeds into</dd></dl></div><pre class='xr-var-data'>array(&#x27;D&#x27;, dtype=&#x27;&lt;U1&#x27;)</pre></li><li class='xr-var-item'><div class='xr-var-name'><span>P_LinMortality__R_label</span></div><div class='xr-var-dims'>()</div><div class='xr-var-dtype'>&lt;U1</div><div class='xr-var-preview xr-preview'>&#x27;P&#x27;</div><input id='attrs-300f30cf-c958-4b9b-9386-85756f38e70d' class='xr-var-attrs-in' type='checkbox' ><label for='attrs-300f30cf-c958-4b9b-9386-85756f38e70d' title='Show/Hide attributes'><svg class='icon xr-icon-file-text2'><use xlink:href='#icon-file-text2'></use></svg></label><input id='data-b2da75c6-a75e-43f8-89b2-e553c78aa6d6' class='xr-var-data-in' type='checkbox'><label for='data-b2da75c6-a75e-43f8-89b2-e553c78aa6d6' title='Show/Hide data repr'><svg class='icon xr-icon-database'><use xlink:href='#icon-database'></use></svg></label><div class='xr-var-attrs'><dl class='xr-attrs'><dt><span>description :</span></dt><dd>label of component that experiences mortality</dd></dl></div><pre class='xr-var-data'>array(&#x27;P&#x27;, dtype=&#x27;&lt;U1&#x27;)</pre></li><li class='xr-var-item'><div class='xr-var-name'><span>P_LinMortality__mortality_rate</span></div><div class='xr-var-dims'>()</div><div class='xr-var-dtype'>float64</div><div class='xr-var-preview xr-preview'>0.0</div><input id='attrs-0ad087ba-eb1f-41ff-9417-0afbddb6ee71' class='xr-var-attrs-in' type='checkbox' ><label for='attrs-0ad087ba-eb1f-41ff-9417-0afbddb6ee71' title='Show/Hide attributes'><svg class='icon xr-icon-file-text2'><use xlink:href='#icon-file-text2'></use></svg></label><input id='data-c6486fe5-b0fa-496d-b4a6-a34511e4a6f9' class='xr-var-data-in' type='checkbox'><label for='data-c6486fe5-b0fa-496d-b4a6-a34511e4a6f9' title='Show/Hide data repr'><svg class='icon xr-icon-database'><use xlink:href='#icon-database'></use></svg></label><div class='xr-var-attrs'><dl class='xr-attrs'><dt><span>description :</span></dt><dd>mortality rate of component</dd><dt><span>_FillValue :</span></dt><dd>nan</dd></dl></div><pre class='xr-var-data'>array(0.)</pre></li><li class='xr-var-item'><div class='xr-var-name'><span>P__dim</span></div><div class='xr-var-dims'>()</div><div class='xr-var-dtype'>int64</div><div class='xr-var-preview xr-preview'>1</div><input id='attrs-3306d328-9c0b-4975-92e1-2a1ec75ab6fa' class='xr-var-attrs-in' type='checkbox' disabled><label for='attrs-3306d328-9c0b-4975-92e1-2a1ec75ab6fa' title='Show/Hide attributes'><svg class='icon xr-icon-file-text2'><use xlink:href='#icon-file-text2'></use></svg></label><input id='data-ebef1650-0892-40df-ab20-4b7db41d9662' class='xr-var-data-in' type='checkbox'><label for='data-ebef1650-0892-40df-ab20-4b7db41d9662' title='Show/Hide data repr'><svg class='icon xr-icon-database'><use xlink:href='#icon-database'></use></svg></label><div class='xr-var-attrs'><dl class='xr-attrs'></dl></div><pre class='xr-var-data'>array(1)</pre></li><li class='xr-var-item'><div class='xr-var-name'><span>P__init</span></div><div class='xr-var-dims'>()</div><div class='xr-var-dtype'>float64</div><div class='xr-var-preview xr-preview'>0.1</div><input id='attrs-5ca37a88-a238-425a-beba-d075310ec48b' class='xr-var-attrs-in' type='checkbox' ><label for='attrs-5ca37a88-a238-425a-beba-d075310ec48b' title='Show/Hide attributes'><svg class='icon xr-icon-file-text2'><use xlink:href='#icon-file-text2'></use></svg></label><input id='data-b7ccb389-4056-42f6-af5f-f10ee3586361' class='xr-var-data-in' type='checkbox'><label for='data-b7ccb389-4056-42f6-af5f-f10ee3586361' title='Show/Hide data repr'><svg class='icon xr-icon-database'><use xlink:href='#icon-database'></use></svg></label><div class='xr-var-attrs'><dl class='xr-attrs'><dt><span>_FillValue :</span></dt><dd>nan</dd></dl></div><pre class='xr-var-data'>array(0.1)</pre></li><li class='xr-var-item'><div class='xr-var-name'><span>Sinking__C_labels</span></div><div class='xr-var-dims'>(s)</div><div class='xr-var-dtype'>&lt;U1</div><div class='xr-var-preview xr-preview'>&#x27;D&#x27; &#x27;P&#x27;</div><input id='attrs-48731c65-0037-4dd7-b1e0-1f2f513317ed' class='xr-var-attrs-in' type='checkbox' ><label for='attrs-48731c65-0037-4dd7-b1e0-1f2f513317ed' title='Show/Hide attributes'><svg class='icon xr-icon-file-text2'><use xlink:href='#icon-file-text2'></use></svg></label><input id='data-cbc91c40-9a96-46fa-a066-d260935f7f28' class='xr-var-data-in' type='checkbox'><label for='data-cbc91c40-9a96-46fa-a066-d260935f7f28' title='Show/Hide data repr'><svg class='icon xr-icon-database'><use xlink:href='#icon-database'></use></svg></label><div class='xr-var-attrs'><dl class='xr-attrs'><dt><span>description :</span></dt><dd>label of component(s) that grows</dd></dl></div><pre class='xr-var-data'>array([&#x27;D&#x27;, &#x27;P&#x27;], dtype=&#x27;&lt;U1&#x27;)</pre></li><li class='xr-var-item'><div class='xr-var-name'><span>Sinking__kappa</span></div><div class='xr-var-dims'>()</div><div class='xr-var-dtype'>float64</div><div class='xr-var-preview xr-preview'>0.1</div><input id='attrs-5ef21039-ea47-4974-87e6-c67f23c8e9cd' class='xr-var-attrs-in' type='checkbox' ><label for='attrs-5ef21039-ea47-4974-87e6-c67f23c8e9cd' title='Show/Hide attributes'><svg class='icon xr-icon-file-text2'><use xlink:href='#icon-file-text2'></use></svg></label><input id='data-5c2d769b-08cf-433d-b4b5-cbecbc1a2aa0' class='xr-var-data-in' type='checkbox'><label for='data-5c2d769b-08cf-433d-b4b5-cbecbc1a2aa0' title='Show/Hide data repr'><svg class='icon xr-icon-database'><use xlink:href='#icon-database'></use></svg></label><div class='xr-var-attrs'><dl class='xr-attrs'><dt><span>description :</span></dt><dd>constant mixing coefficient</dd><dt><span>_FillValue :</span></dt><dd>nan</dd></dl></div><pre class='xr-var-data'>array(0.1)</pre></li><li class='xr-var-item'><div class='xr-var-name'><span>Upwelling__C_labels</span></div><div class='xr-var-dims'>(u)</div><div class='xr-var-dtype'>&lt;U1</div><div class='xr-var-preview xr-preview'>&#x27;N&#x27;</div><input id='attrs-93b47594-6c42-4890-91c5-4e2c885f3b16' class='xr-var-attrs-in' type='checkbox' ><label for='attrs-93b47594-6c42-4890-91c5-4e2c885f3b16' title='Show/Hide attributes'><svg class='icon xr-icon-file-text2'><use xlink:href='#icon-file-text2'></use></svg></label><input id='data-47a8c5c4-56d4-4892-baaf-4eb7f3dd5dcc' class='xr-var-data-in' type='checkbox'><label for='data-47a8c5c4-56d4-4892-baaf-4eb7f3dd5dcc' title='Show/Hide data repr'><svg class='icon xr-icon-database'><use xlink:href='#icon-database'></use></svg></label><div class='xr-var-attrs'><dl class='xr-attrs'><dt><span>description :</span></dt><dd>label of component(s) that grows</dd></dl></div><pre class='xr-var-data'>array([&#x27;N&#x27;], dtype=&#x27;&lt;U1&#x27;)</pre></li><li class='xr-var-item'><div class='xr-var-name'><span>Upwelling__kappa</span></div><div class='xr-var-dims'>()</div><div class='xr-var-dtype'>float64</div><div class='xr-var-preview xr-preview'>0.1</div><input id='attrs-ad88b374-4c41-4cb5-bc31-416b6c0e7fcf' class='xr-var-attrs-in' type='checkbox' ><label for='attrs-ad88b374-4c41-4cb5-bc31-416b6c0e7fcf' title='Show/Hide attributes'><svg class='icon xr-icon-file-text2'><use xlink:href='#icon-file-text2'></use></svg></label><input id='data-7e4d8280-7014-4936-83f5-59dbb1efebfd' class='xr-var-data-in' type='checkbox'><label for='data-7e4d8280-7014-4936-83f5-59dbb1efebfd' title='Show/Hide data repr'><svg class='icon xr-icon-database'><use xlink:href='#icon-database'></use></svg></label><div class='xr-var-attrs'><dl class='xr-attrs'><dt><span>description :</span></dt><dd>constant mixing coefficient</dd><dt><span>_FillValue :</span></dt><dd>nan</dd></dl></div><pre class='xr-var-data'>array(0.1)</pre></li><li class='xr-var-item'><div class='xr-var-name'><span>Z_LinMortality__C_labels</span></div><div class='xr-var-dims'>(m)</div><div class='xr-var-dtype'>&lt;U1</div><div class='xr-var-preview xr-preview'>&#x27;Z&#x27;</div><input id='attrs-1dded53b-4bbd-49d6-ae02-0855b279d9e2' class='xr-var-attrs-in' type='checkbox' ><label for='attrs-1dded53b-4bbd-49d6-ae02-0855b279d9e2' title='Show/Hide attributes'><svg class='icon xr-icon-file-text2'><use xlink:href='#icon-file-text2'></use></svg></label><input id='data-0b64df16-2de8-4a73-893f-bae99fc0ac1f' class='xr-var-data-in' type='checkbox'><label for='data-0b64df16-2de8-4a73-893f-bae99fc0ac1f' title='Show/Hide data repr'><svg class='icon xr-icon-database'><use xlink:href='#icon-database'></use></svg></label><div class='xr-var-attrs'><dl class='xr-attrs'><dt><span>description :</span></dt><dd>label of component(s) that grows</dd></dl></div><pre class='xr-var-data'>array([&#x27;Z&#x27;], dtype=&#x27;&lt;U1&#x27;)</pre></li><li class='xr-var-item'><div class='xr-var-name'><span>Z_LinMortality__mortality_rate</span></div><div class='xr-var-dims'>()</div><div class='xr-var-dtype'>float64</div><div class='xr-var-preview xr-preview'>0.1</div><input id='attrs-6bdafd79-1cf4-4d50-9840-8770d0648d4e' class='xr-var-attrs-in' type='checkbox' ><label for='attrs-6bdafd79-1cf4-4d50-9840-8770d0648d4e' title='Show/Hide attributes'><svg class='icon xr-icon-file-text2'><use xlink:href='#icon-file-text2'></use></svg></label><input id='data-474d6801-40be-4fa9-b8c8-02faf7fea61e' class='xr-var-data-in' type='checkbox'><label for='data-474d6801-40be-4fa9-b8c8-02faf7fea61e' title='Show/Hide data repr'><svg class='icon xr-icon-database'><use xlink:href='#icon-database'></use></svg></label><div class='xr-var-attrs'><dl class='xr-attrs'><dt><span>description :</span></dt><dd>mortality rate of component</dd><dt><span>_FillValue :</span></dt><dd>nan</dd></dl></div><pre class='xr-var-data'>array(0.1)</pre></li><li class='xr-var-item'><div class='xr-var-name'><span>Z__dim</span></div><div class='xr-var-dims'>()</div><div class='xr-var-dtype'>int64</div><div class='xr-var-preview xr-preview'>1</div><input id='attrs-4634fa98-141f-4b8d-bb19-708aeacba71e' class='xr-var-attrs-in' type='checkbox' disabled><label for='attrs-4634fa98-141f-4b8d-bb19-708aeacba71e' title='Show/Hide attributes'><svg class='icon xr-icon-file-text2'><use xlink:href='#icon-file-text2'></use></svg></label><input id='data-5a265605-efe1-4201-b8e5-be576cc24098' class='xr-var-data-in' type='checkbox'><label for='data-5a265605-efe1-4201-b8e5-be576cc24098' title='Show/Hide data repr'><svg class='icon xr-icon-database'><use xlink:href='#icon-database'></use></svg></label><div class='xr-var-attrs'><dl class='xr-attrs'></dl></div><pre class='xr-var-data'>array(1)</pre></li><li class='xr-var-item'><div class='xr-var-name'><span>Z__init</span></div><div class='xr-var-dims'>()</div><div class='xr-var-dtype'>float64</div><div class='xr-var-preview xr-preview'>0.1</div><input id='attrs-4f74d057-302f-4b2d-839d-e373956c94b8' class='xr-var-attrs-in' type='checkbox' ><label for='attrs-4f74d057-302f-4b2d-839d-e373956c94b8' title='Show/Hide attributes'><svg class='icon xr-icon-file-text2'><use xlink:href='#icon-file-text2'></use></svg></label><input id='data-b18c16e6-c5e5-45bf-b010-c9e543dba611' class='xr-var-data-in' type='checkbox'><label for='data-b18c16e6-c5e5-45bf-b010-c9e543dba611' title='Show/Hide data repr'><svg class='icon xr-icon-database'><use xlink:href='#icon-database'></use></svg></label><div class='xr-var-attrs'><dl class='xr-attrs'><dt><span>_FillValue :</span></dt><dd>nan</dd></dl></div><pre class='xr-var-data'>array(0.1)</pre></li><li class='xr-var-item'><div class='xr-var-name'><span>grid__length</span></div><div class='xr-var-dims'>()</div><div class='xr-var-dtype'>int64</div><div class='xr-var-preview xr-preview'>1</div><input id='attrs-6681c9b5-4f54-4724-a1f9-3b83c06efa61' class='xr-var-attrs-in' type='checkbox' disabled><label for='attrs-6681c9b5-4f54-4724-a1f9-3b83c06efa61' title='Show/Hide attributes'><svg class='icon xr-icon-file-text2'><use xlink:href='#icon-file-text2'></use></svg></label><input id='data-fe9dee0e-f595-4e30-b97b-7f6993a979ff' class='xr-var-data-in' type='checkbox'><label for='data-fe9dee0e-f595-4e30-b97b-7f6993a979ff' title='Show/Hide data repr'><svg class='icon xr-icon-database'><use xlink:href='#icon-database'></use></svg></label><div class='xr-var-attrs'><dl class='xr-attrs'></dl></div><pre class='xr-var-data'>array(1)</pre></li><li class='xr-var-item'><div class='xr-var-name'><span>grid__shape</span></div><div class='xr-var-dims'>()</div><div class='xr-var-dtype'>int64</div><div class='xr-var-preview xr-preview'>1</div><input id='attrs-3087ecc7-8038-4f06-bcba-2ba064951126' class='xr-var-attrs-in' type='checkbox' disabled><label for='attrs-3087ecc7-8038-4f06-bcba-2ba064951126' title='Show/Hide attributes'><svg class='icon xr-icon-file-text2'><use xlink:href='#icon-file-text2'></use></svg></label><input id='data-1ca204c2-185a-412c-8222-0960c4f60fe4' class='xr-var-data-in' type='checkbox'><label for='data-1ca204c2-185a-412c-8222-0960c4f60fe4' title='Show/Hide data repr'><svg class='icon xr-icon-database'><use xlink:href='#icon-database'></use></svg></label><div class='xr-var-attrs'><dl class='xr-attrs'></dl></div><pre class='xr-var-data'>array(1)</pre></li><li class='xr-var-item'><div class='xr-var-name'><span>ibcs__ibc</span></div><div class='xr-var-dims'>()</div><div class='xr-var-dtype'>float64</div><div class='xr-var-preview xr-preview'>nan</div><input id='attrs-487166f0-6e6f-4129-a021-666fdea35eeb' class='xr-var-attrs-in' type='checkbox' ><label for='attrs-487166f0-6e6f-4129-a021-666fdea35eeb' title='Show/Hide attributes'><svg class='icon xr-icon-file-text2'><use xlink:href='#icon-file-text2'></use></svg></label><input id='data-744fdf85-8214-47c0-bc3d-1cd43ed96fe8' class='xr-var-data-in' type='checkbox'><label for='data-744fdf85-8214-47c0-bc3d-1cd43ed96fe8' title='Show/Hide data repr'><svg class='icon xr-icon-database'><use xlink:href='#icon-database'></use></svg></label><div class='xr-var-attrs'><dl class='xr-attrs'><dt><span>description :</span></dt><dd>Initial Boundary Conditions</dd></dl></div><pre class='xr-var-data'>array(nan)</pre></li><li class='xr-var-item'><div class='xr-var-name'><span>time__days</span></div><div class='xr-var-dims'>(time)</div><div class='xr-var-dtype'>int64</div><div class='xr-var-preview xr-preview'>0 1 2 3 4 ... 1091 1092 1093 1094</div><input id='attrs-1b258103-2fe6-4b9d-8609-ca86e35d61d5' class='xr-var-attrs-in' type='checkbox' ><label for='attrs-1b258103-2fe6-4b9d-8609-ca86e35d61d5' title='Show/Hide attributes'><svg class='icon xr-icon-file-text2'><use xlink:href='#icon-file-text2'></use></svg></label><input id='data-91395f7a-6958-4b41-876e-d48cbde0220d' class='xr-var-data-in' type='checkbox'><label for='data-91395f7a-6958-4b41-876e-d48cbde0220d' title='Show/Hide data repr'><svg class='icon xr-icon-database'><use xlink:href='#icon-database'></use></svg></label><div class='xr-var-attrs'><dl class='xr-attrs'><dt><span>description :</span></dt><dd>time in days</dd></dl></div><pre class='xr-var-data'>array([   0,    1,    2, ..., 1092, 1093, 1094])</pre></li></ul></div></li><li class='xr-section-item'><input id='section-7619c159-b57c-41eb-b461-6d19fc549398' class='xr-section-summary-in' type='checkbox' disabled ><label for='section-7619c159-b57c-41eb-b461-6d19fc549398' class='xr-section-summary'  title='Expand/collapse section'>Attributes: <span>(0)</span></label><div class='xr-section-inline-details'></div><div class='xr-section-details'><dl class='xr-attrs'></dl></div></li></ul></div></div>"
      ],
      "text/plain": [
       "<xarray.Dataset>\n",
       "Dimensions:                         (C: 1, D: 1, G: 1, M: 1, N: 1, P: 1, R: 2, S: 2, U: 1, X: 2, Z: 1, clock: 2, components: 4, fluxes: 4, forcingfluxes: 4, m: 1, s: 2, time: 1095, u: 1)\n",
       "Coordinates:\n",
       "  * D                               (D) <U1 'D'\n",
       "  * G                               (G) <U14 'P_Growth-N-2-P'\n",
       "  * M                               (M) <U16 'P_LinMortality-P'\n",
       "  * N                               (N) <U1 'N'\n",
       "  * P                               (P) <U1 'P'\n",
       "  * S                               (S) <U9 'Sinking-D' 'Sinking-P'\n",
       "  * U                               (U) <U11 'Upwelling-N'\n",
       "  * X                               (X) <U13 'Grazing-P-2-Z' 'Grazing-D-2-Z'\n",
       "  * Z                               (Z) <U1 'Z'\n",
       "  * clock                           (clock) int64 0 1\n",
       "  * components                      (components) <U1 'N' 'P' 'Z' 'D'\n",
       "  * fluxes                          (fluxes) <U20 'Grazing-P-2-Z' ... 'P_Growth-N-2-P'\n",
       "  * forcingfluxes                   (forcingfluxes) <U16 'Upwelling-N' ... 'Z_LinMortality-Z'\n",
       "  * time                            (time) int64 0 1 2 3 ... 1091 1092 1093 1094\n",
       "Dimensions without coordinates: C, R, m, s, u\n",
       "Data variables:\n",
       "    D__dim                          int64 1\n",
       "    D__init                         float64 0.1\n",
       "    Env__comp_output                (components, time) float64 1.0 ... 8.298e-24\n",
       "    Env__flux_output                (fluxes, time) float64 0.0002 ... 0.01627\n",
       "    Env__fxflux_output              (forcingfluxes, time) float64 0.008279 ... -0.007508\n",
       "    Grazing__C_labels               (C) <U1 'Z'\n",
       "    Grazing__R_labels               (R) <U1 'P' 'D'\n",
       "    Grazing__grazing_rate           float64 0.1\n",
       "    Grazing__halfsat                float64 1.0\n",
       "    N0__constant_N0                 float64 2.0\n",
       "    N__dim                          int64 1\n",
       "    N__init                         int64 1\n",
       "    P_Growth__C_label               <U1 'P'\n",
       "    P_Growth__R_label               <U1 'N'\n",
       "    P_Growth__halfsat               float64 2.5\n",
       "    P_Growth__mu                    float64 1.0\n",
       "    P_LinMortality__C_label         <U1 'D'\n",
       "    P_LinMortality__R_label         <U1 'P'\n",
       "    P_LinMortality__mortality_rate  float64 0.0\n",
       "    P__dim                          int64 1\n",
       "    P__init                         float64 0.1\n",
       "    Sinking__C_labels               (s) <U1 'D' 'P'\n",
       "    Sinking__kappa                  float64 0.1\n",
       "    Upwelling__C_labels             (u) <U1 'N'\n",
       "    Upwelling__kappa                float64 0.1\n",
       "    Z_LinMortality__C_labels        (m) <U1 'Z'\n",
       "    Z_LinMortality__mortality_rate  float64 0.1\n",
       "    Z__dim                          int64 1\n",
       "    Z__init                         float64 0.1\n",
       "    grid__length                    int64 1\n",
       "    grid__shape                     int64 1\n",
       "    ibcs__ibc                       float64 nan\n",
       "    time__days                      (time) int64 0 1 2 3 ... 1091 1092 1093 1094"
      ]
     },
     "execution_count": 10,
     "metadata": {},
     "output_type": "execute_result"
    }
   ],
   "source": [
    "out_ds"
   ]
  },
  {
   "cell_type": "code",
   "execution_count": 11,
   "metadata": {
    "collapsed": false,
    "jupyter": {
     "outputs_hidden": false
    },
    "pycharm": {
     "is_executing": false,
     "name": "#%%\n"
    }
   },
   "outputs": [
    {
     "data": {
      "text/plain": [
       "[<matplotlib.lines.Line2D at 0x1200d0f10>,\n",
       " <matplotlib.lines.Line2D at 0x1200e5070>,\n",
       " <matplotlib.lines.Line2D at 0x1200e5130>,\n",
       " <matplotlib.lines.Line2D at 0x1200e51f0>]"
      ]
     },
     "execution_count": 11,
     "metadata": {},
     "output_type": "execute_result"
    },
    {
     "data": {
      "image/png": "[encoded data removed]",
      "text/plain": [
       "<Figure size 432x288 with 1 Axes>"
      ]
     },
     "metadata": {
      "needs_background": "light"
     },
     "output_type": "display_data"
    }
   ],
   "source": [
    "out_ds.Env__comp_output.plot.line(x='time')"
   ]
  },
  {
   "cell_type": "code",
   "execution_count": 12,
   "metadata": {},
   "outputs": [
    {
     "data": {
      "text/plain": [
       "[<matplotlib.lines.Line2D at 0x12019c700>,\n",
       " <matplotlib.lines.Line2D at 0x12019c820>,\n",
       " <matplotlib.lines.Line2D at 0x12019c8e0>,\n",
       " <matplotlib.lines.Line2D at 0x12019c9a0>]"
      ]
     },
     "execution_count": 12,
     "metadata": {},
     "output_type": "execute_result"
    },
    {
     "data": {
      "image/png": "[encoded data removed]",
      "text/plain": [
       "<Figure size 432x288 with 1 Axes>"
      ]
     },
     "metadata": {
      "needs_background": "light"
     },
     "output_type": "display_data"
    }
   ],
   "source": [
    "out_ds.Env__flux_output.plot.line(x='time')"
   ]
  },
  {
   "cell_type": "code",
   "execution_count": 13,
   "metadata": {},
   "outputs": [
    {
     "data": {
      "text/plain": [
       "[<matplotlib.lines.Line2D at 0x1201ed340>,\n",
       " <matplotlib.lines.Line2D at 0x1201ed0a0>,\n",
       " <matplotlib.lines.Line2D at 0x1201ed760>,\n",
       " <matplotlib.lines.Line2D at 0x120120430>]"
      ]
     },
     "execution_count": 13,
     "metadata": {},
     "output_type": "execute_result"
    },
    {
     "data": {
      "image/png": "[encoded data removed]",
      "text/plain": [
       "<Figure size 432x288 with 1 Axes>"
      ]
     },
     "metadata": {
      "needs_background": "light"
     },
     "output_type": "display_data"
    }
   ],
   "source": [
    "out_ds.Env__fxflux_output.plot.line(x='time')"
   ]
  },
  {
   "cell_type": "code",
   "execution_count": null,
   "metadata": {},
   "outputs": [],
   "source": []
  }
 ],
 "metadata": {
  "kernelspec": {
   "display_name": "Python 3",
   "language": "python",
   "name": "python3"
  },
  "language_info": {
   "codemirror_mode": {
    "name": "ipython",
    "version": 3
   },
   "file_extension": ".py",
   "mimetype": "text/x-python",
   "name": "python",
   "nbconvert_exporter": "python",
   "pygments_lexer": "ipython3",
   "version": "3.8.3"
  }
 },
 "nbformat": 4,
 "nbformat_minor": 4
}
