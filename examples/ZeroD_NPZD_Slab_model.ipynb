{
 "cells": [
  {
   "cell_type": "markdown",
   "metadata": {},
   "source": [
    "# NPZD slab model\n",
    "\n",
    "For the first model example I will need:\n",
    "- Forcing input\n",
    "- Forcing_fluxes:\n",
    "    - mixing\n",
    "    - sinking\n",
    "- 4 components (single) N, P, Z, D\n",
    "- Fluxes:\n",
    "TODO: GO OVER THE equations! Base model structure in math!\n",
    "    - Grazing - linked to all NPZD\n",
    "    - PhytoplanktonGrowth\n",
    "        - Light - Dependence\n",
    "        - Nutrients - Dependence\n",
    "        - Temp - Dependence\n",
    "    - mortality\n",
    "    - remineralisation\n",
    "    - higher order pred, etc"
   ]
  },
  {
   "cell_type": "raw",
   "metadata": {},
   "source": [
    "N = Mixing(N0-N)+LeakyGrazing(P,D)+Remin(D)-Growth(P)\n",
    "P = Growth(P)-Mortality(P)-QuadMort(P)-Grazing(P)-Mixing(P)\n",
    "Z = Grazing(P,D)-Mortality(Z)-QuadMort(Z)-Mixing(Z)\n",
    "D = Mortality(P)+QuadMort(P)+Mortality(Z)+SloppyGrazing(P,D)-Grazing(D)-Remin(D)-Mixing(D)-Sinking(D)\n",
    "\n",
    "Mixing\n",
    "Growth(Light,Temp,Nut)\n",
    "Mortality, QuadMort\n",
    "Grazing + LeakyGrazing + SloppyGrazing\n",
    "Remin\n",
    "Sinking"
   ]
  },
  {
   "cell_type": "code",
   "execution_count": 1,
   "metadata": {},
   "outputs": [],
   "source": [
    "import numpy as np\n",
    "import xsimlab as xs"
   ]
  },
  {
   "cell_type": "code",
   "execution_count": 2,
   "metadata": {},
   "outputs": [],
   "source": [
    "import os,sys,inspect\n",
    "sys.path.insert(1, os.path.join(sys.path[0], '..'))\n",
    "\n",
    "import phydra\n",
    "\n",
    "\n",
    "from phydra.utility.xsimlabwrappers import phydra_setup"
   ]
  },
  {
   "cell_type": "code",
   "execution_count": 3,
   "metadata": {},
   "outputs": [],
   "source": [
    "from phydra.processes.main import Grid0D, Boundary0D\n",
    "from phydra.processes.components import Component, Time, make_Component\n",
    "from phydra.processes.environments import BaseEnvironment, Slab\n",
    "from phydra.processes.fluxes import BaseFlux, LimitedGrowth, LinearMortality, make_flux\n",
    "from phydra.processes.forcingfluxes import Mixing, Sinking, Upwelling, make_FX_flux\n",
    "from phydra.processes.forcing import SinusoidalMLD, ConstantN0\n",
    "from phydra.processes.gekkocontext import GekkoContext, GekkoSolve, InheritGekkoContext"
   ]
  },
  {
   "cell_type": "code",
   "execution_count": 4,
   "metadata": {},
   "outputs": [],
   "source": [
    "from phydra.processes.forcing import NutrientForcing, MLDForcing"
   ]
  },
  {
   "cell_type": "code",
   "execution_count": 5,
   "metadata": {},
   "outputs": [
    {
     "name": "stdout",
     "output_type": "stream",
     "text": [
      "xarray-simlab version:  0.4.1\n",
      "phydra version:  0+untagged.74.gac3e6c8.dirty\n"
     ]
    }
   ],
   "source": [
    "print('xarray-simlab version: ', xs.__version__)\n",
    "print('phydra version: ', phydra.__version__)"
   ]
  },
  {
   "cell_type": "code",
   "execution_count": 6,
   "metadata": {},
   "outputs": [
    {
     "data": {
      "text/plain": [
       "<xsimlab.Model (16 processes, 24 inputs)>\n",
       "context\n",
       "time\n",
       "    days               [in] ('time',) time in days\n",
       "grid\n",
       "    shape              [in]\n",
       "    length             [in]\n",
       "ibcs\n",
       "    ibc                [in] Initial Boundary Conditions\n",
       "N\n",
       "    init               [in]\n",
       "    dim                [in]\n",
       "P\n",
       "    init               [in]\n",
       "    dim                [in]\n",
       "Z\n",
       "    init               [in]\n",
       "    dim                [in]\n",
       "D\n",
       "    init               [in]\n",
       "    dim                [in]\n",
       "P_Growth\n",
       "    halfsat            [in] half-saturation constant of nutrient up...\n",
       "    mu                 [in] Maximum growth rate of component\n",
       "    R_label            [in] label of ressource component that is co...\n",
       "    C_label            [in] label of component that grows\n",
       "N0\n",
       "    constant_N0        [in] value of the constant Nutrient forcing\n",
       "MLD\n",
       "Sinking\n",
       "    C_labels           [in] s label of component(s) that grows\n",
       "    kappa              [in] constant mixing coefficient\n",
       "P_LinMortality\n",
       "    R_label            [in] label of component that experiences mor...\n",
       "    C_label            [in] label of component that mortality feeds...\n",
       "    mortality_rate     [in] mortality rate of component\n",
       "Upwelling\n",
       "    kappa              [in] constant mixing coefficient\n",
       "    C_labels           [in] u label of component(s) that grows\n",
       "Env\n",
       "solver"
      ]
     },
     "execution_count": 6,
     "metadata": {},
     "output_type": "execute_result"
    }
   ],
   "source": [
    "model = xs.Model({\n",
    "    'time':Time, 'grid':Grid0D, 'ibcs':Boundary0D, \n",
    "    \n",
    "    'context':GekkoContext,\n",
    "                  \n",
    "    'N':make_Component('Nutrient','N'), 'P':make_Component('Phytoplankton','P'),\n",
    "    'Z':make_Component('Zooplankton','Z'), 'D':make_Component('Detritus','D'),\n",
    "    'Env':Slab, \n",
    "    \n",
    "    # Fluxes\n",
    "    'P_Growth':make_flux(LimitedGrowth, 'G'), \n",
    "    'P_LinMortality':make_flux(LinearMortality, 'M'), \n",
    "    \n",
    "    # ForcingFluxes\n",
    "    'Sinking':make_FX_flux(Sinking, 'S'),\n",
    "    'Upwelling':make_FX_flux(Upwelling, 'U'),\n",
    "    \n",
    "    'MLD':SinusoidalMLD, \n",
    "    'N0':ConstantN0, \n",
    "    \n",
    "    'solver':GekkoSolve\n",
    "})\n",
    "\n",
    "model"
   ]
  },
  {
   "cell_type": "code",
   "execution_count": 7,
   "metadata": {},
   "outputs": [
    {
     "data": {
      "text/plain": [
       "[('time', 'time'),\n",
       " ('N', 'N'),\n",
       " ('P', 'P'),\n",
       " ('Z', 'Z'),\n",
       " ('D', 'D'),\n",
       " ('Env', 'components'),\n",
       " ('Env', 'fluxes'),\n",
       " ('Env', 'forcingfluxes'),\n",
       " ('P_Growth', 'G'),\n",
       " ('P_LinMortality', 'M'),\n",
       " ('Sinking', 'S'),\n",
       " ('Upwelling', 'U')]"
      ]
     },
     "execution_count": 7,
     "metadata": {},
     "output_type": "execute_result"
    }
   ],
   "source": [
    "model.index_vars \n"
   ]
  },
  {
   "cell_type": "code",
   "execution_count": 8,
   "metadata": {
    "collapsed": false,
    "jupyter": {
     "outputs_hidden": false
    },
    "pycharm": {
     "is_executing": false,
     "name": "#%%\n"
    }
   },
   "outputs": [],
   "source": [
    "in_ds = phydra_setup(\n",
    "    model=model,\n",
    "    input_vars={\n",
    "        'time__days': ('time', np.arange(0, 365*3)), #365*\n",
    "        \n",
    "        'N':{'dim':1,'init':1}, \n",
    "        'P':{'dim':1,'init':.1},\n",
    "        'Z':{'dim':1,'init':0},\n",
    "        'D':{'dim':1,'init':0},\n",
    "        \n",
    "        'P_Growth':{'mu':1.,\n",
    "               'R_label':'N',\n",
    "               'C_label':'P', \n",
    "               'halfsat':0.5},\n",
    "        \n",
    "        'P_LinMortality':{'mortality_rate':0.1,\n",
    "               'R_label':'P',\n",
    "               'C_label':'D'},\n",
    "        \n",
    "        'Sinking':{'kappa':0.1,\n",
    "               'C_labels':['D','P']},\n",
    "        \n",
    "        'Upwelling':{'kappa':0.1,\n",
    "               'C_labels':['N']},\n",
    "        \n",
    "        'N0__constant_N0':2.\n",
    "    },\n",
    "    output_vars={\n",
    "        'Env__comp_output':None,\n",
    "        'Env__flux_output':None,\n",
    "        'Env__fxflux_output':None\n",
    "    }\n",
    "                 )"
   ]
  },
  {
   "cell_type": "code",
   "execution_count": 9,
   "metadata": {
    "collapsed": false,
    "jupyter": {
     "outputs_hidden": false
    },
    "pycharm": {
     "is_executing": false,
     "name": "#%%\n"
    }
   },
   "outputs": [
    {
     "name": "stdout",
     "output_type": "stream",
     "text": [
      "Initializing Gekko Context\n",
      "Initializing Model Time\n",
      "dimensions of component N are initialized at 1\n",
      "Initializing component  N ['N']\n",
      "FULLDIMS [[0.]]\n",
      "[[1]]\n",
      "dimensions of component P are initialized at 1\n",
      "Initializing component  P ['P']\n",
      "FULLDIMS [[0.]]\n",
      "[[0.1]]\n",
      "dimensions of component Z are initialized at 1\n",
      "Initializing component  Z ['Z']\n",
      "FULLDIMS [[0.]]\n",
      "[[0]]\n",
      "dimensions of component D are initialized at 1\n",
      "Initializing component  D ['D']\n",
      "FULLDIMS [[0.]]\n",
      "[[0]]\n",
      "flux P_Growth is initialized for N --> P\n",
      "Initializing flux: P_Growth-N2P\n",
      "forcing flux Sinking is initialized at ['D' 'P']\n",
      "Initializing forcing flux Sinking for components ['D' 'P']\n",
      "flux P_LinMortality is initialized for P --> D\n",
      "Initializing flux: P_LinMortality-P2D\n",
      "forcing flux Upwelling is initialized at ['N']\n",
      "Initializing forcing flux Upwelling for components ['N']\n",
      "\n",
      "\n",
      "Initializing Environment: \n",
      " components:['N', 'P', 'Z', 'D'] \n",
      " fluxes:['P_Growth-N-2-P', 'P_LinMortality-P-2-D'] \n",
      " fx-fluxes:['Sinking-D', 'Sinking-P', 'Upwelling-N']\n",
      "\n",
      "\n",
      "Assembling equation for component  N [[list([(-i1), 0])]]\n",
      "Assembling equation for component  P [[list([0, 0, (-i16)])]]\n",
      "Assembling equation for component  Z [[list([])]]\n",
      "Assembling equation for component  D [[list([0, 0])]]\n",
      "SolveInit\n",
      "ModelSolve done in 0.19 seconds\n",
      "Storing output for component  N\n",
      "Storing output for component  P\n",
      "Storing output for component  Z\n",
      "Storing output for component  D\n",
      "storing flux: P_Growth-N2P\n",
      "storing flux to output:  Sinking\n",
      "storing flux: P_LinMortality-P2D\n",
      "storing flux to output:  Upwelling\n"
     ]
    }
   ],
   "source": [
    "with model:\n",
    "    out_ds = in_ds.xsimlab.run()"
   ]
  },
  {
   "cell_type": "code",
   "execution_count": 10,
   "metadata": {
    "collapsed": false,
    "jupyter": {
     "outputs_hidden": false
    },
    "pycharm": {
     "is_executing": false,
     "name": "#%%\n"
    }
   },
   "outputs": [
    {
     "data": {
      "text/html": [
       "<div><svg style=\"position: absolute; width: 0; height: 0; overflow: hidden\">\n",
       "<defs>\n",
       "<symbol id=\"icon-database\" viewBox=\"0 0 32 32\">\n",
       "<title>Show/Hide data repr</title>\n",
       "<path d=\"M16 0c-8.837 0-16 2.239-16 5v4c0 2.761 7.163 5 16 5s16-2.239 16-5v-4c0-2.761-7.163-5-16-5z\"></path>\n",
       "<path d=\"M16 17c-8.837 0-16-2.239-16-5v6c0 2.761 7.163 5 16 5s16-2.239 16-5v-6c0 2.761-7.163 5-16 5z\"></path>\n",
       "<path d=\"M16 26c-8.837 0-16-2.239-16-5v6c0 2.761 7.163 5 16 5s16-2.239 16-5v-6c0 2.761-7.163 5-16 5z\"></path>\n",
       "</symbol>\n",
       "<symbol id=\"icon-file-text2\" viewBox=\"0 0 32 32\">\n",
       "<title>Show/Hide attributes</title>\n",
       "<path d=\"M28.681 7.159c-0.694-0.947-1.662-2.053-2.724-3.116s-2.169-2.030-3.116-2.724c-1.612-1.182-2.393-1.319-2.841-1.319h-15.5c-1.378 0-2.5 1.121-2.5 2.5v27c0 1.378 1.122 2.5 2.5 2.5h23c1.378 0 2.5-1.122 2.5-2.5v-19.5c0-0.448-0.137-1.23-1.319-2.841zM24.543 5.457c0.959 0.959 1.712 1.825 2.268 2.543h-4.811v-4.811c0.718 0.556 1.584 1.309 2.543 2.268zM28 29.5c0 0.271-0.229 0.5-0.5 0.5h-23c-0.271 0-0.5-0.229-0.5-0.5v-27c0-0.271 0.229-0.5 0.5-0.5 0 0 15.499-0 15.5 0v7c0 0.552 0.448 1 1 1h7v19.5z\"></path>\n",
       "<path d=\"M23 26h-14c-0.552 0-1-0.448-1-1s0.448-1 1-1h14c0.552 0 1 0.448 1 1s-0.448 1-1 1z\"></path>\n",
       "<path d=\"M23 22h-14c-0.552 0-1-0.448-1-1s0.448-1 1-1h14c0.552 0 1 0.448 1 1s-0.448 1-1 1z\"></path>\n",
       "<path d=\"M23 18h-14c-0.552 0-1-0.448-1-1s0.448-1 1-1h14c0.552 0 1 0.448 1 1s-0.448 1-1 1z\"></path>\n",
       "</symbol>\n",
       "</defs>\n",
       "</svg>\n",
       "<style>/* CSS stylesheet for displaying xarray objects in jupyterlab.\n",
       " *\n",
       " */\n",
       "\n",
       ":root {\n",
       "  --xr-font-color0: var(--jp-content-font-color0, rgba(0, 0, 0, 1));\n",
       "  --xr-font-color2: var(--jp-content-font-color2, rgba(0, 0, 0, 0.54));\n",
       "  --xr-font-color3: var(--jp-content-font-color3, rgba(0, 0, 0, 0.38));\n",
       "  --xr-border-color: var(--jp-border-color2, #e0e0e0);\n",
       "  --xr-disabled-color: var(--jp-layout-color3, #bdbdbd);\n",
       "  --xr-background-color: var(--jp-layout-color0, white);\n",
       "  --xr-background-color-row-even: var(--jp-layout-color1, white);\n",
       "  --xr-background-color-row-odd: var(--jp-layout-color2, #eeeeee);\n",
       "}\n",
       "\n",
       ".xr-wrap {\n",
       "  min-width: 300px;\n",
       "  max-width: 700px;\n",
       "}\n",
       "\n",
       ".xr-header {\n",
       "  padding-top: 6px;\n",
       "  padding-bottom: 6px;\n",
       "  margin-bottom: 4px;\n",
       "  border-bottom: solid 1px var(--xr-border-color);\n",
       "}\n",
       "\n",
       ".xr-header > div,\n",
       ".xr-header > ul {\n",
       "  display: inline;\n",
       "  margin-top: 0;\n",
       "  margin-bottom: 0;\n",
       "}\n",
       "\n",
       ".xr-obj-type,\n",
       ".xr-array-name {\n",
       "  margin-left: 2px;\n",
       "  margin-right: 10px;\n",
       "}\n",
       "\n",
       ".xr-obj-type {\n",
       "  color: var(--xr-font-color2);\n",
       "}\n",
       "\n",
       ".xr-sections {\n",
       "  padding-left: 0 !important;\n",
       "  display: grid;\n",
       "  grid-template-columns: 150px auto auto 1fr 20px 20px;\n",
       "}\n",
       "\n",
       ".xr-section-item {\n",
       "  display: contents;\n",
       "}\n",
       "\n",
       ".xr-section-item input {\n",
       "  display: none;\n",
       "}\n",
       "\n",
       ".xr-section-item input + label {\n",
       "  color: var(--xr-disabled-color);\n",
       "}\n",
       "\n",
       ".xr-section-item input:enabled + label {\n",
       "  cursor: pointer;\n",
       "  color: var(--xr-font-color2);\n",
       "}\n",
       "\n",
       ".xr-section-item input:enabled + label:hover {\n",
       "  color: var(--xr-font-color0);\n",
       "}\n",
       "\n",
       ".xr-section-summary {\n",
       "  grid-column: 1;\n",
       "  color: var(--xr-font-color2);\n",
       "  font-weight: 500;\n",
       "}\n",
       "\n",
       ".xr-section-summary > span {\n",
       "  display: inline-block;\n",
       "  padding-left: 0.5em;\n",
       "}\n",
       "\n",
       ".xr-section-summary-in:disabled + label {\n",
       "  color: var(--xr-font-color2);\n",
       "}\n",
       "\n",
       ".xr-section-summary-in + label:before {\n",
       "  display: inline-block;\n",
       "  content: '►';\n",
       "  font-size: 11px;\n",
       "  width: 15px;\n",
       "  text-align: center;\n",
       "}\n",
       "\n",
       ".xr-section-summary-in:disabled + label:before {\n",
       "  color: var(--xr-disabled-color);\n",
       "}\n",
       "\n",
       ".xr-section-summary-in:checked + label:before {\n",
       "  content: '▼';\n",
       "}\n",
       "\n",
       ".xr-section-summary-in:checked + label > span {\n",
       "  display: none;\n",
       "}\n",
       "\n",
       ".xr-section-summary,\n",
       ".xr-section-inline-details {\n",
       "  padding-top: 4px;\n",
       "  padding-bottom: 4px;\n",
       "}\n",
       "\n",
       ".xr-section-inline-details {\n",
       "  grid-column: 2 / -1;\n",
       "}\n",
       "\n",
       ".xr-section-details {\n",
       "  display: none;\n",
       "  grid-column: 1 / -1;\n",
       "  margin-bottom: 5px;\n",
       "}\n",
       "\n",
       ".xr-section-summary-in:checked ~ .xr-section-details {\n",
       "  display: contents;\n",
       "}\n",
       "\n",
       ".xr-array-wrap {\n",
       "  grid-column: 1 / -1;\n",
       "  display: grid;\n",
       "  grid-template-columns: 20px auto;\n",
       "}\n",
       "\n",
       ".xr-array-wrap > label {\n",
       "  grid-column: 1;\n",
       "  vertical-align: top;\n",
       "}\n",
       "\n",
       ".xr-preview {\n",
       "  color: var(--xr-font-color3);\n",
       "}\n",
       "\n",
       ".xr-array-preview,\n",
       ".xr-array-data {\n",
       "  padding: 0 5px !important;\n",
       "  grid-column: 2;\n",
       "}\n",
       "\n",
       ".xr-array-data,\n",
       ".xr-array-in:checked ~ .xr-array-preview {\n",
       "  display: none;\n",
       "}\n",
       "\n",
       ".xr-array-in:checked ~ .xr-array-data,\n",
       ".xr-array-preview {\n",
       "  display: inline-block;\n",
       "}\n",
       "\n",
       ".xr-dim-list {\n",
       "  display: inline-block !important;\n",
       "  list-style: none;\n",
       "  padding: 0 !important;\n",
       "  margin: 0;\n",
       "}\n",
       "\n",
       ".xr-dim-list li {\n",
       "  display: inline-block;\n",
       "  padding: 0;\n",
       "  margin: 0;\n",
       "}\n",
       "\n",
       ".xr-dim-list:before {\n",
       "  content: '(';\n",
       "}\n",
       "\n",
       ".xr-dim-list:after {\n",
       "  content: ')';\n",
       "}\n",
       "\n",
       ".xr-dim-list li:not(:last-child):after {\n",
       "  content: ',';\n",
       "  padding-right: 5px;\n",
       "}\n",
       "\n",
       ".xr-has-index {\n",
       "  font-weight: bold;\n",
       "}\n",
       "\n",
       ".xr-var-list,\n",
       ".xr-var-item {\n",
       "  display: contents;\n",
       "}\n",
       "\n",
       ".xr-var-item > div,\n",
       ".xr-var-item label,\n",
       ".xr-var-item > .xr-var-name span {\n",
       "  background-color: var(--xr-background-color-row-even);\n",
       "  margin-bottom: 0;\n",
       "}\n",
       "\n",
       ".xr-var-item > .xr-var-name:hover span {\n",
       "  padding-right: 5px;\n",
       "}\n",
       "\n",
       ".xr-var-list > li:nth-child(odd) > div,\n",
       ".xr-var-list > li:nth-child(odd) > label,\n",
       ".xr-var-list > li:nth-child(odd) > .xr-var-name span {\n",
       "  background-color: var(--xr-background-color-row-odd);\n",
       "}\n",
       "\n",
       ".xr-var-name {\n",
       "  grid-column: 1;\n",
       "}\n",
       "\n",
       ".xr-var-dims {\n",
       "  grid-column: 2;\n",
       "}\n",
       "\n",
       ".xr-var-dtype {\n",
       "  grid-column: 3;\n",
       "  text-align: right;\n",
       "  color: var(--xr-font-color2);\n",
       "}\n",
       "\n",
       ".xr-var-preview {\n",
       "  grid-column: 4;\n",
       "}\n",
       "\n",
       ".xr-var-name,\n",
       ".xr-var-dims,\n",
       ".xr-var-dtype,\n",
       ".xr-preview,\n",
       ".xr-attrs dt {\n",
       "  white-space: nowrap;\n",
       "  overflow: hidden;\n",
       "  text-overflow: ellipsis;\n",
       "  padding-right: 10px;\n",
       "}\n",
       "\n",
       ".xr-var-name:hover,\n",
       ".xr-var-dims:hover,\n",
       ".xr-var-dtype:hover,\n",
       ".xr-attrs dt:hover {\n",
       "  overflow: visible;\n",
       "  width: auto;\n",
       "  z-index: 1;\n",
       "}\n",
       "\n",
       ".xr-var-attrs,\n",
       ".xr-var-data {\n",
       "  display: none;\n",
       "  background-color: var(--xr-background-color) !important;\n",
       "  padding-bottom: 5px !important;\n",
       "}\n",
       "\n",
       ".xr-var-attrs-in:checked ~ .xr-var-attrs,\n",
       ".xr-var-data-in:checked ~ .xr-var-data {\n",
       "  display: block;\n",
       "}\n",
       "\n",
       ".xr-var-data > table {\n",
       "  float: right;\n",
       "}\n",
       "\n",
       ".xr-var-name span,\n",
       ".xr-var-data,\n",
       ".xr-attrs {\n",
       "  padding-left: 25px !important;\n",
       "}\n",
       "\n",
       ".xr-attrs,\n",
       ".xr-var-attrs,\n",
       ".xr-var-data {\n",
       "  grid-column: 1 / -1;\n",
       "}\n",
       "\n",
       "dl.xr-attrs {\n",
       "  padding: 0;\n",
       "  margin: 0;\n",
       "  display: grid;\n",
       "  grid-template-columns: 125px auto;\n",
       "}\n",
       "\n",
       ".xr-attrs dt, dd {\n",
       "  padding: 0;\n",
       "  margin: 0;\n",
       "  float: left;\n",
       "  padding-right: 10px;\n",
       "  width: auto;\n",
       "}\n",
       "\n",
       ".xr-attrs dt {\n",
       "  font-weight: normal;\n",
       "  grid-column: 1;\n",
       "}\n",
       "\n",
       ".xr-attrs dt:hover span {\n",
       "  display: inline-block;\n",
       "  background: var(--xr-background-color);\n",
       "  padding-right: 10px;\n",
       "}\n",
       "\n",
       ".xr-attrs dd {\n",
       "  grid-column: 2;\n",
       "  white-space: pre-wrap;\n",
       "  word-break: break-all;\n",
       "}\n",
       "\n",
       ".xr-icon-database,\n",
       ".xr-icon-file-text2 {\n",
       "  display: inline-block;\n",
       "  vertical-align: middle;\n",
       "  width: 1em;\n",
       "  height: 1.5em !important;\n",
       "  stroke-width: 0;\n",
       "  stroke: currentColor;\n",
       "  fill: currentColor;\n",
       "}\n",
       "</style><div class='xr-wrap'><div class='xr-header'><div class='xr-obj-type'>xarray.Dataset</div></div><ul class='xr-sections'><li class='xr-section-item'><input id='section-5d9a2b66-34e2-419f-993b-18309fde229f' class='xr-section-summary-in' type='checkbox' disabled ><label for='section-5d9a2b66-34e2-419f-993b-18309fde229f' class='xr-section-summary'  title='Expand/collapse section'>Dimensions:</label><div class='xr-section-inline-details'><ul class='xr-dim-list'><li><span class='xr-has-index'>D</span>: 1</li><li><span class='xr-has-index'>G</span>: 1</li><li><span class='xr-has-index'>M</span>: 1</li><li><span class='xr-has-index'>N</span>: 1</li><li><span class='xr-has-index'>P</span>: 1</li><li><span class='xr-has-index'>S</span>: 2</li><li><span class='xr-has-index'>U</span>: 1</li><li><span class='xr-has-index'>Z</span>: 1</li><li><span class='xr-has-index'>clock</span>: 2</li><li><span class='xr-has-index'>components</span>: 4</li><li><span class='xr-has-index'>fluxes</span>: 2</li><li><span class='xr-has-index'>forcingfluxes</span>: 3</li><li><span>s</span>: 2</li><li><span class='xr-has-index'>time</span>: 1095</li><li><span>u</span>: 1</li></ul></div><div class='xr-section-details'></div></li><li class='xr-section-item'><input id='section-f447198a-a5da-41c9-8430-9ddca75ea5ab' class='xr-section-summary-in' type='checkbox'  checked><label for='section-f447198a-a5da-41c9-8430-9ddca75ea5ab' class='xr-section-summary' >Coordinates: <span>(13)</span></label><div class='xr-section-inline-details'></div><div class='xr-section-details'><ul class='xr-var-list'><li class='xr-var-item'><div class='xr-var-name'><span class='xr-has-index'>D</span></div><div class='xr-var-dims'>(D)</div><div class='xr-var-dtype'>&lt;U1</div><div class='xr-var-preview xr-preview'>&#x27;D&#x27;</div><input id='attrs-87fc3012-d0c3-486f-8ae5-cecfdb33f76a' class='xr-var-attrs-in' type='checkbox' ><label for='attrs-87fc3012-d0c3-486f-8ae5-cecfdb33f76a' title='Show/Hide attributes'><svg class='icon xr-icon-file-text2'><use xlink:href='#icon-file-text2'></use></svg></label><input id='data-cad60dfd-aea1-48d1-bd25-6a3377e8f5da' class='xr-var-data-in' type='checkbox'><label for='data-cad60dfd-aea1-48d1-bd25-6a3377e8f5da' title='Show/Hide data repr'><svg class='icon xr-icon-database'><use xlink:href='#icon-database'></use></svg></label><div class='xr-var-attrs'><dl class='xr-attrs'><dt><span>_FillValue :</span></dt><dd></dd></dl></div><pre class='xr-var-data'>array([&#x27;D&#x27;], dtype=&#x27;&lt;U1&#x27;)</pre></li><li class='xr-var-item'><div class='xr-var-name'><span class='xr-has-index'>G</span></div><div class='xr-var-dims'>(G)</div><div class='xr-var-dtype'>&lt;U14</div><div class='xr-var-preview xr-preview'>&#x27;P_Growth-N-2-P&#x27;</div><input id='attrs-4edc90b9-ad62-4668-8f89-8bdb92124c37' class='xr-var-attrs-in' type='checkbox' ><label for='attrs-4edc90b9-ad62-4668-8f89-8bdb92124c37' title='Show/Hide attributes'><svg class='icon xr-icon-file-text2'><use xlink:href='#icon-file-text2'></use></svg></label><input id='data-66220066-7597-4a32-a458-d973a5b876e9' class='xr-var-data-in' type='checkbox'><label for='data-66220066-7597-4a32-a458-d973a5b876e9' title='Show/Hide data repr'><svg class='icon xr-icon-database'><use xlink:href='#icon-database'></use></svg></label><div class='xr-var-attrs'><dl class='xr-attrs'><dt><span>_FillValue :</span></dt><dd></dd></dl></div><pre class='xr-var-data'>array([&#x27;P_Growth-N-2-P&#x27;], dtype=&#x27;&lt;U14&#x27;)</pre></li><li class='xr-var-item'><div class='xr-var-name'><span class='xr-has-index'>M</span></div><div class='xr-var-dims'>(M)</div><div class='xr-var-dtype'>&lt;U20</div><div class='xr-var-preview xr-preview'>&#x27;P_LinMortality-P-2-D&#x27;</div><input id='attrs-76f00591-582c-429c-a015-966c1616e64a' class='xr-var-attrs-in' type='checkbox' ><label for='attrs-76f00591-582c-429c-a015-966c1616e64a' title='Show/Hide attributes'><svg class='icon xr-icon-file-text2'><use xlink:href='#icon-file-text2'></use></svg></label><input id='data-ad62fb29-89b1-43df-9140-1191a234377e' class='xr-var-data-in' type='checkbox'><label for='data-ad62fb29-89b1-43df-9140-1191a234377e' title='Show/Hide data repr'><svg class='icon xr-icon-database'><use xlink:href='#icon-database'></use></svg></label><div class='xr-var-attrs'><dl class='xr-attrs'><dt><span>_FillValue :</span></dt><dd></dd></dl></div><pre class='xr-var-data'>array([&#x27;P_LinMortality-P-2-D&#x27;], dtype=&#x27;&lt;U20&#x27;)</pre></li><li class='xr-var-item'><div class='xr-var-name'><span class='xr-has-index'>N</span></div><div class='xr-var-dims'>(N)</div><div class='xr-var-dtype'>&lt;U1</div><div class='xr-var-preview xr-preview'>&#x27;N&#x27;</div><input id='attrs-577a636f-d7dd-4ed8-b08d-d4a9d22642a5' class='xr-var-attrs-in' type='checkbox' ><label for='attrs-577a636f-d7dd-4ed8-b08d-d4a9d22642a5' title='Show/Hide attributes'><svg class='icon xr-icon-file-text2'><use xlink:href='#icon-file-text2'></use></svg></label><input id='data-62b95e73-cbd4-4753-aa55-7fb61bc551cc' class='xr-var-data-in' type='checkbox'><label for='data-62b95e73-cbd4-4753-aa55-7fb61bc551cc' title='Show/Hide data repr'><svg class='icon xr-icon-database'><use xlink:href='#icon-database'></use></svg></label><div class='xr-var-attrs'><dl class='xr-attrs'><dt><span>_FillValue :</span></dt><dd></dd></dl></div><pre class='xr-var-data'>array([&#x27;N&#x27;], dtype=&#x27;&lt;U1&#x27;)</pre></li><li class='xr-var-item'><div class='xr-var-name'><span class='xr-has-index'>P</span></div><div class='xr-var-dims'>(P)</div><div class='xr-var-dtype'>&lt;U1</div><div class='xr-var-preview xr-preview'>&#x27;P&#x27;</div><input id='attrs-6eaee45a-8d15-479f-a191-f67d5e69f3fb' class='xr-var-attrs-in' type='checkbox' ><label for='attrs-6eaee45a-8d15-479f-a191-f67d5e69f3fb' title='Show/Hide attributes'><svg class='icon xr-icon-file-text2'><use xlink:href='#icon-file-text2'></use></svg></label><input id='data-168e8dec-6f74-43fa-84b3-a312c1dd4fba' class='xr-var-data-in' type='checkbox'><label for='data-168e8dec-6f74-43fa-84b3-a312c1dd4fba' title='Show/Hide data repr'><svg class='icon xr-icon-database'><use xlink:href='#icon-database'></use></svg></label><div class='xr-var-attrs'><dl class='xr-attrs'><dt><span>_FillValue :</span></dt><dd></dd></dl></div><pre class='xr-var-data'>array([&#x27;P&#x27;], dtype=&#x27;&lt;U1&#x27;)</pre></li><li class='xr-var-item'><div class='xr-var-name'><span class='xr-has-index'>S</span></div><div class='xr-var-dims'>(S)</div><div class='xr-var-dtype'>&lt;U9</div><div class='xr-var-preview xr-preview'>&#x27;Sinking-D&#x27; &#x27;Sinking-P&#x27;</div><input id='attrs-741a3ab7-e18f-4cde-8526-4c0a23df2acb' class='xr-var-attrs-in' type='checkbox' ><label for='attrs-741a3ab7-e18f-4cde-8526-4c0a23df2acb' title='Show/Hide attributes'><svg class='icon xr-icon-file-text2'><use xlink:href='#icon-file-text2'></use></svg></label><input id='data-d40e3098-bed5-43aa-8993-1b2238f66761' class='xr-var-data-in' type='checkbox'><label for='data-d40e3098-bed5-43aa-8993-1b2238f66761' title='Show/Hide data repr'><svg class='icon xr-icon-database'><use xlink:href='#icon-database'></use></svg></label><div class='xr-var-attrs'><dl class='xr-attrs'><dt><span>_FillValue :</span></dt><dd></dd></dl></div><pre class='xr-var-data'>array([&#x27;Sinking-D&#x27;, &#x27;Sinking-P&#x27;], dtype=&#x27;&lt;U9&#x27;)</pre></li><li class='xr-var-item'><div class='xr-var-name'><span class='xr-has-index'>U</span></div><div class='xr-var-dims'>(U)</div><div class='xr-var-dtype'>&lt;U11</div><div class='xr-var-preview xr-preview'>&#x27;Upwelling-N&#x27;</div><input id='attrs-06feb2e1-da1f-447a-b442-274d6bec29e8' class='xr-var-attrs-in' type='checkbox' ><label for='attrs-06feb2e1-da1f-447a-b442-274d6bec29e8' title='Show/Hide attributes'><svg class='icon xr-icon-file-text2'><use xlink:href='#icon-file-text2'></use></svg></label><input id='data-8389fe72-085a-4028-b1b5-616fcfb00484' class='xr-var-data-in' type='checkbox'><label for='data-8389fe72-085a-4028-b1b5-616fcfb00484' title='Show/Hide data repr'><svg class='icon xr-icon-database'><use xlink:href='#icon-database'></use></svg></label><div class='xr-var-attrs'><dl class='xr-attrs'><dt><span>_FillValue :</span></dt><dd></dd></dl></div><pre class='xr-var-data'>array([&#x27;Upwelling-N&#x27;], dtype=&#x27;&lt;U11&#x27;)</pre></li><li class='xr-var-item'><div class='xr-var-name'><span class='xr-has-index'>Z</span></div><div class='xr-var-dims'>(Z)</div><div class='xr-var-dtype'>&lt;U1</div><div class='xr-var-preview xr-preview'>&#x27;Z&#x27;</div><input id='attrs-9821a738-f1ac-4a67-bcd5-51cf2b4e7f9d' class='xr-var-attrs-in' type='checkbox' ><label for='attrs-9821a738-f1ac-4a67-bcd5-51cf2b4e7f9d' title='Show/Hide attributes'><svg class='icon xr-icon-file-text2'><use xlink:href='#icon-file-text2'></use></svg></label><input id='data-0474fc2a-6070-44cc-b31e-a674ff7adbbc' class='xr-var-data-in' type='checkbox'><label for='data-0474fc2a-6070-44cc-b31e-a674ff7adbbc' title='Show/Hide data repr'><svg class='icon xr-icon-database'><use xlink:href='#icon-database'></use></svg></label><div class='xr-var-attrs'><dl class='xr-attrs'><dt><span>_FillValue :</span></dt><dd></dd></dl></div><pre class='xr-var-data'>array([&#x27;Z&#x27;], dtype=&#x27;&lt;U1&#x27;)</pre></li><li class='xr-var-item'><div class='xr-var-name'><span class='xr-has-index'>clock</span></div><div class='xr-var-dims'>(clock)</div><div class='xr-var-dtype'>int64</div><div class='xr-var-preview xr-preview'>0 1</div><input id='attrs-fa0f4913-4216-4de4-a500-52653ab8ef84' class='xr-var-attrs-in' type='checkbox' ><label for='attrs-fa0f4913-4216-4de4-a500-52653ab8ef84' title='Show/Hide attributes'><svg class='icon xr-icon-file-text2'><use xlink:href='#icon-file-text2'></use></svg></label><input id='data-d3bbaa1f-1f6b-4a07-8a15-d97656c03e15' class='xr-var-data-in' type='checkbox'><label for='data-d3bbaa1f-1f6b-4a07-8a15-d97656c03e15' title='Show/Hide data repr'><svg class='icon xr-icon-database'><use xlink:href='#icon-database'></use></svg></label><div class='xr-var-attrs'><dl class='xr-attrs'><dt><span>__xsimlab_master_clock__ :</span></dt><dd>1</dd><dt><span>__xsimlab_output_clock__ :</span></dt><dd>1</dd></dl></div><pre class='xr-var-data'>array([0, 1])</pre></li><li class='xr-var-item'><div class='xr-var-name'><span class='xr-has-index'>components</span></div><div class='xr-var-dims'>(components)</div><div class='xr-var-dtype'>&lt;U1</div><div class='xr-var-preview xr-preview'>&#x27;N&#x27; &#x27;P&#x27; &#x27;Z&#x27; &#x27;D&#x27;</div><input id='attrs-38275214-90ef-4e4c-97cd-1803b7535b63' class='xr-var-attrs-in' type='checkbox' ><label for='attrs-38275214-90ef-4e4c-97cd-1803b7535b63' title='Show/Hide attributes'><svg class='icon xr-icon-file-text2'><use xlink:href='#icon-file-text2'></use></svg></label><input id='data-e4838fca-9787-4f12-b70f-5c6bc578acaf' class='xr-var-data-in' type='checkbox'><label for='data-e4838fca-9787-4f12-b70f-5c6bc578acaf' title='Show/Hide data repr'><svg class='icon xr-icon-database'><use xlink:href='#icon-database'></use></svg></label><div class='xr-var-attrs'><dl class='xr-attrs'><dt><span>_FillValue :</span></dt><dd></dd></dl></div><pre class='xr-var-data'>array([&#x27;N&#x27;, &#x27;P&#x27;, &#x27;Z&#x27;, &#x27;D&#x27;], dtype=&#x27;&lt;U1&#x27;)</pre></li><li class='xr-var-item'><div class='xr-var-name'><span class='xr-has-index'>fluxes</span></div><div class='xr-var-dims'>(fluxes)</div><div class='xr-var-dtype'>&lt;U20</div><div class='xr-var-preview xr-preview'>&#x27;P_Growth-N-2-P&#x27; &#x27;P_LinMortality-P-2-D&#x27;</div><input id='attrs-73c2e52a-4034-4720-b335-d04fbe186b74' class='xr-var-attrs-in' type='checkbox' ><label for='attrs-73c2e52a-4034-4720-b335-d04fbe186b74' title='Show/Hide attributes'><svg class='icon xr-icon-file-text2'><use xlink:href='#icon-file-text2'></use></svg></label><input id='data-b0acb7c7-8f21-48ee-9ed4-ace3d4e00752' class='xr-var-data-in' type='checkbox'><label for='data-b0acb7c7-8f21-48ee-9ed4-ace3d4e00752' title='Show/Hide data repr'><svg class='icon xr-icon-database'><use xlink:href='#icon-database'></use></svg></label><div class='xr-var-attrs'><dl class='xr-attrs'><dt><span>_FillValue :</span></dt><dd></dd></dl></div><pre class='xr-var-data'>array([&#x27;P_Growth-N-2-P&#x27;, &#x27;P_LinMortality-P-2-D&#x27;], dtype=&#x27;&lt;U20&#x27;)</pre></li><li class='xr-var-item'><div class='xr-var-name'><span class='xr-has-index'>forcingfluxes</span></div><div class='xr-var-dims'>(forcingfluxes)</div><div class='xr-var-dtype'>&lt;U11</div><div class='xr-var-preview xr-preview'>&#x27;Sinking-D&#x27; ... &#x27;Upwelling-N&#x27;</div><input id='attrs-41a0eacb-dbb4-476e-bdb3-afff9bc84849' class='xr-var-attrs-in' type='checkbox' ><label for='attrs-41a0eacb-dbb4-476e-bdb3-afff9bc84849' title='Show/Hide attributes'><svg class='icon xr-icon-file-text2'><use xlink:href='#icon-file-text2'></use></svg></label><input id='data-a0d4d830-21bd-4916-8c83-676396d3dcec' class='xr-var-data-in' type='checkbox'><label for='data-a0d4d830-21bd-4916-8c83-676396d3dcec' title='Show/Hide data repr'><svg class='icon xr-icon-database'><use xlink:href='#icon-database'></use></svg></label><div class='xr-var-attrs'><dl class='xr-attrs'><dt><span>_FillValue :</span></dt><dd></dd></dl></div><pre class='xr-var-data'>array([&#x27;Sinking-D&#x27;, &#x27;Sinking-P&#x27;, &#x27;Upwelling-N&#x27;], dtype=&#x27;&lt;U11&#x27;)</pre></li><li class='xr-var-item'><div class='xr-var-name'><span class='xr-has-index'>time</span></div><div class='xr-var-dims'>(time)</div><div class='xr-var-dtype'>int64</div><div class='xr-var-preview xr-preview'>0 1 2 3 4 ... 1091 1092 1093 1094</div><input id='attrs-dcc793e2-3d1e-42d6-b138-52d158abcdc2' class='xr-var-attrs-in' type='checkbox' ><label for='attrs-dcc793e2-3d1e-42d6-b138-52d158abcdc2' title='Show/Hide attributes'><svg class='icon xr-icon-file-text2'><use xlink:href='#icon-file-text2'></use></svg></label><input id='data-aa7affa3-52a8-4ebc-9306-c7144406ecbd' class='xr-var-data-in' type='checkbox'><label for='data-aa7affa3-52a8-4ebc-9306-c7144406ecbd' title='Show/Hide data repr'><svg class='icon xr-icon-database'><use xlink:href='#icon-database'></use></svg></label><div class='xr-var-attrs'><dl class='xr-attrs'><dt><span>description :</span></dt><dd>time in days</dd><dt><span>_FillValue :</span></dt><dd>0</dd></dl></div><pre class='xr-var-data'>array([   0,    1,    2, ..., 1092, 1093, 1094])</pre></li></ul></div></li><li class='xr-section-item'><input id='section-9d0caa4e-6204-4055-b2a2-dfdf53c4399c' class='xr-section-summary-in' type='checkbox'  ><label for='section-9d0caa4e-6204-4055-b2a2-dfdf53c4399c' class='xr-section-summary' >Data variables: <span>(27)</span></label><div class='xr-section-inline-details'></div><div class='xr-section-details'><ul class='xr-var-list'><li class='xr-var-item'><div class='xr-var-name'><span>D__dim</span></div><div class='xr-var-dims'>()</div><div class='xr-var-dtype'>int64</div><div class='xr-var-preview xr-preview'>1</div><input id='attrs-3552b216-1ffe-4992-98ae-3b93d19321e4' class='xr-var-attrs-in' type='checkbox' disabled><label for='attrs-3552b216-1ffe-4992-98ae-3b93d19321e4' title='Show/Hide attributes'><svg class='icon xr-icon-file-text2'><use xlink:href='#icon-file-text2'></use></svg></label><input id='data-c5884920-4551-458d-946a-76f80110301e' class='xr-var-data-in' type='checkbox'><label for='data-c5884920-4551-458d-946a-76f80110301e' title='Show/Hide data repr'><svg class='icon xr-icon-database'><use xlink:href='#icon-database'></use></svg></label><div class='xr-var-attrs'><dl class='xr-attrs'></dl></div><pre class='xr-var-data'>array(1)</pre></li><li class='xr-var-item'><div class='xr-var-name'><span>D__init</span></div><div class='xr-var-dims'>()</div><div class='xr-var-dtype'>int64</div><div class='xr-var-preview xr-preview'>0</div><input id='attrs-554e1a6b-549a-40d9-9b86-1e1fa859125f' class='xr-var-attrs-in' type='checkbox' disabled><label for='attrs-554e1a6b-549a-40d9-9b86-1e1fa859125f' title='Show/Hide attributes'><svg class='icon xr-icon-file-text2'><use xlink:href='#icon-file-text2'></use></svg></label><input id='data-eb35112b-d260-4670-ae4f-f763ad91f7e0' class='xr-var-data-in' type='checkbox'><label for='data-eb35112b-d260-4670-ae4f-f763ad91f7e0' title='Show/Hide data repr'><svg class='icon xr-icon-database'><use xlink:href='#icon-database'></use></svg></label><div class='xr-var-attrs'><dl class='xr-attrs'></dl></div><pre class='xr-var-data'>array(0)</pre></li><li class='xr-var-item'><div class='xr-var-name'><span>Env__comp_output</span></div><div class='xr-var-dims'>(components, time)</div><div class='xr-var-dtype'>float64</div><div class='xr-var-preview xr-preview'>1.0 0.8745 0.6616 ... 1.79 1.791</div><input id='attrs-ab43e422-7939-405b-b71e-5e94b7cc7e3b' class='xr-var-attrs-in' type='checkbox' ><label for='attrs-ab43e422-7939-405b-b71e-5e94b7cc7e3b' title='Show/Hide attributes'><svg class='icon xr-icon-file-text2'><use xlink:href='#icon-file-text2'></use></svg></label><input id='data-0cdc32b1-aeda-4d81-9750-3624429fbb3d' class='xr-var-data-in' type='checkbox'><label for='data-0cdc32b1-aeda-4d81-9750-3624429fbb3d' title='Show/Hide data repr'><svg class='icon xr-icon-database'><use xlink:href='#icon-database'></use></svg></label><div class='xr-var-attrs'><dl class='xr-attrs'><dt><span>_FillValue :</span></dt><dd>nan</dd></dl></div><pre class='xr-var-data'>array([[1.        , 0.87453315, 0.66163325, ..., 0.05964274, 0.05972048,\n",
       "        0.05979888],\n",
       "       [0.1       , 0.21184666, 0.39324855, ..., 0.15010431, 0.14986689,\n",
       "        0.1496488 ],\n",
       "       [0.        , 0.        , 0.        , ..., 0.        , 0.        ,\n",
       "        0.        ],\n",
       "       [0.        , 0.0210107 , 0.05984   , ..., 1.79025296, 1.79041263,\n",
       "        1.79055232]])</pre></li><li class='xr-var-item'><div class='xr-var-name'><span>Env__flux_output</span></div><div class='xr-var-dims'>(fluxes, time)</div><div class='xr-var-dtype'>float64</div><div class='xr-var-preview xr-preview'>0.06667 0.1348 ... 0.01499 0.01496</div><input id='attrs-56df1788-8fbc-420d-adb0-3b6bae941498' class='xr-var-attrs-in' type='checkbox' ><label for='attrs-56df1788-8fbc-420d-adb0-3b6bae941498' title='Show/Hide attributes'><svg class='icon xr-icon-file-text2'><use xlink:href='#icon-file-text2'></use></svg></label><input id='data-42aeedd4-0e71-41d5-8041-42197075f484' class='xr-var-data-in' type='checkbox'><label for='data-42aeedd4-0e71-41d5-8041-42197075f484' title='Show/Hide data repr'><svg class='icon xr-icon-database'><use xlink:href='#icon-database'></use></svg></label><div class='xr-var-attrs'><dl class='xr-attrs'><dt><span>_FillValue :</span></dt><dd>nan</dd></dl></div><pre class='xr-var-data'>array([[0.06666667, 0.13478535, 0.22398319, ..., 0.01599705, 0.01599034,\n",
       "        0.0159858 ],\n",
       "       [0.01      , 0.02118467, 0.03932486, ..., 0.01501043, 0.01498669,\n",
       "        0.01496488]])</pre></li><li class='xr-var-item'><div class='xr-var-name'><span>Env__fxflux_output</span></div><div class='xr-var-dims'>(forcingfluxes, time)</div><div class='xr-var-dtype'>float64</div><div class='xr-var-preview xr-preview'>0.0 -0.000174 ... 0.01607 0.01606</div><input id='attrs-9d20a229-f2e2-4311-91fa-8b6b62557e9b' class='xr-var-attrs-in' type='checkbox' ><label for='attrs-9d20a229-f2e2-4311-91fa-8b6b62557e9b' title='Show/Hide attributes'><svg class='icon xr-icon-file-text2'><use xlink:href='#icon-file-text2'></use></svg></label><input id='data-8a704571-7708-4230-9553-c462b60d6d93' class='xr-var-data-in' type='checkbox'><label for='data-8a704571-7708-4230-9553-c462b60d6d93' title='Show/Hide data repr'><svg class='icon xr-icon-database'><use xlink:href='#icon-database'></use></svg></label><div class='xr-var-attrs'><dl class='xr-attrs'><dt><span>_FillValue :</span></dt><dd>nan</dd></dl></div><pre class='xr-var-data'>array([[ 0.        , -0.00017396, -0.00049556, ..., -0.01483069,\n",
       "        -0.01482702, -0.01482518],\n",
       "       [-0.00082791, -0.00175402, -0.00325663, ..., -0.00124348,\n",
       "        -0.0012411 , -0.00123904],\n",
       "       [ 0.00827911,  0.00931849,  0.01108347, ...,  0.01607418,\n",
       "         0.01606812,  0.01606422]])</pre></li><li class='xr-var-item'><div class='xr-var-name'><span>N0__constant_N0</span></div><div class='xr-var-dims'>()</div><div class='xr-var-dtype'>float64</div><div class='xr-var-preview xr-preview'>2.0</div><input id='attrs-f06d9b27-bda8-4255-a35f-7aff74f71dc8' class='xr-var-attrs-in' type='checkbox' ><label for='attrs-f06d9b27-bda8-4255-a35f-7aff74f71dc8' title='Show/Hide attributes'><svg class='icon xr-icon-file-text2'><use xlink:href='#icon-file-text2'></use></svg></label><input id='data-8cc57373-59e6-4e9e-ab9b-a31dbd159005' class='xr-var-data-in' type='checkbox'><label for='data-8cc57373-59e6-4e9e-ab9b-a31dbd159005' title='Show/Hide data repr'><svg class='icon xr-icon-database'><use xlink:href='#icon-database'></use></svg></label><div class='xr-var-attrs'><dl class='xr-attrs'><dt><span>description :</span></dt><dd>value of the constant Nutrient forcing</dd><dt><span>_FillValue :</span></dt><dd>nan</dd></dl></div><pre class='xr-var-data'>array(2.)</pre></li><li class='xr-var-item'><div class='xr-var-name'><span>N__dim</span></div><div class='xr-var-dims'>()</div><div class='xr-var-dtype'>int64</div><div class='xr-var-preview xr-preview'>1</div><input id='attrs-5e8ead0b-6ea5-45fb-8026-dd73494337ad' class='xr-var-attrs-in' type='checkbox' disabled><label for='attrs-5e8ead0b-6ea5-45fb-8026-dd73494337ad' title='Show/Hide attributes'><svg class='icon xr-icon-file-text2'><use xlink:href='#icon-file-text2'></use></svg></label><input id='data-0afb92ef-9732-4d9d-87a0-6c4b817c336b' class='xr-var-data-in' type='checkbox'><label for='data-0afb92ef-9732-4d9d-87a0-6c4b817c336b' title='Show/Hide data repr'><svg class='icon xr-icon-database'><use xlink:href='#icon-database'></use></svg></label><div class='xr-var-attrs'><dl class='xr-attrs'></dl></div><pre class='xr-var-data'>array(1)</pre></li><li class='xr-var-item'><div class='xr-var-name'><span>N__init</span></div><div class='xr-var-dims'>()</div><div class='xr-var-dtype'>int64</div><div class='xr-var-preview xr-preview'>1</div><input id='attrs-e02eac78-dda7-4836-9e53-1a59a3cdf7e2' class='xr-var-attrs-in' type='checkbox' disabled><label for='attrs-e02eac78-dda7-4836-9e53-1a59a3cdf7e2' title='Show/Hide attributes'><svg class='icon xr-icon-file-text2'><use xlink:href='#icon-file-text2'></use></svg></label><input id='data-cbe9cded-2ef2-4d64-9742-d8d6f2597e81' class='xr-var-data-in' type='checkbox'><label for='data-cbe9cded-2ef2-4d64-9742-d8d6f2597e81' title='Show/Hide data repr'><svg class='icon xr-icon-database'><use xlink:href='#icon-database'></use></svg></label><div class='xr-var-attrs'><dl class='xr-attrs'></dl></div><pre class='xr-var-data'>array(1)</pre></li><li class='xr-var-item'><div class='xr-var-name'><span>P_Growth__C_label</span></div><div class='xr-var-dims'>()</div><div class='xr-var-dtype'>&lt;U1</div><div class='xr-var-preview xr-preview'>&#x27;P&#x27;</div><input id='attrs-c93e751b-8191-4299-8e13-457c69b1b761' class='xr-var-attrs-in' type='checkbox' ><label for='attrs-c93e751b-8191-4299-8e13-457c69b1b761' title='Show/Hide attributes'><svg class='icon xr-icon-file-text2'><use xlink:href='#icon-file-text2'></use></svg></label><input id='data-4543fb66-bab2-4891-ab84-cc6c1fe18cbc' class='xr-var-data-in' type='checkbox'><label for='data-4543fb66-bab2-4891-ab84-cc6c1fe18cbc' title='Show/Hide data repr'><svg class='icon xr-icon-database'><use xlink:href='#icon-database'></use></svg></label><div class='xr-var-attrs'><dl class='xr-attrs'><dt><span>description :</span></dt><dd>label of component that grows</dd></dl></div><pre class='xr-var-data'>array(&#x27;P&#x27;, dtype=&#x27;&lt;U1&#x27;)</pre></li><li class='xr-var-item'><div class='xr-var-name'><span>P_Growth__R_label</span></div><div class='xr-var-dims'>()</div><div class='xr-var-dtype'>&lt;U1</div><div class='xr-var-preview xr-preview'>&#x27;N&#x27;</div><input id='attrs-d2bdb3dc-0ea6-421e-8d6c-ddf431bbeac3' class='xr-var-attrs-in' type='checkbox' ><label for='attrs-d2bdb3dc-0ea6-421e-8d6c-ddf431bbeac3' title='Show/Hide attributes'><svg class='icon xr-icon-file-text2'><use xlink:href='#icon-file-text2'></use></svg></label><input id='data-3b868529-21cc-489f-bae7-04468d664930' class='xr-var-data-in' type='checkbox'><label for='data-3b868529-21cc-489f-bae7-04468d664930' title='Show/Hide data repr'><svg class='icon xr-icon-database'><use xlink:href='#icon-database'></use></svg></label><div class='xr-var-attrs'><dl class='xr-attrs'><dt><span>description :</span></dt><dd>label of ressource component that is consumed</dd></dl></div><pre class='xr-var-data'>array(&#x27;N&#x27;, dtype=&#x27;&lt;U1&#x27;)</pre></li><li class='xr-var-item'><div class='xr-var-name'><span>P_Growth__halfsat</span></div><div class='xr-var-dims'>()</div><div class='xr-var-dtype'>float64</div><div class='xr-var-preview xr-preview'>0.5</div><input id='attrs-da469b66-42f3-4a90-814d-c39c38a86184' class='xr-var-attrs-in' type='checkbox' ><label for='attrs-da469b66-42f3-4a90-814d-c39c38a86184' title='Show/Hide attributes'><svg class='icon xr-icon-file-text2'><use xlink:href='#icon-file-text2'></use></svg></label><input id='data-b91dedc4-ac81-4282-b7e4-94e0ac8cda42' class='xr-var-data-in' type='checkbox'><label for='data-b91dedc4-ac81-4282-b7e4-94e0ac8cda42' title='Show/Hide data repr'><svg class='icon xr-icon-database'><use xlink:href='#icon-database'></use></svg></label><div class='xr-var-attrs'><dl class='xr-attrs'><dt><span>description :</span></dt><dd>half-saturation constant of nutrient uptake for component</dd><dt><span>_FillValue :</span></dt><dd>nan</dd></dl></div><pre class='xr-var-data'>array(0.5)</pre></li><li class='xr-var-item'><div class='xr-var-name'><span>P_Growth__mu</span></div><div class='xr-var-dims'>()</div><div class='xr-var-dtype'>float64</div><div class='xr-var-preview xr-preview'>1.0</div><input id='attrs-bcc87763-64c8-4e2b-af8c-8229ac253fb0' class='xr-var-attrs-in' type='checkbox' ><label for='attrs-bcc87763-64c8-4e2b-af8c-8229ac253fb0' title='Show/Hide attributes'><svg class='icon xr-icon-file-text2'><use xlink:href='#icon-file-text2'></use></svg></label><input id='data-ad524b87-6399-4119-a269-5d4e508d624d' class='xr-var-data-in' type='checkbox'><label for='data-ad524b87-6399-4119-a269-5d4e508d624d' title='Show/Hide data repr'><svg class='icon xr-icon-database'><use xlink:href='#icon-database'></use></svg></label><div class='xr-var-attrs'><dl class='xr-attrs'><dt><span>description :</span></dt><dd>Maximum growth rate of component</dd><dt><span>_FillValue :</span></dt><dd>nan</dd></dl></div><pre class='xr-var-data'>array(1.)</pre></li><li class='xr-var-item'><div class='xr-var-name'><span>P_LinMortality__C_label</span></div><div class='xr-var-dims'>()</div><div class='xr-var-dtype'>&lt;U1</div><div class='xr-var-preview xr-preview'>&#x27;D&#x27;</div><input id='attrs-0a6669a7-0e65-459c-a49d-c8f2e4a41436' class='xr-var-attrs-in' type='checkbox' ><label for='attrs-0a6669a7-0e65-459c-a49d-c8f2e4a41436' title='Show/Hide attributes'><svg class='icon xr-icon-file-text2'><use xlink:href='#icon-file-text2'></use></svg></label><input id='data-1216f3a9-dde7-4052-94d1-b3bd7a9c1391' class='xr-var-data-in' type='checkbox'><label for='data-1216f3a9-dde7-4052-94d1-b3bd7a9c1391' title='Show/Hide data repr'><svg class='icon xr-icon-database'><use xlink:href='#icon-database'></use></svg></label><div class='xr-var-attrs'><dl class='xr-attrs'><dt><span>description :</span></dt><dd>label of component that mortality feeds into</dd></dl></div><pre class='xr-var-data'>array(&#x27;D&#x27;, dtype=&#x27;&lt;U1&#x27;)</pre></li><li class='xr-var-item'><div class='xr-var-name'><span>P_LinMortality__R_label</span></div><div class='xr-var-dims'>()</div><div class='xr-var-dtype'>&lt;U1</div><div class='xr-var-preview xr-preview'>&#x27;P&#x27;</div><input id='attrs-37898693-ec3c-46b1-8350-fcb9ce45f235' class='xr-var-attrs-in' type='checkbox' ><label for='attrs-37898693-ec3c-46b1-8350-fcb9ce45f235' title='Show/Hide attributes'><svg class='icon xr-icon-file-text2'><use xlink:href='#icon-file-text2'></use></svg></label><input id='data-37efc516-76f8-41a1-a21e-666d9e3d281d' class='xr-var-data-in' type='checkbox'><label for='data-37efc516-76f8-41a1-a21e-666d9e3d281d' title='Show/Hide data repr'><svg class='icon xr-icon-database'><use xlink:href='#icon-database'></use></svg></label><div class='xr-var-attrs'><dl class='xr-attrs'><dt><span>description :</span></dt><dd>label of component that experiences mortality</dd></dl></div><pre class='xr-var-data'>array(&#x27;P&#x27;, dtype=&#x27;&lt;U1&#x27;)</pre></li><li class='xr-var-item'><div class='xr-var-name'><span>P_LinMortality__mortality_rate</span></div><div class='xr-var-dims'>()</div><div class='xr-var-dtype'>float64</div><div class='xr-var-preview xr-preview'>0.1</div><input id='attrs-fc0a99b0-105e-4e6d-b291-754e181ad1e6' class='xr-var-attrs-in' type='checkbox' ><label for='attrs-fc0a99b0-105e-4e6d-b291-754e181ad1e6' title='Show/Hide attributes'><svg class='icon xr-icon-file-text2'><use xlink:href='#icon-file-text2'></use></svg></label><input id='data-432ff25f-c97b-498a-b1f2-a0c16c05d17f' class='xr-var-data-in' type='checkbox'><label for='data-432ff25f-c97b-498a-b1f2-a0c16c05d17f' title='Show/Hide data repr'><svg class='icon xr-icon-database'><use xlink:href='#icon-database'></use></svg></label><div class='xr-var-attrs'><dl class='xr-attrs'><dt><span>description :</span></dt><dd>mortality rate of component</dd><dt><span>_FillValue :</span></dt><dd>nan</dd></dl></div><pre class='xr-var-data'>array(0.1)</pre></li><li class='xr-var-item'><div class='xr-var-name'><span>P__dim</span></div><div class='xr-var-dims'>()</div><div class='xr-var-dtype'>int64</div><div class='xr-var-preview xr-preview'>1</div><input id='attrs-b2a059e1-f9f9-407e-b644-77c9c814cba1' class='xr-var-attrs-in' type='checkbox' disabled><label for='attrs-b2a059e1-f9f9-407e-b644-77c9c814cba1' title='Show/Hide attributes'><svg class='icon xr-icon-file-text2'><use xlink:href='#icon-file-text2'></use></svg></label><input id='data-2f61a123-de4e-4263-b70d-10fa402314dc' class='xr-var-data-in' type='checkbox'><label for='data-2f61a123-de4e-4263-b70d-10fa402314dc' title='Show/Hide data repr'><svg class='icon xr-icon-database'><use xlink:href='#icon-database'></use></svg></label><div class='xr-var-attrs'><dl class='xr-attrs'></dl></div><pre class='xr-var-data'>array(1)</pre></li><li class='xr-var-item'><div class='xr-var-name'><span>P__init</span></div><div class='xr-var-dims'>()</div><div class='xr-var-dtype'>float64</div><div class='xr-var-preview xr-preview'>0.1</div><input id='attrs-907b9962-a183-4de7-bd84-2eb75adaa876' class='xr-var-attrs-in' type='checkbox' ><label for='attrs-907b9962-a183-4de7-bd84-2eb75adaa876' title='Show/Hide attributes'><svg class='icon xr-icon-file-text2'><use xlink:href='#icon-file-text2'></use></svg></label><input id='data-e683763e-87d2-442d-9ec7-82f6117a07ef' class='xr-var-data-in' type='checkbox'><label for='data-e683763e-87d2-442d-9ec7-82f6117a07ef' title='Show/Hide data repr'><svg class='icon xr-icon-database'><use xlink:href='#icon-database'></use></svg></label><div class='xr-var-attrs'><dl class='xr-attrs'><dt><span>_FillValue :</span></dt><dd>nan</dd></dl></div><pre class='xr-var-data'>array(0.1)</pre></li><li class='xr-var-item'><div class='xr-var-name'><span>Sinking__C_labels</span></div><div class='xr-var-dims'>(s)</div><div class='xr-var-dtype'>&lt;U1</div><div class='xr-var-preview xr-preview'>&#x27;D&#x27; &#x27;P&#x27;</div><input id='attrs-7279fc3d-b485-4d9d-ba27-fe2308faea7d' class='xr-var-attrs-in' type='checkbox' ><label for='attrs-7279fc3d-b485-4d9d-ba27-fe2308faea7d' title='Show/Hide attributes'><svg class='icon xr-icon-file-text2'><use xlink:href='#icon-file-text2'></use></svg></label><input id='data-707e1162-6f26-41a1-90a1-14057afa7f0d' class='xr-var-data-in' type='checkbox'><label for='data-707e1162-6f26-41a1-90a1-14057afa7f0d' title='Show/Hide data repr'><svg class='icon xr-icon-database'><use xlink:href='#icon-database'></use></svg></label><div class='xr-var-attrs'><dl class='xr-attrs'><dt><span>description :</span></dt><dd>label of component(s) that grows</dd></dl></div><pre class='xr-var-data'>array([&#x27;D&#x27;, &#x27;P&#x27;], dtype=&#x27;&lt;U1&#x27;)</pre></li><li class='xr-var-item'><div class='xr-var-name'><span>Sinking__kappa</span></div><div class='xr-var-dims'>()</div><div class='xr-var-dtype'>float64</div><div class='xr-var-preview xr-preview'>0.1</div><input id='attrs-e5293d02-9aa6-439d-ae39-7d4d887de0fc' class='xr-var-attrs-in' type='checkbox' ><label for='attrs-e5293d02-9aa6-439d-ae39-7d4d887de0fc' title='Show/Hide attributes'><svg class='icon xr-icon-file-text2'><use xlink:href='#icon-file-text2'></use></svg></label><input id='data-a4f41c4d-33bd-4e5c-81be-4917bb79a125' class='xr-var-data-in' type='checkbox'><label for='data-a4f41c4d-33bd-4e5c-81be-4917bb79a125' title='Show/Hide data repr'><svg class='icon xr-icon-database'><use xlink:href='#icon-database'></use></svg></label><div class='xr-var-attrs'><dl class='xr-attrs'><dt><span>description :</span></dt><dd>constant mixing coefficient</dd><dt><span>_FillValue :</span></dt><dd>nan</dd></dl></div><pre class='xr-var-data'>array(0.1)</pre></li><li class='xr-var-item'><div class='xr-var-name'><span>Upwelling__C_labels</span></div><div class='xr-var-dims'>(u)</div><div class='xr-var-dtype'>&lt;U1</div><div class='xr-var-preview xr-preview'>&#x27;N&#x27;</div><input id='attrs-9c517a9d-9750-4947-8b01-d9ed9ab7f4e5' class='xr-var-attrs-in' type='checkbox' ><label for='attrs-9c517a9d-9750-4947-8b01-d9ed9ab7f4e5' title='Show/Hide attributes'><svg class='icon xr-icon-file-text2'><use xlink:href='#icon-file-text2'></use></svg></label><input id='data-f017307c-22d9-42dc-9d5d-1c849b857be5' class='xr-var-data-in' type='checkbox'><label for='data-f017307c-22d9-42dc-9d5d-1c849b857be5' title='Show/Hide data repr'><svg class='icon xr-icon-database'><use xlink:href='#icon-database'></use></svg></label><div class='xr-var-attrs'><dl class='xr-attrs'><dt><span>description :</span></dt><dd>label of component(s) that grows</dd></dl></div><pre class='xr-var-data'>array([&#x27;N&#x27;], dtype=&#x27;&lt;U1&#x27;)</pre></li><li class='xr-var-item'><div class='xr-var-name'><span>Upwelling__kappa</span></div><div class='xr-var-dims'>()</div><div class='xr-var-dtype'>float64</div><div class='xr-var-preview xr-preview'>0.1</div><input id='attrs-ab16b2bb-8729-4d4d-9626-affca14b8c18' class='xr-var-attrs-in' type='checkbox' ><label for='attrs-ab16b2bb-8729-4d4d-9626-affca14b8c18' title='Show/Hide attributes'><svg class='icon xr-icon-file-text2'><use xlink:href='#icon-file-text2'></use></svg></label><input id='data-c34ae3a3-97d5-48e7-90cd-06b8442fc2d8' class='xr-var-data-in' type='checkbox'><label for='data-c34ae3a3-97d5-48e7-90cd-06b8442fc2d8' title='Show/Hide data repr'><svg class='icon xr-icon-database'><use xlink:href='#icon-database'></use></svg></label><div class='xr-var-attrs'><dl class='xr-attrs'><dt><span>description :</span></dt><dd>constant mixing coefficient</dd><dt><span>_FillValue :</span></dt><dd>nan</dd></dl></div><pre class='xr-var-data'>array(0.1)</pre></li><li class='xr-var-item'><div class='xr-var-name'><span>Z__dim</span></div><div class='xr-var-dims'>()</div><div class='xr-var-dtype'>int64</div><div class='xr-var-preview xr-preview'>1</div><input id='attrs-70de1cce-5fbf-440c-bfc0-9d15419af943' class='xr-var-attrs-in' type='checkbox' disabled><label for='attrs-70de1cce-5fbf-440c-bfc0-9d15419af943' title='Show/Hide attributes'><svg class='icon xr-icon-file-text2'><use xlink:href='#icon-file-text2'></use></svg></label><input id='data-cd2e2622-ae4a-476b-838b-9d593247c862' class='xr-var-data-in' type='checkbox'><label for='data-cd2e2622-ae4a-476b-838b-9d593247c862' title='Show/Hide data repr'><svg class='icon xr-icon-database'><use xlink:href='#icon-database'></use></svg></label><div class='xr-var-attrs'><dl class='xr-attrs'></dl></div><pre class='xr-var-data'>array(1)</pre></li><li class='xr-var-item'><div class='xr-var-name'><span>Z__init</span></div><div class='xr-var-dims'>()</div><div class='xr-var-dtype'>int64</div><div class='xr-var-preview xr-preview'>0</div><input id='attrs-1b2dd41a-3ca0-4874-b39d-636e460c722e' class='xr-var-attrs-in' type='checkbox' disabled><label for='attrs-1b2dd41a-3ca0-4874-b39d-636e460c722e' title='Show/Hide attributes'><svg class='icon xr-icon-file-text2'><use xlink:href='#icon-file-text2'></use></svg></label><input id='data-8ffd0e1b-1f34-4a17-8ed8-1c0272043830' class='xr-var-data-in' type='checkbox'><label for='data-8ffd0e1b-1f34-4a17-8ed8-1c0272043830' title='Show/Hide data repr'><svg class='icon xr-icon-database'><use xlink:href='#icon-database'></use></svg></label><div class='xr-var-attrs'><dl class='xr-attrs'></dl></div><pre class='xr-var-data'>array(0)</pre></li><li class='xr-var-item'><div class='xr-var-name'><span>grid__length</span></div><div class='xr-var-dims'>()</div><div class='xr-var-dtype'>int64</div><div class='xr-var-preview xr-preview'>1</div><input id='attrs-d34a80a8-7f5d-4b8a-a7fb-4d91d0720110' class='xr-var-attrs-in' type='checkbox' disabled><label for='attrs-d34a80a8-7f5d-4b8a-a7fb-4d91d0720110' title='Show/Hide attributes'><svg class='icon xr-icon-file-text2'><use xlink:href='#icon-file-text2'></use></svg></label><input id='data-e3ced998-793d-4d03-ba41-cd06de42fc13' class='xr-var-data-in' type='checkbox'><label for='data-e3ced998-793d-4d03-ba41-cd06de42fc13' title='Show/Hide data repr'><svg class='icon xr-icon-database'><use xlink:href='#icon-database'></use></svg></label><div class='xr-var-attrs'><dl class='xr-attrs'></dl></div><pre class='xr-var-data'>array(1)</pre></li><li class='xr-var-item'><div class='xr-var-name'><span>grid__shape</span></div><div class='xr-var-dims'>()</div><div class='xr-var-dtype'>int64</div><div class='xr-var-preview xr-preview'>1</div><input id='attrs-2c1f90d4-b7d7-42d1-a84e-566a0fb14d56' class='xr-var-attrs-in' type='checkbox' disabled><label for='attrs-2c1f90d4-b7d7-42d1-a84e-566a0fb14d56' title='Show/Hide attributes'><svg class='icon xr-icon-file-text2'><use xlink:href='#icon-file-text2'></use></svg></label><input id='data-4bfff2e6-b749-493e-93a4-6b367bca69e8' class='xr-var-data-in' type='checkbox'><label for='data-4bfff2e6-b749-493e-93a4-6b367bca69e8' title='Show/Hide data repr'><svg class='icon xr-icon-database'><use xlink:href='#icon-database'></use></svg></label><div class='xr-var-attrs'><dl class='xr-attrs'></dl></div><pre class='xr-var-data'>array(1)</pre></li><li class='xr-var-item'><div class='xr-var-name'><span>ibcs__ibc</span></div><div class='xr-var-dims'>()</div><div class='xr-var-dtype'>float64</div><div class='xr-var-preview xr-preview'>nan</div><input id='attrs-916dc6a4-7613-4df8-970b-57362aff3e8d' class='xr-var-attrs-in' type='checkbox' ><label for='attrs-916dc6a4-7613-4df8-970b-57362aff3e8d' title='Show/Hide attributes'><svg class='icon xr-icon-file-text2'><use xlink:href='#icon-file-text2'></use></svg></label><input id='data-335834b1-1ef7-4c4c-b822-5fdcbd65b397' class='xr-var-data-in' type='checkbox'><label for='data-335834b1-1ef7-4c4c-b822-5fdcbd65b397' title='Show/Hide data repr'><svg class='icon xr-icon-database'><use xlink:href='#icon-database'></use></svg></label><div class='xr-var-attrs'><dl class='xr-attrs'><dt><span>description :</span></dt><dd>Initial Boundary Conditions</dd></dl></div><pre class='xr-var-data'>array(nan)</pre></li><li class='xr-var-item'><div class='xr-var-name'><span>time__days</span></div><div class='xr-var-dims'>(time)</div><div class='xr-var-dtype'>int64</div><div class='xr-var-preview xr-preview'>0 1 2 3 4 ... 1091 1092 1093 1094</div><input id='attrs-7b1fc6a7-6d8a-4673-ad1f-039ac6a2f13b' class='xr-var-attrs-in' type='checkbox' ><label for='attrs-7b1fc6a7-6d8a-4673-ad1f-039ac6a2f13b' title='Show/Hide attributes'><svg class='icon xr-icon-file-text2'><use xlink:href='#icon-file-text2'></use></svg></label><input id='data-451ccbc9-0e2a-406f-9474-75721699b114' class='xr-var-data-in' type='checkbox'><label for='data-451ccbc9-0e2a-406f-9474-75721699b114' title='Show/Hide data repr'><svg class='icon xr-icon-database'><use xlink:href='#icon-database'></use></svg></label><div class='xr-var-attrs'><dl class='xr-attrs'><dt><span>description :</span></dt><dd>time in days</dd></dl></div><pre class='xr-var-data'>array([   0,    1,    2, ..., 1092, 1093, 1094])</pre></li></ul></div></li><li class='xr-section-item'><input id='section-b2998a41-4862-4fda-9b42-0dc4baab284f' class='xr-section-summary-in' type='checkbox' disabled ><label for='section-b2998a41-4862-4fda-9b42-0dc4baab284f' class='xr-section-summary'  title='Expand/collapse section'>Attributes: <span>(0)</span></label><div class='xr-section-inline-details'></div><div class='xr-section-details'><dl class='xr-attrs'></dl></div></li></ul></div></div>"
      ],
      "text/plain": [
       "<xarray.Dataset>\n",
       "Dimensions:                         (D: 1, G: 1, M: 1, N: 1, P: 1, S: 2, U: 1, Z: 1, clock: 2, components: 4, fluxes: 2, forcingfluxes: 3, s: 2, time: 1095, u: 1)\n",
       "Coordinates:\n",
       "  * D                               (D) <U1 'D'\n",
       "  * G                               (G) <U14 'P_Growth-N-2-P'\n",
       "  * M                               (M) <U20 'P_LinMortality-P-2-D'\n",
       "  * N                               (N) <U1 'N'\n",
       "  * P                               (P) <U1 'P'\n",
       "  * S                               (S) <U9 'Sinking-D' 'Sinking-P'\n",
       "  * U                               (U) <U11 'Upwelling-N'\n",
       "  * Z                               (Z) <U1 'Z'\n",
       "  * clock                           (clock) int64 0 1\n",
       "  * components                      (components) <U1 'N' 'P' 'Z' 'D'\n",
       "  * fluxes                          (fluxes) <U20 'P_Growth-N-2-P' 'P_LinMortality-P-2-D'\n",
       "  * forcingfluxes                   (forcingfluxes) <U11 'Sinking-D' ... 'Upwelling-N'\n",
       "  * time                            (time) int64 0 1 2 3 ... 1091 1092 1093 1094\n",
       "Dimensions without coordinates: s, u\n",
       "Data variables:\n",
       "    D__dim                          int64 1\n",
       "    D__init                         int64 0\n",
       "    Env__comp_output                (components, time) float64 1.0 ... 1.791\n",
       "    Env__flux_output                (fluxes, time) float64 0.06667 ... 0.01496\n",
       "    Env__fxflux_output              (forcingfluxes, time) float64 0.0 ... 0.01606\n",
       "    N0__constant_N0                 float64 2.0\n",
       "    N__dim                          int64 1\n",
       "    N__init                         int64 1\n",
       "    P_Growth__C_label               <U1 'P'\n",
       "    P_Growth__R_label               <U1 'N'\n",
       "    P_Growth__halfsat               float64 0.5\n",
       "    P_Growth__mu                    float64 1.0\n",
       "    P_LinMortality__C_label         <U1 'D'\n",
       "    P_LinMortality__R_label         <U1 'P'\n",
       "    P_LinMortality__mortality_rate  float64 0.1\n",
       "    P__dim                          int64 1\n",
       "    P__init                         float64 0.1\n",
       "    Sinking__C_labels               (s) <U1 'D' 'P'\n",
       "    Sinking__kappa                  float64 0.1\n",
       "    Upwelling__C_labels             (u) <U1 'N'\n",
       "    Upwelling__kappa                float64 0.1\n",
       "    Z__dim                          int64 1\n",
       "    Z__init                         int64 0\n",
       "    grid__length                    int64 1\n",
       "    grid__shape                     int64 1\n",
       "    ibcs__ibc                       float64 nan\n",
       "    time__days                      (time) int64 0 1 2 3 ... 1091 1092 1093 1094"
      ]
     },
     "execution_count": 10,
     "metadata": {},
     "output_type": "execute_result"
    }
   ],
   "source": [
    "out_ds"
   ]
  },
  {
   "cell_type": "code",
   "execution_count": 11,
   "metadata": {
    "collapsed": false,
    "jupyter": {
     "outputs_hidden": false
    },
    "pycharm": {
     "is_executing": false,
     "name": "#%%\n"
    }
   },
   "outputs": [
    {
     "data": {
      "text/plain": [
       "[<matplotlib.lines.Line2D at 0x120e317f0>,\n",
       " <matplotlib.lines.Line2D at 0x120e31850>,\n",
       " <matplotlib.lines.Line2D at 0x120e319d0>,\n",
       " <matplotlib.lines.Line2D at 0x120e31a90>]"
      ]
     },
     "execution_count": 11,
     "metadata": {},
     "output_type": "execute_result"
    },
    {
     "data": {
      "image/png": "[encoded data removed]",
      "text/plain": [
       "<Figure size 432x288 with 1 Axes>"
      ]
     },
     "metadata": {
      "needs_background": "light"
     },
     "output_type": "display_data"
    }
   ],
   "source": [
    "out_ds.Env__comp_output.plot.line(x='time')"
   ]
  },
  {
   "cell_type": "code",
   "execution_count": 12,
   "metadata": {},
   "outputs": [
    {
     "data": {
      "text/plain": [
       "[<matplotlib.lines.Line2D at 0x120ef5c10>,\n",
       " <matplotlib.lines.Line2D at 0x120ef5d00>]"
      ]
     },
     "execution_count": 12,
     "metadata": {},
     "output_type": "execute_result"
    },
    {
     "data": {
      "image/png": "[encoded data removed]",
      "text/plain": [
       "<Figure size 432x288 with 1 Axes>"
      ]
     },
     "metadata": {
      "needs_background": "light"
     },
     "output_type": "display_data"
    }
   ],
   "source": [
    "out_ds.Env__flux_output.plot.line(x='time')"
   ]
  },
  {
   "cell_type": "code",
   "execution_count": 13,
   "metadata": {},
   "outputs": [
    {
     "data": {
      "text/plain": [
       "[<matplotlib.lines.Line2D at 0x120f660d0>,\n",
       " <matplotlib.lines.Line2D at 0x120f661f0>,\n",
       " <matplotlib.lines.Line2D at 0x120f662b0>]"
      ]
     },
     "execution_count": 13,
     "metadata": {},
     "output_type": "execute_result"
    },
    {
     "data": {
      "image/png": "[encoded data removed]",
      "text/plain": [
       "<Figure size 432x288 with 1 Axes>"
      ]
     },
     "metadata": {
      "needs_background": "light"
     },
     "output_type": "display_data"
    }
   ],
   "source": [
    "out_ds.Env__fxflux_output.plot.line(x='time')"
   ]
  },
  {
   "cell_type": "code",
   "execution_count": null,
   "metadata": {},
   "outputs": [],
   "source": []
  }
 ],
 "metadata": {
  "kernelspec": {
   "display_name": "Python 3",
   "language": "python",
   "name": "python3"
  },
  "language_info": {
   "codemirror_mode": {
    "name": "ipython",
    "version": 3
   },
   "file_extension": ".py",
   "mimetype": "text/x-python",
   "name": "python",
   "nbconvert_exporter": "python",
   "pygments_lexer": "ipython3",
   "version": "3.8.3"
  }
 },
 "nbformat": 4,
 "nbformat_minor": 4
}
