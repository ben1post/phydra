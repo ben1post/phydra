{
 "cells": [
  {
   "cell_type": "markdown",
   "metadata": {},
   "source": [
    "# NPZD slab model\n",
    "\n",
    "For the first model example I will need:\n",
    "- Forcing input\n",
    "- Forcing_fluxes:\n",
    "    - mixing\n",
    "    - sinking\n",
    "- 4 components (single) N, P, Z, D\n",
    "- Fluxes:\n",
    "TODO: GO OVER THE equations! Base model structure in math!\n",
    "    - Grazing - linked to all NPZD\n",
    "    - PhytoplanktonGrowth\n",
    "        - Light - Dependence\n",
    "        - Nutrients - Dependence\n",
    "        - Temp - Dependence\n",
    "    - mortality\n",
    "    - remineralisation\n",
    "    - higher order pred, etc"
   ]
  },
  {
   "cell_type": "raw",
   "metadata": {},
   "source": [
    "N = Mixing(N0-N)+LeakyGrazing(P,D)+Remin(D)-Growth(P)\n",
    "P = Growth(P)-Mortality(P)-QuadMort(P)-Grazing(P)-Mixing(P)\n",
    "Z = Grazing(P,D)-Mortality(Z)-QuadMort(Z)-Mixing(Z)\n",
    "D = Mortality(P)+QuadMort(P)+Mortality(Z)+SloppyGrazing(P,D)-Grazing(D)-Remin(D)-Mixing(D)-Sinking(D)\n",
    "\n",
    "Mixing\n",
    "Growth(Light,Temp,Nut)\n",
    "Mortality, QuadMort\n",
    "Grazing + LeakyGrazing + SloppyGrazing\n",
    "Remin\n",
    "Sinking"
   ]
  },
  {
   "cell_type": "code",
   "execution_count": 1,
   "metadata": {},
   "outputs": [],
   "source": [
    "import xsimlab as xs\n",
    "import numpy as np"
   ]
  },
  {
   "cell_type": "code",
   "execution_count": 2,
   "metadata": {},
   "outputs": [],
   "source": [
    "import os,sys,inspect\n",
    "sys.path.insert(1, os.path.join(sys.path[0], '..'))\n",
    "\n",
    "import phydra"
   ]
  },
  {
   "cell_type": "code",
   "execution_count": 3,
   "metadata": {},
   "outputs": [],
   "source": [
    "from phydra.utility.xsimlabwrappers import phydra_setup"
   ]
  },
  {
   "cell_type": "code",
   "execution_count": 4,
   "metadata": {},
   "outputs": [],
   "source": [
    "from phydra.processes.main import GekkoCore, GekkoContext, GekkoSequentialSolve, Time\n",
    "\n",
    "from phydra.processes.statevars import StateVariable, FunctionalGroup\n",
    "\n",
    "from phydra.processes.fluxes import (InFlux, LinearExchangeFlux, MonodUptake, Growth_MultiLim, \n",
    "                                    GML_MonodUptake, GML_EppleyTempLim, GML_SteeleLightLim,\n",
    "                                    GrazingFlux, GrazingFlux_MultiRessource,\n",
    "                                    QuadraticLossFlux)\n",
    "\n",
    "from phydra.processes.forcings import ConstantForcing\n",
    "\n",
    "from phydra.processes.paramsetup import GrowthParameterSetup"
   ]
  },
  {
   "cell_type": "code",
   "execution_count": 5,
   "metadata": {},
   "outputs": [],
   "source": [
    "from phydra.processes.forcings import Forcing"
   ]
  },
  {
   "cell_type": "code",
   "execution_count": 6,
   "metadata": {},
   "outputs": [
    {
     "name": "stdout",
     "output_type": "stream",
     "text": [
      "xarray-simlab version:  0.4.1\n",
      "phydra version:  0+untagged.90.gac4da8f.dirty\n"
     ]
    }
   ],
   "source": [
    "print('xarray-simlab version: ', xs.__version__)\n",
    "print('phydra version: ', phydra.__version__)"
   ]
  },
  {
   "cell_type": "code",
   "execution_count": 7,
   "metadata": {},
   "outputs": [
    {
     "data": {
      "text/plain": [
       "<xsimlab.Model (19 processes, 37 inputs)>\n",
       "core\n",
       "solver\n",
       "time\n",
       "    days                [in] ('time',) time in days\n",
       "N\n",
       "    initVal             [in] initial value of component\n",
       "P\n",
       "    initVal             [in] initial value of component\n",
       "Z\n",
       "    initVal             [in] initial value of component\n",
       "D\n",
       "    initVal             [in] initial value of component\n",
       "monod\n",
       "    halfsat             [in] half saturation constant for Monod growth\n",
       "eppley\n",
       "    FX_label            [in]\n",
       "    exponent            [in] exponent for Eppley Temperature depend...\n",
       "Temp\n",
       "    initVal             [in]\n",
       "I0\n",
       "    initVal             [in]\n",
       "N0\n",
       "    initVal             [in]\n",
       "MLD\n",
       "    initVal             [in]\n",
       "steele\n",
       "    kc                  [in] light attenuation coefficient of compo...\n",
       "    FX_label_I0         [in] light forcing label\n",
       "    IOpt                [in] optimal integrated irradiance\n",
       "    kw                  [in] light attenuation coefficient of sea w...\n",
       "    FX_label_MLD        [in] MLD forcing label\n",
       "growth\n",
       "    mumax               [in] maximum growth rate\n",
       "    resource_label      [in]\n",
       "    consumer_label      [in]\n",
       "grazing\n",
       "    egested2_label      [in]\n",
       "    Imax                [in] maximum grazing rate\n",
       "    consumer_label      [in]\n",
       "    epsilon             [in] net production efficiency\n",
       "    feed_prefs          [in] ('resource_index',) preference of feed...\n",
       "    resource_labels     [in] ('resource_index',) \n",
       "    excreted2_label     [in]\n",
       "    beta                [in] absorption efficiency\n",
       "    kZ                  [in] half saturation constant of grazing\n",
       "P_mortality\n",
       "    resource_label      [in]\n",
       "    consumer_label      [in]\n",
       "    rate                [in] rate of exchange (e.g. linear transfer...\n",
       "Z_mortality\n",
       "    rate                [in] quadratic loss rate\n",
       "    SV_label            [in]\n",
       "N_influx\n",
       "    forcing_label       [in]\n",
       "    flowrate            [in] half saturation constant\n",
       "    SV_label            [in]"
      ]
     },
     "execution_count": 7,
     "metadata": {},
     "output_type": "execute_result"
    }
   ],
   "source": [
    "MODEL = xs.Model({\n",
    "                # CORE\n",
    "                'core':GekkoCore, \n",
    "                'solver':GekkoSequentialSolve, \n",
    "\n",
    "                'time':Time, \n",
    "                \n",
    "                # STATE VARIABLES\n",
    "                'N':StateVariable, \n",
    "                'P':StateVariable,\n",
    "                'Z':StateVariable, \n",
    "                'D':StateVariable,\n",
    "                \n",
    "                # FLUXES\n",
    "                # setup classmethod allows multiple instances of Growth_MultiLim process\n",
    "                # and GML_... processes in same model\n",
    "                  # Pro: flexible, Con: less understandable code\n",
    "                'growth':Growth_MultiLim.setup('_P'),\n",
    "                'monod':GML_MonodUptake.setup('_P'),\n",
    "                'eppley':GML_EppleyTempLim.setup('_P'),\n",
    "                'steele':GML_SteeleLightLim.setup('_P'),\n",
    "\n",
    "                # note, grazing does not include setup class method (only 1 instance possible)\n",
    "                  # (design choice not yet settled)\n",
    "                'grazing':GrazingFlux_MultiRessource,\n",
    "                \n",
    "                'P_mortality':LinearExchangeFlux,\n",
    "                'Z_mortality':QuadraticLossFlux,\n",
    "                \n",
    "                # FORCING\n",
    "                'N0':ConstantForcing,\n",
    "                'Temp':ConstantForcing,\n",
    "                'I0':ConstantForcing,\n",
    "                'MLD':ConstantForcing,\n",
    "\n",
    "                'N_influx':InFlux,\n",
    "                })\n",
    "\n",
    "MODEL"
   ]
  },
  {
   "cell_type": "code",
   "execution_count": 8,
   "metadata": {},
   "outputs": [],
   "source": [
    "in_ds = phydra_setup(model=MODEL,\n",
    "                        input_vars={\n",
    "                            'time__days': ('time', np.arange(0, 20, .1)),\n",
    "                            \n",
    "                            'N':{'initVal':1.},\n",
    "                            'P':{'initVal':.01},\n",
    "                            'Z':{'initVal':.01},\n",
    "                            'D':{'initVal':.01},\n",
    "                            \n",
    "                            'growth':{'resource_label':'N',\n",
    "                                      'consumer_label':'P',\n",
    "                                      'mumax':1.},\n",
    "                            'monod':{'halfsat':0.5},\n",
    "                            'eppley':{'FX_label':'Temp',\n",
    "                                      'exponent':0.063},\n",
    "                            'steele':{'FX_label_I0':'I0',\n",
    "                                      'FX_label_MLD':'MLD',\n",
    "                                      'IOpt':20.,\n",
    "                                      'kw':0.04,\n",
    "                                      'kc':0.03},\n",
    "                            \n",
    "                            'grazing':{'resource_labels':['P','D'],\n",
    "                                       'consumer_label':'Z',\n",
    "                                       'egested2_label':'D',\n",
    "                                       'excreted2_label':'N',\n",
    "                                       \n",
    "                                       'Imax':1.,\n",
    "                                       'kZ':0.5,\n",
    "                                       'epsilon':0.33,\n",
    "                                       'beta':0.33,\n",
    "                                      \n",
    "                                       'feed_prefs':[0.67, 0.33]},\n",
    "                            \n",
    "                            'P_mortality':{'resource_label':'P',\n",
    "                                           'consumer_label':'D',\n",
    "                                           'rate':0.1},\n",
    "                            \n",
    "                            'Z_mortality':{'SV_label':'Z',\n",
    "                                           'rate':0.05},\n",
    "                            \n",
    "                            'N_influx':{'flowrate':0.5,\n",
    "                                        'forcing_label':'N0',\n",
    "                                        'SV_label':'N'},\n",
    "                            \n",
    "                            'N0':{'initVal':1.},\n",
    "                            'Temp':{'initVal':15.},\n",
    "                            'I0':{'initVal':15.},\n",
    "                            'MLD':{'initVal':40.}\n",
    "                        \n",
    "                        },\n",
    "                        output_vars={\n",
    "                            # State Variables\n",
    "                            'N__value':None,\n",
    "                            'P__value':None,\n",
    "                            'Z__value':None,\n",
    "                            'D__value':None,\n",
    "                            \n",
    "                            # Fluxes\n",
    "                            'growth__value':None,\n",
    "                            'grazing__values':None\n",
    "                        })"
   ]
  },
  {
   "cell_type": "code",
   "execution_count": 9,
   "metadata": {},
   "outputs": [
    {
     "name": "stdout",
     "output_type": "stream",
     "text": [
      "initializing model core\n",
      "Initializing Model Time\n",
      "state variable N is initialized\n",
      "state variable P is initialized\n",
      "state variable Z is initialized\n",
      "state variable D is initialized\n",
      "forcing Temp is initialized\n",
      "forcing I0 is initialized\n",
      "forcing N0 is initialized\n",
      "forcing MLD is initialized\n",
      "flux growth of P consuming N is initialized\n",
      "flux grazing of Z consuming ['P' 'D'] is initialized \n",
      " egesting to D and excreting to N\n",
      "['P', 'D']\n",
      "[((((((((1.0)*(((p)^(2)))))*(0.67)))/((0.25+((0+((((p)^(2)))*(0.67)))+((((d)^(2)))*(0.33)))))))*(z)), ((((((((1.0)*(((d)^(2)))))*(0.33)))/((0.25+((0+((((p)^(2)))*(0.67)))+((((d)^(2)))*(0.33)))))))*(z))]\n",
      "flux P_mortality of D consuming P is initialized\n",
      "flux Z_mortality acting on Z is initialized\n",
      "flux N_influx of N0 flowing to N is initialized\n",
      "assembling equations for state variable N\n",
      "assembling equations for state variable P\n",
      "assembling equations for state variable Z\n",
      "assembling equations for state variable D\n",
      "['time', 'n', 'p', 'z', 'd']\n",
      "Running solver now\n",
      "Model was solved in 1.87 seconds\n",
      "finalizing gekko core: cleanup\n"
     ]
    }
   ],
   "source": [
    "with MODEL:\n",
    "    out_ds = in_ds.xsimlab.run()"
   ]
  },
  {
   "cell_type": "code",
   "execution_count": 10,
   "metadata": {},
   "outputs": [
    {
     "name": "stdout",
     "output_type": "stream",
     "text": [
      "<xarray.Dataset>\n",
      "Dimensions:                      (clock: 2, resource_index: 2, time: 200)\n",
      "Coordinates:\n",
      "  * clock                        (clock) int64 0 1\n",
      "  * resource_index               (resource_index) <U1 'P' 'D'\n",
      "  * time                         (time) float64 0.0 0.1 0.2 ... 19.7 19.8 19.9\n",
      "Data variables:\n",
      "    D__initVal                   float64 0.01\n",
      "    D__value                     (time) float64 0.01 0.01011 ... 6.24 6.286\n",
      "    I0__initVal                  float64 15.0\n",
      "    MLD__initVal                 float64 40.0\n",
      "    N0__initVal                  float64 1.0\n",
      "    N__initVal                   float64 1.0\n",
      "    N__value                     (time) float64 1.0 1.049 ... 0.1378 0.1379\n",
      "    N_influx__SV_label           <U1 'N'\n",
      "    N_influx__flowrate           float64 0.5\n",
      "    N_influx__forcing_label      <U2 'N0'\n",
      "    P__initVal                   float64 0.01\n",
      "    P__value                     (time) float64 0.01 0.01109 ... 4.497 4.5\n",
      "    P_mortality__consumer_label  <U1 'D'\n",
      "    P_mortality__rate            float64 0.1\n",
      "    P_mortality__resource_label  <U1 'P'\n",
      "    Temp__initVal                float64 15.0\n",
      "    Z__initVal                   float64 0.01\n",
      "    Z__value                     (time) float64 0.01 0.01 ... 0.05484 0.05542\n",
      "    Z_mortality__SV_label        <U1 'Z'\n",
      "    Z_mortality__rate            float64 0.05\n",
      "    eppley__FX_label             <U4 'Temp'\n",
      "    eppley__exponent             float64 0.063\n",
      "    grazing__Imax                float64 1.0\n",
      "    grazing__beta                float64 0.33\n",
      "    grazing__consumer_label      <U1 'Z'\n",
      "    grazing__egested2_label      <U1 'D'\n",
      "    grazing__epsilon             float64 0.33\n",
      "    grazing__excreted2_label     <U1 'N'\n",
      "    grazing__feed_prefs          (resource_index) float64 0.67 0.33\n",
      "    grazing__kZ                  float64 0.5\n",
      "    grazing__resource_labels     (resource_index) <U1 'P' 'D'\n",
      "    grazing__values              (resource_index, time) float64 2.679e-06 ... 0.0269\n",
      "    growth__consumer_label       <U1 'P'\n",
      "    growth__mumax                float64 1.0\n",
      "    growth__resource_label       <U1 'N'\n",
      "    growth__value                (time) float64 0.01124 0.01266 ... 0.5119 0.512\n",
      "    monod__halfsat               float64 0.5\n",
      "    steele__FX_label_I0          <U2 'I0'\n",
      "    steele__FX_label_MLD         <U3 'MLD'\n",
      "    steele__IOpt                 float64 20.0\n",
      "    steele__kc                   float64 0.03\n",
      "    steele__kw                   float64 0.04\n",
      "    time__days                   (time) float64 0.0 0.1 0.2 ... 19.7 19.8 19.9\n"
     ]
    }
   ],
   "source": [
    "print(out_ds)"
   ]
  },
  {
   "cell_type": "code",
   "execution_count": 11,
   "metadata": {},
   "outputs": [
    {
     "data": {
      "text/plain": [
       "[<matplotlib.lines.Line2D at 0x11f586d00>]"
      ]
     },
     "execution_count": 11,
     "metadata": {},
     "output_type": "execute_result"
    },
    {
     "data": {
      "image/png": "[encoded data removed]",
      "text/plain": [
       "<Figure size 432x288 with 1 Axes>"
      ]
     },
     "metadata": {
      "needs_background": "light"
     },
     "output_type": "display_data"
    }
   ],
   "source": [
    "out_ds.N__value.plot.line(x='time')"
   ]
  },
  {
   "cell_type": "code",
   "execution_count": 12,
   "metadata": {},
   "outputs": [
    {
     "data": {
      "text/plain": [
       "[<matplotlib.lines.Line2D at 0x11f62d5b0>]"
      ]
     },
     "execution_count": 12,
     "metadata": {},
     "output_type": "execute_result"
    },
    {
     "data": {
      "image/png": "[encoded data removed]",
      "text/plain": [
       "<Figure size 432x288 with 1 Axes>"
      ]
     },
     "metadata": {
      "needs_background": "light"
     },
     "output_type": "display_data"
    }
   ],
   "source": [
    "out_ds.P__value.plot.line(x='time')"
   ]
  },
  {
   "cell_type": "code",
   "execution_count": 13,
   "metadata": {},
   "outputs": [
    {
     "data": {
      "text/plain": [
       "[<matplotlib.lines.Line2D at 0x11f7550a0>]"
      ]
     },
     "execution_count": 13,
     "metadata": {},
     "output_type": "execute_result"
    },
    {
     "data": {
      "image/png": "[encoded data removed]",
      "text/plain": [
       "<Figure size 432x288 with 1 Axes>"
      ]
     },
     "metadata": {
      "needs_background": "light"
     },
     "output_type": "display_data"
    }
   ],
   "source": [
    "out_ds.Z__value.plot.line(x='time')"
   ]
  },
  {
   "cell_type": "code",
   "execution_count": 14,
   "metadata": {},
   "outputs": [
    {
     "data": {
      "text/plain": [
       "[<matplotlib.lines.Line2D at 0x11f6c7070>]"
      ]
     },
     "execution_count": 14,
     "metadata": {},
     "output_type": "execute_result"
    },
    {
     "data": {
      "image/png": "[encoded data removed]",
      "text/plain": [
       "<Figure size 432x288 with 1 Axes>"
      ]
     },
     "metadata": {
      "needs_background": "light"
     },
     "output_type": "display_data"
    }
   ],
   "source": [
    "out_ds.D__value.plot.line(x='time')"
   ]
  },
  {
   "cell_type": "code",
   "execution_count": 15,
   "metadata": {},
   "outputs": [
    {
     "data": {
      "text/plain": [
       "[<matplotlib.lines.Line2D at 0x11f87e280>]"
      ]
     },
     "execution_count": 15,
     "metadata": {},
     "output_type": "execute_result"
    },
    {
     "data": {
      "image/png": "[encoded data removed]",
      "text/plain": [
       "<Figure size 432x288 with 1 Axes>"
      ]
     },
     "metadata": {
      "needs_background": "light"
     },
     "output_type": "display_data"
    }
   ],
   "source": [
    "out_ds.growth__value.plot.line(x='time')"
   ]
  },
  {
   "cell_type": "code",
   "execution_count": 16,
   "metadata": {},
   "outputs": [
    {
     "data": {
      "text/plain": [
       "[<matplotlib.lines.Line2D at 0x11f934e80>,\n",
       " <matplotlib.lines.Line2D at 0x11f934fa0>]"
      ]
     },
     "execution_count": 16,
     "metadata": {},
     "output_type": "execute_result"
    },
    {
     "data": {
      "image/png": "[encoded data removed]",
      "text/plain": [
       "<Figure size 432x288 with 1 Axes>"
      ]
     },
     "metadata": {
      "needs_background": "light"
     },
     "output_type": "display_data"
    }
   ],
   "source": [
    "out_ds.grazing__values.plot.line(x='time')"
   ]
  },
  {
   "cell_type": "code",
   "execution_count": null,
   "metadata": {},
   "outputs": [],
   "source": []
  },
  {
   "cell_type": "code",
   "execution_count": null,
   "metadata": {},
   "outputs": [],
   "source": []
  },
  {
   "cell_type": "code",
   "execution_count": 1,
   "metadata": {},
   "outputs": [],
   "source": [
    "##########################"
   ]
  },
  {
   "cell_type": "markdown",
   "metadata": {},
   "source": [
    "# OLD CODE"
   ]
  },
  {
   "cell_type": "code",
   "execution_count": 1,
   "metadata": {},
   "outputs": [],
   "source": [
    "import numpy as np\n",
    "import xsimlab as xs"
   ]
  },
  {
   "cell_type": "code",
   "execution_count": 2,
   "metadata": {},
   "outputs": [],
   "source": [
    "import os,sys,inspect\n",
    "sys.path.insert(1, os.path.join(sys.path[0], '..'))\n",
    "\n",
    "import phydra as phydra"
   ]
  },
  {
   "cell_type": "code",
   "execution_count": 3,
   "metadata": {},
   "outputs": [],
   "source": [
    "from phydra.utility.xsimlabwrappers import phydra_setup"
   ]
  },
  {
   "cell_type": "code",
   "execution_count": 7,
   "metadata": {},
   "outputs": [],
   "source": [
    "from phydra.processes.main import Grid0D, Boundary0D\n",
    "from phydra.processes.components import Component, Time, make_Component\n",
    "from phydra.processes.environments import BaseEnvironment, Slab\n",
    "from phydra.processes.fluxes import (BaseFlux, LimitedGrowth_Monod, \n",
    "                                     LimitedGrowth_MonodTempLight,  \n",
    "                                     LinearMortality, \n",
    "                                     HollingTypeIII, make_flux, make_multigrazing)\n",
    "from phydra.processes.forcingfluxes import (LinearMortalityClosure, Mixing, Sinking, \n",
    "                                            Upwelling, make_FX_flux)\n",
    "from phydra.processes.forcing import (SinusoidalMLD, ConstantN0, WOA2018_MLD, \n",
    "                                      WOA2018_N0, MODISaq_PAR, WOA2018_Tmld, \n",
    "                                      ConstantPAR, ConstantTemp)\n",
    "from phydra.processes.gekkocontext import GekkoContext, GekkoSolve, InheritGekkoContext"
   ]
  },
  {
   "cell_type": "code",
   "execution_count": 8,
   "metadata": {},
   "outputs": [],
   "source": [
    "from phydra.processes.forcing import NutrientForcing, MLDForcing"
   ]
  },
  {
   "cell_type": "code",
   "execution_count": 9,
   "metadata": {},
   "outputs": [
    {
     "name": "stdout",
     "output_type": "stream",
     "text": [
      "xarray-simlab version:  0.4.1\n",
      "phydra version:  0+untagged.82.g7e99bc8.dirty\n"
     ]
    }
   ],
   "source": [
    "print('xarray-simlab version: ', xs.__version__)\n",
    "print('phydra version: ', phydra.__version__)"
   ]
  },
  {
   "cell_type": "code",
   "execution_count": 12,
   "metadata": {},
   "outputs": [
    {
     "data": {
      "text/plain": [
       "<xsimlab.Model (19 processes, 41 inputs)>\n",
       "context\n",
       "time\n",
       "    days               [in] ('time',) time in days\n",
       "grid\n",
       "    shape              [in]\n",
       "    length             [in]\n",
       "ibcs\n",
       "    ibc                [in] Initial Boundary Conditions\n",
       "N\n",
       "    init               [in]\n",
       "    dim                [in]\n",
       "P\n",
       "    dim                [in]\n",
       "    init               [in]\n",
       "Z\n",
       "    dim                [in]\n",
       "    init               [in]\n",
       "D\n",
       "    dim                [in]\n",
       "    init               [in]\n",
       "P_Growth\n",
       "    halfsat_min        [in] half-saturation constant of nutrient up...\n",
       "    halfsat_max        [in] half-saturation constant of nutrient up...\n",
       "    mu_max             [in] Maximum growth rate of component\n",
       "    C_label            [in] label of component that grows\n",
       "    mu_min             [in] Maximum growth rate of component\n",
       "    R_label            [in] label of ressource component that is co...\n",
       "Temp\n",
       "    lat                [in]\n",
       "    smooth             [in] smoothing factor used to choose number ...\n",
       "    rbb                [in]\n",
       "    lon                [in]\n",
       "Grazing\n",
       "    Imax               [in] maximum grazing rate for consumer\n",
       "    C_label            [in] label of component that grazes\n",
       "    R_label            [in] labels of components that is grazed upon\n",
       "    halfsat            [in] label of component that grazes\n",
       "MLD\n",
       "    rbb                [in]\n",
       "    lon                [in]\n",
       "    smooth             [in] smoothing factor used to choose number ...\n",
       "    lat                [in]\n",
       "N0\n",
       "    value              [in] value of the constant forcing\n",
       "Upwelling\n",
       "    kappa              [in] constant mixing coefficient\n",
       "    C_labels           [in] u label of component(s) that grows\n",
       "Z_LinMortality\n",
       "    mortality_rate     [in] mortality rate of component\n",
       "    C_labels           [in] z label of component(s) that grows\n",
       "PAR\n",
       "    lat                [in]\n",
       "    smooth             [in] smoothing factor used to choose number ...\n",
       "    rbb                [in]\n",
       "    lon                [in]\n",
       "P_LinMortality\n",
       "    mortality_rate     [in] mortality rate of component\n",
       "    C_labels           [in] p label of component(s) that grows\n",
       "Env\n",
       "solver"
      ]
     },
     "execution_count": 12,
     "metadata": {},
     "output_type": "execute_result"
    }
   ],
   "source": [
    "model = xs.Model({\n",
    "    'time':Time, 'grid':Grid0D, 'ibcs':Boundary0D, \n",
    "    \n",
    "    'context':GekkoContext,\n",
    "                  \n",
    "    'N':make_Component('Nutrient','N', comp_type=Component), 'P':make_Component('Phytoplankton','P', comp_type=Component),\n",
    "    'Z':make_Component('Zooplankton','Z', comp_type=Component), 'D':make_Component('Detritus','D', comp_type=Component),\n",
    "    'Env':Slab, \n",
    "    \n",
    "    # Fluxes\n",
    "    'P_Growth':make_flux(LimitedGrowth_Monod, 'G'), \n",
    "     \n",
    "    'P_LinMortality':make_FX_flux(LinearMortalityClosure, 'P'),\n",
    "    \n",
    "    'Grazing':make_multigrazing(HollingTypeIII, 'X'), \n",
    "    \n",
    "    # Closure (i.e. output from system)\n",
    "    'Z_LinMortality':make_FX_flux(LinearMortalityClosure, 'Z'),\n",
    "    \n",
    "    # ForcingFluxes\n",
    "    #'Sinking':make_FX_flux(Sinking, 'S'),\n",
    "    'Upwelling':make_FX_flux(Upwelling, 'U'),\n",
    "    \n",
    "    'MLD':WOA2018_MLD, \n",
    "    'N0':ConstantN0, \n",
    "    'PAR':MODISaq_PAR,\n",
    "    'Temp':WOA2018_Tmld,\n",
    "    \n",
    "    'solver':GekkoSolve\n",
    "})\n",
    "\n",
    "model"
   ]
  },
  {
   "cell_type": "code",
   "execution_count": 13,
   "metadata": {},
   "outputs": [
    {
     "data": {
      "text/plain": [
       "[('time', 'time'),\n",
       " ('N', 'N'),\n",
       " ('P', 'P'),\n",
       " ('Z', 'Z'),\n",
       " ('D', 'D'),\n",
       " ('Env', 'components'),\n",
       " ('Env', 'fluxes'),\n",
       " ('Env', 'forcingfluxes'),\n",
       " ('Env', 'forcings'),\n",
       " ('P_Growth', 'G'),\n",
       " ('P_LinMortality', 'P'),\n",
       " ('Grazing', 'X'),\n",
       " ('Z_LinMortality', 'Z'),\n",
       " ('Upwelling', 'U')]"
      ]
     },
     "execution_count": 13,
     "metadata": {},
     "output_type": "execute_result"
    }
   ],
   "source": [
    "model.index_vars \n"
   ]
  },
  {
   "cell_type": "code",
   "execution_count": 14,
   "metadata": {},
   "outputs": [],
   "source": [
    "ForcingLocation = {\n",
    "    'lat':40,\n",
    "    'lon':20,\n",
    "    'rbb':2, \n",
    "    'smooth':100\n",
    "}\n",
    "ForcingLocationNOSMOOTH = ForcingLocation.copy()\n",
    "ForcingLocationNOSMOOTH['smooth'] = 1"
   ]
  },
  {
   "cell_type": "code",
   "execution_count": 15,
   "metadata": {
    "collapsed": false,
    "jupyter": {
     "outputs_hidden": false
    },
    "pycharm": {
     "is_executing": false,
     "name": "#%%\n"
    }
   },
   "outputs": [
    {
     "ename": "KeyError",
     "evalue": "\"('Grazing', 'R_feed_prefs'), ('Grazing', 'R_labels') is/are not valid key(s) for input variables in model <xsimlab.Model (19 processes, 41 inputs)>\\ncontext\\ntime\\n    days               [in] ('time',) time in days\\ngrid\\n    shape              [in]\\n    length             [in]\\nibcs\\n    ibc                [in] Initial Boundary Conditions\\nN\\n    init               [in]\\n    dim                [in]\\nP\\n    dim                [in]\\n    init               [in]\\nZ\\n    dim                [in]\\n    init               [in]\\nD\\n    dim                [in]\\n    init               [in]\\nP_Growth\\n    halfsat_min        [in] half-saturation constant of nutrient up...\\n    halfsat_max        [in] half-saturation constant of nutrient up...\\n    mu_max             [in] Maximum growth rate of component\\n    C_label            [in] label of component that grows\\n    mu_min             [in] Maximum growth rate of component\\n    R_label            [in] label of ressource component that is co...\\nTemp\\n    lat                [in]\\n    smooth             [in] smoothing factor used to choose number ...\\n    rbb                [in]\\n    lon                [in]\\nGrazing\\n    Imax               [in] maximum grazing rate for consumer\\n    C_label            [in] label of component that grazes\\n    R_label            [in] labels of components that is grazed upon\\n    halfsat            [in] label of component that grazes\\nMLD\\n    rbb                [in]\\n    lon                [in]\\n    smooth             [in] smoothing factor used to choose number ...\\n    lat                [in]\\nN0\\n    value              [in] value of the constant forcing\\nUpwelling\\n    kappa              [in] constant mixing coefficient\\n    C_labels           [in] u label of component(s) that grows\\nZ_LinMortality\\n    mortality_rate     [in] mortality rate of component\\n    C_labels           [in] z label of component(s) that grows\\nPAR\\n    lat                [in]\\n    smooth             [in] smoothing factor used to choose number ...\\n    rbb                [in]\\n    lon                [in]\\nP_LinMortality\\n    mortality_rate     [in] mortality rate of component\\n    C_labels           [in] p label of component(s) that grows\\nEnv\\nsolver\\n\"",
     "output_type": "error",
     "traceback": [
      "\u001b[0;31m---------------------------------------------------------------------------\u001b[0m",
      "\u001b[0;31mKeyError\u001b[0m                                  Traceback (most recent call last)",
      "\u001b[0;32m<ipython-input-15-e823867ab409>\u001b[0m in \u001b[0;36m<module>\u001b[0;34m\u001b[0m\n\u001b[0;32m----> 1\u001b[0;31m in_ds = phydra_setup(\n\u001b[0m\u001b[1;32m      2\u001b[0m     \u001b[0mmodel\u001b[0m\u001b[0;34m=\u001b[0m\u001b[0mmodel\u001b[0m\u001b[0;34m,\u001b[0m\u001b[0;34m\u001b[0m\u001b[0;34m\u001b[0m\u001b[0m\n\u001b[1;32m      3\u001b[0m     input_vars={\n\u001b[1;32m      4\u001b[0m         \u001b[0;34m'time__days'\u001b[0m\u001b[0;34m:\u001b[0m \u001b[0;34m(\u001b[0m\u001b[0;34m'time'\u001b[0m\u001b[0;34m,\u001b[0m \u001b[0mnp\u001b[0m\u001b[0;34m.\u001b[0m\u001b[0marange\u001b[0m\u001b[0;34m(\u001b[0m\u001b[0;36m0\u001b[0m\u001b[0;34m,\u001b[0m \u001b[0;36m365\u001b[0m\u001b[0;34m*\u001b[0m\u001b[0;36m3\u001b[0m\u001b[0;34m)\u001b[0m\u001b[0;34m)\u001b[0m\u001b[0;34m,\u001b[0m \u001b[0;31m#365*\u001b[0m\u001b[0;34m\u001b[0m\u001b[0;34m\u001b[0m\u001b[0m\n\u001b[1;32m      5\u001b[0m \u001b[0;34m\u001b[0m\u001b[0m\n",
      "\u001b[0;32m~/Documents/GitHub/phydra/examples/../phydra/utility/xsimlabwrappers.py\u001b[0m in \u001b[0;36mphydra_setup\u001b[0;34m(model, input_vars, output_vars)\u001b[0m\n\u001b[1;32m      5\u001b[0m     \"\"\" This function wraps create_setup and adds a dummy clock parameter\n\u001b[1;32m      6\u001b[0m     necessary for model execution \"\"\"\n\u001b[0;32m----> 7\u001b[0;31m     return xs.create_setup(model=model,\n\u001b[0m\u001b[1;32m      8\u001b[0m                            \u001b[0;31m# necessary for xsimlab\u001b[0m\u001b[0;34m\u001b[0m\u001b[0;34m\u001b[0m\u001b[0;34m\u001b[0m\u001b[0m\n\u001b[1;32m      9\u001b[0m                            \u001b[0mclocks\u001b[0m\u001b[0;34m=\u001b[0m\u001b[0;34m{\u001b[0m\u001b[0;34m'clock'\u001b[0m\u001b[0;34m:\u001b[0m \u001b[0;34m[\u001b[0m\u001b[0;36m0\u001b[0m\u001b[0;34m,\u001b[0m \u001b[0;36m1\u001b[0m\u001b[0;34m]\u001b[0m\u001b[0;34m}\u001b[0m\u001b[0;34m,\u001b[0m\u001b[0;34m\u001b[0m\u001b[0;34m\u001b[0m\u001b[0m\n",
      "\u001b[0;32m~/opt/miniconda3/envs/xsimlab/lib/python3.8/site-packages/xsimlab/xr_accessor.py\u001b[0m in \u001b[0;36mcreate_setup\u001b[0;34m(model, clocks, master_clock, input_vars, output_vars, fill_default)\u001b[0m\n\u001b[1;32m    906\u001b[0m \u001b[0;34m\u001b[0m\u001b[0m\n\u001b[1;32m    907\u001b[0m     ds = (\n\u001b[0;32m--> 908\u001b[0;31m         \u001b[0mDataset\u001b[0m\u001b[0;34m(\u001b[0m\u001b[0;34m)\u001b[0m\u001b[0;34m\u001b[0m\u001b[0;34m\u001b[0m\u001b[0m\n\u001b[0m\u001b[1;32m    909\u001b[0m         \u001b[0;34m.\u001b[0m\u001b[0mxsimlab\u001b[0m\u001b[0;34m.\u001b[0m\u001b[0mupdate_clocks\u001b[0m\u001b[0;34m(\u001b[0m\u001b[0mmodel\u001b[0m\u001b[0;34m=\u001b[0m\u001b[0mmodel\u001b[0m\u001b[0;34m,\u001b[0m \u001b[0mclocks\u001b[0m\u001b[0;34m=\u001b[0m\u001b[0mclocks\u001b[0m\u001b[0;34m,\u001b[0m \u001b[0mmaster_clock\u001b[0m\u001b[0;34m=\u001b[0m\u001b[0mmaster_clock\u001b[0m\u001b[0;34m)\u001b[0m\u001b[0;34m\u001b[0m\u001b[0;34m\u001b[0m\u001b[0m\n\u001b[1;32m    910\u001b[0m         \u001b[0;34m.\u001b[0m\u001b[0mpipe\u001b[0m\u001b[0;34m(\u001b[0m\u001b[0mmaybe_fill_default\u001b[0m\u001b[0;34m)\u001b[0m\u001b[0;34m\u001b[0m\u001b[0;34m\u001b[0m\u001b[0m\n",
      "\u001b[0;32m~/opt/miniconda3/envs/xsimlab/lib/python3.8/site-packages/xsimlab/xr_accessor.py\u001b[0m in \u001b[0;36mupdate_vars\u001b[0;34m(self, model, input_vars, output_vars)\u001b[0m\n\u001b[1;32m    575\u001b[0m \u001b[0;34m\u001b[0m\u001b[0m\n\u001b[1;32m    576\u001b[0m         \u001b[0;32mif\u001b[0m \u001b[0minput_vars\u001b[0m \u001b[0;32mis\u001b[0m \u001b[0;32mnot\u001b[0m \u001b[0;32mNone\u001b[0m\u001b[0;34m:\u001b[0m\u001b[0;34m\u001b[0m\u001b[0;34m\u001b[0m\u001b[0m\n\u001b[0;32m--> 577\u001b[0;31m             \u001b[0mds\u001b[0m\u001b[0;34m.\u001b[0m\u001b[0mxsimlab\u001b[0m\u001b[0;34m.\u001b[0m\u001b[0m_set_input_vars\u001b[0m\u001b[0;34m(\u001b[0m\u001b[0mmodel\u001b[0m\u001b[0;34m,\u001b[0m \u001b[0m_flatten_inputs\u001b[0m\u001b[0;34m(\u001b[0m\u001b[0minput_vars\u001b[0m\u001b[0;34m)\u001b[0m\u001b[0;34m)\u001b[0m\u001b[0;34m\u001b[0m\u001b[0;34m\u001b[0m\u001b[0m\n\u001b[0m\u001b[1;32m    578\u001b[0m \u001b[0;34m\u001b[0m\u001b[0m\n\u001b[1;32m    579\u001b[0m         \u001b[0;32mif\u001b[0m \u001b[0moutput_vars\u001b[0m \u001b[0;32mis\u001b[0m \u001b[0;32mnot\u001b[0m \u001b[0;32mNone\u001b[0m\u001b[0;34m:\u001b[0m\u001b[0;34m\u001b[0m\u001b[0;34m\u001b[0m\u001b[0m\n",
      "\u001b[0;32m~/opt/miniconda3/envs/xsimlab/lib/python3.8/site-packages/xsimlab/xr_accessor.py\u001b[0m in \u001b[0;36m_set_input_vars\u001b[0;34m(self, model, input_vars)\u001b[0m\n\u001b[1;32m    293\u001b[0m \u001b[0;34m\u001b[0m\u001b[0m\n\u001b[1;32m    294\u001b[0m         \u001b[0;32mif\u001b[0m \u001b[0minvalid_inputs\u001b[0m\u001b[0;34m:\u001b[0m\u001b[0;34m\u001b[0m\u001b[0;34m\u001b[0m\u001b[0m\n\u001b[0;32m--> 295\u001b[0;31m             raise KeyError(\n\u001b[0m\u001b[1;32m    296\u001b[0m                 \u001b[0;34m\", \"\u001b[0m\u001b[0;34m.\u001b[0m\u001b[0mjoin\u001b[0m\u001b[0;34m(\u001b[0m\u001b[0;34m[\u001b[0m\u001b[0mstr\u001b[0m\u001b[0;34m(\u001b[0m\u001b[0mk\u001b[0m\u001b[0;34m)\u001b[0m \u001b[0;32mfor\u001b[0m \u001b[0mk\u001b[0m \u001b[0;32min\u001b[0m \u001b[0minvalid_inputs\u001b[0m\u001b[0;34m]\u001b[0m\u001b[0;34m)\u001b[0m\u001b[0;34m\u001b[0m\u001b[0;34m\u001b[0m\u001b[0m\n\u001b[1;32m    297\u001b[0m                 \u001b[0;34m+\u001b[0m \u001b[0;34mf\" is/are not valid key(s) for input variables in model {model}\"\u001b[0m\u001b[0;34m,\u001b[0m\u001b[0;34m\u001b[0m\u001b[0;34m\u001b[0m\u001b[0m\n",
      "\u001b[0;31mKeyError\u001b[0m: \"('Grazing', 'R_feed_prefs'), ('Grazing', 'R_labels') is/are not valid key(s) for input variables in model <xsimlab.Model (19 processes, 41 inputs)>\\ncontext\\ntime\\n    days               [in] ('time',) time in days\\ngrid\\n    shape              [in]\\n    length             [in]\\nibcs\\n    ibc                [in] Initial Boundary Conditions\\nN\\n    init               [in]\\n    dim                [in]\\nP\\n    dim                [in]\\n    init               [in]\\nZ\\n    dim                [in]\\n    init               [in]\\nD\\n    dim                [in]\\n    init               [in]\\nP_Growth\\n    halfsat_min        [in] half-saturation constant of nutrient up...\\n    halfsat_max        [in] half-saturation constant of nutrient up...\\n    mu_max             [in] Maximum growth rate of component\\n    C_label            [in] label of component that grows\\n    mu_min             [in] Maximum growth rate of component\\n    R_label            [in] label of ressource component that is co...\\nTemp\\n    lat                [in]\\n    smooth             [in] smoothing factor used to choose number ...\\n    rbb                [in]\\n    lon                [in]\\nGrazing\\n    Imax               [in] maximum grazing rate for consumer\\n    C_label            [in] label of component that grazes\\n    R_label            [in] labels of components that is grazed upon\\n    halfsat            [in] label of component that grazes\\nMLD\\n    rbb                [in]\\n    lon                [in]\\n    smooth             [in] smoothing factor used to choose number ...\\n    lat                [in]\\nN0\\n    value              [in] value of the constant forcing\\nUpwelling\\n    kappa              [in] constant mixing coefficient\\n    C_labels           [in] u label of component(s) that grows\\nZ_LinMortality\\n    mortality_rate     [in] mortality rate of component\\n    C_labels           [in] z label of component(s) that grows\\nPAR\\n    lat                [in]\\n    smooth             [in] smoothing factor used to choose number ...\\n    rbb                [in]\\n    lon                [in]\\nP_LinMortality\\n    mortality_rate     [in] mortality rate of component\\n    C_labels           [in] p label of component(s) that grows\\nEnv\\nsolver\\n\""
     ]
    }
   ],
   "source": [
    "in_ds = phydra_setup(\n",
    "    model=model,\n",
    "    input_vars={\n",
    "        'time__days': ('time', np.arange(0, 365*3)), #365*\n",
    "        \n",
    "        'N':{'dim':1,'init':.1}, \n",
    "        'P':{'dim':1,'init':.1},\n",
    "        'Z':{'dim':1,'init':0.1},\n",
    "        'D':{'dim':1,'init':2.1},\n",
    "        \n",
    "     'P_Growth':{'mu_min':0.7,\n",
    "                   'mu_max':0.73,\n",
    "               'halfsat_min':0.67,\n",
    "               'halfsat_max':0.7,\n",
    "               'R_label':'N',\n",
    "               'C_label':'P'\n",
    "                   \n",
    "                #'kw':0.04,\n",
    "                #'kc':0.03,\n",
    "                #'OptI':30\n",
    "                   },\n",
    "        \n",
    "        'Grazing':{'Imax':0.5,\n",
    "               'halfsat':1.,\n",
    "               'R_feed_prefs':[0.67, 0.33],\n",
    "               'R_labels':['P','D'],\n",
    "               #'C_labels':['Z']},\n",
    "               #'R_label':'P',\n",
    "               'C_label':'Z'},\n",
    "        \n",
    "                \n",
    "        'P_LinMortality':{'mortality_rate':0.1,\n",
    "               'C_labels':['P']},\n",
    "        \n",
    "        'Z_LinMortality':{'mortality_rate':0.1,\n",
    "               'C_labels':['Z']},\n",
    "        \n",
    "        #'Sinking':{'kappa':0.,\n",
    "        #       'C_labels':['P']},\n",
    "        \n",
    "        'Upwelling':{'kappa':0.,\n",
    "               'C_labels':['N']},\n",
    "        \n",
    "        'PAR':ForcingLocationNOSMOOTH,\n",
    "        'Temp':ForcingLocationNOSMOOTH,\n",
    "        'N0__value':2,\n",
    "        'MLD':ForcingLocation\n",
    "    },\n",
    "    output_vars={\n",
    "        'Env__comp_output':None,\n",
    "        'Env__flux_output':None,\n",
    "        'Env__fxflux_output':None,\n",
    "        'Env__forcing_output':None\n",
    "    }\n",
    "                 )"
   ]
  },
  {
   "cell_type": "code",
   "execution_count": 11,
   "metadata": {
    "collapsed": false,
    "jupyter": {
     "outputs_hidden": false
    },
    "pycharm": {
     "is_executing": false,
     "name": "#%%\n"
    }
   },
   "outputs": [
    {
     "ename": "NameError",
     "evalue": "name 'in_ds' is not defined",
     "output_type": "error",
     "traceback": [
      "\u001b[0;31m---------------------------------------------------------------------------\u001b[0m",
      "\u001b[0;31mNameError\u001b[0m                                 Traceback (most recent call last)",
      "\u001b[0;32m<ipython-input-11-b5148c6a5108>\u001b[0m in \u001b[0;36m<module>\u001b[0;34m\u001b[0m\n\u001b[1;32m      1\u001b[0m \u001b[0;32mwith\u001b[0m \u001b[0mmodel\u001b[0m\u001b[0;34m:\u001b[0m\u001b[0;34m\u001b[0m\u001b[0;34m\u001b[0m\u001b[0m\n\u001b[0;32m----> 2\u001b[0;31m     \u001b[0mout_ds\u001b[0m \u001b[0;34m=\u001b[0m \u001b[0min_ds\u001b[0m\u001b[0;34m.\u001b[0m\u001b[0mxsimlab\u001b[0m\u001b[0;34m.\u001b[0m\u001b[0mrun\u001b[0m\u001b[0;34m(\u001b[0m\u001b[0;34m)\u001b[0m\u001b[0;34m\u001b[0m\u001b[0;34m\u001b[0m\u001b[0m\n\u001b[0m",
      "\u001b[0;31mNameError\u001b[0m: name 'in_ds' is not defined"
     ]
    }
   ],
   "source": [
    "with model:\n",
    "    out_ds = in_ds.xsimlab.run()"
   ]
  },
  {
   "cell_type": "code",
   "execution_count": 12,
   "metadata": {
    "collapsed": false,
    "jupyter": {
     "outputs_hidden": false
    },
    "pycharm": {
     "is_executing": false,
     "name": "#%%\n"
    }
   },
   "outputs": [
    {
     "data": {
      "text/html": [
       "<div><svg style=\"position: absolute; width: 0; height: 0; overflow: hidden\">\n",
       "<defs>\n",
       "<symbol id=\"icon-database\" viewBox=\"0 0 32 32\">\n",
       "<title>Show/Hide data repr</title>\n",
       "<path d=\"M16 0c-8.837 0-16 2.239-16 5v4c0 2.761 7.163 5 16 5s16-2.239 16-5v-4c0-2.761-7.163-5-16-5z\"></path>\n",
       "<path d=\"M16 17c-8.837 0-16-2.239-16-5v6c0 2.761 7.163 5 16 5s16-2.239 16-5v-6c0 2.761-7.163 5-16 5z\"></path>\n",
       "<path d=\"M16 26c-8.837 0-16-2.239-16-5v6c0 2.761 7.163 5 16 5s16-2.239 16-5v-6c0 2.761-7.163 5-16 5z\"></path>\n",
       "</symbol>\n",
       "<symbol id=\"icon-file-text2\" viewBox=\"0 0 32 32\">\n",
       "<title>Show/Hide attributes</title>\n",
       "<path d=\"M28.681 7.159c-0.694-0.947-1.662-2.053-2.724-3.116s-2.169-2.030-3.116-2.724c-1.612-1.182-2.393-1.319-2.841-1.319h-15.5c-1.378 0-2.5 1.121-2.5 2.5v27c0 1.378 1.122 2.5 2.5 2.5h23c1.378 0 2.5-1.122 2.5-2.5v-19.5c0-0.448-0.137-1.23-1.319-2.841zM24.543 5.457c0.959 0.959 1.712 1.825 2.268 2.543h-4.811v-4.811c0.718 0.556 1.584 1.309 2.543 2.268zM28 29.5c0 0.271-0.229 0.5-0.5 0.5h-23c-0.271 0-0.5-0.229-0.5-0.5v-27c0-0.271 0.229-0.5 0.5-0.5 0 0 15.499-0 15.5 0v7c0 0.552 0.448 1 1 1h7v19.5z\"></path>\n",
       "<path d=\"M23 26h-14c-0.552 0-1-0.448-1-1s0.448-1 1-1h14c0.552 0 1 0.448 1 1s-0.448 1-1 1z\"></path>\n",
       "<path d=\"M23 22h-14c-0.552 0-1-0.448-1-1s0.448-1 1-1h14c0.552 0 1 0.448 1 1s-0.448 1-1 1z\"></path>\n",
       "<path d=\"M23 18h-14c-0.552 0-1-0.448-1-1s0.448-1 1-1h14c0.552 0 1 0.448 1 1s-0.448 1-1 1z\"></path>\n",
       "</symbol>\n",
       "</defs>\n",
       "</svg>\n",
       "<style>/* CSS stylesheet for displaying xarray objects in jupyterlab.\n",
       " *\n",
       " */\n",
       "\n",
       ":root {\n",
       "  --xr-font-color0: var(--jp-content-font-color0, rgba(0, 0, 0, 1));\n",
       "  --xr-font-color2: var(--jp-content-font-color2, rgba(0, 0, 0, 0.54));\n",
       "  --xr-font-color3: var(--jp-content-font-color3, rgba(0, 0, 0, 0.38));\n",
       "  --xr-border-color: var(--jp-border-color2, #e0e0e0);\n",
       "  --xr-disabled-color: var(--jp-layout-color3, #bdbdbd);\n",
       "  --xr-background-color: var(--jp-layout-color0, white);\n",
       "  --xr-background-color-row-even: var(--jp-layout-color1, white);\n",
       "  --xr-background-color-row-odd: var(--jp-layout-color2, #eeeeee);\n",
       "}\n",
       "\n",
       ".xr-wrap {\n",
       "  min-width: 300px;\n",
       "  max-width: 700px;\n",
       "}\n",
       "\n",
       ".xr-header {\n",
       "  padding-top: 6px;\n",
       "  padding-bottom: 6px;\n",
       "  margin-bottom: 4px;\n",
       "  border-bottom: solid 1px var(--xr-border-color);\n",
       "}\n",
       "\n",
       ".xr-header > div,\n",
       ".xr-header > ul {\n",
       "  display: inline;\n",
       "  margin-top: 0;\n",
       "  margin-bottom: 0;\n",
       "}\n",
       "\n",
       ".xr-obj-type,\n",
       ".xr-array-name {\n",
       "  margin-left: 2px;\n",
       "  margin-right: 10px;\n",
       "}\n",
       "\n",
       ".xr-obj-type {\n",
       "  color: var(--xr-font-color2);\n",
       "}\n",
       "\n",
       ".xr-sections {\n",
       "  padding-left: 0 !important;\n",
       "  display: grid;\n",
       "  grid-template-columns: 150px auto auto 1fr 20px 20px;\n",
       "}\n",
       "\n",
       ".xr-section-item {\n",
       "  display: contents;\n",
       "}\n",
       "\n",
       ".xr-section-item input {\n",
       "  display: none;\n",
       "}\n",
       "\n",
       ".xr-section-item input + label {\n",
       "  color: var(--xr-disabled-color);\n",
       "}\n",
       "\n",
       ".xr-section-item input:enabled + label {\n",
       "  cursor: pointer;\n",
       "  color: var(--xr-font-color2);\n",
       "}\n",
       "\n",
       ".xr-section-item input:enabled + label:hover {\n",
       "  color: var(--xr-font-color0);\n",
       "}\n",
       "\n",
       ".xr-section-summary {\n",
       "  grid-column: 1;\n",
       "  color: var(--xr-font-color2);\n",
       "  font-weight: 500;\n",
       "}\n",
       "\n",
       ".xr-section-summary > span {\n",
       "  display: inline-block;\n",
       "  padding-left: 0.5em;\n",
       "}\n",
       "\n",
       ".xr-section-summary-in:disabled + label {\n",
       "  color: var(--xr-font-color2);\n",
       "}\n",
       "\n",
       ".xr-section-summary-in + label:before {\n",
       "  display: inline-block;\n",
       "  content: '►';\n",
       "  font-size: 11px;\n",
       "  width: 15px;\n",
       "  text-align: center;\n",
       "}\n",
       "\n",
       ".xr-section-summary-in:disabled + label:before {\n",
       "  color: var(--xr-disabled-color);\n",
       "}\n",
       "\n",
       ".xr-section-summary-in:checked + label:before {\n",
       "  content: '▼';\n",
       "}\n",
       "\n",
       ".xr-section-summary-in:checked + label > span {\n",
       "  display: none;\n",
       "}\n",
       "\n",
       ".xr-section-summary,\n",
       ".xr-section-inline-details {\n",
       "  padding-top: 4px;\n",
       "  padding-bottom: 4px;\n",
       "}\n",
       "\n",
       ".xr-section-inline-details {\n",
       "  grid-column: 2 / -1;\n",
       "}\n",
       "\n",
       ".xr-section-details {\n",
       "  display: none;\n",
       "  grid-column: 1 / -1;\n",
       "  margin-bottom: 5px;\n",
       "}\n",
       "\n",
       ".xr-section-summary-in:checked ~ .xr-section-details {\n",
       "  display: contents;\n",
       "}\n",
       "\n",
       ".xr-array-wrap {\n",
       "  grid-column: 1 / -1;\n",
       "  display: grid;\n",
       "  grid-template-columns: 20px auto;\n",
       "}\n",
       "\n",
       ".xr-array-wrap > label {\n",
       "  grid-column: 1;\n",
       "  vertical-align: top;\n",
       "}\n",
       "\n",
       ".xr-preview {\n",
       "  color: var(--xr-font-color3);\n",
       "}\n",
       "\n",
       ".xr-array-preview,\n",
       ".xr-array-data {\n",
       "  padding: 0 5px !important;\n",
       "  grid-column: 2;\n",
       "}\n",
       "\n",
       ".xr-array-data,\n",
       ".xr-array-in:checked ~ .xr-array-preview {\n",
       "  display: none;\n",
       "}\n",
       "\n",
       ".xr-array-in:checked ~ .xr-array-data,\n",
       ".xr-array-preview {\n",
       "  display: inline-block;\n",
       "}\n",
       "\n",
       ".xr-dim-list {\n",
       "  display: inline-block !important;\n",
       "  list-style: none;\n",
       "  padding: 0 !important;\n",
       "  margin: 0;\n",
       "}\n",
       "\n",
       ".xr-dim-list li {\n",
       "  display: inline-block;\n",
       "  padding: 0;\n",
       "  margin: 0;\n",
       "}\n",
       "\n",
       ".xr-dim-list:before {\n",
       "  content: '(';\n",
       "}\n",
       "\n",
       ".xr-dim-list:after {\n",
       "  content: ')';\n",
       "}\n",
       "\n",
       ".xr-dim-list li:not(:last-child):after {\n",
       "  content: ',';\n",
       "  padding-right: 5px;\n",
       "}\n",
       "\n",
       ".xr-has-index {\n",
       "  font-weight: bold;\n",
       "}\n",
       "\n",
       ".xr-var-list,\n",
       ".xr-var-item {\n",
       "  display: contents;\n",
       "}\n",
       "\n",
       ".xr-var-item > div,\n",
       ".xr-var-item label,\n",
       ".xr-var-item > .xr-var-name span {\n",
       "  background-color: var(--xr-background-color-row-even);\n",
       "  margin-bottom: 0;\n",
       "}\n",
       "\n",
       ".xr-var-item > .xr-var-name:hover span {\n",
       "  padding-right: 5px;\n",
       "}\n",
       "\n",
       ".xr-var-list > li:nth-child(odd) > div,\n",
       ".xr-var-list > li:nth-child(odd) > label,\n",
       ".xr-var-list > li:nth-child(odd) > .xr-var-name span {\n",
       "  background-color: var(--xr-background-color-row-odd);\n",
       "}\n",
       "\n",
       ".xr-var-name {\n",
       "  grid-column: 1;\n",
       "}\n",
       "\n",
       ".xr-var-dims {\n",
       "  grid-column: 2;\n",
       "}\n",
       "\n",
       ".xr-var-dtype {\n",
       "  grid-column: 3;\n",
       "  text-align: right;\n",
       "  color: var(--xr-font-color2);\n",
       "}\n",
       "\n",
       ".xr-var-preview {\n",
       "  grid-column: 4;\n",
       "}\n",
       "\n",
       ".xr-var-name,\n",
       ".xr-var-dims,\n",
       ".xr-var-dtype,\n",
       ".xr-preview,\n",
       ".xr-attrs dt {\n",
       "  white-space: nowrap;\n",
       "  overflow: hidden;\n",
       "  text-overflow: ellipsis;\n",
       "  padding-right: 10px;\n",
       "}\n",
       "\n",
       ".xr-var-name:hover,\n",
       ".xr-var-dims:hover,\n",
       ".xr-var-dtype:hover,\n",
       ".xr-attrs dt:hover {\n",
       "  overflow: visible;\n",
       "  width: auto;\n",
       "  z-index: 1;\n",
       "}\n",
       "\n",
       ".xr-var-attrs,\n",
       ".xr-var-data {\n",
       "  display: none;\n",
       "  background-color: var(--xr-background-color) !important;\n",
       "  padding-bottom: 5px !important;\n",
       "}\n",
       "\n",
       ".xr-var-attrs-in:checked ~ .xr-var-attrs,\n",
       ".xr-var-data-in:checked ~ .xr-var-data {\n",
       "  display: block;\n",
       "}\n",
       "\n",
       ".xr-var-data > table {\n",
       "  float: right;\n",
       "}\n",
       "\n",
       ".xr-var-name span,\n",
       ".xr-var-data,\n",
       ".xr-attrs {\n",
       "  padding-left: 25px !important;\n",
       "}\n",
       "\n",
       ".xr-attrs,\n",
       ".xr-var-attrs,\n",
       ".xr-var-data {\n",
       "  grid-column: 1 / -1;\n",
       "}\n",
       "\n",
       "dl.xr-attrs {\n",
       "  padding: 0;\n",
       "  margin: 0;\n",
       "  display: grid;\n",
       "  grid-template-columns: 125px auto;\n",
       "}\n",
       "\n",
       ".xr-attrs dt, dd {\n",
       "  padding: 0;\n",
       "  margin: 0;\n",
       "  float: left;\n",
       "  padding-right: 10px;\n",
       "  width: auto;\n",
       "}\n",
       "\n",
       ".xr-attrs dt {\n",
       "  font-weight: normal;\n",
       "  grid-column: 1;\n",
       "}\n",
       "\n",
       ".xr-attrs dt:hover span {\n",
       "  display: inline-block;\n",
       "  background: var(--xr-background-color);\n",
       "  padding-right: 10px;\n",
       "}\n",
       "\n",
       ".xr-attrs dd {\n",
       "  grid-column: 2;\n",
       "  white-space: pre-wrap;\n",
       "  word-break: break-all;\n",
       "}\n",
       "\n",
       ".xr-icon-database,\n",
       ".xr-icon-file-text2 {\n",
       "  display: inline-block;\n",
       "  vertical-align: middle;\n",
       "  width: 1em;\n",
       "  height: 1.5em !important;\n",
       "  stroke-width: 0;\n",
       "  stroke: currentColor;\n",
       "  fill: currentColor;\n",
       "}\n",
       "</style><div class='xr-wrap'><div class='xr-header'><div class='xr-obj-type'>xarray.Dataset</div></div><ul class='xr-sections'><li class='xr-section-item'><input id='section-c03a784d-8209-448d-b2ae-754633be7240' class='xr-section-summary-in' type='checkbox' disabled ><label for='section-c03a784d-8209-448d-b2ae-754633be7240' class='xr-section-summary'  title='Expand/collapse section'>Dimensions:</label><div class='xr-section-inline-details'><ul class='xr-dim-list'><li><span class='xr-has-index'>D</span>: 1</li><li><span class='xr-has-index'>G</span>: 1</li><li><span class='xr-has-index'>N</span>: 1</li><li><span class='xr-has-index'>P</span>: 1</li><li><span>R</span>: 2</li><li><span class='xr-has-index'>U</span>: 1</li><li><span class='xr-has-index'>X</span>: 2</li><li><span class='xr-has-index'>Z</span>: 1</li><li><span class='xr-has-index'>clock</span>: 2</li><li><span class='xr-has-index'>components</span>: 4</li><li><span class='xr-has-index'>fluxes</span>: 3</li><li><span class='xr-has-index'>forcingfluxes</span>: 3</li><li><span class='xr-has-index'>forcings</span>: 4</li><li><span>p</span>: 1</li><li><span class='xr-has-index'>time</span>: 1095</li><li><span>u</span>: 1</li><li><span>z</span>: 1</li></ul></div><div class='xr-section-details'></div></li><li class='xr-section-item'><input id='section-91463a01-5970-494c-8b5f-82fedc6d0907' class='xr-section-summary-in' type='checkbox'  checked><label for='section-91463a01-5970-494c-8b5f-82fedc6d0907' class='xr-section-summary' >Coordinates: <span>(13)</span></label><div class='xr-section-inline-details'></div><div class='xr-section-details'><ul class='xr-var-list'><li class='xr-var-item'><div class='xr-var-name'><span class='xr-has-index'>D</span></div><div class='xr-var-dims'>(D)</div><div class='xr-var-dtype'>&lt;U1</div><div class='xr-var-preview xr-preview'>&#x27;D&#x27;</div><input id='attrs-0a9a8622-eaf4-4d2a-bdad-54bd356a9a36' class='xr-var-attrs-in' type='checkbox' ><label for='attrs-0a9a8622-eaf4-4d2a-bdad-54bd356a9a36' title='Show/Hide attributes'><svg class='icon xr-icon-file-text2'><use xlink:href='#icon-file-text2'></use></svg></label><input id='data-8c35eaa0-7125-4730-a829-e939e8b0c872' class='xr-var-data-in' type='checkbox'><label for='data-8c35eaa0-7125-4730-a829-e939e8b0c872' title='Show/Hide data repr'><svg class='icon xr-icon-database'><use xlink:href='#icon-database'></use></svg></label><div class='xr-var-attrs'><dl class='xr-attrs'><dt><span>_FillValue :</span></dt><dd></dd></dl></div><pre class='xr-var-data'>array([&#x27;D&#x27;], dtype=&#x27;&lt;U1&#x27;)</pre></li><li class='xr-var-item'><div class='xr-var-name'><span class='xr-has-index'>G</span></div><div class='xr-var-dims'>(G)</div><div class='xr-var-dtype'>&lt;U14</div><div class='xr-var-preview xr-preview'>&#x27;P_Growth-N-2-P&#x27;</div><input id='attrs-dc30ac2b-e84c-4550-a1a0-f1170d57f90f' class='xr-var-attrs-in' type='checkbox' ><label for='attrs-dc30ac2b-e84c-4550-a1a0-f1170d57f90f' title='Show/Hide attributes'><svg class='icon xr-icon-file-text2'><use xlink:href='#icon-file-text2'></use></svg></label><input id='data-58bf1d1b-4420-40c9-9a65-2b807647bde9' class='xr-var-data-in' type='checkbox'><label for='data-58bf1d1b-4420-40c9-9a65-2b807647bde9' title='Show/Hide data repr'><svg class='icon xr-icon-database'><use xlink:href='#icon-database'></use></svg></label><div class='xr-var-attrs'><dl class='xr-attrs'><dt><span>_FillValue :</span></dt><dd></dd></dl></div><pre class='xr-var-data'>array([&#x27;P_Growth-N-2-P&#x27;], dtype=&#x27;&lt;U14&#x27;)</pre></li><li class='xr-var-item'><div class='xr-var-name'><span class='xr-has-index'>N</span></div><div class='xr-var-dims'>(N)</div><div class='xr-var-dtype'>&lt;U1</div><div class='xr-var-preview xr-preview'>&#x27;N&#x27;</div><input id='attrs-5d3f214e-44dc-4b5f-a059-4285c662e75c' class='xr-var-attrs-in' type='checkbox' ><label for='attrs-5d3f214e-44dc-4b5f-a059-4285c662e75c' title='Show/Hide attributes'><svg class='icon xr-icon-file-text2'><use xlink:href='#icon-file-text2'></use></svg></label><input id='data-60859692-c1e3-4f78-ae9f-e2710399d744' class='xr-var-data-in' type='checkbox'><label for='data-60859692-c1e3-4f78-ae9f-e2710399d744' title='Show/Hide data repr'><svg class='icon xr-icon-database'><use xlink:href='#icon-database'></use></svg></label><div class='xr-var-attrs'><dl class='xr-attrs'><dt><span>_FillValue :</span></dt><dd></dd></dl></div><pre class='xr-var-data'>array([&#x27;N&#x27;], dtype=&#x27;&lt;U1&#x27;)</pre></li><li class='xr-var-item'><div class='xr-var-name'><span class='xr-has-index'>P</span></div><div class='xr-var-dims'>(P)</div><div class='xr-var-dtype'>&lt;U1</div><div class='xr-var-preview xr-preview'>&#x27;P&#x27;</div><input id='attrs-d6a7af2c-b330-4c00-a6f0-a29dd54930b0' class='xr-var-attrs-in' type='checkbox' ><label for='attrs-d6a7af2c-b330-4c00-a6f0-a29dd54930b0' title='Show/Hide attributes'><svg class='icon xr-icon-file-text2'><use xlink:href='#icon-file-text2'></use></svg></label><input id='data-22afcd93-ea4c-49bf-930a-f397dd7b3e17' class='xr-var-data-in' type='checkbox'><label for='data-22afcd93-ea4c-49bf-930a-f397dd7b3e17' title='Show/Hide data repr'><svg class='icon xr-icon-database'><use xlink:href='#icon-database'></use></svg></label><div class='xr-var-attrs'><dl class='xr-attrs'><dt><span>_FillValue :</span></dt><dd></dd></dl></div><pre class='xr-var-data'>array([&#x27;P&#x27;], dtype=&#x27;&lt;U1&#x27;)</pre></li><li class='xr-var-item'><div class='xr-var-name'><span class='xr-has-index'>U</span></div><div class='xr-var-dims'>(U)</div><div class='xr-var-dtype'>&lt;U11</div><div class='xr-var-preview xr-preview'>&#x27;Upwelling-N&#x27;</div><input id='attrs-dd478b48-a0a7-48ba-a31f-489685e09997' class='xr-var-attrs-in' type='checkbox' ><label for='attrs-dd478b48-a0a7-48ba-a31f-489685e09997' title='Show/Hide attributes'><svg class='icon xr-icon-file-text2'><use xlink:href='#icon-file-text2'></use></svg></label><input id='data-fe473899-3375-4e35-8b4b-ed408ef2d28f' class='xr-var-data-in' type='checkbox'><label for='data-fe473899-3375-4e35-8b4b-ed408ef2d28f' title='Show/Hide data repr'><svg class='icon xr-icon-database'><use xlink:href='#icon-database'></use></svg></label><div class='xr-var-attrs'><dl class='xr-attrs'><dt><span>_FillValue :</span></dt><dd></dd></dl></div><pre class='xr-var-data'>array([&#x27;Upwelling-N&#x27;], dtype=&#x27;&lt;U11&#x27;)</pre></li><li class='xr-var-item'><div class='xr-var-name'><span class='xr-has-index'>X</span></div><div class='xr-var-dims'>(X)</div><div class='xr-var-dtype'>&lt;U13</div><div class='xr-var-preview xr-preview'>&#x27;Grazing-P-2-Z&#x27; &#x27;Grazing-D-2-Z&#x27;</div><input id='attrs-2fbd1f65-f849-46ba-a4a3-605655fac0f8' class='xr-var-attrs-in' type='checkbox' ><label for='attrs-2fbd1f65-f849-46ba-a4a3-605655fac0f8' title='Show/Hide attributes'><svg class='icon xr-icon-file-text2'><use xlink:href='#icon-file-text2'></use></svg></label><input id='data-d419f537-1c5e-437d-b22d-974ad8f85d37' class='xr-var-data-in' type='checkbox'><label for='data-d419f537-1c5e-437d-b22d-974ad8f85d37' title='Show/Hide data repr'><svg class='icon xr-icon-database'><use xlink:href='#icon-database'></use></svg></label><div class='xr-var-attrs'><dl class='xr-attrs'><dt><span>_FillValue :</span></dt><dd></dd></dl></div><pre class='xr-var-data'>array([&#x27;Grazing-P-2-Z&#x27;, &#x27;Grazing-D-2-Z&#x27;], dtype=&#x27;&lt;U13&#x27;)</pre></li><li class='xr-var-item'><div class='xr-var-name'><span class='xr-has-index'>Z</span></div><div class='xr-var-dims'>(Z)</div><div class='xr-var-dtype'>&lt;U1</div><div class='xr-var-preview xr-preview'>&#x27;Z&#x27;</div><input id='attrs-6d391c5a-7263-45f4-9e38-5c8ab43feae6' class='xr-var-attrs-in' type='checkbox' ><label for='attrs-6d391c5a-7263-45f4-9e38-5c8ab43feae6' title='Show/Hide attributes'><svg class='icon xr-icon-file-text2'><use xlink:href='#icon-file-text2'></use></svg></label><input id='data-4faafc33-748f-489a-b547-96ca33d72e03' class='xr-var-data-in' type='checkbox'><label for='data-4faafc33-748f-489a-b547-96ca33d72e03' title='Show/Hide data repr'><svg class='icon xr-icon-database'><use xlink:href='#icon-database'></use></svg></label><div class='xr-var-attrs'><dl class='xr-attrs'><dt><span>_FillValue :</span></dt><dd></dd></dl></div><pre class='xr-var-data'>array([&#x27;Z&#x27;], dtype=&#x27;&lt;U1&#x27;)</pre></li><li class='xr-var-item'><div class='xr-var-name'><span class='xr-has-index'>clock</span></div><div class='xr-var-dims'>(clock)</div><div class='xr-var-dtype'>int64</div><div class='xr-var-preview xr-preview'>0 1</div><input id='attrs-aa34de3d-7e22-41d2-83b7-b8914dbb5133' class='xr-var-attrs-in' type='checkbox' ><label for='attrs-aa34de3d-7e22-41d2-83b7-b8914dbb5133' title='Show/Hide attributes'><svg class='icon xr-icon-file-text2'><use xlink:href='#icon-file-text2'></use></svg></label><input id='data-54094f88-c5f0-4634-a6cd-881e522c3593' class='xr-var-data-in' type='checkbox'><label for='data-54094f88-c5f0-4634-a6cd-881e522c3593' title='Show/Hide data repr'><svg class='icon xr-icon-database'><use xlink:href='#icon-database'></use></svg></label><div class='xr-var-attrs'><dl class='xr-attrs'><dt><span>__xsimlab_master_clock__ :</span></dt><dd>1</dd><dt><span>__xsimlab_output_clock__ :</span></dt><dd>1</dd></dl></div><pre class='xr-var-data'>array([0, 1])</pre></li><li class='xr-var-item'><div class='xr-var-name'><span class='xr-has-index'>components</span></div><div class='xr-var-dims'>(components)</div><div class='xr-var-dtype'>&lt;U1</div><div class='xr-var-preview xr-preview'>&#x27;N&#x27; &#x27;P&#x27; &#x27;Z&#x27; &#x27;D&#x27;</div><input id='attrs-13edae5c-64b9-4bf6-8483-f2db06e8e754' class='xr-var-attrs-in' type='checkbox' ><label for='attrs-13edae5c-64b9-4bf6-8483-f2db06e8e754' title='Show/Hide attributes'><svg class='icon xr-icon-file-text2'><use xlink:href='#icon-file-text2'></use></svg></label><input id='data-7ae99bda-ecc3-4885-aac5-2401d10c65ed' class='xr-var-data-in' type='checkbox'><label for='data-7ae99bda-ecc3-4885-aac5-2401d10c65ed' title='Show/Hide data repr'><svg class='icon xr-icon-database'><use xlink:href='#icon-database'></use></svg></label><div class='xr-var-attrs'><dl class='xr-attrs'><dt><span>_FillValue :</span></dt><dd></dd></dl></div><pre class='xr-var-data'>array([&#x27;N&#x27;, &#x27;P&#x27;, &#x27;Z&#x27;, &#x27;D&#x27;], dtype=&#x27;&lt;U1&#x27;)</pre></li><li class='xr-var-item'><div class='xr-var-name'><span class='xr-has-index'>fluxes</span></div><div class='xr-var-dims'>(fluxes)</div><div class='xr-var-dtype'>&lt;U14</div><div class='xr-var-preview xr-preview'>&#x27;Grazing-P-2-Z&#x27; ... &#x27;P_Growth-N-2-P&#x27;</div><input id='attrs-0da213b3-99c8-4f5e-b691-0ae43ddab61b' class='xr-var-attrs-in' type='checkbox' ><label for='attrs-0da213b3-99c8-4f5e-b691-0ae43ddab61b' title='Show/Hide attributes'><svg class='icon xr-icon-file-text2'><use xlink:href='#icon-file-text2'></use></svg></label><input id='data-899a317d-5879-41c2-92e1-3853e67cdf36' class='xr-var-data-in' type='checkbox'><label for='data-899a317d-5879-41c2-92e1-3853e67cdf36' title='Show/Hide data repr'><svg class='icon xr-icon-database'><use xlink:href='#icon-database'></use></svg></label><div class='xr-var-attrs'><dl class='xr-attrs'><dt><span>_FillValue :</span></dt><dd></dd></dl></div><pre class='xr-var-data'>array([&#x27;Grazing-P-2-Z&#x27;, &#x27;Grazing-D-2-Z&#x27;, &#x27;P_Growth-N-2-P&#x27;], dtype=&#x27;&lt;U14&#x27;)</pre></li><li class='xr-var-item'><div class='xr-var-name'><span class='xr-has-index'>forcingfluxes</span></div><div class='xr-var-dims'>(forcingfluxes)</div><div class='xr-var-dtype'>&lt;U16</div><div class='xr-var-preview xr-preview'>&#x27;P_LinMortality-P&#x27; ... &#x27;Upwelling-N&#x27;</div><input id='attrs-22853070-3a1e-4af2-ad16-7bc272177e8c' class='xr-var-attrs-in' type='checkbox' ><label for='attrs-22853070-3a1e-4af2-ad16-7bc272177e8c' title='Show/Hide attributes'><svg class='icon xr-icon-file-text2'><use xlink:href='#icon-file-text2'></use></svg></label><input id='data-db0bc483-fe56-48d8-bb34-aef11bd70298' class='xr-var-data-in' type='checkbox'><label for='data-db0bc483-fe56-48d8-bb34-aef11bd70298' title='Show/Hide data repr'><svg class='icon xr-icon-database'><use xlink:href='#icon-database'></use></svg></label><div class='xr-var-attrs'><dl class='xr-attrs'><dt><span>_FillValue :</span></dt><dd></dd></dl></div><pre class='xr-var-data'>array([&#x27;P_LinMortality-P&#x27;, &#x27;Z_LinMortality-Z&#x27;, &#x27;Upwelling-N&#x27;], dtype=&#x27;&lt;U16&#x27;)</pre></li><li class='xr-var-item'><div class='xr-var-name'><span class='xr-has-index'>forcings</span></div><div class='xr-var-dims'>(forcings)</div><div class='xr-var-dtype'>&lt;U4</div><div class='xr-var-preview xr-preview'>&#x27;N0&#x27; &#x27;Temp&#x27; &#x27;MLD&#x27; &#x27;PAR&#x27;</div><input id='attrs-740f27d0-55c5-4110-88ab-4fd41872952b' class='xr-var-attrs-in' type='checkbox' ><label for='attrs-740f27d0-55c5-4110-88ab-4fd41872952b' title='Show/Hide attributes'><svg class='icon xr-icon-file-text2'><use xlink:href='#icon-file-text2'></use></svg></label><input id='data-4028db23-8978-4e71-a4ad-be2dfd20b151' class='xr-var-data-in' type='checkbox'><label for='data-4028db23-8978-4e71-a4ad-be2dfd20b151' title='Show/Hide data repr'><svg class='icon xr-icon-database'><use xlink:href='#icon-database'></use></svg></label><div class='xr-var-attrs'><dl class='xr-attrs'><dt><span>_FillValue :</span></dt><dd></dd></dl></div><pre class='xr-var-data'>array([&#x27;N0&#x27;, &#x27;Temp&#x27;, &#x27;MLD&#x27;, &#x27;PAR&#x27;], dtype=&#x27;&lt;U4&#x27;)</pre></li><li class='xr-var-item'><div class='xr-var-name'><span class='xr-has-index'>time</span></div><div class='xr-var-dims'>(time)</div><div class='xr-var-dtype'>int64</div><div class='xr-var-preview xr-preview'>0 1 2 3 4 ... 1091 1092 1093 1094</div><input id='attrs-f0c3b714-627a-4f74-a249-b1717ba6390c' class='xr-var-attrs-in' type='checkbox' ><label for='attrs-f0c3b714-627a-4f74-a249-b1717ba6390c' title='Show/Hide attributes'><svg class='icon xr-icon-file-text2'><use xlink:href='#icon-file-text2'></use></svg></label><input id='data-c9665671-7f32-4b57-ab67-ceca0edac074' class='xr-var-data-in' type='checkbox'><label for='data-c9665671-7f32-4b57-ab67-ceca0edac074' title='Show/Hide data repr'><svg class='icon xr-icon-database'><use xlink:href='#icon-database'></use></svg></label><div class='xr-var-attrs'><dl class='xr-attrs'><dt><span>description :</span></dt><dd>time in days</dd><dt><span>_FillValue :</span></dt><dd>0</dd></dl></div><pre class='xr-var-data'>array([   0,    1,    2, ..., 1092, 1093, 1094])</pre></li></ul></div></li><li class='xr-section-item'><input id='section-56552eff-e01b-4fd4-84f6-746e26bdd13c' class='xr-section-summary-in' type='checkbox'  ><label for='section-56552eff-e01b-4fd4-84f6-746e26bdd13c' class='xr-section-summary' >Data variables: <span>(46)</span></label><div class='xr-section-inline-details'></div><div class='xr-section-details'><ul class='xr-var-list'><li class='xr-var-item'><div class='xr-var-name'><span>D__dim</span></div><div class='xr-var-dims'>()</div><div class='xr-var-dtype'>int64</div><div class='xr-var-preview xr-preview'>1</div><input id='attrs-bea838d5-95a2-41a3-a794-32434fff2c80' class='xr-var-attrs-in' type='checkbox' disabled><label for='attrs-bea838d5-95a2-41a3-a794-32434fff2c80' title='Show/Hide attributes'><svg class='icon xr-icon-file-text2'><use xlink:href='#icon-file-text2'></use></svg></label><input id='data-e40dc168-6cf1-4c1f-b64b-e08f19a1b787' class='xr-var-data-in' type='checkbox'><label for='data-e40dc168-6cf1-4c1f-b64b-e08f19a1b787' title='Show/Hide data repr'><svg class='icon xr-icon-database'><use xlink:href='#icon-database'></use></svg></label><div class='xr-var-attrs'><dl class='xr-attrs'></dl></div><pre class='xr-var-data'>array(1)</pre></li><li class='xr-var-item'><div class='xr-var-name'><span>D__init</span></div><div class='xr-var-dims'>()</div><div class='xr-var-dtype'>float64</div><div class='xr-var-preview xr-preview'>2.1</div><input id='attrs-9e0d8df0-6ac8-42da-bfbf-61d72fd4322b' class='xr-var-attrs-in' type='checkbox' ><label for='attrs-9e0d8df0-6ac8-42da-bfbf-61d72fd4322b' title='Show/Hide attributes'><svg class='icon xr-icon-file-text2'><use xlink:href='#icon-file-text2'></use></svg></label><input id='data-e5629650-b936-4f80-be4b-5fdc44ecd388' class='xr-var-data-in' type='checkbox'><label for='data-e5629650-b936-4f80-be4b-5fdc44ecd388' title='Show/Hide data repr'><svg class='icon xr-icon-database'><use xlink:href='#icon-database'></use></svg></label><div class='xr-var-attrs'><dl class='xr-attrs'><dt><span>_FillValue :</span></dt><dd>nan</dd></dl></div><pre class='xr-var-data'>array(2.1)</pre></li><li class='xr-var-item'><div class='xr-var-name'><span>Env__comp_output</span></div><div class='xr-var-dims'>(components, time)</div><div class='xr-var-dtype'>float64</div><div class='xr-var-preview xr-preview'>0.1 0.1131 0.1248 ... 2.2 2.2 2.2</div><input id='attrs-89449ea8-a2cb-403a-98df-13739a04cdfc' class='xr-var-attrs-in' type='checkbox' ><label for='attrs-89449ea8-a2cb-403a-98df-13739a04cdfc' title='Show/Hide attributes'><svg class='icon xr-icon-file-text2'><use xlink:href='#icon-file-text2'></use></svg></label><input id='data-f79ea5ab-7fbe-49e8-b176-0204f9fa8b65' class='xr-var-data-in' type='checkbox'><label for='data-f79ea5ab-7fbe-49e8-b176-0204f9fa8b65' title='Show/Hide data repr'><svg class='icon xr-icon-database'><use xlink:href='#icon-database'></use></svg></label><div class='xr-var-attrs'><dl class='xr-attrs'><dt><span>_FillValue :</span></dt><dd>nan</dd></dl></div><pre class='xr-var-data'>array([[ 1.00000000e-01,  1.13090664e-01,  1.24807717e-01, ...,\n",
       "         9.41496473e-02,  9.42263709e-02,  9.43307388e-02],\n",
       "       [ 1.00000000e-01,  1.00319176e-01,  1.01322078e-01, ...,\n",
       "         2.81563637e-01,  2.77760633e-01,  2.74031730e-01],\n",
       "       [ 1.00000000e-01, -1.04185823e-03,  1.08645553e-05, ...,\n",
       "         0.00000000e+00,  0.00000000e+00,  0.00000000e+00],\n",
       "       [ 2.10000000e+00,  2.20093632e+00,  2.19988474e+00, ...,\n",
       "         2.19989560e+00,  2.19989560e+00,  2.19989560e+00]])</pre></li><li class='xr-var-item'><div class='xr-var-name'><span>Env__flux_output</span></div><div class='xr-var-dims'>(fluxes, time)</div><div class='xr-var-dtype'>float64</div><div class='xr-var-preview xr-preview'>0.02 -0.0002097 ... 0.02397 0.02367</div><input id='attrs-506db15f-3d0c-4664-a3a1-57e7edb0adb9' class='xr-var-attrs-in' type='checkbox' ><label for='attrs-506db15f-3d0c-4664-a3a1-57e7edb0adb9' title='Show/Hide attributes'><svg class='icon xr-icon-file-text2'><use xlink:href='#icon-file-text2'></use></svg></label><input id='data-d23699fd-6c38-4287-9abd-7aaebfc4de55' class='xr-var-data-in' type='checkbox'><label for='data-d23699fd-6c38-4287-9abd-7aaebfc4de55' title='Show/Hide data repr'><svg class='icon xr-icon-database'><use xlink:href='#icon-database'></use></svg></label><div class='xr-var-attrs'><dl class='xr-attrs'><dt><span>_FillValue :</span></dt><dd>nan</dd></dl></div><pre class='xr-var-data'>array([[ 2.00000000e-02, -2.09703916e-04,  2.23074602e-06, ...,\n",
       "         0.00000000e+00,  0.00000000e+00,  0.00000000e+00],\n",
       "       [ 8.82000000e+00, -1.00937741e-01,  1.05157876e-03, ...,\n",
       "         0.00000000e+00,  0.00000000e+00,  0.00000000e+00],\n",
       "       [ 9.09090909e-03,  1.01413718e-02,  1.11373404e-02, ...,\n",
       "         2.42837016e-02,  2.39728230e-02,  2.36739541e-02]])</pre></li><li class='xr-var-item'><div class='xr-var-name'><span>Env__forcing_output</span></div><div class='xr-var-dims'>(forcings, time)</div><div class='xr-var-dtype'>float64</div><div class='xr-var-preview xr-preview'>2.0 2.0 2.0 ... 13.0 13.04 13.08</div><input id='attrs-9de8e65a-5068-4ec0-b756-29bcf23ba288' class='xr-var-attrs-in' type='checkbox' ><label for='attrs-9de8e65a-5068-4ec0-b756-29bcf23ba288' title='Show/Hide attributes'><svg class='icon xr-icon-file-text2'><use xlink:href='#icon-file-text2'></use></svg></label><input id='data-225b1eac-98e9-47e2-943b-efd5108fe3a1' class='xr-var-data-in' type='checkbox'><label for='data-225b1eac-98e9-47e2-943b-efd5108fe3a1' title='Show/Hide data repr'><svg class='icon xr-icon-database'><use xlink:href='#icon-database'></use></svg></label><div class='xr-var-attrs'><dl class='xr-attrs'><dt><span>_FillValue :</span></dt><dd>nan</dd></dl></div><pre class='xr-var-data'>array([[ 2.        ,  2.        ,  2.        , ...,  2.        ,\n",
       "         2.        ,  2.        ],\n",
       "       [15.73144769, 15.67608906, 15.62154627, ..., 15.87179215,\n",
       "        15.8176036 , 15.76432798],\n",
       "       [52.09915064, 52.65678237, 53.19449144, ..., 50.77667031,\n",
       "        51.37486705, 51.95784272],\n",
       "       [13.10931541, 13.1532752 , 13.20372536, ..., 12.99805754,\n",
       "        13.03797687, 13.08439807]])</pre></li><li class='xr-var-item'><div class='xr-var-name'><span>Env__fxflux_output</span></div><div class='xr-var-dims'>(forcingfluxes, time)</div><div class='xr-var-dtype'>float64</div><div class='xr-var-preview xr-preview'>-0.01 -0.01003 ... 0.02405 0.02378</div><input id='attrs-22e2521a-97ae-4784-b610-654c9728fa79' class='xr-var-attrs-in' type='checkbox' ><label for='attrs-22e2521a-97ae-4784-b610-654c9728fa79' title='Show/Hide attributes'><svg class='icon xr-icon-file-text2'><use xlink:href='#icon-file-text2'></use></svg></label><input id='data-523b9ad2-1303-45b8-89ae-ea34e7a1d9e4' class='xr-var-data-in' type='checkbox'><label for='data-523b9ad2-1303-45b8-89ae-ea34e7a1d9e4' title='Show/Hide data repr'><svg class='icon xr-icon-database'><use xlink:href='#icon-database'></use></svg></label><div class='xr-var-attrs'><dl class='xr-attrs'><dt><span>_FillValue :</span></dt><dd>nan</dd></dl></div><pre class='xr-var-data'>array([[-1.00000000e-02, -1.00319176e-02, -1.01322078e-02, ...,\n",
       "        -2.81563637e-02, -2.77760633e-02, -2.74031730e-02],\n",
       "       [-1.00000000e-02,  1.04185823e-04, -1.08645553e-06, ...,\n",
       "         0.00000000e+00,  0.00000000e+00,  0.00000000e+00],\n",
       "       [ 2.36435949e-02,  2.32320358e-02,  2.28543934e-02, ...,\n",
       "         2.43340912e-02,  2.40497826e-02,  2.37786377e-02]])</pre></li><li class='xr-var-item'><div class='xr-var-name'><span>Grazing__C_label</span></div><div class='xr-var-dims'>()</div><div class='xr-var-dtype'>&lt;U1</div><div class='xr-var-preview xr-preview'>&#x27;Z&#x27;</div><input id='attrs-b463669d-7dd1-499a-9ba3-cbd8299d4df5' class='xr-var-attrs-in' type='checkbox' ><label for='attrs-b463669d-7dd1-499a-9ba3-cbd8299d4df5' title='Show/Hide attributes'><svg class='icon xr-icon-file-text2'><use xlink:href='#icon-file-text2'></use></svg></label><input id='data-32935fb7-d464-490b-9a54-f4186057be5a' class='xr-var-data-in' type='checkbox'><label for='data-32935fb7-d464-490b-9a54-f4186057be5a' title='Show/Hide data repr'><svg class='icon xr-icon-database'><use xlink:href='#icon-database'></use></svg></label><div class='xr-var-attrs'><dl class='xr-attrs'><dt><span>description :</span></dt><dd>label of component that grazes</dd></dl></div><pre class='xr-var-data'>array(&#x27;Z&#x27;, dtype=&#x27;&lt;U1&#x27;)</pre></li><li class='xr-var-item'><div class='xr-var-name'><span>Grazing__Imax</span></div><div class='xr-var-dims'>()</div><div class='xr-var-dtype'>float64</div><div class='xr-var-preview xr-preview'>0.5</div><input id='attrs-42c5a123-c183-4b3f-b6ec-66e67a89e186' class='xr-var-attrs-in' type='checkbox' ><label for='attrs-42c5a123-c183-4b3f-b6ec-66e67a89e186' title='Show/Hide attributes'><svg class='icon xr-icon-file-text2'><use xlink:href='#icon-file-text2'></use></svg></label><input id='data-42c89ccd-5043-46a1-98d9-0d559c3929f9' class='xr-var-data-in' type='checkbox'><label for='data-42c89ccd-5043-46a1-98d9-0d559c3929f9' title='Show/Hide data repr'><svg class='icon xr-icon-database'><use xlink:href='#icon-database'></use></svg></label><div class='xr-var-attrs'><dl class='xr-attrs'><dt><span>description :</span></dt><dd>maximum grazing rate</dd><dt><span>_FillValue :</span></dt><dd>nan</dd></dl></div><pre class='xr-var-data'>array(0.5)</pre></li><li class='xr-var-item'><div class='xr-var-name'><span>Grazing__R_feed_prefs</span></div><div class='xr-var-dims'>(R)</div><div class='xr-var-dtype'>float64</div><div class='xr-var-preview xr-preview'>0.67 0.33</div><input id='attrs-01b707ce-299d-41b5-8e0d-f1ae15955168' class='xr-var-attrs-in' type='checkbox' ><label for='attrs-01b707ce-299d-41b5-8e0d-f1ae15955168' title='Show/Hide attributes'><svg class='icon xr-icon-file-text2'><use xlink:href='#icon-file-text2'></use></svg></label><input id='data-596286c2-46bb-46a1-833b-f5ff097a5478' class='xr-var-data-in' type='checkbox'><label for='data-596286c2-46bb-46a1-833b-f5ff097a5478' title='Show/Hide data repr'><svg class='icon xr-icon-database'><use xlink:href='#icon-database'></use></svg></label><div class='xr-var-attrs'><dl class='xr-attrs'><dt><span>description :</span></dt><dd>list of same length as components containing feeding preference as float</dd><dt><span>_FillValue :</span></dt><dd>nan</dd></dl></div><pre class='xr-var-data'>array([0.67, 0.33])</pre></li><li class='xr-var-item'><div class='xr-var-name'><span>Grazing__R_labels</span></div><div class='xr-var-dims'>(R)</div><div class='xr-var-dtype'>&lt;U1</div><div class='xr-var-preview xr-preview'>&#x27;P&#x27; &#x27;D&#x27;</div><input id='attrs-38444524-5b04-4449-87a7-d8e58ea2f03a' class='xr-var-attrs-in' type='checkbox' ><label for='attrs-38444524-5b04-4449-87a7-d8e58ea2f03a' title='Show/Hide attributes'><svg class='icon xr-icon-file-text2'><use xlink:href='#icon-file-text2'></use></svg></label><input id='data-fdf5043f-91c3-4d41-9874-6f133a145480' class='xr-var-data-in' type='checkbox'><label for='data-fdf5043f-91c3-4d41-9874-6f133a145480' title='Show/Hide data repr'><svg class='icon xr-icon-database'><use xlink:href='#icon-database'></use></svg></label><div class='xr-var-attrs'><dl class='xr-attrs'><dt><span>description :</span></dt><dd>labels of components that is grazed upon</dd></dl></div><pre class='xr-var-data'>array([&#x27;P&#x27;, &#x27;D&#x27;], dtype=&#x27;&lt;U1&#x27;)</pre></li><li class='xr-var-item'><div class='xr-var-name'><span>Grazing__halfsat</span></div><div class='xr-var-dims'>()</div><div class='xr-var-dtype'>float64</div><div class='xr-var-preview xr-preview'>1.0</div><input id='attrs-280173c9-fd52-432a-8b02-165d242d4abf' class='xr-var-attrs-in' type='checkbox' ><label for='attrs-280173c9-fd52-432a-8b02-165d242d4abf' title='Show/Hide attributes'><svg class='icon xr-icon-file-text2'><use xlink:href='#icon-file-text2'></use></svg></label><input id='data-412dadbd-8f3b-45ca-b8df-20e18e42b642' class='xr-var-data-in' type='checkbox'><label for='data-412dadbd-8f3b-45ca-b8df-20e18e42b642' title='Show/Hide data repr'><svg class='icon xr-icon-database'><use xlink:href='#icon-database'></use></svg></label><div class='xr-var-attrs'><dl class='xr-attrs'><dt><span>description :</span></dt><dd>half-saturation constant of grazing response</dd><dt><span>_FillValue :</span></dt><dd>nan</dd></dl></div><pre class='xr-var-data'>array(1.)</pre></li><li class='xr-var-item'><div class='xr-var-name'><span>MLD__lat</span></div><div class='xr-var-dims'>()</div><div class='xr-var-dtype'>int64</div><div class='xr-var-preview xr-preview'>40</div><input id='attrs-99507b67-fe92-4557-a08f-a5de44a958b9' class='xr-var-attrs-in' type='checkbox' disabled><label for='attrs-99507b67-fe92-4557-a08f-a5de44a958b9' title='Show/Hide attributes'><svg class='icon xr-icon-file-text2'><use xlink:href='#icon-file-text2'></use></svg></label><input id='data-2322c638-a7ee-4a5f-a16d-261ed4ae883c' class='xr-var-data-in' type='checkbox'><label for='data-2322c638-a7ee-4a5f-a16d-261ed4ae883c' title='Show/Hide data repr'><svg class='icon xr-icon-database'><use xlink:href='#icon-database'></use></svg></label><div class='xr-var-attrs'><dl class='xr-attrs'></dl></div><pre class='xr-var-data'>array(40)</pre></li><li class='xr-var-item'><div class='xr-var-name'><span>MLD__lon</span></div><div class='xr-var-dims'>()</div><div class='xr-var-dtype'>int64</div><div class='xr-var-preview xr-preview'>20</div><input id='attrs-ae13aa23-6b62-44dc-b779-911a165e1d05' class='xr-var-attrs-in' type='checkbox' disabled><label for='attrs-ae13aa23-6b62-44dc-b779-911a165e1d05' title='Show/Hide attributes'><svg class='icon xr-icon-file-text2'><use xlink:href='#icon-file-text2'></use></svg></label><input id='data-943791e4-85a6-494b-b6f3-5757566d26cb' class='xr-var-data-in' type='checkbox'><label for='data-943791e4-85a6-494b-b6f3-5757566d26cb' title='Show/Hide data repr'><svg class='icon xr-icon-database'><use xlink:href='#icon-database'></use></svg></label><div class='xr-var-attrs'><dl class='xr-attrs'></dl></div><pre class='xr-var-data'>array(20)</pre></li><li class='xr-var-item'><div class='xr-var-name'><span>MLD__rbb</span></div><div class='xr-var-dims'>()</div><div class='xr-var-dtype'>int64</div><div class='xr-var-preview xr-preview'>2</div><input id='attrs-ddb6298f-4c69-4bd8-b7a9-b2a5a24bb3bf' class='xr-var-attrs-in' type='checkbox' disabled><label for='attrs-ddb6298f-4c69-4bd8-b7a9-b2a5a24bb3bf' title='Show/Hide attributes'><svg class='icon xr-icon-file-text2'><use xlink:href='#icon-file-text2'></use></svg></label><input id='data-6734016f-ded4-4665-abe0-0c40ae23fc18' class='xr-var-data-in' type='checkbox'><label for='data-6734016f-ded4-4665-abe0-0c40ae23fc18' title='Show/Hide data repr'><svg class='icon xr-icon-database'><use xlink:href='#icon-database'></use></svg></label><div class='xr-var-attrs'><dl class='xr-attrs'></dl></div><pre class='xr-var-data'>array(2)</pre></li><li class='xr-var-item'><div class='xr-var-name'><span>MLD__smooth</span></div><div class='xr-var-dims'>()</div><div class='xr-var-dtype'>int64</div><div class='xr-var-preview xr-preview'>100</div><input id='attrs-6740c7e8-1f44-413e-825e-f22bc748d438' class='xr-var-attrs-in' type='checkbox' ><label for='attrs-6740c7e8-1f44-413e-825e-f22bc748d438' title='Show/Hide attributes'><svg class='icon xr-icon-file-text2'><use xlink:href='#icon-file-text2'></use></svg></label><input id='data-bc7a0c69-81bf-4373-969c-fd090481e4eb' class='xr-var-data-in' type='checkbox'><label for='data-bc7a0c69-81bf-4373-969c-fd090481e4eb' title='Show/Hide data repr'><svg class='icon xr-icon-database'><use xlink:href='#icon-database'></use></svg></label><div class='xr-var-attrs'><dl class='xr-attrs'><dt><span>description :</span></dt><dd>smoothing factor used to choose number of knots</dd></dl></div><pre class='xr-var-data'>array(100)</pre></li><li class='xr-var-item'><div class='xr-var-name'><span>N0__value</span></div><div class='xr-var-dims'>()</div><div class='xr-var-dtype'>int64</div><div class='xr-var-preview xr-preview'>2</div><input id='attrs-399efa82-aae8-4cdb-aeef-3323ea36393a' class='xr-var-attrs-in' type='checkbox' ><label for='attrs-399efa82-aae8-4cdb-aeef-3323ea36393a' title='Show/Hide attributes'><svg class='icon xr-icon-file-text2'><use xlink:href='#icon-file-text2'></use></svg></label><input id='data-3d2cadad-fba5-4c58-95b1-2da860f8b765' class='xr-var-data-in' type='checkbox'><label for='data-3d2cadad-fba5-4c58-95b1-2da860f8b765' title='Show/Hide data repr'><svg class='icon xr-icon-database'><use xlink:href='#icon-database'></use></svg></label><div class='xr-var-attrs'><dl class='xr-attrs'><dt><span>description :</span></dt><dd>value of the constant forcing</dd></dl></div><pre class='xr-var-data'>array(2)</pre></li><li class='xr-var-item'><div class='xr-var-name'><span>N__dim</span></div><div class='xr-var-dims'>()</div><div class='xr-var-dtype'>int64</div><div class='xr-var-preview xr-preview'>1</div><input id='attrs-a68cd3ec-2625-4240-90a7-88566e9eaba0' class='xr-var-attrs-in' type='checkbox' disabled><label for='attrs-a68cd3ec-2625-4240-90a7-88566e9eaba0' title='Show/Hide attributes'><svg class='icon xr-icon-file-text2'><use xlink:href='#icon-file-text2'></use></svg></label><input id='data-cb3e1a48-da04-486a-9c30-6206e2ac78ae' class='xr-var-data-in' type='checkbox'><label for='data-cb3e1a48-da04-486a-9c30-6206e2ac78ae' title='Show/Hide data repr'><svg class='icon xr-icon-database'><use xlink:href='#icon-database'></use></svg></label><div class='xr-var-attrs'><dl class='xr-attrs'></dl></div><pre class='xr-var-data'>array(1)</pre></li><li class='xr-var-item'><div class='xr-var-name'><span>N__init</span></div><div class='xr-var-dims'>()</div><div class='xr-var-dtype'>float64</div><div class='xr-var-preview xr-preview'>0.1</div><input id='attrs-1ce7ba7a-c1ef-4223-91a0-ff5ecb5ebc12' class='xr-var-attrs-in' type='checkbox' ><label for='attrs-1ce7ba7a-c1ef-4223-91a0-ff5ecb5ebc12' title='Show/Hide attributes'><svg class='icon xr-icon-file-text2'><use xlink:href='#icon-file-text2'></use></svg></label><input id='data-43dd3aaf-b018-404d-a0b1-890004b54638' class='xr-var-data-in' type='checkbox'><label for='data-43dd3aaf-b018-404d-a0b1-890004b54638' title='Show/Hide data repr'><svg class='icon xr-icon-database'><use xlink:href='#icon-database'></use></svg></label><div class='xr-var-attrs'><dl class='xr-attrs'><dt><span>_FillValue :</span></dt><dd>nan</dd></dl></div><pre class='xr-var-data'>array(0.1)</pre></li><li class='xr-var-item'><div class='xr-var-name'><span>PAR__lat</span></div><div class='xr-var-dims'>()</div><div class='xr-var-dtype'>int64</div><div class='xr-var-preview xr-preview'>40</div><input id='attrs-0912e802-55fb-49f5-8439-d32971c68358' class='xr-var-attrs-in' type='checkbox' disabled><label for='attrs-0912e802-55fb-49f5-8439-d32971c68358' title='Show/Hide attributes'><svg class='icon xr-icon-file-text2'><use xlink:href='#icon-file-text2'></use></svg></label><input id='data-bc5b570d-9696-41a6-84b7-0896f4eb5ca2' class='xr-var-data-in' type='checkbox'><label for='data-bc5b570d-9696-41a6-84b7-0896f4eb5ca2' title='Show/Hide data repr'><svg class='icon xr-icon-database'><use xlink:href='#icon-database'></use></svg></label><div class='xr-var-attrs'><dl class='xr-attrs'></dl></div><pre class='xr-var-data'>array(40)</pre></li><li class='xr-var-item'><div class='xr-var-name'><span>PAR__lon</span></div><div class='xr-var-dims'>()</div><div class='xr-var-dtype'>int64</div><div class='xr-var-preview xr-preview'>20</div><input id='attrs-04b89227-c1e6-4ac2-8e1a-dd9aee9fb943' class='xr-var-attrs-in' type='checkbox' disabled><label for='attrs-04b89227-c1e6-4ac2-8e1a-dd9aee9fb943' title='Show/Hide attributes'><svg class='icon xr-icon-file-text2'><use xlink:href='#icon-file-text2'></use></svg></label><input id='data-7636b278-ad17-4447-a5c5-8b86110a8ee1' class='xr-var-data-in' type='checkbox'><label for='data-7636b278-ad17-4447-a5c5-8b86110a8ee1' title='Show/Hide data repr'><svg class='icon xr-icon-database'><use xlink:href='#icon-database'></use></svg></label><div class='xr-var-attrs'><dl class='xr-attrs'></dl></div><pre class='xr-var-data'>array(20)</pre></li><li class='xr-var-item'><div class='xr-var-name'><span>PAR__rbb</span></div><div class='xr-var-dims'>()</div><div class='xr-var-dtype'>int64</div><div class='xr-var-preview xr-preview'>2</div><input id='attrs-33385669-0161-455d-9fce-b689b772219c' class='xr-var-attrs-in' type='checkbox' disabled><label for='attrs-33385669-0161-455d-9fce-b689b772219c' title='Show/Hide attributes'><svg class='icon xr-icon-file-text2'><use xlink:href='#icon-file-text2'></use></svg></label><input id='data-9ad770e2-939e-45ef-8a4f-c7a25b0517fb' class='xr-var-data-in' type='checkbox'><label for='data-9ad770e2-939e-45ef-8a4f-c7a25b0517fb' title='Show/Hide data repr'><svg class='icon xr-icon-database'><use xlink:href='#icon-database'></use></svg></label><div class='xr-var-attrs'><dl class='xr-attrs'></dl></div><pre class='xr-var-data'>array(2)</pre></li><li class='xr-var-item'><div class='xr-var-name'><span>PAR__smooth</span></div><div class='xr-var-dims'>()</div><div class='xr-var-dtype'>int64</div><div class='xr-var-preview xr-preview'>1</div><input id='attrs-7db056d1-12eb-40e7-9329-5f757604bbd9' class='xr-var-attrs-in' type='checkbox' ><label for='attrs-7db056d1-12eb-40e7-9329-5f757604bbd9' title='Show/Hide attributes'><svg class='icon xr-icon-file-text2'><use xlink:href='#icon-file-text2'></use></svg></label><input id='data-7a83fb09-fbd6-4be2-a17d-dc1911c71c0e' class='xr-var-data-in' type='checkbox'><label for='data-7a83fb09-fbd6-4be2-a17d-dc1911c71c0e' title='Show/Hide data repr'><svg class='icon xr-icon-database'><use xlink:href='#icon-database'></use></svg></label><div class='xr-var-attrs'><dl class='xr-attrs'><dt><span>description :</span></dt><dd>smoothing factor used to choose number of knots</dd></dl></div><pre class='xr-var-data'>array(1)</pre></li><li class='xr-var-item'><div class='xr-var-name'><span>P_Growth__C_label</span></div><div class='xr-var-dims'>()</div><div class='xr-var-dtype'>&lt;U1</div><div class='xr-var-preview xr-preview'>&#x27;P&#x27;</div><input id='attrs-ccf01890-2754-473f-8172-7e3d6b94f466' class='xr-var-attrs-in' type='checkbox' ><label for='attrs-ccf01890-2754-473f-8172-7e3d6b94f466' title='Show/Hide attributes'><svg class='icon xr-icon-file-text2'><use xlink:href='#icon-file-text2'></use></svg></label><input id='data-32a41b03-3c92-4c3d-82aa-8050cf9e63c9' class='xr-var-data-in' type='checkbox'><label for='data-32a41b03-3c92-4c3d-82aa-8050cf9e63c9' title='Show/Hide data repr'><svg class='icon xr-icon-database'><use xlink:href='#icon-database'></use></svg></label><div class='xr-var-attrs'><dl class='xr-attrs'><dt><span>description :</span></dt><dd>label of component that grows</dd></dl></div><pre class='xr-var-data'>array(&#x27;P&#x27;, dtype=&#x27;&lt;U1&#x27;)</pre></li><li class='xr-var-item'><div class='xr-var-name'><span>P_Growth__R_label</span></div><div class='xr-var-dims'>()</div><div class='xr-var-dtype'>&lt;U1</div><div class='xr-var-preview xr-preview'>&#x27;N&#x27;</div><input id='attrs-02ea97f5-423a-4a80-a04f-cd7318cf1e18' class='xr-var-attrs-in' type='checkbox' ><label for='attrs-02ea97f5-423a-4a80-a04f-cd7318cf1e18' title='Show/Hide attributes'><svg class='icon xr-icon-file-text2'><use xlink:href='#icon-file-text2'></use></svg></label><input id='data-0dbf14e9-124e-4bea-95b4-d77274462ab0' class='xr-var-data-in' type='checkbox'><label for='data-0dbf14e9-124e-4bea-95b4-d77274462ab0' title='Show/Hide data repr'><svg class='icon xr-icon-database'><use xlink:href='#icon-database'></use></svg></label><div class='xr-var-attrs'><dl class='xr-attrs'><dt><span>description :</span></dt><dd>label of ressource component that is consumed</dd></dl></div><pre class='xr-var-data'>array(&#x27;N&#x27;, dtype=&#x27;&lt;U1&#x27;)</pre></li><li class='xr-var-item'><div class='xr-var-name'><span>P_Growth__halfsat_max</span></div><div class='xr-var-dims'>()</div><div class='xr-var-dtype'>float64</div><div class='xr-var-preview xr-preview'>0.7</div><input id='attrs-016ac8b9-e114-4db6-ae5a-25d64b551842' class='xr-var-attrs-in' type='checkbox' ><label for='attrs-016ac8b9-e114-4db6-ae5a-25d64b551842' title='Show/Hide attributes'><svg class='icon xr-icon-file-text2'><use xlink:href='#icon-file-text2'></use></svg></label><input id='data-70dbb479-ed84-4d68-9075-5ae369c78871' class='xr-var-data-in' type='checkbox'><label for='data-70dbb479-ed84-4d68-9075-5ae369c78871' title='Show/Hide data repr'><svg class='icon xr-icon-database'><use xlink:href='#icon-database'></use></svg></label><div class='xr-var-attrs'><dl class='xr-attrs'><dt><span>description :</span></dt><dd>half-saturation constant of nutrient uptake for component</dd><dt><span>_FillValue :</span></dt><dd>nan</dd></dl></div><pre class='xr-var-data'>array(0.7)</pre></li><li class='xr-var-item'><div class='xr-var-name'><span>P_Growth__halfsat_min</span></div><div class='xr-var-dims'>()</div><div class='xr-var-dtype'>float64</div><div class='xr-var-preview xr-preview'>0.67</div><input id='attrs-79b8a07f-8b29-4010-99e6-49a7c26f0bff' class='xr-var-attrs-in' type='checkbox' ><label for='attrs-79b8a07f-8b29-4010-99e6-49a7c26f0bff' title='Show/Hide attributes'><svg class='icon xr-icon-file-text2'><use xlink:href='#icon-file-text2'></use></svg></label><input id='data-460cb493-43ee-4bf0-baf2-0ce91495caed' class='xr-var-data-in' type='checkbox'><label for='data-460cb493-43ee-4bf0-baf2-0ce91495caed' title='Show/Hide data repr'><svg class='icon xr-icon-database'><use xlink:href='#icon-database'></use></svg></label><div class='xr-var-attrs'><dl class='xr-attrs'><dt><span>description :</span></dt><dd>half-saturation constant of nutrient uptake for component</dd><dt><span>_FillValue :</span></dt><dd>nan</dd></dl></div><pre class='xr-var-data'>array(0.67)</pre></li><li class='xr-var-item'><div class='xr-var-name'><span>P_Growth__mu_max</span></div><div class='xr-var-dims'>()</div><div class='xr-var-dtype'>float64</div><div class='xr-var-preview xr-preview'>0.73</div><input id='attrs-4cae482f-ffc0-4aba-bc28-50a083c4453c' class='xr-var-attrs-in' type='checkbox' ><label for='attrs-4cae482f-ffc0-4aba-bc28-50a083c4453c' title='Show/Hide attributes'><svg class='icon xr-icon-file-text2'><use xlink:href='#icon-file-text2'></use></svg></label><input id='data-e0b2d401-e852-4388-9f75-7ec220ec6b50' class='xr-var-data-in' type='checkbox'><label for='data-e0b2d401-e852-4388-9f75-7ec220ec6b50' title='Show/Hide data repr'><svg class='icon xr-icon-database'><use xlink:href='#icon-database'></use></svg></label><div class='xr-var-attrs'><dl class='xr-attrs'><dt><span>description :</span></dt><dd>Maximum growth rate of component</dd><dt><span>_FillValue :</span></dt><dd>nan</dd></dl></div><pre class='xr-var-data'>array(0.73)</pre></li><li class='xr-var-item'><div class='xr-var-name'><span>P_Growth__mu_min</span></div><div class='xr-var-dims'>()</div><div class='xr-var-dtype'>float64</div><div class='xr-var-preview xr-preview'>0.7</div><input id='attrs-578b80db-5bad-4056-98ab-d06c4735bf1f' class='xr-var-attrs-in' type='checkbox' ><label for='attrs-578b80db-5bad-4056-98ab-d06c4735bf1f' title='Show/Hide attributes'><svg class='icon xr-icon-file-text2'><use xlink:href='#icon-file-text2'></use></svg></label><input id='data-01777392-6a04-40b1-afa0-78825b3134af' class='xr-var-data-in' type='checkbox'><label for='data-01777392-6a04-40b1-afa0-78825b3134af' title='Show/Hide data repr'><svg class='icon xr-icon-database'><use xlink:href='#icon-database'></use></svg></label><div class='xr-var-attrs'><dl class='xr-attrs'><dt><span>description :</span></dt><dd>Maximum growth rate of component</dd><dt><span>_FillValue :</span></dt><dd>nan</dd></dl></div><pre class='xr-var-data'>array(0.7)</pre></li><li class='xr-var-item'><div class='xr-var-name'><span>P_LinMortality__C_labels</span></div><div class='xr-var-dims'>(p)</div><div class='xr-var-dtype'>&lt;U1</div><div class='xr-var-preview xr-preview'>&#x27;P&#x27;</div><input id='attrs-69f70c4f-2c88-4766-95cb-4b991efc82b2' class='xr-var-attrs-in' type='checkbox' ><label for='attrs-69f70c4f-2c88-4766-95cb-4b991efc82b2' title='Show/Hide attributes'><svg class='icon xr-icon-file-text2'><use xlink:href='#icon-file-text2'></use></svg></label><input id='data-c196be4c-5adb-437b-a298-18430eed5c96' class='xr-var-data-in' type='checkbox'><label for='data-c196be4c-5adb-437b-a298-18430eed5c96' title='Show/Hide data repr'><svg class='icon xr-icon-database'><use xlink:href='#icon-database'></use></svg></label><div class='xr-var-attrs'><dl class='xr-attrs'><dt><span>description :</span></dt><dd>label of component(s) that grows</dd></dl></div><pre class='xr-var-data'>array([&#x27;P&#x27;], dtype=&#x27;&lt;U1&#x27;)</pre></li><li class='xr-var-item'><div class='xr-var-name'><span>P_LinMortality__mortality_rate</span></div><div class='xr-var-dims'>()</div><div class='xr-var-dtype'>float64</div><div class='xr-var-preview xr-preview'>0.1</div><input id='attrs-2187a1d9-2afa-4724-8def-104fabb42068' class='xr-var-attrs-in' type='checkbox' ><label for='attrs-2187a1d9-2afa-4724-8def-104fabb42068' title='Show/Hide attributes'><svg class='icon xr-icon-file-text2'><use xlink:href='#icon-file-text2'></use></svg></label><input id='data-7733df31-8273-456e-a2e1-449018542ff2' class='xr-var-data-in' type='checkbox'><label for='data-7733df31-8273-456e-a2e1-449018542ff2' title='Show/Hide data repr'><svg class='icon xr-icon-database'><use xlink:href='#icon-database'></use></svg></label><div class='xr-var-attrs'><dl class='xr-attrs'><dt><span>description :</span></dt><dd>mortality rate of component</dd><dt><span>_FillValue :</span></dt><dd>nan</dd></dl></div><pre class='xr-var-data'>array(0.1)</pre></li><li class='xr-var-item'><div class='xr-var-name'><span>P__dim</span></div><div class='xr-var-dims'>()</div><div class='xr-var-dtype'>int64</div><div class='xr-var-preview xr-preview'>1</div><input id='attrs-6d00c414-3cef-465b-9e6b-0f62048bf82c' class='xr-var-attrs-in' type='checkbox' disabled><label for='attrs-6d00c414-3cef-465b-9e6b-0f62048bf82c' title='Show/Hide attributes'><svg class='icon xr-icon-file-text2'><use xlink:href='#icon-file-text2'></use></svg></label><input id='data-0e5c6200-18f7-4d65-ac2e-ecefd2af59cd' class='xr-var-data-in' type='checkbox'><label for='data-0e5c6200-18f7-4d65-ac2e-ecefd2af59cd' title='Show/Hide data repr'><svg class='icon xr-icon-database'><use xlink:href='#icon-database'></use></svg></label><div class='xr-var-attrs'><dl class='xr-attrs'></dl></div><pre class='xr-var-data'>array(1)</pre></li><li class='xr-var-item'><div class='xr-var-name'><span>P__init</span></div><div class='xr-var-dims'>()</div><div class='xr-var-dtype'>float64</div><div class='xr-var-preview xr-preview'>0.1</div><input id='attrs-c9c14c27-77ac-4692-8bed-ff59c8f8fc66' class='xr-var-attrs-in' type='checkbox' ><label for='attrs-c9c14c27-77ac-4692-8bed-ff59c8f8fc66' title='Show/Hide attributes'><svg class='icon xr-icon-file-text2'><use xlink:href='#icon-file-text2'></use></svg></label><input id='data-d48359b8-9af2-4627-aeaa-c682e469ab7d' class='xr-var-data-in' type='checkbox'><label for='data-d48359b8-9af2-4627-aeaa-c682e469ab7d' title='Show/Hide data repr'><svg class='icon xr-icon-database'><use xlink:href='#icon-database'></use></svg></label><div class='xr-var-attrs'><dl class='xr-attrs'><dt><span>_FillValue :</span></dt><dd>nan</dd></dl></div><pre class='xr-var-data'>array(0.1)</pre></li><li class='xr-var-item'><div class='xr-var-name'><span>Temp__lat</span></div><div class='xr-var-dims'>()</div><div class='xr-var-dtype'>int64</div><div class='xr-var-preview xr-preview'>40</div><input id='attrs-70cfc889-5d90-4d2f-98c0-45feb7d61ecf' class='xr-var-attrs-in' type='checkbox' disabled><label for='attrs-70cfc889-5d90-4d2f-98c0-45feb7d61ecf' title='Show/Hide attributes'><svg class='icon xr-icon-file-text2'><use xlink:href='#icon-file-text2'></use></svg></label><input id='data-19bcfe8e-a952-4dd6-83a7-e94dda21a369' class='xr-var-data-in' type='checkbox'><label for='data-19bcfe8e-a952-4dd6-83a7-e94dda21a369' title='Show/Hide data repr'><svg class='icon xr-icon-database'><use xlink:href='#icon-database'></use></svg></label><div class='xr-var-attrs'><dl class='xr-attrs'></dl></div><pre class='xr-var-data'>array(40)</pre></li><li class='xr-var-item'><div class='xr-var-name'><span>Temp__lon</span></div><div class='xr-var-dims'>()</div><div class='xr-var-dtype'>int64</div><div class='xr-var-preview xr-preview'>20</div><input id='attrs-b2100cb3-2b8b-43fb-b0bf-e5896c25cada' class='xr-var-attrs-in' type='checkbox' disabled><label for='attrs-b2100cb3-2b8b-43fb-b0bf-e5896c25cada' title='Show/Hide attributes'><svg class='icon xr-icon-file-text2'><use xlink:href='#icon-file-text2'></use></svg></label><input id='data-754b8893-7c5a-4467-8352-bfbc20ebc0b5' class='xr-var-data-in' type='checkbox'><label for='data-754b8893-7c5a-4467-8352-bfbc20ebc0b5' title='Show/Hide data repr'><svg class='icon xr-icon-database'><use xlink:href='#icon-database'></use></svg></label><div class='xr-var-attrs'><dl class='xr-attrs'></dl></div><pre class='xr-var-data'>array(20)</pre></li><li class='xr-var-item'><div class='xr-var-name'><span>Temp__rbb</span></div><div class='xr-var-dims'>()</div><div class='xr-var-dtype'>int64</div><div class='xr-var-preview xr-preview'>2</div><input id='attrs-2cdde2c4-b50a-477d-830d-3c9076981567' class='xr-var-attrs-in' type='checkbox' disabled><label for='attrs-2cdde2c4-b50a-477d-830d-3c9076981567' title='Show/Hide attributes'><svg class='icon xr-icon-file-text2'><use xlink:href='#icon-file-text2'></use></svg></label><input id='data-09a26b65-7552-4383-b7c1-b4979d399840' class='xr-var-data-in' type='checkbox'><label for='data-09a26b65-7552-4383-b7c1-b4979d399840' title='Show/Hide data repr'><svg class='icon xr-icon-database'><use xlink:href='#icon-database'></use></svg></label><div class='xr-var-attrs'><dl class='xr-attrs'></dl></div><pre class='xr-var-data'>array(2)</pre></li><li class='xr-var-item'><div class='xr-var-name'><span>Temp__smooth</span></div><div class='xr-var-dims'>()</div><div class='xr-var-dtype'>int64</div><div class='xr-var-preview xr-preview'>1</div><input id='attrs-7dec7593-baf3-48ad-a5cf-2265fb5adf4c' class='xr-var-attrs-in' type='checkbox' ><label for='attrs-7dec7593-baf3-48ad-a5cf-2265fb5adf4c' title='Show/Hide attributes'><svg class='icon xr-icon-file-text2'><use xlink:href='#icon-file-text2'></use></svg></label><input id='data-4fe85350-d5af-4ae2-a707-fe171b7c1389' class='xr-var-data-in' type='checkbox'><label for='data-4fe85350-d5af-4ae2-a707-fe171b7c1389' title='Show/Hide data repr'><svg class='icon xr-icon-database'><use xlink:href='#icon-database'></use></svg></label><div class='xr-var-attrs'><dl class='xr-attrs'><dt><span>description :</span></dt><dd>smoothing factor used to choose number of knots</dd></dl></div><pre class='xr-var-data'>array(1)</pre></li><li class='xr-var-item'><div class='xr-var-name'><span>Upwelling__C_labels</span></div><div class='xr-var-dims'>(u)</div><div class='xr-var-dtype'>&lt;U1</div><div class='xr-var-preview xr-preview'>&#x27;N&#x27;</div><input id='attrs-2d744c0e-96e1-4d77-8a7d-03269e6bbde6' class='xr-var-attrs-in' type='checkbox' ><label for='attrs-2d744c0e-96e1-4d77-8a7d-03269e6bbde6' title='Show/Hide attributes'><svg class='icon xr-icon-file-text2'><use xlink:href='#icon-file-text2'></use></svg></label><input id='data-46db3b33-8938-414f-8fdc-354c346f6a37' class='xr-var-data-in' type='checkbox'><label for='data-46db3b33-8938-414f-8fdc-354c346f6a37' title='Show/Hide data repr'><svg class='icon xr-icon-database'><use xlink:href='#icon-database'></use></svg></label><div class='xr-var-attrs'><dl class='xr-attrs'><dt><span>description :</span></dt><dd>label of component(s) that grows</dd></dl></div><pre class='xr-var-data'>array([&#x27;N&#x27;], dtype=&#x27;&lt;U1&#x27;)</pre></li><li class='xr-var-item'><div class='xr-var-name'><span>Upwelling__kappa</span></div><div class='xr-var-dims'>()</div><div class='xr-var-dtype'>float64</div><div class='xr-var-preview xr-preview'>0.0</div><input id='attrs-f671e8c3-d515-4e6c-9e86-aadf9e0ebb05' class='xr-var-attrs-in' type='checkbox' ><label for='attrs-f671e8c3-d515-4e6c-9e86-aadf9e0ebb05' title='Show/Hide attributes'><svg class='icon xr-icon-file-text2'><use xlink:href='#icon-file-text2'></use></svg></label><input id='data-838ce77a-e6d0-4fb9-8136-05af900a873a' class='xr-var-data-in' type='checkbox'><label for='data-838ce77a-e6d0-4fb9-8136-05af900a873a' title='Show/Hide data repr'><svg class='icon xr-icon-database'><use xlink:href='#icon-database'></use></svg></label><div class='xr-var-attrs'><dl class='xr-attrs'><dt><span>description :</span></dt><dd>constant mixing coefficient</dd><dt><span>_FillValue :</span></dt><dd>nan</dd></dl></div><pre class='xr-var-data'>array(0.)</pre></li><li class='xr-var-item'><div class='xr-var-name'><span>Z_LinMortality__C_labels</span></div><div class='xr-var-dims'>(z)</div><div class='xr-var-dtype'>&lt;U1</div><div class='xr-var-preview xr-preview'>&#x27;Z&#x27;</div><input id='attrs-0b29600b-4558-441f-a8cb-ec3e5012de84' class='xr-var-attrs-in' type='checkbox' ><label for='attrs-0b29600b-4558-441f-a8cb-ec3e5012de84' title='Show/Hide attributes'><svg class='icon xr-icon-file-text2'><use xlink:href='#icon-file-text2'></use></svg></label><input id='data-1352c597-a6dc-4a7f-bb51-4e1b4f91c15a' class='xr-var-data-in' type='checkbox'><label for='data-1352c597-a6dc-4a7f-bb51-4e1b4f91c15a' title='Show/Hide data repr'><svg class='icon xr-icon-database'><use xlink:href='#icon-database'></use></svg></label><div class='xr-var-attrs'><dl class='xr-attrs'><dt><span>description :</span></dt><dd>label of component(s) that grows</dd></dl></div><pre class='xr-var-data'>array([&#x27;Z&#x27;], dtype=&#x27;&lt;U1&#x27;)</pre></li><li class='xr-var-item'><div class='xr-var-name'><span>Z_LinMortality__mortality_rate</span></div><div class='xr-var-dims'>()</div><div class='xr-var-dtype'>float64</div><div class='xr-var-preview xr-preview'>0.1</div><input id='attrs-cd862242-6c1b-42fb-bee6-c135c0f35d6c' class='xr-var-attrs-in' type='checkbox' ><label for='attrs-cd862242-6c1b-42fb-bee6-c135c0f35d6c' title='Show/Hide attributes'><svg class='icon xr-icon-file-text2'><use xlink:href='#icon-file-text2'></use></svg></label><input id='data-9de9fed7-feae-487e-b316-0e71b19751e8' class='xr-var-data-in' type='checkbox'><label for='data-9de9fed7-feae-487e-b316-0e71b19751e8' title='Show/Hide data repr'><svg class='icon xr-icon-database'><use xlink:href='#icon-database'></use></svg></label><div class='xr-var-attrs'><dl class='xr-attrs'><dt><span>description :</span></dt><dd>mortality rate of component</dd><dt><span>_FillValue :</span></dt><dd>nan</dd></dl></div><pre class='xr-var-data'>array(0.1)</pre></li><li class='xr-var-item'><div class='xr-var-name'><span>Z__dim</span></div><div class='xr-var-dims'>()</div><div class='xr-var-dtype'>int64</div><div class='xr-var-preview xr-preview'>1</div><input id='attrs-f8384bd5-b800-4fb8-a180-6df4a829cfdf' class='xr-var-attrs-in' type='checkbox' disabled><label for='attrs-f8384bd5-b800-4fb8-a180-6df4a829cfdf' title='Show/Hide attributes'><svg class='icon xr-icon-file-text2'><use xlink:href='#icon-file-text2'></use></svg></label><input id='data-4d7f895a-df64-4497-add8-6d1eb37862df' class='xr-var-data-in' type='checkbox'><label for='data-4d7f895a-df64-4497-add8-6d1eb37862df' title='Show/Hide data repr'><svg class='icon xr-icon-database'><use xlink:href='#icon-database'></use></svg></label><div class='xr-var-attrs'><dl class='xr-attrs'></dl></div><pre class='xr-var-data'>array(1)</pre></li><li class='xr-var-item'><div class='xr-var-name'><span>Z__init</span></div><div class='xr-var-dims'>()</div><div class='xr-var-dtype'>float64</div><div class='xr-var-preview xr-preview'>0.1</div><input id='attrs-0e76c907-99c6-457d-8bec-068831a928b8' class='xr-var-attrs-in' type='checkbox' ><label for='attrs-0e76c907-99c6-457d-8bec-068831a928b8' title='Show/Hide attributes'><svg class='icon xr-icon-file-text2'><use xlink:href='#icon-file-text2'></use></svg></label><input id='data-6392fa36-b007-43b4-8749-2888b5b943db' class='xr-var-data-in' type='checkbox'><label for='data-6392fa36-b007-43b4-8749-2888b5b943db' title='Show/Hide data repr'><svg class='icon xr-icon-database'><use xlink:href='#icon-database'></use></svg></label><div class='xr-var-attrs'><dl class='xr-attrs'><dt><span>_FillValue :</span></dt><dd>nan</dd></dl></div><pre class='xr-var-data'>array(0.1)</pre></li><li class='xr-var-item'><div class='xr-var-name'><span>grid__length</span></div><div class='xr-var-dims'>()</div><div class='xr-var-dtype'>int64</div><div class='xr-var-preview xr-preview'>1</div><input id='attrs-d40729e7-d7a4-4573-80c6-66a4ec06e723' class='xr-var-attrs-in' type='checkbox' disabled><label for='attrs-d40729e7-d7a4-4573-80c6-66a4ec06e723' title='Show/Hide attributes'><svg class='icon xr-icon-file-text2'><use xlink:href='#icon-file-text2'></use></svg></label><input id='data-c643b934-1b22-4f7a-b4fe-6ea843d5948e' class='xr-var-data-in' type='checkbox'><label for='data-c643b934-1b22-4f7a-b4fe-6ea843d5948e' title='Show/Hide data repr'><svg class='icon xr-icon-database'><use xlink:href='#icon-database'></use></svg></label><div class='xr-var-attrs'><dl class='xr-attrs'></dl></div><pre class='xr-var-data'>array(1)</pre></li><li class='xr-var-item'><div class='xr-var-name'><span>grid__shape</span></div><div class='xr-var-dims'>()</div><div class='xr-var-dtype'>int64</div><div class='xr-var-preview xr-preview'>1</div><input id='attrs-9d44ee8b-3ab1-461c-8a77-08a81f8f7414' class='xr-var-attrs-in' type='checkbox' disabled><label for='attrs-9d44ee8b-3ab1-461c-8a77-08a81f8f7414' title='Show/Hide attributes'><svg class='icon xr-icon-file-text2'><use xlink:href='#icon-file-text2'></use></svg></label><input id='data-5a6189a0-bd0d-44af-aec7-9e7134bc5b6a' class='xr-var-data-in' type='checkbox'><label for='data-5a6189a0-bd0d-44af-aec7-9e7134bc5b6a' title='Show/Hide data repr'><svg class='icon xr-icon-database'><use xlink:href='#icon-database'></use></svg></label><div class='xr-var-attrs'><dl class='xr-attrs'></dl></div><pre class='xr-var-data'>array(1)</pre></li><li class='xr-var-item'><div class='xr-var-name'><span>ibcs__ibc</span></div><div class='xr-var-dims'>()</div><div class='xr-var-dtype'>float64</div><div class='xr-var-preview xr-preview'>nan</div><input id='attrs-8bfd929c-7180-434e-a01d-9ce525bb6b47' class='xr-var-attrs-in' type='checkbox' ><label for='attrs-8bfd929c-7180-434e-a01d-9ce525bb6b47' title='Show/Hide attributes'><svg class='icon xr-icon-file-text2'><use xlink:href='#icon-file-text2'></use></svg></label><input id='data-c6fb6b12-9ccb-4685-a91a-ecd2021b1949' class='xr-var-data-in' type='checkbox'><label for='data-c6fb6b12-9ccb-4685-a91a-ecd2021b1949' title='Show/Hide data repr'><svg class='icon xr-icon-database'><use xlink:href='#icon-database'></use></svg></label><div class='xr-var-attrs'><dl class='xr-attrs'><dt><span>description :</span></dt><dd>Initial Boundary Conditions</dd></dl></div><pre class='xr-var-data'>array(nan)</pre></li><li class='xr-var-item'><div class='xr-var-name'><span>time__days</span></div><div class='xr-var-dims'>(time)</div><div class='xr-var-dtype'>int64</div><div class='xr-var-preview xr-preview'>0 1 2 3 4 ... 1091 1092 1093 1094</div><input id='attrs-477d2105-f94e-4ec1-87f5-8a1bde6bf5c6' class='xr-var-attrs-in' type='checkbox' ><label for='attrs-477d2105-f94e-4ec1-87f5-8a1bde6bf5c6' title='Show/Hide attributes'><svg class='icon xr-icon-file-text2'><use xlink:href='#icon-file-text2'></use></svg></label><input id='data-86485c6b-c94b-4b84-8246-4ac14e200706' class='xr-var-data-in' type='checkbox'><label for='data-86485c6b-c94b-4b84-8246-4ac14e200706' title='Show/Hide data repr'><svg class='icon xr-icon-database'><use xlink:href='#icon-database'></use></svg></label><div class='xr-var-attrs'><dl class='xr-attrs'><dt><span>description :</span></dt><dd>time in days</dd></dl></div><pre class='xr-var-data'>array([   0,    1,    2, ..., 1092, 1093, 1094])</pre></li></ul></div></li><li class='xr-section-item'><input id='section-9de0930e-56f3-4653-b08b-fbfcbbe6a5e2' class='xr-section-summary-in' type='checkbox' disabled ><label for='section-9de0930e-56f3-4653-b08b-fbfcbbe6a5e2' class='xr-section-summary'  title='Expand/collapse section'>Attributes: <span>(0)</span></label><div class='xr-section-inline-details'></div><div class='xr-section-details'><dl class='xr-attrs'></dl></div></li></ul></div></div>"
      ],
      "text/plain": [
       "<xarray.Dataset>\n",
       "Dimensions:                         (D: 1, G: 1, N: 1, P: 1, R: 2, U: 1, X: 2, Z: 1, clock: 2, components: 4, fluxes: 3, forcingfluxes: 3, forcings: 4, p: 1, time: 1095, u: 1, z: 1)\n",
       "Coordinates:\n",
       "  * D                               (D) <U1 'D'\n",
       "  * G                               (G) <U14 'P_Growth-N-2-P'\n",
       "  * N                               (N) <U1 'N'\n",
       "  * P                               (P) <U1 'P'\n",
       "  * U                               (U) <U11 'Upwelling-N'\n",
       "  * X                               (X) <U13 'Grazing-P-2-Z' 'Grazing-D-2-Z'\n",
       "  * Z                               (Z) <U1 'Z'\n",
       "  * clock                           (clock) int64 0 1\n",
       "  * components                      (components) <U1 'N' 'P' 'Z' 'D'\n",
       "  * fluxes                          (fluxes) <U14 'Grazing-P-2-Z' ... 'P_Growth-N-2-P'\n",
       "  * forcingfluxes                   (forcingfluxes) <U16 'P_LinMortality-P' ... 'Upwelling-N'\n",
       "  * forcings                        (forcings) <U4 'N0' 'Temp' 'MLD' 'PAR'\n",
       "  * time                            (time) int64 0 1 2 3 ... 1091 1092 1093 1094\n",
       "Dimensions without coordinates: R, p, u, z\n",
       "Data variables:\n",
       "    D__dim                          int64 1\n",
       "    D__init                         float64 2.1\n",
       "    Env__comp_output                (components, time) float64 0.1 ... 2.2\n",
       "    Env__flux_output                (fluxes, time) float64 0.02 ... 0.02367\n",
       "    Env__forcing_output             (forcings, time) float64 2.0 2.0 ... 13.08\n",
       "    Env__fxflux_output              (forcingfluxes, time) float64 -0.01 ... 0.02378\n",
       "    Grazing__C_label                <U1 'Z'\n",
       "    Grazing__Imax                   float64 0.5\n",
       "    Grazing__R_feed_prefs           (R) float64 0.67 0.33\n",
       "    Grazing__R_labels               (R) <U1 'P' 'D'\n",
       "    Grazing__halfsat                float64 1.0\n",
       "    MLD__lat                        int64 40\n",
       "    MLD__lon                        int64 20\n",
       "    MLD__rbb                        int64 2\n",
       "    MLD__smooth                     int64 100\n",
       "    N0__value                       int64 2\n",
       "    N__dim                          int64 1\n",
       "    N__init                         float64 0.1\n",
       "    PAR__lat                        int64 40\n",
       "    PAR__lon                        int64 20\n",
       "    PAR__rbb                        int64 2\n",
       "    PAR__smooth                     int64 1\n",
       "    P_Growth__C_label               <U1 'P'\n",
       "    P_Growth__R_label               <U1 'N'\n",
       "    P_Growth__halfsat_max           float64 0.7\n",
       "    P_Growth__halfsat_min           float64 0.67\n",
       "    P_Growth__mu_max                float64 0.73\n",
       "    P_Growth__mu_min                float64 0.7\n",
       "    P_LinMortality__C_labels        (p) <U1 'P'\n",
       "    P_LinMortality__mortality_rate  float64 0.1\n",
       "    P__dim                          int64 1\n",
       "    P__init                         float64 0.1\n",
       "    Temp__lat                       int64 40\n",
       "    Temp__lon                       int64 20\n",
       "    Temp__rbb                       int64 2\n",
       "    Temp__smooth                    int64 1\n",
       "    Upwelling__C_labels             (u) <U1 'N'\n",
       "    Upwelling__kappa                float64 0.0\n",
       "    Z_LinMortality__C_labels        (z) <U1 'Z'\n",
       "    Z_LinMortality__mortality_rate  float64 0.1\n",
       "    Z__dim                          int64 1\n",
       "    Z__init                         float64 0.1\n",
       "    grid__length                    int64 1\n",
       "    grid__shape                     int64 1\n",
       "    ibcs__ibc                       float64 nan\n",
       "    time__days                      (time) int64 0 1 2 3 ... 1091 1092 1093 1094"
      ]
     },
     "execution_count": 12,
     "metadata": {},
     "output_type": "execute_result"
    }
   ],
   "source": [
    "out_ds"
   ]
  },
  {
   "cell_type": "code",
   "execution_count": 13,
   "metadata": {
    "collapsed": false,
    "jupyter": {
     "outputs_hidden": false
    },
    "pycharm": {
     "is_executing": false,
     "name": "#%%\n"
    }
   },
   "outputs": [
    {
     "data": {
      "text/plain": [
       "[<matplotlib.lines.Line2D at 0x123bf28e0>,\n",
       " <matplotlib.lines.Line2D at 0x123bf2940>,\n",
       " <matplotlib.lines.Line2D at 0x123bf2ac0>,\n",
       " <matplotlib.lines.Line2D at 0x123bf2b80>]"
      ]
     },
     "execution_count": 13,
     "metadata": {},
     "output_type": "execute_result"
    },
    {
     "data": {
      "image/png": "[encoded data removed]",
      "text/plain": [
       "<Figure size 432x288 with 1 Axes>"
      ]
     },
     "metadata": {
      "needs_background": "light"
     },
     "output_type": "display_data"
    }
   ],
   "source": [
    "out_ds.Env__comp_output.plot.line(x='time')\n",
    "#out_ds.Env__comp_output.isel(components=slice(1,-1)).sum(axis=0).plot.line(x='time')"
   ]
  },
  {
   "cell_type": "code",
   "execution_count": 14,
   "metadata": {},
   "outputs": [
    {
     "data": {
      "text/plain": [
       "[<matplotlib.lines.Line2D at 0x123ca4b20>,\n",
       " <matplotlib.lines.Line2D at 0x123ca4c40>,\n",
       " <matplotlib.lines.Line2D at 0x123ca4d00>,\n",
       " <matplotlib.lines.Line2D at 0x123ca4dc0>]"
      ]
     },
     "execution_count": 14,
     "metadata": {},
     "output_type": "execute_result"
    },
    {
     "data": {
      "image/png": "[encoded data removed]",
      "text/plain": [
       "<Figure size 432x288 with 1 Axes>"
      ]
     },
     "metadata": {
      "needs_background": "light"
     },
     "output_type": "display_data"
    }
   ],
   "source": [
    "out_ds.Env__forcing_output.plot.line(x='time')"
   ]
  },
  {
   "cell_type": "code",
   "execution_count": 15,
   "metadata": {},
   "outputs": [
    {
     "data": {
      "text/plain": [
       "[<matplotlib.lines.Line2D at 0x123cf7190>]"
      ]
     },
     "execution_count": 15,
     "metadata": {},
     "output_type": "execute_result"
    },
    {
     "data": {
      "image/png": "[encoded data removed]",
      "text/plain": [
       "<Figure size 432x288 with 1 Axes>"
      ]
     },
     "metadata": {
      "needs_background": "light"
     },
     "output_type": "display_data"
    }
   ],
   "source": [
    "out_ds.Env__forcing_output.sel(forcings='N0').plot(x='time')  #, time=np.arange(300,400)"
   ]
  },
  {
   "cell_type": "code",
   "execution_count": 16,
   "metadata": {},
   "outputs": [
    {
     "data": {
      "text/plain": [
       "[<matplotlib.lines.Line2D at 0x11bc11130>,\n",
       " <matplotlib.lines.Line2D at 0x11bc11250>,\n",
       " <matplotlib.lines.Line2D at 0x11bc11310>]"
      ]
     },
     "execution_count": 16,
     "metadata": {},
     "output_type": "execute_result"
    },
    {
     "data": {
      "image/png": "[encoded data removed]",
      "text/plain": [
       "<Figure size 432x288 with 1 Axes>"
      ]
     },
     "metadata": {
      "needs_background": "light"
     },
     "output_type": "display_data"
    }
   ],
   "source": [
    "out_ds.Env__flux_output.plot.line(x='time')"
   ]
  },
  {
   "cell_type": "code",
   "execution_count": 17,
   "metadata": {},
   "outputs": [
    {
     "data": {
      "text/plain": [
       "[<matplotlib.lines.Line2D at 0x11b9aaac0>,\n",
       " <matplotlib.lines.Line2D at 0x11b9aabe0>,\n",
       " <matplotlib.lines.Line2D at 0x11b9aaca0>]"
      ]
     },
     "execution_count": 17,
     "metadata": {},
     "output_type": "execute_result"
    },
    {
     "data": {
      "image/png": "[encoded data removed]",
      "text/plain": [
       "<Figure size 432x288 with 1 Axes>"
      ]
     },
     "metadata": {
      "needs_background": "light"
     },
     "output_type": "display_data"
    }
   ],
   "source": [
    "out_ds.Env__fxflux_output.plot.line(x='time')"
   ]
  },
  {
   "cell_type": "code",
   "execution_count": null,
   "metadata": {},
   "outputs": [],
   "source": []
  },
  {
   "cell_type": "code",
   "execution_count": null,
   "metadata": {},
   "outputs": [],
   "source": []
  }
 ],
 "metadata": {
  "kernelspec": {
   "display_name": "Python 3",
   "language": "python",
   "name": "python3"
  },
  "language_info": {
   "codemirror_mode": {
    "name": "ipython",
    "version": 3
   },
   "file_extension": ".py",
   "mimetype": "text/x-python",
   "name": "python",
   "nbconvert_exporter": "python",
   "pygments_lexer": "ipython3",
   "version": "3.8.3"
  }
 },
 "nbformat": 4,
 "nbformat_minor": 4
}
