{
 "cells": [
  {
   "cell_type": "markdown",
   "metadata": {},
   "source": [
    "# NPZD slab model\n",
    "\n",
    "For the first model example I will need:\n",
    "- Forcing input\n",
    "- Forcing_fluxes:\n",
    "    - mixing\n",
    "    - sinking\n",
    "- 4 components (single) N, P, Z, D\n",
    "- Fluxes:\n",
    "TODO: GO OVER THE equations! Base model structure in math!\n",
    "    - Grazing - linked to all NPZD\n",
    "    - PhytoplanktonGrowth\n",
    "        - Light - Dependence\n",
    "        - Nutrients - Dependence\n",
    "        - Temp - Dependence\n",
    "    - mortality\n",
    "    - remineralisation\n",
    "    - higher order pred, etc"
   ]
  },
  {
   "cell_type": "raw",
   "metadata": {},
   "source": [
    "N = Mixing(N0-N)+LeakyGrazing(P,D)+Remin(D)-Growth(P)\n",
    "P = Growth(P)-Mortality(P)-QuadMort(P)-Grazing(P)-Mixing(P)\n",
    "Z = Grazing(P,D)-Mortality(Z)-QuadMort(Z)-Mixing(Z)\n",
    "D = Mortality(P)+QuadMort(P)+Mortality(Z)+SloppyGrazing(P,D)-Grazing(D)-Remin(D)-Mixing(D)-Sinking(D)\n",
    "\n",
    "Mixing\n",
    "Growth(Light,Temp,Nut)\n",
    "Mortality, QuadMort\n",
    "Grazing + LeakyGrazing + SloppyGrazing\n",
    "Remin\n",
    "Sinking"
   ]
  },
  {
   "cell_type": "code",
   "execution_count": null,
   "metadata": {},
   "outputs": [],
   "source": [
    "import numpy as np\n",
    "import xsimlab as xs"
   ]
  },
  {
   "cell_type": "code",
   "execution_count": null,
   "metadata": {},
   "outputs": [],
   "source": [
    "import os,sys,inspect\n",
    "sys.path.insert(1, os.path.join(sys.path[0], '..'))\n",
    "\n",
    "import phydra\n",
    "\n",
    "\n",
    "from phydra.utility.xsimlabwrappers import phydra_setup"
   ]
  },
  {
   "cell_type": "code",
   "execution_count": null,
   "metadata": {},
   "outputs": [],
   "source": [
    "from phydra.processes.main import Grid0D, Boundary0D\n",
    "from phydra.processes.components import Component, Time, make_Component\n",
    "from phydra.processes.environments import BaseEnvironment, Slab\n",
    "from phydra.processes.fluxes import Flux, LimitedGrowth\n",
    "from phydra.processes.forcingfluxes import Mixing, Sinking, Upwelling, make_FX_flux\n",
    "from phydra.processes.forcing import SinusoidalMLD, ConstantN0\n",
    "from phydra.processes.gekkocontext import GekkoContext, GekkoSolve, InheritGekkoContext"
   ]
  },
  {
   "cell_type": "code",
   "execution_count": 4,
   "metadata": {},
   "outputs": [],
   "source": [
    "from phydra.processes.forcing import NutrientForcing, MLDForcing"
   ]
  },
  {
   "cell_type": "code",
   "execution_count": 5,
   "metadata": {},
   "outputs": [
    {
     "name": "stdout",
     "output_type": "stream",
     "text": [
      "['BaseEnvironment', 'Boundary0D', 'Component', 'ConstantN0', 'Flux', 'GekkoContext', 'GekkoSolve', 'Grid0D', 'In', 'InheritGekkoContext', 'LimitedGrowth', 'MLDForcing', 'Mixing', 'NutrientForcing', 'Out', 'Sinking', 'SinusoidalMLD', 'Slab', 'Time', 'Upwelling', '_', '__', '___', '__builtin__', '__builtins__', '__doc__', '__loader__', '__name__', '__package__', '__spec__', '_dh', '_i', '_i1', '_i2', '_i3', '_i4', '_i5', '_ih', '_ii', '_iii', '_oh', 'exit', 'get_ipython', 'inspect', 'make_Component', 'make_FX_flux', 'np', 'os', 'phydra', 'phydra_setup', 'quit', 'sys', 'xs']\n"
     ]
    }
   ],
   "source": [
    "print(dir())"
   ]
  },
  {
   "cell_type": "code",
   "execution_count": 6,
   "metadata": {},
   "outputs": [
    {
     "name": "stdout",
     "output_type": "stream",
     "text": [
      "xarray-simlab version:  0.4.1\n",
      "phydra version:  0+untagged.70.ga52b5f6.dirty\n"
     ]
    }
   ],
   "source": [
    "print('xarray-simlab version: ', xs.__version__)\n",
    "print('phydra version: ', phydra.__version__)"
   ]
  },
  {
   "cell_type": "code",
   "execution_count": 7,
   "metadata": {},
   "outputs": [
    {
     "name": "stdout",
     "output_type": "stream",
     "text": [
      "Sinking_S\n",
      "<class 'phydra.processes.forcingfluxes.Sinking'> S\n",
      "<Sinking_S  (xsimlab process)>\n",
      "Variables:\n",
      "    m                [in] <--- GekkoContext.m\n",
      "    gk_context       [in] <--- GekkoContext.context\n",
      "    gk_SVs           [in] <--- GekkoContext.SVs\n",
      "    gk_SVshapes      [in] <--- GekkoContext.SVshapes\n",
      "    gk_Fluxes        [in] <--- GekkoContext.Fluxes\n",
      "    gk_Flux_Int      [in] <--- GekkoContext.Flux_Intermediates\n",
      "    gridshape        [in] <--- GekkoContext.shape\n",
      "    MLD              [in] <--- Slab.MLD\n",
      "    MLD_deriv        [in] <--- Slab.MLD_deriv\n",
      "    N0_forcing       [in] <--- Slab.N0_forcing\n",
      "    kappa            [in] constant mixing coefficient\n",
      "    fxflux_label    [out]\n",
      "    fx_output       [out] ('S', 'time') \n",
      "    C_labels         [in] S label of component(s) that grows\n",
      "    S               [out] ('S',) \n",
      "Simulation stages:\n",
      "    initialize\n",
      "    finalize_step\n",
      "Upwelling_U\n",
      "<class 'phydra.processes.forcingfluxes.Upwelling'> U\n",
      "<Upwelling_U  (xsimlab process)>\n",
      "Variables:\n",
      "    m                [in] <--- GekkoContext.m\n",
      "    gk_context       [in] <--- GekkoContext.context\n",
      "    gk_SVs           [in] <--- GekkoContext.SVs\n",
      "    gk_SVshapes      [in] <--- GekkoContext.SVshapes\n",
      "    gk_Fluxes        [in] <--- GekkoContext.Fluxes\n",
      "    gk_Flux_Int      [in] <--- GekkoContext.Flux_Intermediates\n",
      "    gridshape        [in] <--- GekkoContext.shape\n",
      "    MLD              [in] <--- Slab.MLD\n",
      "    MLD_deriv        [in] <--- Slab.MLD_deriv\n",
      "    N0_forcing       [in] <--- Slab.N0_forcing\n",
      "    kappa            [in] constant mixing coefficient\n",
      "    fxflux_label    [out]\n",
      "    fx_output       [out] ('U', 'time') \n",
      "    C_labels         [in] U label of component(s) that grows\n",
      "    U               [out] ('U',) \n",
      "Simulation stages:\n",
      "    initialize\n",
      "    finalize_step\n"
     ]
    }
   ],
   "source": [
    "xs.process_info(make_FX_flux(Sinking, 'S'))\n",
    "\n",
    "xs.process_info(make_FX_flux(Upwelling, 'U'))"
   ]
  },
  {
   "cell_type": "code",
   "execution_count": 8,
   "metadata": {},
   "outputs": [
    {
     "name": "stdout",
     "output_type": "stream",
     "text": [
      "Sinking_S\n",
      "<class 'phydra.processes.forcingfluxes.Sinking'> S\n",
      "Upwelling_U\n",
      "<class 'phydra.processes.forcingfluxes.Upwelling'> U\n"
     ]
    },
    {
     "data": {
      "text/plain": [
       "<xsimlab.Model (14 processes, 17 inputs)>\n",
       "context\n",
       "time\n",
       "    days            [in] ('time',) time in days\n",
       "grid\n",
       "    shape           [in]\n",
       "    length          [in]\n",
       "ibcs\n",
       "    ibc             [in] Initial Boundary Conditions\n",
       "N\n",
       "    init            [in]\n",
       "    dim             [in]\n",
       "P\n",
       "    init            [in]\n",
       "    dim             [in]\n",
       "Z\n",
       "    dim             [in]\n",
       "    init            [in]\n",
       "D\n",
       "    init            [in]\n",
       "    dim             [in]\n",
       "N0\n",
       "    constant_N0     [in] value of the constant Nutrient forcing\n",
       "MLD\n",
       "Sinking\n",
       "    C_labels        [in] S label of component(s) that grows\n",
       "    kappa           [in] constant mixing coefficient\n",
       "Upwelling\n",
       "    kappa           [in] constant mixing coefficient\n",
       "    C_labels        [in] U label of component(s) that grows\n",
       "Env\n",
       "solver"
      ]
     },
     "execution_count": 8,
     "metadata": {},
     "output_type": "execute_result"
    }
   ],
   "source": [
    "model = xs.Model({\n",
    "    'time':Time, 'grid':Grid0D, 'ibcs':Boundary0D, \n",
    "    \n",
    "    'context':GekkoContext,\n",
    "                  \n",
    "    'N':make_Component('Nutrient','N'), 'P':make_Component('Phytoplankton','P'),\n",
    "    'Z':make_Component('Zooplankton','Z'), 'D':make_Component('Detritus','D'),\n",
    "    'Env':Slab, \n",
    "    \n",
    "    # Fluxes\n",
    "    #'P_Growth':LimitedGrowth, \n",
    "    \n",
    "    # ForcingFluxes\n",
    "    'Sinking':make_FX_flux(Sinking, 'S'),\n",
    "    'Upwelling':make_FX_flux(Upwelling, 'U'),\n",
    "    \n",
    "    'MLD':SinusoidalMLD, \n",
    "    'N0':ConstantN0, \n",
    "    \n",
    "    'solver':GekkoSolve\n",
    "})\n",
    "\n",
    "model"
   ]
  },
  {
   "cell_type": "code",
   "execution_count": 9,
   "metadata": {},
   "outputs": [
    {
     "data": {
      "text/plain": [
       "[('time', 'time'),\n",
       " ('N', 'N'),\n",
       " ('P', 'P'),\n",
       " ('Z', 'Z'),\n",
       " ('D', 'D'),\n",
       " ('Env', 'components'),\n",
       " ('Env', 'forcingfluxes'),\n",
       " ('Sinking', 'S'),\n",
       " ('Upwelling', 'U')]"
      ]
     },
     "execution_count": 9,
     "metadata": {},
     "output_type": "execute_result"
    }
   ],
   "source": [
    "model.index_vars \n"
   ]
  },
  {
   "cell_type": "code",
   "execution_count": 10,
   "metadata": {
    "collapsed": false,
    "jupyter": {
     "outputs_hidden": false
    },
    "pycharm": {
     "is_executing": false,
     "name": "#%%\n"
    }
   },
   "outputs": [],
   "source": [
    "in_ds = phydra_setup(\n",
    "    model=model,\n",
    "    input_vars={\n",
    "        'time__days': ('time', np.arange(0, 365*3)), #365*\n",
    "        \n",
    "        'N':{'dim':1,'init':1}, \n",
    "        'P':{'dim':3,'init':1},\n",
    "        'Z':{'dim':1,'init':1},\n",
    "        'D':{'dim':1,'init':1},\n",
    "        \n",
    "        #'P_Growth':{'mu':1.,\n",
    "        #       'C_label':'P',\n",
    "        #       'R_label':'N',\n",
    "        #       'halfsat':0.5},\n",
    "        \n",
    "        'Sinking':{'kappa':0.1,\n",
    "               'C_labels':['D','P']},\n",
    "        \n",
    "        'Upwelling':{'kappa':0.1,\n",
    "               'C_labels':['N']},\n",
    "        \n",
    "        'N0__constant_N0':2.\n",
    "    },\n",
    "    output_vars={\n",
    "        'Env__comp_output':None,\n",
    "        'Env__fxflux_output':None,\n",
    "    }\n",
    "                 )"
   ]
  },
  {
   "cell_type": "code",
   "execution_count": null,
   "metadata": {
    "collapsed": false,
    "jupyter": {
     "outputs_hidden": false
    },
    "pycharm": {
     "is_executing": false,
     "name": "#%%\n"
    }
   },
   "outputs": [
    {
     "name": "stdout",
     "output_type": "stream",
     "text": [
      "Initializing Gekko Context\n",
      "Initializing Model Time\n",
      "dimensions of component N are initialized at 1\n",
      "Initializing component  N ['N']\n",
      "FULLDIMS [[0.]]\n",
      "WHUT [[0]]\n",
      "[[1]]\n",
      "dimensions of component P are initialized at 3\n",
      "Initializing component  P ['P-0', 'P-1', 'P-2']\n",
      "FULLDIMS [[0. 0. 0.]]\n",
      "WHUT [[0 0 0]]\n",
      "[[1 1 1]]\n",
      "dimensions of component Z are initialized at 1\n",
      "Initializing component  Z ['Z']\n",
      "FULLDIMS [[0.]]\n",
      "WHUT [[0]]\n",
      "[[1]]\n",
      "dimensions of component D are initialized at 1\n",
      "Initializing component  D ['D']\n",
      "FULLDIMS [[0.]]\n",
      "WHUT [[0]]\n",
      "[[1]]\n",
      "dimensions of component Sinking are initialized at ['D' 'P']\n",
      "Initializing forcing flux Sinking for components ['D' 'P']\n",
      "D initFXflux [[0.0]]\n",
      "D initFXflux [[0]]\n",
      "P initFXflux [[0.0 0.0 0.0]]\n",
      "P initFXflux [[0 0 0]]\n",
      "dimensions of component Upwelling are initialized at ['N']\n",
      "Initializing forcing flux Upwelling for components ['N']\n",
      "N initFXflux [[0.0]]\n",
      "N initFXflux [[0]]\n",
      "\n",
      "\n",
      "Initializing Environment: \n",
      " components:['N', 'P-0', 'P-1', 'P-2', 'Z', 'D'] \n",
      " fx-fluxes:['Sinking-D', 'Sinking-P', 'Upwelling-N']\n",
      "\n",
      "\n",
      "Assembling equation for component  N [[0]]\n",
      "Assembling equation for component  P [[0 0 0]]\n",
      "Assembling equation for component  Z [[0.0]]\n",
      "Assembling equation for component  D [[0]]\n",
      "SolveInit\n"
     ]
    }
   ],
   "source": [
    "with model:\n",
    "    out_ds = in_ds.xsimlab.run()"
   ]
  },
  {
   "cell_type": "code",
   "execution_count": null,
   "metadata": {
    "collapsed": false,
    "jupyter": {
     "outputs_hidden": false
    },
    "pycharm": {
     "is_executing": false,
     "name": "#%%\n"
    }
   },
   "outputs": [],
   "source": [
    "out_ds"
   ]
  },
  {
   "cell_type": "code",
   "execution_count": null,
   "metadata": {
    "collapsed": false,
    "jupyter": {
     "outputs_hidden": false
    },
    "pycharm": {
     "is_executing": false,
     "name": "#%%\n"
    }
   },
   "outputs": [],
   "source": [
    "out_ds.Env__comp_output.plot.line(x='time')"
   ]
  },
  {
   "cell_type": "code",
   "execution_count": null,
   "metadata": {},
   "outputs": [],
   "source": [
    "out_ds.Env__fxflux_output.plot.line(x='time')"
   ]
  },
  {
   "cell_type": "code",
   "execution_count": null,
   "metadata": {},
   "outputs": [],
   "source": []
  }
 ],
 "metadata": {
  "kernelspec": {
   "display_name": "Python 3",
   "language": "python",
   "name": "python3"
  },
  "language_info": {
   "codemirror_mode": {
    "name": "ipython",
    "version": 3
   },
   "file_extension": ".py",
   "mimetype": "text/x-python",
   "name": "python",
   "nbconvert_exporter": "python",
   "pygments_lexer": "ipython3",
   "version": "3.8.3"
  }
 },
 "nbformat": 4,
 "nbformat_minor": 4
}
