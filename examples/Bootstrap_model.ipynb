{
 "cells": [
  {
   "cell_type": "markdown",
   "metadata": {},
   "source": [
    "# This is a first working example of the new code structure\n",
    "it defines two components, that are both affected by a flux that defines a simple linear growth rate\n",
    "\n",
    "### what works:\n",
    "- initializing multiple components from a simple base component, that interact\n",
    "- initializing flux from base flux to interact with different components\n",
    "- supporting higher dimensionality through m.Arrays of State Variables, Intermediates and Equations (not yet fully tested though)\n",
    "- solving using GEKKO as a backend\n",
    "- repackaging output in Components (i.e. returned as properly labeled xarray dataset)\n",
    "\n",
    "### what would be nice to have:\n",
    "- providing a more sensible xsimlab process interface (alternatives to run_step to solve etc.)\n",
    "- utilizing xsimlab functions instead of the custom GekkoContext defaultdicts, to pass variables and fluxes (not sure if possible)\n",
    "- providing a choice between explicit time steps and integration via GEKKO\n",
    "- generally providing a cleaner interface for xsimlab and gekko, without hiding too much functionality of either\n",
    "\n",
    "BUT, at least the current structure should be good enough to write up my model examples for the publication.\n",
    "\n",
    "### what I am trying to work out now:\n",
    "- supplying external forcing to equations (how to do this with GEKKO)\n",
    "- cleaner code structure and base classes\n",
    "- supplying parameters at the correct dimensionality (most likely needs initialisation processes)\n",
    "- more complicated ecosystem model implementations (Working on the ZeroD_NPZD_Slab_model.ipynb currently)"
   ]
  },
  {
   "cell_type": "code",
   "execution_count": 1,
   "metadata": {
    "collapsed": false,
    "jupyter": {
     "outputs_hidden": false
    },
    "pycharm": {
     "is_executing": false,
     "name": "#%%\n"
    }
   },
   "outputs": [],
   "source": [
    "import numpy as np\n",
    "import xsimlab as xs"
   ]
  },
  {
   "cell_type": "code",
   "execution_count": 2,
   "metadata": {
    "collapsed": false,
    "jupyter": {
     "outputs_hidden": false
    },
    "pycharm": {
     "is_executing": false,
     "name": "#%%\n"
    }
   },
   "outputs": [],
   "source": [
    "import os,sys,inspect\n",
    "sys.path.insert(1, os.path.join(sys.path[0], '..'))\n",
    "\n",
    "import phydra\n",
    "from phydra.processes.main import Time, Grid0D,Boundary0D\n",
    "from phydra.processes.fluxes import Flux\n",
    "from phydra.processes.components import Component\n",
    "from phydra.processes.gekkocontext import GekkoContext, GekkoSolve\n",
    "\n",
    "from phydra.utility.xsimlabwrappers import phydra_setup, createMultiComp, specifyComps4Flux"
   ]
  },
  {
   "cell_type": "code",
   "execution_count": 3,
   "metadata": {
    "collapsed": false,
    "jupyter": {
     "outputs_hidden": false
    },
    "pycharm": {
     "is_executing": false,
     "name": "#%%\n"
    }
   },
   "outputs": [
    {
     "name": "stdout",
     "output_type": "stream",
     "text": [
      "xarray-simlab version:  0.4.1\n",
      "phydra version:  0+untagged.57.g382fe4c.dirty\n"
     ]
    }
   ],
   "source": [
    "print('xarray-simlab version: ', xs.__version__)\n",
    "print('phydra version: ', phydra.__version__)"
   ]
  },
  {
   "cell_type": "code",
   "execution_count": 4,
   "metadata": {
    "pycharm": {
     "is_executing": false
    }
   },
   "outputs": [
    {
     "data": {
      "text/plain": [
       "<xsimlab.Model (8 processes, 9 inputs)>\n",
       "time\n",
       "    days               [in] ('time',) time in days\n",
       "grid\n",
       "    shape              [in]\n",
       "    length             [in]\n",
       "ibcs\n",
       "    ibc                [in] Initial Boundary Conditions\n",
       "context\n",
       "C1\n",
       "    init               [in]\n",
       "C2\n",
       "    init               [in]\n",
       "flux\n",
       "    destruction_c2     [in]\n",
       "    conversion2_c2     [in]\n",
       "    inputrate_c1       [in]\n",
       "solver"
      ]
     },
     "execution_count": 4,
     "metadata": {},
     "output_type": "execute_result"
    }
   ],
   "source": [
    "model = xs.Model({'time':Time, 'grid':Grid0D, 'ibcs':Boundary0D, 'context':GekkoContext, \n",
    "                  'C1':createMultiComp(Component,'c1',5), 'C2':createMultiComp(Component,'c2',5),\n",
    "                  'flux':specifyComps4Flux(Flux,'c1','c2'), 'solver':GekkoSolve})\n",
    "\n",
    "model"
   ]
  },
  {
   "cell_type": "code",
   "execution_count": 5,
   "metadata": {
    "collapsed": false,
    "jupyter": {
     "outputs_hidden": false
    },
    "pycharm": {
     "is_executing": false,
     "name": "#%%\n"
    }
   },
   "outputs": [
    {
     "data": {
      "text/plain": [
       "[('time', 'time'), ('C1', 'index'), ('C2', 'index')]"
      ]
     },
     "execution_count": 5,
     "metadata": {},
     "output_type": "execute_result"
    }
   ],
   "source": [
    "model.index_vars "
   ]
  },
  {
   "cell_type": "code",
   "execution_count": 6,
   "metadata": {
    "collapsed": false,
    "jupyter": {
     "outputs_hidden": false
    },
    "pycharm": {
     "is_executing": false,
     "name": "#%%\n"
    }
   },
   "outputs": [],
   "source": [
    "in_ds = phydra_setup(\n",
    "    model=model,\n",
    "    input_vars={\n",
    "        'time__days': ('time', np.arange(0, 150)),\n",
    "        'C1':{'init':1}, \n",
    "        'C2':{'init':2}, #the way dims are handled need to be specified in each flux!\n",
    "        \n",
    "        'flux':{'inputrate_c1':0.1,\n",
    "               'conversion2_c2':.5,\n",
    "               'destruction_c2':0.1}\n",
    "    },\n",
    "    output_vars={\n",
    "        'C1__output':None , \n",
    "        'C2__output':None \n",
    "    }\n",
    "                 )"
   ]
  },
  {
   "cell_type": "code",
   "execution_count": 7,
   "metadata": {
    "collapsed": false,
    "jupyter": {
     "outputs_hidden": false
    },
    "pycharm": {
     "is_executing": false,
     "name": "#%%\n"
    }
   },
   "outputs": [
    {
     "name": "stdout",
     "output_type": "stream",
     "text": [
      "Initializing Model Time\n",
      "Initializing Gekko Context\n",
      "Initializing component  c1\n",
      "Initializing component  c2\n",
      "Initializing Flux\n",
      "Assembling equation for component  c1\n",
      "Assembling equation for component  c2\n",
      "SolveInit\n",
      "Model context dict stores: dict_items([('shape', {'env': 1}), ('comp_dims', {'c1': 5, 'c2': 5})])\n",
      "ModelSolve done\n",
      "Storing output component  c1\n",
      "Storing output component  c2\n"
     ]
    }
   ],
   "source": [
    "with model:\n",
    "    out_ds = in_ds.xsimlab.run()"
   ]
  },
  {
   "cell_type": "code",
   "execution_count": 11,
   "metadata": {
    "collapsed": false,
    "jupyter": {
     "outputs_hidden": false
    },
    "pycharm": {
     "is_executing": false,
     "name": "#%%\n"
    }
   },
   "outputs": [
    {
     "name": "stdout",
     "output_type": "stream",
     "text": [
      "<xarray.Dataset>\n",
      "Dimensions:               (c1: 5, c2: 5, clock: 2, time: 150)\n",
      "Coordinates:\n",
      "  * clock                 (clock) int64 0 1\n",
      "  * time                  (time) int64 0 1 2 3 4 5 6 ... 144 145 146 147 148 149\n",
      "Dimensions without coordinates: c1, c2\n",
      "Data variables:\n",
      "    C1__init              int64 1\n",
      "    C1__output            (c1, time) float64 1.0 0.7333 0.5556 ... 0.4 0.4 0.4\n",
      "    C2__init              int64 2\n",
      "    C2__output            (c2, time) float64 2.0 2.152 2.208 ... 2.0 2.0 2.0\n",
      "    flux__conversion2_c2  float64 0.5\n",
      "    flux__destruction_c2  float64 0.1\n",
      "    flux__inputrate_c1    float64 0.1\n",
      "    grid__length          int64 1\n",
      "    grid__shape           int64 1\n",
      "    ibcs__ibc             float64 nan\n",
      "    index                 (c1) <U4 'c2-0' 'c2-1' 'c2-2' 'c2-3' 'c2-4'\n",
      "    time__days            (time) int64 0 1 2 3 4 5 6 ... 144 145 146 147 148 149\n"
     ]
    }
   ],
   "source": [
    "print(out_ds)"
   ]
  },
  {
   "cell_type": "markdown",
   "metadata": {},
   "source": [
    "#### The process Flux mimics a 'chemostat'\n",
    "1. constant influx to c1\n",
    "2. a rate of conversion to c2\n",
    "3. a density dependent linear mortality of c2\n",
    "\n",
    "Parameterisation of flux creates a gradient of the influx rate, that differentiates the 5 instances of each component $c1_{i}$\n",
    "\n",
    "## Equations:\n",
    "\n",
    "The 'Nutrient':\n",
    "\n",
    "$$\\frac{d \\ c1_{i}}{dt}=influx_{i} - conversion * c2_{j}$$\n",
    "\n",
    "The 'Organism':\n",
    "\n",
    "$$\\frac{d \\ c2_{j}}{dt}=conversion * c2_{j} - destruction * c2_{j}$$\n",
    "\n",
    "the dimensionality here defines 5 nutrient sources that are fed on by 5 organisms seperately, more complicated interactions are easily implemented in the specific flux"
   ]
  },
  {
   "cell_type": "code",
   "execution_count": 9,
   "metadata": {
    "collapsed": false,
    "jupyter": {
     "outputs_hidden": false
    },
    "pycharm": {
     "is_executing": false,
     "name": "#%%\n"
    }
   },
   "outputs": [
    {
     "data": {
      "text/plain": [
       "[<matplotlib.lines.Line2D at 0x1204e32b0>,\n",
       " <matplotlib.lines.Line2D at 0x1204e3310>,\n",
       " <matplotlib.lines.Line2D at 0x1204e3490>,\n",
       " <matplotlib.lines.Line2D at 0x1204e3550>,\n",
       " <matplotlib.lines.Line2D at 0x1204e3610>]"
      ]
     },
     "execution_count": 9,
     "metadata": {},
     "output_type": "execute_result"
    },
    {
     "data": {
      "image/png": "[encoded data removed]",
      "text/plain": [
       "<Figure size 432x288 with 1 Axes>"
      ]
     },
     "metadata": {
      "needs_background": "light"
     },
     "output_type": "display_data"
    }
   ],
   "source": [
    "out_ds.C1__output.set_index(time='time').plot.line(x='time')"
   ]
  },
  {
   "cell_type": "code",
   "execution_count": 10,
   "metadata": {
    "collapsed": false,
    "jupyter": {
     "outputs_hidden": false
    },
    "pycharm": {
     "is_executing": false,
     "name": "#%%\n"
    }
   },
   "outputs": [
    {
     "data": {
      "text/plain": [
       "[<matplotlib.lines.Line2D at 0x120620610>,\n",
       " <matplotlib.lines.Line2D at 0x120620730>,\n",
       " <matplotlib.lines.Line2D at 0x1206207f0>,\n",
       " <matplotlib.lines.Line2D at 0x1206208b0>,\n",
       " <matplotlib.lines.Line2D at 0x120620970>]"
      ]
     },
     "execution_count": 10,
     "metadata": {},
     "output_type": "execute_result"
    },
    {
     "data": {
      "image/png": "[encoded data removed]",
      "text/plain": [
       "<Figure size 432x288 with 1 Axes>"
      ]
     },
     "metadata": {
      "needs_background": "light"
     },
     "output_type": "display_data"
    }
   ],
   "source": [
    "out_ds.C2__output.set_index(time='time').plot.line(x='time')"
   ]
  },
  {
   "cell_type": "code",
   "execution_count": null,
   "metadata": {},
   "outputs": [],
   "source": []
  },
  {
   "cell_type": "code",
   "execution_count": null,
   "metadata": {},
   "outputs": [],
   "source": []
  }
 ],
 "metadata": {
  "kernelspec": {
   "display_name": "Python 3",
   "language": "python",
   "name": "python3"
  },
  "language_info": {
   "codemirror_mode": {
    "name": "ipython",
    "version": 3
   },
   "file_extension": ".py",
   "mimetype": "text/x-python",
   "name": "python",
   "nbconvert_exporter": "python",
   "pygments_lexer": "ipython3",
   "version": "3.8.3"
  },
  "pycharm": {
   "stem_cell": {
    "cell_type": "raw",
    "metadata": {
     "collapsed": false
    },
    "source": []
   }
  }
 },
 "nbformat": 4,
 "nbformat_minor": 4
}
