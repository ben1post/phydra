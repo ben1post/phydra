{
 "cells": [
  {
   "cell_type": "markdown",
   "metadata": {},
   "source": [
    "# This is a first working example of the new code structure\n",
    "it defines two components, that are both affected by a flux that defines a simple linear growth rate\n",
    "\n",
    "### what works:\n",
    "- initializing multiple components from a simple base component, that interact\n",
    "- initializing flux from base flux to interact with different components\n",
    "- supporting higher dimensionality through m.Arrays of State Variables, Intermediates and Equations (not yet fully tested though)\n",
    "- solving using GEKKO as a backend\n",
    "- repackaging output in Components (i.e. returned as properly labeled xarray dataset)\n",
    "\n",
    "### what would be nice to have:\n",
    "- providing a more sensible xsimlab process interface (alternatives to run_step to solve etc.)\n",
    "- utilizing xsimlab functions instead of the custom GekkoContext defaultdicts, to pass variables and fluxes (not sure if possible)\n",
    "- providing a choice between explicit time steps and integration via GEKKO\n",
    "- generally providing a cleaner interface for xsimlab and gekko, without hiding too much functionality of either\n",
    "\n",
    "BUT, at least the current structure should be good enough to write up my model examples for the publication.\n",
    "\n",
    "### what I am trying to work out now:\n",
    "- supplying external forcing to equations (how to do this with GEKKO)\n",
    "- cleaner code structure and base classes\n",
    "- supplying parameters at the correct dimensionality (most likely needs initialisation processes)\n",
    "- more complicated ecosystem model implementations (Working on the ZeroD_NPZD_Slab_model.ipynb currently)"
   ]
  },
  {
   "cell_type": "code",
   "execution_count": 1,
   "metadata": {
    "collapsed": false,
    "jupyter": {
     "outputs_hidden": false
    },
    "pycharm": {
     "is_executing": false,
     "name": "#%%\n"
    }
   },
   "outputs": [],
   "source": [
    "import numpy as np\n",
    "import xsimlab as xs"
   ]
  },
  {
   "cell_type": "code",
   "execution_count": 2,
   "metadata": {
    "collapsed": false,
    "jupyter": {
     "outputs_hidden": false
    },
    "pycharm": {
     "is_executing": false,
     "name": "#%%\n"
    }
   },
   "outputs": [],
   "source": [
    "import os,sys,inspect\n",
    "sys.path.insert(1, os.path.join(sys.path[0], '..'))\n",
    "\n",
    "import phydra\n",
    "from phydra.processes.main import Time, Grid0D,Boundary0D\n",
    "from phydra.processes.fluxes import Flux\n",
    "from phydra.processes.components import Component\n",
    "from phydra.processes.gekkocontext import GekkoContext, GekkoSolve\n",
    "\n",
    "from phydra.utility.xsimlabwrappers import phydra_setup, createMultiComp, specifyComps4Flux"
   ]
  },
  {
   "cell_type": "code",
   "execution_count": 3,
   "metadata": {
    "collapsed": false,
    "jupyter": {
     "outputs_hidden": false
    },
    "pycharm": {
     "is_executing": false,
     "name": "#%%\n"
    }
   },
   "outputs": [
    {
     "name": "stdout",
     "output_type": "stream",
     "text": [
      "xarray-simlab version:  0.4.1\n",
      "phydra version:  0+untagged.56.g8602463.dirty\n"
     ]
    }
   ],
   "source": [
    "print('xarray-simlab version: ', xs.__version__)\n",
    "print('phydra version: ', phydra.__version__)"
   ]
  },
  {
   "cell_type": "code",
   "execution_count": 4,
   "metadata": {
    "pycharm": {
     "is_executing": false
    }
   },
   "outputs": [
    {
     "data": {
      "text/plain": [
       "<xsimlab.Model (8 processes, 9 inputs)>\n",
       "time\n",
       "    days               [in] ('time',) time in days\n",
       "grid\n",
       "    length             [in]\n",
       "    shape              [in]\n",
       "ibcs\n",
       "    ibc                [in] Initial Boundary Conditions\n",
       "context\n",
       "C1\n",
       "    init               [in]\n",
       "C2\n",
       "    init               [in]\n",
       "flux\n",
       "    conversion2_c2     [in]\n",
       "    destruction_c2     [in]\n",
       "    growthrate_c1      [in]\n",
       "solver"
      ]
     },
     "execution_count": 4,
     "metadata": {},
     "output_type": "execute_result"
    }
   ],
   "source": [
    "model = xs.Model({'time':Time, 'grid':Grid0D, 'ibcs':Boundary0D, 'context':GekkoContext, \n",
    "                  'C1':createMultiComp(Component,'c1',5), 'C2':createMultiComp(Component,'c2',5),\n",
    "                  'flux':specifyComps4Flux(Flux,'c1','c2'), 'solver':GekkoSolve})\n",
    "\n",
    "model"
   ]
  },
  {
   "cell_type": "code",
   "execution_count": 5,
   "metadata": {
    "collapsed": false,
    "jupyter": {
     "outputs_hidden": false
    },
    "pycharm": {
     "is_executing": false,
     "name": "#%%\n"
    }
   },
   "outputs": [
    {
     "data": {
      "text/plain": [
       "[('time', 'time'), ('C1', 'index'), ('C2', 'index')]"
      ]
     },
     "execution_count": 5,
     "metadata": {},
     "output_type": "execute_result"
    }
   ],
   "source": [
    "model.index_vars "
   ]
  },
  {
   "cell_type": "code",
   "execution_count": 6,
   "metadata": {
    "collapsed": false,
    "jupyter": {
     "outputs_hidden": false
    },
    "pycharm": {
     "is_executing": false,
     "name": "#%%\n"
    }
   },
   "outputs": [],
   "source": [
    "in_ds = phydra_setup(\n",
    "    model=model,\n",
    "    input_vars={\n",
    "        'time__days': ('time', np.arange(0, 15)),\n",
    "        'C1':{'init':1}, \n",
    "        'C2':{'init':2}, #the way dims are handled need to be specified in each flux!\n",
    "        \n",
    "        'flux':{'growthrate_c1':0.1,\n",
    "               'conversion2_c2':0.1,\n",
    "               'destruction_c2':0.2}\n",
    "    },\n",
    "    output_vars={\n",
    "        'C1__output':None , \n",
    "        'C2__output':None \n",
    "    }\n",
    "                 )"
   ]
  },
  {
   "cell_type": "code",
   "execution_count": 7,
   "metadata": {
    "collapsed": false,
    "jupyter": {
     "outputs_hidden": false
    },
    "pycharm": {
     "is_executing": false,
     "name": "#%%\n"
    }
   },
   "outputs": [
    {
     "name": "stdout",
     "output_type": "stream",
     "text": [
      "Initializing Model Time\n",
      "Initializing Gekko Context\n",
      "args ('env', 1)\n",
      "key shape\n",
      "value 1\n",
      "context defaultdict(<class 'dict'>, {})\n",
      "Initializing component  c1\n",
      "args ('c1', 5)\n",
      "key comp_dims\n",
      "value 5\n",
      "context defaultdict(<class 'dict'>, {'shape': {'env': 1}})\n",
      "Initializing component  c2\n",
      "args ('c2', 5)\n",
      "key comp_dims\n",
      "value 5\n",
      "context defaultdict(<class 'dict'>, {'shape': {'env': 1}, 'comp_dims': {'c1': 5}})\n",
      "Initializing Flux\n",
      "Model context dict stores: dict_items([('shape', {'env': 1}), ('comp_dims', {'c1': 5, 'c2': 5})])\n",
      "(0, 0)\n",
      "[0.   0.05 0.1  0.15 0.2 ]\n",
      "(0, 1)\n",
      "[0.   0.05 0.1  0.15 0.2 ]\n",
      "(0, 2)\n",
      "[0.   0.05 0.1  0.15 0.2 ]\n",
      "(0, 3)\n",
      "[0.   0.05 0.1  0.15 0.2 ]\n",
      "(0, 4)\n",
      "[0.   0.05 0.1  0.15 0.2 ]\n",
      "Assembling equation for component  c1\n",
      "Assembling equation for component  c2\n",
      "SolveInit\n",
      "Model context dict stores: dict_items([('shape', {'env': 1}), ('comp_dims', {'c1': 5, 'c2': 5})])\n",
      "ModelSolve done\n",
      "Storing output component  c1\n",
      "Storing output component  c2\n"
     ]
    }
   ],
   "source": [
    "with model:\n",
    "    out_ds = in_ds.xsimlab.run()"
   ]
  },
  {
   "cell_type": "code",
   "execution_count": 8,
   "metadata": {
    "collapsed": false,
    "jupyter": {
     "outputs_hidden": false
    },
    "pycharm": {
     "is_executing": false,
     "name": "#%%\n"
    }
   },
   "outputs": [
    {
     "data": {
      "text/html": [
       "<div><svg style=\"position: absolute; width: 0; height: 0; overflow: hidden\">\n",
       "<defs>\n",
       "<symbol id=\"icon-database\" viewBox=\"0 0 32 32\">\n",
       "<title>Show/Hide data repr</title>\n",
       "<path d=\"M16 0c-8.837 0-16 2.239-16 5v4c0 2.761 7.163 5 16 5s16-2.239 16-5v-4c0-2.761-7.163-5-16-5z\"></path>\n",
       "<path d=\"M16 17c-8.837 0-16-2.239-16-5v6c0 2.761 7.163 5 16 5s16-2.239 16-5v-6c0 2.761-7.163 5-16 5z\"></path>\n",
       "<path d=\"M16 26c-8.837 0-16-2.239-16-5v6c0 2.761 7.163 5 16 5s16-2.239 16-5v-6c0 2.761-7.163 5-16 5z\"></path>\n",
       "</symbol>\n",
       "<symbol id=\"icon-file-text2\" viewBox=\"0 0 32 32\">\n",
       "<title>Show/Hide attributes</title>\n",
       "<path d=\"M28.681 7.159c-0.694-0.947-1.662-2.053-2.724-3.116s-2.169-2.030-3.116-2.724c-1.612-1.182-2.393-1.319-2.841-1.319h-15.5c-1.378 0-2.5 1.121-2.5 2.5v27c0 1.378 1.122 2.5 2.5 2.5h23c1.378 0 2.5-1.122 2.5-2.5v-19.5c0-0.448-0.137-1.23-1.319-2.841zM24.543 5.457c0.959 0.959 1.712 1.825 2.268 2.543h-4.811v-4.811c0.718 0.556 1.584 1.309 2.543 2.268zM28 29.5c0 0.271-0.229 0.5-0.5 0.5h-23c-0.271 0-0.5-0.229-0.5-0.5v-27c0-0.271 0.229-0.5 0.5-0.5 0 0 15.499-0 15.5 0v7c0 0.552 0.448 1 1 1h7v19.5z\"></path>\n",
       "<path d=\"M23 26h-14c-0.552 0-1-0.448-1-1s0.448-1 1-1h14c0.552 0 1 0.448 1 1s-0.448 1-1 1z\"></path>\n",
       "<path d=\"M23 22h-14c-0.552 0-1-0.448-1-1s0.448-1 1-1h14c0.552 0 1 0.448 1 1s-0.448 1-1 1z\"></path>\n",
       "<path d=\"M23 18h-14c-0.552 0-1-0.448-1-1s0.448-1 1-1h14c0.552 0 1 0.448 1 1s-0.448 1-1 1z\"></path>\n",
       "</symbol>\n",
       "</defs>\n",
       "</svg>\n",
       "<style>/* CSS stylesheet for displaying xarray objects in jupyterlab.\n",
       " *\n",
       " */\n",
       "\n",
       ":root {\n",
       "  --xr-font-color0: var(--jp-content-font-color0, rgba(0, 0, 0, 1));\n",
       "  --xr-font-color2: var(--jp-content-font-color2, rgba(0, 0, 0, 0.54));\n",
       "  --xr-font-color3: var(--jp-content-font-color3, rgba(0, 0, 0, 0.38));\n",
       "  --xr-border-color: var(--jp-border-color2, #e0e0e0);\n",
       "  --xr-disabled-color: var(--jp-layout-color3, #bdbdbd);\n",
       "  --xr-background-color: var(--jp-layout-color0, white);\n",
       "  --xr-background-color-row-even: var(--jp-layout-color1, white);\n",
       "  --xr-background-color-row-odd: var(--jp-layout-color2, #eeeeee);\n",
       "}\n",
       "\n",
       ".xr-wrap {\n",
       "  min-width: 300px;\n",
       "  max-width: 700px;\n",
       "}\n",
       "\n",
       ".xr-header {\n",
       "  padding-top: 6px;\n",
       "  padding-bottom: 6px;\n",
       "  margin-bottom: 4px;\n",
       "  border-bottom: solid 1px var(--xr-border-color);\n",
       "}\n",
       "\n",
       ".xr-header > div,\n",
       ".xr-header > ul {\n",
       "  display: inline;\n",
       "  margin-top: 0;\n",
       "  margin-bottom: 0;\n",
       "}\n",
       "\n",
       ".xr-obj-type,\n",
       ".xr-array-name {\n",
       "  margin-left: 2px;\n",
       "  margin-right: 10px;\n",
       "}\n",
       "\n",
       ".xr-obj-type {\n",
       "  color: var(--xr-font-color2);\n",
       "}\n",
       "\n",
       ".xr-sections {\n",
       "  padding-left: 0 !important;\n",
       "  display: grid;\n",
       "  grid-template-columns: 150px auto auto 1fr 20px 20px;\n",
       "}\n",
       "\n",
       ".xr-section-item {\n",
       "  display: contents;\n",
       "}\n",
       "\n",
       ".xr-section-item input {\n",
       "  display: none;\n",
       "}\n",
       "\n",
       ".xr-section-item input + label {\n",
       "  color: var(--xr-disabled-color);\n",
       "}\n",
       "\n",
       ".xr-section-item input:enabled + label {\n",
       "  cursor: pointer;\n",
       "  color: var(--xr-font-color2);\n",
       "}\n",
       "\n",
       ".xr-section-item input:enabled + label:hover {\n",
       "  color: var(--xr-font-color0);\n",
       "}\n",
       "\n",
       ".xr-section-summary {\n",
       "  grid-column: 1;\n",
       "  color: var(--xr-font-color2);\n",
       "  font-weight: 500;\n",
       "}\n",
       "\n",
       ".xr-section-summary > span {\n",
       "  display: inline-block;\n",
       "  padding-left: 0.5em;\n",
       "}\n",
       "\n",
       ".xr-section-summary-in:disabled + label {\n",
       "  color: var(--xr-font-color2);\n",
       "}\n",
       "\n",
       ".xr-section-summary-in + label:before {\n",
       "  display: inline-block;\n",
       "  content: '►';\n",
       "  font-size: 11px;\n",
       "  width: 15px;\n",
       "  text-align: center;\n",
       "}\n",
       "\n",
       ".xr-section-summary-in:disabled + label:before {\n",
       "  color: var(--xr-disabled-color);\n",
       "}\n",
       "\n",
       ".xr-section-summary-in:checked + label:before {\n",
       "  content: '▼';\n",
       "}\n",
       "\n",
       ".xr-section-summary-in:checked + label > span {\n",
       "  display: none;\n",
       "}\n",
       "\n",
       ".xr-section-summary,\n",
       ".xr-section-inline-details {\n",
       "  padding-top: 4px;\n",
       "  padding-bottom: 4px;\n",
       "}\n",
       "\n",
       ".xr-section-inline-details {\n",
       "  grid-column: 2 / -1;\n",
       "}\n",
       "\n",
       ".xr-section-details {\n",
       "  display: none;\n",
       "  grid-column: 1 / -1;\n",
       "  margin-bottom: 5px;\n",
       "}\n",
       "\n",
       ".xr-section-summary-in:checked ~ .xr-section-details {\n",
       "  display: contents;\n",
       "}\n",
       "\n",
       ".xr-array-wrap {\n",
       "  grid-column: 1 / -1;\n",
       "  display: grid;\n",
       "  grid-template-columns: 20px auto;\n",
       "}\n",
       "\n",
       ".xr-array-wrap > label {\n",
       "  grid-column: 1;\n",
       "  vertical-align: top;\n",
       "}\n",
       "\n",
       ".xr-preview {\n",
       "  color: var(--xr-font-color3);\n",
       "}\n",
       "\n",
       ".xr-array-preview,\n",
       ".xr-array-data {\n",
       "  padding: 0 5px !important;\n",
       "  grid-column: 2;\n",
       "}\n",
       "\n",
       ".xr-array-data,\n",
       ".xr-array-in:checked ~ .xr-array-preview {\n",
       "  display: none;\n",
       "}\n",
       "\n",
       ".xr-array-in:checked ~ .xr-array-data,\n",
       ".xr-array-preview {\n",
       "  display: inline-block;\n",
       "}\n",
       "\n",
       ".xr-dim-list {\n",
       "  display: inline-block !important;\n",
       "  list-style: none;\n",
       "  padding: 0 !important;\n",
       "  margin: 0;\n",
       "}\n",
       "\n",
       ".xr-dim-list li {\n",
       "  display: inline-block;\n",
       "  padding: 0;\n",
       "  margin: 0;\n",
       "}\n",
       "\n",
       ".xr-dim-list:before {\n",
       "  content: '(';\n",
       "}\n",
       "\n",
       ".xr-dim-list:after {\n",
       "  content: ')';\n",
       "}\n",
       "\n",
       ".xr-dim-list li:not(:last-child):after {\n",
       "  content: ',';\n",
       "  padding-right: 5px;\n",
       "}\n",
       "\n",
       ".xr-has-index {\n",
       "  font-weight: bold;\n",
       "}\n",
       "\n",
       ".xr-var-list,\n",
       ".xr-var-item {\n",
       "  display: contents;\n",
       "}\n",
       "\n",
       ".xr-var-item > div,\n",
       ".xr-var-item label,\n",
       ".xr-var-item > .xr-var-name span {\n",
       "  background-color: var(--xr-background-color-row-even);\n",
       "  margin-bottom: 0;\n",
       "}\n",
       "\n",
       ".xr-var-item > .xr-var-name:hover span {\n",
       "  padding-right: 5px;\n",
       "}\n",
       "\n",
       ".xr-var-list > li:nth-child(odd) > div,\n",
       ".xr-var-list > li:nth-child(odd) > label,\n",
       ".xr-var-list > li:nth-child(odd) > .xr-var-name span {\n",
       "  background-color: var(--xr-background-color-row-odd);\n",
       "}\n",
       "\n",
       ".xr-var-name {\n",
       "  grid-column: 1;\n",
       "}\n",
       "\n",
       ".xr-var-dims {\n",
       "  grid-column: 2;\n",
       "}\n",
       "\n",
       ".xr-var-dtype {\n",
       "  grid-column: 3;\n",
       "  text-align: right;\n",
       "  color: var(--xr-font-color2);\n",
       "}\n",
       "\n",
       ".xr-var-preview {\n",
       "  grid-column: 4;\n",
       "}\n",
       "\n",
       ".xr-var-name,\n",
       ".xr-var-dims,\n",
       ".xr-var-dtype,\n",
       ".xr-preview,\n",
       ".xr-attrs dt {\n",
       "  white-space: nowrap;\n",
       "  overflow: hidden;\n",
       "  text-overflow: ellipsis;\n",
       "  padding-right: 10px;\n",
       "}\n",
       "\n",
       ".xr-var-name:hover,\n",
       ".xr-var-dims:hover,\n",
       ".xr-var-dtype:hover,\n",
       ".xr-attrs dt:hover {\n",
       "  overflow: visible;\n",
       "  width: auto;\n",
       "  z-index: 1;\n",
       "}\n",
       "\n",
       ".xr-var-attrs,\n",
       ".xr-var-data {\n",
       "  display: none;\n",
       "  background-color: var(--xr-background-color) !important;\n",
       "  padding-bottom: 5px !important;\n",
       "}\n",
       "\n",
       ".xr-var-attrs-in:checked ~ .xr-var-attrs,\n",
       ".xr-var-data-in:checked ~ .xr-var-data {\n",
       "  display: block;\n",
       "}\n",
       "\n",
       ".xr-var-data > table {\n",
       "  float: right;\n",
       "}\n",
       "\n",
       ".xr-var-name span,\n",
       ".xr-var-data,\n",
       ".xr-attrs {\n",
       "  padding-left: 25px !important;\n",
       "}\n",
       "\n",
       ".xr-attrs,\n",
       ".xr-var-attrs,\n",
       ".xr-var-data {\n",
       "  grid-column: 1 / -1;\n",
       "}\n",
       "\n",
       "dl.xr-attrs {\n",
       "  padding: 0;\n",
       "  margin: 0;\n",
       "  display: grid;\n",
       "  grid-template-columns: 125px auto;\n",
       "}\n",
       "\n",
       ".xr-attrs dt, dd {\n",
       "  padding: 0;\n",
       "  margin: 0;\n",
       "  float: left;\n",
       "  padding-right: 10px;\n",
       "  width: auto;\n",
       "}\n",
       "\n",
       ".xr-attrs dt {\n",
       "  font-weight: normal;\n",
       "  grid-column: 1;\n",
       "}\n",
       "\n",
       ".xr-attrs dt:hover span {\n",
       "  display: inline-block;\n",
       "  background: var(--xr-background-color);\n",
       "  padding-right: 10px;\n",
       "}\n",
       "\n",
       ".xr-attrs dd {\n",
       "  grid-column: 2;\n",
       "  white-space: pre-wrap;\n",
       "  word-break: break-all;\n",
       "}\n",
       "\n",
       ".xr-icon-database,\n",
       ".xr-icon-file-text2 {\n",
       "  display: inline-block;\n",
       "  vertical-align: middle;\n",
       "  width: 1em;\n",
       "  height: 1.5em !important;\n",
       "  stroke-width: 0;\n",
       "  stroke: currentColor;\n",
       "  fill: currentColor;\n",
       "}\n",
       "</style><div class='xr-wrap'><div class='xr-header'><div class='xr-obj-type'>xarray.Dataset</div></div><ul class='xr-sections'><li class='xr-section-item'><input id='section-3c5fe83f-e523-4d49-a039-aa00b4165a4d' class='xr-section-summary-in' type='checkbox' disabled ><label for='section-3c5fe83f-e523-4d49-a039-aa00b4165a4d' class='xr-section-summary'  title='Expand/collapse section'>Dimensions:</label><div class='xr-section-inline-details'><ul class='xr-dim-list'><li><span>c1</span>: 5</li><li><span>c2</span>: 5</li><li><span class='xr-has-index'>clock</span>: 2</li><li><span class='xr-has-index'>time</span>: 15</li></ul></div><div class='xr-section-details'></div></li><li class='xr-section-item'><input id='section-ccc2bdc2-88db-47d7-a7d5-781e534a3795' class='xr-section-summary-in' type='checkbox'  checked><label for='section-ccc2bdc2-88db-47d7-a7d5-781e534a3795' class='xr-section-summary' >Coordinates: <span>(2)</span></label><div class='xr-section-inline-details'></div><div class='xr-section-details'><ul class='xr-var-list'><li class='xr-var-item'><div class='xr-var-name'><span class='xr-has-index'>clock</span></div><div class='xr-var-dims'>(clock)</div><div class='xr-var-dtype'>int64</div><div class='xr-var-preview xr-preview'>0 1</div><input id='attrs-80e5901a-8771-458e-86a2-fa9e7c0ac91b' class='xr-var-attrs-in' type='checkbox' ><label for='attrs-80e5901a-8771-458e-86a2-fa9e7c0ac91b' title='Show/Hide attributes'><svg class='icon xr-icon-file-text2'><use xlink:href='#icon-file-text2'></use></svg></label><input id='data-26ed6eea-81a7-4ea9-bcf0-6e05cc2acbd7' class='xr-var-data-in' type='checkbox'><label for='data-26ed6eea-81a7-4ea9-bcf0-6e05cc2acbd7' title='Show/Hide data repr'><svg class='icon xr-icon-database'><use xlink:href='#icon-database'></use></svg></label><div class='xr-var-attrs'><dl class='xr-attrs'><dt><span>__xsimlab_master_clock__ :</span></dt><dd>1</dd><dt><span>__xsimlab_output_clock__ :</span></dt><dd>1</dd></dl></div><pre class='xr-var-data'>array([0, 1])</pre></li><li class='xr-var-item'><div class='xr-var-name'><span class='xr-has-index'>time</span></div><div class='xr-var-dims'>(time)</div><div class='xr-var-dtype'>int64</div><div class='xr-var-preview xr-preview'>0 1 2 3 4 5 6 7 8 9 10 11 12 13 14</div><input id='attrs-030a2474-0969-46e6-9080-03c95101ec39' class='xr-var-attrs-in' type='checkbox' ><label for='attrs-030a2474-0969-46e6-9080-03c95101ec39' title='Show/Hide attributes'><svg class='icon xr-icon-file-text2'><use xlink:href='#icon-file-text2'></use></svg></label><input id='data-b5163de1-6b8c-42da-bf87-06496ff4f6cf' class='xr-var-data-in' type='checkbox'><label for='data-b5163de1-6b8c-42da-bf87-06496ff4f6cf' title='Show/Hide data repr'><svg class='icon xr-icon-database'><use xlink:href='#icon-database'></use></svg></label><div class='xr-var-attrs'><dl class='xr-attrs'><dt><span>description :</span></dt><dd>time in days</dd><dt><span>_FillValue :</span></dt><dd>0</dd></dl></div><pre class='xr-var-data'>array([ 0,  1,  2,  3,  4,  5,  6,  7,  8,  9, 10, 11, 12, 13, 14])</pre></li></ul></div></li><li class='xr-section-item'><input id='section-6b2a4363-6ec0-462c-88c7-005a006c5388' class='xr-section-summary-in' type='checkbox'  checked><label for='section-6b2a4363-6ec0-462c-88c7-005a006c5388' class='xr-section-summary' >Data variables: <span>(12)</span></label><div class='xr-section-inline-details'></div><div class='xr-section-details'><ul class='xr-var-list'><li class='xr-var-item'><div class='xr-var-name'><span>C1__init</span></div><div class='xr-var-dims'>()</div><div class='xr-var-dtype'>int64</div><div class='xr-var-preview xr-preview'>1</div><input id='attrs-2ce9429d-1430-4040-9548-935818368c03' class='xr-var-attrs-in' type='checkbox' disabled><label for='attrs-2ce9429d-1430-4040-9548-935818368c03' title='Show/Hide attributes'><svg class='icon xr-icon-file-text2'><use xlink:href='#icon-file-text2'></use></svg></label><input id='data-68ba5065-b09f-49e7-abec-7d073e6b56aa' class='xr-var-data-in' type='checkbox'><label for='data-68ba5065-b09f-49e7-abec-7d073e6b56aa' title='Show/Hide data repr'><svg class='icon xr-icon-database'><use xlink:href='#icon-database'></use></svg></label><div class='xr-var-attrs'><dl class='xr-attrs'></dl></div><pre class='xr-var-data'>array(1)</pre></li><li class='xr-var-item'><div class='xr-var-name'><span>C1__output</span></div><div class='xr-var-dims'>(c1, time)</div><div class='xr-var-dtype'>float64</div><div class='xr-var-preview xr-preview'>1.0 1.0 1.0 ... 14.55 18.19 22.74</div><input id='attrs-a405e5b1-d803-494d-840e-b1b047838146' class='xr-var-attrs-in' type='checkbox' ><label for='attrs-a405e5b1-d803-494d-840e-b1b047838146' title='Show/Hide attributes'><svg class='icon xr-icon-file-text2'><use xlink:href='#icon-file-text2'></use></svg></label><input id='data-8b16f2a8-9bd6-4711-b248-bbf752dd9f90' class='xr-var-data-in' type='checkbox'><label for='data-8b16f2a8-9bd6-4711-b248-bbf752dd9f90' title='Show/Hide data repr'><svg class='icon xr-icon-database'><use xlink:href='#icon-database'></use></svg></label><div class='xr-var-attrs'><dl class='xr-attrs'><dt><span>_FillValue :</span></dt><dd>nan</dd></dl></div><pre class='xr-var-data'>array([[ 1.        ,  1.        ,  1.        ,  1.        ,  1.        ,\n",
       "         1.        ,  1.        ,  1.        ,  1.        ,  1.        ,\n",
       "         1.        ,  1.        ,  1.        ,  1.        ,  1.        ],\n",
       "       [ 1.        ,  1.05263158,  1.10803324,  1.16635078,  1.22773766,\n",
       "         1.29235543,  1.36037414,  1.43197278,  1.50733977,  1.58667344,\n",
       "         1.67018257,  1.75808692,  1.85061781,  1.94801874,  2.05054605],\n",
       "       [ 1.        ,  1.11111111,  1.2345679 ,  1.37174211,  1.5241579 ,\n",
       "         1.69350878,  1.88167642,  2.09075158,  2.32305731,  2.58117479,\n",
       "         2.86797199,  3.18663555,  3.54070616,  3.93411796,  4.37124217],\n",
       "       [ 1.        ,  1.17647059,  1.38408304,  1.62833299,  1.91568588,\n",
       "         2.25374809,  2.65146834,  3.11937452,  3.66985237,  4.31747338,\n",
       "         5.07938045,  5.9757417 ,  7.03028436,  8.27092277,  9.73049738],\n",
       "       [ 1.        ,  1.25      ,  1.5625    ,  1.953125  ,  2.44140625,\n",
       "         3.05175781,  3.81469727,  4.76837158,  5.96046448,  7.4505806 ,\n",
       "         9.31322575, 11.64153218, 14.55191523, 18.18989403, 22.73736754]])</pre></li><li class='xr-var-item'><div class='xr-var-name'><span>C2__init</span></div><div class='xr-var-dims'>()</div><div class='xr-var-dtype'>int64</div><div class='xr-var-preview xr-preview'>2</div><input id='attrs-ef8a2ee1-7fcd-4ce5-ae66-8d678e96df01' class='xr-var-attrs-in' type='checkbox' disabled><label for='attrs-ef8a2ee1-7fcd-4ce5-ae66-8d678e96df01' title='Show/Hide attributes'><svg class='icon xr-icon-file-text2'><use xlink:href='#icon-file-text2'></use></svg></label><input id='data-53e26e32-3780-432c-b4c7-bc3f8f07f9ed' class='xr-var-data-in' type='checkbox'><label for='data-53e26e32-3780-432c-b4c7-bc3f8f07f9ed' title='Show/Hide data repr'><svg class='icon xr-icon-database'><use xlink:href='#icon-database'></use></svg></label><div class='xr-var-attrs'><dl class='xr-attrs'></dl></div><pre class='xr-var-data'>array(2)</pre></li><li class='xr-var-item'><div class='xr-var-name'><span>C2__output</span></div><div class='xr-var-dims'>(c2, time)</div><div class='xr-var-dtype'>float64</div><div class='xr-var-preview xr-preview'>2.0 1.75 1.542 ... 4.711 5.821</div><input id='attrs-1cfd49d5-7048-40f2-94b2-d146608ef445' class='xr-var-attrs-in' type='checkbox' ><label for='attrs-1cfd49d5-7048-40f2-94b2-d146608ef445' title='Show/Hide attributes'><svg class='icon xr-icon-file-text2'><use xlink:href='#icon-file-text2'></use></svg></label><input id='data-505dba4d-dc8a-492e-aff3-b4abe0fd2f91' class='xr-var-data-in' type='checkbox'><label for='data-505dba4d-dc8a-492e-aff3-b4abe0fd2f91' title='Show/Hide data repr'><svg class='icon xr-icon-database'><use xlink:href='#icon-database'></use></svg></label><div class='xr-var-attrs'><dl class='xr-attrs'><dt><span>_FillValue :</span></dt><dd>nan</dd></dl></div><pre class='xr-var-data'>array([[2.        , 1.75      , 1.54166667, 1.36805556, 1.22337963,\n",
       "        1.10281636, 1.00234697, 0.91862247, 0.84885206, 0.79071005,\n",
       "        0.74225837, 0.70188198, 0.66823498, 0.64019582, 0.61682985],\n",
       "       [2.        , 1.75438596, 1.55432441, 1.39246624, 1.2627    ,\n",
       "        1.15994629, 1.07998642, 1.01931975, 0.97504477, 0.9447601 ,\n",
       "        0.92648196, 0.91857554, 0.91969777, 0.9287497 , 0.94483692],\n",
       "       [2.        , 1.75925926, 1.56893004, 1.42175354, 1.31180778,\n",
       "        1.23429888, 1.18538877, 1.16205327, 1.16196584, 1.18340276,\n",
       "        1.22516664, 1.28652516, 1.36716315, 1.46714578, 1.58689167],\n",
       "       [2.        , 1.76470588, 1.58592849, 1.45730149, 1.3740584 ,\n",
       "        1.33286101, 1.3316732 , 1.36967554, 1.44721732, 1.56580388,\n",
       "        1.72811827, 1.93807703, 2.20092122, 2.52334458, 2.91366194],\n",
       "       [2.        , 1.77083333, 1.60590278, 1.50101273, 1.45429446,\n",
       "        1.4662252 , 1.53974578, 1.68048578, 1.89711019, 2.20180687,\n",
       "        2.61094121, 3.14591202, 3.83425295, 4.7110353 , 5.82064338]])</pre></li><li class='xr-var-item'><div class='xr-var-name'><span>flux__conversion2_c2</span></div><div class='xr-var-dims'>()</div><div class='xr-var-dtype'>float64</div><div class='xr-var-preview xr-preview'>0.1</div><input id='attrs-d80d2742-5c46-4467-a0a7-62179b38fd34' class='xr-var-attrs-in' type='checkbox' ><label for='attrs-d80d2742-5c46-4467-a0a7-62179b38fd34' title='Show/Hide attributes'><svg class='icon xr-icon-file-text2'><use xlink:href='#icon-file-text2'></use></svg></label><input id='data-0922c751-afb2-45da-b84a-8fcd92bfacca' class='xr-var-data-in' type='checkbox'><label for='data-0922c751-afb2-45da-b84a-8fcd92bfacca' title='Show/Hide data repr'><svg class='icon xr-icon-database'><use xlink:href='#icon-database'></use></svg></label><div class='xr-var-attrs'><dl class='xr-attrs'><dt><span>_FillValue :</span></dt><dd>nan</dd></dl></div><pre class='xr-var-data'>array(0.1)</pre></li><li class='xr-var-item'><div class='xr-var-name'><span>flux__destruction_c2</span></div><div class='xr-var-dims'>()</div><div class='xr-var-dtype'>float64</div><div class='xr-var-preview xr-preview'>0.2</div><input id='attrs-1093e9ee-56be-4c85-9d04-03e2847a947b' class='xr-var-attrs-in' type='checkbox' ><label for='attrs-1093e9ee-56be-4c85-9d04-03e2847a947b' title='Show/Hide attributes'><svg class='icon xr-icon-file-text2'><use xlink:href='#icon-file-text2'></use></svg></label><input id='data-33724162-ceaf-4c2f-a9f8-ac34c03f6b68' class='xr-var-data-in' type='checkbox'><label for='data-33724162-ceaf-4c2f-a9f8-ac34c03f6b68' title='Show/Hide data repr'><svg class='icon xr-icon-database'><use xlink:href='#icon-database'></use></svg></label><div class='xr-var-attrs'><dl class='xr-attrs'><dt><span>_FillValue :</span></dt><dd>nan</dd></dl></div><pre class='xr-var-data'>array(0.2)</pre></li><li class='xr-var-item'><div class='xr-var-name'><span>flux__growthrate_c1</span></div><div class='xr-var-dims'>()</div><div class='xr-var-dtype'>float64</div><div class='xr-var-preview xr-preview'>0.1</div><input id='attrs-a6df1fb3-9160-4d51-bb87-d19fba099c8b' class='xr-var-attrs-in' type='checkbox' ><label for='attrs-a6df1fb3-9160-4d51-bb87-d19fba099c8b' title='Show/Hide attributes'><svg class='icon xr-icon-file-text2'><use xlink:href='#icon-file-text2'></use></svg></label><input id='data-0a0f3aca-0318-42db-8642-42312299686c' class='xr-var-data-in' type='checkbox'><label for='data-0a0f3aca-0318-42db-8642-42312299686c' title='Show/Hide data repr'><svg class='icon xr-icon-database'><use xlink:href='#icon-database'></use></svg></label><div class='xr-var-attrs'><dl class='xr-attrs'><dt><span>_FillValue :</span></dt><dd>nan</dd></dl></div><pre class='xr-var-data'>array(0.1)</pre></li><li class='xr-var-item'><div class='xr-var-name'><span>grid__length</span></div><div class='xr-var-dims'>()</div><div class='xr-var-dtype'>int64</div><div class='xr-var-preview xr-preview'>1</div><input id='attrs-f9c953ca-292d-4ef3-923b-64e51cd7a7f1' class='xr-var-attrs-in' type='checkbox' disabled><label for='attrs-f9c953ca-292d-4ef3-923b-64e51cd7a7f1' title='Show/Hide attributes'><svg class='icon xr-icon-file-text2'><use xlink:href='#icon-file-text2'></use></svg></label><input id='data-87c322ac-7ad7-4f85-b3de-944840c2e168' class='xr-var-data-in' type='checkbox'><label for='data-87c322ac-7ad7-4f85-b3de-944840c2e168' title='Show/Hide data repr'><svg class='icon xr-icon-database'><use xlink:href='#icon-database'></use></svg></label><div class='xr-var-attrs'><dl class='xr-attrs'></dl></div><pre class='xr-var-data'>array(1)</pre></li><li class='xr-var-item'><div class='xr-var-name'><span>grid__shape</span></div><div class='xr-var-dims'>()</div><div class='xr-var-dtype'>int64</div><div class='xr-var-preview xr-preview'>1</div><input id='attrs-c7e9fce5-ac24-43ce-b383-16144f61c420' class='xr-var-attrs-in' type='checkbox' disabled><label for='attrs-c7e9fce5-ac24-43ce-b383-16144f61c420' title='Show/Hide attributes'><svg class='icon xr-icon-file-text2'><use xlink:href='#icon-file-text2'></use></svg></label><input id='data-013e8b0a-4ed3-4342-84a2-5597175cfeb9' class='xr-var-data-in' type='checkbox'><label for='data-013e8b0a-4ed3-4342-84a2-5597175cfeb9' title='Show/Hide data repr'><svg class='icon xr-icon-database'><use xlink:href='#icon-database'></use></svg></label><div class='xr-var-attrs'><dl class='xr-attrs'></dl></div><pre class='xr-var-data'>array(1)</pre></li><li class='xr-var-item'><div class='xr-var-name'><span>ibcs__ibc</span></div><div class='xr-var-dims'>()</div><div class='xr-var-dtype'>float64</div><div class='xr-var-preview xr-preview'>nan</div><input id='attrs-31a41a28-9b0f-4b97-b62c-cb87c8cfc401' class='xr-var-attrs-in' type='checkbox' ><label for='attrs-31a41a28-9b0f-4b97-b62c-cb87c8cfc401' title='Show/Hide attributes'><svg class='icon xr-icon-file-text2'><use xlink:href='#icon-file-text2'></use></svg></label><input id='data-b7e3eb03-c195-4931-8a55-c0e6bc34a6f1' class='xr-var-data-in' type='checkbox'><label for='data-b7e3eb03-c195-4931-8a55-c0e6bc34a6f1' title='Show/Hide data repr'><svg class='icon xr-icon-database'><use xlink:href='#icon-database'></use></svg></label><div class='xr-var-attrs'><dl class='xr-attrs'><dt><span>description :</span></dt><dd>Initial Boundary Conditions</dd></dl></div><pre class='xr-var-data'>array(nan)</pre></li><li class='xr-var-item'><div class='xr-var-name'><span>index</span></div><div class='xr-var-dims'>(c1)</div><div class='xr-var-dtype'>&lt;U4</div><div class='xr-var-preview xr-preview'>&#x27;c2-0&#x27; &#x27;c2-1&#x27; &#x27;c2-2&#x27; &#x27;c2-3&#x27; &#x27;c2-4&#x27;</div><input id='attrs-f65e4af5-ea7b-469c-96aa-e5a649c1fdf8' class='xr-var-attrs-in' type='checkbox' ><label for='attrs-f65e4af5-ea7b-469c-96aa-e5a649c1fdf8' title='Show/Hide attributes'><svg class='icon xr-icon-file-text2'><use xlink:href='#icon-file-text2'></use></svg></label><input id='data-d8e40cfa-1dc3-4b3e-b971-d6d460b04de1' class='xr-var-data-in' type='checkbox'><label for='data-d8e40cfa-1dc3-4b3e-b971-d6d460b04de1' title='Show/Hide data repr'><svg class='icon xr-icon-database'><use xlink:href='#icon-database'></use></svg></label><div class='xr-var-attrs'><dl class='xr-attrs'><dt><span>_FillValue :</span></dt><dd></dd></dl></div><pre class='xr-var-data'>array([&#x27;c2-0&#x27;, &#x27;c2-1&#x27;, &#x27;c2-2&#x27;, &#x27;c2-3&#x27;, &#x27;c2-4&#x27;], dtype=&#x27;&lt;U4&#x27;)</pre></li><li class='xr-var-item'><div class='xr-var-name'><span>time__days</span></div><div class='xr-var-dims'>(time)</div><div class='xr-var-dtype'>int64</div><div class='xr-var-preview xr-preview'>0 1 2 3 4 5 6 7 8 9 10 11 12 13 14</div><input id='attrs-d60b33de-399b-4bd7-a1d2-07748b67c34f' class='xr-var-attrs-in' type='checkbox' ><label for='attrs-d60b33de-399b-4bd7-a1d2-07748b67c34f' title='Show/Hide attributes'><svg class='icon xr-icon-file-text2'><use xlink:href='#icon-file-text2'></use></svg></label><input id='data-6a2d05ac-f205-420d-95cb-8b6ad2bf7725' class='xr-var-data-in' type='checkbox'><label for='data-6a2d05ac-f205-420d-95cb-8b6ad2bf7725' title='Show/Hide data repr'><svg class='icon xr-icon-database'><use xlink:href='#icon-database'></use></svg></label><div class='xr-var-attrs'><dl class='xr-attrs'><dt><span>description :</span></dt><dd>time in days</dd></dl></div><pre class='xr-var-data'>array([ 0,  1,  2,  3,  4,  5,  6,  7,  8,  9, 10, 11, 12, 13, 14])</pre></li></ul></div></li><li class='xr-section-item'><input id='section-7a74af47-11b9-4af3-ae25-f5faccd350c2' class='xr-section-summary-in' type='checkbox' disabled ><label for='section-7a74af47-11b9-4af3-ae25-f5faccd350c2' class='xr-section-summary'  title='Expand/collapse section'>Attributes: <span>(0)</span></label><div class='xr-section-inline-details'></div><div class='xr-section-details'><dl class='xr-attrs'></dl></div></li></ul></div></div>"
      ],
      "text/plain": [
       "<xarray.Dataset>\n",
       "Dimensions:               (c1: 5, c2: 5, clock: 2, time: 15)\n",
       "Coordinates:\n",
       "  * clock                 (clock) int64 0 1\n",
       "  * time                  (time) int64 0 1 2 3 4 5 6 7 8 9 10 11 12 13 14\n",
       "Dimensions without coordinates: c1, c2\n",
       "Data variables:\n",
       "    C1__init              int64 1\n",
       "    C1__output            (c1, time) float64 1.0 1.0 1.0 ... 14.55 18.19 22.74\n",
       "    C2__init              int64 2\n",
       "    C2__output            (c2, time) float64 2.0 1.75 1.542 ... 4.711 5.821\n",
       "    flux__conversion2_c2  float64 0.1\n",
       "    flux__destruction_c2  float64 0.2\n",
       "    flux__growthrate_c1   float64 0.1\n",
       "    grid__length          int64 1\n",
       "    grid__shape           int64 1\n",
       "    ibcs__ibc             float64 nan\n",
       "    index                 (c1) <U4 'c2-0' 'c2-1' 'c2-2' 'c2-3' 'c2-4'\n",
       "    time__days            (time) int64 0 1 2 3 4 5 6 7 8 9 10 11 12 13 14"
      ]
     },
     "execution_count": 8,
     "metadata": {},
     "output_type": "execute_result"
    }
   ],
   "source": [
    "out_ds"
   ]
  },
  {
   "cell_type": "markdown",
   "metadata": {},
   "source": [
    "#### Since the process 'Flux' is simply linear growth for all components, the results are not very spectacular, but it shows it works:"
   ]
  },
  {
   "cell_type": "code",
   "execution_count": 9,
   "metadata": {
    "collapsed": false,
    "jupyter": {
     "outputs_hidden": false
    },
    "pycharm": {
     "is_executing": false,
     "name": "#%%\n"
    }
   },
   "outputs": [
    {
     "data": {
      "text/plain": [
       "[<matplotlib.lines.Line2D at 0x11a2da250>,\n",
       " <matplotlib.lines.Line2D at 0x11a2da2b0>,\n",
       " <matplotlib.lines.Line2D at 0x11a2da430>,\n",
       " <matplotlib.lines.Line2D at 0x11a2da4f0>,\n",
       " <matplotlib.lines.Line2D at 0x11a2da5b0>]"
      ]
     },
     "execution_count": 9,
     "metadata": {},
     "output_type": "execute_result"
    },
    {
     "data": {
      "image/png": "[encoded data removed]",
      "text/plain": [
       "<Figure size 432x288 with 1 Axes>"
      ]
     },
     "metadata": {
      "needs_background": "light"
     },
     "output_type": "display_data"
    }
   ],
   "source": [
    "out_ds.C1__output.set_index(time='time').plot.line(x='time')"
   ]
  },
  {
   "cell_type": "code",
   "execution_count": 10,
   "metadata": {
    "collapsed": false,
    "jupyter": {
     "outputs_hidden": false
    },
    "pycharm": {
     "is_executing": false,
     "name": "#%%\n"
    }
   },
   "outputs": [
    {
     "data": {
      "text/plain": [
       "[<matplotlib.lines.Line2D at 0x11a3fec70>,\n",
       " <matplotlib.lines.Line2D at 0x11a3fed90>,\n",
       " <matplotlib.lines.Line2D at 0x11a3fee50>,\n",
       " <matplotlib.lines.Line2D at 0x11a3fef10>,\n",
       " <matplotlib.lines.Line2D at 0x11a3fefd0>]"
      ]
     },
     "execution_count": 10,
     "metadata": {},
     "output_type": "execute_result"
    },
    {
     "data": {
      "image/png": "[encoded data removed]",
      "text/plain": [
       "<Figure size 432x288 with 1 Axes>"
      ]
     },
     "metadata": {
      "needs_background": "light"
     },
     "output_type": "display_data"
    }
   ],
   "source": [
    "out_ds.C2__output.set_index(time='time').plot.line(x='time')"
   ]
  },
  {
   "cell_type": "code",
   "execution_count": null,
   "metadata": {},
   "outputs": [],
   "source": []
  }
 ],
 "metadata": {
  "kernelspec": {
   "display_name": "Python 3",
   "language": "python",
   "name": "python3"
  },
  "language_info": {
   "codemirror_mode": {
    "name": "ipython",
    "version": 3
   },
   "file_extension": ".py",
   "mimetype": "text/x-python",
   "name": "python",
   "nbconvert_exporter": "python",
   "pygments_lexer": "ipython3",
   "version": "3.8.3"
  },
  "pycharm": {
   "stem_cell": {
    "cell_type": "raw",
    "metadata": {
     "collapsed": false
    },
    "source": []
   }
  }
 },
 "nbformat": 4,
 "nbformat_minor": 4
}
