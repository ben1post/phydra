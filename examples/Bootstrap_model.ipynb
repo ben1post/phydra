{
 "cells": [
  {
   "cell_type": "code",
   "execution_count": 1,
   "outputs": [],
   "source": [
    "import numpy as np\n",
    "import xsimlab as xs"
   ],
   "metadata": {
    "collapsed": false,
    "pycharm": {
     "name": "#%%\n",
     "is_executing": false
    }
   }
  },
  {
   "cell_type": "code",
   "execution_count": 2,
   "outputs": [],
   "source": [
    "import os,sys,inspect\n",
    "sys.path.insert(1, os.path.join(sys.path[0], '..'))\n",
    "\n",
    "import phydra"
   ],
   "metadata": {
    "collapsed": false,
    "pycharm": {
     "name": "#%%\n",
     "is_executing": false
    }
   }
  },
  {
   "cell_type": "code",
   "execution_count": 3,
   "outputs": [],
   "source": [
    "def createMultiComp(base_process, comp_label, comp_dim):\n",
    "    \n",
    "    @xs.process\n",
    "    class AddIndexCompLabel(base_process):\n",
    "        label = xs.variable(intent='out')\n",
    "        dim = xs.variable(intent='out')\n",
    "        index = xs.index(dims=comp_label)\n",
    "        \n",
    "        output = xs.variable(intent='out', dims=(comp_label,'time'))\n",
    "        \n",
    "        def initialize(self):\n",
    "            self.label = comp_label\n",
    "            self.dim = comp_dim\n",
    "            self.index = [f\"{comp_label}-{i}\" for i in range(comp_dim)]\n",
    "            super(AddIndexCompLabel,self).initialize()\n",
    "           \n",
    "    return AddIndexCompLabel"
   ],
   "metadata": {
    "collapsed": false,
    "pycharm": {
     "name": "#%%\n",
     "is_executing": false
    }
   }
  },
  {
   "cell_type": "code",
   "execution_count": 4,
   "outputs": [
    {
     "name": "stdout",
     "text": [
      "xarray-simlab version:  0.4.1\n",
      "phydra version:  0+untagged.51.gb1dd1f2.dirty\n"
     ],
     "output_type": "stream"
    }
   ],
   "source": [
    "print('xarray-simlab version: ', xs.__version__)\n",
    "print('phydra version: ', phydra.__version__)"
   ],
   "metadata": {
    "collapsed": false,
    "pycharm": {
     "name": "#%%\n",
     "is_executing": false
    }
   }
  },
  {
   "cell_type": "code",
   "execution_count": 5,
   "metadata": {
    "pycharm": {
     "is_executing": false
    }
   },
   "outputs": [
    {
     "data": {
      "text/plain": "<xsimlab.Model (8 processes, 9 inputs)>\ntime\n    days           [in] ('time',) time in days\ngrid\n    shape          [in]\n    length         [in]\nibcs\n    ibc            [in] Initial Boundary Conditions\ncontext\nC1\n    init           [in]\nC2\n    init           [in]\nflux\n    growthrate     [in]\n    c1_label       [in]\n    c2_label       [in]\nsolver"
     },
     "metadata": {},
     "output_type": "execute_result",
     "execution_count": 5
    }
   ],
   "source": [
    "model = xs.Model({'time':phydra.processes.main.Time, 'grid':phydra.processes.main.Grid0D, \n",
    "                  'ibcs':phydra.processes.main.Boundary0D, 'context':phydra.processes.main.GekkoContext, \n",
    "                  'C1':createMultiComp(phydra.processes.main.Component,'c1',5), 'C2':createMultiComp(phydra.processes.main.Component,'c2',5),\n",
    "                  'flux':phydra.processes.main.Flux, 'solver':phydra.processes.main.GekkoSolve})\n",
    "\n",
    "model"
   ]
  },
  {
   "cell_type": "code",
   "execution_count": 6,
   "outputs": [
    {
     "data": {
      "text/plain": "[('time', 'time'), ('C1', 'index'), ('C2', 'index')]"
     },
     "metadata": {},
     "output_type": "execute_result",
     "execution_count": 6
    }
   ],
   "source": [
    "model.index_vars "
   ],
   "metadata": {
    "collapsed": false,
    "pycharm": {
     "name": "#%%\n",
     "is_executing": false
    }
   }
  },
  {
   "cell_type": "code",
   "execution_count": 7,
   "outputs": [],
   "source": [
    "def phydra_setup(model, input_vars, output_vars):\n",
    "    return xs.create_setup(model=model, \n",
    "                           # necessary for xsimlab\n",
    "                           clocks={'clock': [0, 1]},\n",
    "                           input_vars=input_vars,\n",
    "                           output_vars=output_vars)\n",
    "\n",
    "in_ds = phydra_setup(\n",
    "    model=model,\n",
    "    input_vars={\n",
    "        'time__days': ('time', np.arange(0, 15)),\n",
    "        'C1':{'init':1}, \n",
    "        'C2':{'init':2}, #the way dims are handled need to be specified in each flux!\n",
    "        \n",
    "        'flux':{'growthrate':0.1,\n",
    "                'c1_label':'c1',\n",
    "                'c2_label':'c2'}\n",
    "    },\n",
    "    output_vars={\n",
    "        'C1__output':None , \n",
    "        'C2__output':None \n",
    "    }\n",
    "                 )"
   ],
   "metadata": {
    "collapsed": false,
    "pycharm": {
     "name": "#%%\n",
     "is_executing": false
    }
   }
  },
  {
   "cell_type": "code",
   "execution_count": 8,
   "outputs": [
    {
     "name": "stdout",
     "text": [
      "Initializing Model Time\n",
      "Initializing Gekko Context\n",
      "Initializing component  c1\n",
      "Initializing component  c2\n",
      "Initializing Flux\n",
      "Assembling equation for component  c1\n",
      "Assembling equation for component  c2\n",
      "SolveInit\n",
      "Model context dict stores: dict_items([('shape', [1]), ('components', [('c1', 5), ('c2', 5)])])\n",
      "ModelSolve done\n",
      "Storing output component  c1\n",
      "Storing output component  c2\n"
     ],
     "output_type": "stream"
    }
   ],
   "source": [
    "with model:\n",
    "    out_ds = in_ds.xsimlab.run()"
   ],
   "metadata": {
    "collapsed": false,
    "pycharm": {
     "name": "#%%\n",
     "is_executing": false
    }
   }
  },
  {
   "cell_type": "code",
   "execution_count": 9,
   "outputs": [
    {
     "data": {
      "text/plain": "<xarray.Dataset>\nDimensions:           (c1: 5, c2: 5, clock: 2, time: 15)\nCoordinates:\n  * clock             (clock) int64 0 1\n  * time              (time) int64 0 1 2 3 4 5 6 7 8 9 10 11 12 13 14\nDimensions without coordinates: c1, c2\nData variables:\n    C1__init          int64 1\n    C1__output        (c1, time) float64 1.0 1.111 1.235 ... 3.541 3.934 4.371\n    C2__init          int64 2\n    C2__output        (c2, time) float64 2.0 2.222 2.469 ... 7.081 7.868 8.742\n    flux__c1_label    <U2 'c1'\n    flux__c2_label    <U2 'c2'\n    flux__growthrate  float64 0.1\n    grid__length      int64 1\n    grid__shape       int64 1\n    ibcs__ibc         float64 nan\n    index             (c1) <U4 'c2-0' 'c2-1' 'c2-2' 'c2-3' 'c2-4'\n    time__days        (time) int64 0 1 2 3 4 5 6 7 8 9 10 11 12 13 14",
      "text/html": "<div><svg style=\"position: absolute; width: 0; height: 0; overflow: hidden\">\n<defs>\n<symbol id=\"icon-database\" viewBox=\"0 0 32 32\">\n<title>Show/Hide data repr</title>\n<path d=\"M16 0c-8.837 0-16 2.239-16 5v4c0 2.761 7.163 5 16 5s16-2.239 16-5v-4c0-2.761-7.163-5-16-5z\"></path>\n<path d=\"M16 17c-8.837 0-16-2.239-16-5v6c0 2.761 7.163 5 16 5s16-2.239 16-5v-6c0 2.761-7.163 5-16 5z\"></path>\n<path d=\"M16 26c-8.837 0-16-2.239-16-5v6c0 2.761 7.163 5 16 5s16-2.239 16-5v-6c0 2.761-7.163 5-16 5z\"></path>\n</symbol>\n<symbol id=\"icon-file-text2\" viewBox=\"0 0 32 32\">\n<title>Show/Hide attributes</title>\n<path d=\"M28.681 7.159c-0.694-0.947-1.662-2.053-2.724-3.116s-2.169-2.030-3.116-2.724c-1.612-1.182-2.393-1.319-2.841-1.319h-15.5c-1.378 0-2.5 1.121-2.5 2.5v27c0 1.378 1.122 2.5 2.5 2.5h23c1.378 0 2.5-1.122 2.5-2.5v-19.5c0-0.448-0.137-1.23-1.319-2.841zM24.543 5.457c0.959 0.959 1.712 1.825 2.268 2.543h-4.811v-4.811c0.718 0.556 1.584 1.309 2.543 2.268zM28 29.5c0 0.271-0.229 0.5-0.5 0.5h-23c-0.271 0-0.5-0.229-0.5-0.5v-27c0-0.271 0.229-0.5 0.5-0.5 0 0 15.499-0 15.5 0v7c0 0.552 0.448 1 1 1h7v19.5z\"></path>\n<path d=\"M23 26h-14c-0.552 0-1-0.448-1-1s0.448-1 1-1h14c0.552 0 1 0.448 1 1s-0.448 1-1 1z\"></path>\n<path d=\"M23 22h-14c-0.552 0-1-0.448-1-1s0.448-1 1-1h14c0.552 0 1 0.448 1 1s-0.448 1-1 1z\"></path>\n<path d=\"M23 18h-14c-0.552 0-1-0.448-1-1s0.448-1 1-1h14c0.552 0 1 0.448 1 1s-0.448 1-1 1z\"></path>\n</symbol>\n</defs>\n</svg>\n<style>/* CSS stylesheet for displaying xarray objects in jupyterlab.\n *\n */\n\n:root {\n  --xr-font-color0: var(--jp-content-font-color0, rgba(0, 0, 0, 1));\n  --xr-font-color2: var(--jp-content-font-color2, rgba(0, 0, 0, 0.54));\n  --xr-font-color3: var(--jp-content-font-color3, rgba(0, 0, 0, 0.38));\n  --xr-border-color: var(--jp-border-color2, #e0e0e0);\n  --xr-disabled-color: var(--jp-layout-color3, #bdbdbd);\n  --xr-background-color: var(--jp-layout-color0, white);\n  --xr-background-color-row-even: var(--jp-layout-color1, white);\n  --xr-background-color-row-odd: var(--jp-layout-color2, #eeeeee);\n}\n\n.xr-wrap {\n  min-width: 300px;\n  max-width: 700px;\n}\n\n.xr-header {\n  padding-top: 6px;\n  padding-bottom: 6px;\n  margin-bottom: 4px;\n  border-bottom: solid 1px var(--xr-border-color);\n}\n\n.xr-header > div,\n.xr-header > ul {\n  display: inline;\n  margin-top: 0;\n  margin-bottom: 0;\n}\n\n.xr-obj-type,\n.xr-array-name {\n  margin-left: 2px;\n  margin-right: 10px;\n}\n\n.xr-obj-type {\n  color: var(--xr-font-color2);\n}\n\n.xr-sections {\n  padding-left: 0 !important;\n  display: grid;\n  grid-template-columns: 150px auto auto 1fr 20px 20px;\n}\n\n.xr-section-item {\n  display: contents;\n}\n\n.xr-section-item input {\n  display: none;\n}\n\n.xr-section-item input + label {\n  color: var(--xr-disabled-color);\n}\n\n.xr-section-item input:enabled + label {\n  cursor: pointer;\n  color: var(--xr-font-color2);\n}\n\n.xr-section-item input:enabled + label:hover {\n  color: var(--xr-font-color0);\n}\n\n.xr-section-summary {\n  grid-column: 1;\n  color: var(--xr-font-color2);\n  font-weight: 500;\n}\n\n.xr-section-summary > span {\n  display: inline-block;\n  padding-left: 0.5em;\n}\n\n.xr-section-summary-in:disabled + label {\n  color: var(--xr-font-color2);\n}\n\n.xr-section-summary-in + label:before {\n  display: inline-block;\n  content: '►';\n  font-size: 11px;\n  width: 15px;\n  text-align: center;\n}\n\n.xr-section-summary-in:disabled + label:before {\n  color: var(--xr-disabled-color);\n}\n\n.xr-section-summary-in:checked + label:before {\n  content: '▼';\n}\n\n.xr-section-summary-in:checked + label > span {\n  display: none;\n}\n\n.xr-section-summary,\n.xr-section-inline-details {\n  padding-top: 4px;\n  padding-bottom: 4px;\n}\n\n.xr-section-inline-details {\n  grid-column: 2 / -1;\n}\n\n.xr-section-details {\n  display: none;\n  grid-column: 1 / -1;\n  margin-bottom: 5px;\n}\n\n.xr-section-summary-in:checked ~ .xr-section-details {\n  display: contents;\n}\n\n.xr-array-wrap {\n  grid-column: 1 / -1;\n  display: grid;\n  grid-template-columns: 20px auto;\n}\n\n.xr-array-wrap > label {\n  grid-column: 1;\n  vertical-align: top;\n}\n\n.xr-preview {\n  color: var(--xr-font-color3);\n}\n\n.xr-array-preview,\n.xr-array-data {\n  padding: 0 5px !important;\n  grid-column: 2;\n}\n\n.xr-array-data,\n.xr-array-in:checked ~ .xr-array-preview {\n  display: none;\n}\n\n.xr-array-in:checked ~ .xr-array-data,\n.xr-array-preview {\n  display: inline-block;\n}\n\n.xr-dim-list {\n  display: inline-block !important;\n  list-style: none;\n  padding: 0 !important;\n  margin: 0;\n}\n\n.xr-dim-list li {\n  display: inline-block;\n  padding: 0;\n  margin: 0;\n}\n\n.xr-dim-list:before {\n  content: '(';\n}\n\n.xr-dim-list:after {\n  content: ')';\n}\n\n.xr-dim-list li:not(:last-child):after {\n  content: ',';\n  padding-right: 5px;\n}\n\n.xr-has-index {\n  font-weight: bold;\n}\n\n.xr-var-list,\n.xr-var-item {\n  display: contents;\n}\n\n.xr-var-item > div,\n.xr-var-item label,\n.xr-var-item > .xr-var-name span {\n  background-color: var(--xr-background-color-row-even);\n  margin-bottom: 0;\n}\n\n.xr-var-item > .xr-var-name:hover span {\n  padding-right: 5px;\n}\n\n.xr-var-list > li:nth-child(odd) > div,\n.xr-var-list > li:nth-child(odd) > label,\n.xr-var-list > li:nth-child(odd) > .xr-var-name span {\n  background-color: var(--xr-background-color-row-odd);\n}\n\n.xr-var-name {\n  grid-column: 1;\n}\n\n.xr-var-dims {\n  grid-column: 2;\n}\n\n.xr-var-dtype {\n  grid-column: 3;\n  text-align: right;\n  color: var(--xr-font-color2);\n}\n\n.xr-var-preview {\n  grid-column: 4;\n}\n\n.xr-var-name,\n.xr-var-dims,\n.xr-var-dtype,\n.xr-preview,\n.xr-attrs dt {\n  white-space: nowrap;\n  overflow: hidden;\n  text-overflow: ellipsis;\n  padding-right: 10px;\n}\n\n.xr-var-name:hover,\n.xr-var-dims:hover,\n.xr-var-dtype:hover,\n.xr-attrs dt:hover {\n  overflow: visible;\n  width: auto;\n  z-index: 1;\n}\n\n.xr-var-attrs,\n.xr-var-data {\n  display: none;\n  background-color: var(--xr-background-color) !important;\n  padding-bottom: 5px !important;\n}\n\n.xr-var-attrs-in:checked ~ .xr-var-attrs,\n.xr-var-data-in:checked ~ .xr-var-data {\n  display: block;\n}\n\n.xr-var-data > table {\n  float: right;\n}\n\n.xr-var-name span,\n.xr-var-data,\n.xr-attrs {\n  padding-left: 25px !important;\n}\n\n.xr-attrs,\n.xr-var-attrs,\n.xr-var-data {\n  grid-column: 1 / -1;\n}\n\ndl.xr-attrs {\n  padding: 0;\n  margin: 0;\n  display: grid;\n  grid-template-columns: 125px auto;\n}\n\n.xr-attrs dt, dd {\n  padding: 0;\n  margin: 0;\n  float: left;\n  padding-right: 10px;\n  width: auto;\n}\n\n.xr-attrs dt {\n  font-weight: normal;\n  grid-column: 1;\n}\n\n.xr-attrs dt:hover span {\n  display: inline-block;\n  background: var(--xr-background-color);\n  padding-right: 10px;\n}\n\n.xr-attrs dd {\n  grid-column: 2;\n  white-space: pre-wrap;\n  word-break: break-all;\n}\n\n.xr-icon-database,\n.xr-icon-file-text2 {\n  display: inline-block;\n  vertical-align: middle;\n  width: 1em;\n  height: 1.5em !important;\n  stroke-width: 0;\n  stroke: currentColor;\n  fill: currentColor;\n}\n</style><div class='xr-wrap'><div class='xr-header'><div class='xr-obj-type'>xarray.Dataset</div></div><ul class='xr-sections'><li class='xr-section-item'><input id='section-48124e6d-b217-45ff-907e-173241622ce0' class='xr-section-summary-in' type='checkbox' disabled ><label for='section-48124e6d-b217-45ff-907e-173241622ce0' class='xr-section-summary'  title='Expand/collapse section'>Dimensions:</label><div class='xr-section-inline-details'><ul class='xr-dim-list'><li><span>c1</span>: 5</li><li><span>c2</span>: 5</li><li><span class='xr-has-index'>clock</span>: 2</li><li><span class='xr-has-index'>time</span>: 15</li></ul></div><div class='xr-section-details'></div></li><li class='xr-section-item'><input id='section-c3f3045e-3910-4c89-97de-4b8fff534d54' class='xr-section-summary-in' type='checkbox'  checked><label for='section-c3f3045e-3910-4c89-97de-4b8fff534d54' class='xr-section-summary' >Coordinates: <span>(2)</span></label><div class='xr-section-inline-details'></div><div class='xr-section-details'><ul class='xr-var-list'><li class='xr-var-item'><div class='xr-var-name'><span class='xr-has-index'>clock</span></div><div class='xr-var-dims'>(clock)</div><div class='xr-var-dtype'>int64</div><div class='xr-var-preview xr-preview'>0 1</div><input id='attrs-69bf30f0-0f5c-4e3c-8a55-a3cb4fdad7c1' class='xr-var-attrs-in' type='checkbox' ><label for='attrs-69bf30f0-0f5c-4e3c-8a55-a3cb4fdad7c1' title='Show/Hide attributes'><svg class='icon xr-icon-file-text2'><use xlink:href='#icon-file-text2'></use></svg></label><input id='data-043ad929-67a0-4f42-8294-68d9e927e653' class='xr-var-data-in' type='checkbox'><label for='data-043ad929-67a0-4f42-8294-68d9e927e653' title='Show/Hide data repr'><svg class='icon xr-icon-database'><use xlink:href='#icon-database'></use></svg></label><div class='xr-var-attrs'><dl class='xr-attrs'><dt><span>__xsimlab_master_clock__ :</span></dt><dd>1</dd><dt><span>__xsimlab_output_clock__ :</span></dt><dd>1</dd></dl></div><pre class='xr-var-data'>array([0, 1])</pre></li><li class='xr-var-item'><div class='xr-var-name'><span class='xr-has-index'>time</span></div><div class='xr-var-dims'>(time)</div><div class='xr-var-dtype'>int64</div><div class='xr-var-preview xr-preview'>0 1 2 3 4 5 6 7 8 9 10 11 12 13 14</div><input id='attrs-8d0d9db4-6c74-47f7-b585-73d05ee16e8c' class='xr-var-attrs-in' type='checkbox' ><label for='attrs-8d0d9db4-6c74-47f7-b585-73d05ee16e8c' title='Show/Hide attributes'><svg class='icon xr-icon-file-text2'><use xlink:href='#icon-file-text2'></use></svg></label><input id='data-dbff6382-d156-498e-acea-4b15ff443f5f' class='xr-var-data-in' type='checkbox'><label for='data-dbff6382-d156-498e-acea-4b15ff443f5f' title='Show/Hide data repr'><svg class='icon xr-icon-database'><use xlink:href='#icon-database'></use></svg></label><div class='xr-var-attrs'><dl class='xr-attrs'><dt><span>description :</span></dt><dd>time in days</dd><dt><span>_FillValue :</span></dt><dd>0</dd></dl></div><pre class='xr-var-data'>array([ 0,  1,  2,  3,  4,  5,  6,  7,  8,  9, 10, 11, 12, 13, 14])</pre></li></ul></div></li><li class='xr-section-item'><input id='section-0413dc61-a801-4c9d-bc2e-7fd8f2a8fddc' class='xr-section-summary-in' type='checkbox'  checked><label for='section-0413dc61-a801-4c9d-bc2e-7fd8f2a8fddc' class='xr-section-summary' >Data variables: <span>(12)</span></label><div class='xr-section-inline-details'></div><div class='xr-section-details'><ul class='xr-var-list'><li class='xr-var-item'><div class='xr-var-name'><span>C1__init</span></div><div class='xr-var-dims'>()</div><div class='xr-var-dtype'>int64</div><div class='xr-var-preview xr-preview'>1</div><input id='attrs-4976ece4-756e-48df-a69c-8fb7fb1092a3' class='xr-var-attrs-in' type='checkbox' disabled><label for='attrs-4976ece4-756e-48df-a69c-8fb7fb1092a3' title='Show/Hide attributes'><svg class='icon xr-icon-file-text2'><use xlink:href='#icon-file-text2'></use></svg></label><input id='data-dc2b45b7-ed25-469c-be5b-0804fc54848d' class='xr-var-data-in' type='checkbox'><label for='data-dc2b45b7-ed25-469c-be5b-0804fc54848d' title='Show/Hide data repr'><svg class='icon xr-icon-database'><use xlink:href='#icon-database'></use></svg></label><div class='xr-var-attrs'><dl class='xr-attrs'></dl></div><pre class='xr-var-data'>array(1)</pre></li><li class='xr-var-item'><div class='xr-var-name'><span>C1__output</span></div><div class='xr-var-dims'>(c1, time)</div><div class='xr-var-dtype'>float64</div><div class='xr-var-preview xr-preview'>1.0 1.111 1.235 ... 3.934 4.371</div><input id='attrs-a32720ce-c9ed-4dc9-9548-a1598b7775ae' class='xr-var-attrs-in' type='checkbox' ><label for='attrs-a32720ce-c9ed-4dc9-9548-a1598b7775ae' title='Show/Hide attributes'><svg class='icon xr-icon-file-text2'><use xlink:href='#icon-file-text2'></use></svg></label><input id='data-e00c8757-f0c7-49d1-999a-62d0c7fb024d' class='xr-var-data-in' type='checkbox'><label for='data-e00c8757-f0c7-49d1-999a-62d0c7fb024d' title='Show/Hide data repr'><svg class='icon xr-icon-database'><use xlink:href='#icon-database'></use></svg></label><div class='xr-var-attrs'><dl class='xr-attrs'><dt><span>_FillValue :</span></dt><dd>nan</dd></dl></div><pre class='xr-var-data'>array([[1.        , 1.11111111, 1.2345679 , 1.37174211, 1.5241579 ,\n        1.69350878, 1.88167642, 2.09075158, 2.32305731, 2.58117479,\n        2.86797199, 3.18663555, 3.54070616, 3.93411796, 4.37124217],\n       [1.        , 1.11111111, 1.2345679 , 1.37174211, 1.5241579 ,\n        1.69350878, 1.88167642, 2.09075158, 2.32305731, 2.58117479,\n        2.86797199, 3.18663555, 3.54070616, 3.93411796, 4.37124217],\n       [1.        , 1.11111111, 1.2345679 , 1.37174211, 1.5241579 ,\n        1.69350878, 1.88167642, 2.09075158, 2.32305731, 2.58117479,\n        2.86797199, 3.18663555, 3.54070616, 3.93411796, 4.37124217],\n       [1.        , 1.11111111, 1.2345679 , 1.37174211, 1.5241579 ,\n        1.69350878, 1.88167642, 2.09075158, 2.32305731, 2.58117479,\n        2.86797199, 3.18663555, 3.54070616, 3.93411796, 4.37124217],\n       [1.        , 1.11111111, 1.2345679 , 1.37174211, 1.5241579 ,\n        1.69350878, 1.88167642, 2.09075158, 2.32305731, 2.58117479,\n        2.86797199, 3.18663555, 3.54070616, 3.93411796, 4.37124217]])</pre></li><li class='xr-var-item'><div class='xr-var-name'><span>C2__init</span></div><div class='xr-var-dims'>()</div><div class='xr-var-dtype'>int64</div><div class='xr-var-preview xr-preview'>2</div><input id='attrs-66cfc526-bf7d-4314-a11f-45b1414c2fee' class='xr-var-attrs-in' type='checkbox' disabled><label for='attrs-66cfc526-bf7d-4314-a11f-45b1414c2fee' title='Show/Hide attributes'><svg class='icon xr-icon-file-text2'><use xlink:href='#icon-file-text2'></use></svg></label><input id='data-2cbb5a96-0324-47d4-8fcc-ab5b70cd08d0' class='xr-var-data-in' type='checkbox'><label for='data-2cbb5a96-0324-47d4-8fcc-ab5b70cd08d0' title='Show/Hide data repr'><svg class='icon xr-icon-database'><use xlink:href='#icon-database'></use></svg></label><div class='xr-var-attrs'><dl class='xr-attrs'></dl></div><pre class='xr-var-data'>array(2)</pre></li><li class='xr-var-item'><div class='xr-var-name'><span>C2__output</span></div><div class='xr-var-dims'>(c2, time)</div><div class='xr-var-dtype'>float64</div><div class='xr-var-preview xr-preview'>2.0 2.222 2.469 ... 7.868 8.742</div><input id='attrs-c4041401-01da-4610-a3e3-7a85bc387064' class='xr-var-attrs-in' type='checkbox' ><label for='attrs-c4041401-01da-4610-a3e3-7a85bc387064' title='Show/Hide attributes'><svg class='icon xr-icon-file-text2'><use xlink:href='#icon-file-text2'></use></svg></label><input id='data-42b43efb-a2c7-4963-9bda-138c3d307cbb' class='xr-var-data-in' type='checkbox'><label for='data-42b43efb-a2c7-4963-9bda-138c3d307cbb' title='Show/Hide data repr'><svg class='icon xr-icon-database'><use xlink:href='#icon-database'></use></svg></label><div class='xr-var-attrs'><dl class='xr-attrs'><dt><span>_FillValue :</span></dt><dd>nan</dd></dl></div><pre class='xr-var-data'>array([[2.        , 2.22222222, 2.4691358 , 2.74348422, 3.04831581,\n        3.38701756, 3.76335285, 4.18150316, 4.64611463, 5.16234958,\n        5.73594398, 6.37327109, 7.08141232, 7.86823591, 8.74248435],\n       [2.        , 2.22222222, 2.4691358 , 2.74348422, 3.04831581,\n        3.38701756, 3.76335285, 4.18150316, 4.64611463, 5.16234958,\n        5.73594398, 6.37327109, 7.08141232, 7.86823591, 8.74248435],\n       [2.        , 2.22222222, 2.4691358 , 2.74348422, 3.04831581,\n        3.38701756, 3.76335285, 4.18150316, 4.64611463, 5.16234958,\n        5.73594398, 6.37327109, 7.08141232, 7.86823591, 8.74248435],\n       [2.        , 2.22222222, 2.4691358 , 2.74348422, 3.04831581,\n        3.38701756, 3.76335285, 4.18150316, 4.64611463, 5.16234958,\n        5.73594398, 6.37327109, 7.08141232, 7.86823591, 8.74248435],\n       [2.        , 2.22222222, 2.4691358 , 2.74348422, 3.04831581,\n        3.38701756, 3.76335285, 4.18150316, 4.64611463, 5.16234958,\n        5.73594398, 6.37327109, 7.08141232, 7.86823591, 8.74248435]])</pre></li><li class='xr-var-item'><div class='xr-var-name'><span>flux__c1_label</span></div><div class='xr-var-dims'>()</div><div class='xr-var-dtype'>&lt;U2</div><div class='xr-var-preview xr-preview'>&#x27;c1&#x27;</div><input id='attrs-d9ef83f9-3858-4d9e-b48f-1b54566cf5db' class='xr-var-attrs-in' type='checkbox' disabled><label for='attrs-d9ef83f9-3858-4d9e-b48f-1b54566cf5db' title='Show/Hide attributes'><svg class='icon xr-icon-file-text2'><use xlink:href='#icon-file-text2'></use></svg></label><input id='data-c79b0c0a-562e-4404-93be-87c58f8c3426' class='xr-var-data-in' type='checkbox'><label for='data-c79b0c0a-562e-4404-93be-87c58f8c3426' title='Show/Hide data repr'><svg class='icon xr-icon-database'><use xlink:href='#icon-database'></use></svg></label><div class='xr-var-attrs'><dl class='xr-attrs'></dl></div><pre class='xr-var-data'>array(&#x27;c1&#x27;, dtype=&#x27;&lt;U2&#x27;)</pre></li><li class='xr-var-item'><div class='xr-var-name'><span>flux__c2_label</span></div><div class='xr-var-dims'>()</div><div class='xr-var-dtype'>&lt;U2</div><div class='xr-var-preview xr-preview'>&#x27;c2&#x27;</div><input id='attrs-fa5f0497-da08-4e46-9075-f810f5ea5a59' class='xr-var-attrs-in' type='checkbox' disabled><label for='attrs-fa5f0497-da08-4e46-9075-f810f5ea5a59' title='Show/Hide attributes'><svg class='icon xr-icon-file-text2'><use xlink:href='#icon-file-text2'></use></svg></label><input id='data-b77d0d50-fa06-4c31-ad8a-2da563de9f24' class='xr-var-data-in' type='checkbox'><label for='data-b77d0d50-fa06-4c31-ad8a-2da563de9f24' title='Show/Hide data repr'><svg class='icon xr-icon-database'><use xlink:href='#icon-database'></use></svg></label><div class='xr-var-attrs'><dl class='xr-attrs'></dl></div><pre class='xr-var-data'>array(&#x27;c2&#x27;, dtype=&#x27;&lt;U2&#x27;)</pre></li><li class='xr-var-item'><div class='xr-var-name'><span>flux__growthrate</span></div><div class='xr-var-dims'>()</div><div class='xr-var-dtype'>float64</div><div class='xr-var-preview xr-preview'>0.1</div><input id='attrs-946317bf-2ae2-4b61-b017-33cf9573b3b6' class='xr-var-attrs-in' type='checkbox' ><label for='attrs-946317bf-2ae2-4b61-b017-33cf9573b3b6' title='Show/Hide attributes'><svg class='icon xr-icon-file-text2'><use xlink:href='#icon-file-text2'></use></svg></label><input id='data-169a271b-d571-436d-acb0-a0932ba93d97' class='xr-var-data-in' type='checkbox'><label for='data-169a271b-d571-436d-acb0-a0932ba93d97' title='Show/Hide data repr'><svg class='icon xr-icon-database'><use xlink:href='#icon-database'></use></svg></label><div class='xr-var-attrs'><dl class='xr-attrs'><dt><span>_FillValue :</span></dt><dd>nan</dd></dl></div><pre class='xr-var-data'>array(0.1)</pre></li><li class='xr-var-item'><div class='xr-var-name'><span>grid__length</span></div><div class='xr-var-dims'>()</div><div class='xr-var-dtype'>int64</div><div class='xr-var-preview xr-preview'>1</div><input id='attrs-245d84a1-5aac-4cf2-b00b-50bcaaaf87bb' class='xr-var-attrs-in' type='checkbox' disabled><label for='attrs-245d84a1-5aac-4cf2-b00b-50bcaaaf87bb' title='Show/Hide attributes'><svg class='icon xr-icon-file-text2'><use xlink:href='#icon-file-text2'></use></svg></label><input id='data-c1561981-014b-4fc1-ae3f-2d9535f6c240' class='xr-var-data-in' type='checkbox'><label for='data-c1561981-014b-4fc1-ae3f-2d9535f6c240' title='Show/Hide data repr'><svg class='icon xr-icon-database'><use xlink:href='#icon-database'></use></svg></label><div class='xr-var-attrs'><dl class='xr-attrs'></dl></div><pre class='xr-var-data'>array(1)</pre></li><li class='xr-var-item'><div class='xr-var-name'><span>grid__shape</span></div><div class='xr-var-dims'>()</div><div class='xr-var-dtype'>int64</div><div class='xr-var-preview xr-preview'>1</div><input id='attrs-ef09d141-a948-4863-b4b6-1edbdedd582b' class='xr-var-attrs-in' type='checkbox' disabled><label for='attrs-ef09d141-a948-4863-b4b6-1edbdedd582b' title='Show/Hide attributes'><svg class='icon xr-icon-file-text2'><use xlink:href='#icon-file-text2'></use></svg></label><input id='data-9c413c33-7dff-41cc-964c-9a264e3e49d3' class='xr-var-data-in' type='checkbox'><label for='data-9c413c33-7dff-41cc-964c-9a264e3e49d3' title='Show/Hide data repr'><svg class='icon xr-icon-database'><use xlink:href='#icon-database'></use></svg></label><div class='xr-var-attrs'><dl class='xr-attrs'></dl></div><pre class='xr-var-data'>array(1)</pre></li><li class='xr-var-item'><div class='xr-var-name'><span>ibcs__ibc</span></div><div class='xr-var-dims'>()</div><div class='xr-var-dtype'>float64</div><div class='xr-var-preview xr-preview'>nan</div><input id='attrs-e04908f7-a2ad-47dc-935d-6769d23e0f0c' class='xr-var-attrs-in' type='checkbox' ><label for='attrs-e04908f7-a2ad-47dc-935d-6769d23e0f0c' title='Show/Hide attributes'><svg class='icon xr-icon-file-text2'><use xlink:href='#icon-file-text2'></use></svg></label><input id='data-b421d5cb-669c-42f9-a004-eb414b73877f' class='xr-var-data-in' type='checkbox'><label for='data-b421d5cb-669c-42f9-a004-eb414b73877f' title='Show/Hide data repr'><svg class='icon xr-icon-database'><use xlink:href='#icon-database'></use></svg></label><div class='xr-var-attrs'><dl class='xr-attrs'><dt><span>description :</span></dt><dd>Initial Boundary Conditions</dd></dl></div><pre class='xr-var-data'>array(nan)</pre></li><li class='xr-var-item'><div class='xr-var-name'><span>index</span></div><div class='xr-var-dims'>(c1)</div><div class='xr-var-dtype'>&lt;U4</div><div class='xr-var-preview xr-preview'>&#x27;c2-0&#x27; &#x27;c2-1&#x27; &#x27;c2-2&#x27; &#x27;c2-3&#x27; &#x27;c2-4&#x27;</div><input id='attrs-24d00ac5-be53-4355-b769-af690579d905' class='xr-var-attrs-in' type='checkbox' ><label for='attrs-24d00ac5-be53-4355-b769-af690579d905' title='Show/Hide attributes'><svg class='icon xr-icon-file-text2'><use xlink:href='#icon-file-text2'></use></svg></label><input id='data-1b257b94-f60c-4634-95e3-f76bc8cec78d' class='xr-var-data-in' type='checkbox'><label for='data-1b257b94-f60c-4634-95e3-f76bc8cec78d' title='Show/Hide data repr'><svg class='icon xr-icon-database'><use xlink:href='#icon-database'></use></svg></label><div class='xr-var-attrs'><dl class='xr-attrs'><dt><span>_FillValue :</span></dt><dd></dd></dl></div><pre class='xr-var-data'>array([&#x27;c2-0&#x27;, &#x27;c2-1&#x27;, &#x27;c2-2&#x27;, &#x27;c2-3&#x27;, &#x27;c2-4&#x27;], dtype=&#x27;&lt;U4&#x27;)</pre></li><li class='xr-var-item'><div class='xr-var-name'><span>time__days</span></div><div class='xr-var-dims'>(time)</div><div class='xr-var-dtype'>int64</div><div class='xr-var-preview xr-preview'>0 1 2 3 4 5 6 7 8 9 10 11 12 13 14</div><input id='attrs-a4aab786-a7ca-4298-b771-102d5e4cdafd' class='xr-var-attrs-in' type='checkbox' ><label for='attrs-a4aab786-a7ca-4298-b771-102d5e4cdafd' title='Show/Hide attributes'><svg class='icon xr-icon-file-text2'><use xlink:href='#icon-file-text2'></use></svg></label><input id='data-2da9e957-2a17-4aee-b4c8-4a8f66820084' class='xr-var-data-in' type='checkbox'><label for='data-2da9e957-2a17-4aee-b4c8-4a8f66820084' title='Show/Hide data repr'><svg class='icon xr-icon-database'><use xlink:href='#icon-database'></use></svg></label><div class='xr-var-attrs'><dl class='xr-attrs'><dt><span>description :</span></dt><dd>time in days</dd></dl></div><pre class='xr-var-data'>array([ 0,  1,  2,  3,  4,  5,  6,  7,  8,  9, 10, 11, 12, 13, 14])</pre></li></ul></div></li><li class='xr-section-item'><input id='section-d9706512-952f-4676-87d2-1fc7076dbd4a' class='xr-section-summary-in' type='checkbox' disabled ><label for='section-d9706512-952f-4676-87d2-1fc7076dbd4a' class='xr-section-summary'  title='Expand/collapse section'>Attributes: <span>(0)</span></label><div class='xr-section-inline-details'></div><div class='xr-section-details'><dl class='xr-attrs'></dl></div></li></ul></div></div>"
     },
     "metadata": {},
     "output_type": "execute_result",
     "execution_count": 9
    }
   ],
   "source": [
    "out_ds"
   ],
   "metadata": {
    "collapsed": false,
    "pycharm": {
     "name": "#%%\n",
     "is_executing": false
    }
   }
  },
  {
   "cell_type": "code",
   "execution_count": 10,
   "outputs": [
    {
     "data": {
      "text/plain": "[<matplotlib.lines.Line2D at 0x11b3354c0>,\n <matplotlib.lines.Line2D at 0x11b335520>,\n <matplotlib.lines.Line2D at 0x11b3356a0>,\n <matplotlib.lines.Line2D at 0x11b335760>,\n <matplotlib.lines.Line2D at 0x11b335820>]"
     },
     "metadata": {},
     "output_type": "execute_result",
     "execution_count": 10
    },
    {
     "data": {
      "text/plain": "<Figure size 432x288 with 1 Axes>",
      "image/png": "[encoded data removed]"
     },
     "metadata": {
      "needs_background": "light"
     },
     "output_type": "display_data"
    }
   ],
   "source": [
    "out_ds.C1__output.set_index(time='time').plot.line(x='time')"
   ],
   "metadata": {
    "collapsed": false,
    "pycharm": {
     "name": "#%%\n",
     "is_executing": false
    }
   }
  },
  {
   "cell_type": "code",
   "execution_count": 11,
   "outputs": [
    {
     "data": {
      "text/plain": "[<matplotlib.lines.Line2D at 0x11b4102e0>,\n <matplotlib.lines.Line2D at 0x11b410400>,\n <matplotlib.lines.Line2D at 0x11b4104c0>,\n <matplotlib.lines.Line2D at 0x11b410580>,\n <matplotlib.lines.Line2D at 0x11b410640>]"
     },
     "metadata": {},
     "output_type": "execute_result",
     "execution_count": 11
    },
    {
     "data": {
      "text/plain": "<Figure size 432x288 with 1 Axes>",
      "image/png": "[encoded data removed]"
     },
     "metadata": {
      "needs_background": "light"
     },
     "output_type": "display_data"
    }
   ],
   "source": [
    "out_ds.C2__output.set_index(time='time').plot.line(x='time')"
   ],
   "metadata": {
    "collapsed": false,
    "pycharm": {
     "name": "#%%\n",
     "is_executing": false
    }
   }
  }
 ],
 "metadata": {
  "kernelspec": {
   "display_name": "Python 3",
   "language": "python",
   "name": "python3"
  },
  "language_info": {
   "codemirror_mode": {
    "name": "ipython",
    "version": 3
   },
   "file_extension": ".py",
   "mimetype": "text/x-python",
   "name": "python",
   "nbconvert_exporter": "python",
   "pygments_lexer": "ipython3",
   "version": "3.8.3"
  },
  "pycharm": {
   "stem_cell": {
    "cell_type": "raw",
    "source": [],
    "metadata": {
     "collapsed": false
    }
   }
  }
 },
 "nbformat": 4,
 "nbformat_minor": 4
}