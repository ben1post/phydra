{
 "cells": [
  {
   "cell_type": "code",
   "execution_count": 1,
   "outputs": [],
   "source": [
    "import numpy as np\n",
    "import xsimlab as xs"
   ],
   "metadata": {
    "collapsed": false,
    "pycharm": {
     "name": "#%%\n",
     "is_executing": false
    }
   }
  },
  {
   "cell_type": "code",
   "execution_count": 2,
   "outputs": [],
   "source": [
    "import os,sys,inspect\n",
    "sys.path.insert(1, os.path.join(sys.path[0], '..'))\n",
    "\n",
    "import phydra"
   ],
   "metadata": {
    "collapsed": false,
    "pycharm": {
     "name": "#%%\n",
     "is_executing": false
    }
   }
  },
  {
   "cell_type": "code",
   "execution_count": 3,
   "outputs": [
    {
     "name": "stdout",
     "text": [
      "xarray-simlab version:  0.4.1\n",
      "phydra version:  0+untagged.49.g665b7df.dirty\n"
     ],
     "output_type": "stream"
    }
   ],
   "source": [
    "print('xarray-simlab version: ', xs.__version__)\n",
    "print('phydra version: ', phydra.__version__)"
   ],
   "metadata": {
    "collapsed": false,
    "pycharm": {
     "name": "#%%\n",
     "is_executing": false
    }
   }
  },
  {
   "cell_type": "code",
   "execution_count": 4,
   "metadata": {
    "pycharm": {
     "is_executing": false
    }
   },
   "outputs": [
    {
     "data": {
      "text/plain": "<xsimlab.Model (8 processes, 13 inputs)>\ntime\n    days           [in] ('time',) time in days\ngrid\n    length         [in]\n    shape          [in]\nibcs\n    ibc            [in] Initial Boundary Conditions\ncontext\ncomp\n    dim            [in]\n    init           [in]\n    label          [in]\ncomp2\n    init           [in]\n    label          [in]\n    dim            [in]\nflux\n    c2_label       [in]\n    growthrate     [in]\n    c1_label       [in]\nsolver"
     },
     "metadata": {},
     "output_type": "execute_result",
     "execution_count": 4
    }
   ],
   "source": [
    "model = xs.Model({'time':phydra.processes.main.Time, 'grid':phydra.processes.main.Grid0D, \n",
    "                  'ibcs':phydra.processes.main.Boundary0D, 'context':phydra.processes.main.GekkoContext, \n",
    "                  'comp':phydra.processes.main.Component, 'comp2':phydra.processes.main.Component,\n",
    "                  'flux':phydra.processes.main.Flux, 'solver':phydra.processes.main.GekkoSolve})\n",
    "\n",
    "model"
   ]
  },
  {
   "cell_type": "code",
   "execution_count": 5,
   "outputs": [],
   "source": [
    "def phydra_setup(model, input_vars, output_vars):\n",
    "    return xs.create_setup(model=model, \n",
    "                           # necessary for xsimlab\n",
    "                           clocks={'clock': [0, 1]},\n",
    "                           input_vars=input_vars,\n",
    "                           output_vars=output_vars)\n",
    "\n",
    "in_ds = phydra_setup(\n",
    "    model=model,\n",
    "    input_vars={\n",
    "        'time__days': ('time', np.arange(0, 10)),\n",
    "        'comp':{'init':1,\n",
    "                'label':'D',\n",
    "                'dim':4}, \n",
    "        'comp2':{'init':2,\n",
    "                'label':'X',\n",
    "                'dim':4}, #the way dims are handled need to be specified in each flux!\n",
    "        \n",
    "        'flux':{'growthrate':0.1,\n",
    "                'c1_label':'D',\n",
    "                'c2_label':'X'}\n",
    "    },\n",
    "    output_vars={}\n",
    "                 )"
   ],
   "metadata": {
    "collapsed": false,
    "pycharm": {
     "name": "#%%\n",
     "is_executing": false
    }
   }
  },
  {
   "cell_type": "code",
   "execution_count": 6,
   "outputs": [
    {
     "name": "stdout",
     "text": [
      "[[0. 0. 0. 0.]]\n",
      "Gekko math dict stores: dict_items([('D', array([[0, 0, 0, 0]], dtype=object))])\n",
      "[[0. 0. 0. 0.]]\n",
      "Gekko math dict stores: dict_items([('D', array([[1, 1, 1, 1]], dtype=object)), ('X', array([[0, 0, 0, 0]], dtype=object))])\n",
      "[[1 1 1 1]]\n",
      "[[2 2 2 2]]\n",
      "[[0.0 0.0 0.0 0.0]]\n",
      "[[0.0 0.0 0.0 0.0]]\n",
      "[[0 0 0 0]]\n",
      "[[0 0 0 0]]\n",
      "step\n",
      "finalize\n",
      "[('D', 4), ('X', 4)]\n",
      "HEEE\n",
      "D 4\n",
      "HEEE\n",
      "X 4\n",
      "_CountingAttr(counter=228, _default=NOTHING, repr=True, eq=True, order=True, hash=None, init=True, metadata={'var_type': <VarType.VARIABLE: 'variable'>, 'dims': (array([0, 1, 2, 3]),), 'intent': <VarIntent.IN: 'in'>, 'groups': (), 'static': False, 'attrs': {}, 'description': '', 'encoding': {}})\n",
      "dims: [array([0, 1, 2, 3]), array([0, 1, 2, 3])]\n",
      "Gekko math dict stores: dict_items([('D', array([[[1.0, 1.1111111111, 1.2345679012, 1.3717421125, 1.5241579028, 1.6935087808, 1.8816764232, 2.0907515813, 2.3230573125, 2.5811747917],\n",
      "        [1.0, 1.1111111111, 1.2345679012, 1.3717421125, 1.5241579028, 1.6935087808, 1.8816764232, 2.0907515813, 2.3230573125, 2.5811747917],\n",
      "        [1.0, 1.1111111111, 1.2345679012, 1.3717421125, 1.5241579028, 1.6935087808, 1.8816764232, 2.0907515813, 2.3230573125, 2.5811747917],\n",
      "        [1.0, 1.1111111111, 1.2345679012, 1.3717421125, 1.5241579028, 1.6935087808, 1.8816764232, 2.0907515813, 2.3230573125, 2.5811747917]]],\n",
      "      dtype=object)), ('X', array([[[2.0, 2.2222222222, 2.4691358025, 2.743484225, 3.0483158055, 3.3870175617, 3.7633528463, 4.1815031626, 4.6461146251, 5.1623495834],\n",
      "        [2.0, 2.2222222222, 2.4691358025, 2.743484225, 3.0483158055, 3.3870175617, 3.7633528463, 4.1815031626, 4.6461146251, 5.1623495834],\n",
      "        [2.0, 2.2222222222, 2.4691358025, 2.743484225, 3.0483158055, 3.3870175617, 3.7633528463, 4.1815031626, 4.6461146251, 5.1623495834],\n",
      "        [2.0, 2.2222222222, 2.4691358025, 2.743484225, 3.0483158055, 3.3870175617, 3.7633528463, 4.1815031626, 4.6461146251, 5.1623495834]]],\n",
      "      dtype=object))])\n",
      "hey\n",
      "[[[1.0, 1.1111111111, 1.2345679012, 1.3717421125, 1.5241579028, 1.6935087808, 1.8816764232, 2.0907515813, 2.3230573125, 2.5811747917]\n",
      "  [1.0, 1.1111111111, 1.2345679012, 1.3717421125, 1.5241579028, 1.6935087808, 1.8816764232, 2.0907515813, 2.3230573125, 2.5811747917]\n",
      "  [1.0, 1.1111111111, 1.2345679012, 1.3717421125, 1.5241579028, 1.6935087808, 1.8816764232, 2.0907515813, 2.3230573125, 2.5811747917]\n",
      "  [1.0, 1.1111111111, 1.2345679012, 1.3717421125, 1.5241579028, 1.6935087808, 1.8816764232, 2.0907515813, 2.3230573125, 2.5811747917]]]\n",
      "hello\n",
      "(1, 4)\n"
     ],
     "output_type": "stream"
    }
   ],
   "source": [
    "with model:\n",
    "    out_ds = in_ds.xsimlab.run()"
   ],
   "metadata": {
    "collapsed": false,
    "pycharm": {
     "name": "#%%\n",
     "is_executing": false
    }
   }
  },
  {
   "cell_type": "code",
   "execution_count": 7,
   "outputs": [
    {
     "data": {
      "text/plain": "<xarray.Dataset>\nDimensions:           (clock: 2, time: 10)\nCoordinates:\n  * clock             (clock) int64 0 1\n  * time              (time) int64 0 1 2 3 4 5 6 7 8 9\nData variables:\n    comp2__dim        int64 4\n    comp2__init       int64 2\n    comp2__label      <U1 'X'\n    comp__dim         int64 4\n    comp__init        int64 1\n    comp__label       <U1 'D'\n    flux__c1_label    <U1 'D'\n    flux__c2_label    <U1 'X'\n    flux__growthrate  float64 0.1\n    grid__length      int64 1\n    grid__shape       int64 1\n    ibcs__ibc         float64 nan\n    time__days        (time) int64 0 1 2 3 4 5 6 7 8 9",
      "text/html": "<div><svg style=\"position: absolute; width: 0; height: 0; overflow: hidden\">\n<defs>\n<symbol id=\"icon-database\" viewBox=\"0 0 32 32\">\n<title>Show/Hide data repr</title>\n<path d=\"M16 0c-8.837 0-16 2.239-16 5v4c0 2.761 7.163 5 16 5s16-2.239 16-5v-4c0-2.761-7.163-5-16-5z\"></path>\n<path d=\"M16 17c-8.837 0-16-2.239-16-5v6c0 2.761 7.163 5 16 5s16-2.239 16-5v-6c0 2.761-7.163 5-16 5z\"></path>\n<path d=\"M16 26c-8.837 0-16-2.239-16-5v6c0 2.761 7.163 5 16 5s16-2.239 16-5v-6c0 2.761-7.163 5-16 5z\"></path>\n</symbol>\n<symbol id=\"icon-file-text2\" viewBox=\"0 0 32 32\">\n<title>Show/Hide attributes</title>\n<path d=\"M28.681 7.159c-0.694-0.947-1.662-2.053-2.724-3.116s-2.169-2.030-3.116-2.724c-1.612-1.182-2.393-1.319-2.841-1.319h-15.5c-1.378 0-2.5 1.121-2.5 2.5v27c0 1.378 1.122 2.5 2.5 2.5h23c1.378 0 2.5-1.122 2.5-2.5v-19.5c0-0.448-0.137-1.23-1.319-2.841zM24.543 5.457c0.959 0.959 1.712 1.825 2.268 2.543h-4.811v-4.811c0.718 0.556 1.584 1.309 2.543 2.268zM28 29.5c0 0.271-0.229 0.5-0.5 0.5h-23c-0.271 0-0.5-0.229-0.5-0.5v-27c0-0.271 0.229-0.5 0.5-0.5 0 0 15.499-0 15.5 0v7c0 0.552 0.448 1 1 1h7v19.5z\"></path>\n<path d=\"M23 26h-14c-0.552 0-1-0.448-1-1s0.448-1 1-1h14c0.552 0 1 0.448 1 1s-0.448 1-1 1z\"></path>\n<path d=\"M23 22h-14c-0.552 0-1-0.448-1-1s0.448-1 1-1h14c0.552 0 1 0.448 1 1s-0.448 1-1 1z\"></path>\n<path d=\"M23 18h-14c-0.552 0-1-0.448-1-1s0.448-1 1-1h14c0.552 0 1 0.448 1 1s-0.448 1-1 1z\"></path>\n</symbol>\n</defs>\n</svg>\n<style>/* CSS stylesheet for displaying xarray objects in jupyterlab.\n *\n */\n\n:root {\n  --xr-font-color0: var(--jp-content-font-color0, rgba(0, 0, 0, 1));\n  --xr-font-color2: var(--jp-content-font-color2, rgba(0, 0, 0, 0.54));\n  --xr-font-color3: var(--jp-content-font-color3, rgba(0, 0, 0, 0.38));\n  --xr-border-color: var(--jp-border-color2, #e0e0e0);\n  --xr-disabled-color: var(--jp-layout-color3, #bdbdbd);\n  --xr-background-color: var(--jp-layout-color0, white);\n  --xr-background-color-row-even: var(--jp-layout-color1, white);\n  --xr-background-color-row-odd: var(--jp-layout-color2, #eeeeee);\n}\n\n.xr-wrap {\n  min-width: 300px;\n  max-width: 700px;\n}\n\n.xr-header {\n  padding-top: 6px;\n  padding-bottom: 6px;\n  margin-bottom: 4px;\n  border-bottom: solid 1px var(--xr-border-color);\n}\n\n.xr-header > div,\n.xr-header > ul {\n  display: inline;\n  margin-top: 0;\n  margin-bottom: 0;\n}\n\n.xr-obj-type,\n.xr-array-name {\n  margin-left: 2px;\n  margin-right: 10px;\n}\n\n.xr-obj-type {\n  color: var(--xr-font-color2);\n}\n\n.xr-sections {\n  padding-left: 0 !important;\n  display: grid;\n  grid-template-columns: 150px auto auto 1fr 20px 20px;\n}\n\n.xr-section-item {\n  display: contents;\n}\n\n.xr-section-item input {\n  display: none;\n}\n\n.xr-section-item input + label {\n  color: var(--xr-disabled-color);\n}\n\n.xr-section-item input:enabled + label {\n  cursor: pointer;\n  color: var(--xr-font-color2);\n}\n\n.xr-section-item input:enabled + label:hover {\n  color: var(--xr-font-color0);\n}\n\n.xr-section-summary {\n  grid-column: 1;\n  color: var(--xr-font-color2);\n  font-weight: 500;\n}\n\n.xr-section-summary > span {\n  display: inline-block;\n  padding-left: 0.5em;\n}\n\n.xr-section-summary-in:disabled + label {\n  color: var(--xr-font-color2);\n}\n\n.xr-section-summary-in + label:before {\n  display: inline-block;\n  content: '►';\n  font-size: 11px;\n  width: 15px;\n  text-align: center;\n}\n\n.xr-section-summary-in:disabled + label:before {\n  color: var(--xr-disabled-color);\n}\n\n.xr-section-summary-in:checked + label:before {\n  content: '▼';\n}\n\n.xr-section-summary-in:checked + label > span {\n  display: none;\n}\n\n.xr-section-summary,\n.xr-section-inline-details {\n  padding-top: 4px;\n  padding-bottom: 4px;\n}\n\n.xr-section-inline-details {\n  grid-column: 2 / -1;\n}\n\n.xr-section-details {\n  display: none;\n  grid-column: 1 / -1;\n  margin-bottom: 5px;\n}\n\n.xr-section-summary-in:checked ~ .xr-section-details {\n  display: contents;\n}\n\n.xr-array-wrap {\n  grid-column: 1 / -1;\n  display: grid;\n  grid-template-columns: 20px auto;\n}\n\n.xr-array-wrap > label {\n  grid-column: 1;\n  vertical-align: top;\n}\n\n.xr-preview {\n  color: var(--xr-font-color3);\n}\n\n.xr-array-preview,\n.xr-array-data {\n  padding: 0 5px !important;\n  grid-column: 2;\n}\n\n.xr-array-data,\n.xr-array-in:checked ~ .xr-array-preview {\n  display: none;\n}\n\n.xr-array-in:checked ~ .xr-array-data,\n.xr-array-preview {\n  display: inline-block;\n}\n\n.xr-dim-list {\n  display: inline-block !important;\n  list-style: none;\n  padding: 0 !important;\n  margin: 0;\n}\n\n.xr-dim-list li {\n  display: inline-block;\n  padding: 0;\n  margin: 0;\n}\n\n.xr-dim-list:before {\n  content: '(';\n}\n\n.xr-dim-list:after {\n  content: ')';\n}\n\n.xr-dim-list li:not(:last-child):after {\n  content: ',';\n  padding-right: 5px;\n}\n\n.xr-has-index {\n  font-weight: bold;\n}\n\n.xr-var-list,\n.xr-var-item {\n  display: contents;\n}\n\n.xr-var-item > div,\n.xr-var-item label,\n.xr-var-item > .xr-var-name span {\n  background-color: var(--xr-background-color-row-even);\n  margin-bottom: 0;\n}\n\n.xr-var-item > .xr-var-name:hover span {\n  padding-right: 5px;\n}\n\n.xr-var-list > li:nth-child(odd) > div,\n.xr-var-list > li:nth-child(odd) > label,\n.xr-var-list > li:nth-child(odd) > .xr-var-name span {\n  background-color: var(--xr-background-color-row-odd);\n}\n\n.xr-var-name {\n  grid-column: 1;\n}\n\n.xr-var-dims {\n  grid-column: 2;\n}\n\n.xr-var-dtype {\n  grid-column: 3;\n  text-align: right;\n  color: var(--xr-font-color2);\n}\n\n.xr-var-preview {\n  grid-column: 4;\n}\n\n.xr-var-name,\n.xr-var-dims,\n.xr-var-dtype,\n.xr-preview,\n.xr-attrs dt {\n  white-space: nowrap;\n  overflow: hidden;\n  text-overflow: ellipsis;\n  padding-right: 10px;\n}\n\n.xr-var-name:hover,\n.xr-var-dims:hover,\n.xr-var-dtype:hover,\n.xr-attrs dt:hover {\n  overflow: visible;\n  width: auto;\n  z-index: 1;\n}\n\n.xr-var-attrs,\n.xr-var-data {\n  display: none;\n  background-color: var(--xr-background-color) !important;\n  padding-bottom: 5px !important;\n}\n\n.xr-var-attrs-in:checked ~ .xr-var-attrs,\n.xr-var-data-in:checked ~ .xr-var-data {\n  display: block;\n}\n\n.xr-var-data > table {\n  float: right;\n}\n\n.xr-var-name span,\n.xr-var-data,\n.xr-attrs {\n  padding-left: 25px !important;\n}\n\n.xr-attrs,\n.xr-var-attrs,\n.xr-var-data {\n  grid-column: 1 / -1;\n}\n\ndl.xr-attrs {\n  padding: 0;\n  margin: 0;\n  display: grid;\n  grid-template-columns: 125px auto;\n}\n\n.xr-attrs dt, dd {\n  padding: 0;\n  margin: 0;\n  float: left;\n  padding-right: 10px;\n  width: auto;\n}\n\n.xr-attrs dt {\n  font-weight: normal;\n  grid-column: 1;\n}\n\n.xr-attrs dt:hover span {\n  display: inline-block;\n  background: var(--xr-background-color);\n  padding-right: 10px;\n}\n\n.xr-attrs dd {\n  grid-column: 2;\n  white-space: pre-wrap;\n  word-break: break-all;\n}\n\n.xr-icon-database,\n.xr-icon-file-text2 {\n  display: inline-block;\n  vertical-align: middle;\n  width: 1em;\n  height: 1.5em !important;\n  stroke-width: 0;\n  stroke: currentColor;\n  fill: currentColor;\n}\n</style><div class='xr-wrap'><div class='xr-header'><div class='xr-obj-type'>xarray.Dataset</div></div><ul class='xr-sections'><li class='xr-section-item'><input id='section-103e7952-3da1-42ce-acfb-6dcc335e965d' class='xr-section-summary-in' type='checkbox' disabled ><label for='section-103e7952-3da1-42ce-acfb-6dcc335e965d' class='xr-section-summary'  title='Expand/collapse section'>Dimensions:</label><div class='xr-section-inline-details'><ul class='xr-dim-list'><li><span class='xr-has-index'>clock</span>: 2</li><li><span class='xr-has-index'>time</span>: 10</li></ul></div><div class='xr-section-details'></div></li><li class='xr-section-item'><input id='section-eea1de18-0862-4225-a05f-fa059f8da12e' class='xr-section-summary-in' type='checkbox'  checked><label for='section-eea1de18-0862-4225-a05f-fa059f8da12e' class='xr-section-summary' >Coordinates: <span>(2)</span></label><div class='xr-section-inline-details'></div><div class='xr-section-details'><ul class='xr-var-list'><li class='xr-var-item'><div class='xr-var-name'><span class='xr-has-index'>clock</span></div><div class='xr-var-dims'>(clock)</div><div class='xr-var-dtype'>int64</div><div class='xr-var-preview xr-preview'>0 1</div><input id='attrs-c96a4b5b-2fdf-4474-8f34-13b454880999' class='xr-var-attrs-in' type='checkbox' ><label for='attrs-c96a4b5b-2fdf-4474-8f34-13b454880999' title='Show/Hide attributes'><svg class='icon xr-icon-file-text2'><use xlink:href='#icon-file-text2'></use></svg></label><input id='data-95031bbd-dd22-49d0-8878-32568b7dea8d' class='xr-var-data-in' type='checkbox'><label for='data-95031bbd-dd22-49d0-8878-32568b7dea8d' title='Show/Hide data repr'><svg class='icon xr-icon-database'><use xlink:href='#icon-database'></use></svg></label><div class='xr-var-attrs'><dl class='xr-attrs'><dt><span>__xsimlab_master_clock__ :</span></dt><dd>1</dd><dt><span>__xsimlab_output_clock__ :</span></dt><dd>1</dd></dl></div><pre class='xr-var-data'>array([0, 1])</pre></li><li class='xr-var-item'><div class='xr-var-name'><span class='xr-has-index'>time</span></div><div class='xr-var-dims'>(time)</div><div class='xr-var-dtype'>int64</div><div class='xr-var-preview xr-preview'>0 1 2 3 4 5 6 7 8 9</div><input id='attrs-2614993a-4701-480a-89ad-4ffcd2f1b546' class='xr-var-attrs-in' type='checkbox' ><label for='attrs-2614993a-4701-480a-89ad-4ffcd2f1b546' title='Show/Hide attributes'><svg class='icon xr-icon-file-text2'><use xlink:href='#icon-file-text2'></use></svg></label><input id='data-010f13ea-39ed-4d50-8e63-b81a38a92b20' class='xr-var-data-in' type='checkbox'><label for='data-010f13ea-39ed-4d50-8e63-b81a38a92b20' title='Show/Hide data repr'><svg class='icon xr-icon-database'><use xlink:href='#icon-database'></use></svg></label><div class='xr-var-attrs'><dl class='xr-attrs'><dt><span>description :</span></dt><dd>time in days</dd><dt><span>_FillValue :</span></dt><dd>0</dd></dl></div><pre class='xr-var-data'>array([0, 1, 2, 3, 4, 5, 6, 7, 8, 9])</pre></li></ul></div></li><li class='xr-section-item'><input id='section-87ea4560-21cc-4d50-b557-6ec2c9033c32' class='xr-section-summary-in' type='checkbox'  checked><label for='section-87ea4560-21cc-4d50-b557-6ec2c9033c32' class='xr-section-summary' >Data variables: <span>(13)</span></label><div class='xr-section-inline-details'></div><div class='xr-section-details'><ul class='xr-var-list'><li class='xr-var-item'><div class='xr-var-name'><span>comp2__dim</span></div><div class='xr-var-dims'>()</div><div class='xr-var-dtype'>int64</div><div class='xr-var-preview xr-preview'>4</div><input id='attrs-8e30a53e-7614-45aa-9bd5-93e3d4c1a1d8' class='xr-var-attrs-in' type='checkbox' disabled><label for='attrs-8e30a53e-7614-45aa-9bd5-93e3d4c1a1d8' title='Show/Hide attributes'><svg class='icon xr-icon-file-text2'><use xlink:href='#icon-file-text2'></use></svg></label><input id='data-35842662-19b9-498d-a83b-c3e84fd26aec' class='xr-var-data-in' type='checkbox'><label for='data-35842662-19b9-498d-a83b-c3e84fd26aec' title='Show/Hide data repr'><svg class='icon xr-icon-database'><use xlink:href='#icon-database'></use></svg></label><div class='xr-var-attrs'><dl class='xr-attrs'></dl></div><pre class='xr-var-data'>array(4)</pre></li><li class='xr-var-item'><div class='xr-var-name'><span>comp2__init</span></div><div class='xr-var-dims'>()</div><div class='xr-var-dtype'>int64</div><div class='xr-var-preview xr-preview'>2</div><input id='attrs-4c9884c1-10bd-4add-a771-ac6745a4127c' class='xr-var-attrs-in' type='checkbox' disabled><label for='attrs-4c9884c1-10bd-4add-a771-ac6745a4127c' title='Show/Hide attributes'><svg class='icon xr-icon-file-text2'><use xlink:href='#icon-file-text2'></use></svg></label><input id='data-d926fcb8-1d76-49e0-8a7d-65e4ccacdf3e' class='xr-var-data-in' type='checkbox'><label for='data-d926fcb8-1d76-49e0-8a7d-65e4ccacdf3e' title='Show/Hide data repr'><svg class='icon xr-icon-database'><use xlink:href='#icon-database'></use></svg></label><div class='xr-var-attrs'><dl class='xr-attrs'></dl></div><pre class='xr-var-data'>array(2)</pre></li><li class='xr-var-item'><div class='xr-var-name'><span>comp2__label</span></div><div class='xr-var-dims'>()</div><div class='xr-var-dtype'>&lt;U1</div><div class='xr-var-preview xr-preview'>&#x27;X&#x27;</div><input id='attrs-cd38dad4-277a-4b48-a912-2cbc5168f6c4' class='xr-var-attrs-in' type='checkbox' disabled><label for='attrs-cd38dad4-277a-4b48-a912-2cbc5168f6c4' title='Show/Hide attributes'><svg class='icon xr-icon-file-text2'><use xlink:href='#icon-file-text2'></use></svg></label><input id='data-309cb7a3-cdb9-449c-b6e9-120f04183893' class='xr-var-data-in' type='checkbox'><label for='data-309cb7a3-cdb9-449c-b6e9-120f04183893' title='Show/Hide data repr'><svg class='icon xr-icon-database'><use xlink:href='#icon-database'></use></svg></label><div class='xr-var-attrs'><dl class='xr-attrs'></dl></div><pre class='xr-var-data'>array(&#x27;X&#x27;, dtype=&#x27;&lt;U1&#x27;)</pre></li><li class='xr-var-item'><div class='xr-var-name'><span>comp__dim</span></div><div class='xr-var-dims'>()</div><div class='xr-var-dtype'>int64</div><div class='xr-var-preview xr-preview'>4</div><input id='attrs-e532680a-3de1-4e96-8fd4-049be26486ac' class='xr-var-attrs-in' type='checkbox' disabled><label for='attrs-e532680a-3de1-4e96-8fd4-049be26486ac' title='Show/Hide attributes'><svg class='icon xr-icon-file-text2'><use xlink:href='#icon-file-text2'></use></svg></label><input id='data-076625e0-525a-43d1-95ae-1f7ad39931eb' class='xr-var-data-in' type='checkbox'><label for='data-076625e0-525a-43d1-95ae-1f7ad39931eb' title='Show/Hide data repr'><svg class='icon xr-icon-database'><use xlink:href='#icon-database'></use></svg></label><div class='xr-var-attrs'><dl class='xr-attrs'></dl></div><pre class='xr-var-data'>array(4)</pre></li><li class='xr-var-item'><div class='xr-var-name'><span>comp__init</span></div><div class='xr-var-dims'>()</div><div class='xr-var-dtype'>int64</div><div class='xr-var-preview xr-preview'>1</div><input id='attrs-6a8daa5e-5348-498e-953c-aa12cd087bc6' class='xr-var-attrs-in' type='checkbox' disabled><label for='attrs-6a8daa5e-5348-498e-953c-aa12cd087bc6' title='Show/Hide attributes'><svg class='icon xr-icon-file-text2'><use xlink:href='#icon-file-text2'></use></svg></label><input id='data-2bfcc346-b90d-49a7-b864-d400c565f9b0' class='xr-var-data-in' type='checkbox'><label for='data-2bfcc346-b90d-49a7-b864-d400c565f9b0' title='Show/Hide data repr'><svg class='icon xr-icon-database'><use xlink:href='#icon-database'></use></svg></label><div class='xr-var-attrs'><dl class='xr-attrs'></dl></div><pre class='xr-var-data'>array(1)</pre></li><li class='xr-var-item'><div class='xr-var-name'><span>comp__label</span></div><div class='xr-var-dims'>()</div><div class='xr-var-dtype'>&lt;U1</div><div class='xr-var-preview xr-preview'>&#x27;D&#x27;</div><input id='attrs-41f3f36d-92f7-47fa-bc6b-426deaf5d300' class='xr-var-attrs-in' type='checkbox' disabled><label for='attrs-41f3f36d-92f7-47fa-bc6b-426deaf5d300' title='Show/Hide attributes'><svg class='icon xr-icon-file-text2'><use xlink:href='#icon-file-text2'></use></svg></label><input id='data-753cae06-a259-4d87-8256-c24448bb2fa1' class='xr-var-data-in' type='checkbox'><label for='data-753cae06-a259-4d87-8256-c24448bb2fa1' title='Show/Hide data repr'><svg class='icon xr-icon-database'><use xlink:href='#icon-database'></use></svg></label><div class='xr-var-attrs'><dl class='xr-attrs'></dl></div><pre class='xr-var-data'>array(&#x27;D&#x27;, dtype=&#x27;&lt;U1&#x27;)</pre></li><li class='xr-var-item'><div class='xr-var-name'><span>flux__c1_label</span></div><div class='xr-var-dims'>()</div><div class='xr-var-dtype'>&lt;U1</div><div class='xr-var-preview xr-preview'>&#x27;D&#x27;</div><input id='attrs-62f3c8b4-5270-44ba-94b9-cb4ff8421153' class='xr-var-attrs-in' type='checkbox' disabled><label for='attrs-62f3c8b4-5270-44ba-94b9-cb4ff8421153' title='Show/Hide attributes'><svg class='icon xr-icon-file-text2'><use xlink:href='#icon-file-text2'></use></svg></label><input id='data-c6fc3672-3973-4be0-be77-ad09930d376c' class='xr-var-data-in' type='checkbox'><label for='data-c6fc3672-3973-4be0-be77-ad09930d376c' title='Show/Hide data repr'><svg class='icon xr-icon-database'><use xlink:href='#icon-database'></use></svg></label><div class='xr-var-attrs'><dl class='xr-attrs'></dl></div><pre class='xr-var-data'>array(&#x27;D&#x27;, dtype=&#x27;&lt;U1&#x27;)</pre></li><li class='xr-var-item'><div class='xr-var-name'><span>flux__c2_label</span></div><div class='xr-var-dims'>()</div><div class='xr-var-dtype'>&lt;U1</div><div class='xr-var-preview xr-preview'>&#x27;X&#x27;</div><input id='attrs-84bc42a5-f77b-4b16-807c-21744b6ae479' class='xr-var-attrs-in' type='checkbox' disabled><label for='attrs-84bc42a5-f77b-4b16-807c-21744b6ae479' title='Show/Hide attributes'><svg class='icon xr-icon-file-text2'><use xlink:href='#icon-file-text2'></use></svg></label><input id='data-38b3fea4-c39b-4dc4-a041-acc7674e4aed' class='xr-var-data-in' type='checkbox'><label for='data-38b3fea4-c39b-4dc4-a041-acc7674e4aed' title='Show/Hide data repr'><svg class='icon xr-icon-database'><use xlink:href='#icon-database'></use></svg></label><div class='xr-var-attrs'><dl class='xr-attrs'></dl></div><pre class='xr-var-data'>array(&#x27;X&#x27;, dtype=&#x27;&lt;U1&#x27;)</pre></li><li class='xr-var-item'><div class='xr-var-name'><span>flux__growthrate</span></div><div class='xr-var-dims'>()</div><div class='xr-var-dtype'>float64</div><div class='xr-var-preview xr-preview'>0.1</div><input id='attrs-90435ff0-e6b0-44cf-8ea5-e8358478e649' class='xr-var-attrs-in' type='checkbox' ><label for='attrs-90435ff0-e6b0-44cf-8ea5-e8358478e649' title='Show/Hide attributes'><svg class='icon xr-icon-file-text2'><use xlink:href='#icon-file-text2'></use></svg></label><input id='data-98b0b9fb-75f8-4c7e-a3a3-f572cef689a8' class='xr-var-data-in' type='checkbox'><label for='data-98b0b9fb-75f8-4c7e-a3a3-f572cef689a8' title='Show/Hide data repr'><svg class='icon xr-icon-database'><use xlink:href='#icon-database'></use></svg></label><div class='xr-var-attrs'><dl class='xr-attrs'><dt><span>_FillValue :</span></dt><dd>nan</dd></dl></div><pre class='xr-var-data'>array(0.1)</pre></li><li class='xr-var-item'><div class='xr-var-name'><span>grid__length</span></div><div class='xr-var-dims'>()</div><div class='xr-var-dtype'>int64</div><div class='xr-var-preview xr-preview'>1</div><input id='attrs-c87c3732-8beb-42b8-b576-bfea4d1c3608' class='xr-var-attrs-in' type='checkbox' disabled><label for='attrs-c87c3732-8beb-42b8-b576-bfea4d1c3608' title='Show/Hide attributes'><svg class='icon xr-icon-file-text2'><use xlink:href='#icon-file-text2'></use></svg></label><input id='data-282f1392-54ac-4e11-843c-6f8b197f296d' class='xr-var-data-in' type='checkbox'><label for='data-282f1392-54ac-4e11-843c-6f8b197f296d' title='Show/Hide data repr'><svg class='icon xr-icon-database'><use xlink:href='#icon-database'></use></svg></label><div class='xr-var-attrs'><dl class='xr-attrs'></dl></div><pre class='xr-var-data'>array(1)</pre></li><li class='xr-var-item'><div class='xr-var-name'><span>grid__shape</span></div><div class='xr-var-dims'>()</div><div class='xr-var-dtype'>int64</div><div class='xr-var-preview xr-preview'>1</div><input id='attrs-295f46a1-0da5-4a77-bb60-94674cef033f' class='xr-var-attrs-in' type='checkbox' disabled><label for='attrs-295f46a1-0da5-4a77-bb60-94674cef033f' title='Show/Hide attributes'><svg class='icon xr-icon-file-text2'><use xlink:href='#icon-file-text2'></use></svg></label><input id='data-ea9bcf6a-216a-4e65-956b-55b74ca680db' class='xr-var-data-in' type='checkbox'><label for='data-ea9bcf6a-216a-4e65-956b-55b74ca680db' title='Show/Hide data repr'><svg class='icon xr-icon-database'><use xlink:href='#icon-database'></use></svg></label><div class='xr-var-attrs'><dl class='xr-attrs'></dl></div><pre class='xr-var-data'>array(1)</pre></li><li class='xr-var-item'><div class='xr-var-name'><span>ibcs__ibc</span></div><div class='xr-var-dims'>()</div><div class='xr-var-dtype'>float64</div><div class='xr-var-preview xr-preview'>nan</div><input id='attrs-03ab6b07-6933-4043-8b1c-6792b040f45b' class='xr-var-attrs-in' type='checkbox' ><label for='attrs-03ab6b07-6933-4043-8b1c-6792b040f45b' title='Show/Hide attributes'><svg class='icon xr-icon-file-text2'><use xlink:href='#icon-file-text2'></use></svg></label><input id='data-af2af033-6110-4608-b922-91164a356cd0' class='xr-var-data-in' type='checkbox'><label for='data-af2af033-6110-4608-b922-91164a356cd0' title='Show/Hide data repr'><svg class='icon xr-icon-database'><use xlink:href='#icon-database'></use></svg></label><div class='xr-var-attrs'><dl class='xr-attrs'><dt><span>description :</span></dt><dd>Initial Boundary Conditions</dd></dl></div><pre class='xr-var-data'>array(nan)</pre></li><li class='xr-var-item'><div class='xr-var-name'><span>time__days</span></div><div class='xr-var-dims'>(time)</div><div class='xr-var-dtype'>int64</div><div class='xr-var-preview xr-preview'>0 1 2 3 4 5 6 7 8 9</div><input id='attrs-b9667269-137f-436d-b2f5-65edf7972856' class='xr-var-attrs-in' type='checkbox' ><label for='attrs-b9667269-137f-436d-b2f5-65edf7972856' title='Show/Hide attributes'><svg class='icon xr-icon-file-text2'><use xlink:href='#icon-file-text2'></use></svg></label><input id='data-a7941591-49cf-40d9-95d9-9ff511f77bb7' class='xr-var-data-in' type='checkbox'><label for='data-a7941591-49cf-40d9-95d9-9ff511f77bb7' title='Show/Hide data repr'><svg class='icon xr-icon-database'><use xlink:href='#icon-database'></use></svg></label><div class='xr-var-attrs'><dl class='xr-attrs'><dt><span>description :</span></dt><dd>time in days</dd></dl></div><pre class='xr-var-data'>array([0, 1, 2, 3, 4, 5, 6, 7, 8, 9])</pre></li></ul></div></li><li class='xr-section-item'><input id='section-58a347e9-6901-438f-ad0c-5f23edfbe4c9' class='xr-section-summary-in' type='checkbox' disabled ><label for='section-58a347e9-6901-438f-ad0c-5f23edfbe4c9' class='xr-section-summary'  title='Expand/collapse section'>Attributes: <span>(0)</span></label><div class='xr-section-inline-details'></div><div class='xr-section-details'><dl class='xr-attrs'></dl></div></li></ul></div></div>"
     },
     "metadata": {},
     "output_type": "execute_result",
     "execution_count": 7
    }
   ],
   "source": [
    "out_ds\n",
    "\n"
   ],
   "metadata": {
    "collapsed": false,
    "pycharm": {
     "name": "#%%\n",
     "is_executing": false
    }
   }
  }
 ],
 "metadata": {
  "kernelspec": {
   "display_name": "Python 3",
   "language": "python",
   "name": "python3"
  },
  "language_info": {
   "codemirror_mode": {
    "name": "ipython",
    "version": 3
   },
   "file_extension": ".py",
   "mimetype": "text/x-python",
   "name": "python",
   "nbconvert_exporter": "python",
   "pygments_lexer": "ipython3",
   "version": "3.8.3"
  },
  "pycharm": {
   "stem_cell": {
    "cell_type": "raw",
    "source": [],
    "metadata": {
     "collapsed": false
    }
   }
  }
 },
 "nbformat": 4,
 "nbformat_minor": 4
}