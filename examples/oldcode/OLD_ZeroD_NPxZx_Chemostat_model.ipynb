{
 "cells": [
  {
   "cell_type": "markdown",
   "metadata": {},
   "source": [
    "# NPxZxD chemostat model\n",
    "\n",
    "For the second model example I will need..."
   ]
  },
  {
   "cell_type": "raw",
   "metadata": {},
   "source": [
    "N = Influx(N0-N) + LeakyGrazing(P,D) - Growth(P) - Outflux(N)\n",
    "P = Growth(P) - Mortality(P) - Grazing(P) - Ouflux(P)\n",
    "Z = Grazing(P,D) - QuadMort(Z) - Outflux(Z)\n",
    "\n",
    "Influx, Outflux\n",
    "\n",
    "Growth\n",
    "\n",
    "Grazing (1 ressource, 3 way split)\n",
    "\n",
    "Mortality, QuadMortality"
   ]
  },
  {
   "cell_type": "code",
   "execution_count": 14,
   "metadata": {},
   "outputs": [],
   "source": [
    "import xsimlab as xs\n",
    "import numpy as np"
   ]
  },
  {
   "cell_type": "code",
   "execution_count": 15,
   "metadata": {},
   "outputs": [],
   "source": [
    "import os,sys,inspect\n",
    "sys.path.insert(1, os.path.join(sys.path[0], '..'))\n",
    "\n",
    "import phydra"
   ]
  },
  {
   "cell_type": "code",
   "execution_count": 16,
   "metadata": {},
   "outputs": [],
   "source": [
    "from phydra.utility.xsimlabwrappers import phydra_setup"
   ]
  },
  {
   "cell_type": "code",
   "execution_count": 17,
   "metadata": {},
   "outputs": [],
   "source": [
    "from phydra.processes.main import GekkoCore, GekkoSequentialSolve, Time\n",
    "\n",
    "from phydra.processes.statevars import StateVariable, FunctionalGroup\n",
    "\n",
    "from phydra.processes.fluxes import GrowthMultiFlux, InFlux\n",
    "\n",
    "from phydra.processes.forcings import Forcing\n",
    "\n",
    "from phydra.processes.paramsetup import GrowthParameterSetup"
   ]
  },
  {
   "cell_type": "code",
   "execution_count": 18,
   "metadata": {},
   "outputs": [],
   "source": [
    "from phydra.processes.forcings import Forcing"
   ]
  },
  {
   "cell_type": "code",
   "execution_count": 19,
   "metadata": {},
   "outputs": [
    {
     "name": "stdout",
     "output_type": "stream",
     "text": [
      "xarray-simlab version:  0.4.1\n",
      "phydra version:  0+untagged.90.gac4da8f.dirty\n"
     ]
    }
   ],
   "source": [
    "print('xarray-simlab version: ', xs.__version__)\n",
    "print('phydra version: ', phydra.__version__)"
   ]
  },
  {
   "cell_type": "code",
   "execution_count": 20,
   "metadata": {},
   "outputs": [
    {
     "data": {
      "text/plain": [
       "<xsimlab.Model (9 processes, 14 inputs)>\n",
       "core\n",
       "solver\n",
       "time\n",
       "    days               [in] ('time',) time in days\n",
       "N\n",
       "    initVal            [in] initial value of component\n",
       "P\n",
       "    initVal         [inout] initial value of component\n",
       "    num                [in] number of state variables within group\n",
       "halfsat_param\n",
       "    num                [in]\n",
       "    spacing            [in]\n",
       "    maxvalue           [in] minimum value of halfsat parameter\n",
       "    minvalue           [in] minimum value of halfsat parameter\n",
       "growth\n",
       "    resource_label     [in]\n",
       "    consumer_label     [in]\n",
       "N0\n",
       "    initVal            [in]\n",
       "N_influx\n",
       "    SV_label           [in]\n",
       "    forcing_label      [in]\n",
       "    flowrate           [in] half saturation constant"
      ]
     },
     "execution_count": 20,
     "metadata": {},
     "output_type": "execute_result"
    }
   ],
   "source": [
    "MODEL = xs.Model({\n",
    "                  'core':GekkoCore, \n",
    "                  'solver':GekkoSequentialSolve, \n",
    "              \n",
    "                  'time':Time, \n",
    "              \n",
    "                  'N':StateVariable, \n",
    "                  'P':FunctionalGroup.setup('P'), # same label needs to be supplied for now (todo)\n",
    "                  \n",
    "                  'growth':GrowthMultiFlux,\n",
    "                  \n",
    "                  'N0':Forcing,\n",
    "                  \n",
    "                  'N_influx':InFlux,\n",
    "                  \n",
    "                  'halfsat_param':GrowthParameterSetup\n",
    "                 })\n",
    "\n",
    "MODEL"
   ]
  },
  {
   "cell_type": "code",
   "execution_count": 21,
   "metadata": {},
   "outputs": [],
   "source": [
    "in_ds = xs.create_setup(model=MODEL,\n",
    "                        clocks={'clock': [0,1]},\n",
    "                        input_vars={\n",
    "                            'time__days': ('time', np.arange(0, 10, .1)),\n",
    "                            \n",
    "                            'N':{'initVal':1},\n",
    "\n",
    "                            'P':{'num':5,\n",
    "                                'initVal':.01},\n",
    "                            \n",
    "                            'growth':{'resource_label':'N',\n",
    "                                      'consumer_label':'P'},\n",
    "                            'halfsat_param':{'num':5,\n",
    "                                             'minvalue':0.9,\n",
    "                                             'maxvalue':1,\n",
    "                                             'spacing':'log'},\n",
    "                            \n",
    "                            'N_influx':{'flowrate':0.5,\n",
    "                                        'forcing_label':'N0',\n",
    "                                        'SV_label':'N'},\n",
    "                            \n",
    "                            'N0':{'initVal':1}\n",
    "                        \n",
    "                        },\n",
    "                        output_vars={\n",
    "                            'N__value':None,\n",
    "                            'P__value':None,\n",
    "                            'growth__value':None\n",
    "                        \n",
    "                        })"
   ]
  },
  {
   "cell_type": "code",
   "execution_count": 22,
   "metadata": {},
   "outputs": [
    {
     "name": "stdout",
     "output_type": "stream",
     "text": [
      "initializing model core\n",
      "Initializing Model Time\n",
      "state variable N is initialized\n",
      "functional group P is initialized with size 5\n",
      "flux growth of P consuming N is initialized\n",
      "XX\n",
      "<class 'numpy.ndarray'> <class 'numpy.ndarray'> <class 'numpy.ndarray'>\n",
      "FLUX [((((n)/((halfsat_param_0+n))))*(p_0))\n",
      " ((((n)/((halfsat_param_1+n))))*(p_1))\n",
      " ((((n)/((halfsat_param_2+n))))*(p_2))\n",
      " ((((n)/((halfsat_param_3+n))))*(p_3))\n",
      " ((((n)/((halfsat_param_4+n))))*(p_4))] 5\n",
      "VALUE fg [0, 0, 0, 0, 0]\n",
      "forcing N0 is initialized\n",
      "flux N_influx of N0 flowing to N is initialized\n",
      "assembling Equations\n",
      "defaultdict(<class 'list'>, {'N': [(-(((((0+((((n)/((halfsat_param_0+n))))*(p_0)))+((((n)/((halfsat_param_1+n))))*(p_1)))+((((n)/((halfsat_param_2+n))))*(p_2)))+((((n)/((halfsat_param_3+n))))*(p_3)))+((((n)/((halfsat_param_4+n))))*(p_4)))), ((0.5)*(n0))], 'P': [array([((((n)/((halfsat_param_0+n))))*(p_0)),\n",
      "       ((((n)/((halfsat_param_1+n))))*(p_1)),\n",
      "       ((((n)/((halfsat_param_2+n))))*(p_2)),\n",
      "       ((((n)/((halfsat_param_3+n))))*(p_3)),\n",
      "       ((((n)/((halfsat_param_4+n))))*(p_4))], dtype=object)]})\n",
      "assembling Equations for P\n",
      "defaultdict(<class 'list'>, {'N': [(-(((((0+((((n)/((halfsat_param_0+n))))*(p_0)))+((((n)/((halfsat_param_1+n))))*(p_1)))+((((n)/((halfsat_param_2+n))))*(p_2)))+((((n)/((halfsat_param_3+n))))*(p_3)))+((((n)/((halfsat_param_4+n))))*(p_4)))), ((0.5)*(n0))], 'P': [array([((((n)/((halfsat_param_0+n))))*(p_0)),\n",
      "       ((((n)/((halfsat_param_1+n))))*(p_1)),\n",
      "       ((((n)/((halfsat_param_2+n))))*(p_2)),\n",
      "       ((((n)/((halfsat_param_3+n))))*(p_3)),\n",
      "       ((((n)/((halfsat_param_4+n))))*(p_4))], dtype=object)]})\n",
      "['time', 'n', 'p_0', 'p_1', 'p_2', 'p_3', 'p_4']\n",
      "Running solver now\n",
      "Model was solved in 0.93 seconds\n",
      "finalizing gekko core: cleanup\n"
     ]
    }
   ],
   "source": [
    "with MODEL:\n",
    "    out_ds = in_ds.xsimlab.run()"
   ]
  },
  {
   "cell_type": "code",
   "execution_count": 23,
   "metadata": {},
   "outputs": [
    {
     "name": "stdout",
     "output_type": "stream",
     "text": [
      "<xarray.Dataset>\n",
      "Dimensions:                  (AS62KJ: 5, P: 5, clock: 2, time: 100)\n",
      "Coordinates:\n",
      "  * P                        (P) <U3 'P-0' 'P-1' 'P-2' 'P-3' 'P-4'\n",
      "  * clock                    (clock) int64 0 1\n",
      "  * time                     (time) float64 0.0 0.1 0.2 0.3 ... 9.6 9.7 9.8 9.9\n",
      "Dimensions without coordinates: AS62KJ\n",
      "Data variables:\n",
      "    N0__initVal              int64 1\n",
      "    N__initVal               int64 1\n",
      "    N__value                 (time) float64 1.0 1.047 1.094 ... 0.08994 0.08906\n",
      "    N_influx__SV_label       <U1 'N'\n",
      "    N_influx__flowrate       float64 0.5\n",
      "    N_influx__forcing_label  <U2 'N0'\n",
      "    P__initVal               float64 0.01\n",
      "    P__num                   int64 5\n",
      "    P__value                 (P, time) float64 0.01 0.01055 ... 1.06 1.069\n",
      "    growth__consumer_label   <U1 'P'\n",
      "    growth__resource_label   <U1 'N'\n",
      "    growth__value            (AS62KJ, time) float64 0.005263 ... 0.08741\n",
      "    halfsat_param__maxvalue  int64 1\n",
      "    halfsat_param__minvalue  float64 0.9\n",
      "    halfsat_param__num       int64 5\n",
      "    halfsat_param__spacing   <U3 'log'\n",
      "    time__days               (time) float64 0.0 0.1 0.2 0.3 ... 9.6 9.7 9.8 9.9\n"
     ]
    }
   ],
   "source": [
    "print(out_ds)"
   ]
  },
  {
   "cell_type": "code",
   "execution_count": 24,
   "metadata": {},
   "outputs": [
    {
     "data": {
      "text/plain": [
       "[<matplotlib.lines.Line2D at 0x120f98f10>,\n",
       " <matplotlib.lines.Line2D at 0x120fb0070>,\n",
       " <matplotlib.lines.Line2D at 0x120fb0130>,\n",
       " <matplotlib.lines.Line2D at 0x120fb0220>,\n",
       " <matplotlib.lines.Line2D at 0x120fb02e0>]"
      ]
     },
     "execution_count": 24,
     "metadata": {},
     "output_type": "execute_result"
    },
    {
     "data": {
      "image/png": "[encoded data removed]",
      "text/plain": [
       "<Figure size 432x288 with 1 Axes>"
      ]
     },
     "metadata": {
      "needs_background": "light"
     },
     "output_type": "display_data"
    }
   ],
   "source": [
    "out_ds.P__value.plot.line(x='time')"
   ]
  },
  {
   "cell_type": "code",
   "execution_count": 25,
   "metadata": {},
   "outputs": [
    {
     "data": {
      "text/plain": [
       "[<matplotlib.lines.Line2D at 0x120f88550>]"
      ]
     },
     "execution_count": 25,
     "metadata": {},
     "output_type": "execute_result"
    },
    {
     "data": {
      "image/png": "[encoded data removed]",
      "text/plain": [
       "<Figure size 432x288 with 1 Axes>"
      ]
     },
     "metadata": {
      "needs_background": "light"
     },
     "output_type": "display_data"
    }
   ],
   "source": [
    "out_ds.N__value.plot.line(x='time')"
   ]
  },
  {
   "cell_type": "code",
   "execution_count": null,
   "metadata": {},
   "outputs": [],
   "source": []
  },
  {
   "cell_type": "code",
   "execution_count": null,
   "metadata": {},
   "outputs": [],
   "source": []
  },
  {
   "cell_type": "code",
   "execution_count": null,
   "metadata": {},
   "outputs": [],
   "source": []
  },
  {
   "cell_type": "code",
   "execution_count": 1,
   "metadata": {},
   "outputs": [],
   "source": [
    "############################"
   ]
  },
  {
   "cell_type": "markdown",
   "metadata": {},
   "source": [
    "## OLD CODE"
   ]
  },
  {
   "cell_type": "code",
   "execution_count": null,
   "metadata": {},
   "outputs": [],
   "source": [
    "import numpy as np\n",
    "import xsimlab as xs"
   ]
  },
  {
   "cell_type": "code",
   "execution_count": null,
   "metadata": {},
   "outputs": [],
   "source": [
    "import os,sys,inspect\n",
    "sys.path.insert(1, os.path.join(sys.path[0], '..'))\n",
    "\n",
    "import phydra as phydra"
   ]
  },
  {
   "cell_type": "code",
   "execution_count": null,
   "metadata": {},
   "outputs": [],
   "source": [
    "from phydra.utility.xsimlabwrappers import phydra_setup"
   ]
  },
  {
   "cell_type": "code",
   "execution_count": null,
   "metadata": {},
   "outputs": [],
   "source": [
    "from phydra.processes.main import Grid0D, Boundary0D\n",
    "from phydra.processes.components import Component, SizeComponent, Time, make_Component\n",
    "from phydra.processes.environments import Chemostat\n",
    "from phydra.processes.fluxes import (SizeAllo_LimitedGrowth_Monod, HollingTypeIII, SizeBasedKernelGrazing,\n",
    "                                     make_flux, make_multigrazing)\n",
    "from phydra.processes.forcingfluxes import (SizeAllo_LinearMortalityClosure, QuadraticMortalityClosure, N0_inflow, Outflow, make_FX_flux)\n",
    "from phydra.processes.forcing import (ConstantN0, ConstantFlow)\n",
    "from phydra.processes.gekkocontext import GekkoContext, GekkoSolve, InheritGekkoContext"
   ]
  },
  {
   "cell_type": "code",
   "execution_count": 5,
   "metadata": {},
   "outputs": [],
   "source": [
    "from phydra.processes.forcing import NutrientForcing, MLDForcing"
   ]
  },
  {
   "cell_type": "code",
   "execution_count": 6,
   "metadata": {},
   "outputs": [
    {
     "name": "stdout",
     "output_type": "stream",
     "text": [
      "xarray-simlab version:  0.4.1\n",
      "phydra version:  0+untagged.82.g7e99bc8.dirty\n"
     ]
    }
   ],
   "source": [
    "print('xarray-simlab version: ', xs.__version__)\n",
    "print('phydra version: ', phydra.__version__)"
   ]
  },
  {
   "cell_type": "code",
   "execution_count": 7,
   "metadata": {},
   "outputs": [
    {
     "data": {
      "text/plain": [
       "<xsimlab.Model (17 processes, 30 inputs)>\n",
       "context\n",
       "time\n",
       "    days               [in] ('time',) time in days\n",
       "grid\n",
       "    length             [in]\n",
       "    shape              [in]\n",
       "ibcs\n",
       "    ibc                [in] Initial Boundary Conditions\n",
       "N\n",
       "    dim                [in]\n",
       "    init               [in]\n",
       "P\n",
       "    size_max           [in]\n",
       "    size_min           [in]\n",
       "    init               [in]\n",
       "    dim                [in]\n",
       "Z\n",
       "    size_max           [in]\n",
       "    size_min           [in]\n",
       "    init               [in]\n",
       "    dim                [in]\n",
       "LinMortality\n",
       "    mortality_rate     [in] mortality rate of component\n",
       "    C_labels           [in] l label of component(s) that grows\n",
       "N0\n",
       "    value              [in] value of the constant forcing\n",
       "Flow\n",
       "    value              [in] value of the constant forcing\n",
       "Outflux\n",
       "    C_labels           [in] o label of component(s) that grows\n",
       "P_Growth\n",
       "    C_label            [in] label of component that grows\n",
       "    R_label            [in] label of ressource component that is co...\n",
       "QuadMortality\n",
       "    mortality_rate     [in] mortality rate of component\n",
       "    C_labels           [in] z label of component(s) that grows\n",
       "Grazing\n",
       "    R_label            [in] labels of components that is grazed upon\n",
       "    C_label            [in] label of component that grazes\n",
       "    KsZ                [in] razing half saturation constant\n",
       "    f_eg               [in]\n",
       "    epsilon            [in]\n",
       "    deltaxprey         [in] log10 prey size tolerance\n",
       "N0_influx\n",
       "    C_labels           [in] w label of component(s) that grows\n",
       "Env\n",
       "solver"
      ]
     },
     "execution_count": 7,
     "metadata": {},
     "output_type": "execute_result"
    }
   ],
   "source": [
    "model = xs.Model({\n",
    "    'time':Time, 'grid':Grid0D, 'ibcs':Boundary0D, \n",
    "    \n",
    "    'context':GekkoContext,\n",
    "                  \n",
    "    'N':make_Component('Nutrient','N', comp_type=Component), \n",
    "    'P':make_Component('Phytoplankton','P', comp_type=SizeComponent),\n",
    "    'Z':make_Component('Zooplankton','Z', comp_type=SizeComponent), \n",
    "    \n",
    "    'Env':Chemostat, \n",
    "    \n",
    "    # Fluxes\n",
    "    'P_Growth':make_flux(SizeAllo_LimitedGrowth_Monod, 'G'), \n",
    "     \n",
    "    'LinMortality':make_FX_flux(SizeAllo_LinearMortalityClosure, 'L'),\n",
    "    \n",
    "    'Grazing':make_multigrazing(SizeBasedKernelGrazing, 'X'), \n",
    "    \n",
    "    # Closure (i.e. output from system)\n",
    "    'QuadMortality':make_FX_flux(QuadraticMortalityClosure, 'Z'),\n",
    "    \n",
    "    # ForcingFluxes\n",
    "    'N0_influx':make_FX_flux(N0_inflow, 'W'),\n",
    "    'Outflux':make_FX_flux(Outflow, 'O'),\n",
    "    \n",
    "    'N0':ConstantN0,\n",
    "    'Flow':ConstantFlow,\n",
    "    \n",
    "    'solver':GekkoSolve\n",
    "})\n",
    "\n",
    "model"
   ]
  },
  {
   "cell_type": "code",
   "execution_count": 8,
   "metadata": {},
   "outputs": [
    {
     "data": {
      "text/plain": [
       "[('time', 'time'),\n",
       " ('N', 'N'),\n",
       " ('P', 'P'),\n",
       " ('Z', 'Z'),\n",
       " ('Env', 'components'),\n",
       " ('Env', 'fluxes'),\n",
       " ('Env', 'forcingfluxes'),\n",
       " ('Env', 'forcings'),\n",
       " ('P_Growth', 'G'),\n",
       " ('LinMortality', 'L'),\n",
       " ('Grazing', 'X'),\n",
       " ('QuadMortality', 'Z'),\n",
       " ('N0_influx', 'W'),\n",
       " ('Outflux', 'O')]"
      ]
     },
     "execution_count": 8,
     "metadata": {},
     "output_type": "execute_result"
    }
   ],
   "source": [
    "model.index_vars \n"
   ]
  },
  {
   "cell_type": "code",
   "execution_count": 9,
   "metadata": {
    "collapsed": false,
    "jupyter": {
     "outputs_hidden": false
    },
    "pycharm": {
     "is_executing": false,
     "name": "#%%\n"
    }
   },
   "outputs": [],
   "source": [
    "in_ds = phydra_setup(\n",
    "    model=model,\n",
    "    input_vars={\n",
    "        'time__days': ('time', np.arange(0, 365, 0.1)), #365*\n",
    "        \n",
    "        'N':{'dim':1,'init':2}, \n",
    "        'P':{'dim':40,'init':0.1, 'size_min':1,'size_max':50},\n",
    "        'Z':{'dim':40,'init':0.1, 'size_min':2.16,'size_max':460.5719},\n",
    "        \n",
    "        'P_Growth':{\n",
    "               'R_label':'N',\n",
    "               'C_label':'P'},\n",
    "        \n",
    "        'Grazing':{\n",
    "               'R_label':'P',\n",
    "               'C_label':'Z'},\n",
    "        \n",
    "                \n",
    "        'LinMortality':{'mortality_rate':0.1,\n",
    "               'C_labels':['P']},\n",
    "        \n",
    "        'QuadMortality':{'mortality_rate':0.1,\n",
    "               'C_labels':['Z']},\n",
    "        \n",
    "        'N0_influx__C_labels':['N'],\n",
    "        'Outflux__C_labels':['N','P','Z'],\n",
    "        \n",
    "        'Flow__value':.1,\n",
    "        'N0__value':10,\n",
    "\n",
    "    },\n",
    "    output_vars={\n",
    "        'Env__comp_output':None,\n",
    "        'Env__flux_output':None,\n",
    "        'Env__fxflux_output':None,\n",
    "        'Env__forcing_output':None\n",
    "    }\n",
    "                 )"
   ]
  },
  {
   "cell_type": "code",
   "execution_count": 10,
   "metadata": {
    "collapsed": false,
    "jupyter": {
     "outputs_hidden": false
    },
    "pycharm": {
     "is_executing": false,
     "name": "#%%\n"
    }
   },
   "outputs": [
    {
     "name": "stdout",
     "output_type": "stream",
     "text": [
      "Initializing Gekko Context\n",
      "Initializing Model Time\n",
      "dimensions of component N are initialized at 1\n",
      "Initializing component  N ['N']\n",
      "dimensions of component P are initialized at 40\n",
      "Initializing component  P ['P-0', 'P-1', 'P-2', 'P-3', 'P-4', 'P-5', 'P-6', 'P-7', 'P-8', 'P-9', 'P-10', 'P-11', 'P-12', 'P-13', 'P-14', 'P-15', 'P-16', 'P-17', 'P-18', 'P-19', 'P-20', 'P-21', 'P-22', 'P-23', 'P-24', 'P-25', 'P-26', 'P-27', 'P-28', 'P-29', 'P-30', 'P-31', 'P-32', 'P-33', 'P-34', 'P-35', 'P-36', 'P-37', 'P-38', 'P-39']\n",
      "setup_dims (1, 40) P Size\n",
      "[[ 1.          1.10551168  1.22215606  1.3511078   1.49366544  1.65126459\n",
      "   1.82549228  2.01810303  2.23103646  2.46643685  2.72667474  3.01437076\n",
      "   3.33242206  3.6840315   4.07273983  4.50246144  4.97752368  5.50271055\n",
      "   6.08331075  6.72517106  7.43475512  8.21920859  9.08643106 10.04515562\n",
      "  11.10503682 12.27674785 13.57208808 15.00410183 16.58720975 18.33735404\n",
      "  20.27215898 22.41110843 24.77574202 27.38987206 30.27982334 33.47469823\n",
      "  37.00666971 40.91130542 45.22792579 50.        ]]\n",
      "Size Range Initialized for P with sizes [[1.0 1.105511675109074 1.222156063802471 1.3511077973389822\n",
      "  1.4936654442891497 1.6512645873686373 1.8254922800301965\n",
      "  2.0181030283948656 2.231036459463503 2.466436853530915\n",
      "  2.726674737497716 3.014370756528695 3.332422064449845\n",
      "  3.6840314986403864 4.072739833216527 4.502461435302653\n",
      "  4.977523683455443 5.502710545191916 6.08331075245548 6.725171060156101\n",
      "  7.434755124108238 8.219208591278672 9.086431057815377\n",
      "  10.045155619488595 11.105036815632166 12.276747852197456\n",
      "  13.572088082974531 15.00410183133708 16.58720974906858\n",
      "  18.337354035078377 20.272158976387626 22.41110842806374\n",
      "  24.77574201935984 27.38987206189277 30.279823344166314\n",
      "  33.47469822721613 37.006669710940464 40.91130542235003\n",
      "  45.22792578836114 49.99999999999999]]\n",
      "dimensions of component Z are initialized at 40\n",
      "Initializing component  Z ['Z-0', 'Z-1', 'Z-2', 'Z-3', 'Z-4', 'Z-5', 'Z-6', 'Z-7', 'Z-8', 'Z-9', 'Z-10', 'Z-11', 'Z-12', 'Z-13', 'Z-14', 'Z-15', 'Z-16', 'Z-17', 'Z-18', 'Z-19', 'Z-20', 'Z-21', 'Z-22', 'Z-23', 'Z-24', 'Z-25', 'Z-26', 'Z-27', 'Z-28', 'Z-29', 'Z-30', 'Z-31', 'Z-32', 'Z-33', 'Z-34', 'Z-35', 'Z-36', 'Z-37', 'Z-38', 'Z-39']\n",
      "setup_dims (1, 40) Z Size\n",
      "[[  2.16         2.47837884   2.84368595   3.26283846   3.74377305\n",
      "    4.29559625   4.92875687   5.65524385   6.48881327   7.44524883\n",
      "    8.54266071   9.80182848  11.24659457  12.90431572  14.806381\n",
      "   16.98880617  19.49291558  22.36612474  25.66283806  29.44547904\n",
      "   33.78567225  38.76559957  44.47955627  51.03573653  58.55828209\n",
      "   67.18963288  77.09322414  88.45658108 101.49486966 116.45497081\n",
      "  133.6201551  153.31544653 175.91377682 201.84304698 231.59422957\n",
      "  265.73066535 304.89873015 349.84007407 401.40566465 460.5719    ]]\n",
      "Size Range Initialized for Z with sizes [[2.16 2.4783788362102173 2.8436859517475512 3.262838462796037\n",
      "  3.7437730519288785 4.295596249756791 4.92875686773204 5.655243847135579\n",
      "  6.4888132705318835 7.445248834169549 8.54266071339102 9.801828480089249\n",
      "  11.246594565377668 12.90431571771706 14.806381004891122\n",
      "  16.98880616823478 19.492915583254945 22.36612473961639\n",
      "  25.662838056806955 29.445479035685416 33.785672251904806\n",
      "  38.76559957234057 44.47955627457811 51.03573653469249 58.55828209165854\n",
      "  67.18963287999736 77.09322414005538 88.4565810758907 101.49486965833357\n",
      "  116.4549708079299 133.6201551027094 153.3154465267044\n",
      "  175.91377682217745 201.84304697865383 231.59422956855582\n",
      "  265.73066534774 304.89873015273105 349.8400740731014 401.4056646486064\n",
      "  460.5719000000002]]\n",
      "forcing flux LinMortality is initialized at ['P']\n",
      "INITIALIZING ALLO LIN MORT\n",
      "setup_dims (1, 40) P mu0_Growth\n",
      "Initializing forcing flux LinMortality for components ['P']\n",
      "ForcingBase is initialized: N0\n",
      "ForcingBase is initialized: Flow\n",
      "forcing flux Outflux is initialized at ['N' 'P' 'Z']\n",
      "Initializing forcing flux Outflux for components ['N' 'P' 'Z']\n",
      "flux P_Growth is initialized for N --> P\n",
      "setup_dims (1, 40) P ks_Growth\n",
      "setup_dims (1, 40) P mu0_Growth\n",
      "Initializing flux: P_Growth-N2P\n",
      "forcing flux QuadMortality is initialized at ['Z']\n",
      "Initializing forcing flux QuadMortality for components ['Z']\n",
      "flux Grazing is initialized for P --> Z\n",
      "setup_dims (1, 40) Z I0_Grazing\n",
      "setup_dims (1, 40) Z xpreyopt_Grazing\n",
      "setup_dims (40, 40) Grazing phiP_Grazing\n",
      "setup_dims (40, 40) Grazing-P2Z GrazePreference\n",
      "setup_dims (40, 40) Grazing-P2Z FoodAvailability\n",
      "setup_dims (40, 40) Grazing-P2Z BiomassGrazed\n",
      "forcing flux N0_influx is initialized at ['N']\n",
      "Initializing forcing flux N0_influx for components ['N']\n",
      "\n",
      "\n",
      "Initializing Environment: \n",
      " components:['N', 'P-0', 'P-1', 'P-2', 'P-3', 'P-4', 'P-5', 'P-6', 'P-7', 'P-8', 'P-9', 'P-10', 'P-11', 'P-12', 'P-13', 'P-14', 'P-15', 'P-16', 'P-17', 'P-18', 'P-19', 'P-20', 'P-21', 'P-22', 'P-23', 'P-24', 'P-25', 'P-26', 'P-27', 'P-28', 'P-29', 'P-30', 'P-31', 'P-32', 'P-33', 'P-34', 'P-35', 'P-36', 'P-37', 'P-38', 'P-39', 'Z-0', 'Z-1', 'Z-2', 'Z-3', 'Z-4', 'Z-5', 'Z-6', 'Z-7', 'Z-8', 'Z-9', 'Z-10', 'Z-11', 'Z-12', 'Z-13', 'Z-14', 'Z-15', 'Z-16', 'Z-17', 'Z-18', 'Z-19', 'Z-20', 'Z-21', 'Z-22', 'Z-23', 'Z-24', 'Z-25', 'Z-26', 'Z-27', 'Z-28', 'Z-29', 'Z-30', 'Z-31', 'Z-32', 'Z-33', 'Z-34', 'Z-35', 'Z-36', 'Z-37', 'Z-38', 'Z-39'] \n",
      " fluxes:['P_Growth-N-2-P0', 'P_Growth-N-2-P1', 'P_Growth-N-2-P2', 'P_Growth-N-2-P3', 'P_Growth-N-2-P4', 'P_Growth-N-2-P5', 'P_Growth-N-2-P6', 'P_Growth-N-2-P7', 'P_Growth-N-2-P8', 'P_Growth-N-2-P9', 'P_Growth-N-2-P10', 'P_Growth-N-2-P11', 'P_Growth-N-2-P12', 'P_Growth-N-2-P13', 'P_Growth-N-2-P14', 'P_Growth-N-2-P15', 'P_Growth-N-2-P16', 'P_Growth-N-2-P17', 'P_Growth-N-2-P18', 'P_Growth-N-2-P19', 'P_Growth-N-2-P20', 'P_Growth-N-2-P21', 'P_Growth-N-2-P22', 'P_Growth-N-2-P23', 'P_Growth-N-2-P24', 'P_Growth-N-2-P25', 'P_Growth-N-2-P26', 'P_Growth-N-2-P27', 'P_Growth-N-2-P28', 'P_Growth-N-2-P29', 'P_Growth-N-2-P30', 'P_Growth-N-2-P31', 'P_Growth-N-2-P32', 'P_Growth-N-2-P33', 'P_Growth-N-2-P34', 'P_Growth-N-2-P35', 'P_Growth-N-2-P36', 'P_Growth-N-2-P37', 'P_Growth-N-2-P38', 'P_Growth-N-2-P39', 'Grazing-P0-2-Z0', 'Grazing-P0-2-Z1', 'Grazing-P0-2-Z2', 'Grazing-P0-2-Z3', 'Grazing-P0-2-Z4', 'Grazing-P0-2-Z5', 'Grazing-P0-2-Z6', 'Grazing-P0-2-Z7', 'Grazing-P0-2-Z8', 'Grazing-P0-2-Z9', 'Grazing-P0-2-Z10', 'Grazing-P0-2-Z11', 'Grazing-P0-2-Z12', 'Grazing-P0-2-Z13', 'Grazing-P0-2-Z14', 'Grazing-P0-2-Z15', 'Grazing-P0-2-Z16', 'Grazing-P0-2-Z17', 'Grazing-P0-2-Z18', 'Grazing-P0-2-Z19', 'Grazing-P0-2-Z20', 'Grazing-P0-2-Z21', 'Grazing-P0-2-Z22', 'Grazing-P0-2-Z23', 'Grazing-P0-2-Z24', 'Grazing-P0-2-Z25', 'Grazing-P0-2-Z26', 'Grazing-P0-2-Z27', 'Grazing-P0-2-Z28', 'Grazing-P0-2-Z29', 'Grazing-P0-2-Z30', 'Grazing-P0-2-Z31', 'Grazing-P0-2-Z32', 'Grazing-P0-2-Z33', 'Grazing-P0-2-Z34', 'Grazing-P0-2-Z35', 'Grazing-P0-2-Z36', 'Grazing-P0-2-Z37', 'Grazing-P0-2-Z38', 'Grazing-P0-2-Z39', 'Grazing-P1-2-Z0', 'Grazing-P1-2-Z1', 'Grazing-P1-2-Z2', 'Grazing-P1-2-Z3', 'Grazing-P1-2-Z4', 'Grazing-P1-2-Z5', 'Grazing-P1-2-Z6', 'Grazing-P1-2-Z7', 'Grazing-P1-2-Z8', 'Grazing-P1-2-Z9', 'Grazing-P1-2-Z10', 'Grazing-P1-2-Z11', 'Grazing-P1-2-Z12', 'Grazing-P1-2-Z13', 'Grazing-P1-2-Z14', 'Grazing-P1-2-Z15', 'Grazing-P1-2-Z16', 'Grazing-P1-2-Z17', 'Grazing-P1-2-Z18', 'Grazing-P1-2-Z19', 'Grazing-P1-2-Z20', 'Grazing-P1-2-Z21', 'Grazing-P1-2-Z22', 'Grazing-P1-2-Z23', 'Grazing-P1-2-Z24', 'Grazing-P1-2-Z25', 'Grazing-P1-2-Z26', 'Grazing-P1-2-Z27', 'Grazing-P1-2-Z28', 'Grazing-P1-2-Z29', 'Grazing-P1-2-Z30', 'Grazing-P1-2-Z31', 'Grazing-P1-2-Z32', 'Grazing-P1-2-Z33', 'Grazing-P1-2-Z34', 'Grazing-P1-2-Z35', 'Grazing-P1-2-Z36', 'Grazing-P1-2-Z37', 'Grazing-P1-2-Z38', 'Grazing-P1-2-Z39', 'Grazing-P2-2-Z0', 'Grazing-P2-2-Z1', 'Grazing-P2-2-Z2', 'Grazing-P2-2-Z3', 'Grazing-P2-2-Z4', 'Grazing-P2-2-Z5', 'Grazing-P2-2-Z6', 'Grazing-P2-2-Z7', 'Grazing-P2-2-Z8', 'Grazing-P2-2-Z9', 'Grazing-P2-2-Z10', 'Grazing-P2-2-Z11', 'Grazing-P2-2-Z12', 'Grazing-P2-2-Z13', 'Grazing-P2-2-Z14', 'Grazing-P2-2-Z15', 'Grazing-P2-2-Z16', 'Grazing-P2-2-Z17', 'Grazing-P2-2-Z18', 'Grazing-P2-2-Z19', 'Grazing-P2-2-Z20', 'Grazing-P2-2-Z21', 'Grazing-P2-2-Z22', 'Grazing-P2-2-Z23', 'Grazing-P2-2-Z24', 'Grazing-P2-2-Z25', 'Grazing-P2-2-Z26', 'Grazing-P2-2-Z27', 'Grazing-P2-2-Z28', 'Grazing-P2-2-Z29', 'Grazing-P2-2-Z30', 'Grazing-P2-2-Z31', 'Grazing-P2-2-Z32', 'Grazing-P2-2-Z33', 'Grazing-P2-2-Z34', 'Grazing-P2-2-Z35', 'Grazing-P2-2-Z36', 'Grazing-P2-2-Z37', 'Grazing-P2-2-Z38', 'Grazing-P2-2-Z39', 'Grazing-P3-2-Z0', 'Grazing-P3-2-Z1', 'Grazing-P3-2-Z2', 'Grazing-P3-2-Z3', 'Grazing-P3-2-Z4', 'Grazing-P3-2-Z5', 'Grazing-P3-2-Z6', 'Grazing-P3-2-Z7', 'Grazing-P3-2-Z8', 'Grazing-P3-2-Z9', 'Grazing-P3-2-Z10', 'Grazing-P3-2-Z11', 'Grazing-P3-2-Z12', 'Grazing-P3-2-Z13', 'Grazing-P3-2-Z14', 'Grazing-P3-2-Z15', 'Grazing-P3-2-Z16', 'Grazing-P3-2-Z17', 'Grazing-P3-2-Z18', 'Grazing-P3-2-Z19', 'Grazing-P3-2-Z20', 'Grazing-P3-2-Z21', 'Grazing-P3-2-Z22', 'Grazing-P3-2-Z23', 'Grazing-P3-2-Z24', 'Grazing-P3-2-Z25', 'Grazing-P3-2-Z26', 'Grazing-P3-2-Z27', 'Grazing-P3-2-Z28', 'Grazing-P3-2-Z29', 'Grazing-P3-2-Z30', 'Grazing-P3-2-Z31', 'Grazing-P3-2-Z32', 'Grazing-P3-2-Z33', 'Grazing-P3-2-Z34', 'Grazing-P3-2-Z35', 'Grazing-P3-2-Z36', 'Grazing-P3-2-Z37', 'Grazing-P3-2-Z38', 'Grazing-P3-2-Z39', 'Grazing-P4-2-Z0', 'Grazing-P4-2-Z1', 'Grazing-P4-2-Z2', 'Grazing-P4-2-Z3', 'Grazing-P4-2-Z4', 'Grazing-P4-2-Z5', 'Grazing-P4-2-Z6', 'Grazing-P4-2-Z7', 'Grazing-P4-2-Z8', 'Grazing-P4-2-Z9', 'Grazing-P4-2-Z10', 'Grazing-P4-2-Z11', 'Grazing-P4-2-Z12', 'Grazing-P4-2-Z13', 'Grazing-P4-2-Z14', 'Grazing-P4-2-Z15', 'Grazing-P4-2-Z16', 'Grazing-P4-2-Z17', 'Grazing-P4-2-Z18', 'Grazing-P4-2-Z19', 'Grazing-P4-2-Z20', 'Grazing-P4-2-Z21', 'Grazing-P4-2-Z22', 'Grazing-P4-2-Z23', 'Grazing-P4-2-Z24', 'Grazing-P4-2-Z25', 'Grazing-P4-2-Z26', 'Grazing-P4-2-Z27', 'Grazing-P4-2-Z28', 'Grazing-P4-2-Z29', 'Grazing-P4-2-Z30', 'Grazing-P4-2-Z31', 'Grazing-P4-2-Z32', 'Grazing-P4-2-Z33', 'Grazing-P4-2-Z34', 'Grazing-P4-2-Z35', 'Grazing-P4-2-Z36', 'Grazing-P4-2-Z37', 'Grazing-P4-2-Z38', 'Grazing-P4-2-Z39', 'Grazing-P5-2-Z0', 'Grazing-P5-2-Z1', 'Grazing-P5-2-Z2', 'Grazing-P5-2-Z3', 'Grazing-P5-2-Z4', 'Grazing-P5-2-Z5', 'Grazing-P5-2-Z6', 'Grazing-P5-2-Z7', 'Grazing-P5-2-Z8', 'Grazing-P5-2-Z9', 'Grazing-P5-2-Z10', 'Grazing-P5-2-Z11', 'Grazing-P5-2-Z12', 'Grazing-P5-2-Z13', 'Grazing-P5-2-Z14', 'Grazing-P5-2-Z15', 'Grazing-P5-2-Z16', 'Grazing-P5-2-Z17', 'Grazing-P5-2-Z18', 'Grazing-P5-2-Z19', 'Grazing-P5-2-Z20', 'Grazing-P5-2-Z21', 'Grazing-P5-2-Z22', 'Grazing-P5-2-Z23', 'Grazing-P5-2-Z24', 'Grazing-P5-2-Z25', 'Grazing-P5-2-Z26', 'Grazing-P5-2-Z27', 'Grazing-P5-2-Z28', 'Grazing-P5-2-Z29', 'Grazing-P5-2-Z30', 'Grazing-P5-2-Z31', 'Grazing-P5-2-Z32', 'Grazing-P5-2-Z33', 'Grazing-P5-2-Z34', 'Grazing-P5-2-Z35', 'Grazing-P5-2-Z36', 'Grazing-P5-2-Z37', 'Grazing-P5-2-Z38', 'Grazing-P5-2-Z39', 'Grazing-P6-2-Z0', 'Grazing-P6-2-Z1', 'Grazing-P6-2-Z2', 'Grazing-P6-2-Z3', 'Grazing-P6-2-Z4', 'Grazing-P6-2-Z5', 'Grazing-P6-2-Z6', 'Grazing-P6-2-Z7', 'Grazing-P6-2-Z8', 'Grazing-P6-2-Z9', 'Grazing-P6-2-Z10', 'Grazing-P6-2-Z11', 'Grazing-P6-2-Z12', 'Grazing-P6-2-Z13', 'Grazing-P6-2-Z14', 'Grazing-P6-2-Z15', 'Grazing-P6-2-Z16', 'Grazing-P6-2-Z17', 'Grazing-P6-2-Z18', 'Grazing-P6-2-Z19', 'Grazing-P6-2-Z20', 'Grazing-P6-2-Z21', 'Grazing-P6-2-Z22', 'Grazing-P6-2-Z23', 'Grazing-P6-2-Z24', 'Grazing-P6-2-Z25', 'Grazing-P6-2-Z26', 'Grazing-P6-2-Z27', 'Grazing-P6-2-Z28', 'Grazing-P6-2-Z29', 'Grazing-P6-2-Z30', 'Grazing-P6-2-Z31', 'Grazing-P6-2-Z32', 'Grazing-P6-2-Z33', 'Grazing-P6-2-Z34', 'Grazing-P6-2-Z35', 'Grazing-P6-2-Z36', 'Grazing-P6-2-Z37', 'Grazing-P6-2-Z38', 'Grazing-P6-2-Z39', 'Grazing-P7-2-Z0', 'Grazing-P7-2-Z1', 'Grazing-P7-2-Z2', 'Grazing-P7-2-Z3', 'Grazing-P7-2-Z4', 'Grazing-P7-2-Z5', 'Grazing-P7-2-Z6', 'Grazing-P7-2-Z7', 'Grazing-P7-2-Z8', 'Grazing-P7-2-Z9', 'Grazing-P7-2-Z10', 'Grazing-P7-2-Z11', 'Grazing-P7-2-Z12', 'Grazing-P7-2-Z13', 'Grazing-P7-2-Z14', 'Grazing-P7-2-Z15', 'Grazing-P7-2-Z16', 'Grazing-P7-2-Z17', 'Grazing-P7-2-Z18', 'Grazing-P7-2-Z19', 'Grazing-P7-2-Z20', 'Grazing-P7-2-Z21', 'Grazing-P7-2-Z22', 'Grazing-P7-2-Z23', 'Grazing-P7-2-Z24', 'Grazing-P7-2-Z25', 'Grazing-P7-2-Z26', 'Grazing-P7-2-Z27', 'Grazing-P7-2-Z28', 'Grazing-P7-2-Z29', 'Grazing-P7-2-Z30', 'Grazing-P7-2-Z31', 'Grazing-P7-2-Z32', 'Grazing-P7-2-Z33', 'Grazing-P7-2-Z34', 'Grazing-P7-2-Z35', 'Grazing-P7-2-Z36', 'Grazing-P7-2-Z37', 'Grazing-P7-2-Z38', 'Grazing-P7-2-Z39', 'Grazing-P8-2-Z0', 'Grazing-P8-2-Z1', 'Grazing-P8-2-Z2', 'Grazing-P8-2-Z3', 'Grazing-P8-2-Z4', 'Grazing-P8-2-Z5', 'Grazing-P8-2-Z6', 'Grazing-P8-2-Z7', 'Grazing-P8-2-Z8', 'Grazing-P8-2-Z9', 'Grazing-P8-2-Z10', 'Grazing-P8-2-Z11', 'Grazing-P8-2-Z12', 'Grazing-P8-2-Z13', 'Grazing-P8-2-Z14', 'Grazing-P8-2-Z15', 'Grazing-P8-2-Z16', 'Grazing-P8-2-Z17', 'Grazing-P8-2-Z18', 'Grazing-P8-2-Z19', 'Grazing-P8-2-Z20', 'Grazing-P8-2-Z21', 'Grazing-P8-2-Z22', 'Grazing-P8-2-Z23', 'Grazing-P8-2-Z24', 'Grazing-P8-2-Z25', 'Grazing-P8-2-Z26', 'Grazing-P8-2-Z27', 'Grazing-P8-2-Z28', 'Grazing-P8-2-Z29', 'Grazing-P8-2-Z30', 'Grazing-P8-2-Z31', 'Grazing-P8-2-Z32', 'Grazing-P8-2-Z33', 'Grazing-P8-2-Z34', 'Grazing-P8-2-Z35', 'Grazing-P8-2-Z36', 'Grazing-P8-2-Z37', 'Grazing-P8-2-Z38', 'Grazing-P8-2-Z39', 'Grazing-P9-2-Z0', 'Grazing-P9-2-Z1', 'Grazing-P9-2-Z2', 'Grazing-P9-2-Z3', 'Grazing-P9-2-Z4', 'Grazing-P9-2-Z5', 'Grazing-P9-2-Z6', 'Grazing-P9-2-Z7', 'Grazing-P9-2-Z8', 'Grazing-P9-2-Z9', 'Grazing-P9-2-Z10', 'Grazing-P9-2-Z11', 'Grazing-P9-2-Z12', 'Grazing-P9-2-Z13', 'Grazing-P9-2-Z14', 'Grazing-P9-2-Z15', 'Grazing-P9-2-Z16', 'Grazing-P9-2-Z17', 'Grazing-P9-2-Z18', 'Grazing-P9-2-Z19', 'Grazing-P9-2-Z20', 'Grazing-P9-2-Z21', 'Grazing-P9-2-Z22', 'Grazing-P9-2-Z23', 'Grazing-P9-2-Z24', 'Grazing-P9-2-Z25', 'Grazing-P9-2-Z26', 'Grazing-P9-2-Z27', 'Grazing-P9-2-Z28', 'Grazing-P9-2-Z29', 'Grazing-P9-2-Z30', 'Grazing-P9-2-Z31', 'Grazing-P9-2-Z32', 'Grazing-P9-2-Z33', 'Grazing-P9-2-Z34', 'Grazing-P9-2-Z35', 'Grazing-P9-2-Z36', 'Grazing-P9-2-Z37', 'Grazing-P9-2-Z38', 'Grazing-P9-2-Z39', 'Grazing-P10-2-Z0', 'Grazing-P10-2-Z1', 'Grazing-P10-2-Z2', 'Grazing-P10-2-Z3', 'Grazing-P10-2-Z4', 'Grazing-P10-2-Z5', 'Grazing-P10-2-Z6', 'Grazing-P10-2-Z7', 'Grazing-P10-2-Z8', 'Grazing-P10-2-Z9', 'Grazing-P10-2-Z10', 'Grazing-P10-2-Z11', 'Grazing-P10-2-Z12', 'Grazing-P10-2-Z13', 'Grazing-P10-2-Z14', 'Grazing-P10-2-Z15', 'Grazing-P10-2-Z16', 'Grazing-P10-2-Z17', 'Grazing-P10-2-Z18', 'Grazing-P10-2-Z19', 'Grazing-P10-2-Z20', 'Grazing-P10-2-Z21', 'Grazing-P10-2-Z22', 'Grazing-P10-2-Z23', 'Grazing-P10-2-Z24', 'Grazing-P10-2-Z25', 'Grazing-P10-2-Z26', 'Grazing-P10-2-Z27', 'Grazing-P10-2-Z28', 'Grazing-P10-2-Z29', 'Grazing-P10-2-Z30', 'Grazing-P10-2-Z31', 'Grazing-P10-2-Z32', 'Grazing-P10-2-Z33', 'Grazing-P10-2-Z34', 'Grazing-P10-2-Z35', 'Grazing-P10-2-Z36', 'Grazing-P10-2-Z37', 'Grazing-P10-2-Z38', 'Grazing-P10-2-Z39', 'Grazing-P11-2-Z0', 'Grazing-P11-2-Z1', 'Grazing-P11-2-Z2', 'Grazing-P11-2-Z3', 'Grazing-P11-2-Z4', 'Grazing-P11-2-Z5', 'Grazing-P11-2-Z6', 'Grazing-P11-2-Z7', 'Grazing-P11-2-Z8', 'Grazing-P11-2-Z9', 'Grazing-P11-2-Z10', 'Grazing-P11-2-Z11', 'Grazing-P11-2-Z12', 'Grazing-P11-2-Z13', 'Grazing-P11-2-Z14', 'Grazing-P11-2-Z15', 'Grazing-P11-2-Z16', 'Grazing-P11-2-Z17', 'Grazing-P11-2-Z18', 'Grazing-P11-2-Z19', 'Grazing-P11-2-Z20', 'Grazing-P11-2-Z21', 'Grazing-P11-2-Z22', 'Grazing-P11-2-Z23', 'Grazing-P11-2-Z24', 'Grazing-P11-2-Z25', 'Grazing-P11-2-Z26', 'Grazing-P11-2-Z27', 'Grazing-P11-2-Z28', 'Grazing-P11-2-Z29', 'Grazing-P11-2-Z30', 'Grazing-P11-2-Z31', 'Grazing-P11-2-Z32', 'Grazing-P11-2-Z33', 'Grazing-P11-2-Z34', 'Grazing-P11-2-Z35', 'Grazing-P11-2-Z36', 'Grazing-P11-2-Z37', 'Grazing-P11-2-Z38', 'Grazing-P11-2-Z39', 'Grazing-P12-2-Z0', 'Grazing-P12-2-Z1', 'Grazing-P12-2-Z2', 'Grazing-P12-2-Z3', 'Grazing-P12-2-Z4', 'Grazing-P12-2-Z5', 'Grazing-P12-2-Z6', 'Grazing-P12-2-Z7', 'Grazing-P12-2-Z8', 'Grazing-P12-2-Z9', 'Grazing-P12-2-Z10', 'Grazing-P12-2-Z11', 'Grazing-P12-2-Z12', 'Grazing-P12-2-Z13', 'Grazing-P12-2-Z14', 'Grazing-P12-2-Z15', 'Grazing-P12-2-Z16', 'Grazing-P12-2-Z17', 'Grazing-P12-2-Z18', 'Grazing-P12-2-Z19', 'Grazing-P12-2-Z20', 'Grazing-P12-2-Z21', 'Grazing-P12-2-Z22', 'Grazing-P12-2-Z23', 'Grazing-P12-2-Z24', 'Grazing-P12-2-Z25', 'Grazing-P12-2-Z26', 'Grazing-P12-2-Z27', 'Grazing-P12-2-Z28', 'Grazing-P12-2-Z29', 'Grazing-P12-2-Z30', 'Grazing-P12-2-Z31', 'Grazing-P12-2-Z32', 'Grazing-P12-2-Z33', 'Grazing-P12-2-Z34', 'Grazing-P12-2-Z35', 'Grazing-P12-2-Z36', 'Grazing-P12-2-Z37', 'Grazing-P12-2-Z38', 'Grazing-P12-2-Z39', 'Grazing-P13-2-Z0', 'Grazing-P13-2-Z1', 'Grazing-P13-2-Z2', 'Grazing-P13-2-Z3', 'Grazing-P13-2-Z4', 'Grazing-P13-2-Z5', 'Grazing-P13-2-Z6', 'Grazing-P13-2-Z7', 'Grazing-P13-2-Z8', 'Grazing-P13-2-Z9', 'Grazing-P13-2-Z10', 'Grazing-P13-2-Z11', 'Grazing-P13-2-Z12', 'Grazing-P13-2-Z13', 'Grazing-P13-2-Z14', 'Grazing-P13-2-Z15', 'Grazing-P13-2-Z16', 'Grazing-P13-2-Z17', 'Grazing-P13-2-Z18', 'Grazing-P13-2-Z19', 'Grazing-P13-2-Z20', 'Grazing-P13-2-Z21', 'Grazing-P13-2-Z22', 'Grazing-P13-2-Z23', 'Grazing-P13-2-Z24', 'Grazing-P13-2-Z25', 'Grazing-P13-2-Z26', 'Grazing-P13-2-Z27', 'Grazing-P13-2-Z28', 'Grazing-P13-2-Z29', 'Grazing-P13-2-Z30', 'Grazing-P13-2-Z31', 'Grazing-P13-2-Z32', 'Grazing-P13-2-Z33', 'Grazing-P13-2-Z34', 'Grazing-P13-2-Z35', 'Grazing-P13-2-Z36', 'Grazing-P13-2-Z37', 'Grazing-P13-2-Z38', 'Grazing-P13-2-Z39', 'Grazing-P14-2-Z0', 'Grazing-P14-2-Z1', 'Grazing-P14-2-Z2', 'Grazing-P14-2-Z3', 'Grazing-P14-2-Z4', 'Grazing-P14-2-Z5', 'Grazing-P14-2-Z6', 'Grazing-P14-2-Z7', 'Grazing-P14-2-Z8', 'Grazing-P14-2-Z9', 'Grazing-P14-2-Z10', 'Grazing-P14-2-Z11', 'Grazing-P14-2-Z12', 'Grazing-P14-2-Z13', 'Grazing-P14-2-Z14', 'Grazing-P14-2-Z15', 'Grazing-P14-2-Z16', 'Grazing-P14-2-Z17', 'Grazing-P14-2-Z18', 'Grazing-P14-2-Z19', 'Grazing-P14-2-Z20', 'Grazing-P14-2-Z21', 'Grazing-P14-2-Z22', 'Grazing-P14-2-Z23', 'Grazing-P14-2-Z24', 'Grazing-P14-2-Z25', 'Grazing-P14-2-Z26', 'Grazing-P14-2-Z27', 'Grazing-P14-2-Z28', 'Grazing-P14-2-Z29', 'Grazing-P14-2-Z30', 'Grazing-P14-2-Z31', 'Grazing-P14-2-Z32', 'Grazing-P14-2-Z33', 'Grazing-P14-2-Z34', 'Grazing-P14-2-Z35', 'Grazing-P14-2-Z36', 'Grazing-P14-2-Z37', 'Grazing-P14-2-Z38', 'Grazing-P14-2-Z39', 'Grazing-P15-2-Z0', 'Grazing-P15-2-Z1', 'Grazing-P15-2-Z2', 'Grazing-P15-2-Z3', 'Grazing-P15-2-Z4', 'Grazing-P15-2-Z5', 'Grazing-P15-2-Z6', 'Grazing-P15-2-Z7', 'Grazing-P15-2-Z8', 'Grazing-P15-2-Z9', 'Grazing-P15-2-Z10', 'Grazing-P15-2-Z11', 'Grazing-P15-2-Z12', 'Grazing-P15-2-Z13', 'Grazing-P15-2-Z14', 'Grazing-P15-2-Z15', 'Grazing-P15-2-Z16', 'Grazing-P15-2-Z17', 'Grazing-P15-2-Z18', 'Grazing-P15-2-Z19', 'Grazing-P15-2-Z20', 'Grazing-P15-2-Z21', 'Grazing-P15-2-Z22', 'Grazing-P15-2-Z23', 'Grazing-P15-2-Z24', 'Grazing-P15-2-Z25', 'Grazing-P15-2-Z26', 'Grazing-P15-2-Z27', 'Grazing-P15-2-Z28', 'Grazing-P15-2-Z29', 'Grazing-P15-2-Z30', 'Grazing-P15-2-Z31', 'Grazing-P15-2-Z32', 'Grazing-P15-2-Z33', 'Grazing-P15-2-Z34', 'Grazing-P15-2-Z35', 'Grazing-P15-2-Z36', 'Grazing-P15-2-Z37', 'Grazing-P15-2-Z38', 'Grazing-P15-2-Z39', 'Grazing-P16-2-Z0', 'Grazing-P16-2-Z1', 'Grazing-P16-2-Z2', 'Grazing-P16-2-Z3', 'Grazing-P16-2-Z4', 'Grazing-P16-2-Z5', 'Grazing-P16-2-Z6', 'Grazing-P16-2-Z7', 'Grazing-P16-2-Z8', 'Grazing-P16-2-Z9', 'Grazing-P16-2-Z10', 'Grazing-P16-2-Z11', 'Grazing-P16-2-Z12', 'Grazing-P16-2-Z13', 'Grazing-P16-2-Z14', 'Grazing-P16-2-Z15', 'Grazing-P16-2-Z16', 'Grazing-P16-2-Z17', 'Grazing-P16-2-Z18', 'Grazing-P16-2-Z19', 'Grazing-P16-2-Z20', 'Grazing-P16-2-Z21', 'Grazing-P16-2-Z22', 'Grazing-P16-2-Z23', 'Grazing-P16-2-Z24', 'Grazing-P16-2-Z25', 'Grazing-P16-2-Z26', 'Grazing-P16-2-Z27', 'Grazing-P16-2-Z28', 'Grazing-P16-2-Z29', 'Grazing-P16-2-Z30', 'Grazing-P16-2-Z31', 'Grazing-P16-2-Z32', 'Grazing-P16-2-Z33', 'Grazing-P16-2-Z34', 'Grazing-P16-2-Z35', 'Grazing-P16-2-Z36', 'Grazing-P16-2-Z37', 'Grazing-P16-2-Z38', 'Grazing-P16-2-Z39', 'Grazing-P17-2-Z0', 'Grazing-P17-2-Z1', 'Grazing-P17-2-Z2', 'Grazing-P17-2-Z3', 'Grazing-P17-2-Z4', 'Grazing-P17-2-Z5', 'Grazing-P17-2-Z6', 'Grazing-P17-2-Z7', 'Grazing-P17-2-Z8', 'Grazing-P17-2-Z9', 'Grazing-P17-2-Z10', 'Grazing-P17-2-Z11', 'Grazing-P17-2-Z12', 'Grazing-P17-2-Z13', 'Grazing-P17-2-Z14', 'Grazing-P17-2-Z15', 'Grazing-P17-2-Z16', 'Grazing-P17-2-Z17', 'Grazing-P17-2-Z18', 'Grazing-P17-2-Z19', 'Grazing-P17-2-Z20', 'Grazing-P17-2-Z21', 'Grazing-P17-2-Z22', 'Grazing-P17-2-Z23', 'Grazing-P17-2-Z24', 'Grazing-P17-2-Z25', 'Grazing-P17-2-Z26', 'Grazing-P17-2-Z27', 'Grazing-P17-2-Z28', 'Grazing-P17-2-Z29', 'Grazing-P17-2-Z30', 'Grazing-P17-2-Z31', 'Grazing-P17-2-Z32', 'Grazing-P17-2-Z33', 'Grazing-P17-2-Z34', 'Grazing-P17-2-Z35', 'Grazing-P17-2-Z36', 'Grazing-P17-2-Z37', 'Grazing-P17-2-Z38', 'Grazing-P17-2-Z39', 'Grazing-P18-2-Z0', 'Grazing-P18-2-Z1', 'Grazing-P18-2-Z2', 'Grazing-P18-2-Z3', 'Grazing-P18-2-Z4', 'Grazing-P18-2-Z5', 'Grazing-P18-2-Z6', 'Grazing-P18-2-Z7', 'Grazing-P18-2-Z8', 'Grazing-P18-2-Z9', 'Grazing-P18-2-Z10', 'Grazing-P18-2-Z11', 'Grazing-P18-2-Z12', 'Grazing-P18-2-Z13', 'Grazing-P18-2-Z14', 'Grazing-P18-2-Z15', 'Grazing-P18-2-Z16', 'Grazing-P18-2-Z17', 'Grazing-P18-2-Z18', 'Grazing-P18-2-Z19', 'Grazing-P18-2-Z20', 'Grazing-P18-2-Z21', 'Grazing-P18-2-Z22', 'Grazing-P18-2-Z23', 'Grazing-P18-2-Z24', 'Grazing-P18-2-Z25', 'Grazing-P18-2-Z26', 'Grazing-P18-2-Z27', 'Grazing-P18-2-Z28', 'Grazing-P18-2-Z29', 'Grazing-P18-2-Z30', 'Grazing-P18-2-Z31', 'Grazing-P18-2-Z32', 'Grazing-P18-2-Z33', 'Grazing-P18-2-Z34', 'Grazing-P18-2-Z35', 'Grazing-P18-2-Z36', 'Grazing-P18-2-Z37', 'Grazing-P18-2-Z38', 'Grazing-P18-2-Z39', 'Grazing-P19-2-Z0', 'Grazing-P19-2-Z1', 'Grazing-P19-2-Z2', 'Grazing-P19-2-Z3', 'Grazing-P19-2-Z4', 'Grazing-P19-2-Z5', 'Grazing-P19-2-Z6', 'Grazing-P19-2-Z7', 'Grazing-P19-2-Z8', 'Grazing-P19-2-Z9', 'Grazing-P19-2-Z10', 'Grazing-P19-2-Z11', 'Grazing-P19-2-Z12', 'Grazing-P19-2-Z13', 'Grazing-P19-2-Z14', 'Grazing-P19-2-Z15', 'Grazing-P19-2-Z16', 'Grazing-P19-2-Z17', 'Grazing-P19-2-Z18', 'Grazing-P19-2-Z19', 'Grazing-P19-2-Z20', 'Grazing-P19-2-Z21', 'Grazing-P19-2-Z22', 'Grazing-P19-2-Z23', 'Grazing-P19-2-Z24', 'Grazing-P19-2-Z25', 'Grazing-P19-2-Z26', 'Grazing-P19-2-Z27', 'Grazing-P19-2-Z28', 'Grazing-P19-2-Z29', 'Grazing-P19-2-Z30', 'Grazing-P19-2-Z31', 'Grazing-P19-2-Z32', 'Grazing-P19-2-Z33', 'Grazing-P19-2-Z34', 'Grazing-P19-2-Z35', 'Grazing-P19-2-Z36', 'Grazing-P19-2-Z37', 'Grazing-P19-2-Z38', 'Grazing-P19-2-Z39', 'Grazing-P20-2-Z0', 'Grazing-P20-2-Z1', 'Grazing-P20-2-Z2', 'Grazing-P20-2-Z3', 'Grazing-P20-2-Z4', 'Grazing-P20-2-Z5', 'Grazing-P20-2-Z6', 'Grazing-P20-2-Z7', 'Grazing-P20-2-Z8', 'Grazing-P20-2-Z9', 'Grazing-P20-2-Z10', 'Grazing-P20-2-Z11', 'Grazing-P20-2-Z12', 'Grazing-P20-2-Z13', 'Grazing-P20-2-Z14', 'Grazing-P20-2-Z15', 'Grazing-P20-2-Z16', 'Grazing-P20-2-Z17', 'Grazing-P20-2-Z18', 'Grazing-P20-2-Z19', 'Grazing-P20-2-Z20', 'Grazing-P20-2-Z21', 'Grazing-P20-2-Z22', 'Grazing-P20-2-Z23', 'Grazing-P20-2-Z24', 'Grazing-P20-2-Z25', 'Grazing-P20-2-Z26', 'Grazing-P20-2-Z27', 'Grazing-P20-2-Z28', 'Grazing-P20-2-Z29', 'Grazing-P20-2-Z30', 'Grazing-P20-2-Z31', 'Grazing-P20-2-Z32', 'Grazing-P20-2-Z33', 'Grazing-P20-2-Z34', 'Grazing-P20-2-Z35', 'Grazing-P20-2-Z36', 'Grazing-P20-2-Z37', 'Grazing-P20-2-Z38', 'Grazing-P20-2-Z39', 'Grazing-P21-2-Z0', 'Grazing-P21-2-Z1', 'Grazing-P21-2-Z2', 'Grazing-P21-2-Z3', 'Grazing-P21-2-Z4', 'Grazing-P21-2-Z5', 'Grazing-P21-2-Z6', 'Grazing-P21-2-Z7', 'Grazing-P21-2-Z8', 'Grazing-P21-2-Z9', 'Grazing-P21-2-Z10', 'Grazing-P21-2-Z11', 'Grazing-P21-2-Z12', 'Grazing-P21-2-Z13', 'Grazing-P21-2-Z14', 'Grazing-P21-2-Z15', 'Grazing-P21-2-Z16', 'Grazing-P21-2-Z17', 'Grazing-P21-2-Z18', 'Grazing-P21-2-Z19', 'Grazing-P21-2-Z20', 'Grazing-P21-2-Z21', 'Grazing-P21-2-Z22', 'Grazing-P21-2-Z23', 'Grazing-P21-2-Z24', 'Grazing-P21-2-Z25', 'Grazing-P21-2-Z26', 'Grazing-P21-2-Z27', 'Grazing-P21-2-Z28', 'Grazing-P21-2-Z29', 'Grazing-P21-2-Z30', 'Grazing-P21-2-Z31', 'Grazing-P21-2-Z32', 'Grazing-P21-2-Z33', 'Grazing-P21-2-Z34', 'Grazing-P21-2-Z35', 'Grazing-P21-2-Z36', 'Grazing-P21-2-Z37', 'Grazing-P21-2-Z38', 'Grazing-P21-2-Z39', 'Grazing-P22-2-Z0', 'Grazing-P22-2-Z1', 'Grazing-P22-2-Z2', 'Grazing-P22-2-Z3', 'Grazing-P22-2-Z4', 'Grazing-P22-2-Z5', 'Grazing-P22-2-Z6', 'Grazing-P22-2-Z7', 'Grazing-P22-2-Z8', 'Grazing-P22-2-Z9', 'Grazing-P22-2-Z10', 'Grazing-P22-2-Z11', 'Grazing-P22-2-Z12', 'Grazing-P22-2-Z13', 'Grazing-P22-2-Z14', 'Grazing-P22-2-Z15', 'Grazing-P22-2-Z16', 'Grazing-P22-2-Z17', 'Grazing-P22-2-Z18', 'Grazing-P22-2-Z19', 'Grazing-P22-2-Z20', 'Grazing-P22-2-Z21', 'Grazing-P22-2-Z22', 'Grazing-P22-2-Z23', 'Grazing-P22-2-Z24', 'Grazing-P22-2-Z25', 'Grazing-P22-2-Z26', 'Grazing-P22-2-Z27', 'Grazing-P22-2-Z28', 'Grazing-P22-2-Z29', 'Grazing-P22-2-Z30', 'Grazing-P22-2-Z31', 'Grazing-P22-2-Z32', 'Grazing-P22-2-Z33', 'Grazing-P22-2-Z34', 'Grazing-P22-2-Z35', 'Grazing-P22-2-Z36', 'Grazing-P22-2-Z37', 'Grazing-P22-2-Z38', 'Grazing-P22-2-Z39', 'Grazing-P23-2-Z0', 'Grazing-P23-2-Z1', 'Grazing-P23-2-Z2', 'Grazing-P23-2-Z3', 'Grazing-P23-2-Z4', 'Grazing-P23-2-Z5', 'Grazing-P23-2-Z6', 'Grazing-P23-2-Z7', 'Grazing-P23-2-Z8', 'Grazing-P23-2-Z9', 'Grazing-P23-2-Z10', 'Grazing-P23-2-Z11', 'Grazing-P23-2-Z12', 'Grazing-P23-2-Z13', 'Grazing-P23-2-Z14', 'Grazing-P23-2-Z15', 'Grazing-P23-2-Z16', 'Grazing-P23-2-Z17', 'Grazing-P23-2-Z18', 'Grazing-P23-2-Z19', 'Grazing-P23-2-Z20', 'Grazing-P23-2-Z21', 'Grazing-P23-2-Z22', 'Grazing-P23-2-Z23', 'Grazing-P23-2-Z24', 'Grazing-P23-2-Z25', 'Grazing-P23-2-Z26', 'Grazing-P23-2-Z27', 'Grazing-P23-2-Z28', 'Grazing-P23-2-Z29', 'Grazing-P23-2-Z30', 'Grazing-P23-2-Z31', 'Grazing-P23-2-Z32', 'Grazing-P23-2-Z33', 'Grazing-P23-2-Z34', 'Grazing-P23-2-Z35', 'Grazing-P23-2-Z36', 'Grazing-P23-2-Z37', 'Grazing-P23-2-Z38', 'Grazing-P23-2-Z39', 'Grazing-P24-2-Z0', 'Grazing-P24-2-Z1', 'Grazing-P24-2-Z2', 'Grazing-P24-2-Z3', 'Grazing-P24-2-Z4', 'Grazing-P24-2-Z5', 'Grazing-P24-2-Z6', 'Grazing-P24-2-Z7', 'Grazing-P24-2-Z8', 'Grazing-P24-2-Z9', 'Grazing-P24-2-Z10', 'Grazing-P24-2-Z11', 'Grazing-P24-2-Z12', 'Grazing-P24-2-Z13', 'Grazing-P24-2-Z14', 'Grazing-P24-2-Z15', 'Grazing-P24-2-Z16', 'Grazing-P24-2-Z17', 'Grazing-P24-2-Z18', 'Grazing-P24-2-Z19', 'Grazing-P24-2-Z20', 'Grazing-P24-2-Z21', 'Grazing-P24-2-Z22', 'Grazing-P24-2-Z23', 'Grazing-P24-2-Z24', 'Grazing-P24-2-Z25', 'Grazing-P24-2-Z26', 'Grazing-P24-2-Z27', 'Grazing-P24-2-Z28', 'Grazing-P24-2-Z29', 'Grazing-P24-2-Z30', 'Grazing-P24-2-Z31', 'Grazing-P24-2-Z32', 'Grazing-P24-2-Z33', 'Grazing-P24-2-Z34', 'Grazing-P24-2-Z35', 'Grazing-P24-2-Z36', 'Grazing-P24-2-Z37', 'Grazing-P24-2-Z38', 'Grazing-P24-2-Z39', 'Grazing-P25-2-Z0', 'Grazing-P25-2-Z1', 'Grazing-P25-2-Z2', 'Grazing-P25-2-Z3', 'Grazing-P25-2-Z4', 'Grazing-P25-2-Z5', 'Grazing-P25-2-Z6', 'Grazing-P25-2-Z7', 'Grazing-P25-2-Z8', 'Grazing-P25-2-Z9', 'Grazing-P25-2-Z10', 'Grazing-P25-2-Z11', 'Grazing-P25-2-Z12', 'Grazing-P25-2-Z13', 'Grazing-P25-2-Z14', 'Grazing-P25-2-Z15', 'Grazing-P25-2-Z16', 'Grazing-P25-2-Z17', 'Grazing-P25-2-Z18', 'Grazing-P25-2-Z19', 'Grazing-P25-2-Z20', 'Grazing-P25-2-Z21', 'Grazing-P25-2-Z22', 'Grazing-P25-2-Z23', 'Grazing-P25-2-Z24', 'Grazing-P25-2-Z25', 'Grazing-P25-2-Z26', 'Grazing-P25-2-Z27', 'Grazing-P25-2-Z28', 'Grazing-P25-2-Z29', 'Grazing-P25-2-Z30', 'Grazing-P25-2-Z31', 'Grazing-P25-2-Z32', 'Grazing-P25-2-Z33', 'Grazing-P25-2-Z34', 'Grazing-P25-2-Z35', 'Grazing-P25-2-Z36', 'Grazing-P25-2-Z37', 'Grazing-P25-2-Z38', 'Grazing-P25-2-Z39', 'Grazing-P26-2-Z0', 'Grazing-P26-2-Z1', 'Grazing-P26-2-Z2', 'Grazing-P26-2-Z3', 'Grazing-P26-2-Z4', 'Grazing-P26-2-Z5', 'Grazing-P26-2-Z6', 'Grazing-P26-2-Z7', 'Grazing-P26-2-Z8', 'Grazing-P26-2-Z9', 'Grazing-P26-2-Z10', 'Grazing-P26-2-Z11', 'Grazing-P26-2-Z12', 'Grazing-P26-2-Z13', 'Grazing-P26-2-Z14', 'Grazing-P26-2-Z15', 'Grazing-P26-2-Z16', 'Grazing-P26-2-Z17', 'Grazing-P26-2-Z18', 'Grazing-P26-2-Z19', 'Grazing-P26-2-Z20', 'Grazing-P26-2-Z21', 'Grazing-P26-2-Z22', 'Grazing-P26-2-Z23', 'Grazing-P26-2-Z24', 'Grazing-P26-2-Z25', 'Grazing-P26-2-Z26', 'Grazing-P26-2-Z27', 'Grazing-P26-2-Z28', 'Grazing-P26-2-Z29', 'Grazing-P26-2-Z30', 'Grazing-P26-2-Z31', 'Grazing-P26-2-Z32', 'Grazing-P26-2-Z33', 'Grazing-P26-2-Z34', 'Grazing-P26-2-Z35', 'Grazing-P26-2-Z36', 'Grazing-P26-2-Z37', 'Grazing-P26-2-Z38', 'Grazing-P26-2-Z39', 'Grazing-P27-2-Z0', 'Grazing-P27-2-Z1', 'Grazing-P27-2-Z2', 'Grazing-P27-2-Z3', 'Grazing-P27-2-Z4', 'Grazing-P27-2-Z5', 'Grazing-P27-2-Z6', 'Grazing-P27-2-Z7', 'Grazing-P27-2-Z8', 'Grazing-P27-2-Z9', 'Grazing-P27-2-Z10', 'Grazing-P27-2-Z11', 'Grazing-P27-2-Z12', 'Grazing-P27-2-Z13', 'Grazing-P27-2-Z14', 'Grazing-P27-2-Z15', 'Grazing-P27-2-Z16', 'Grazing-P27-2-Z17', 'Grazing-P27-2-Z18', 'Grazing-P27-2-Z19', 'Grazing-P27-2-Z20', 'Grazing-P27-2-Z21', 'Grazing-P27-2-Z22', 'Grazing-P27-2-Z23', 'Grazing-P27-2-Z24', 'Grazing-P27-2-Z25', 'Grazing-P27-2-Z26', 'Grazing-P27-2-Z27', 'Grazing-P27-2-Z28', 'Grazing-P27-2-Z29', 'Grazing-P27-2-Z30', 'Grazing-P27-2-Z31', 'Grazing-P27-2-Z32', 'Grazing-P27-2-Z33', 'Grazing-P27-2-Z34', 'Grazing-P27-2-Z35', 'Grazing-P27-2-Z36', 'Grazing-P27-2-Z37', 'Grazing-P27-2-Z38', 'Grazing-P27-2-Z39', 'Grazing-P28-2-Z0', 'Grazing-P28-2-Z1', 'Grazing-P28-2-Z2', 'Grazing-P28-2-Z3', 'Grazing-P28-2-Z4', 'Grazing-P28-2-Z5', 'Grazing-P28-2-Z6', 'Grazing-P28-2-Z7', 'Grazing-P28-2-Z8', 'Grazing-P28-2-Z9', 'Grazing-P28-2-Z10', 'Grazing-P28-2-Z11', 'Grazing-P28-2-Z12', 'Grazing-P28-2-Z13', 'Grazing-P28-2-Z14', 'Grazing-P28-2-Z15', 'Grazing-P28-2-Z16', 'Grazing-P28-2-Z17', 'Grazing-P28-2-Z18', 'Grazing-P28-2-Z19', 'Grazing-P28-2-Z20', 'Grazing-P28-2-Z21', 'Grazing-P28-2-Z22', 'Grazing-P28-2-Z23', 'Grazing-P28-2-Z24', 'Grazing-P28-2-Z25', 'Grazing-P28-2-Z26', 'Grazing-P28-2-Z27', 'Grazing-P28-2-Z28', 'Grazing-P28-2-Z29', 'Grazing-P28-2-Z30', 'Grazing-P28-2-Z31', 'Grazing-P28-2-Z32', 'Grazing-P28-2-Z33', 'Grazing-P28-2-Z34', 'Grazing-P28-2-Z35', 'Grazing-P28-2-Z36', 'Grazing-P28-2-Z37', 'Grazing-P28-2-Z38', 'Grazing-P28-2-Z39', 'Grazing-P29-2-Z0', 'Grazing-P29-2-Z1', 'Grazing-P29-2-Z2', 'Grazing-P29-2-Z3', 'Grazing-P29-2-Z4', 'Grazing-P29-2-Z5', 'Grazing-P29-2-Z6', 'Grazing-P29-2-Z7', 'Grazing-P29-2-Z8', 'Grazing-P29-2-Z9', 'Grazing-P29-2-Z10', 'Grazing-P29-2-Z11', 'Grazing-P29-2-Z12', 'Grazing-P29-2-Z13', 'Grazing-P29-2-Z14', 'Grazing-P29-2-Z15', 'Grazing-P29-2-Z16', 'Grazing-P29-2-Z17', 'Grazing-P29-2-Z18', 'Grazing-P29-2-Z19', 'Grazing-P29-2-Z20', 'Grazing-P29-2-Z21', 'Grazing-P29-2-Z22', 'Grazing-P29-2-Z23', 'Grazing-P29-2-Z24', 'Grazing-P29-2-Z25', 'Grazing-P29-2-Z26', 'Grazing-P29-2-Z27', 'Grazing-P29-2-Z28', 'Grazing-P29-2-Z29', 'Grazing-P29-2-Z30', 'Grazing-P29-2-Z31', 'Grazing-P29-2-Z32', 'Grazing-P29-2-Z33', 'Grazing-P29-2-Z34', 'Grazing-P29-2-Z35', 'Grazing-P29-2-Z36', 'Grazing-P29-2-Z37', 'Grazing-P29-2-Z38', 'Grazing-P29-2-Z39', 'Grazing-P30-2-Z0', 'Grazing-P30-2-Z1', 'Grazing-P30-2-Z2', 'Grazing-P30-2-Z3', 'Grazing-P30-2-Z4', 'Grazing-P30-2-Z5', 'Grazing-P30-2-Z6', 'Grazing-P30-2-Z7', 'Grazing-P30-2-Z8', 'Grazing-P30-2-Z9', 'Grazing-P30-2-Z10', 'Grazing-P30-2-Z11', 'Grazing-P30-2-Z12', 'Grazing-P30-2-Z13', 'Grazing-P30-2-Z14', 'Grazing-P30-2-Z15', 'Grazing-P30-2-Z16', 'Grazing-P30-2-Z17', 'Grazing-P30-2-Z18', 'Grazing-P30-2-Z19', 'Grazing-P30-2-Z20', 'Grazing-P30-2-Z21', 'Grazing-P30-2-Z22', 'Grazing-P30-2-Z23', 'Grazing-P30-2-Z24', 'Grazing-P30-2-Z25', 'Grazing-P30-2-Z26', 'Grazing-P30-2-Z27', 'Grazing-P30-2-Z28', 'Grazing-P30-2-Z29', 'Grazing-P30-2-Z30', 'Grazing-P30-2-Z31', 'Grazing-P30-2-Z32', 'Grazing-P30-2-Z33', 'Grazing-P30-2-Z34', 'Grazing-P30-2-Z35', 'Grazing-P30-2-Z36', 'Grazing-P30-2-Z37', 'Grazing-P30-2-Z38', 'Grazing-P30-2-Z39', 'Grazing-P31-2-Z0', 'Grazing-P31-2-Z1', 'Grazing-P31-2-Z2', 'Grazing-P31-2-Z3', 'Grazing-P31-2-Z4', 'Grazing-P31-2-Z5', 'Grazing-P31-2-Z6', 'Grazing-P31-2-Z7', 'Grazing-P31-2-Z8', 'Grazing-P31-2-Z9', 'Grazing-P31-2-Z10', 'Grazing-P31-2-Z11', 'Grazing-P31-2-Z12', 'Grazing-P31-2-Z13', 'Grazing-P31-2-Z14', 'Grazing-P31-2-Z15', 'Grazing-P31-2-Z16', 'Grazing-P31-2-Z17', 'Grazing-P31-2-Z18', 'Grazing-P31-2-Z19', 'Grazing-P31-2-Z20', 'Grazing-P31-2-Z21', 'Grazing-P31-2-Z22', 'Grazing-P31-2-Z23', 'Grazing-P31-2-Z24', 'Grazing-P31-2-Z25', 'Grazing-P31-2-Z26', 'Grazing-P31-2-Z27', 'Grazing-P31-2-Z28', 'Grazing-P31-2-Z29', 'Grazing-P31-2-Z30', 'Grazing-P31-2-Z31', 'Grazing-P31-2-Z32', 'Grazing-P31-2-Z33', 'Grazing-P31-2-Z34', 'Grazing-P31-2-Z35', 'Grazing-P31-2-Z36', 'Grazing-P31-2-Z37', 'Grazing-P31-2-Z38', 'Grazing-P31-2-Z39', 'Grazing-P32-2-Z0', 'Grazing-P32-2-Z1', 'Grazing-P32-2-Z2', 'Grazing-P32-2-Z3', 'Grazing-P32-2-Z4', 'Grazing-P32-2-Z5', 'Grazing-P32-2-Z6', 'Grazing-P32-2-Z7', 'Grazing-P32-2-Z8', 'Grazing-P32-2-Z9', 'Grazing-P32-2-Z10', 'Grazing-P32-2-Z11', 'Grazing-P32-2-Z12', 'Grazing-P32-2-Z13', 'Grazing-P32-2-Z14', 'Grazing-P32-2-Z15', 'Grazing-P32-2-Z16', 'Grazing-P32-2-Z17', 'Grazing-P32-2-Z18', 'Grazing-P32-2-Z19', 'Grazing-P32-2-Z20', 'Grazing-P32-2-Z21', 'Grazing-P32-2-Z22', 'Grazing-P32-2-Z23', 'Grazing-P32-2-Z24', 'Grazing-P32-2-Z25', 'Grazing-P32-2-Z26', 'Grazing-P32-2-Z27', 'Grazing-P32-2-Z28', 'Grazing-P32-2-Z29', 'Grazing-P32-2-Z30', 'Grazing-P32-2-Z31', 'Grazing-P32-2-Z32', 'Grazing-P32-2-Z33', 'Grazing-P32-2-Z34', 'Grazing-P32-2-Z35', 'Grazing-P32-2-Z36', 'Grazing-P32-2-Z37', 'Grazing-P32-2-Z38', 'Grazing-P32-2-Z39', 'Grazing-P33-2-Z0', 'Grazing-P33-2-Z1', 'Grazing-P33-2-Z2', 'Grazing-P33-2-Z3', 'Grazing-P33-2-Z4', 'Grazing-P33-2-Z5', 'Grazing-P33-2-Z6', 'Grazing-P33-2-Z7', 'Grazing-P33-2-Z8', 'Grazing-P33-2-Z9', 'Grazing-P33-2-Z10', 'Grazing-P33-2-Z11', 'Grazing-P33-2-Z12', 'Grazing-P33-2-Z13', 'Grazing-P33-2-Z14', 'Grazing-P33-2-Z15', 'Grazing-P33-2-Z16', 'Grazing-P33-2-Z17', 'Grazing-P33-2-Z18', 'Grazing-P33-2-Z19', 'Grazing-P33-2-Z20', 'Grazing-P33-2-Z21', 'Grazing-P33-2-Z22', 'Grazing-P33-2-Z23', 'Grazing-P33-2-Z24', 'Grazing-P33-2-Z25', 'Grazing-P33-2-Z26', 'Grazing-P33-2-Z27', 'Grazing-P33-2-Z28', 'Grazing-P33-2-Z29', 'Grazing-P33-2-Z30', 'Grazing-P33-2-Z31', 'Grazing-P33-2-Z32', 'Grazing-P33-2-Z33', 'Grazing-P33-2-Z34', 'Grazing-P33-2-Z35', 'Grazing-P33-2-Z36', 'Grazing-P33-2-Z37', 'Grazing-P33-2-Z38', 'Grazing-P33-2-Z39', 'Grazing-P34-2-Z0', 'Grazing-P34-2-Z1', 'Grazing-P34-2-Z2', 'Grazing-P34-2-Z3', 'Grazing-P34-2-Z4', 'Grazing-P34-2-Z5', 'Grazing-P34-2-Z6', 'Grazing-P34-2-Z7', 'Grazing-P34-2-Z8', 'Grazing-P34-2-Z9', 'Grazing-P34-2-Z10', 'Grazing-P34-2-Z11', 'Grazing-P34-2-Z12', 'Grazing-P34-2-Z13', 'Grazing-P34-2-Z14', 'Grazing-P34-2-Z15', 'Grazing-P34-2-Z16', 'Grazing-P34-2-Z17', 'Grazing-P34-2-Z18', 'Grazing-P34-2-Z19', 'Grazing-P34-2-Z20', 'Grazing-P34-2-Z21', 'Grazing-P34-2-Z22', 'Grazing-P34-2-Z23', 'Grazing-P34-2-Z24', 'Grazing-P34-2-Z25', 'Grazing-P34-2-Z26', 'Grazing-P34-2-Z27', 'Grazing-P34-2-Z28', 'Grazing-P34-2-Z29', 'Grazing-P34-2-Z30', 'Grazing-P34-2-Z31', 'Grazing-P34-2-Z32', 'Grazing-P34-2-Z33', 'Grazing-P34-2-Z34', 'Grazing-P34-2-Z35', 'Grazing-P34-2-Z36', 'Grazing-P34-2-Z37', 'Grazing-P34-2-Z38', 'Grazing-P34-2-Z39', 'Grazing-P35-2-Z0', 'Grazing-P35-2-Z1', 'Grazing-P35-2-Z2', 'Grazing-P35-2-Z3', 'Grazing-P35-2-Z4', 'Grazing-P35-2-Z5', 'Grazing-P35-2-Z6', 'Grazing-P35-2-Z7', 'Grazing-P35-2-Z8', 'Grazing-P35-2-Z9', 'Grazing-P35-2-Z10', 'Grazing-P35-2-Z11', 'Grazing-P35-2-Z12', 'Grazing-P35-2-Z13', 'Grazing-P35-2-Z14', 'Grazing-P35-2-Z15', 'Grazing-P35-2-Z16', 'Grazing-P35-2-Z17', 'Grazing-P35-2-Z18', 'Grazing-P35-2-Z19', 'Grazing-P35-2-Z20', 'Grazing-P35-2-Z21', 'Grazing-P35-2-Z22', 'Grazing-P35-2-Z23', 'Grazing-P35-2-Z24', 'Grazing-P35-2-Z25', 'Grazing-P35-2-Z26', 'Grazing-P35-2-Z27', 'Grazing-P35-2-Z28', 'Grazing-P35-2-Z29', 'Grazing-P35-2-Z30', 'Grazing-P35-2-Z31', 'Grazing-P35-2-Z32', 'Grazing-P35-2-Z33', 'Grazing-P35-2-Z34', 'Grazing-P35-2-Z35', 'Grazing-P35-2-Z36', 'Grazing-P35-2-Z37', 'Grazing-P35-2-Z38', 'Grazing-P35-2-Z39', 'Grazing-P36-2-Z0', 'Grazing-P36-2-Z1', 'Grazing-P36-2-Z2', 'Grazing-P36-2-Z3', 'Grazing-P36-2-Z4', 'Grazing-P36-2-Z5', 'Grazing-P36-2-Z6', 'Grazing-P36-2-Z7', 'Grazing-P36-2-Z8', 'Grazing-P36-2-Z9', 'Grazing-P36-2-Z10', 'Grazing-P36-2-Z11', 'Grazing-P36-2-Z12', 'Grazing-P36-2-Z13', 'Grazing-P36-2-Z14', 'Grazing-P36-2-Z15', 'Grazing-P36-2-Z16', 'Grazing-P36-2-Z17', 'Grazing-P36-2-Z18', 'Grazing-P36-2-Z19', 'Grazing-P36-2-Z20', 'Grazing-P36-2-Z21', 'Grazing-P36-2-Z22', 'Grazing-P36-2-Z23', 'Grazing-P36-2-Z24', 'Grazing-P36-2-Z25', 'Grazing-P36-2-Z26', 'Grazing-P36-2-Z27', 'Grazing-P36-2-Z28', 'Grazing-P36-2-Z29', 'Grazing-P36-2-Z30', 'Grazing-P36-2-Z31', 'Grazing-P36-2-Z32', 'Grazing-P36-2-Z33', 'Grazing-P36-2-Z34', 'Grazing-P36-2-Z35', 'Grazing-P36-2-Z36', 'Grazing-P36-2-Z37', 'Grazing-P36-2-Z38', 'Grazing-P36-2-Z39', 'Grazing-P37-2-Z0', 'Grazing-P37-2-Z1', 'Grazing-P37-2-Z2', 'Grazing-P37-2-Z3', 'Grazing-P37-2-Z4', 'Grazing-P37-2-Z5', 'Grazing-P37-2-Z6', 'Grazing-P37-2-Z7', 'Grazing-P37-2-Z8', 'Grazing-P37-2-Z9', 'Grazing-P37-2-Z10', 'Grazing-P37-2-Z11', 'Grazing-P37-2-Z12', 'Grazing-P37-2-Z13', 'Grazing-P37-2-Z14', 'Grazing-P37-2-Z15', 'Grazing-P37-2-Z16', 'Grazing-P37-2-Z17', 'Grazing-P37-2-Z18', 'Grazing-P37-2-Z19', 'Grazing-P37-2-Z20', 'Grazing-P37-2-Z21', 'Grazing-P37-2-Z22', 'Grazing-P37-2-Z23', 'Grazing-P37-2-Z24', 'Grazing-P37-2-Z25', 'Grazing-P37-2-Z26', 'Grazing-P37-2-Z27', 'Grazing-P37-2-Z28', 'Grazing-P37-2-Z29', 'Grazing-P37-2-Z30', 'Grazing-P37-2-Z31', 'Grazing-P37-2-Z32', 'Grazing-P37-2-Z33', 'Grazing-P37-2-Z34', 'Grazing-P37-2-Z35', 'Grazing-P37-2-Z36', 'Grazing-P37-2-Z37', 'Grazing-P37-2-Z38', 'Grazing-P37-2-Z39', 'Grazing-P38-2-Z0', 'Grazing-P38-2-Z1', 'Grazing-P38-2-Z2', 'Grazing-P38-2-Z3', 'Grazing-P38-2-Z4', 'Grazing-P38-2-Z5', 'Grazing-P38-2-Z6', 'Grazing-P38-2-Z7', 'Grazing-P38-2-Z8', 'Grazing-P38-2-Z9', 'Grazing-P38-2-Z10', 'Grazing-P38-2-Z11', 'Grazing-P38-2-Z12', 'Grazing-P38-2-Z13', 'Grazing-P38-2-Z14', 'Grazing-P38-2-Z15', 'Grazing-P38-2-Z16', 'Grazing-P38-2-Z17', 'Grazing-P38-2-Z18', 'Grazing-P38-2-Z19', 'Grazing-P38-2-Z20', 'Grazing-P38-2-Z21', 'Grazing-P38-2-Z22', 'Grazing-P38-2-Z23', 'Grazing-P38-2-Z24', 'Grazing-P38-2-Z25', 'Grazing-P38-2-Z26', 'Grazing-P38-2-Z27', 'Grazing-P38-2-Z28', 'Grazing-P38-2-Z29', 'Grazing-P38-2-Z30', 'Grazing-P38-2-Z31', 'Grazing-P38-2-Z32', 'Grazing-P38-2-Z33', 'Grazing-P38-2-Z34', 'Grazing-P38-2-Z35', 'Grazing-P38-2-Z36', 'Grazing-P38-2-Z37', 'Grazing-P38-2-Z38', 'Grazing-P38-2-Z39', 'Grazing-P39-2-Z0', 'Grazing-P39-2-Z1', 'Grazing-P39-2-Z2', 'Grazing-P39-2-Z3', 'Grazing-P39-2-Z4', 'Grazing-P39-2-Z5', 'Grazing-P39-2-Z6', 'Grazing-P39-2-Z7', 'Grazing-P39-2-Z8', 'Grazing-P39-2-Z9', 'Grazing-P39-2-Z10', 'Grazing-P39-2-Z11', 'Grazing-P39-2-Z12', 'Grazing-P39-2-Z13', 'Grazing-P39-2-Z14', 'Grazing-P39-2-Z15', 'Grazing-P39-2-Z16', 'Grazing-P39-2-Z17', 'Grazing-P39-2-Z18', 'Grazing-P39-2-Z19', 'Grazing-P39-2-Z20', 'Grazing-P39-2-Z21', 'Grazing-P39-2-Z22', 'Grazing-P39-2-Z23', 'Grazing-P39-2-Z24', 'Grazing-P39-2-Z25', 'Grazing-P39-2-Z26', 'Grazing-P39-2-Z27', 'Grazing-P39-2-Z28', 'Grazing-P39-2-Z29', 'Grazing-P39-2-Z30', 'Grazing-P39-2-Z31', 'Grazing-P39-2-Z32', 'Grazing-P39-2-Z33', 'Grazing-P39-2-Z34', 'Grazing-P39-2-Z35', 'Grazing-P39-2-Z36', 'Grazing-P39-2-Z37', 'Grazing-P39-2-Z38', 'Grazing-P39-2-Z39']                 \n",
      " fx-fluxes:['LinMortality-P-0', 'LinMortality-P-1', 'LinMortality-P-2', 'LinMortality-P-3', 'LinMortality-P-4', 'LinMortality-P-5', 'LinMortality-P-6', 'LinMortality-P-7', 'LinMortality-P-8', 'LinMortality-P-9', 'LinMortality-P-10', 'LinMortality-P-11', 'LinMortality-P-12', 'LinMortality-P-13', 'LinMortality-P-14', 'LinMortality-P-15', 'LinMortality-P-16', 'LinMortality-P-17', 'LinMortality-P-18', 'LinMortality-P-19', 'LinMortality-P-20', 'LinMortality-P-21', 'LinMortality-P-22', 'LinMortality-P-23', 'LinMortality-P-24', 'LinMortality-P-25', 'LinMortality-P-26', 'LinMortality-P-27', 'LinMortality-P-28', 'LinMortality-P-29', 'LinMortality-P-30', 'LinMortality-P-31', 'LinMortality-P-32', 'LinMortality-P-33', 'LinMortality-P-34', 'LinMortality-P-35', 'LinMortality-P-36', 'LinMortality-P-37', 'LinMortality-P-38', 'LinMortality-P-39', 'Outflux-N', 'Outflux-P-0', 'Outflux-P-1', 'Outflux-P-2', 'Outflux-P-3', 'Outflux-P-4', 'Outflux-P-5', 'Outflux-P-6', 'Outflux-P-7', 'Outflux-P-8', 'Outflux-P-9', 'Outflux-P-10', 'Outflux-P-11', 'Outflux-P-12', 'Outflux-P-13', 'Outflux-P-14', 'Outflux-P-15', 'Outflux-P-16', 'Outflux-P-17', 'Outflux-P-18', 'Outflux-P-19', 'Outflux-P-20', 'Outflux-P-21', 'Outflux-P-22', 'Outflux-P-23', 'Outflux-P-24', 'Outflux-P-25', 'Outflux-P-26', 'Outflux-P-27', 'Outflux-P-28', 'Outflux-P-29', 'Outflux-P-30', 'Outflux-P-31', 'Outflux-P-32', 'Outflux-P-33', 'Outflux-P-34', 'Outflux-P-35', 'Outflux-P-36', 'Outflux-P-37', 'Outflux-P-38', 'Outflux-P-39', 'Outflux-Z-0', 'Outflux-Z-1', 'Outflux-Z-2', 'Outflux-Z-3', 'Outflux-Z-4', 'Outflux-Z-5', 'Outflux-Z-6', 'Outflux-Z-7', 'Outflux-Z-8', 'Outflux-Z-9', 'Outflux-Z-10', 'Outflux-Z-11', 'Outflux-Z-12', 'Outflux-Z-13', 'Outflux-Z-14', 'Outflux-Z-15', 'Outflux-Z-16', 'Outflux-Z-17', 'Outflux-Z-18', 'Outflux-Z-19', 'Outflux-Z-20', 'Outflux-Z-21', 'Outflux-Z-22', 'Outflux-Z-23', 'Outflux-Z-24', 'Outflux-Z-25', 'Outflux-Z-26', 'Outflux-Z-27', 'Outflux-Z-28', 'Outflux-Z-29', 'Outflux-Z-30', 'Outflux-Z-31', 'Outflux-Z-32', 'Outflux-Z-33', 'Outflux-Z-34', 'Outflux-Z-35', 'Outflux-Z-36', 'Outflux-Z-37', 'Outflux-Z-38', 'Outflux-Z-39', 'QuadMortality-Z-0', 'QuadMortality-Z-1', 'QuadMortality-Z-2', 'QuadMortality-Z-3', 'QuadMortality-Z-4', 'QuadMortality-Z-5', 'QuadMortality-Z-6', 'QuadMortality-Z-7', 'QuadMortality-Z-8', 'QuadMortality-Z-9', 'QuadMortality-Z-10', 'QuadMortality-Z-11', 'QuadMortality-Z-12', 'QuadMortality-Z-13', 'QuadMortality-Z-14', 'QuadMortality-Z-15', 'QuadMortality-Z-16', 'QuadMortality-Z-17', 'QuadMortality-Z-18', 'QuadMortality-Z-19', 'QuadMortality-Z-20', 'QuadMortality-Z-21', 'QuadMortality-Z-22', 'QuadMortality-Z-23', 'QuadMortality-Z-24', 'QuadMortality-Z-25', 'QuadMortality-Z-26', 'QuadMortality-Z-27', 'QuadMortality-Z-28', 'QuadMortality-Z-29', 'QuadMortality-Z-30', 'QuadMortality-Z-31', 'QuadMortality-Z-32', 'QuadMortality-Z-33', 'QuadMortality-Z-34', 'QuadMortality-Z-35', 'QuadMortality-Z-36', 'QuadMortality-Z-37', 'QuadMortality-Z-38', 'QuadMortality-Z-39', 'N0_influx-N'] \n",
      " gekko context:Model fluxes dict stores: dict_items([('shape', {'env': 1}), ('comp_dims', {'N': 1, 'P': 40, 'Z': 40})])\n",
      "\n",
      "\n",
      "Assembling equation for component  N [[list([0, (-i405), (-i409), (-i413), (-i417), (-i421), (-i425), (-i429), (-i433), (-i437), (-i441), (-i445), (-i449), (-i453), (-i457), (-i461), (-i465), (-i469), (-i473), (-i477), (-i481), (-i485), (-i489), (-i493), (-i497), (-i501), (-i505), (-i509), (-i513), (-i517), (-i521), (-i525), (-i529), (-i533), (-i537), (-i541), (-i545), (-i549), (-i553), (-i557), (-i561), 0])]]\n",
      "Assembling equation for component  P [[list([0, 0, 0, (-i644), (-i684), (-i724), (-i764), (-i804), (-i844), (-i884), (-i924), (-i964), (-i1004), (-i1044), (-i1084), (-i1124), (-i1164), (-i1204), (-i1244), (-i1284), (-i1324), (-i1364), (-i1404), (-i1444), (-i1484), (-i1524), (-i1564), (-i1604), (-i1644), (-i1684), (-i1724), (-i1764), (-i1804), (-i1844), (-i1884), (-i1924), (-i1964), (-i2004), (-i2044), (-i2084), (-i2124), (-i2164), (-i2204)])\n",
      "  list([0, 0, 0, (-i645), (-i685), (-i725), (-i765), (-i805), (-i845), (-i885), (-i925), (-i965), (-i1005), (-i1045), (-i1085), (-i1125), (-i1165), (-i1205), (-i1245), (-i1285), (-i1325), (-i1365), (-i1405), (-i1445), (-i1485), (-i1525), (-i1565), (-i1605), (-i1645), (-i1685), (-i1725), (-i1765), (-i1805), (-i1845), (-i1885), (-i1925), (-i1965), (-i2005), (-i2045), (-i2085), (-i2125), (-i2165), (-i2205)])\n",
      "  list([0, 0, 0, (-i646), (-i686), (-i726), (-i766), (-i806), (-i846), (-i886), (-i926), (-i966), (-i1006), (-i1046), (-i1086), (-i1126), (-i1166), (-i1206), (-i1246), (-i1286), (-i1326), (-i1366), (-i1406), (-i1446), (-i1486), (-i1526), (-i1566), (-i1606), (-i1646), (-i1686), (-i1726), (-i1766), (-i1806), (-i1846), (-i1886), (-i1926), (-i1966), (-i2006), (-i2046), (-i2086), (-i2126), (-i2166), (-i2206)])\n",
      "  list([0, 0, 0, (-i647), (-i687), (-i727), (-i767), (-i807), (-i847), (-i887), (-i927), (-i967), (-i1007), (-i1047), (-i1087), (-i1127), (-i1167), (-i1207), (-i1247), (-i1287), (-i1327), (-i1367), (-i1407), (-i1447), (-i1487), (-i1527), (-i1567), (-i1607), (-i1647), (-i1687), (-i1727), (-i1767), (-i1807), (-i1847), (-i1887), (-i1927), (-i1967), (-i2007), (-i2047), (-i2087), (-i2127), (-i2167), (-i2207)])\n",
      "  list([0, 0, 0, (-i648), (-i688), (-i728), (-i768), (-i808), (-i848), (-i888), (-i928), (-i968), (-i1008), (-i1048), (-i1088), (-i1128), (-i1168), (-i1208), (-i1248), (-i1288), (-i1328), (-i1368), (-i1408), (-i1448), (-i1488), (-i1528), (-i1568), (-i1608), (-i1648), (-i1688), (-i1728), (-i1768), (-i1808), (-i1848), (-i1888), (-i1928), (-i1968), (-i2008), (-i2048), (-i2088), (-i2128), (-i2168), (-i2208)])\n",
      "  list([0, 0, 0, (-i649), (-i689), (-i729), (-i769), (-i809), (-i849), (-i889), (-i929), (-i969), (-i1009), (-i1049), (-i1089), (-i1129), (-i1169), (-i1209), (-i1249), (-i1289), (-i1329), (-i1369), (-i1409), (-i1449), (-i1489), (-i1529), (-i1569), (-i1609), (-i1649), (-i1689), (-i1729), (-i1769), (-i1809), (-i1849), (-i1889), (-i1929), (-i1969), (-i2009), (-i2049), (-i2089), (-i2129), (-i2169), (-i2209)])\n",
      "  list([0, 0, 0, (-i650), (-i690), (-i730), (-i770), (-i810), (-i850), (-i890), (-i930), (-i970), (-i1010), (-i1050), (-i1090), (-i1130), (-i1170), (-i1210), (-i1250), (-i1290), (-i1330), (-i1370), (-i1410), (-i1450), (-i1490), (-i1530), (-i1570), (-i1610), (-i1650), (-i1690), (-i1730), (-i1770), (-i1810), (-i1850), (-i1890), (-i1930), (-i1970), (-i2010), (-i2050), (-i2090), (-i2130), (-i2170), (-i2210)])\n",
      "  list([0, 0, 0, (-i651), (-i691), (-i731), (-i771), (-i811), (-i851), (-i891), (-i931), (-i971), (-i1011), (-i1051), (-i1091), (-i1131), (-i1171), (-i1211), (-i1251), (-i1291), (-i1331), (-i1371), (-i1411), (-i1451), (-i1491), (-i1531), (-i1571), (-i1611), (-i1651), (-i1691), (-i1731), (-i1771), (-i1811), (-i1851), (-i1891), (-i1931), (-i1971), (-i2011), (-i2051), (-i2091), (-i2131), (-i2171), (-i2211)])\n",
      "  list([0, 0, 0, (-i652), (-i692), (-i732), (-i772), (-i812), (-i852), (-i892), (-i932), (-i972), (-i1012), (-i1052), (-i1092), (-i1132), (-i1172), (-i1212), (-i1252), (-i1292), (-i1332), (-i1372), (-i1412), (-i1452), (-i1492), (-i1532), (-i1572), (-i1612), (-i1652), (-i1692), (-i1732), (-i1772), (-i1812), (-i1852), (-i1892), (-i1932), (-i1972), (-i2012), (-i2052), (-i2092), (-i2132), (-i2172), (-i2212)])\n",
      "  list([0, 0, 0, (-i653), (-i693), (-i733), (-i773), (-i813), (-i853), (-i893), (-i933), (-i973), (-i1013), (-i1053), (-i1093), (-i1133), (-i1173), (-i1213), (-i1253), (-i1293), (-i1333), (-i1373), (-i1413), (-i1453), (-i1493), (-i1533), (-i1573), (-i1613), (-i1653), (-i1693), (-i1733), (-i1773), (-i1813), (-i1853), (-i1893), (-i1933), (-i1973), (-i2013), (-i2053), (-i2093), (-i2133), (-i2173), (-i2213)])\n",
      "  list([0, 0, 0, (-i654), (-i694), (-i734), (-i774), (-i814), (-i854), (-i894), (-i934), (-i974), (-i1014), (-i1054), (-i1094), (-i1134), (-i1174), (-i1214), (-i1254), (-i1294), (-i1334), (-i1374), (-i1414), (-i1454), (-i1494), (-i1534), (-i1574), (-i1614), (-i1654), (-i1694), (-i1734), (-i1774), (-i1814), (-i1854), (-i1894), (-i1934), (-i1974), (-i2014), (-i2054), (-i2094), (-i2134), (-i2174), (-i2214)])\n",
      "  list([0, 0, 0, (-i655), (-i695), (-i735), (-i775), (-i815), (-i855), (-i895), (-i935), (-i975), (-i1015), (-i1055), (-i1095), (-i1135), (-i1175), (-i1215), (-i1255), (-i1295), (-i1335), (-i1375), (-i1415), (-i1455), (-i1495), (-i1535), (-i1575), (-i1615), (-i1655), (-i1695), (-i1735), (-i1775), (-i1815), (-i1855), (-i1895), (-i1935), (-i1975), (-i2015), (-i2055), (-i2095), (-i2135), (-i2175), (-i2215)])\n",
      "  list([0, 0, 0, (-i656), (-i696), (-i736), (-i776), (-i816), (-i856), (-i896), (-i936), (-i976), (-i1016), (-i1056), (-i1096), (-i1136), (-i1176), (-i1216), (-i1256), (-i1296), (-i1336), (-i1376), (-i1416), (-i1456), (-i1496), (-i1536), (-i1576), (-i1616), (-i1656), (-i1696), (-i1736), (-i1776), (-i1816), (-i1856), (-i1896), (-i1936), (-i1976), (-i2016), (-i2056), (-i2096), (-i2136), (-i2176), (-i2216)])\n",
      "  list([0, 0, 0, (-i657), (-i697), (-i737), (-i777), (-i817), (-i857), (-i897), (-i937), (-i977), (-i1017), (-i1057), (-i1097), (-i1137), (-i1177), (-i1217), (-i1257), (-i1297), (-i1337), (-i1377), (-i1417), (-i1457), (-i1497), (-i1537), (-i1577), (-i1617), (-i1657), (-i1697), (-i1737), (-i1777), (-i1817), (-i1857), (-i1897), (-i1937), (-i1977), (-i2017), (-i2057), (-i2097), (-i2137), (-i2177), (-i2217)])\n",
      "  list([0, 0, 0, (-i658), (-i698), (-i738), (-i778), (-i818), (-i858), (-i898), (-i938), (-i978), (-i1018), (-i1058), (-i1098), (-i1138), (-i1178), (-i1218), (-i1258), (-i1298), (-i1338), (-i1378), (-i1418), (-i1458), (-i1498), (-i1538), (-i1578), (-i1618), (-i1658), (-i1698), (-i1738), (-i1778), (-i1818), (-i1858), (-i1898), (-i1938), (-i1978), (-i2018), (-i2058), (-i2098), (-i2138), (-i2178), (-i2218)])\n",
      "  list([0, 0, 0, (-i659), (-i699), (-i739), (-i779), (-i819), (-i859), (-i899), (-i939), (-i979), (-i1019), (-i1059), (-i1099), (-i1139), (-i1179), (-i1219), (-i1259), (-i1299), (-i1339), (-i1379), (-i1419), (-i1459), (-i1499), (-i1539), (-i1579), (-i1619), (-i1659), (-i1699), (-i1739), (-i1779), (-i1819), (-i1859), (-i1899), (-i1939), (-i1979), (-i2019), (-i2059), (-i2099), (-i2139), (-i2179), (-i2219)])\n",
      "  list([0, 0, 0, (-i660), (-i700), (-i740), (-i780), (-i820), (-i860), (-i900), (-i940), (-i980), (-i1020), (-i1060), (-i1100), (-i1140), (-i1180), (-i1220), (-i1260), (-i1300), (-i1340), (-i1380), (-i1420), (-i1460), (-i1500), (-i1540), (-i1580), (-i1620), (-i1660), (-i1700), (-i1740), (-i1780), (-i1820), (-i1860), (-i1900), (-i1940), (-i1980), (-i2020), (-i2060), (-i2100), (-i2140), (-i2180), (-i2220)])\n",
      "  list([0, 0, 0, (-i661), (-i701), (-i741), (-i781), (-i821), (-i861), (-i901), (-i941), (-i981), (-i1021), (-i1061), (-i1101), (-i1141), (-i1181), (-i1221), (-i1261), (-i1301), (-i1341), (-i1381), (-i1421), (-i1461), (-i1501), (-i1541), (-i1581), (-i1621), (-i1661), (-i1701), (-i1741), (-i1781), (-i1821), (-i1861), (-i1901), (-i1941), (-i1981), (-i2021), (-i2061), (-i2101), (-i2141), (-i2181), (-i2221)])\n",
      "  list([0, 0, 0, (-i662), (-i702), (-i742), (-i782), (-i822), (-i862), (-i902), (-i942), (-i982), (-i1022), (-i1062), (-i1102), (-i1142), (-i1182), (-i1222), (-i1262), (-i1302), (-i1342), (-i1382), (-i1422), (-i1462), (-i1502), (-i1542), (-i1582), (-i1622), (-i1662), (-i1702), (-i1742), (-i1782), (-i1822), (-i1862), (-i1902), (-i1942), (-i1982), (-i2022), (-i2062), (-i2102), (-i2142), (-i2182), (-i2222)])\n",
      "  list([0, 0, 0, (-i663), (-i703), (-i743), (-i783), (-i823), (-i863), (-i903), (-i943), (-i983), (-i1023), (-i1063), (-i1103), (-i1143), (-i1183), (-i1223), (-i1263), (-i1303), (-i1343), (-i1383), (-i1423), (-i1463), (-i1503), (-i1543), (-i1583), (-i1623), (-i1663), (-i1703), (-i1743), (-i1783), (-i1823), (-i1863), (-i1903), (-i1943), (-i1983), (-i2023), (-i2063), (-i2103), (-i2143), (-i2183), (-i2223)])\n",
      "  list([0, 0, 0, (-i664), (-i704), (-i744), (-i784), (-i824), (-i864), (-i904), (-i944), (-i984), (-i1024), (-i1064), (-i1104), (-i1144), (-i1184), (-i1224), (-i1264), (-i1304), (-i1344), (-i1384), (-i1424), (-i1464), (-i1504), (-i1544), (-i1584), (-i1624), (-i1664), (-i1704), (-i1744), (-i1784), (-i1824), (-i1864), (-i1904), (-i1944), (-i1984), (-i2024), (-i2064), (-i2104), (-i2144), (-i2184), (-i2224)])\n",
      "  list([0, 0, 0, (-i665), (-i705), (-i745), (-i785), (-i825), (-i865), (-i905), (-i945), (-i985), (-i1025), (-i1065), (-i1105), (-i1145), (-i1185), (-i1225), (-i1265), (-i1305), (-i1345), (-i1385), (-i1425), (-i1465), (-i1505), (-i1545), (-i1585), (-i1625), (-i1665), (-i1705), (-i1745), (-i1785), (-i1825), (-i1865), (-i1905), (-i1945), (-i1985), (-i2025), (-i2065), (-i2105), (-i2145), (-i2185), (-i2225)])\n",
      "  list([0, 0, 0, (-i666), (-i706), (-i746), (-i786), (-i826), (-i866), (-i906), (-i946), (-i986), (-i1026), (-i1066), (-i1106), (-i1146), (-i1186), (-i1226), (-i1266), (-i1306), (-i1346), (-i1386), (-i1426), (-i1466), (-i1506), (-i1546), (-i1586), (-i1626), (-i1666), (-i1706), (-i1746), (-i1786), (-i1826), (-i1866), (-i1906), (-i1946), (-i1986), (-i2026), (-i2066), (-i2106), (-i2146), (-i2186), (-i2226)])\n",
      "  list([0, 0, 0, (-i667), (-i707), (-i747), (-i787), (-i827), (-i867), (-i907), (-i947), (-i987), (-i1027), (-i1067), (-i1107), (-i1147), (-i1187), (-i1227), (-i1267), (-i1307), (-i1347), (-i1387), (-i1427), (-i1467), (-i1507), (-i1547), (-i1587), (-i1627), (-i1667), (-i1707), (-i1747), (-i1787), (-i1827), (-i1867), (-i1907), (-i1947), (-i1987), (-i2027), (-i2067), (-i2107), (-i2147), (-i2187), (-i2227)])\n",
      "  list([0, 0, 0, (-i668), (-i708), (-i748), (-i788), (-i828), (-i868), (-i908), (-i948), (-i988), (-i1028), (-i1068), (-i1108), (-i1148), (-i1188), (-i1228), (-i1268), (-i1308), (-i1348), (-i1388), (-i1428), (-i1468), (-i1508), (-i1548), (-i1588), (-i1628), (-i1668), (-i1708), (-i1748), (-i1788), (-i1828), (-i1868), (-i1908), (-i1948), (-i1988), (-i2028), (-i2068), (-i2108), (-i2148), (-i2188), (-i2228)])\n",
      "  list([0, 0, 0, (-i669), (-i709), (-i749), (-i789), (-i829), (-i869), (-i909), (-i949), (-i989), (-i1029), (-i1069), (-i1109), (-i1149), (-i1189), (-i1229), (-i1269), (-i1309), (-i1349), (-i1389), (-i1429), (-i1469), (-i1509), (-i1549), (-i1589), (-i1629), (-i1669), (-i1709), (-i1749), (-i1789), (-i1829), (-i1869), (-i1909), (-i1949), (-i1989), (-i2029), (-i2069), (-i2109), (-i2149), (-i2189), (-i2229)])\n",
      "  list([0, 0, 0, (-i670), (-i710), (-i750), (-i790), (-i830), (-i870), (-i910), (-i950), (-i990), (-i1030), (-i1070), (-i1110), (-i1150), (-i1190), (-i1230), (-i1270), (-i1310), (-i1350), (-i1390), (-i1430), (-i1470), (-i1510), (-i1550), (-i1590), (-i1630), (-i1670), (-i1710), (-i1750), (-i1790), (-i1830), (-i1870), (-i1910), (-i1950), (-i1990), (-i2030), (-i2070), (-i2110), (-i2150), (-i2190), (-i2230)])\n",
      "  list([0, 0, 0, (-i671), (-i711), (-i751), (-i791), (-i831), (-i871), (-i911), (-i951), (-i991), (-i1031), (-i1071), (-i1111), (-i1151), (-i1191), (-i1231), (-i1271), (-i1311), (-i1351), (-i1391), (-i1431), (-i1471), (-i1511), (-i1551), (-i1591), (-i1631), (-i1671), (-i1711), (-i1751), (-i1791), (-i1831), (-i1871), (-i1911), (-i1951), (-i1991), (-i2031), (-i2071), (-i2111), (-i2151), (-i2191), (-i2231)])\n",
      "  list([0, 0, 0, (-i672), (-i712), (-i752), (-i792), (-i832), (-i872), (-i912), (-i952), (-i992), (-i1032), (-i1072), (-i1112), (-i1152), (-i1192), (-i1232), (-i1272), (-i1312), (-i1352), (-i1392), (-i1432), (-i1472), (-i1512), (-i1552), (-i1592), (-i1632), (-i1672), (-i1712), (-i1752), (-i1792), (-i1832), (-i1872), (-i1912), (-i1952), (-i1992), (-i2032), (-i2072), (-i2112), (-i2152), (-i2192), (-i2232)])\n",
      "  list([0, 0, 0, (-i673), (-i713), (-i753), (-i793), (-i833), (-i873), (-i913), (-i953), (-i993), (-i1033), (-i1073), (-i1113), (-i1153), (-i1193), (-i1233), (-i1273), (-i1313), (-i1353), (-i1393), (-i1433), (-i1473), (-i1513), (-i1553), (-i1593), (-i1633), (-i1673), (-i1713), (-i1753), (-i1793), (-i1833), (-i1873), (-i1913), (-i1953), (-i1993), (-i2033), (-i2073), (-i2113), (-i2153), (-i2193), (-i2233)])\n",
      "  list([0, 0, 0, (-i674), (-i714), (-i754), (-i794), (-i834), (-i874), (-i914), (-i954), (-i994), (-i1034), (-i1074), (-i1114), (-i1154), (-i1194), (-i1234), (-i1274), (-i1314), (-i1354), (-i1394), (-i1434), (-i1474), (-i1514), (-i1554), (-i1594), (-i1634), (-i1674), (-i1714), (-i1754), (-i1794), (-i1834), (-i1874), (-i1914), (-i1954), (-i1994), (-i2034), (-i2074), (-i2114), (-i2154), (-i2194), (-i2234)])\n",
      "  list([0, 0, 0, (-i675), (-i715), (-i755), (-i795), (-i835), (-i875), (-i915), (-i955), (-i995), (-i1035), (-i1075), (-i1115), (-i1155), (-i1195), (-i1235), (-i1275), (-i1315), (-i1355), (-i1395), (-i1435), (-i1475), (-i1515), (-i1555), (-i1595), (-i1635), (-i1675), (-i1715), (-i1755), (-i1795), (-i1835), (-i1875), (-i1915), (-i1955), (-i1995), (-i2035), (-i2075), (-i2115), (-i2155), (-i2195), (-i2235)])\n",
      "  list([0, 0, 0, (-i676), (-i716), (-i756), (-i796), (-i836), (-i876), (-i916), (-i956), (-i996), (-i1036), (-i1076), (-i1116), (-i1156), (-i1196), (-i1236), (-i1276), (-i1316), (-i1356), (-i1396), (-i1436), (-i1476), (-i1516), (-i1556), (-i1596), (-i1636), (-i1676), (-i1716), (-i1756), (-i1796), (-i1836), (-i1876), (-i1916), (-i1956), (-i1996), (-i2036), (-i2076), (-i2116), (-i2156), (-i2196), (-i2236)])\n",
      "  list([0, 0, 0, (-i677), (-i717), (-i757), (-i797), (-i837), (-i877), (-i917), (-i957), (-i997), (-i1037), (-i1077), (-i1117), (-i1157), (-i1197), (-i1237), (-i1277), (-i1317), (-i1357), (-i1397), (-i1437), (-i1477), (-i1517), (-i1557), (-i1597), (-i1637), (-i1677), (-i1717), (-i1757), (-i1797), (-i1837), (-i1877), (-i1917), (-i1957), (-i1997), (-i2037), (-i2077), (-i2117), (-i2157), (-i2197), (-i2237)])\n",
      "  list([0, 0, 0, (-i678), (-i718), (-i758), (-i798), (-i838), (-i878), (-i918), (-i958), (-i998), (-i1038), (-i1078), (-i1118), (-i1158), (-i1198), (-i1238), (-i1278), (-i1318), (-i1358), (-i1398), (-i1438), (-i1478), (-i1518), (-i1558), (-i1598), (-i1638), (-i1678), (-i1718), (-i1758), (-i1798), (-i1838), (-i1878), (-i1918), (-i1958), (-i1998), (-i2038), (-i2078), (-i2118), (-i2158), (-i2198), (-i2238)])\n",
      "  list([0, 0, 0, (-i679), (-i719), (-i759), (-i799), (-i839), (-i879), (-i919), (-i959), (-i999), (-i1039), (-i1079), (-i1119), (-i1159), (-i1199), (-i1239), (-i1279), (-i1319), (-i1359), (-i1399), (-i1439), (-i1479), (-i1519), (-i1559), (-i1599), (-i1639), (-i1679), (-i1719), (-i1759), (-i1799), (-i1839), (-i1879), (-i1919), (-i1959), (-i1999), (-i2039), (-i2079), (-i2119), (-i2159), (-i2199), (-i2239)])\n",
      "  list([0, 0, 0, (-i680), (-i720), (-i760), (-i800), (-i840), (-i880), (-i920), (-i960), (-i1000), (-i1040), (-i1080), (-i1120), (-i1160), (-i1200), (-i1240), (-i1280), (-i1320), (-i1360), (-i1400), (-i1440), (-i1480), (-i1520), (-i1560), (-i1600), (-i1640), (-i1680), (-i1720), (-i1760), (-i1800), (-i1840), (-i1880), (-i1920), (-i1960), (-i2000), (-i2040), (-i2080), (-i2120), (-i2160), (-i2200), (-i2240)])\n",
      "  list([0, 0, 0, (-i681), (-i721), (-i761), (-i801), (-i841), (-i881), (-i921), (-i961), (-i1001), (-i1041), (-i1081), (-i1121), (-i1161), (-i1201), (-i1241), (-i1281), (-i1321), (-i1361), (-i1401), (-i1441), (-i1481), (-i1521), (-i1561), (-i1601), (-i1641), (-i1681), (-i1721), (-i1761), (-i1801), (-i1841), (-i1881), (-i1921), (-i1961), (-i2001), (-i2041), (-i2081), (-i2121), (-i2161), (-i2201), (-i2241)])\n",
      "  list([0, 0, 0, (-i682), (-i722), (-i762), (-i802), (-i842), (-i882), (-i922), (-i962), (-i1002), (-i1042), (-i1082), (-i1122), (-i1162), (-i1202), (-i1242), (-i1282), (-i1322), (-i1362), (-i1402), (-i1442), (-i1482), (-i1522), (-i1562), (-i1602), (-i1642), (-i1682), (-i1722), (-i1762), (-i1802), (-i1842), (-i1882), (-i1922), (-i1962), (-i2002), (-i2042), (-i2082), (-i2122), (-i2162), (-i2202), (-i2242)])\n",
      "  list([0, 0, 0, (-i683), (-i723), (-i763), (-i803), (-i843), (-i883), (-i923), (-i963), (-i1003), (-i1043), (-i1083), (-i1123), (-i1163), (-i1203), (-i1243), (-i1283), (-i1323), (-i1363), (-i1403), (-i1443), (-i1483), (-i1523), (-i1563), (-i1603), (-i1643), (-i1683), (-i1723), (-i1763), (-i1803), (-i1843), (-i1883), (-i1923), (-i1963), (-i2003), (-i2043), (-i2083), (-i2123), (-i2163), (-i2203), (-i2243)])]]\n",
      "Assembling equation for component  Z [[list([0, 0, 0, 0, 0, 0, 0, 0, 0, 0, 0, 0, 0, 0, 0, 0, 0, 0, 0, 0, 0, 0, 0, 0, 0, 0, 0, 0, 0, 0, 0, 0, 0, 0, 0, 0, 0, 0, 0, 0, 0, 0])\n",
      "  list([0, 0, 0, 0, 0, 0, 0, 0, 0, 0, 0, 0, 0, 0, 0, 0, 0, 0, 0, 0, 0, 0, 0, 0, 0, 0, 0, 0, 0, 0, 0, 0, 0, 0, 0, 0, 0, 0, 0, 0, 0, 0])\n",
      "  list([0, 0, 0, 0, 0, 0, 0, 0, 0, 0, 0, 0, 0, 0, 0, 0, 0, 0, 0, 0, 0, 0, 0, 0, 0, 0, 0, 0, 0, 0, 0, 0, 0, 0, 0, 0, 0, 0, 0, 0, 0, 0])\n",
      "  list([0, 0, 0, 0, 0, 0, 0, 0, 0, 0, 0, 0, 0, 0, 0, 0, 0, 0, 0, 0, 0, 0, 0, 0, 0, 0, 0, 0, 0, 0, 0, 0, 0, 0, 0, 0, 0, 0, 0, 0, 0, 0])\n",
      "  list([0, 0, 0, 0, 0, 0, 0, 0, 0, 0, 0, 0, 0, 0, 0, 0, 0, 0, 0, 0, 0, 0, 0, 0, 0, 0, 0, 0, 0, 0, 0, 0, 0, 0, 0, 0, 0, 0, 0, 0, 0, 0])\n",
      "  list([0, 0, 0, 0, 0, 0, 0, 0, 0, 0, 0, 0, 0, 0, 0, 0, 0, 0, 0, 0, 0, 0, 0, 0, 0, 0, 0, 0, 0, 0, 0, 0, 0, 0, 0, 0, 0, 0, 0, 0, 0, 0])\n",
      "  list([0, 0, 0, 0, 0, 0, 0, 0, 0, 0, 0, 0, 0, 0, 0, 0, 0, 0, 0, 0, 0, 0, 0, 0, 0, 0, 0, 0, 0, 0, 0, 0, 0, 0, 0, 0, 0, 0, 0, 0, 0, 0])\n",
      "  list([0, 0, 0, 0, 0, 0, 0, 0, 0, 0, 0, 0, 0, 0, 0, 0, 0, 0, 0, 0, 0, 0, 0, 0, 0, 0, 0, 0, 0, 0, 0, 0, 0, 0, 0, 0, 0, 0, 0, 0, 0, 0])\n",
      "  list([0, 0, 0, 0, 0, 0, 0, 0, 0, 0, 0, 0, 0, 0, 0, 0, 0, 0, 0, 0, 0, 0, 0, 0, 0, 0, 0, 0, 0, 0, 0, 0, 0, 0, 0, 0, 0, 0, 0, 0, 0, 0])\n",
      "  list([0, 0, 0, 0, 0, 0, 0, 0, 0, 0, 0, 0, 0, 0, 0, 0, 0, 0, 0, 0, 0, 0, 0, 0, 0, 0, 0, 0, 0, 0, 0, 0, 0, 0, 0, 0, 0, 0, 0, 0, 0, 0])\n",
      "  list([0, 0, 0, 0, 0, 0, 0, 0, 0, 0, 0, 0, 0, 0, 0, 0, 0, 0, 0, 0, 0, 0, 0, 0, 0, 0, 0, 0, 0, 0, 0, 0, 0, 0, 0, 0, 0, 0, 0, 0, 0, 0])\n",
      "  list([0, 0, 0, 0, 0, 0, 0, 0, 0, 0, 0, 0, 0, 0, 0, 0, 0, 0, 0, 0, 0, 0, 0, 0, 0, 0, 0, 0, 0, 0, 0, 0, 0, 0, 0, 0, 0, 0, 0, 0, 0, 0])\n",
      "  list([0, 0, 0, 0, 0, 0, 0, 0, 0, 0, 0, 0, 0, 0, 0, 0, 0, 0, 0, 0, 0, 0, 0, 0, 0, 0, 0, 0, 0, 0, 0, 0, 0, 0, 0, 0, 0, 0, 0, 0, 0, 0])\n",
      "  list([0, 0, 0, 0, 0, 0, 0, 0, 0, 0, 0, 0, 0, 0, 0, 0, 0, 0, 0, 0, 0, 0, 0, 0, 0, 0, 0, 0, 0, 0, 0, 0, 0, 0, 0, 0, 0, 0, 0, 0, 0, 0])\n",
      "  list([0, 0, 0, 0, 0, 0, 0, 0, 0, 0, 0, 0, 0, 0, 0, 0, 0, 0, 0, 0, 0, 0, 0, 0, 0, 0, 0, 0, 0, 0, 0, 0, 0, 0, 0, 0, 0, 0, 0, 0, 0, 0])\n",
      "  list([0, 0, 0, 0, 0, 0, 0, 0, 0, 0, 0, 0, 0, 0, 0, 0, 0, 0, 0, 0, 0, 0, 0, 0, 0, 0, 0, 0, 0, 0, 0, 0, 0, 0, 0, 0, 0, 0, 0, 0, 0, 0])\n",
      "  list([0, 0, 0, 0, 0, 0, 0, 0, 0, 0, 0, 0, 0, 0, 0, 0, 0, 0, 0, 0, 0, 0, 0, 0, 0, 0, 0, 0, 0, 0, 0, 0, 0, 0, 0, 0, 0, 0, 0, 0, 0, 0])\n",
      "  list([0, 0, 0, 0, 0, 0, 0, 0, 0, 0, 0, 0, 0, 0, 0, 0, 0, 0, 0, 0, 0, 0, 0, 0, 0, 0, 0, 0, 0, 0, 0, 0, 0, 0, 0, 0, 0, 0, 0, 0, 0, 0])\n",
      "  list([0, 0, 0, 0, 0, 0, 0, 0, 0, 0, 0, 0, 0, 0, 0, 0, 0, 0, 0, 0, 0, 0, 0, 0, 0, 0, 0, 0, 0, 0, 0, 0, 0, 0, 0, 0, 0, 0, 0, 0, 0, 0])\n",
      "  list([0, 0, 0, 0, 0, 0, 0, 0, 0, 0, 0, 0, 0, 0, 0, 0, 0, 0, 0, 0, 0, 0, 0, 0, 0, 0, 0, 0, 0, 0, 0, 0, 0, 0, 0, 0, 0, 0, 0, 0, 0, 0])\n",
      "  list([0, 0, 0, 0, 0, 0, 0, 0, 0, 0, 0, 0, 0, 0, 0, 0, 0, 0, 0, 0, 0, 0, 0, 0, 0, 0, 0, 0, 0, 0, 0, 0, 0, 0, 0, 0, 0, 0, 0, 0, 0, 0])\n",
      "  list([0, 0, 0, 0, 0, 0, 0, 0, 0, 0, 0, 0, 0, 0, 0, 0, 0, 0, 0, 0, 0, 0, 0, 0, 0, 0, 0, 0, 0, 0, 0, 0, 0, 0, 0, 0, 0, 0, 0, 0, 0, 0])\n",
      "  list([0, 0, 0, 0, 0, 0, 0, 0, 0, 0, 0, 0, 0, 0, 0, 0, 0, 0, 0, 0, 0, 0, 0, 0, 0, 0, 0, 0, 0, 0, 0, 0, 0, 0, 0, 0, 0, 0, 0, 0, 0, 0])\n",
      "  list([0, 0, 0, 0, 0, 0, 0, 0, 0, 0, 0, 0, 0, 0, 0, 0, 0, 0, 0, 0, 0, 0, 0, 0, 0, 0, 0, 0, 0, 0, 0, 0, 0, 0, 0, 0, 0, 0, 0, 0, 0, 0])\n",
      "  list([0, 0, 0, 0, 0, 0, 0, 0, 0, 0, 0, 0, 0, 0, 0, 0, 0, 0, 0, 0, 0, 0, 0, 0, 0, 0, 0, 0, 0, 0, 0, 0, 0, 0, 0, 0, 0, 0, 0, 0, 0, 0])\n",
      "  list([0, 0, 0, 0, 0, 0, 0, 0, 0, 0, 0, 0, 0, 0, 0, 0, 0, 0, 0, 0, 0, 0, 0, 0, 0, 0, 0, 0, 0, 0, 0, 0, 0, 0, 0, 0, 0, 0, 0, 0, 0, 0])\n",
      "  list([0, 0, 0, 0, 0, 0, 0, 0, 0, 0, 0, 0, 0, 0, 0, 0, 0, 0, 0, 0, 0, 0, 0, 0, 0, 0, 0, 0, 0, 0, 0, 0, 0, 0, 0, 0, 0, 0, 0, 0, 0, 0])\n",
      "  list([0, 0, 0, 0, 0, 0, 0, 0, 0, 0, 0, 0, 0, 0, 0, 0, 0, 0, 0, 0, 0, 0, 0, 0, 0, 0, 0, 0, 0, 0, 0, 0, 0, 0, 0, 0, 0, 0, 0, 0, 0, 0])\n",
      "  list([0, 0, 0, 0, 0, 0, 0, 0, 0, 0, 0, 0, 0, 0, 0, 0, 0, 0, 0, 0, 0, 0, 0, 0, 0, 0, 0, 0, 0, 0, 0, 0, 0, 0, 0, 0, 0, 0, 0, 0, 0, 0])\n",
      "  list([0, 0, 0, 0, 0, 0, 0, 0, 0, 0, 0, 0, 0, 0, 0, 0, 0, 0, 0, 0, 0, 0, 0, 0, 0, 0, 0, 0, 0, 0, 0, 0, 0, 0, 0, 0, 0, 0, 0, 0, 0, 0])\n",
      "  list([0, 0, 0, 0, 0, 0, 0, 0, 0, 0, 0, 0, 0, 0, 0, 0, 0, 0, 0, 0, 0, 0, 0, 0, 0, 0, 0, 0, 0, 0, 0, 0, 0, 0, 0, 0, 0, 0, 0, 0, 0, 0])\n",
      "  list([0, 0, 0, 0, 0, 0, 0, 0, 0, 0, 0, 0, 0, 0, 0, 0, 0, 0, 0, 0, 0, 0, 0, 0, 0, 0, 0, 0, 0, 0, 0, 0, 0, 0, 0, 0, 0, 0, 0, 0, 0, 0])\n",
      "  list([0, 0, 0, 0, 0, 0, 0, 0, 0, 0, 0, 0, 0, 0, 0, 0, 0, 0, 0, 0, 0, 0, 0, 0, 0, 0, 0, 0, 0, 0, 0, 0, 0, 0, 0, 0, 0, 0, 0, 0, 0, 0])\n",
      "  list([0, 0, 0, 0, 0, 0, 0, 0, 0, 0, 0, 0, 0, 0, 0, 0, 0, 0, 0, 0, 0, 0, 0, 0, 0, 0, 0, 0, 0, 0, 0, 0, 0, 0, 0, 0, 0, 0, 0, 0, 0, 0])\n",
      "  list([0, 0, 0, 0, 0, 0, 0, 0, 0, 0, 0, 0, 0, 0, 0, 0, 0, 0, 0, 0, 0, 0, 0, 0, 0, 0, 0, 0, 0, 0, 0, 0, 0, 0, 0, 0, 0, 0, 0, 0, 0, 0])\n",
      "  list([0, 0, 0, 0, 0, 0, 0, 0, 0, 0, 0, 0, 0, 0, 0, 0, 0, 0, 0, 0, 0, 0, 0, 0, 0, 0, 0, 0, 0, 0, 0, 0, 0, 0, 0, 0, 0, 0, 0, 0, 0, 0])\n",
      "  list([0, 0, 0, 0, 0, 0, 0, 0, 0, 0, 0, 0, 0, 0, 0, 0, 0, 0, 0, 0, 0, 0, 0, 0, 0, 0, 0, 0, 0, 0, 0, 0, 0, 0, 0, 0, 0, 0, 0, 0, 0, 0])\n",
      "  list([0, 0, 0, 0, 0, 0, 0, 0, 0, 0, 0, 0, 0, 0, 0, 0, 0, 0, 0, 0, 0, 0, 0, 0, 0, 0, 0, 0, 0, 0, 0, 0, 0, 0, 0, 0, 0, 0, 0, 0, 0, 0])\n",
      "  list([0, 0, 0, 0, 0, 0, 0, 0, 0, 0, 0, 0, 0, 0, 0, 0, 0, 0, 0, 0, 0, 0, 0, 0, 0, 0, 0, 0, 0, 0, 0, 0, 0, 0, 0, 0, 0, 0, 0, 0, 0, 0])\n",
      "  list([0, 0, 0, 0, 0, 0, 0, 0, 0, 0, 0, 0, 0, 0, 0, 0, 0, 0, 0, 0, 0, 0, 0, 0, 0, 0, 0, 0, 0, 0, 0, 0, 0, 0, 0, 0, 0, 0, 0, 0, 0, 0])]]\n",
      "SolveInit\n"
     ]
    },
    {
     "ename": "NameError",
     "evalue": "name 'TimeoutExpired' is not defined",
     "output_type": "error",
     "traceback": [
      "\u001b[0;31m---------------------------------------------------------------------------\u001b[0m",
      "\u001b[0;31mKeyboardInterrupt\u001b[0m                         Traceback (most recent call last)",
      "\u001b[0;32m~/opt/miniconda3/envs/xsimlab/lib/python3.8/site-packages/gekko/gekko.py\u001b[0m in \u001b[0;36msolve\u001b[0;34m(self, disp, debug, GUI, **kwargs)\u001b[0m\n\u001b[1;32m   2026\u001b[0m                     \u001b[0;32mtry\u001b[0m\u001b[0;34m:\u001b[0m\u001b[0;34m\u001b[0m\u001b[0;34m\u001b[0m\u001b[0m\n\u001b[0;32m-> 2027\u001b[0;31m                         \u001b[0mouts\u001b[0m\u001b[0;34m,\u001b[0m \u001b[0merrs\u001b[0m \u001b[0;34m=\u001b[0m \u001b[0mapp\u001b[0m\u001b[0;34m.\u001b[0m\u001b[0mcommunicate\u001b[0m\u001b[0;34m(\u001b[0m\u001b[0mtimeout\u001b[0m\u001b[0;34m=\u001b[0m\u001b[0mmax_time\u001b[0m\u001b[0;34m)\u001b[0m\u001b[0;34m\u001b[0m\u001b[0;34m\u001b[0m\u001b[0m\n\u001b[0m\u001b[1;32m   2028\u001b[0m                     \u001b[0;32mexcept\u001b[0m \u001b[0mTimeoutExpired\u001b[0m\u001b[0;34m:\u001b[0m\u001b[0;34m\u001b[0m\u001b[0;34m\u001b[0m\u001b[0m\n",
      "\u001b[0;32m~/opt/miniconda3/envs/xsimlab/lib/python3.8/subprocess.py\u001b[0m in \u001b[0;36mcommunicate\u001b[0;34m(self, input, timeout)\u001b[0m\n\u001b[1;32m   1023\u001b[0m             \u001b[0;32mtry\u001b[0m\u001b[0;34m:\u001b[0m\u001b[0;34m\u001b[0m\u001b[0;34m\u001b[0m\u001b[0m\n\u001b[0;32m-> 1024\u001b[0;31m                 \u001b[0mstdout\u001b[0m\u001b[0;34m,\u001b[0m \u001b[0mstderr\u001b[0m \u001b[0;34m=\u001b[0m \u001b[0mself\u001b[0m\u001b[0;34m.\u001b[0m\u001b[0m_communicate\u001b[0m\u001b[0;34m(\u001b[0m\u001b[0minput\u001b[0m\u001b[0;34m,\u001b[0m \u001b[0mendtime\u001b[0m\u001b[0;34m,\u001b[0m \u001b[0mtimeout\u001b[0m\u001b[0;34m)\u001b[0m\u001b[0;34m\u001b[0m\u001b[0;34m\u001b[0m\u001b[0m\n\u001b[0m\u001b[1;32m   1025\u001b[0m             \u001b[0;32mexcept\u001b[0m \u001b[0mKeyboardInterrupt\u001b[0m\u001b[0;34m:\u001b[0m\u001b[0;34m\u001b[0m\u001b[0;34m\u001b[0m\u001b[0m\n",
      "\u001b[0;32m~/opt/miniconda3/envs/xsimlab/lib/python3.8/subprocess.py\u001b[0m in \u001b[0;36m_communicate\u001b[0;34m(self, input, endtime, orig_timeout)\u001b[0m\n\u001b[1;32m   1865\u001b[0m \u001b[0;34m\u001b[0m\u001b[0m\n\u001b[0;32m-> 1866\u001b[0;31m                     \u001b[0mready\u001b[0m \u001b[0;34m=\u001b[0m \u001b[0mselector\u001b[0m\u001b[0;34m.\u001b[0m\u001b[0mselect\u001b[0m\u001b[0;34m(\u001b[0m\u001b[0mtimeout\u001b[0m\u001b[0;34m)\u001b[0m\u001b[0;34m\u001b[0m\u001b[0;34m\u001b[0m\u001b[0m\n\u001b[0m\u001b[1;32m   1867\u001b[0m                     \u001b[0mself\u001b[0m\u001b[0;34m.\u001b[0m\u001b[0m_check_timeout\u001b[0m\u001b[0;34m(\u001b[0m\u001b[0mendtime\u001b[0m\u001b[0;34m,\u001b[0m \u001b[0morig_timeout\u001b[0m\u001b[0;34m,\u001b[0m \u001b[0mstdout\u001b[0m\u001b[0;34m,\u001b[0m \u001b[0mstderr\u001b[0m\u001b[0;34m)\u001b[0m\u001b[0;34m\u001b[0m\u001b[0;34m\u001b[0m\u001b[0m\n",
      "\u001b[0;32m~/opt/miniconda3/envs/xsimlab/lib/python3.8/selectors.py\u001b[0m in \u001b[0;36mselect\u001b[0;34m(self, timeout)\u001b[0m\n\u001b[1;32m    414\u001b[0m         \u001b[0;32mtry\u001b[0m\u001b[0;34m:\u001b[0m\u001b[0;34m\u001b[0m\u001b[0;34m\u001b[0m\u001b[0m\n\u001b[0;32m--> 415\u001b[0;31m             \u001b[0mfd_event_list\u001b[0m \u001b[0;34m=\u001b[0m \u001b[0mself\u001b[0m\u001b[0;34m.\u001b[0m\u001b[0m_selector\u001b[0m\u001b[0;34m.\u001b[0m\u001b[0mpoll\u001b[0m\u001b[0;34m(\u001b[0m\u001b[0mtimeout\u001b[0m\u001b[0;34m)\u001b[0m\u001b[0;34m\u001b[0m\u001b[0;34m\u001b[0m\u001b[0m\n\u001b[0m\u001b[1;32m    416\u001b[0m         \u001b[0;32mexcept\u001b[0m \u001b[0mInterruptedError\u001b[0m\u001b[0;34m:\u001b[0m\u001b[0;34m\u001b[0m\u001b[0;34m\u001b[0m\u001b[0m\n",
      "\u001b[0;31mKeyboardInterrupt\u001b[0m: ",
      "\nDuring handling of the above exception, another exception occurred:\n",
      "\u001b[0;31mNameError\u001b[0m                                 Traceback (most recent call last)",
      "\u001b[0;32m<timed exec>\u001b[0m in \u001b[0;36m<module>\u001b[0;34m\u001b[0m\n",
      "\u001b[0;32m~/opt/miniconda3/envs/xsimlab/lib/python3.8/site-packages/xsimlab/xr_accessor.py\u001b[0m in \u001b[0;36mrun\u001b[0;34m(self, model, batch_dim, check_dims, validate, store, encoding, hooks, parallel, scheduler, safe_mode)\u001b[0m\n\u001b[1;32m    814\u001b[0m         )\n\u001b[1;32m    815\u001b[0m \u001b[0;34m\u001b[0m\u001b[0m\n\u001b[0;32m--> 816\u001b[0;31m         \u001b[0mdriver\u001b[0m\u001b[0;34m.\u001b[0m\u001b[0mrun_model\u001b[0m\u001b[0;34m(\u001b[0m\u001b[0;34m)\u001b[0m\u001b[0;34m\u001b[0m\u001b[0;34m\u001b[0m\u001b[0m\n\u001b[0m\u001b[1;32m    817\u001b[0m \u001b[0;34m\u001b[0m\u001b[0m\n\u001b[1;32m    818\u001b[0m         \u001b[0;32mreturn\u001b[0m \u001b[0mdriver\u001b[0m\u001b[0;34m.\u001b[0m\u001b[0mget_results\u001b[0m\u001b[0;34m(\u001b[0m\u001b[0;34m)\u001b[0m\u001b[0;34m\u001b[0m\u001b[0;34m\u001b[0m\u001b[0m\n",
      "\u001b[0;32m~/opt/miniconda3/envs/xsimlab/lib/python3.8/site-packages/xsimlab/drivers.py\u001b[0m in \u001b[0;36mrun_model\u001b[0;34m(self)\u001b[0m\n\u001b[1;32m    453\u001b[0m \u001b[0;34m\u001b[0m\u001b[0m\n\u001b[1;32m    454\u001b[0m         \u001b[0;32mif\u001b[0m \u001b[0mself\u001b[0m\u001b[0;34m.\u001b[0m\u001b[0mbatch_dim\u001b[0m \u001b[0;32mis\u001b[0m \u001b[0;32mNone\u001b[0m\u001b[0;34m:\u001b[0m\u001b[0;34m\u001b[0m\u001b[0;34m\u001b[0m\u001b[0m\n\u001b[0;32m--> 455\u001b[0;31m             _run(\n\u001b[0m\u001b[1;32m    456\u001b[0m                 \u001b[0mds_in\u001b[0m\u001b[0;34m,\u001b[0m\u001b[0;34m\u001b[0m\u001b[0;34m\u001b[0m\u001b[0m\n\u001b[1;32m    457\u001b[0m                 \u001b[0mself\u001b[0m\u001b[0;34m.\u001b[0m\u001b[0mmodel\u001b[0m\u001b[0;34m,\u001b[0m\u001b[0;34m\u001b[0m\u001b[0;34m\u001b[0m\u001b[0m\n",
      "\u001b[0;32m~/opt/miniconda3/envs/xsimlab/lib/python3.8/site-packages/xsimlab/drivers.py\u001b[0m in \u001b[0;36m_run\u001b[0;34m(dataset, model, store, hooks, validate, batch, batch_size, parallel, scheduler)\u001b[0m\n\u001b[1;32m    344\u001b[0m         \u001b[0min_vars\u001b[0m \u001b[0;34m=\u001b[0m \u001b[0m_get_input_vars\u001b[0m\u001b[0;34m(\u001b[0m\u001b[0mds_step\u001b[0m\u001b[0;34m,\u001b[0m \u001b[0mmodel\u001b[0m\u001b[0;34m)\u001b[0m\u001b[0;34m\u001b[0m\u001b[0;34m\u001b[0m\u001b[0m\n\u001b[1;32m    345\u001b[0m         \u001b[0mmodel\u001b[0m\u001b[0;34m.\u001b[0m\u001b[0mupdate_state\u001b[0m\u001b[0;34m(\u001b[0m\u001b[0min_vars\u001b[0m\u001b[0;34m,\u001b[0m \u001b[0mvalidate\u001b[0m\u001b[0;34m=\u001b[0m\u001b[0mvalidate_inputs\u001b[0m\u001b[0;34m,\u001b[0m \u001b[0mignore_static\u001b[0m\u001b[0;34m=\u001b[0m\u001b[0;32mFalse\u001b[0m\u001b[0;34m)\u001b[0m\u001b[0;34m\u001b[0m\u001b[0;34m\u001b[0m\u001b[0m\n\u001b[0;32m--> 346\u001b[0;31m         \u001b[0mmodel\u001b[0m\u001b[0;34m.\u001b[0m\u001b[0mexecute\u001b[0m\u001b[0;34m(\u001b[0m\u001b[0;34m\"run_step\"\u001b[0m\u001b[0;34m,\u001b[0m \u001b[0mrt_context\u001b[0m\u001b[0;34m,\u001b[0m \u001b[0;34m**\u001b[0m\u001b[0mexecute_kwargs\u001b[0m\u001b[0;34m)\u001b[0m\u001b[0;34m\u001b[0m\u001b[0;34m\u001b[0m\u001b[0m\n\u001b[0m\u001b[1;32m    347\u001b[0m \u001b[0;34m\u001b[0m\u001b[0m\n\u001b[1;32m    348\u001b[0m         \u001b[0mstore\u001b[0m\u001b[0;34m.\u001b[0m\u001b[0mwrite_output_vars\u001b[0m\u001b[0;34m(\u001b[0m\u001b[0mbatch\u001b[0m\u001b[0;34m,\u001b[0m \u001b[0mstep\u001b[0m\u001b[0;34m,\u001b[0m \u001b[0mmodel\u001b[0m\u001b[0;34m=\u001b[0m\u001b[0mmodel\u001b[0m\u001b[0;34m)\u001b[0m\u001b[0;34m\u001b[0m\u001b[0;34m\u001b[0m\u001b[0m\n",
      "\u001b[0;32m~/opt/miniconda3/envs/xsimlab/lib/python3.8/site-packages/xsimlab/model.py\u001b[0m in \u001b[0;36mexecute\u001b[0;34m(self, stage, runtime_context, hooks, validate, parallel, scheduler)\u001b[0m\n\u001b[1;32m    865\u001b[0m         \u001b[0;32melse\u001b[0m\u001b[0;34m:\u001b[0m\u001b[0;34m\u001b[0m\u001b[0;34m\u001b[0m\u001b[0m\n\u001b[1;32m    866\u001b[0m             \u001b[0;32mfor\u001b[0m \u001b[0mp_name\u001b[0m\u001b[0;34m,\u001b[0m \u001b[0mp_obj\u001b[0m \u001b[0;32min\u001b[0m \u001b[0mself\u001b[0m\u001b[0;34m.\u001b[0m\u001b[0m_processes\u001b[0m\u001b[0;34m.\u001b[0m\u001b[0mitems\u001b[0m\u001b[0;34m(\u001b[0m\u001b[0;34m)\u001b[0m\u001b[0;34m:\u001b[0m\u001b[0;34m\u001b[0m\u001b[0;34m\u001b[0m\u001b[0m\n\u001b[0;32m--> 867\u001b[0;31m                 \u001b[0mself\u001b[0m\u001b[0;34m.\u001b[0m\u001b[0m_execute_process\u001b[0m\u001b[0;34m(\u001b[0m\u001b[0mp_obj\u001b[0m\u001b[0;34m,\u001b[0m \u001b[0;34m*\u001b[0m\u001b[0mexecute_args\u001b[0m\u001b[0;34m)\u001b[0m\u001b[0;34m\u001b[0m\u001b[0;34m\u001b[0m\u001b[0m\n\u001b[0m\u001b[1;32m    868\u001b[0m \u001b[0;34m\u001b[0m\u001b[0m\n\u001b[1;32m    869\u001b[0m         \u001b[0mself\u001b[0m\u001b[0;34m.\u001b[0m\u001b[0m_call_hooks\u001b[0m\u001b[0;34m(\u001b[0m\u001b[0mhooks\u001b[0m\u001b[0;34m,\u001b[0m \u001b[0mruntime_context\u001b[0m\u001b[0;34m,\u001b[0m \u001b[0mstage\u001b[0m\u001b[0;34m,\u001b[0m \u001b[0;34m\"model\"\u001b[0m\u001b[0;34m,\u001b[0m \u001b[0;34m\"post\"\u001b[0m\u001b[0;34m)\u001b[0m\u001b[0;34m\u001b[0m\u001b[0;34m\u001b[0m\u001b[0m\n",
      "\u001b[0;32m~/opt/miniconda3/envs/xsimlab/lib/python3.8/site-packages/xsimlab/model.py\u001b[0m in \u001b[0;36m_execute_process\u001b[0;34m(self, p_obj, stage, runtime_context, hooks, validate, state)\u001b[0m\n\u001b[1;32m    731\u001b[0m \u001b[0;34m\u001b[0m\u001b[0m\n\u001b[1;32m    732\u001b[0m         \u001b[0mself\u001b[0m\u001b[0;34m.\u001b[0m\u001b[0m_call_hooks\u001b[0m\u001b[0;34m(\u001b[0m\u001b[0mhooks\u001b[0m\u001b[0;34m,\u001b[0m \u001b[0mruntime_context\u001b[0m\u001b[0;34m,\u001b[0m \u001b[0mstage\u001b[0m\u001b[0;34m,\u001b[0m \u001b[0;34m\"process\"\u001b[0m\u001b[0;34m,\u001b[0m \u001b[0;34m\"pre\"\u001b[0m\u001b[0;34m)\u001b[0m\u001b[0;34m\u001b[0m\u001b[0;34m\u001b[0m\u001b[0m\n\u001b[0;32m--> 733\u001b[0;31m         \u001b[0mout_state\u001b[0m \u001b[0;34m=\u001b[0m \u001b[0mexecutor\u001b[0m\u001b[0;34m.\u001b[0m\u001b[0mexecute\u001b[0m\u001b[0;34m(\u001b[0m\u001b[0mp_obj\u001b[0m\u001b[0;34m,\u001b[0m \u001b[0mstage\u001b[0m\u001b[0;34m,\u001b[0m \u001b[0mruntime_context\u001b[0m\u001b[0;34m,\u001b[0m \u001b[0mstate\u001b[0m\u001b[0;34m=\u001b[0m\u001b[0mstate\u001b[0m\u001b[0;34m)\u001b[0m\u001b[0;34m\u001b[0m\u001b[0;34m\u001b[0m\u001b[0m\n\u001b[0m\u001b[1;32m    734\u001b[0m         \u001b[0mself\u001b[0m\u001b[0;34m.\u001b[0m\u001b[0m_call_hooks\u001b[0m\u001b[0;34m(\u001b[0m\u001b[0mhooks\u001b[0m\u001b[0;34m,\u001b[0m \u001b[0mruntime_context\u001b[0m\u001b[0;34m,\u001b[0m \u001b[0mstage\u001b[0m\u001b[0;34m,\u001b[0m \u001b[0;34m\"process\"\u001b[0m\u001b[0;34m,\u001b[0m \u001b[0;34m\"post\"\u001b[0m\u001b[0;34m)\u001b[0m\u001b[0;34m\u001b[0m\u001b[0;34m\u001b[0m\u001b[0m\n\u001b[1;32m    735\u001b[0m \u001b[0;34m\u001b[0m\u001b[0m\n",
      "\u001b[0;32m~/opt/miniconda3/envs/xsimlab/lib/python3.8/site-packages/xsimlab/process.py\u001b[0m in \u001b[0;36mexecute\u001b[0;34m(self, obj, stage, runtime_context, state)\u001b[0m\n\u001b[1;32m    407\u001b[0m             \u001b[0;32mreturn\u001b[0m \u001b[0;34m{\u001b[0m\u001b[0;34m}\u001b[0m\u001b[0;34m\u001b[0m\u001b[0;34m\u001b[0m\u001b[0m\n\u001b[1;32m    408\u001b[0m         \u001b[0;32melse\u001b[0m\u001b[0;34m:\u001b[0m\u001b[0;34m\u001b[0m\u001b[0;34m\u001b[0m\u001b[0m\n\u001b[0;32m--> 409\u001b[0;31m             \u001b[0mexecutor\u001b[0m\u001b[0;34m.\u001b[0m\u001b[0mexecute\u001b[0m\u001b[0;34m(\u001b[0m\u001b[0mobj\u001b[0m\u001b[0;34m,\u001b[0m \u001b[0mruntime_context\u001b[0m\u001b[0;34m,\u001b[0m \u001b[0mstate\u001b[0m\u001b[0;34m=\u001b[0m\u001b[0mstate\u001b[0m\u001b[0;34m)\u001b[0m\u001b[0;34m\u001b[0m\u001b[0;34m\u001b[0m\u001b[0m\n\u001b[0m\u001b[1;32m    410\u001b[0m \u001b[0;34m\u001b[0m\u001b[0m\n\u001b[1;32m    411\u001b[0m             \u001b[0mskeys\u001b[0m \u001b[0;34m=\u001b[0m \u001b[0;34m[\u001b[0m\u001b[0mobj\u001b[0m\u001b[0;34m.\u001b[0m\u001b[0m__xsimlab_state_keys__\u001b[0m\u001b[0;34m[\u001b[0m\u001b[0mk\u001b[0m\u001b[0;34m]\u001b[0m \u001b[0;32mfor\u001b[0m \u001b[0mk\u001b[0m \u001b[0;32min\u001b[0m \u001b[0mself\u001b[0m\u001b[0;34m.\u001b[0m\u001b[0mout_vars\u001b[0m\u001b[0;34m]\u001b[0m\u001b[0;34m\u001b[0m\u001b[0;34m\u001b[0m\u001b[0m\n",
      "\u001b[0;32m~/opt/miniconda3/envs/xsimlab/lib/python3.8/site-packages/xsimlab/process.py\u001b[0m in \u001b[0;36mexecute\u001b[0;34m(self, obj, runtime_context, state)\u001b[0m\n\u001b[1;32m    283\u001b[0m         \u001b[0margs\u001b[0m \u001b[0;34m=\u001b[0m \u001b[0;34m[\u001b[0m\u001b[0mruntime_context\u001b[0m\u001b[0;34m[\u001b[0m\u001b[0mk\u001b[0m\u001b[0;34m]\u001b[0m \u001b[0;32mfor\u001b[0m \u001b[0mk\u001b[0m \u001b[0;32min\u001b[0m \u001b[0mself\u001b[0m\u001b[0;34m.\u001b[0m\u001b[0margs\u001b[0m\u001b[0;34m]\u001b[0m\u001b[0;34m\u001b[0m\u001b[0;34m\u001b[0m\u001b[0m\n\u001b[1;32m    284\u001b[0m \u001b[0;34m\u001b[0m\u001b[0m\n\u001b[0;32m--> 285\u001b[0;31m         \u001b[0mself\u001b[0m\u001b[0;34m.\u001b[0m\u001b[0mmeth\u001b[0m\u001b[0;34m(\u001b[0m\u001b[0mobj\u001b[0m\u001b[0;34m,\u001b[0m \u001b[0;34m*\u001b[0m\u001b[0margs\u001b[0m\u001b[0;34m)\u001b[0m\u001b[0;34m\u001b[0m\u001b[0;34m\u001b[0m\u001b[0m\n\u001b[0m\u001b[1;32m    286\u001b[0m \u001b[0;34m\u001b[0m\u001b[0m\n\u001b[1;32m    287\u001b[0m \u001b[0;34m\u001b[0m\u001b[0m\n",
      "\u001b[0;32m~/Documents/GitHub/phydra/examples/../phydra/processes/gekkocontext.py\u001b[0m in \u001b[0;36mrun_step\u001b[0;34m(self)\u001b[0m\n\u001b[1;32m     72\u001b[0m \u001b[0;34m\u001b[0m\u001b[0m\n\u001b[1;32m     73\u001b[0m         \u001b[0msolve_start\u001b[0m \u001b[0;34m=\u001b[0m \u001b[0mprocess_time\u001b[0m\u001b[0;34m(\u001b[0m\u001b[0;34m)\u001b[0m\u001b[0;34m\u001b[0m\u001b[0;34m\u001b[0m\u001b[0m\n\u001b[0;32m---> 74\u001b[0;31m         \u001b[0mself\u001b[0m\u001b[0;34m.\u001b[0m\u001b[0mm\u001b[0m\u001b[0;34m.\u001b[0m\u001b[0msolve\u001b[0m\u001b[0;34m(\u001b[0m\u001b[0mdisp\u001b[0m\u001b[0;34m=\u001b[0m\u001b[0;32mFalse\u001b[0m\u001b[0;34m)\u001b[0m  \u001b[0;31m# disp=True) # to print gekko output\u001b[0m\u001b[0;34m\u001b[0m\u001b[0;34m\u001b[0m\u001b[0m\n\u001b[0m\u001b[1;32m     75\u001b[0m         \u001b[0msolve_end\u001b[0m \u001b[0;34m=\u001b[0m \u001b[0mprocess_time\u001b[0m\u001b[0;34m(\u001b[0m\u001b[0;34m)\u001b[0m\u001b[0;34m\u001b[0m\u001b[0;34m\u001b[0m\u001b[0m\n\u001b[1;32m     76\u001b[0m \u001b[0;34m\u001b[0m\u001b[0m\n",
      "\u001b[0;32m~/opt/miniconda3/envs/xsimlab/lib/python3.8/site-packages/gekko/gekko.py\u001b[0m in \u001b[0;36msolve\u001b[0;34m(self, disp, debug, GUI, **kwargs)\u001b[0m\n\u001b[1;32m   2026\u001b[0m                     \u001b[0;32mtry\u001b[0m\u001b[0;34m:\u001b[0m\u001b[0;34m\u001b[0m\u001b[0;34m\u001b[0m\u001b[0m\n\u001b[1;32m   2027\u001b[0m                         \u001b[0mouts\u001b[0m\u001b[0;34m,\u001b[0m \u001b[0merrs\u001b[0m \u001b[0;34m=\u001b[0m \u001b[0mapp\u001b[0m\u001b[0;34m.\u001b[0m\u001b[0mcommunicate\u001b[0m\u001b[0;34m(\u001b[0m\u001b[0mtimeout\u001b[0m\u001b[0;34m=\u001b[0m\u001b[0mmax_time\u001b[0m\u001b[0;34m)\u001b[0m\u001b[0;34m\u001b[0m\u001b[0;34m\u001b[0m\u001b[0m\n\u001b[0;32m-> 2028\u001b[0;31m                     \u001b[0;32mexcept\u001b[0m \u001b[0mTimeoutExpired\u001b[0m\u001b[0;34m:\u001b[0m\u001b[0;34m\u001b[0m\u001b[0;34m\u001b[0m\u001b[0m\n\u001b[0m\u001b[1;32m   2029\u001b[0m                         \u001b[0mapp\u001b[0m\u001b[0;34m.\u001b[0m\u001b[0mkill\u001b[0m\u001b[0;34m(\u001b[0m\u001b[0;34m)\u001b[0m\u001b[0;34m\u001b[0m\u001b[0;34m\u001b[0m\u001b[0m\n\u001b[1;32m   2030\u001b[0m                         \u001b[0mouts\u001b[0m\u001b[0;34m,\u001b[0m \u001b[0merrs\u001b[0m \u001b[0;34m=\u001b[0m \u001b[0mapp\u001b[0m\u001b[0;34m.\u001b[0m\u001b[0mcommunicate\u001b[0m\u001b[0;34m(\u001b[0m\u001b[0;34m)\u001b[0m\u001b[0;34m\u001b[0m\u001b[0;34m\u001b[0m\u001b[0m\n",
      "\u001b[0;31mNameError\u001b[0m: name 'TimeoutExpired' is not defined"
     ]
    }
   ],
   "source": [
    "%%time\n",
    "from time import process_time\n",
    "\n",
    "with model:\n",
    "    solve1_start = process_time()\n",
    "    out_ds = in_ds.xsimlab.run()\n",
    "    solve1_end = process_time()\n",
    "    \n",
    "\n",
    "print(f\"Xsimlab Run done in {round(solve1_end-solve1_start,2)} seconds\")"
   ]
  },
  {
   "cell_type": "code",
   "execution_count": 11,
   "metadata": {
    "collapsed": false,
    "jupyter": {
     "outputs_hidden": false
    },
    "pycharm": {
     "is_executing": false,
     "name": "#%%\n"
    }
   },
   "outputs": [
    {
     "ename": "NameError",
     "evalue": "name 'out_ds' is not defined",
     "output_type": "error",
     "traceback": [
      "\u001b[0;31m---------------------------------------------------------------------------\u001b[0m",
      "\u001b[0;31mNameError\u001b[0m                                 Traceback (most recent call last)",
      "\u001b[0;32m<ipython-input-11-97b5287a081a>\u001b[0m in \u001b[0;36m<module>\u001b[0;34m\u001b[0m\n\u001b[0;32m----> 1\u001b[0;31m \u001b[0mout_ds\u001b[0m\u001b[0;34m\u001b[0m\u001b[0;34m\u001b[0m\u001b[0m\n\u001b[0m",
      "\u001b[0;31mNameError\u001b[0m: name 'out_ds' is not defined"
     ]
    }
   ],
   "source": [
    "out_ds"
   ]
  },
  {
   "cell_type": "code",
   "execution_count": null,
   "metadata": {
    "collapsed": false,
    "jupyter": {
     "outputs_hidden": false
    },
    "pycharm": {
     "is_executing": false,
     "name": "#%%\n"
    }
   },
   "outputs": [],
   "source": [
    "%%time\n",
    "out_ds.Env__comp_output.plot.line(x='time')  #, ylim=0)#, ylim=(0,2.5))  # (0,2.5)\n",
    "#out_ds.Env__comp_output.isel(components=slice(0,5)).sum(axis=0).plot.line(x='time')"
   ]
  },
  {
   "cell_type": "code",
   "execution_count": null,
   "metadata": {},
   "outputs": [],
   "source": [
    "out_ds.Env__forcing_output.plot.line(x='time')"
   ]
  },
  {
   "cell_type": "code",
   "execution_count": null,
   "metadata": {},
   "outputs": [],
   "source": [
    "out_ds.Env__forcing_output.sel(forcings='N0').plot(x='time')  #, time=np.arange(300,400)"
   ]
  },
  {
   "cell_type": "code",
   "execution_count": null,
   "metadata": {},
   "outputs": [],
   "source": [
    "out_ds.Env__flux_output.plot.line(x='time')#, ylim=(0,.5))"
   ]
  },
  {
   "cell_type": "code",
   "execution_count": null,
   "metadata": {},
   "outputs": [],
   "source": [
    "out_ds.Env__fxflux_output.plot.line(x='time')"
   ]
  },
  {
   "cell_type": "code",
   "execution_count": null,
   "metadata": {},
   "outputs": [],
   "source": []
  },
  {
   "cell_type": "code",
   "execution_count": null,
   "metadata": {},
   "outputs": [],
   "source": []
  },
  {
   "cell_type": "code",
   "execution_count": 48,
   "metadata": {},
   "outputs": [
    {
     "name": "stdout",
     "output_type": "stream",
     "text": [
      "Initializing Gekko Context\n",
      "Initializing Model Time\n",
      "dimensions of component N are initialized at 1\n",
      "Initializing component  N ['N']\n",
      "dimensions of component P are initialized at 1\n",
      "Initializing component  P ['P']\n",
      "dimensions of component Z are initialized at 1\n",
      "Initializing component  Z ['Z']\n",
      "ForcingBase is initialized: Flow\n",
      "forcing flux Outflux is initialized at ['N' 'P' 'Z']\n",
      "Initializing forcing flux Outflux for components ['N' 'P' 'Z']\n",
      "flux P_Growth is initialized for N --> P\n",
      "setup_dims (1, 1) P mu\n",
      "[[0.7]]\n",
      "setup_dims (1, 1) P halfsat_Growth\n",
      "[[0.6]]\n",
      "Initializing flux: P_Growth-N2P\n",
      "forcing flux QuadMortality is initialized at ['Z']\n",
      "Initializing forcing flux QuadMortality for components ['Z']\n",
      "ForcingBase is initialized: N0\n",
      "forcing flux LinMortality is initialized at ['P']\n",
      "Initializing forcing flux LinMortality for components ['P']\n",
      "forcing flux N0_influx is initialized at ['N']\n",
      "Initializing forcing flux N0_influx for components ['N']\n",
      "flux Grazing is initialized for P --> Z\n",
      "setup_dims (1, 1) Grazing-P2Z GrazePreference\n",
      "setup_dims (1, 1) Grazing-P2Z FoodAvailability\n",
      "setup_dims (1, 1) Grazing-P2Z BiomassGrazed\n",
      "\n",
      "\n",
      "Initializing Environment: \n",
      " components:['N', 'P', 'Z'] \n",
      " fluxes:['P_Growth-N-2-P', 'Grazing-P-2-Z']                 \n",
      " fx-fluxes:['Outflux-N', 'Outflux-P', 'Outflux-Z', 'QuadMortality-Z', 'LinMortality-P', 'N0_influx-N'] \n",
      " gekko context:Model fluxes dict stores: dict_items([('shape', {'env': 1}), ('comp_dims', {'N': 1, 'P': 1, 'Z': 1})])\n",
      "\n",
      "\n",
      "Assembling equation for component  N [[list([0, (-i3767), 0])]]\n",
      "Assembling equation for component  P [[list([0, 0, 0, (-i3779)])]]\n",
      "Assembling equation for component  Z [[list([0, 0, 0])]]\n",
      "SolveInit\n",
      "ModelSolve done in 0.03 seconds\n",
      "Storing output for component  N\n",
      "Storing output for component  P\n",
      "Storing output for component  Z\n",
      "storing flux to output:  Outflux\n",
      "storing flux: P_Growth-N2P\n",
      "storing flux to output:  QuadMortality\n",
      "storing flux to output:  LinMortality\n",
      "storing flux to output:  N0_influx\n",
      "storing flux: Grazing-P2Z\n",
      "Initializing Gekko Context\n",
      "Initializing Model Time\n",
      "dimensions of component N are initialized at 1\n",
      "Initializing component  N ['N']\n",
      "dimensions of component P are initialized at 2\n",
      "Initializing component  P ['P-0', 'P-1']\n",
      "dimensions of component Z are initialized at 1\n",
      "Initializing component  Z ['Z']\n",
      "ForcingBase is initialized: Flow\n",
      "forcing flux Outflux is initialized at ['N' 'P' 'Z']\n",
      "Initializing forcing flux Outflux for components ['N' 'P' 'Z']\n",
      "flux P_Growth is initialized for N --> P\n",
      "setup_dims (1, 2) P mu\n",
      "[[0.7  0.73]]\n",
      "setup_dims (1, 2) P halfsat_Growth\n",
      "[[0.6 0.7]]\n",
      "Initializing flux: P_Growth-N2P\n",
      "forcing flux QuadMortality is initialized at ['Z']\n",
      "Initializing forcing flux QuadMortality for components ['Z']\n",
      "ForcingBase is initialized: N0\n",
      "forcing flux LinMortality is initialized at ['P']\n",
      "Initializing forcing flux LinMortality for components ['P']\n",
      "forcing flux N0_influx is initialized at ['N']\n",
      "Initializing forcing flux N0_influx for components ['N']\n",
      "flux Grazing is initialized for P --> Z\n",
      "setup_dims (1, 2) Grazing-P2Z GrazePreference\n",
      "setup_dims (1, 2) Grazing-P2Z FoodAvailability\n",
      "setup_dims (1, 2) Grazing-P2Z BiomassGrazed\n",
      "\n",
      "\n",
      "Initializing Environment: \n",
      " components:['N', 'P-0', 'P-1', 'Z'] \n",
      " fluxes:['P_Growth-N-2-P0', 'P_Growth-N-2-P1', 'Grazing-P0-2-Z0', 'Grazing-P1-2-Z0']                 \n",
      " fx-fluxes:['Outflux-N', 'Outflux-P-0', 'Outflux-P-1', 'Outflux-Z', 'QuadMortality-Z', 'LinMortality-P-0', 'LinMortality-P-1', 'N0_influx-N'] \n",
      " gekko context:Model fluxes dict stores: dict_items([('shape', {'env': 1}), ('comp_dims', {'N': 1, 'P': 2, 'Z': 1})])\n",
      "\n",
      "\n",
      "Assembling equation for component  N [[list([0, (-i3797), (-i3801), 0])]]\n",
      "Assembling equation for component  P [[list([0, 0, 0, (-i3816)]) list([0, 0, 0, (-i3817)])]]\n",
      "Assembling equation for component  Z [[list([0, 0, 0, 0])]]\n",
      "SolveInit\n",
      "ModelSolve done in 0.04 seconds\n",
      "Storing output for component  N\n",
      "Storing output for component  P\n",
      "Storing output for component  Z\n",
      "storing flux to output:  Outflux\n",
      "storing flux: P_Growth-N2P\n",
      "storing flux to output:  QuadMortality\n",
      "storing flux to output:  LinMortality\n",
      "storing flux to output:  N0_influx\n",
      "storing flux: Grazing-P2Z\n",
      "Initializing Gekko Context\n",
      "Initializing Model Time\n",
      "dimensions of component N are initialized at 1\n",
      "Initializing component  N ['N']\n",
      "dimensions of component P are initialized at 5\n",
      "Initializing component  P ['P-0', 'P-1', 'P-2', 'P-3', 'P-4']\n",
      "dimensions of component Z are initialized at 1\n",
      "Initializing component  Z ['Z']\n",
      "ForcingBase is initialized: Flow\n",
      "forcing flux Outflux is initialized at ['N' 'P' 'Z']\n",
      "Initializing forcing flux Outflux for components ['N' 'P' 'Z']\n",
      "flux P_Growth is initialized for N --> P\n",
      "setup_dims (1, 5) P mu\n",
      "[[0.7    0.7075 0.715  0.7225 0.73  ]]\n",
      "setup_dims (1, 5) P halfsat_Growth\n",
      "[[0.6   0.625 0.65  0.675 0.7  ]]\n",
      "Initializing flux: P_Growth-N2P\n",
      "forcing flux QuadMortality is initialized at ['Z']\n",
      "Initializing forcing flux QuadMortality for components ['Z']\n",
      "ForcingBase is initialized: N0\n",
      "forcing flux LinMortality is initialized at ['P']\n",
      "Initializing forcing flux LinMortality for components ['P']\n",
      "forcing flux N0_influx is initialized at ['N']\n",
      "Initializing forcing flux N0_influx for components ['N']\n",
      "flux Grazing is initialized for P --> Z\n",
      "setup_dims (1, 5) Grazing-P2Z GrazePreference\n",
      "setup_dims (1, 5) Grazing-P2Z FoodAvailability\n",
      "setup_dims (1, 5) Grazing-P2Z BiomassGrazed\n",
      "\n",
      "\n",
      "Initializing Environment: \n",
      " components:['N', 'P-0', 'P-1', 'P-2', 'P-3', 'P-4', 'Z'] \n",
      " fluxes:['P_Growth-N-2-P0', 'P_Growth-N-2-P1', 'P_Growth-N-2-P2', 'P_Growth-N-2-P3', 'P_Growth-N-2-P4', 'Grazing-P0-2-Z0', 'Grazing-P1-2-Z0', 'Grazing-P2-2-Z0', 'Grazing-P3-2-Z0', 'Grazing-P4-2-Z0']                 \n",
      " fx-fluxes:['Outflux-N', 'Outflux-P-0', 'Outflux-P-1', 'Outflux-P-2', 'Outflux-P-3', 'Outflux-P-4', 'Outflux-Z', 'QuadMortality-Z', 'LinMortality-P-0', 'LinMortality-P-1', 'LinMortality-P-2', 'LinMortality-P-3', 'LinMortality-P-4', 'N0_influx-N'] \n",
      " gekko context:Model fluxes dict stores: dict_items([('shape', {'env': 1}), ('comp_dims', {'N': 1, 'P': 5, 'Z': 1})])\n",
      "\n",
      "\n",
      "Assembling equation for component  N [[list([0, (-i3847), (-i3851), (-i3855), (-i3859), (-i3863), 0])]]\n",
      "Assembling equation for component  P [[list([0, 0, 0, (-i3887)]) list([0, 0, 0, (-i3888)])\n",
      "  list([0, 0, 0, (-i3889)]) list([0, 0, 0, (-i3890)])\n",
      "  list([0, 0, 0, (-i3891)])]]\n",
      "Assembling equation for component  Z [[list([0, 0, 0, 0, 0, 0, 0])]]\n",
      "SolveInit\n",
      "ModelSolve done in 0.04 seconds\n",
      "Storing output for component  N\n",
      "Storing output for component  P\n",
      "Storing output for component  Z\n",
      "storing flux to output:  Outflux\n",
      "storing flux: P_Growth-N2P\n",
      "storing flux to output:  QuadMortality\n",
      "storing flux to output:  LinMortality\n",
      "storing flux to output:  N0_influx\n",
      "storing flux: Grazing-P2Z\n"
     ]
    }
   ],
   "source": [
    "with model:\n",
    "    out1_ds = in_ds.xsimlab.update_vars(input_vars={'P':{'dim':1,'init':.5/1},\n",
    "                                                   'Grazing':{'Imax':.5,\n",
    "                                                   'halfsat':1.5,\n",
    "                                                   'R_label':'P',\n",
    "                                                   'C_label':'Z'}}).xsimlab.run()\n",
    "    out2_ds = in_ds.xsimlab.update_vars(input_vars={'P':{'dim':2,'init':.5/2},\n",
    "                                                   'Grazing':{'Imax':.5,\n",
    "                                                   'halfsat':1.5/2,\n",
    "                                                   'R_label':'P',\n",
    "                                                   'C_label':'Z'}}).xsimlab.run()\n",
    "    out5_ds = in_ds.xsimlab.update_vars(input_vars={'P':{'dim':5,'init':.5/5},\n",
    "                                                   'Grazing':{'Imax':.5,\n",
    "                                                   'halfsat':1.5/5,\n",
    "                                                   'R_label':'P',\n",
    "                                                   'C_label':'Z'}}).xsimlab.run()"
   ]
  },
  {
   "cell_type": "code",
   "execution_count": 49,
   "metadata": {},
   "outputs": [
    {
     "data": {
      "text/plain": [
       "[<matplotlib.lines.Line2D at 0x11c53b310>,\n",
       " <matplotlib.lines.Line2D at 0x11c53bc10>,\n",
       " <matplotlib.lines.Line2D at 0x11c53b7c0>]"
      ]
     },
     "execution_count": 49,
     "metadata": {},
     "output_type": "execute_result"
    },
    {
     "data": {
      "image/png": "[encoded data removed]",
      "text/plain": [
       "<Figure size 432x288 with 1 Axes>"
      ]
     },
     "metadata": {
      "needs_background": "light"
     },
     "output_type": "display_data"
    }
   ],
   "source": [
    "out1_ds.Env__comp_output.plot.line(x='time')"
   ]
  },
  {
   "cell_type": "code",
   "execution_count": 50,
   "metadata": {},
   "outputs": [
    {
     "data": {
      "text/plain": [
       "[<matplotlib.lines.Line2D at 0x11da87b50>,\n",
       " <matplotlib.lines.Line2D at 0x11da87be0>,\n",
       " <matplotlib.lines.Line2D at 0x11da87ee0>,\n",
       " <matplotlib.lines.Line2D at 0x11da871c0>]"
      ]
     },
     "execution_count": 50,
     "metadata": {},
     "output_type": "execute_result"
    },
    {
     "data": {
      "image/png": "[encoded data removed]",
      "text/plain": [
       "<Figure size 432x288 with 1 Axes>"
      ]
     },
     "metadata": {
      "needs_background": "light"
     },
     "output_type": "display_data"
    }
   ],
   "source": [
    "out2_ds.Env__comp_output.plot.line(x='time')"
   ]
  },
  {
   "cell_type": "code",
   "execution_count": 51,
   "metadata": {},
   "outputs": [
    {
     "data": {
      "text/plain": [
       "[<matplotlib.lines.Line2D at 0x11fe6c9d0>,\n",
       " <matplotlib.lines.Line2D at 0x11fe6ca00>,\n",
       " <matplotlib.lines.Line2D at 0x11fe6c430>,\n",
       " <matplotlib.lines.Line2D at 0x11fe6cca0>,\n",
       " <matplotlib.lines.Line2D at 0x11fe6ca60>,\n",
       " <matplotlib.lines.Line2D at 0x11fe6cf40>,\n",
       " <matplotlib.lines.Line2D at 0x11fe6c100>]"
      ]
     },
     "execution_count": 51,
     "metadata": {},
     "output_type": "execute_result"
    },
    {
     "data": {
      "image/png": "[encoded data removed]",
      "text/plain": [
       "<Figure size 432x288 with 1 Axes>"
      ]
     },
     "metadata": {
      "needs_background": "light"
     },
     "output_type": "display_data"
    }
   ],
   "source": [
    "out5_ds.Env__comp_output.plot.line(x='time')"
   ]
  },
  {
   "cell_type": "code",
   "execution_count": null,
   "metadata": {},
   "outputs": [],
   "source": []
  },
  {
   "cell_type": "code",
   "execution_count": null,
   "metadata": {},
   "outputs": [],
   "source": []
  }
 ],
 "metadata": {
  "kernelspec": {
   "display_name": "Python 3",
   "language": "python",
   "name": "python3"
  },
  "language_info": {
   "codemirror_mode": {
    "name": "ipython",
    "version": 3
   },
   "file_extension": ".py",
   "mimetype": "text/x-python",
   "name": "python",
   "nbconvert_exporter": "python",
   "pygments_lexer": "ipython3",
   "version": "3.8.5"
  }
 },
 "nbformat": 4,
 "nbformat_minor": 4
}
